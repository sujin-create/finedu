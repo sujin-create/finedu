{
  "nbformat": 4,
  "nbformat_minor": 0,
  "metadata": {
    "colab": {
      "name": "챗봇_naverapi_ex.ipynb",
      "provenance": [],
      "collapsed_sections": [],
      "authorship_tag": "ABX9TyMEc+vADuvgz9NFlr0sI0tR",
      "include_colab_link": true
    },
    "kernelspec": {
      "name": "python3",
      "display_name": "Python 3"
    },
    "language_info": {
      "name": "python"
    }
  },
  "cells": [
    {
      "cell_type": "markdown",
      "metadata": {
        "id": "view-in-github",
        "colab_type": "text"
      },
      "source": [
        "<a href=\"https://colab.research.google.com/github/sujin-create/finedu/blob/main/finedu/chatbot/clova/%EC%B1%97%EB%B4%87_naverapi_ex.ipynb\" target=\"_parent\"><img src=\"https://colab.research.google.com/assets/colab-badge.svg\" alt=\"Open In Colab\"/></a>"
      ]
    },
    {
      "cell_type": "code",
      "execution_count": 21,
      "metadata": {
        "id": "XH9aGaORNn75",
        "colab": {
          "base_uri": "https://localhost:8080/"
        },
        "outputId": "193a0958-4c99-489c-a233-37c7bcdc9d77"
      },
      "outputs": [
        {
          "output_type": "stream",
          "name": "stdout",
          "text": [
            "## Timestamp :  1658864047342\n",
            "## Signature :  b'frd5DbOpO8Vga6iKifyo90d+WOW3RNwmxDX40ePbicI='\n",
            "## headers  {'Content-Type': 'application/json;UTF-8', 'X-NCP-CHATBOT_SIGNATURE': b'frd5DbOpO8Vga6iKifyo90d+WOW3RNwmxDX40ePbicI='}\n",
            "## Request Body :  b'{\"version\": \"v2\", \"userId\": \"U47b00b58c90f8e47428af8b7bddcda3d1111111\", \"timestamp\": 1658864047342, \"bubbles\": [{\"type\": \"text\", \"data\": {\"description\": \"\\\\uc548\\\\ub155\"}}], \"event\": \"send\"}'\n",
            "200\n",
            "{\"version\":\"v2\",\"userId\":\"U47b00b58c90f8e47428af8b7bddcda3d1111111\",\"timestamp\":1658864048527,\"bubbles\":[{\"type\":\"text\",\"data\":{\"description\":\"네, 안녕하세요 어르신, 원하시는 서비스를 말씀해주세요\"},\"information\":[{\"key\":\"chatType\",\"value\":\"TEXT\"},{\"key\":\"chatType\",\"value\":\"TEXT\"},{\"key\":\"score\",\"value\":\"1.0\"},{\"key\":\"scenarioName\",\"value\":\"인사\"},{\"key\":\"conversationTypes\",\"value\":\"첫대화\"},{\"key\":\"endOfBubble\",\"value\":\"endOfBubble\"},{\"key\":\"matchingType\",\"value\":\"exactMatch\"},{\"key\":\"domainCode\",\"value\":\"chatbot_finance\"}],\"context\":[]}],\"scenario\":{\"name\":\"인사\",\"chatUtteranceSetId\":3873797,\"intent\":[\"첫대화\"]},\"entities\":[],\"keywords\":[],\"conversation\":{\"scenarioName\":\"인사\",\"chatUtteranceSetId\":3873797,\"types\":[\"첫대화\"]},\"normalizer\":\"null\",\"event\":\"send\"}\n"
          ]
        }
      ],
      "source": [
        "import hashlib\n",
        "import hmac\n",
        "import base64\n",
        "import time\n",
        "import requests\n",
        "import json\n",
        "\n",
        "\n",
        "class ChatbotMessageSender:\n",
        "\n",
        "    # chatbot api gateway url\n",
        "    ep_path = ''\n",
        "    # chatbot custom secret key\n",
        "    secret_key = ''\n",
        "\n",
        "    def req_message_send(self):\n",
        "\n",
        "        timestamp = self.get_timestamp()\n",
        "        request_body = {\n",
        "            'version': 'v2', #v2\n",
        "            'userId': 'U47b00b58c90f8e47428af8b7bddcda3d1111111',\n",
        "            'timestamp': timestamp,\n",
        "            'bubbles': [\n",
        "                {\n",
        "                    'type': 'text',\n",
        "                    'data': {\n",
        "                        'description': '안녕'\n",
        "                    }\n",
        "                }\n",
        "            ],\n",
        "            'event': 'send'\n",
        "        }\n",
        "\n",
        "        ## Request body\n",
        "        encode_request_body = json.dumps(request_body).encode('UTF-8')\n",
        "\n",
        "        ## make signature\n",
        "        signature = self.make_signature(self.secret_key, encode_request_body)\n",
        "\n",
        "        ## headers\n",
        "        custom_headers = {\n",
        "            'Content-Type': 'application/json;UTF-8',\n",
        "            'X-NCP-CHATBOT_SIGNATURE': signature\n",
        "        }\n",
        "\n",
        "        print(\"## Timestamp : \", timestamp)\n",
        "        print(\"## Signature : \", signature)\n",
        "        print(\"## headers \", custom_headers)\n",
        "        print(\"## Request Body : \", encode_request_body)\n",
        "\n",
        "        ## POST Request\n",
        "        response = requests.post(headers=custom_headers, url=self.ep_path, data=encode_request_body)\n",
        "\n",
        "        return response\n",
        "\n",
        "    @staticmethod\n",
        "    def get_timestamp():\n",
        "        timestamp = int(time.time() * 1000)\n",
        "        return timestamp\n",
        "\n",
        "    @staticmethod\n",
        "    def make_signature(secret_key, request_body):\n",
        "\n",
        "        secret_key_bytes = bytes(secret_key, 'UTF-8')\n",
        "\n",
        "        signing_key = base64.b64encode(hmac.new(secret_key_bytes, request_body, digestmod=hashlib.sha256).digest())\n",
        "\n",
        "        return signing_key\n",
        "\n",
        "\n",
        "if __name__ == '__main__':\n",
        "\n",
        "    res = ChatbotMessageSender().req_message_send()\n",
        "\n",
        "    print(res.status_code)\n",
        "    if(res.status_code == 200):\n",
        "        print(res.text)\n",
        "        #print(res.read().decode(\"UTF-8\"))\n"
      ]
    }
  ]
}