{
  "nbformat": 4,
  "nbformat_minor": 0,
  "metadata": {
    "colab": {
      "name": "금융 데이터 분석 강의 3강. 웹 스크래핑을 사용한 데이터 분석.ipynb",
      "provenance": [],
      "toc_visible": true,
      "collapsed_sections": [
        "Wlqbl0SEvqx0",
        "72oYlv8fxUXj",
        "x-qtK074zasR"
      ],
      "include_colab_link": true
    },
    "kernelspec": {
      "name": "python3",
      "display_name": "Python 3"
    },
    "language_info": {
      "name": "python"
    }
  },
  "cells": [
    {
      "cell_type": "markdown",
      "metadata": {
        "id": "view-in-github",
        "colab_type": "text"
      },
      "source": [
        "<a href=\"https://colab.research.google.com/github/sujin-create/finedu/blob/main/%EA%B8%88%EC%9C%B5%EB%8D%B0%EC%9D%B4%ED%84%B0%20%EB%B6%84%EC%84%9D%EC%9D%84%20%EC%9C%84%ED%95%9C%20%ED%8C%8C%EC%9D%B4%EC%8D%AC%20%ED%99%9C%EC%9A%A9%EB%B2%95/%EA%B8%88%EC%9C%B5_%EB%8D%B0%EC%9D%B4%ED%84%B0_%EB%B6%84%EC%84%9D_%EA%B0%95%EC%9D%98_3%EA%B0%95_%EC%9B%B9_%EC%8A%A4%ED%81%AC%EB%9E%98%ED%95%91%EC%9D%84_%EC%82%AC%EC%9A%A9%ED%95%9C_%EB%8D%B0%EC%9D%B4%ED%84%B0_%EB%B6%84%EC%84%9D.ipynb\" target=\"_parent\"><img src=\"https://colab.research.google.com/assets/colab-badge.svg\" alt=\"Open In Colab\"/></a>"
      ]
    },
    {
      "cell_type": "markdown",
      "metadata": {
        "id": "xMbGBlk8LQZo"
      },
      "source": [
        "#1. 크롤링"
      ]
    },
    {
      "cell_type": "markdown",
      "metadata": {
        "id": "och67SveLOzB"
      },
      "source": [
        "크롤링이란 웹 페이지로부터 데이터를 추출하는 행위를 말합니다. 그래서 크롤링하는 소프트웨어는 크롤러(crawler)라고 부르지요. 크롤링에 대해서 본격적으로 들어가기 전에, 우리가 데이터를 수집할 웹에 대해서 먼저 이해해보겠습니다."
      ]
    },
    {
      "cell_type": "markdown",
      "metadata": {
        "id": "wILl5eGILYYo"
      },
      "source": [
        "우리는 인터넷 익스플로러, 크롬 등과 같은 **'인터넷 브라우저'**를 사용하여 인터넷 세상을 돌아다닙니다. 인터넷 브라우저를 통해서 NAVER, FACEBOOK과 같은 깔끔하고 예쁜 웹 사이트들을 방문할 수 있지요. 그런데 이 웹 사이트들은 실은 HTML이라는 웹 문서로 구성되어져 있습니다."
      ]
    },
    {
      "cell_type": "markdown",
      "metadata": {
        "id": "54ylp2HdLdGx"
      },
      "source": [
        "#2. HTML"
      ]
    },
    {
      "cell_type": "markdown",
      "metadata": {
        "id": "Hq5PDFHALeCK"
      },
      "source": [
        "### HTML이란?\n",
        "\n",
        "웹 페이지를 만들기 위한 언어로 웹 브라우저에서 동작하는 언어입니다.\n",
        "\n",
        "- HT - HyperText, 문서와 문서가 링크로 연결되어져 있다.\n",
        "- M - Markup, 태그로 이루어져있다.\n",
        "- L - Language\n",
        "\n",
        "아래는 간단하게 작성된 HTML 문서의 예제입니다\n",
        "\n",
        "```html\n",
        "<!DOCTYPE html>\n",
        "<html>\n",
        "  <head>\n",
        "    <title> HTML 문서 </title>\n",
        "  </head>\n",
        "  <body>\n",
        "    <h1> 이것은 HTML 문서입니다! </h1>\n",
        "  </body>\n",
        "</html>\n",
        "```\n",
        "\n",
        "HTML 문서는 정해진 문법에 의해서 작성되어져 있습니다. 물론, 네이버와 같은 웹 사이트들의 HTML 문서는 위의 간단한 예제보다는 훨씬 복잡한 구조를 가지고 있겠지요? 웹 페이지에서 마우스 우클릭 후에 '소스 보기'를 클릭하면 HTML 문서의 소스 코드를 확인할 수 있습니다."
      ]
    },
    {
      "cell_type": "markdown",
      "metadata": {
        "id": "yG2-0KftLs53"
      },
      "source": [
        "http://www.naver.com 으로 이동하여 소스 코드를 확인해봅시다."
      ]
    },
    {
      "cell_type": "markdown",
      "metadata": {
        "id": "RESmTPsQLjGR"
      },
      "source": [
        "아래는 네이버의 HTML 소스 코드 중 일부를 발췌했습니다.\n",
        "\n",
        "```html\n",
        "<div class=\"direct_area\">\n",
        "<a href=\"http://news.naver.com/\" class=\"link_news\" data-clk=\"newshome\">네이버뉴스</a>\n",
        "<a href=\"http://entertain.naver.com/home\" class=\"link_direct\" data-clk=\"entertainment\">연예</a>\n",
        "<a href=\"http://sports.news.naver.com/\" class=\"link_direct\" data-clk=\"sports\">스포츠</a>\n",
        "</div>\n",
        "```\n",
        "\n",
        "위와 같이 수많은 꺽쇠들의 조합으로 구성된 것들을 **태그(Tag)**라고 합니다. 위의 HTML 코드는 여러 개의 중첩된 태그로 구성되어져 있는 셈이죠. \\<div> 태그, \\<a> 태그 등과 같이요."
      ]
    },
    {
      "cell_type": "markdown",
      "metadata": {
        "id": "Dv_djpR8LoJK"
      },
      "source": [
        "### 태그란?\n",
        "\n",
        "- 태그란 정보를 정의하는 형식을 말해요.\n",
        "\n",
        "### 일반적인 태그의 형식\n",
        "\n",
        "- <태그명 속성명1=\"속성값1\" 속성명2=\"속성값2\"> 콘텐츠 </태그명>\n",
        "\n",
        " : 태그는 콘텐츠를 감싸서 그 정보의 성격과 의미를 정의합니다.\n",
        "\n",
        "    ex) \\<div> ~ \\</div>"
      ]
    },
    {
      "cell_type": "markdown",
      "metadata": {
        "id": "0HyyjLyqI8Am"
      },
      "source": [
        "#3. BeautifulSoup"
      ]
    },
    {
      "cell_type": "code",
      "metadata": {
        "colab": {
          "base_uri": "https://localhost:8080/"
        },
        "id": "50MGTzxHJGEi",
        "outputId": "7b02d8e6-c239-4eac-ecd8-f91afadd85cb"
      },
      "source": [
        "!pip install beautifulSoup4"
      ],
      "execution_count": 1,
      "outputs": [
        {
          "output_type": "stream",
          "name": "stdout",
          "text": [
            "Looking in indexes: https://pypi.org/simple, https://us-python.pkg.dev/colab-wheels/public/simple/\n",
            "Requirement already satisfied: beautifulSoup4 in /usr/local/lib/python3.7/dist-packages (4.6.3)\n"
          ]
        }
      ]
    },
    {
      "cell_type": "code",
      "metadata": {
        "id": "IustN_vwJHpG"
      },
      "source": [
        "# bs4라는 패키지로부터 BeautifulSoup라는 모듈을 임포트\n",
        "from bs4 import BeautifulSoup"
      ],
      "execution_count": 2,
      "outputs": []
    },
    {
      "cell_type": "markdown",
      "metadata": {
        "id": "r1yJ_bPsJKtl"
      },
      "source": [
        "간단한 실습을 통해 BeautifulSoup4의 사용법을 익혀봅시다. 설치할 때는 beautifulSoup4라는 이름으로 설치했지만, 임포트할 때는 from **bs4**라고 적어주셔야 합니다. 설치할 때의 이름과 임포트할 때의 패키지 이름이 항상 동일하지는 않습니다.\n",
        "\n",
        "이는 BeautifulSoup라는 패키지에서 정한 규칙이니까 따라주세요."
      ]
    },
    {
      "cell_type": "code",
      "metadata": {
        "id": "acRiNDAoJL8w"
      },
      "source": [
        "# HTML 문서를 문자열 html로 저장\n",
        "html = '''\n",
        "<html> \n",
        "    <head> \n",
        "    </head> \n",
        "    <body> \n",
        "        <h1> 장바구니\n",
        "            <p id='clothes' class='name' title='라운드티'> 라운드티\n",
        "                <span class = 'number'> 25 </span> \n",
        "                <span class = 'price'> 29000 </span> \n",
        "                <span class = 'menu'> 의류</span> \n",
        "                <a href = 'http://www.naver.com'> 바로가기 </a> \n",
        "            </p> \n",
        "            <p id='watch' class='name' title='시계'> 시계\n",
        "                <span class = 'number'> 28 </span>\n",
        "                <span class = 'price'> 32000 </span> \n",
        "                <span class = 'menu'> 악세서리 </span> \n",
        "                <a href = 'http://www.facebook.com'> 바로가기 </a> \n",
        "            </p> \n",
        "        </h1> \n",
        "    </body> \n",
        "</html>\n",
        "'''"
      ],
      "execution_count": 3,
      "outputs": []
    },
    {
      "cell_type": "code",
      "metadata": {
        "id": "TRiQp0CHMJuB"
      },
      "source": [
        "# BeautifulSoup 인스턴스 생성. 두번째 매개변수는 분석할 분석기(parser)의 종류.\n",
        "soup = BeautifulSoup(html, 'html.parser')"
      ],
      "execution_count": 4,
      "outputs": []
    },
    {
      "cell_type": "markdown",
      "metadata": {
        "id": "VpdQJJcFJNoU"
      },
      "source": [
        "맨 아랫 줄에 있는 코드를 볼까요? BeautifulSoup(입력 문자열, 'html.parser')라는 코드는 이 입력은 HTML 문법으로 작성되어져 있으니 HTML 문법을 기반으로 파싱하라는 의미입니다. 이렇게 인스턴스를 생성하고나면 본격적으로 정보를 가져오는 것은 select()를 가지고 수행합니다.\n",
        "\n",
        "인스턴스의 이름은 soup이므로 soup.select()를 통해서 정보를 가져옵니다. select()의 사용 방법은 요약하자면 soup.select('찾는 정보')입니다. 구체적인 예시는 다음과 같습니다.\n",
        "\n",
        "- soup.select('태그명') : 태그를 입력으로 사용할 경우\n",
        "- soup.select('.클래스명') : 클래스를 입력으로 사용할 경우  \n",
        "- soup.select('#아이디') : ID를 입력으로 사용할 경우  \n",
        "- soup.select('상위태그 하위태그') : 자손 관계 (띄어쓰기)\n",
        "- soup.select('상위태그 > 하위태그') : 자식 관계 ( > )\n",
        "\n",
        "실습을 통해 이해해볼까요? 태그명 <body>를 입력으로 내부 정보를 가져와보겠습니다."
      ]
    },
    {
      "cell_type": "code",
      "metadata": {
        "colab": {
          "base_uri": "https://localhost:8080/"
        },
        "id": "6WDdA4hNJPJS",
        "outputId": "50bb72b7-d253-40e4-8790-3b05a8512e0b"
      },
      "source": [
        "# <body> 태그를 입력\n",
        "print(soup.select('body'))"
      ],
      "execution_count": 5,
      "outputs": [
        {
          "output_type": "stream",
          "name": "stdout",
          "text": [
            "[<body>\n",
            "<h1> 장바구니\n",
            "            <p class=\"name\" id=\"clothes\" title=\"라운드티\"> 라운드티\n",
            "                <span class=\"number\"> 25 </span>\n",
            "<span class=\"price\"> 29000 </span>\n",
            "<span class=\"menu\"> 의류</span>\n",
            "<a href=\"http://www.naver.com\"> 바로가기 </a>\n",
            "</p>\n",
            "<p class=\"name\" id=\"watch\" title=\"시계\"> 시계\n",
            "                <span class=\"number\"> 28 </span>\n",
            "<span class=\"price\"> 32000 </span>\n",
            "<span class=\"menu\"> 악세서리 </span>\n",
            "<a href=\"http://www.facebook.com\"> 바로가기 </a>\n",
            "</p>\n",
            "</h1>\n",
            "</body>]\n"
          ]
        }
      ]
    },
    {
      "cell_type": "markdown",
      "metadata": {
        "id": "A3xCHjABJRty"
      },
      "source": [
        "<p> 내부의 정보들을 모두 가져온 것을 확인할 수 있습니다.\n",
        "\n",
        "이번에는 자손 관계를 입력으로 하여 class가 menu인 경우만을 출력해보겠습니다. 태그명 h1 자손인 클래스 .name의 자손인 클래스 .menu의 정보를 찾으면?"
      ]
    },
    {
      "cell_type": "code",
      "metadata": {
        "colab": {
          "base_uri": "https://localhost:8080/"
        },
        "id": "xry5I0X1JTNS",
        "outputId": "57b68589-38fb-4b47-d907-997293bfbdda"
      },
      "source": [
        "print(soup.select('h1 .name .menu'))"
      ],
      "execution_count": 6,
      "outputs": [
        {
          "output_type": "stream",
          "name": "stdout",
          "text": [
            "[<span class=\"menu\"> 의류</span>, <span class=\"menu\"> 악세서리 </span>]\n"
          ]
        }
      ]
    },
    {
      "cell_type": "markdown",
      "metadata": {
        "id": "X1B2f88SJVDX"
      },
      "source": [
        "class가 menu인 부분의 정보를 잘 가져온 것을 확인할 수 있습니다.\n",
        "\n",
        "이번에는 의도적으로 잘못된 입력을 넣어볼게요. 태그명 h1은 태그명 html의 자손이기는 하지만, 자식은 아닙니다. 만약, html 자식인 h1의 정보를 가져오라고 하면 어떻게 될까요?"
      ]
    },
    {
      "cell_type": "code",
      "metadata": {
        "colab": {
          "base_uri": "https://localhost:8080/"
        },
        "id": "5U-QNtVCJVpU",
        "outputId": "75bae04a-b4a2-49c9-9d4a-c6a9f80c5ae4"
      },
      "source": [
        "print(soup.select('html > h1'))"
      ],
      "execution_count": 7,
      "outputs": [
        {
          "output_type": "stream",
          "name": "stdout",
          "text": [
            "[]\n"
          ]
        }
      ]
    },
    {
      "cell_type": "markdown",
      "metadata": {
        "id": "AMNZd9ptJX6G"
      },
      "source": [
        "아무런 정보도 출력되지 않습니다."
      ]
    },
    {
      "cell_type": "markdown",
      "metadata": {
        "id": "MamoLYL8JEUr"
      },
      "source": [
        "#4. 크롤링 및 차트 그리기"
      ]
    },
    {
      "cell_type": "code",
      "metadata": {
        "id": "GigddRq8GEgm"
      },
      "source": [
        "import pandas as pd\n",
        "from datetime import datetime\n",
        "from matplotlib import dates as mdates\n",
        "import matplotlib.pyplot as plt"
      ],
      "execution_count": 8,
      "outputs": []
    },
    {
      "cell_type": "code",
      "metadata": {
        "id": "ItvbJoiyN8HH"
      },
      "source": [
        "import requests"
      ],
      "execution_count": 9,
      "outputs": []
    },
    {
      "cell_type": "code",
      "metadata": {
        "id": "MRBep5tKEYBf"
      },
      "source": [
        "url = 'https://finance.naver.com/item/sise_day.nhn?code=005930&page=1'\n",
        "#삼성전자종목 : 005930"
      ],
      "execution_count": 41,
      "outputs": []
    },
    {
      "cell_type": "markdown",
      "metadata": {
        "id": "ChwAPKSSKHnB"
      },
      "source": [
        "requests라는 패키지에 있는 get이라는 모듈(함수)에 url을 입력으로 하고, 이를 변수에 저장한 후에 변수.text를 하면 해당 URL의 HTML 코드를 받아올 수 있습니다. 앞서 만든 URL로 테스트를 해봅시다."
      ]
    },
    {
      "cell_type": "markdown",
      "metadata": {
        "id": "yQgmZmgGRTqi"
      },
      "source": [
        "* response = requests.get(url)  \n",
        "* response.text"
      ]
    },
    {
      "cell_type": "code",
      "metadata": {
        "id": "j8SOTwvLEG87"
      },
      "source": [
        "headers = {'user-agent': 'Mozilla/5.0 (Macintosh; Intel Mac OS X 10_15_7) AppleWebKit/537.36 (KHTML, like Gecko) Chrome/103.0.0.0 Safari/537.36'}\n",
        "#크롤링 하는 것을 막는 웹사이트를 크롤링하기 위해서는 headers에 user-agent를 넣어서 가져올 수 있음\n",
        "response = requests.get(url, headers=headers)"
      ],
      "execution_count": 42,
      "outputs": []
    },
    {
      "cell_type": "markdown",
      "metadata": {
        "id": "sZFpd0hoNxTn"
      },
      "source": [
        "headers에 대한 설명 : https://hogni.tistory.com/64  "
      ]
    },
    {
      "cell_type": "markdown",
      "metadata": {
        "id": "iH64D9VCRSUO"
      },
      "source": [
        "위의 링크에서 설명하고 있듯이, 유저 에이전트를 인자로 넣어서 get 함수를 사용하면 크롤링 방지 차단을 뚫고 크롤링을 할 수 있습니다. 위의 headers값은 강사의 브라우저에서 추출한 값으로 여러분들은 여러분들의 에이전트 정보를 추출해서 사용하셔도 됩니다!"
      ]
    },
    {
      "cell_type": "code",
      "metadata": {
        "id": "i3hfQWKaKOKz",
        "colab": {
          "base_uri": "https://localhost:8080/",
          "height": 268
        },
        "outputId": "17a5686d-2efc-4df4-c00a-3f32d46dad1d"
      },
      "source": [
        "response.text"
      ],
      "execution_count": 43,
      "outputs": [
        {
          "output_type": "execute_result",
          "data": {
            "text/plain": [
              "'\\n<html lang=\"ko\">\\n<head>\\n<meta http-equiv=\"Content-Type\" content=\"text/html; charset=euc-kr\">\\n<title>네이버 금융</title>\\n\\n<link rel=\"stylesheet\" type=\"text/css\" href=\"https://ssl.pstatic.net/imgstock/static.pc/20220615142521/css/newstock.css\">\\n<link rel=\"stylesheet\" type=\"text/css\" href=\"https://ssl.pstatic.net/imgstock/static.pc/20220615142521/css/common.css\">\\n<link rel=\"stylesheet\" type=\"text/css\" href=\"https://ssl.pstatic.net/imgstock/static.pc/20220615142521/css/layout.css\">\\n<link rel=\"stylesheet\" type=\"text/css\" href=\"https://ssl.pstatic.net/imgstock/static.pc/20220615142521/css/main.css\">\\n<link rel=\"stylesheet\" type=\"text/css\" href=\"https://ssl.pstatic.net/imgstock/static.pc/20220615142521/css/newstock2.css\">\\n<link rel=\"stylesheet\" type=\"text/css\" href=\"https://ssl.pstatic.net/imgstock/static.pc/20220615142521/css/newstock3.css\">\\n<link rel=\"stylesheet\" type=\"text/css\" href=\"https://ssl.pstatic.net/imgstock/static.pc/20220615142521/css/world.css\">\\n</head>\\n<body>\\n<script language=\"JavaScript\">\\nfunction mouseOver(obj){\\n  obj.style.backgroundColor=\"#f6f4e5\";\\n}\\nfunction mouseOut(obj){\\n  obj.style.backgroundColor=\"#ffffff\";\\n}\\n</script>\\n\\t\\t\\t\\t<h4 class=\"tlline2\"><strong><span class=\"red03\">일별</span>시세</strong></h4>\\t\\t\\t\\n\\t\\t\\t\\t<table cellspacing=\"0\" class=\"type2\">\\n\\t\\t\\t\\t<tr>\\n\\t\\t\\t\\t<th>날짜</th>\\n\\t\\t\\t\\t<th>종가</th>\\n\\t\\t\\t\\t<th>전일비</th>\\n\\t\\t\\t\\t<th>시가</th>\\n\\t\\t\\t\\t<th>고가</th>\\n\\t\\t\\t\\t<th>저가</th>\\n\\t\\t\\t\\t<th>거래량</th>\\n\\t\\t\\t\\t</tr>\\n\\t\\t\\t\\t<tr>\\n\\t\\t\\t\\t<td colspan=\"7\" height=\"8\"></td>\\n\\t\\t\\t\\t</tr>\\n\\n\\n\\t\\n\\t\\t\\t\\t<tr onMouseOver=\"mouseOver(this)\" onMouseOut=\"mouseOut(this)\">\\n\\t\\t\\t\\t<td align=\"center\"><span class=\"tah p10 gray03\">2022.07.05</span></td>\\n\\t\\t\\t\\t<td class=\"num\"><span class=\"tah p11\">57,200</span></td>\\n\\t\\t\\t\\t<td class=\"num\">\\n\\t\\t\\t\\t<img src=\"https://ssl.pstatic.net/imgstock/images/images4/ico_up.gif\" width=\"7\" height=\"6\" style=\"margin-right:4px;\" alt=\"상승\"><span class=\"tah p11 red02\">\\n\\t\\t\\t\\t100\\n\\t\\t\\t\\t</span>\\n\\t\\t\\t</td>\\n\\t\\t\\t\\t<td class=\"num\"><span class=\"tah p11\">57,600</span></td>\\n\\t\\t\\t\\t<td class=\"num\"><span class=\"tah p11\">58,200</span></td>\\n\\t\\t\\t\\t<td class=\"num\"><span class=\"tah p11\">57,200</span></td>\\n\\t\\t\\t\\t<td class=\"num\"><span class=\"tah p11\">14,063,753</span></td>\\n\\t\\t\\t\\t</tr>\\n\\t\\t\\n\\t\\t\\t\\n\\t\\t\\t\\t\\n\\t\\t\\t\\t\\t<tr onMouseOver=\"mouseOver(this)\" onMouseOut=\"mouseOut(this)\">\\n\\t\\t\\t\\t\\t<td align=\"center\"><span class=\"tah p10 gray03\">2022.07.04</span></td>\\n\\t\\t\\t\\t\\t<td class=\"num\"><span class=\"tah p11\">57,100</span></td>\\n\\t\\t\\t\\t\\t<td class=\"num\">\\n\\t\\t\\t\\t<img src=\"https://ssl.pstatic.net/imgstock/images/images4/ico_up.gif\" width=\"7\" height=\"6\" style=\"margin-right:4px;\" alt=\"상승\"><span class=\"tah p11 red02\">\\n\\t\\t\\t\\t900\\n\\t\\t\\t\\t</span>\\n\\t\\t\\t</td>\\n\\t\\t\\t\\t\\t<td class=\"num\"><span class=\"tah p11\">56,100</span></td>\\n\\t\\t\\t\\t\\t<td class=\"num\"><span class=\"tah p11\">57,400</span></td>\\n\\t\\t\\t\\t\\t<td class=\"num\"><span class=\"tah p11\">55,700</span></td>\\n\\t\\t\\t\\t\\t<td class=\"num\"><span class=\"tah p11\">17,807,126</span></td>\\n\\t\\t\\t\\t\\t</tr>\\n\\t\\t\\t\\t\\n\\t\\t\\t\\t\\n\\t\\t\\t\\n\\t\\t\\t\\n\\t\\t\\t\\n\\t\\t\\t\\n\\t\\t\\t\\n\\t\\n\\t\\t\\n\\t\\t\\t\\n\\t\\t\\t\\t\\n\\t\\t\\t\\t\\t<tr onMouseOver=\"mouseOver(this)\" onMouseOut=\"mouseOut(this)\">\\n\\t\\t\\t\\t\\t<td align=\"center\"><span class=\"tah p10 gray03\">2022.07.01</span></td>\\n\\t\\t\\t\\t\\t<td class=\"num\"><span class=\"tah p11\">56,200</span></td>\\n\\t\\t\\t\\t\\t<td class=\"num\">\\n\\t\\t\\t\\t<img src=\"https://ssl.pstatic.net/imgstock/images/images4/ico_down.gif\" width=\"7\" height=\"6\" style=\"margin-right:4px;\" alt=\"하락\"><span class=\"tah p11 nv01\">\\n\\t\\t\\t\\t800\\n\\t\\t\\t\\t</span>\\n\\t\\t\\t</td>\\n\\t\\t\\t\\t\\t<td class=\"num\"><span class=\"tah p11\">56,900</span></td>\\n\\t\\t\\t\\t\\t<td class=\"num\"><span class=\"tah p11\">57,500</span></td>\\n\\t\\t\\t\\t\\t<td class=\"num\"><span class=\"tah p11\">55,900</span></td>\\n\\t\\t\\t\\t\\t<td class=\"num\"><span class=\"tah p11\">24,982,097</span></td>\\n\\t\\t\\t\\t\\t</tr>\\n\\t\\t\\t\\t\\n\\t\\t\\t\\t\\n\\t\\t\\t\\n\\t\\t\\t\\n\\t\\t\\t\\n\\t\\t\\t\\n\\t\\t\\t\\n\\t\\n\\t\\t\\n\\t\\t\\t\\n\\t\\t\\t\\t\\n\\t\\t\\t\\t\\t<tr onMouseOver=\"mouseOver(this)\" onMouseOut=\"mouseOut(this)\">\\n\\t\\t\\t\\t\\t<td align=\"center\"><span class=\"tah p10 gray03\">2022.06.30</span></td>\\n\\t\\t\\t\\t\\t<td class=\"num\"><span class=\"tah p11\">57,000</span></td>\\n\\t\\t\\t\\t\\t<td class=\"num\">\\n\\t\\t\\t\\t<img src=\"https://ssl.pstatic.net/imgstock/images/images4/ico_down.gif\" width=\"7\" height=\"6\" style=\"margin-right:4px;\" alt=\"하락\"><span class=\"tah p11 nv01\">\\n\\t\\t\\t\\t1,000\\n\\t\\t\\t\\t</span>\\n\\t\\t\\t</td>\\n\\t\\t\\t\\t\\t<td class=\"num\"><span class=\"tah p11\">57,200</span></td>\\n\\t\\t\\t\\t\\t<td class=\"num\"><span class=\"tah p11\">57,600</span></td>\\n\\t\\t\\t\\t\\t<td class=\"num\"><span class=\"tah p11\">57,000</span></td>\\n\\t\\t\\t\\t\\t<td class=\"num\"><span class=\"tah p11\">18,915,142</span></td>\\n\\t\\t\\t\\t\\t</tr>\\n\\t\\t\\t\\t\\n\\t\\t\\t\\t\\n\\t\\t\\t\\n\\t\\t\\t\\n\\t\\t\\t\\n\\t\\t\\t\\n\\t\\t\\t\\n\\t\\n\\t\\t\\n\\t\\t\\t\\n\\t\\t\\t\\t\\n\\t\\t\\t\\t\\t<tr onMouseOver=\"mouseOver(this)\" onMouseOut=\"mouseOut(this)\">\\n\\t\\t\\t\\t\\t<td align=\"center\"><span class=\"tah p10 gray03\">2022.06.29</span></td>\\n\\t\\t\\t\\t\\t<td class=\"num\"><span class=\"tah p11\">58,000</span></td>\\n\\t\\t\\t\\t\\t<td class=\"num\">\\n\\t\\t\\t\\t<img src=\"https://ssl.pstatic.net/imgstock/images/images4/ico_down.gif\" width=\"7\" height=\"6\" style=\"margin-right:4px;\" alt=\"하락\"><span class=\"tah p11 nv01\">\\n\\t\\t\\t\\t1,400\\n\\t\\t\\t\\t</span>\\n\\t\\t\\t</td>\\n\\t\\t\\t\\t\\t<td class=\"num\"><span class=\"tah p11\">58,500</span></td>\\n\\t\\t\\t\\t\\t<td class=\"num\"><span class=\"tah p11\">58,800</span></td>\\n\\t\\t\\t\\t\\t<td class=\"num\"><span class=\"tah p11\">58,000</span></td>\\n\\t\\t\\t\\t\\t<td class=\"num\"><span class=\"tah p11\">14,677,138</span></td>\\n\\t\\t\\t\\t\\t</tr>\\n\\t\\t\\t\\t\\n\\t\\t\\t\\t\\n\\t\\t\\t\\n\\t\\t\\t\\n\\t\\t\\t\\n\\t\\t\\t\\n\\t\\t\\t\\t<tr>\\n\\t\\t\\t\\t<td colspan=\"7\" height=\"8\"></td>\\n\\t\\t\\t\\t</tr>\\n\\t\\t\\t\\t<tr>\\n\\t\\t\\t\\t<td colspan=\"7\" height=\"1\" bgcolor=\"#e1e1e1\"></td>\\n\\t\\t\\t\\t</tr>\\n\\t\\t\\t\\t<tr>\\n\\t\\t\\t\\t<td colspan=\"7\" height=\"8\"></td>\\n\\t\\t\\t\\t</tr>\\n\\t\\t\\t\\n\\t\\t\\t\\n\\t\\n\\t\\t\\n\\t\\t\\t\\n\\t\\t\\t\\t\\n\\t\\t\\t\\t\\t<tr onMouseOver=\"mouseOver(this)\" onMouseOut=\"mouseOut(this)\">\\n\\t\\t\\t\\t\\t<td align=\"center\"><span class=\"tah p10 gray03\">2022.06.28</span></td>\\n\\t\\t\\t\\t\\t<td class=\"num\"><span class=\"tah p11\">59,400</span></td>\\n\\t\\t\\t\\t\\t<td class=\"num\">\\n\\t\\t\\t\\t<img src=\"https://ssl.pstatic.net/imgstock/images/images4/ico_up.gif\" width=\"7\" height=\"6\" style=\"margin-right:4px;\" alt=\"상승\"><span class=\"tah p11 red02\">\\n\\t\\t\\t\\t600\\n\\t\\t\\t\\t</span>\\n\\t\\t\\t</td>\\n\\t\\t\\t\\t\\t<td class=\"num\"><span class=\"tah p11\">59,200</span></td>\\n\\t\\t\\t\\t\\t<td class=\"num\"><span class=\"tah p11\">59,500</span></td>\\n\\t\\t\\t\\t\\t<td class=\"num\"><span class=\"tah p11\">58,700</span></td>\\n\\t\\t\\t\\t\\t<td class=\"num\"><span class=\"tah p11\">13,540,538</span></td>\\n\\t\\t\\t\\t\\t</tr>\\n\\t\\t\\t\\t\\n\\t\\t\\t\\t\\n\\t\\t\\t\\n\\t\\t\\t\\n\\t\\t\\t\\n\\t\\t\\t\\n\\t\\t\\t\\n\\t\\n\\t\\t\\n\\t\\t\\t\\n\\t\\t\\t\\t\\n\\t\\t\\t\\t\\t<tr onMouseOver=\"mouseOver(this)\" onMouseOut=\"mouseOut(this)\">\\n\\t\\t\\t\\t\\t<td align=\"center\"><span class=\"tah p10 gray03\">2022.06.27</span></td>\\n\\t\\t\\t\\t\\t<td class=\"num\"><span class=\"tah p11\">58,800</span></td>\\n\\t\\t\\t\\t\\t<td class=\"num\">\\n\\t\\t\\t\\t<img src=\"https://ssl.pstatic.net/imgstock/images/images4/ico_up.gif\" width=\"7\" height=\"6\" style=\"margin-right:4px;\" alt=\"상승\"><span class=\"tah p11 red02\">\\n\\t\\t\\t\\t400\\n\\t\\t\\t\\t</span>\\n\\t\\t\\t</td>\\n\\t\\t\\t\\t\\t<td class=\"num\"><span class=\"tah p11\">59,000</span></td>\\n\\t\\t\\t\\t\\t<td class=\"num\"><span class=\"tah p11\">59,900</span></td>\\n\\t\\t\\t\\t\\t<td class=\"num\"><span class=\"tah p11\">58,300</span></td>\\n\\t\\t\\t\\t\\t<td class=\"num\"><span class=\"tah p11\">18,122,236</span></td>\\n\\t\\t\\t\\t\\t</tr>\\n\\t\\t\\t\\t\\n\\t\\t\\t\\t\\n\\t\\t\\t\\n\\t\\t\\t\\n\\t\\t\\t\\n\\t\\t\\t\\n\\t\\t\\t\\n\\t\\n\\t\\t\\n\\t\\t\\t\\n\\t\\t\\t\\t\\n\\t\\t\\t\\t\\t<tr onMouseOver=\"mouseOver(this)\" onMouseOut=\"mouseOut(this)\">\\n\\t\\t\\t\\t\\t<td align=\"center\"><span class=\"tah p10 gray03\">2022.06.24</span></td>\\n\\t\\t\\t\\t\\t<td class=\"num\"><span class=\"tah p11\">58,400</span></td>\\n\\t\\t\\t\\t\\t<td class=\"num\">\\n\\t\\t\\t\\t<img src=\"https://ssl.pstatic.net/imgstock/images/images4/ico_up.gif\" width=\"7\" height=\"6\" style=\"margin-right:4px;\" alt=\"상승\"><span class=\"tah p11 red02\">\\n\\t\\t\\t\\t1,000\\n\\t\\t\\t\\t</span>\\n\\t\\t\\t</td>\\n\\t\\t\\t\\t\\t<td class=\"num\"><span class=\"tah p11\">57,900</span></td>\\n\\t\\t\\t\\t\\t<td class=\"num\"><span class=\"tah p11\">59,100</span></td>\\n\\t\\t\\t\\t\\t<td class=\"num\"><span class=\"tah p11\">57,700</span></td>\\n\\t\\t\\t\\t\\t<td class=\"num\"><span class=\"tah p11\">23,256,103</span></td>\\n\\t\\t\\t\\t\\t</tr>\\n\\t\\t\\t\\t\\n\\t\\t\\t\\t\\n\\t\\t\\t\\n\\t\\t\\t\\n\\t\\t\\t\\n\\t\\t\\t\\n\\t\\t\\t\\n\\t\\n\\t\\t\\n\\t\\t\\t\\n\\t\\t\\t\\t\\n\\t\\t\\t\\t\\t<tr onMouseOver=\"mouseOver(this)\" onMouseOut=\"mouseOut(this)\">\\n\\t\\t\\t\\t\\t<td align=\"center\"><span class=\"tah p10 gray03\">2022.06.23</span></td>\\n\\t\\t\\t\\t\\t<td class=\"num\"><span class=\"tah p11\">57,400</span></td>\\n\\t\\t\\t\\t\\t<td class=\"num\">\\n\\t\\t\\t\\t<img src=\"https://ssl.pstatic.net/imgstock/images/images4/ico_down.gif\" width=\"7\" height=\"6\" style=\"margin-right:4px;\" alt=\"하락\"><span class=\"tah p11 nv01\">\\n\\t\\t\\t\\t200\\n\\t\\t\\t\\t</span>\\n\\t\\t\\t</td>\\n\\t\\t\\t\\t\\t<td class=\"num\"><span class=\"tah p11\">57,700</span></td>\\n\\t\\t\\t\\t\\t<td class=\"num\"><span class=\"tah p11\">58,000</span></td>\\n\\t\\t\\t\\t\\t<td class=\"num\"><span class=\"tah p11\">56,800</span></td>\\n\\t\\t\\t\\t\\t<td class=\"num\"><span class=\"tah p11\">28,338,608</span></td>\\n\\t\\t\\t\\t\\t</tr>\\n\\t\\t\\t\\t\\n\\t\\t\\t\\t\\n\\t\\t\\t\\n\\t\\t\\t\\n\\t\\t\\t\\n\\t\\t\\t\\n\\t\\t\\t\\n\\t\\n\\t\\t\\n\\t\\t\\t\\n\\t\\t\\t\\t\\n\\t\\t\\t\\t\\t<tr onMouseOver=\"mouseOver(this)\" onMouseOut=\"mouseOut(this)\">\\n\\t\\t\\t\\t\\t<td align=\"center\"><span class=\"tah p10 gray03\">2022.06.22</span></td>\\n\\t\\t\\t\\t\\t<td class=\"num\"><span class=\"tah p11\">57,600</span></td>\\n\\t\\t\\t\\t\\t<td class=\"num\">\\n\\t\\t\\t\\t<img src=\"https://ssl.pstatic.net/imgstock/images/images4/ico_down.gif\" width=\"7\" height=\"6\" style=\"margin-right:4px;\" alt=\"하락\"><span class=\"tah p11 nv01\">\\n\\t\\t\\t\\t900\\n\\t\\t\\t\\t</span>\\n\\t\\t\\t</td>\\n\\t\\t\\t\\t\\t<td class=\"num\"><span class=\"tah p11\">59,000</span></td>\\n\\t\\t\\t\\t\\t<td class=\"num\"><span class=\"tah p11\">59,100</span></td>\\n\\t\\t\\t\\t\\t<td class=\"num\"><span class=\"tah p11\">57,600</span></td>\\n\\t\\t\\t\\t\\t<td class=\"num\"><span class=\"tah p11\">23,334,687</span></td>\\n\\t\\t\\t\\t\\t</tr>\\n\\t\\t\\t\\t\\n\\t\\t\\t\\t\\n\\t\\t\\t\\n\\t\\t\\t\\n\\t\\t\\t\\n\\t\\t\\t\\n\\t\\t\\t\\n\\t\\n\\t\\t\\n\\t\\n\\t\\n\\t\\n\\n\\t\\t\\t\\t<tr>\\n\\t\\t\\t\\t<td colspan=\"7\" height=\"8\"></td>\\n\\t\\t\\t\\t</tr>\\n\\t\\t\\t\\t</table>\\n\\t\\t\\t\\t<!--- 페이지 네비게이션 시작--->\\n\\t\\t\\t\\t<table summary=\"페이지 네비게이션 리스트\" class=\"Nnavi\" align=\"center\">\\n\\t\\t\\t\\t<caption>페이지 네비게이션</caption>\\n\\t\\t\\t\\t<tr>\\t\\t\\n\\t\\t\\t\\n\\t\\t\\t\\t\\n                \\n                <td class=\"on\">\\n\\t\\t\\t\\t<a href=\"/item/sise_day.nhn?code=005930&amp;page=1\"  >1</a>\\n\\t\\t\\t\\t</td>\\n<td>\\n\\t\\t\\t\\t<a href=\"/item/sise_day.nhn?code=005930&amp;page=2\"  >2</a>\\n\\t\\t\\t\\t</td>\\n<td>\\n\\t\\t\\t\\t<a href=\"/item/sise_day.nhn?code=005930&amp;page=3\"  >3</a>\\n\\t\\t\\t\\t</td>\\n<td>\\n\\t\\t\\t\\t<a href=\"/item/sise_day.nhn?code=005930&amp;page=4\"  >4</a>\\n\\t\\t\\t\\t</td>\\n<td>\\n\\t\\t\\t\\t<a href=\"/item/sise_day.nhn?code=005930&amp;page=5\"  >5</a>\\n\\t\\t\\t\\t</td>\\n<td>\\n\\t\\t\\t\\t<a href=\"/item/sise_day.nhn?code=005930&amp;page=6\"  >6</a>\\n\\t\\t\\t\\t</td>\\n<td>\\n\\t\\t\\t\\t<a href=\"/item/sise_day.nhn?code=005930&amp;page=7\"  >7</a>\\n\\t\\t\\t\\t</td>\\n<td>\\n\\t\\t\\t\\t<a href=\"/item/sise_day.nhn?code=005930&amp;page=8\"  >8</a>\\n\\t\\t\\t\\t</td>\\n<td>\\n\\t\\t\\t\\t<a href=\"/item/sise_day.nhn?code=005930&amp;page=9\"  >9</a>\\n\\t\\t\\t\\t</td>\\n<td>\\n\\t\\t\\t\\t<a href=\"/item/sise_day.nhn?code=005930&amp;page=10\"  >10</a>\\n\\t\\t\\t\\t</td>\\n\\n                <td class=\"pgR\">\\n\\t\\t\\t\\t<a href=\"/item/sise_day.nhn?code=005930&amp;page=11\"  >\\n\\t\\t\\t\\t다음<img src=\"https://ssl.pstatic.net/static/n/cmn/bu_pgarR.gif\" width=\"3\" height=\"5\" alt=\"\" border=\"0\">\\n\\t\\t\\t\\t</a>\\n\\t\\t\\t\\t</td>\\n\\n                <td class=\"pgRR\">\\n\\t\\t\\t\\t<a href=\"/item/sise_day.nhn?code=005930&amp;page=654\"  >맨뒤\\n\\t\\t\\t\\t<img src=\"https://ssl.pstatic.net/static/n/cmn/bu_pgarRR.gif\" width=\"8\" height=\"5\" alt=\"\" border=\"0\">\\n\\t\\t\\t\\t</a>\\n\\t\\t\\t\\t</td>\\n\\n            \\n\\t\\t\\t\\t</tr>\\n\\t\\t\\t\\t</table>\\n\\t\\t\\t\\t<!--- 페이지 네비게이션 끝--->\\n\\n\\n\\t<script type=\"text/javascript\" src=\"https://ssl.pstatic.net/imgstock/static.pc/20220615142521/js/jindo.min.ns.1.5.3.euckr.js\"></script>\\n\\t<script type=\"text/javascript\" src=\"https://ssl.pstatic.net/imgstock/static.pc/20220615142521/js/lcslog.js\"></script>\\n\\t<script type=\"text/javascript\">\\n        ;(function(){\\n            var eventType = \"onpageshow\" in window ? \"pageshow\" : \"load\";\\n            jindo.$Fn(function(){\\n                lcs_do();\\n            }).attach(window, eventType);\\n        })();\\n\\t</script>\\n\\n</body>'"
            ],
            "application/vnd.google.colaboratory.intrinsic+json": {
              "type": "string"
            }
          },
          "metadata": {},
          "execution_count": 43
        }
      ]
    },
    {
      "cell_type": "code",
      "metadata": {
        "colab": {
          "base_uri": "https://localhost:8080/"
        },
        "id": "XY2zfjC-EKRY",
        "outputId": "13150048-2824-42f6-eaf2-60358c293a37"
      },
      "source": [
        "from bs4 import BeautifulSoup as bs\n",
        "\n",
        "html = bs(response.text, 'html.parser')\n",
        "html_table = html.select(\"table\")\n",
        "\n",
        "print(len(html_table))\n",
        "html_table[0]\n"
      ],
      "execution_count": 44,
      "outputs": [
        {
          "output_type": "stream",
          "name": "stdout",
          "text": [
            "2\n"
          ]
        },
        {
          "output_type": "execute_result",
          "data": {
            "text/plain": [
              "<table cellspacing=\"0\" class=\"type2\">\n",
              "<tr>\n",
              "<th>날짜</th>\n",
              "<th>종가</th>\n",
              "<th>전일비</th>\n",
              "<th>시가</th>\n",
              "<th>고가</th>\n",
              "<th>저가</th>\n",
              "<th>거래량</th>\n",
              "</tr>\n",
              "<tr>\n",
              "<td colspan=\"7\" height=\"8\"></td>\n",
              "</tr>\n",
              "<tr onmouseout=\"mouseOut(this)\" onmouseover=\"mouseOver(this)\">\n",
              "<td align=\"center\"><span class=\"tah p10 gray03\">2022.07.05</span></td>\n",
              "<td class=\"num\"><span class=\"tah p11\">57,200</span></td>\n",
              "<td class=\"num\">\n",
              "<img alt=\"상승\" height=\"6\" src=\"https://ssl.pstatic.net/imgstock/images/images4/ico_up.gif\" style=\"margin-right:4px;\" width=\"7\"/><span class=\"tah p11 red02\">\n",
              "\t\t\t\t100\n",
              "\t\t\t\t</span>\n",
              "</td>\n",
              "<td class=\"num\"><span class=\"tah p11\">57,600</span></td>\n",
              "<td class=\"num\"><span class=\"tah p11\">58,200</span></td>\n",
              "<td class=\"num\"><span class=\"tah p11\">57,200</span></td>\n",
              "<td class=\"num\"><span class=\"tah p11\">14,063,753</span></td>\n",
              "</tr>\n",
              "<tr onmouseout=\"mouseOut(this)\" onmouseover=\"mouseOver(this)\">\n",
              "<td align=\"center\"><span class=\"tah p10 gray03\">2022.07.04</span></td>\n",
              "<td class=\"num\"><span class=\"tah p11\">57,100</span></td>\n",
              "<td class=\"num\">\n",
              "<img alt=\"상승\" height=\"6\" src=\"https://ssl.pstatic.net/imgstock/images/images4/ico_up.gif\" style=\"margin-right:4px;\" width=\"7\"/><span class=\"tah p11 red02\">\n",
              "\t\t\t\t900\n",
              "\t\t\t\t</span>\n",
              "</td>\n",
              "<td class=\"num\"><span class=\"tah p11\">56,100</span></td>\n",
              "<td class=\"num\"><span class=\"tah p11\">57,400</span></td>\n",
              "<td class=\"num\"><span class=\"tah p11\">55,700</span></td>\n",
              "<td class=\"num\"><span class=\"tah p11\">17,807,126</span></td>\n",
              "</tr>\n",
              "<tr onmouseout=\"mouseOut(this)\" onmouseover=\"mouseOver(this)\">\n",
              "<td align=\"center\"><span class=\"tah p10 gray03\">2022.07.01</span></td>\n",
              "<td class=\"num\"><span class=\"tah p11\">56,200</span></td>\n",
              "<td class=\"num\">\n",
              "<img alt=\"하락\" height=\"6\" src=\"https://ssl.pstatic.net/imgstock/images/images4/ico_down.gif\" style=\"margin-right:4px;\" width=\"7\"/><span class=\"tah p11 nv01\">\n",
              "\t\t\t\t800\n",
              "\t\t\t\t</span>\n",
              "</td>\n",
              "<td class=\"num\"><span class=\"tah p11\">56,900</span></td>\n",
              "<td class=\"num\"><span class=\"tah p11\">57,500</span></td>\n",
              "<td class=\"num\"><span class=\"tah p11\">55,900</span></td>\n",
              "<td class=\"num\"><span class=\"tah p11\">24,982,097</span></td>\n",
              "</tr>\n",
              "<tr onmouseout=\"mouseOut(this)\" onmouseover=\"mouseOver(this)\">\n",
              "<td align=\"center\"><span class=\"tah p10 gray03\">2022.06.30</span></td>\n",
              "<td class=\"num\"><span class=\"tah p11\">57,000</span></td>\n",
              "<td class=\"num\">\n",
              "<img alt=\"하락\" height=\"6\" src=\"https://ssl.pstatic.net/imgstock/images/images4/ico_down.gif\" style=\"margin-right:4px;\" width=\"7\"/><span class=\"tah p11 nv01\">\n",
              "\t\t\t\t1,000\n",
              "\t\t\t\t</span>\n",
              "</td>\n",
              "<td class=\"num\"><span class=\"tah p11\">57,200</span></td>\n",
              "<td class=\"num\"><span class=\"tah p11\">57,600</span></td>\n",
              "<td class=\"num\"><span class=\"tah p11\">57,000</span></td>\n",
              "<td class=\"num\"><span class=\"tah p11\">18,915,142</span></td>\n",
              "</tr>\n",
              "<tr onmouseout=\"mouseOut(this)\" onmouseover=\"mouseOver(this)\">\n",
              "<td align=\"center\"><span class=\"tah p10 gray03\">2022.06.29</span></td>\n",
              "<td class=\"num\"><span class=\"tah p11\">58,000</span></td>\n",
              "<td class=\"num\">\n",
              "<img alt=\"하락\" height=\"6\" src=\"https://ssl.pstatic.net/imgstock/images/images4/ico_down.gif\" style=\"margin-right:4px;\" width=\"7\"/><span class=\"tah p11 nv01\">\n",
              "\t\t\t\t1,400\n",
              "\t\t\t\t</span>\n",
              "</td>\n",
              "<td class=\"num\"><span class=\"tah p11\">58,500</span></td>\n",
              "<td class=\"num\"><span class=\"tah p11\">58,800</span></td>\n",
              "<td class=\"num\"><span class=\"tah p11\">58,000</span></td>\n",
              "<td class=\"num\"><span class=\"tah p11\">14,677,138</span></td>\n",
              "</tr>\n",
              "<tr>\n",
              "<td colspan=\"7\" height=\"8\"></td>\n",
              "</tr>\n",
              "<tr>\n",
              "<td bgcolor=\"#e1e1e1\" colspan=\"7\" height=\"1\"></td>\n",
              "</tr>\n",
              "<tr>\n",
              "<td colspan=\"7\" height=\"8\"></td>\n",
              "</tr>\n",
              "<tr onmouseout=\"mouseOut(this)\" onmouseover=\"mouseOver(this)\">\n",
              "<td align=\"center\"><span class=\"tah p10 gray03\">2022.06.28</span></td>\n",
              "<td class=\"num\"><span class=\"tah p11\">59,400</span></td>\n",
              "<td class=\"num\">\n",
              "<img alt=\"상승\" height=\"6\" src=\"https://ssl.pstatic.net/imgstock/images/images4/ico_up.gif\" style=\"margin-right:4px;\" width=\"7\"/><span class=\"tah p11 red02\">\n",
              "\t\t\t\t600\n",
              "\t\t\t\t</span>\n",
              "</td>\n",
              "<td class=\"num\"><span class=\"tah p11\">59,200</span></td>\n",
              "<td class=\"num\"><span class=\"tah p11\">59,500</span></td>\n",
              "<td class=\"num\"><span class=\"tah p11\">58,700</span></td>\n",
              "<td class=\"num\"><span class=\"tah p11\">13,540,538</span></td>\n",
              "</tr>\n",
              "<tr onmouseout=\"mouseOut(this)\" onmouseover=\"mouseOver(this)\">\n",
              "<td align=\"center\"><span class=\"tah p10 gray03\">2022.06.27</span></td>\n",
              "<td class=\"num\"><span class=\"tah p11\">58,800</span></td>\n",
              "<td class=\"num\">\n",
              "<img alt=\"상승\" height=\"6\" src=\"https://ssl.pstatic.net/imgstock/images/images4/ico_up.gif\" style=\"margin-right:4px;\" width=\"7\"/><span class=\"tah p11 red02\">\n",
              "\t\t\t\t400\n",
              "\t\t\t\t</span>\n",
              "</td>\n",
              "<td class=\"num\"><span class=\"tah p11\">59,000</span></td>\n",
              "<td class=\"num\"><span class=\"tah p11\">59,900</span></td>\n",
              "<td class=\"num\"><span class=\"tah p11\">58,300</span></td>\n",
              "<td class=\"num\"><span class=\"tah p11\">18,122,236</span></td>\n",
              "</tr>\n",
              "<tr onmouseout=\"mouseOut(this)\" onmouseover=\"mouseOver(this)\">\n",
              "<td align=\"center\"><span class=\"tah p10 gray03\">2022.06.24</span></td>\n",
              "<td class=\"num\"><span class=\"tah p11\">58,400</span></td>\n",
              "<td class=\"num\">\n",
              "<img alt=\"상승\" height=\"6\" src=\"https://ssl.pstatic.net/imgstock/images/images4/ico_up.gif\" style=\"margin-right:4px;\" width=\"7\"/><span class=\"tah p11 red02\">\n",
              "\t\t\t\t1,000\n",
              "\t\t\t\t</span>\n",
              "</td>\n",
              "<td class=\"num\"><span class=\"tah p11\">57,900</span></td>\n",
              "<td class=\"num\"><span class=\"tah p11\">59,100</span></td>\n",
              "<td class=\"num\"><span class=\"tah p11\">57,700</span></td>\n",
              "<td class=\"num\"><span class=\"tah p11\">23,256,103</span></td>\n",
              "</tr>\n",
              "<tr onmouseout=\"mouseOut(this)\" onmouseover=\"mouseOver(this)\">\n",
              "<td align=\"center\"><span class=\"tah p10 gray03\">2022.06.23</span></td>\n",
              "<td class=\"num\"><span class=\"tah p11\">57,400</span></td>\n",
              "<td class=\"num\">\n",
              "<img alt=\"하락\" height=\"6\" src=\"https://ssl.pstatic.net/imgstock/images/images4/ico_down.gif\" style=\"margin-right:4px;\" width=\"7\"/><span class=\"tah p11 nv01\">\n",
              "\t\t\t\t200\n",
              "\t\t\t\t</span>\n",
              "</td>\n",
              "<td class=\"num\"><span class=\"tah p11\">57,700</span></td>\n",
              "<td class=\"num\"><span class=\"tah p11\">58,000</span></td>\n",
              "<td class=\"num\"><span class=\"tah p11\">56,800</span></td>\n",
              "<td class=\"num\"><span class=\"tah p11\">28,338,608</span></td>\n",
              "</tr>\n",
              "<tr onmouseout=\"mouseOut(this)\" onmouseover=\"mouseOver(this)\">\n",
              "<td align=\"center\"><span class=\"tah p10 gray03\">2022.06.22</span></td>\n",
              "<td class=\"num\"><span class=\"tah p11\">57,600</span></td>\n",
              "<td class=\"num\">\n",
              "<img alt=\"하락\" height=\"6\" src=\"https://ssl.pstatic.net/imgstock/images/images4/ico_down.gif\" style=\"margin-right:4px;\" width=\"7\"/><span class=\"tah p11 nv01\">\n",
              "\t\t\t\t900\n",
              "\t\t\t\t</span>\n",
              "</td>\n",
              "<td class=\"num\"><span class=\"tah p11\">59,000</span></td>\n",
              "<td class=\"num\"><span class=\"tah p11\">59,100</span></td>\n",
              "<td class=\"num\"><span class=\"tah p11\">57,600</span></td>\n",
              "<td class=\"num\"><span class=\"tah p11\">23,334,687</span></td>\n",
              "</tr>\n",
              "<tr>\n",
              "<td colspan=\"7\" height=\"8\"></td>\n",
              "</tr>\n",
              "</table>"
            ]
          },
          "metadata": {},
          "execution_count": 44
        }
      ]
    },
    {
      "cell_type": "code",
      "source": [
        "html_table[1] # 크롤링을 원했던 데이터는 html_table[0]에 저장되어있음을 확인가능."
      ],
      "metadata": {
        "colab": {
          "base_uri": "https://localhost:8080/"
        },
        "id": "yhshMaQxJoyY",
        "outputId": "77d505f2-aa90-4d8e-ffa6-59c1bee4f073"
      },
      "execution_count": 45,
      "outputs": [
        {
          "output_type": "execute_result",
          "data": {
            "text/plain": [
              "<table align=\"center\" class=\"Nnavi\" summary=\"페이지 네비게이션 리스트\">\n",
              "<caption>페이지 네비게이션</caption>\n",
              "<tr>\n",
              "<td class=\"on\">\n",
              "<a href=\"/item/sise_day.nhn?code=005930&amp;page=1\">1</a>\n",
              "</td>\n",
              "<td>\n",
              "<a href=\"/item/sise_day.nhn?code=005930&amp;page=2\">2</a>\n",
              "</td>\n",
              "<td>\n",
              "<a href=\"/item/sise_day.nhn?code=005930&amp;page=3\">3</a>\n",
              "</td>\n",
              "<td>\n",
              "<a href=\"/item/sise_day.nhn?code=005930&amp;page=4\">4</a>\n",
              "</td>\n",
              "<td>\n",
              "<a href=\"/item/sise_day.nhn?code=005930&amp;page=5\">5</a>\n",
              "</td>\n",
              "<td>\n",
              "<a href=\"/item/sise_day.nhn?code=005930&amp;page=6\">6</a>\n",
              "</td>\n",
              "<td>\n",
              "<a href=\"/item/sise_day.nhn?code=005930&amp;page=7\">7</a>\n",
              "</td>\n",
              "<td>\n",
              "<a href=\"/item/sise_day.nhn?code=005930&amp;page=8\">8</a>\n",
              "</td>\n",
              "<td>\n",
              "<a href=\"/item/sise_day.nhn?code=005930&amp;page=9\">9</a>\n",
              "</td>\n",
              "<td>\n",
              "<a href=\"/item/sise_day.nhn?code=005930&amp;page=10\">10</a>\n",
              "</td>\n",
              "<td class=\"pgR\">\n",
              "<a href=\"/item/sise_day.nhn?code=005930&amp;page=11\">\n",
              "\t\t\t\t다음<img alt=\"\" border=\"0\" height=\"5\" src=\"https://ssl.pstatic.net/static/n/cmn/bu_pgarR.gif\" width=\"3\"/>\n",
              "</a>\n",
              "</td>\n",
              "<td class=\"pgRR\">\n",
              "<a href=\"/item/sise_day.nhn?code=005930&amp;page=654\">맨뒤\n",
              "\t\t\t\t<img alt=\"\" border=\"0\" height=\"5\" src=\"https://ssl.pstatic.net/static/n/cmn/bu_pgarRR.gif\" width=\"8\"/>\n",
              "</a>\n",
              "</td>\n",
              "</tr>\n",
              "</table>"
            ]
          },
          "metadata": {},
          "execution_count": 45
        }
      ]
    },
    {
      "cell_type": "code",
      "metadata": {
        "id": "6-myXFfpEM_o"
      },
      "source": [
        "table = pd.read_html(str(html_table))\n",
        "# 주어진 html 코드로부터 pandas의 dataframe으로 저장하는 것 => read_html함수"
      ],
      "execution_count": 46,
      "outputs": []
    },
    {
      "cell_type": "code",
      "metadata": {
        "colab": {
          "base_uri": "https://localhost:8080/",
          "height": 520
        },
        "id": "eFHpQIrUmCvx",
        "outputId": "8ef9c365-38ed-44cc-be2f-c8f742949395"
      },
      "source": [
        "table[0]"
      ],
      "execution_count": 47,
      "outputs": [
        {
          "output_type": "execute_result",
          "data": {
            "text/plain": [
              "            날짜       종가     전일비       시가       고가       저가         거래량\n",
              "0          NaN      NaN     NaN      NaN      NaN      NaN         NaN\n",
              "1   2022.07.05  57200.0   100.0  57600.0  58200.0  57200.0  14063753.0\n",
              "2   2022.07.04  57100.0   900.0  56100.0  57400.0  55700.0  17807126.0\n",
              "3   2022.07.01  56200.0   800.0  56900.0  57500.0  55900.0  24982097.0\n",
              "4   2022.06.30  57000.0  1000.0  57200.0  57600.0  57000.0  18915142.0\n",
              "5   2022.06.29  58000.0  1400.0  58500.0  58800.0  58000.0  14677138.0\n",
              "6          NaN      NaN     NaN      NaN      NaN      NaN         NaN\n",
              "7          NaN      NaN     NaN      NaN      NaN      NaN         NaN\n",
              "8          NaN      NaN     NaN      NaN      NaN      NaN         NaN\n",
              "9   2022.06.28  59400.0   600.0  59200.0  59500.0  58700.0  13540538.0\n",
              "10  2022.06.27  58800.0   400.0  59000.0  59900.0  58300.0  18122236.0\n",
              "11  2022.06.24  58400.0  1000.0  57900.0  59100.0  57700.0  23256103.0\n",
              "12  2022.06.23  57400.0   200.0  57700.0  58000.0  56800.0  28338608.0\n",
              "13  2022.06.22  57600.0   900.0  59000.0  59100.0  57600.0  23334687.0\n",
              "14         NaN      NaN     NaN      NaN      NaN      NaN         NaN"
            ],
            "text/html": [
              "\n",
              "  <div id=\"df-2bb8b2c1-0855-447f-b530-8478e9bbb121\">\n",
              "    <div class=\"colab-df-container\">\n",
              "      <div>\n",
              "<style scoped>\n",
              "    .dataframe tbody tr th:only-of-type {\n",
              "        vertical-align: middle;\n",
              "    }\n",
              "\n",
              "    .dataframe tbody tr th {\n",
              "        vertical-align: top;\n",
              "    }\n",
              "\n",
              "    .dataframe thead th {\n",
              "        text-align: right;\n",
              "    }\n",
              "</style>\n",
              "<table border=\"1\" class=\"dataframe\">\n",
              "  <thead>\n",
              "    <tr style=\"text-align: right;\">\n",
              "      <th></th>\n",
              "      <th>날짜</th>\n",
              "      <th>종가</th>\n",
              "      <th>전일비</th>\n",
              "      <th>시가</th>\n",
              "      <th>고가</th>\n",
              "      <th>저가</th>\n",
              "      <th>거래량</th>\n",
              "    </tr>\n",
              "  </thead>\n",
              "  <tbody>\n",
              "    <tr>\n",
              "      <th>0</th>\n",
              "      <td>NaN</td>\n",
              "      <td>NaN</td>\n",
              "      <td>NaN</td>\n",
              "      <td>NaN</td>\n",
              "      <td>NaN</td>\n",
              "      <td>NaN</td>\n",
              "      <td>NaN</td>\n",
              "    </tr>\n",
              "    <tr>\n",
              "      <th>1</th>\n",
              "      <td>2022.07.05</td>\n",
              "      <td>57200.0</td>\n",
              "      <td>100.0</td>\n",
              "      <td>57600.0</td>\n",
              "      <td>58200.0</td>\n",
              "      <td>57200.0</td>\n",
              "      <td>14063753.0</td>\n",
              "    </tr>\n",
              "    <tr>\n",
              "      <th>2</th>\n",
              "      <td>2022.07.04</td>\n",
              "      <td>57100.0</td>\n",
              "      <td>900.0</td>\n",
              "      <td>56100.0</td>\n",
              "      <td>57400.0</td>\n",
              "      <td>55700.0</td>\n",
              "      <td>17807126.0</td>\n",
              "    </tr>\n",
              "    <tr>\n",
              "      <th>3</th>\n",
              "      <td>2022.07.01</td>\n",
              "      <td>56200.0</td>\n",
              "      <td>800.0</td>\n",
              "      <td>56900.0</td>\n",
              "      <td>57500.0</td>\n",
              "      <td>55900.0</td>\n",
              "      <td>24982097.0</td>\n",
              "    </tr>\n",
              "    <tr>\n",
              "      <th>4</th>\n",
              "      <td>2022.06.30</td>\n",
              "      <td>57000.0</td>\n",
              "      <td>1000.0</td>\n",
              "      <td>57200.0</td>\n",
              "      <td>57600.0</td>\n",
              "      <td>57000.0</td>\n",
              "      <td>18915142.0</td>\n",
              "    </tr>\n",
              "    <tr>\n",
              "      <th>5</th>\n",
              "      <td>2022.06.29</td>\n",
              "      <td>58000.0</td>\n",
              "      <td>1400.0</td>\n",
              "      <td>58500.0</td>\n",
              "      <td>58800.0</td>\n",
              "      <td>58000.0</td>\n",
              "      <td>14677138.0</td>\n",
              "    </tr>\n",
              "    <tr>\n",
              "      <th>6</th>\n",
              "      <td>NaN</td>\n",
              "      <td>NaN</td>\n",
              "      <td>NaN</td>\n",
              "      <td>NaN</td>\n",
              "      <td>NaN</td>\n",
              "      <td>NaN</td>\n",
              "      <td>NaN</td>\n",
              "    </tr>\n",
              "    <tr>\n",
              "      <th>7</th>\n",
              "      <td>NaN</td>\n",
              "      <td>NaN</td>\n",
              "      <td>NaN</td>\n",
              "      <td>NaN</td>\n",
              "      <td>NaN</td>\n",
              "      <td>NaN</td>\n",
              "      <td>NaN</td>\n",
              "    </tr>\n",
              "    <tr>\n",
              "      <th>8</th>\n",
              "      <td>NaN</td>\n",
              "      <td>NaN</td>\n",
              "      <td>NaN</td>\n",
              "      <td>NaN</td>\n",
              "      <td>NaN</td>\n",
              "      <td>NaN</td>\n",
              "      <td>NaN</td>\n",
              "    </tr>\n",
              "    <tr>\n",
              "      <th>9</th>\n",
              "      <td>2022.06.28</td>\n",
              "      <td>59400.0</td>\n",
              "      <td>600.0</td>\n",
              "      <td>59200.0</td>\n",
              "      <td>59500.0</td>\n",
              "      <td>58700.0</td>\n",
              "      <td>13540538.0</td>\n",
              "    </tr>\n",
              "    <tr>\n",
              "      <th>10</th>\n",
              "      <td>2022.06.27</td>\n",
              "      <td>58800.0</td>\n",
              "      <td>400.0</td>\n",
              "      <td>59000.0</td>\n",
              "      <td>59900.0</td>\n",
              "      <td>58300.0</td>\n",
              "      <td>18122236.0</td>\n",
              "    </tr>\n",
              "    <tr>\n",
              "      <th>11</th>\n",
              "      <td>2022.06.24</td>\n",
              "      <td>58400.0</td>\n",
              "      <td>1000.0</td>\n",
              "      <td>57900.0</td>\n",
              "      <td>59100.0</td>\n",
              "      <td>57700.0</td>\n",
              "      <td>23256103.0</td>\n",
              "    </tr>\n",
              "    <tr>\n",
              "      <th>12</th>\n",
              "      <td>2022.06.23</td>\n",
              "      <td>57400.0</td>\n",
              "      <td>200.0</td>\n",
              "      <td>57700.0</td>\n",
              "      <td>58000.0</td>\n",
              "      <td>56800.0</td>\n",
              "      <td>28338608.0</td>\n",
              "    </tr>\n",
              "    <tr>\n",
              "      <th>13</th>\n",
              "      <td>2022.06.22</td>\n",
              "      <td>57600.0</td>\n",
              "      <td>900.0</td>\n",
              "      <td>59000.0</td>\n",
              "      <td>59100.0</td>\n",
              "      <td>57600.0</td>\n",
              "      <td>23334687.0</td>\n",
              "    </tr>\n",
              "    <tr>\n",
              "      <th>14</th>\n",
              "      <td>NaN</td>\n",
              "      <td>NaN</td>\n",
              "      <td>NaN</td>\n",
              "      <td>NaN</td>\n",
              "      <td>NaN</td>\n",
              "      <td>NaN</td>\n",
              "      <td>NaN</td>\n",
              "    </tr>\n",
              "  </tbody>\n",
              "</table>\n",
              "</div>\n",
              "      <button class=\"colab-df-convert\" onclick=\"convertToInteractive('df-2bb8b2c1-0855-447f-b530-8478e9bbb121')\"\n",
              "              title=\"Convert this dataframe to an interactive table.\"\n",
              "              style=\"display:none;\">\n",
              "        \n",
              "  <svg xmlns=\"http://www.w3.org/2000/svg\" height=\"24px\"viewBox=\"0 0 24 24\"\n",
              "       width=\"24px\">\n",
              "    <path d=\"M0 0h24v24H0V0z\" fill=\"none\"/>\n",
              "    <path d=\"M18.56 5.44l.94 2.06.94-2.06 2.06-.94-2.06-.94-.94-2.06-.94 2.06-2.06.94zm-11 1L8.5 8.5l.94-2.06 2.06-.94-2.06-.94L8.5 2.5l-.94 2.06-2.06.94zm10 10l.94 2.06.94-2.06 2.06-.94-2.06-.94-.94-2.06-.94 2.06-2.06.94z\"/><path d=\"M17.41 7.96l-1.37-1.37c-.4-.4-.92-.59-1.43-.59-.52 0-1.04.2-1.43.59L10.3 9.45l-7.72 7.72c-.78.78-.78 2.05 0 2.83L4 21.41c.39.39.9.59 1.41.59.51 0 1.02-.2 1.41-.59l7.78-7.78 2.81-2.81c.8-.78.8-2.07 0-2.86zM5.41 20L4 18.59l7.72-7.72 1.47 1.35L5.41 20z\"/>\n",
              "  </svg>\n",
              "      </button>\n",
              "      \n",
              "  <style>\n",
              "    .colab-df-container {\n",
              "      display:flex;\n",
              "      flex-wrap:wrap;\n",
              "      gap: 12px;\n",
              "    }\n",
              "\n",
              "    .colab-df-convert {\n",
              "      background-color: #E8F0FE;\n",
              "      border: none;\n",
              "      border-radius: 50%;\n",
              "      cursor: pointer;\n",
              "      display: none;\n",
              "      fill: #1967D2;\n",
              "      height: 32px;\n",
              "      padding: 0 0 0 0;\n",
              "      width: 32px;\n",
              "    }\n",
              "\n",
              "    .colab-df-convert:hover {\n",
              "      background-color: #E2EBFA;\n",
              "      box-shadow: 0px 1px 2px rgba(60, 64, 67, 0.3), 0px 1px 3px 1px rgba(60, 64, 67, 0.15);\n",
              "      fill: #174EA6;\n",
              "    }\n",
              "\n",
              "    [theme=dark] .colab-df-convert {\n",
              "      background-color: #3B4455;\n",
              "      fill: #D2E3FC;\n",
              "    }\n",
              "\n",
              "    [theme=dark] .colab-df-convert:hover {\n",
              "      background-color: #434B5C;\n",
              "      box-shadow: 0px 1px 3px 1px rgba(0, 0, 0, 0.15);\n",
              "      filter: drop-shadow(0px 1px 2px rgba(0, 0, 0, 0.3));\n",
              "      fill: #FFFFFF;\n",
              "    }\n",
              "  </style>\n",
              "\n",
              "      <script>\n",
              "        const buttonEl =\n",
              "          document.querySelector('#df-2bb8b2c1-0855-447f-b530-8478e9bbb121 button.colab-df-convert');\n",
              "        buttonEl.style.display =\n",
              "          google.colab.kernel.accessAllowed ? 'block' : 'none';\n",
              "\n",
              "        async function convertToInteractive(key) {\n",
              "          const element = document.querySelector('#df-2bb8b2c1-0855-447f-b530-8478e9bbb121');\n",
              "          const dataTable =\n",
              "            await google.colab.kernel.invokeFunction('convertToInteractive',\n",
              "                                                     [key], {});\n",
              "          if (!dataTable) return;\n",
              "\n",
              "          const docLinkHtml = 'Like what you see? Visit the ' +\n",
              "            '<a target=\"_blank\" href=https://colab.research.google.com/notebooks/data_table.ipynb>data table notebook</a>'\n",
              "            + ' to learn more about interactive tables.';\n",
              "          element.innerHTML = '';\n",
              "          dataTable['output_type'] = 'display_data';\n",
              "          await google.colab.output.renderOutput(dataTable, element);\n",
              "          const docLink = document.createElement('div');\n",
              "          docLink.innerHTML = docLinkHtml;\n",
              "          element.appendChild(docLink);\n",
              "        }\n",
              "      </script>\n",
              "    </div>\n",
              "  </div>\n",
              "  "
            ]
          },
          "metadata": {},
          "execution_count": 47
        }
      ]
    },
    {
      "cell_type": "code",
      "metadata": {
        "colab": {
          "base_uri": "https://localhost:8080/",
          "height": 363
        },
        "id": "KYdTCh6_mSGD",
        "outputId": "bf8df3bb-1265-4bdc-bb14-779fa859ca4c"
      },
      "source": [
        "table[0].dropna()"
      ],
      "execution_count": 48,
      "outputs": [
        {
          "output_type": "execute_result",
          "data": {
            "text/plain": [
              "            날짜       종가     전일비       시가       고가       저가         거래량\n",
              "1   2022.07.05  57200.0   100.0  57600.0  58200.0  57200.0  14063753.0\n",
              "2   2022.07.04  57100.0   900.0  56100.0  57400.0  55700.0  17807126.0\n",
              "3   2022.07.01  56200.0   800.0  56900.0  57500.0  55900.0  24982097.0\n",
              "4   2022.06.30  57000.0  1000.0  57200.0  57600.0  57000.0  18915142.0\n",
              "5   2022.06.29  58000.0  1400.0  58500.0  58800.0  58000.0  14677138.0\n",
              "9   2022.06.28  59400.0   600.0  59200.0  59500.0  58700.0  13540538.0\n",
              "10  2022.06.27  58800.0   400.0  59000.0  59900.0  58300.0  18122236.0\n",
              "11  2022.06.24  58400.0  1000.0  57900.0  59100.0  57700.0  23256103.0\n",
              "12  2022.06.23  57400.0   200.0  57700.0  58000.0  56800.0  28338608.0\n",
              "13  2022.06.22  57600.0   900.0  59000.0  59100.0  57600.0  23334687.0"
            ],
            "text/html": [
              "\n",
              "  <div id=\"df-d9ca74a4-a645-4a4f-b33b-1319b3569601\">\n",
              "    <div class=\"colab-df-container\">\n",
              "      <div>\n",
              "<style scoped>\n",
              "    .dataframe tbody tr th:only-of-type {\n",
              "        vertical-align: middle;\n",
              "    }\n",
              "\n",
              "    .dataframe tbody tr th {\n",
              "        vertical-align: top;\n",
              "    }\n",
              "\n",
              "    .dataframe thead th {\n",
              "        text-align: right;\n",
              "    }\n",
              "</style>\n",
              "<table border=\"1\" class=\"dataframe\">\n",
              "  <thead>\n",
              "    <tr style=\"text-align: right;\">\n",
              "      <th></th>\n",
              "      <th>날짜</th>\n",
              "      <th>종가</th>\n",
              "      <th>전일비</th>\n",
              "      <th>시가</th>\n",
              "      <th>고가</th>\n",
              "      <th>저가</th>\n",
              "      <th>거래량</th>\n",
              "    </tr>\n",
              "  </thead>\n",
              "  <tbody>\n",
              "    <tr>\n",
              "      <th>1</th>\n",
              "      <td>2022.07.05</td>\n",
              "      <td>57200.0</td>\n",
              "      <td>100.0</td>\n",
              "      <td>57600.0</td>\n",
              "      <td>58200.0</td>\n",
              "      <td>57200.0</td>\n",
              "      <td>14063753.0</td>\n",
              "    </tr>\n",
              "    <tr>\n",
              "      <th>2</th>\n",
              "      <td>2022.07.04</td>\n",
              "      <td>57100.0</td>\n",
              "      <td>900.0</td>\n",
              "      <td>56100.0</td>\n",
              "      <td>57400.0</td>\n",
              "      <td>55700.0</td>\n",
              "      <td>17807126.0</td>\n",
              "    </tr>\n",
              "    <tr>\n",
              "      <th>3</th>\n",
              "      <td>2022.07.01</td>\n",
              "      <td>56200.0</td>\n",
              "      <td>800.0</td>\n",
              "      <td>56900.0</td>\n",
              "      <td>57500.0</td>\n",
              "      <td>55900.0</td>\n",
              "      <td>24982097.0</td>\n",
              "    </tr>\n",
              "    <tr>\n",
              "      <th>4</th>\n",
              "      <td>2022.06.30</td>\n",
              "      <td>57000.0</td>\n",
              "      <td>1000.0</td>\n",
              "      <td>57200.0</td>\n",
              "      <td>57600.0</td>\n",
              "      <td>57000.0</td>\n",
              "      <td>18915142.0</td>\n",
              "    </tr>\n",
              "    <tr>\n",
              "      <th>5</th>\n",
              "      <td>2022.06.29</td>\n",
              "      <td>58000.0</td>\n",
              "      <td>1400.0</td>\n",
              "      <td>58500.0</td>\n",
              "      <td>58800.0</td>\n",
              "      <td>58000.0</td>\n",
              "      <td>14677138.0</td>\n",
              "    </tr>\n",
              "    <tr>\n",
              "      <th>9</th>\n",
              "      <td>2022.06.28</td>\n",
              "      <td>59400.0</td>\n",
              "      <td>600.0</td>\n",
              "      <td>59200.0</td>\n",
              "      <td>59500.0</td>\n",
              "      <td>58700.0</td>\n",
              "      <td>13540538.0</td>\n",
              "    </tr>\n",
              "    <tr>\n",
              "      <th>10</th>\n",
              "      <td>2022.06.27</td>\n",
              "      <td>58800.0</td>\n",
              "      <td>400.0</td>\n",
              "      <td>59000.0</td>\n",
              "      <td>59900.0</td>\n",
              "      <td>58300.0</td>\n",
              "      <td>18122236.0</td>\n",
              "    </tr>\n",
              "    <tr>\n",
              "      <th>11</th>\n",
              "      <td>2022.06.24</td>\n",
              "      <td>58400.0</td>\n",
              "      <td>1000.0</td>\n",
              "      <td>57900.0</td>\n",
              "      <td>59100.0</td>\n",
              "      <td>57700.0</td>\n",
              "      <td>23256103.0</td>\n",
              "    </tr>\n",
              "    <tr>\n",
              "      <th>12</th>\n",
              "      <td>2022.06.23</td>\n",
              "      <td>57400.0</td>\n",
              "      <td>200.0</td>\n",
              "      <td>57700.0</td>\n",
              "      <td>58000.0</td>\n",
              "      <td>56800.0</td>\n",
              "      <td>28338608.0</td>\n",
              "    </tr>\n",
              "    <tr>\n",
              "      <th>13</th>\n",
              "      <td>2022.06.22</td>\n",
              "      <td>57600.0</td>\n",
              "      <td>900.0</td>\n",
              "      <td>59000.0</td>\n",
              "      <td>59100.0</td>\n",
              "      <td>57600.0</td>\n",
              "      <td>23334687.0</td>\n",
              "    </tr>\n",
              "  </tbody>\n",
              "</table>\n",
              "</div>\n",
              "      <button class=\"colab-df-convert\" onclick=\"convertToInteractive('df-d9ca74a4-a645-4a4f-b33b-1319b3569601')\"\n",
              "              title=\"Convert this dataframe to an interactive table.\"\n",
              "              style=\"display:none;\">\n",
              "        \n",
              "  <svg xmlns=\"http://www.w3.org/2000/svg\" height=\"24px\"viewBox=\"0 0 24 24\"\n",
              "       width=\"24px\">\n",
              "    <path d=\"M0 0h24v24H0V0z\" fill=\"none\"/>\n",
              "    <path d=\"M18.56 5.44l.94 2.06.94-2.06 2.06-.94-2.06-.94-.94-2.06-.94 2.06-2.06.94zm-11 1L8.5 8.5l.94-2.06 2.06-.94-2.06-.94L8.5 2.5l-.94 2.06-2.06.94zm10 10l.94 2.06.94-2.06 2.06-.94-2.06-.94-.94-2.06-.94 2.06-2.06.94z\"/><path d=\"M17.41 7.96l-1.37-1.37c-.4-.4-.92-.59-1.43-.59-.52 0-1.04.2-1.43.59L10.3 9.45l-7.72 7.72c-.78.78-.78 2.05 0 2.83L4 21.41c.39.39.9.59 1.41.59.51 0 1.02-.2 1.41-.59l7.78-7.78 2.81-2.81c.8-.78.8-2.07 0-2.86zM5.41 20L4 18.59l7.72-7.72 1.47 1.35L5.41 20z\"/>\n",
              "  </svg>\n",
              "      </button>\n",
              "      \n",
              "  <style>\n",
              "    .colab-df-container {\n",
              "      display:flex;\n",
              "      flex-wrap:wrap;\n",
              "      gap: 12px;\n",
              "    }\n",
              "\n",
              "    .colab-df-convert {\n",
              "      background-color: #E8F0FE;\n",
              "      border: none;\n",
              "      border-radius: 50%;\n",
              "      cursor: pointer;\n",
              "      display: none;\n",
              "      fill: #1967D2;\n",
              "      height: 32px;\n",
              "      padding: 0 0 0 0;\n",
              "      width: 32px;\n",
              "    }\n",
              "\n",
              "    .colab-df-convert:hover {\n",
              "      background-color: #E2EBFA;\n",
              "      box-shadow: 0px 1px 2px rgba(60, 64, 67, 0.3), 0px 1px 3px 1px rgba(60, 64, 67, 0.15);\n",
              "      fill: #174EA6;\n",
              "    }\n",
              "\n",
              "    [theme=dark] .colab-df-convert {\n",
              "      background-color: #3B4455;\n",
              "      fill: #D2E3FC;\n",
              "    }\n",
              "\n",
              "    [theme=dark] .colab-df-convert:hover {\n",
              "      background-color: #434B5C;\n",
              "      box-shadow: 0px 1px 3px 1px rgba(0, 0, 0, 0.15);\n",
              "      filter: drop-shadow(0px 1px 2px rgba(0, 0, 0, 0.3));\n",
              "      fill: #FFFFFF;\n",
              "    }\n",
              "  </style>\n",
              "\n",
              "      <script>\n",
              "        const buttonEl =\n",
              "          document.querySelector('#df-d9ca74a4-a645-4a4f-b33b-1319b3569601 button.colab-df-convert');\n",
              "        buttonEl.style.display =\n",
              "          google.colab.kernel.accessAllowed ? 'block' : 'none';\n",
              "\n",
              "        async function convertToInteractive(key) {\n",
              "          const element = document.querySelector('#df-d9ca74a4-a645-4a4f-b33b-1319b3569601');\n",
              "          const dataTable =\n",
              "            await google.colab.kernel.invokeFunction('convertToInteractive',\n",
              "                                                     [key], {});\n",
              "          if (!dataTable) return;\n",
              "\n",
              "          const docLinkHtml = 'Like what you see? Visit the ' +\n",
              "            '<a target=\"_blank\" href=https://colab.research.google.com/notebooks/data_table.ipynb>data table notebook</a>'\n",
              "            + ' to learn more about interactive tables.';\n",
              "          element.innerHTML = '';\n",
              "          dataTable['output_type'] = 'display_data';\n",
              "          await google.colab.output.renderOutput(dataTable, element);\n",
              "          const docLink = document.createElement('div');\n",
              "          docLink.innerHTML = docLinkHtml;\n",
              "          element.appendChild(docLink);\n",
              "        }\n",
              "      </script>\n",
              "    </div>\n",
              "  </div>\n",
              "  "
            ]
          },
          "metadata": {},
          "execution_count": 48
        }
      ]
    },
    {
      "cell_type": "code",
      "metadata": {
        "colab": {
          "base_uri": "https://localhost:8080/"
        },
        "id": "6jJyk-Z4Eazd",
        "outputId": "ec405933-de3d-441d-b4d7-6d79480fd86f"
      },
      "source": [
        "df = pd.DataFrame()\n",
        "sise_url = 'https://finance.naver.com/item/sise_day.nhn?code=005930'  \n",
        "for page in range(1, 100):\n",
        "    page_url = '{}&page={}'.format(sise_url, page)\n",
        "    print(page_url)\n",
        "\n",
        "    # 위에서 했던 일련의 과정들을 각 url에 대해서 (99페이지에 대해서 반복)\n",
        "    response = requests.get(page_url, headers=headers)\n",
        "    html = bs(response.text, 'html.parser')\n",
        "    html_table = html.select(\"table\")\n",
        "    table = pd.read_html(str(html_table))\n",
        "\n",
        "    # 현재 얻은 데이터프레임을 기존 데이터프레임에 누적.\n",
        "    df = df.append(table[0].dropna())"
      ],
      "execution_count": 40,
      "outputs": [
        {
          "output_type": "stream",
          "name": "stdout",
          "text": [
            "https://finance.naver.com/item/sise_day.nhn?code=005930&page=1\n",
            "https://finance.naver.com/item/sise_day.nhn?code=005930&page=2\n",
            "https://finance.naver.com/item/sise_day.nhn?code=005930&page=3\n",
            "https://finance.naver.com/item/sise_day.nhn?code=005930&page=4\n",
            "https://finance.naver.com/item/sise_day.nhn?code=005930&page=5\n",
            "https://finance.naver.com/item/sise_day.nhn?code=005930&page=6\n",
            "https://finance.naver.com/item/sise_day.nhn?code=005930&page=7\n",
            "https://finance.naver.com/item/sise_day.nhn?code=005930&page=8\n",
            "https://finance.naver.com/item/sise_day.nhn?code=005930&page=9\n",
            "https://finance.naver.com/item/sise_day.nhn?code=005930&page=10\n",
            "https://finance.naver.com/item/sise_day.nhn?code=005930&page=11\n",
            "https://finance.naver.com/item/sise_day.nhn?code=005930&page=12\n",
            "https://finance.naver.com/item/sise_day.nhn?code=005930&page=13\n",
            "https://finance.naver.com/item/sise_day.nhn?code=005930&page=14\n",
            "https://finance.naver.com/item/sise_day.nhn?code=005930&page=15\n",
            "https://finance.naver.com/item/sise_day.nhn?code=005930&page=16\n",
            "https://finance.naver.com/item/sise_day.nhn?code=005930&page=17\n",
            "https://finance.naver.com/item/sise_day.nhn?code=005930&page=18\n",
            "https://finance.naver.com/item/sise_day.nhn?code=005930&page=19\n",
            "https://finance.naver.com/item/sise_day.nhn?code=005930&page=20\n",
            "https://finance.naver.com/item/sise_day.nhn?code=005930&page=21\n",
            "https://finance.naver.com/item/sise_day.nhn?code=005930&page=22\n",
            "https://finance.naver.com/item/sise_day.nhn?code=005930&page=23\n",
            "https://finance.naver.com/item/sise_day.nhn?code=005930&page=24\n",
            "https://finance.naver.com/item/sise_day.nhn?code=005930&page=25\n",
            "https://finance.naver.com/item/sise_day.nhn?code=005930&page=26\n",
            "https://finance.naver.com/item/sise_day.nhn?code=005930&page=27\n",
            "https://finance.naver.com/item/sise_day.nhn?code=005930&page=28\n",
            "https://finance.naver.com/item/sise_day.nhn?code=005930&page=29\n",
            "https://finance.naver.com/item/sise_day.nhn?code=005930&page=30\n",
            "https://finance.naver.com/item/sise_day.nhn?code=005930&page=31\n",
            "https://finance.naver.com/item/sise_day.nhn?code=005930&page=32\n",
            "https://finance.naver.com/item/sise_day.nhn?code=005930&page=33\n",
            "https://finance.naver.com/item/sise_day.nhn?code=005930&page=34\n",
            "https://finance.naver.com/item/sise_day.nhn?code=005930&page=35\n",
            "https://finance.naver.com/item/sise_day.nhn?code=005930&page=36\n",
            "https://finance.naver.com/item/sise_day.nhn?code=005930&page=37\n",
            "https://finance.naver.com/item/sise_day.nhn?code=005930&page=38\n",
            "https://finance.naver.com/item/sise_day.nhn?code=005930&page=39\n",
            "https://finance.naver.com/item/sise_day.nhn?code=005930&page=40\n",
            "https://finance.naver.com/item/sise_day.nhn?code=005930&page=41\n",
            "https://finance.naver.com/item/sise_day.nhn?code=005930&page=42\n",
            "https://finance.naver.com/item/sise_day.nhn?code=005930&page=43\n",
            "https://finance.naver.com/item/sise_day.nhn?code=005930&page=44\n",
            "https://finance.naver.com/item/sise_day.nhn?code=005930&page=45\n",
            "https://finance.naver.com/item/sise_day.nhn?code=005930&page=46\n",
            "https://finance.naver.com/item/sise_day.nhn?code=005930&page=47\n",
            "https://finance.naver.com/item/sise_day.nhn?code=005930&page=48\n",
            "https://finance.naver.com/item/sise_day.nhn?code=005930&page=49\n",
            "https://finance.naver.com/item/sise_day.nhn?code=005930&page=50\n",
            "https://finance.naver.com/item/sise_day.nhn?code=005930&page=51\n",
            "https://finance.naver.com/item/sise_day.nhn?code=005930&page=52\n",
            "https://finance.naver.com/item/sise_day.nhn?code=005930&page=53\n",
            "https://finance.naver.com/item/sise_day.nhn?code=005930&page=54\n",
            "https://finance.naver.com/item/sise_day.nhn?code=005930&page=55\n",
            "https://finance.naver.com/item/sise_day.nhn?code=005930&page=56\n",
            "https://finance.naver.com/item/sise_day.nhn?code=005930&page=57\n",
            "https://finance.naver.com/item/sise_day.nhn?code=005930&page=58\n",
            "https://finance.naver.com/item/sise_day.nhn?code=005930&page=59\n",
            "https://finance.naver.com/item/sise_day.nhn?code=005930&page=60\n",
            "https://finance.naver.com/item/sise_day.nhn?code=005930&page=61\n",
            "https://finance.naver.com/item/sise_day.nhn?code=005930&page=62\n",
            "https://finance.naver.com/item/sise_day.nhn?code=005930&page=63\n",
            "https://finance.naver.com/item/sise_day.nhn?code=005930&page=64\n",
            "https://finance.naver.com/item/sise_day.nhn?code=005930&page=65\n",
            "https://finance.naver.com/item/sise_day.nhn?code=005930&page=66\n",
            "https://finance.naver.com/item/sise_day.nhn?code=005930&page=67\n",
            "https://finance.naver.com/item/sise_day.nhn?code=005930&page=68\n",
            "https://finance.naver.com/item/sise_day.nhn?code=005930&page=69\n",
            "https://finance.naver.com/item/sise_day.nhn?code=005930&page=70\n",
            "https://finance.naver.com/item/sise_day.nhn?code=005930&page=71\n",
            "https://finance.naver.com/item/sise_day.nhn?code=005930&page=72\n",
            "https://finance.naver.com/item/sise_day.nhn?code=005930&page=73\n",
            "https://finance.naver.com/item/sise_day.nhn?code=005930&page=74\n",
            "https://finance.naver.com/item/sise_day.nhn?code=005930&page=75\n",
            "https://finance.naver.com/item/sise_day.nhn?code=005930&page=76\n",
            "https://finance.naver.com/item/sise_day.nhn?code=005930&page=77\n",
            "https://finance.naver.com/item/sise_day.nhn?code=005930&page=78\n",
            "https://finance.naver.com/item/sise_day.nhn?code=005930&page=79\n",
            "https://finance.naver.com/item/sise_day.nhn?code=005930&page=80\n",
            "https://finance.naver.com/item/sise_day.nhn?code=005930&page=81\n",
            "https://finance.naver.com/item/sise_day.nhn?code=005930&page=82\n",
            "https://finance.naver.com/item/sise_day.nhn?code=005930&page=83\n",
            "https://finance.naver.com/item/sise_day.nhn?code=005930&page=84\n",
            "https://finance.naver.com/item/sise_day.nhn?code=005930&page=85\n",
            "https://finance.naver.com/item/sise_day.nhn?code=005930&page=86\n",
            "https://finance.naver.com/item/sise_day.nhn?code=005930&page=87\n",
            "https://finance.naver.com/item/sise_day.nhn?code=005930&page=88\n",
            "https://finance.naver.com/item/sise_day.nhn?code=005930&page=89\n",
            "https://finance.naver.com/item/sise_day.nhn?code=005930&page=90\n",
            "https://finance.naver.com/item/sise_day.nhn?code=005930&page=91\n",
            "https://finance.naver.com/item/sise_day.nhn?code=005930&page=92\n",
            "https://finance.naver.com/item/sise_day.nhn?code=005930&page=93\n",
            "https://finance.naver.com/item/sise_day.nhn?code=005930&page=94\n",
            "https://finance.naver.com/item/sise_day.nhn?code=005930&page=95\n",
            "https://finance.naver.com/item/sise_day.nhn?code=005930&page=96\n",
            "https://finance.naver.com/item/sise_day.nhn?code=005930&page=97\n",
            "https://finance.naver.com/item/sise_day.nhn?code=005930&page=98\n",
            "https://finance.naver.com/item/sise_day.nhn?code=005930&page=99\n"
          ]
        }
      ]
    },
    {
      "cell_type": "code",
      "metadata": {
        "colab": {
          "base_uri": "https://localhost:8080/",
          "height": 424
        },
        "id": "KSK7xTBFD3mT",
        "outputId": "d6b68d3b-da08-448f-b42c-0115fbaf2b99"
      },
      "source": [
        "df"
      ],
      "execution_count": 49,
      "outputs": [
        {
          "output_type": "execute_result",
          "data": {
            "text/plain": [
              "            날짜       종가     전일비       시가       고가       저가         거래량\n",
              "1   2022.07.05  57200.0   100.0  57600.0  58200.0  57200.0  14063753.0\n",
              "2   2022.07.04  57100.0   900.0  56100.0  57400.0  55700.0  17807126.0\n",
              "3   2022.07.01  56200.0   800.0  56900.0  57500.0  55900.0  24982097.0\n",
              "4   2022.06.30  57000.0  1000.0  57200.0  57600.0  57000.0  18915142.0\n",
              "5   2022.06.29  58000.0  1400.0  58500.0  58800.0  58000.0  14677138.0\n",
              "..         ...      ...     ...      ...      ...      ...         ...\n",
              "9   2018.07.05  45950.0   300.0  46100.0  46550.0  45600.0   7039773.0\n",
              "10  2018.07.04  46250.0   100.0  46700.0  47050.0  46050.0   8776763.0\n",
              "11  2018.07.03  46150.0   600.0  45750.0  46450.0  45750.0  10959655.0\n",
              "12  2018.07.02  45550.0  1100.0  46500.0  47150.0  45500.0  13112253.0\n",
              "13  2018.06.29  46650.0   150.0  46250.0  47150.0  46200.0  14099635.0\n",
              "\n",
              "[990 rows x 7 columns]"
            ],
            "text/html": [
              "\n",
              "  <div id=\"df-4f964969-ca5e-4803-96c2-e1c0600ba4a4\">\n",
              "    <div class=\"colab-df-container\">\n",
              "      <div>\n",
              "<style scoped>\n",
              "    .dataframe tbody tr th:only-of-type {\n",
              "        vertical-align: middle;\n",
              "    }\n",
              "\n",
              "    .dataframe tbody tr th {\n",
              "        vertical-align: top;\n",
              "    }\n",
              "\n",
              "    .dataframe thead th {\n",
              "        text-align: right;\n",
              "    }\n",
              "</style>\n",
              "<table border=\"1\" class=\"dataframe\">\n",
              "  <thead>\n",
              "    <tr style=\"text-align: right;\">\n",
              "      <th></th>\n",
              "      <th>날짜</th>\n",
              "      <th>종가</th>\n",
              "      <th>전일비</th>\n",
              "      <th>시가</th>\n",
              "      <th>고가</th>\n",
              "      <th>저가</th>\n",
              "      <th>거래량</th>\n",
              "    </tr>\n",
              "  </thead>\n",
              "  <tbody>\n",
              "    <tr>\n",
              "      <th>1</th>\n",
              "      <td>2022.07.05</td>\n",
              "      <td>57200.0</td>\n",
              "      <td>100.0</td>\n",
              "      <td>57600.0</td>\n",
              "      <td>58200.0</td>\n",
              "      <td>57200.0</td>\n",
              "      <td>14063753.0</td>\n",
              "    </tr>\n",
              "    <tr>\n",
              "      <th>2</th>\n",
              "      <td>2022.07.04</td>\n",
              "      <td>57100.0</td>\n",
              "      <td>900.0</td>\n",
              "      <td>56100.0</td>\n",
              "      <td>57400.0</td>\n",
              "      <td>55700.0</td>\n",
              "      <td>17807126.0</td>\n",
              "    </tr>\n",
              "    <tr>\n",
              "      <th>3</th>\n",
              "      <td>2022.07.01</td>\n",
              "      <td>56200.0</td>\n",
              "      <td>800.0</td>\n",
              "      <td>56900.0</td>\n",
              "      <td>57500.0</td>\n",
              "      <td>55900.0</td>\n",
              "      <td>24982097.0</td>\n",
              "    </tr>\n",
              "    <tr>\n",
              "      <th>4</th>\n",
              "      <td>2022.06.30</td>\n",
              "      <td>57000.0</td>\n",
              "      <td>1000.0</td>\n",
              "      <td>57200.0</td>\n",
              "      <td>57600.0</td>\n",
              "      <td>57000.0</td>\n",
              "      <td>18915142.0</td>\n",
              "    </tr>\n",
              "    <tr>\n",
              "      <th>5</th>\n",
              "      <td>2022.06.29</td>\n",
              "      <td>58000.0</td>\n",
              "      <td>1400.0</td>\n",
              "      <td>58500.0</td>\n",
              "      <td>58800.0</td>\n",
              "      <td>58000.0</td>\n",
              "      <td>14677138.0</td>\n",
              "    </tr>\n",
              "    <tr>\n",
              "      <th>...</th>\n",
              "      <td>...</td>\n",
              "      <td>...</td>\n",
              "      <td>...</td>\n",
              "      <td>...</td>\n",
              "      <td>...</td>\n",
              "      <td>...</td>\n",
              "      <td>...</td>\n",
              "    </tr>\n",
              "    <tr>\n",
              "      <th>9</th>\n",
              "      <td>2018.07.05</td>\n",
              "      <td>45950.0</td>\n",
              "      <td>300.0</td>\n",
              "      <td>46100.0</td>\n",
              "      <td>46550.0</td>\n",
              "      <td>45600.0</td>\n",
              "      <td>7039773.0</td>\n",
              "    </tr>\n",
              "    <tr>\n",
              "      <th>10</th>\n",
              "      <td>2018.07.04</td>\n",
              "      <td>46250.0</td>\n",
              "      <td>100.0</td>\n",
              "      <td>46700.0</td>\n",
              "      <td>47050.0</td>\n",
              "      <td>46050.0</td>\n",
              "      <td>8776763.0</td>\n",
              "    </tr>\n",
              "    <tr>\n",
              "      <th>11</th>\n",
              "      <td>2018.07.03</td>\n",
              "      <td>46150.0</td>\n",
              "      <td>600.0</td>\n",
              "      <td>45750.0</td>\n",
              "      <td>46450.0</td>\n",
              "      <td>45750.0</td>\n",
              "      <td>10959655.0</td>\n",
              "    </tr>\n",
              "    <tr>\n",
              "      <th>12</th>\n",
              "      <td>2018.07.02</td>\n",
              "      <td>45550.0</td>\n",
              "      <td>1100.0</td>\n",
              "      <td>46500.0</td>\n",
              "      <td>47150.0</td>\n",
              "      <td>45500.0</td>\n",
              "      <td>13112253.0</td>\n",
              "    </tr>\n",
              "    <tr>\n",
              "      <th>13</th>\n",
              "      <td>2018.06.29</td>\n",
              "      <td>46650.0</td>\n",
              "      <td>150.0</td>\n",
              "      <td>46250.0</td>\n",
              "      <td>47150.0</td>\n",
              "      <td>46200.0</td>\n",
              "      <td>14099635.0</td>\n",
              "    </tr>\n",
              "  </tbody>\n",
              "</table>\n",
              "<p>990 rows × 7 columns</p>\n",
              "</div>\n",
              "      <button class=\"colab-df-convert\" onclick=\"convertToInteractive('df-4f964969-ca5e-4803-96c2-e1c0600ba4a4')\"\n",
              "              title=\"Convert this dataframe to an interactive table.\"\n",
              "              style=\"display:none;\">\n",
              "        \n",
              "  <svg xmlns=\"http://www.w3.org/2000/svg\" height=\"24px\"viewBox=\"0 0 24 24\"\n",
              "       width=\"24px\">\n",
              "    <path d=\"M0 0h24v24H0V0z\" fill=\"none\"/>\n",
              "    <path d=\"M18.56 5.44l.94 2.06.94-2.06 2.06-.94-2.06-.94-.94-2.06-.94 2.06-2.06.94zm-11 1L8.5 8.5l.94-2.06 2.06-.94-2.06-.94L8.5 2.5l-.94 2.06-2.06.94zm10 10l.94 2.06.94-2.06 2.06-.94-2.06-.94-.94-2.06-.94 2.06-2.06.94z\"/><path d=\"M17.41 7.96l-1.37-1.37c-.4-.4-.92-.59-1.43-.59-.52 0-1.04.2-1.43.59L10.3 9.45l-7.72 7.72c-.78.78-.78 2.05 0 2.83L4 21.41c.39.39.9.59 1.41.59.51 0 1.02-.2 1.41-.59l7.78-7.78 2.81-2.81c.8-.78.8-2.07 0-2.86zM5.41 20L4 18.59l7.72-7.72 1.47 1.35L5.41 20z\"/>\n",
              "  </svg>\n",
              "      </button>\n",
              "      \n",
              "  <style>\n",
              "    .colab-df-container {\n",
              "      display:flex;\n",
              "      flex-wrap:wrap;\n",
              "      gap: 12px;\n",
              "    }\n",
              "\n",
              "    .colab-df-convert {\n",
              "      background-color: #E8F0FE;\n",
              "      border: none;\n",
              "      border-radius: 50%;\n",
              "      cursor: pointer;\n",
              "      display: none;\n",
              "      fill: #1967D2;\n",
              "      height: 32px;\n",
              "      padding: 0 0 0 0;\n",
              "      width: 32px;\n",
              "    }\n",
              "\n",
              "    .colab-df-convert:hover {\n",
              "      background-color: #E2EBFA;\n",
              "      box-shadow: 0px 1px 2px rgba(60, 64, 67, 0.3), 0px 1px 3px 1px rgba(60, 64, 67, 0.15);\n",
              "      fill: #174EA6;\n",
              "    }\n",
              "\n",
              "    [theme=dark] .colab-df-convert {\n",
              "      background-color: #3B4455;\n",
              "      fill: #D2E3FC;\n",
              "    }\n",
              "\n",
              "    [theme=dark] .colab-df-convert:hover {\n",
              "      background-color: #434B5C;\n",
              "      box-shadow: 0px 1px 3px 1px rgba(0, 0, 0, 0.15);\n",
              "      filter: drop-shadow(0px 1px 2px rgba(0, 0, 0, 0.3));\n",
              "      fill: #FFFFFF;\n",
              "    }\n",
              "  </style>\n",
              "\n",
              "      <script>\n",
              "        const buttonEl =\n",
              "          document.querySelector('#df-4f964969-ca5e-4803-96c2-e1c0600ba4a4 button.colab-df-convert');\n",
              "        buttonEl.style.display =\n",
              "          google.colab.kernel.accessAllowed ? 'block' : 'none';\n",
              "\n",
              "        async function convertToInteractive(key) {\n",
              "          const element = document.querySelector('#df-4f964969-ca5e-4803-96c2-e1c0600ba4a4');\n",
              "          const dataTable =\n",
              "            await google.colab.kernel.invokeFunction('convertToInteractive',\n",
              "                                                     [key], {});\n",
              "          if (!dataTable) return;\n",
              "\n",
              "          const docLinkHtml = 'Like what you see? Visit the ' +\n",
              "            '<a target=\"_blank\" href=https://colab.research.google.com/notebooks/data_table.ipynb>data table notebook</a>'\n",
              "            + ' to learn more about interactive tables.';\n",
              "          element.innerHTML = '';\n",
              "          dataTable['output_type'] = 'display_data';\n",
              "          await google.colab.output.renderOutput(dataTable, element);\n",
              "          const docLink = document.createElement('div');\n",
              "          docLink.innerHTML = docLinkHtml;\n",
              "          element.appendChild(docLink);\n",
              "        }\n",
              "      </script>\n",
              "    </div>\n",
              "  </div>\n",
              "  "
            ]
          },
          "metadata": {},
          "execution_count": 49
        }
      ]
    },
    {
      "cell_type": "markdown",
      "metadata": {
        "id": "Y3b5zYfwHby8"
      },
      "source": [
        "최근 데이터 30행만 사용하겠습니다. 네이버 금융의 데이터가 내림차순으로 되어져 있으므로 오름차순으로 변경합니다."
      ]
    },
    {
      "cell_type": "code",
      "metadata": {
        "id": "TB12AKWTFjo0"
      },
      "source": [
        "df = df.dropna()\n",
        "df = df.iloc[0:30] \n",
        "df = df.sort_values(by='날짜') "
      ],
      "execution_count": 50,
      "outputs": []
    },
    {
      "cell_type": "code",
      "metadata": {
        "colab": {
          "base_uri": "https://localhost:8080/",
          "height": 990
        },
        "id": "pbX6uXiziqnZ",
        "outputId": "4b9cd1dc-e16c-4443-c6b7-7ff836c4f599"
      },
      "source": [
        "df"
      ],
      "execution_count": 51,
      "outputs": [
        {
          "output_type": "execute_result",
          "data": {
            "text/plain": [
              "            날짜       종가     전일비       시가       고가       저가         거래량\n",
              "13  2022.05.23  67900.0   100.0  68800.0  68800.0  67600.0  13684088.0\n",
              "12  2022.05.24  66500.0  1400.0  67500.0  67700.0  66500.0  15482576.0\n",
              "11  2022.05.25  66400.0   100.0  66700.0  67100.0  65900.0  15150490.0\n",
              "10  2022.05.26  65900.0   500.0  66300.0  67200.0  65500.0  15970890.0\n",
              "9   2022.05.27  66500.0   600.0  66700.0  66900.0  66200.0  11405555.0\n",
              "5   2022.05.30  67700.0  1200.0  67500.0  67800.0  66900.0  14255484.0\n",
              "4   2022.05.31  67400.0   300.0  67500.0  67500.0  66700.0  24365002.0\n",
              "3   2022.06.02  66700.0   700.0  66600.0  67000.0  66400.0  14959443.0\n",
              "2   2022.06.03  66800.0   100.0  67200.0  67300.0  66800.0   8222883.0\n",
              "1   2022.06.07  65500.0  1300.0  66200.0  66400.0  65400.0  19355755.0\n",
              "13  2022.06.08  65300.0   200.0  65400.0  65700.0  65300.0  12483180.0\n",
              "12  2022.06.09  65200.0   100.0  65100.0  65200.0  64500.0  25790725.0\n",
              "11  2022.06.10  63800.0  1400.0  64000.0  64400.0  63800.0  22193552.0\n",
              "10  2022.06.13  62100.0  1700.0  62400.0  62800.0  62100.0  22157816.0\n",
              "9   2022.06.14  61900.0   200.0  61200.0  62200.0  61100.0  24606419.0\n",
              "5   2022.06.15  60700.0  1200.0  61300.0  61500.0  60200.0  26811224.0\n",
              "4   2022.06.16  60900.0   200.0  61300.0  61800.0  60500.0  23394895.0\n",
              "3   2022.06.17  59800.0  1100.0  59400.0  59900.0  59400.0  29053450.0\n",
              "2   2022.06.20  58700.0  1100.0  59800.0  59900.0  58100.0  34111306.0\n",
              "1   2022.06.21  58500.0   200.0  58700.0  59200.0  58200.0  25148109.0\n",
              "13  2022.06.22  57600.0   900.0  59000.0  59100.0  57600.0  23334687.0\n",
              "12  2022.06.23  57400.0   200.0  57700.0  58000.0  56800.0  28338608.0\n",
              "11  2022.06.24  58400.0  1000.0  57900.0  59100.0  57700.0  23256103.0\n",
              "10  2022.06.27  58800.0   400.0  59000.0  59900.0  58300.0  18122236.0\n",
              "9   2022.06.28  59400.0   600.0  59200.0  59500.0  58700.0  13540538.0\n",
              "5   2022.06.29  58000.0  1400.0  58500.0  58800.0  58000.0  14677138.0\n",
              "4   2022.06.30  57000.0  1000.0  57200.0  57600.0  57000.0  18915142.0\n",
              "3   2022.07.01  56200.0   800.0  56900.0  57500.0  55900.0  24982097.0\n",
              "2   2022.07.04  57100.0   900.0  56100.0  57400.0  55700.0  17807126.0\n",
              "1   2022.07.05  57200.0   100.0  57600.0  58200.0  57200.0  14063753.0"
            ],
            "text/html": [
              "\n",
              "  <div id=\"df-eca4d7b8-66b3-4d73-8d68-e9e2d8bbe28a\">\n",
              "    <div class=\"colab-df-container\">\n",
              "      <div>\n",
              "<style scoped>\n",
              "    .dataframe tbody tr th:only-of-type {\n",
              "        vertical-align: middle;\n",
              "    }\n",
              "\n",
              "    .dataframe tbody tr th {\n",
              "        vertical-align: top;\n",
              "    }\n",
              "\n",
              "    .dataframe thead th {\n",
              "        text-align: right;\n",
              "    }\n",
              "</style>\n",
              "<table border=\"1\" class=\"dataframe\">\n",
              "  <thead>\n",
              "    <tr style=\"text-align: right;\">\n",
              "      <th></th>\n",
              "      <th>날짜</th>\n",
              "      <th>종가</th>\n",
              "      <th>전일비</th>\n",
              "      <th>시가</th>\n",
              "      <th>고가</th>\n",
              "      <th>저가</th>\n",
              "      <th>거래량</th>\n",
              "    </tr>\n",
              "  </thead>\n",
              "  <tbody>\n",
              "    <tr>\n",
              "      <th>13</th>\n",
              "      <td>2022.05.23</td>\n",
              "      <td>67900.0</td>\n",
              "      <td>100.0</td>\n",
              "      <td>68800.0</td>\n",
              "      <td>68800.0</td>\n",
              "      <td>67600.0</td>\n",
              "      <td>13684088.0</td>\n",
              "    </tr>\n",
              "    <tr>\n",
              "      <th>12</th>\n",
              "      <td>2022.05.24</td>\n",
              "      <td>66500.0</td>\n",
              "      <td>1400.0</td>\n",
              "      <td>67500.0</td>\n",
              "      <td>67700.0</td>\n",
              "      <td>66500.0</td>\n",
              "      <td>15482576.0</td>\n",
              "    </tr>\n",
              "    <tr>\n",
              "      <th>11</th>\n",
              "      <td>2022.05.25</td>\n",
              "      <td>66400.0</td>\n",
              "      <td>100.0</td>\n",
              "      <td>66700.0</td>\n",
              "      <td>67100.0</td>\n",
              "      <td>65900.0</td>\n",
              "      <td>15150490.0</td>\n",
              "    </tr>\n",
              "    <tr>\n",
              "      <th>10</th>\n",
              "      <td>2022.05.26</td>\n",
              "      <td>65900.0</td>\n",
              "      <td>500.0</td>\n",
              "      <td>66300.0</td>\n",
              "      <td>67200.0</td>\n",
              "      <td>65500.0</td>\n",
              "      <td>15970890.0</td>\n",
              "    </tr>\n",
              "    <tr>\n",
              "      <th>9</th>\n",
              "      <td>2022.05.27</td>\n",
              "      <td>66500.0</td>\n",
              "      <td>600.0</td>\n",
              "      <td>66700.0</td>\n",
              "      <td>66900.0</td>\n",
              "      <td>66200.0</td>\n",
              "      <td>11405555.0</td>\n",
              "    </tr>\n",
              "    <tr>\n",
              "      <th>5</th>\n",
              "      <td>2022.05.30</td>\n",
              "      <td>67700.0</td>\n",
              "      <td>1200.0</td>\n",
              "      <td>67500.0</td>\n",
              "      <td>67800.0</td>\n",
              "      <td>66900.0</td>\n",
              "      <td>14255484.0</td>\n",
              "    </tr>\n",
              "    <tr>\n",
              "      <th>4</th>\n",
              "      <td>2022.05.31</td>\n",
              "      <td>67400.0</td>\n",
              "      <td>300.0</td>\n",
              "      <td>67500.0</td>\n",
              "      <td>67500.0</td>\n",
              "      <td>66700.0</td>\n",
              "      <td>24365002.0</td>\n",
              "    </tr>\n",
              "    <tr>\n",
              "      <th>3</th>\n",
              "      <td>2022.06.02</td>\n",
              "      <td>66700.0</td>\n",
              "      <td>700.0</td>\n",
              "      <td>66600.0</td>\n",
              "      <td>67000.0</td>\n",
              "      <td>66400.0</td>\n",
              "      <td>14959443.0</td>\n",
              "    </tr>\n",
              "    <tr>\n",
              "      <th>2</th>\n",
              "      <td>2022.06.03</td>\n",
              "      <td>66800.0</td>\n",
              "      <td>100.0</td>\n",
              "      <td>67200.0</td>\n",
              "      <td>67300.0</td>\n",
              "      <td>66800.0</td>\n",
              "      <td>8222883.0</td>\n",
              "    </tr>\n",
              "    <tr>\n",
              "      <th>1</th>\n",
              "      <td>2022.06.07</td>\n",
              "      <td>65500.0</td>\n",
              "      <td>1300.0</td>\n",
              "      <td>66200.0</td>\n",
              "      <td>66400.0</td>\n",
              "      <td>65400.0</td>\n",
              "      <td>19355755.0</td>\n",
              "    </tr>\n",
              "    <tr>\n",
              "      <th>13</th>\n",
              "      <td>2022.06.08</td>\n",
              "      <td>65300.0</td>\n",
              "      <td>200.0</td>\n",
              "      <td>65400.0</td>\n",
              "      <td>65700.0</td>\n",
              "      <td>65300.0</td>\n",
              "      <td>12483180.0</td>\n",
              "    </tr>\n",
              "    <tr>\n",
              "      <th>12</th>\n",
              "      <td>2022.06.09</td>\n",
              "      <td>65200.0</td>\n",
              "      <td>100.0</td>\n",
              "      <td>65100.0</td>\n",
              "      <td>65200.0</td>\n",
              "      <td>64500.0</td>\n",
              "      <td>25790725.0</td>\n",
              "    </tr>\n",
              "    <tr>\n",
              "      <th>11</th>\n",
              "      <td>2022.06.10</td>\n",
              "      <td>63800.0</td>\n",
              "      <td>1400.0</td>\n",
              "      <td>64000.0</td>\n",
              "      <td>64400.0</td>\n",
              "      <td>63800.0</td>\n",
              "      <td>22193552.0</td>\n",
              "    </tr>\n",
              "    <tr>\n",
              "      <th>10</th>\n",
              "      <td>2022.06.13</td>\n",
              "      <td>62100.0</td>\n",
              "      <td>1700.0</td>\n",
              "      <td>62400.0</td>\n",
              "      <td>62800.0</td>\n",
              "      <td>62100.0</td>\n",
              "      <td>22157816.0</td>\n",
              "    </tr>\n",
              "    <tr>\n",
              "      <th>9</th>\n",
              "      <td>2022.06.14</td>\n",
              "      <td>61900.0</td>\n",
              "      <td>200.0</td>\n",
              "      <td>61200.0</td>\n",
              "      <td>62200.0</td>\n",
              "      <td>61100.0</td>\n",
              "      <td>24606419.0</td>\n",
              "    </tr>\n",
              "    <tr>\n",
              "      <th>5</th>\n",
              "      <td>2022.06.15</td>\n",
              "      <td>60700.0</td>\n",
              "      <td>1200.0</td>\n",
              "      <td>61300.0</td>\n",
              "      <td>61500.0</td>\n",
              "      <td>60200.0</td>\n",
              "      <td>26811224.0</td>\n",
              "    </tr>\n",
              "    <tr>\n",
              "      <th>4</th>\n",
              "      <td>2022.06.16</td>\n",
              "      <td>60900.0</td>\n",
              "      <td>200.0</td>\n",
              "      <td>61300.0</td>\n",
              "      <td>61800.0</td>\n",
              "      <td>60500.0</td>\n",
              "      <td>23394895.0</td>\n",
              "    </tr>\n",
              "    <tr>\n",
              "      <th>3</th>\n",
              "      <td>2022.06.17</td>\n",
              "      <td>59800.0</td>\n",
              "      <td>1100.0</td>\n",
              "      <td>59400.0</td>\n",
              "      <td>59900.0</td>\n",
              "      <td>59400.0</td>\n",
              "      <td>29053450.0</td>\n",
              "    </tr>\n",
              "    <tr>\n",
              "      <th>2</th>\n",
              "      <td>2022.06.20</td>\n",
              "      <td>58700.0</td>\n",
              "      <td>1100.0</td>\n",
              "      <td>59800.0</td>\n",
              "      <td>59900.0</td>\n",
              "      <td>58100.0</td>\n",
              "      <td>34111306.0</td>\n",
              "    </tr>\n",
              "    <tr>\n",
              "      <th>1</th>\n",
              "      <td>2022.06.21</td>\n",
              "      <td>58500.0</td>\n",
              "      <td>200.0</td>\n",
              "      <td>58700.0</td>\n",
              "      <td>59200.0</td>\n",
              "      <td>58200.0</td>\n",
              "      <td>25148109.0</td>\n",
              "    </tr>\n",
              "    <tr>\n",
              "      <th>13</th>\n",
              "      <td>2022.06.22</td>\n",
              "      <td>57600.0</td>\n",
              "      <td>900.0</td>\n",
              "      <td>59000.0</td>\n",
              "      <td>59100.0</td>\n",
              "      <td>57600.0</td>\n",
              "      <td>23334687.0</td>\n",
              "    </tr>\n",
              "    <tr>\n",
              "      <th>12</th>\n",
              "      <td>2022.06.23</td>\n",
              "      <td>57400.0</td>\n",
              "      <td>200.0</td>\n",
              "      <td>57700.0</td>\n",
              "      <td>58000.0</td>\n",
              "      <td>56800.0</td>\n",
              "      <td>28338608.0</td>\n",
              "    </tr>\n",
              "    <tr>\n",
              "      <th>11</th>\n",
              "      <td>2022.06.24</td>\n",
              "      <td>58400.0</td>\n",
              "      <td>1000.0</td>\n",
              "      <td>57900.0</td>\n",
              "      <td>59100.0</td>\n",
              "      <td>57700.0</td>\n",
              "      <td>23256103.0</td>\n",
              "    </tr>\n",
              "    <tr>\n",
              "      <th>10</th>\n",
              "      <td>2022.06.27</td>\n",
              "      <td>58800.0</td>\n",
              "      <td>400.0</td>\n",
              "      <td>59000.0</td>\n",
              "      <td>59900.0</td>\n",
              "      <td>58300.0</td>\n",
              "      <td>18122236.0</td>\n",
              "    </tr>\n",
              "    <tr>\n",
              "      <th>9</th>\n",
              "      <td>2022.06.28</td>\n",
              "      <td>59400.0</td>\n",
              "      <td>600.0</td>\n",
              "      <td>59200.0</td>\n",
              "      <td>59500.0</td>\n",
              "      <td>58700.0</td>\n",
              "      <td>13540538.0</td>\n",
              "    </tr>\n",
              "    <tr>\n",
              "      <th>5</th>\n",
              "      <td>2022.06.29</td>\n",
              "      <td>58000.0</td>\n",
              "      <td>1400.0</td>\n",
              "      <td>58500.0</td>\n",
              "      <td>58800.0</td>\n",
              "      <td>58000.0</td>\n",
              "      <td>14677138.0</td>\n",
              "    </tr>\n",
              "    <tr>\n",
              "      <th>4</th>\n",
              "      <td>2022.06.30</td>\n",
              "      <td>57000.0</td>\n",
              "      <td>1000.0</td>\n",
              "      <td>57200.0</td>\n",
              "      <td>57600.0</td>\n",
              "      <td>57000.0</td>\n",
              "      <td>18915142.0</td>\n",
              "    </tr>\n",
              "    <tr>\n",
              "      <th>3</th>\n",
              "      <td>2022.07.01</td>\n",
              "      <td>56200.0</td>\n",
              "      <td>800.0</td>\n",
              "      <td>56900.0</td>\n",
              "      <td>57500.0</td>\n",
              "      <td>55900.0</td>\n",
              "      <td>24982097.0</td>\n",
              "    </tr>\n",
              "    <tr>\n",
              "      <th>2</th>\n",
              "      <td>2022.07.04</td>\n",
              "      <td>57100.0</td>\n",
              "      <td>900.0</td>\n",
              "      <td>56100.0</td>\n",
              "      <td>57400.0</td>\n",
              "      <td>55700.0</td>\n",
              "      <td>17807126.0</td>\n",
              "    </tr>\n",
              "    <tr>\n",
              "      <th>1</th>\n",
              "      <td>2022.07.05</td>\n",
              "      <td>57200.0</td>\n",
              "      <td>100.0</td>\n",
              "      <td>57600.0</td>\n",
              "      <td>58200.0</td>\n",
              "      <td>57200.0</td>\n",
              "      <td>14063753.0</td>\n",
              "    </tr>\n",
              "  </tbody>\n",
              "</table>\n",
              "</div>\n",
              "      <button class=\"colab-df-convert\" onclick=\"convertToInteractive('df-eca4d7b8-66b3-4d73-8d68-e9e2d8bbe28a')\"\n",
              "              title=\"Convert this dataframe to an interactive table.\"\n",
              "              style=\"display:none;\">\n",
              "        \n",
              "  <svg xmlns=\"http://www.w3.org/2000/svg\" height=\"24px\"viewBox=\"0 0 24 24\"\n",
              "       width=\"24px\">\n",
              "    <path d=\"M0 0h24v24H0V0z\" fill=\"none\"/>\n",
              "    <path d=\"M18.56 5.44l.94 2.06.94-2.06 2.06-.94-2.06-.94-.94-2.06-.94 2.06-2.06.94zm-11 1L8.5 8.5l.94-2.06 2.06-.94-2.06-.94L8.5 2.5l-.94 2.06-2.06.94zm10 10l.94 2.06.94-2.06 2.06-.94-2.06-.94-.94-2.06-.94 2.06-2.06.94z\"/><path d=\"M17.41 7.96l-1.37-1.37c-.4-.4-.92-.59-1.43-.59-.52 0-1.04.2-1.43.59L10.3 9.45l-7.72 7.72c-.78.78-.78 2.05 0 2.83L4 21.41c.39.39.9.59 1.41.59.51 0 1.02-.2 1.41-.59l7.78-7.78 2.81-2.81c.8-.78.8-2.07 0-2.86zM5.41 20L4 18.59l7.72-7.72 1.47 1.35L5.41 20z\"/>\n",
              "  </svg>\n",
              "      </button>\n",
              "      \n",
              "  <style>\n",
              "    .colab-df-container {\n",
              "      display:flex;\n",
              "      flex-wrap:wrap;\n",
              "      gap: 12px;\n",
              "    }\n",
              "\n",
              "    .colab-df-convert {\n",
              "      background-color: #E8F0FE;\n",
              "      border: none;\n",
              "      border-radius: 50%;\n",
              "      cursor: pointer;\n",
              "      display: none;\n",
              "      fill: #1967D2;\n",
              "      height: 32px;\n",
              "      padding: 0 0 0 0;\n",
              "      width: 32px;\n",
              "    }\n",
              "\n",
              "    .colab-df-convert:hover {\n",
              "      background-color: #E2EBFA;\n",
              "      box-shadow: 0px 1px 2px rgba(60, 64, 67, 0.3), 0px 1px 3px 1px rgba(60, 64, 67, 0.15);\n",
              "      fill: #174EA6;\n",
              "    }\n",
              "\n",
              "    [theme=dark] .colab-df-convert {\n",
              "      background-color: #3B4455;\n",
              "      fill: #D2E3FC;\n",
              "    }\n",
              "\n",
              "    [theme=dark] .colab-df-convert:hover {\n",
              "      background-color: #434B5C;\n",
              "      box-shadow: 0px 1px 3px 1px rgba(0, 0, 0, 0.15);\n",
              "      filter: drop-shadow(0px 1px 2px rgba(0, 0, 0, 0.3));\n",
              "      fill: #FFFFFF;\n",
              "    }\n",
              "  </style>\n",
              "\n",
              "      <script>\n",
              "        const buttonEl =\n",
              "          document.querySelector('#df-eca4d7b8-66b3-4d73-8d68-e9e2d8bbe28a button.colab-df-convert');\n",
              "        buttonEl.style.display =\n",
              "          google.colab.kernel.accessAllowed ? 'block' : 'none';\n",
              "\n",
              "        async function convertToInteractive(key) {\n",
              "          const element = document.querySelector('#df-eca4d7b8-66b3-4d73-8d68-e9e2d8bbe28a');\n",
              "          const dataTable =\n",
              "            await google.colab.kernel.invokeFunction('convertToInteractive',\n",
              "                                                     [key], {});\n",
              "          if (!dataTable) return;\n",
              "\n",
              "          const docLinkHtml = 'Like what you see? Visit the ' +\n",
              "            '<a target=\"_blank\" href=https://colab.research.google.com/notebooks/data_table.ipynb>data table notebook</a>'\n",
              "            + ' to learn more about interactive tables.';\n",
              "          element.innerHTML = '';\n",
              "          dataTable['output_type'] = 'display_data';\n",
              "          await google.colab.output.renderOutput(dataTable, element);\n",
              "          const docLink = document.createElement('div');\n",
              "          docLink.innerHTML = docLinkHtml;\n",
              "          element.appendChild(docLink);\n",
              "        }\n",
              "      </script>\n",
              "    </div>\n",
              "  </div>\n",
              "  "
            ]
          },
          "metadata": {},
          "execution_count": 51
        }
      ]
    },
    {
      "cell_type": "code",
      "metadata": {
        "colab": {
          "base_uri": "https://localhost:8080/"
        },
        "id": "DdKNIfl9ndE6",
        "outputId": "79b81a37-6d3a-4453-f452-efde8f9f4f78"
      },
      "source": [
        "len(df)"
      ],
      "execution_count": 52,
      "outputs": [
        {
          "output_type": "execute_result",
          "data": {
            "text/plain": [
              "30"
            ]
          },
          "metadata": {},
          "execution_count": 52
        }
      ]
    },
    {
      "cell_type": "markdown",
      "metadata": {
        "id": "btAj5U90i29X"
      },
      "source": [
        " x축 레이블의 날짜가 겹쳐서 보기어려우므로 90도 회전하여 표시했습니다.  \n",
        "\n",
        "x축은 날짜 데이터로 y축은 종가 데이터로 출력합니다. co는 좌표를 청록색(cyan) 원으로, -는 각 좌표를 실선으로 연결해서 표시합니다."
      ]
    },
    {
      "cell_type": "code",
      "metadata": {
        "colab": {
          "base_uri": "https://localhost:8080/",
          "height": 360
        },
        "id": "mH1FjrIhik7t",
        "outputId": "cb5592b5-7a82-44b5-f0b2-c29ca45bb231"
      },
      "source": [
        "plt.figure(figsize=(15, 5)) \n",
        "plt.title('\bSamsungelec (close)')\n",
        "plt.xticks(rotation=45) \n",
        "plt.plot(df['날짜'], df['종가'], 'co-')\n",
        "plt.grid(color='gray', linestyle='--')\n",
        "plt.show()"
      ],
      "execution_count": 53,
      "outputs": [
        {
          "output_type": "stream",
          "name": "stderr",
          "text": [
            "/usr/local/lib/python3.7/dist-packages/matplotlib/backends/backend_agg.py:214: RuntimeWarning: Glyph 8 missing from current font.\n",
            "  font.set_text(s, 0.0, flags=flags)\n",
            "/usr/local/lib/python3.7/dist-packages/matplotlib/backends/backend_agg.py:183: RuntimeWarning: Glyph 8 missing from current font.\n",
            "  font.set_text(s, 0, flags=flags)\n"
          ]
        },
        {
          "output_type": "display_data",
          "data": {
            "text/plain": [
              "<Figure size 1080x360 with 1 Axes>"
            ],
            "image/png": "[encoded data removed]"
          },
          "metadata": {
            "needs_background": "light"
          }
        }
      ]
    },
    {
      "cell_type": "markdown",
      "metadata": {
        "id": "oFRGnon1Kxi4"
      },
      "source": [
        "##4-1. 구버전 캔들차트"
      ]
    },
    {
      "cell_type": "markdown",
      "metadata": {
        "id": "6mEm64ShKF8Y"
      },
      "source": [
        "이번에는 캔들 차트를 그려봅시다."
      ]
    },
    {
      "cell_type": "markdown",
      "metadata": {
        "id": "-N0bzUD7p4BK"
      },
      "source": [
        "캔들차트 : https://m.blog.naver.com/freeism_7/221866826086"
      ]
    },
    {
      "cell_type": "markdown",
      "metadata": {
        "id": "J7772TSWHv-F"
      },
      "source": [
        "캔들 차트를 그리는 패키지는 구버전과 신저번이 있습니다.  \n",
        "\n",
        "패키지명이 비슷한데, 패키지명 중간에 하이픈(-)이나 언더스코어(_)가 있으면 예전 패키지이고, 중간에 아무 문자도 없는 것이 새로운 패키지입니다.  \n",
        "\n",
        "이 영상에서는 구버전, 새로운 신버전 두 가지 모두를 소개하겠습니다. 수강생분들은 가급적이면 새로운 패키지 버전을 사용하는 것을 권장드립니다.  \n",
        "\n",
        "구버전 : !pip install --upgrade mpl_finance  \n",
        "신버전 : !pip install --upgrade mplfinance"
      ]
    },
    {
      "cell_type": "markdown",
      "metadata": {
        "id": "oW9WspwmJrYM"
      },
      "source": [
        "우선 구버전을 사용해봅시다."
      ]
    },
    {
      "cell_type": "code",
      "metadata": {
        "colab": {
          "base_uri": "https://localhost:8080/"
        },
        "id": "uDdmbkZVGZGC",
        "outputId": "b5cccf26-2722-4c42-db97-abb500b0ea19"
      },
      "source": [
        "pip install --upgrade mpl_finance"
      ],
      "execution_count": 54,
      "outputs": [
        {
          "output_type": "stream",
          "name": "stdout",
          "text": [
            "Looking in indexes: https://pypi.org/simple, https://us-python.pkg.dev/colab-wheels/public/simple/\n",
            "Collecting mpl_finance\n",
            "  Downloading mpl_finance-0.10.1-py3-none-any.whl (8.4 kB)\n",
            "Requirement already satisfied: matplotlib in /usr/local/lib/python3.7/dist-packages (from mpl_finance) (3.2.2)\n",
            "Requirement already satisfied: pyparsing!=2.0.4,!=2.1.2,!=2.1.6,>=2.0.1 in /usr/local/lib/python3.7/dist-packages (from matplotlib->mpl_finance) (3.0.9)\n",
            "Requirement already satisfied: python-dateutil>=2.1 in /usr/local/lib/python3.7/dist-packages (from matplotlib->mpl_finance) (2.8.2)\n",
            "Requirement already satisfied: cycler>=0.10 in /usr/local/lib/python3.7/dist-packages (from matplotlib->mpl_finance) (0.11.0)\n",
            "Requirement already satisfied: kiwisolver>=1.0.1 in /usr/local/lib/python3.7/dist-packages (from matplotlib->mpl_finance) (1.4.3)\n",
            "Requirement already satisfied: numpy>=1.11 in /usr/local/lib/python3.7/dist-packages (from matplotlib->mpl_finance) (1.21.6)\n",
            "Requirement already satisfied: typing-extensions in /usr/local/lib/python3.7/dist-packages (from kiwisolver>=1.0.1->matplotlib->mpl_finance) (4.1.1)\n",
            "Requirement already satisfied: six>=1.5 in /usr/local/lib/python3.7/dist-packages (from python-dateutil>=2.1->matplotlib->mpl_finance) (1.15.0)\n",
            "Installing collected packages: mpl-finance\n",
            "Successfully installed mpl-finance-0.10.1\n"
          ]
        }
      ]
    },
    {
      "cell_type": "code",
      "metadata": {
        "id": "xpd0-MtRJfMj"
      },
      "source": [
        "from mpl_finance import candlestick_ohlc"
      ],
      "execution_count": 55,
      "outputs": []
    },
    {
      "cell_type": "markdown",
      "metadata": {
        "id": "_652PZVEIR_A"
      },
      "source": [
        "우선 구버전으로 캔들 차트를 그려봅시다."
      ]
    },
    {
      "cell_type": "code",
      "metadata": {
        "colab": {
          "base_uri": "https://localhost:8080/",
          "height": 428
        },
        "id": "4DQsJBOkFtIz",
        "outputId": "8bc7408a-4250-4861-923b-862e8d248eed"
      },
      "source": [
        "df = df.sort_values(by='날짜')\n",
        "\n",
        "for idx in range(0, len(df)):\n",
        "    # 날짜열의 %Y.%m.%d 형식 문자열을 datetime 형으로 변환.\n",
        "    dt = datetime.strptime(df['날짜'].values[idx], '%Y.%m.%d').date() \n",
        "    # datetime 형을 float 형으로 변환\n",
        "    df['날짜'].values[idx] = mdates.date2num(dt)\n",
        "  \n",
        "# 날짜(float 형), 시가, 고가, 저가, 종가 열만 갖는 별도의 데이터프레임 생성\n",
        "# 이렇게 하는 이유는 candlestick_ohlc 함수에서 요구하는 형식이기 때문.\n",
        "ohlc = df[['날짜','시가','고가','저가','종가']]\n",
        "\n",
        "plt.figure(figsize=(9, 6))\n",
        "ax = plt.subplot(1, 1, 1)    \n",
        "plt.title('Celltrion (mpl_finance candle stick)')\n",
        "\n",
        "# candlestick_ohlc 함수를 이용하여 캔들차트를 그린다.\n",
        "candlestick_ohlc(ax, ohlc.values, width=0.7, colorup='red', colordown='blue')\n",
        "\n",
        "# x축의 레이블이 숫자. %Y-%m-%d 형식 문자열로 변환하여 표시\n",
        "ax.xaxis.set_major_formatter(mdates.DateFormatter('%Y-%m-%d'))\n",
        "plt.xticks(rotation=45)\n",
        "plt.grid(color='gray', linestyle='--')\n",
        "plt.show()"
      ],
      "execution_count": 56,
      "outputs": [
        {
          "output_type": "display_data",
          "data": {
            "text/plain": [
              "<Figure size 648x432 with 1 Axes>"
            ],
            "image/png": "[encoded data removed]"
          },
          "metadata": {
            "needs_background": "light"
          }
        }
      ]
    },
    {
      "cell_type": "markdown",
      "metadata": {
        "id": "NZAnuc65IVQU"
      },
      "source": [
        "위의 그림처럼 캔들 차트를 이용하면 종가만 표시했을 때는 보이지 않던 하룻 동안의 주가 변동폭을 한 눈에 살펴볼 수 있어 좋지만, 캔들 차트를 그리려면 candlestick_ohlc() 함수를 써야 하는데, 이 함수를 호출하려면 두번째 인수를 (time(float 타입), open, high, low, close, ...) 형태로 넘겨주어야 합니다."
      ]
    },
    {
      "cell_type": "markdown",
      "metadata": {
        "id": "qNyhYXJgIgz0"
      },
      "source": [
        "특히 time은 반드시 float 형태로 넘겨줘야 해서 시간 데이터를 매번 float 형태로 변경해서 처리해야 합니다. 또한 x축의 레이블을 표시하려면 다시 일자 형식으로 변경해야하므로 여러모로 불편한 점이 있습니다.  "
      ]
    },
    {
      "cell_type": "markdown",
      "metadata": {
        "id": "YuKiUIcTItyh"
      },
      "source": [
        "여기까지 구버전 패키지의 사용법이고, 가급적 여러분들이 사용하기를 권장드리는 신버전 패키지의 사용법을 말씀드리겠습니다."
      ]
    },
    {
      "cell_type": "markdown",
      "metadata": {
        "id": "2jhgV-DpKvrF"
      },
      "source": [
        "##4-2. 신버전 캔들차트"
      ]
    },
    {
      "cell_type": "markdown",
      "metadata": {
        "id": "K4MGz4JLIy4b"
      },
      "source": [
        "신버전 패키지 엠피엘파이낸스 패키지를 이용하면 캔들 차트를 더 쉽게 그릴 수 있습니다. 엠피엘파이낸스의 가장 큰 장점은 OHLC 데이터 열과 날짜시간 인덱스(DatetimeIndex)를 포함한 데이터프레임만 있으면 기존에 사용자들이 수동으로 처리했던 데이터 변환 작업을 모두 자동화해준다는 점입니다."
      ]
    },
    {
      "cell_type": "markdown",
      "metadata": {
        "id": "biRbjR3yI-9a"
      },
      "source": [
        "import mplfinance as mpf  \n",
        "mpf.plot(OHLC 데이터프레임, [, title=차트제목] [,  type=차트형태] [, mav=이동평균선] [, volume=거래량 표시여부] [, ylabel=y축레이블])"
      ]
    },
    {
      "cell_type": "markdown",
      "metadata": {
        "id": "QyPFW1HtJKxm"
      },
      "source": [
        "새로운 패키지는 워낙 사용법이 간단하므로 코드를 통해 이해해봅시다. 앞서 작성한 코드를 거의 그대로 사용합니다."
      ]
    },
    {
      "cell_type": "code",
      "metadata": {
        "colab": {
          "base_uri": "https://localhost:8080/"
        },
        "id": "wU1336dnGCIz",
        "outputId": "506af67e-a441-411f-c7d5-b6f92d15506d"
      },
      "source": [
        "# 이전과는 달리 mpl_finance가 아니라 mplfinance이다. 언더바를 뺀다.\n",
        "!pip install --upgrade mplfinance"
      ],
      "execution_count": 57,
      "outputs": [
        {
          "output_type": "stream",
          "name": "stdout",
          "text": [
            "Looking in indexes: https://pypi.org/simple, https://us-python.pkg.dev/colab-wheels/public/simple/\n",
            "Collecting mplfinance\n",
            "  Downloading mplfinance-0.12.9b1-py3-none-any.whl (70 kB)\n",
            "\u001b[K     |████████████████████████████████| 70 kB 6.6 MB/s \n",
            "\u001b[?25hRequirement already satisfied: matplotlib in /usr/local/lib/python3.7/dist-packages (from mplfinance) (3.2.2)\n",
            "Requirement already satisfied: pandas in /usr/local/lib/python3.7/dist-packages (from mplfinance) (1.3.5)\n",
            "Requirement already satisfied: cycler>=0.10 in /usr/local/lib/python3.7/dist-packages (from matplotlib->mplfinance) (0.11.0)\n",
            "Requirement already satisfied: pyparsing!=2.0.4,!=2.1.2,!=2.1.6,>=2.0.1 in /usr/local/lib/python3.7/dist-packages (from matplotlib->mplfinance) (3.0.9)\n",
            "Requirement already satisfied: python-dateutil>=2.1 in /usr/local/lib/python3.7/dist-packages (from matplotlib->mplfinance) (2.8.2)\n",
            "Requirement already satisfied: numpy>=1.11 in /usr/local/lib/python3.7/dist-packages (from matplotlib->mplfinance) (1.21.6)\n",
            "Requirement already satisfied: kiwisolver>=1.0.1 in /usr/local/lib/python3.7/dist-packages (from matplotlib->mplfinance) (1.4.3)\n",
            "Requirement already satisfied: typing-extensions in /usr/local/lib/python3.7/dist-packages (from kiwisolver>=1.0.1->matplotlib->mplfinance) (4.1.1)\n",
            "Requirement already satisfied: six>=1.5 in /usr/local/lib/python3.7/dist-packages (from python-dateutil>=2.1->matplotlib->mplfinance) (1.15.0)\n",
            "Requirement already satisfied: pytz>=2017.3 in /usr/local/lib/python3.7/dist-packages (from pandas->mplfinance) (2022.1)\n",
            "Installing collected packages: mplfinance\n",
            "Successfully installed mplfinance-0.12.9b1\n"
          ]
        }
      ]
    },
    {
      "cell_type": "code",
      "metadata": {
        "id": "t2HPW1L5IEZr"
      },
      "source": [
        "import mplfinance as mpf"
      ],
      "execution_count": 58,
      "outputs": []
    },
    {
      "cell_type": "code",
      "metadata": {
        "colab": {
          "base_uri": "https://localhost:8080/",
          "height": 519
        },
        "id": "2Kvcc2IpH9mj",
        "outputId": "9d1e17aa-79d2-49b9-ff59-e7d3f6e044b8"
      },
      "source": [
        "# 한글 컬럼명을 영어 컬럼명으로 변경\n",
        "df = df.rename(columns={'날짜':'Date', '시가':'Open', '고가':'High', '저가':'Low', '종가':'Close', '거래량':'Volume'})\n",
        "\n",
        "# 네이버 데이터는 날짜가 내림차순 정렬이므로 오름차순으로 변경\n",
        "df = df.sort_values(by='Date')\n",
        "\n",
        "# Date 컬럼을 DatetimeIndex 타입으로 변경 후 인덱스로 설정\n",
        "df.index = pd.to_datetime(df.Date)\n",
        "\n",
        "# Open, High, Low, Close, Volume 컬럼만 갖도록 데이터프레임 구조 변경\n",
        "df = df[['Open', 'High', 'Low', 'Close', 'Volume']]\n",
        "\n",
        "# 코드 한 줄로 캔들 차트 그리기\n",
        "mpf.plot(df, title='Celltrion candle chart', type='candle')"
      ],
      "execution_count": 59,
      "outputs": [
        {
          "output_type": "display_data",
          "data": {
            "text/plain": [
              "<Figure size 800x575 with 2 Axes>"
            ],
            "image/png": "[encoded data removed]"
          },
          "metadata": {}
        }
      ]
    },
    {
      "cell_type": "code",
      "metadata": {
        "colab": {
          "base_uri": "https://localhost:8080/",
          "height": 519
        },
        "id": "jIuPHnPMM50w",
        "outputId": "8e988f76-59e7-4f3f-c0dd-cf341584b06c"
      },
      "source": [
        "# type 인수를 ohlc로 변경하면 또 다른 종류의 차트를 출력할 수 있다.\n",
        "mpf.plot(df, title='Celltrion ohlc chart', type='ohlc')"
      ],
      "execution_count": 60,
      "outputs": [
        {
          "output_type": "display_data",
          "data": {
            "text/plain": [
              "<Figure size 800x575 with 2 Axes>"
            ],
            "image/png": "[encoded data removed]"
          },
          "metadata": {}
        }
      ]
    },
    {
      "cell_type": "code",
      "metadata": {
        "colab": {
          "base_uri": "https://localhost:8080/",
          "height": 520
        },
        "id": "DlHsYae5M7ST",
        "outputId": "bbd16b4f-fa87-4c7b-eae6-eb157efb529b"
      },
      "source": [
        "# 캔들의 색상을 바꾸거나 차트 하단에 그래프를 추가하여 거래량 표시도 가능하다.\n",
        "# 심지어 이동 평균선도 세 개까지 지정해서 출력할 수 있다.\n",
        "\n",
        "# kwargs는 keyword arguments의 약자이며 mpf.plot() 함수를 호출할 때 쓰이는 여러 인수를 담는 딕셔너리.\n",
        "kwargs = dict(title='Celltrion customized chart', type='candle',\n",
        "    mav=(2, 4, 5), volume=True, ylabel='ohlc candles')\n",
        "\n",
        "# 마켓 색상은 스타일을 지정하는 필수 객체로, 상승은 red, 하락은 blue로 지정.\n",
        "mc = mpf.make_marketcolors(up='r', down='b', inherit=True)\n",
        "s  = mpf.make_mpf_style(marketcolors=mc)\n",
        "\n",
        "# 셀트리온 시세 OHLVC 데이터와 kwargs로 설정한 인수들과 스타일 객체를 인수로 넘겨주면서\n",
        "# mpf.plot() 함수를 호출하여 차트를 출력\n",
        "mpf.plot(df, **kwargs, style=s)"
      ],
      "execution_count": 66,
      "outputs": [
        {
          "output_type": "display_data",
          "data": {
            "text/plain": [
              "<Figure size 800x575 with 4 Axes>"
            ],
            "image/png": "[encoded data removed]"
          },
          "metadata": {}
        }
      ]
    },
    {
      "cell_type": "markdown",
      "metadata": {
        "id": "J0K_ssAAIMse"
      },
      "source": [
        "핵심 요약  \n",
        "캔들 차트를 그리려면 예전 방식인 엠피엘_파이낸스(mpl_finance)를 사용하는 방법과 새로 출시된 엠피엘파이낸스(mplfinance) 패키지를 사용하는 방법이 있다. 엠피엘파이낸스 패키지는 데이터프레임 형태의 시세 데이터만 있으면 기존 패키지에서 사용자가 직접 수행하던 작업을 자동화하여 캔들 차트로 바로 출력한다."
      ]
    },
    {
      "cell_type": "markdown",
      "metadata": {
        "id": "EA02wdTvu-LC"
      },
      "source": [
        "# Quiz"
      ]
    },
    {
      "cell_type": "markdown",
      "metadata": {
        "id": "aSMpy3LevFNG"
      },
      "source": [
        "아래와 같은 문자열이 있다고 해봅시다."
      ]
    },
    {
      "cell_type": "code",
      "metadata": {
        "id": "3rKMiBgywPSy"
      },
      "source": [
        "html = '''\n",
        "<html> \n",
        "    <head> \n",
        "    </head> \n",
        "    <body> \n",
        "        <h1> 장바구니\n",
        "            <p id='clothes' class='name' title='라운드티'> 라운드티\n",
        "                <span class = 'number'> 25 </span> \n",
        "                <span class = 'price'> 29000 </span> \n",
        "                <span class = 'menu'> T-shirts </span> \n",
        "                <a href = 'http://www.naver.com'> 바로가기 </a> \n",
        "            </p> \n",
        "            <p id='watch' class='name' title='시계'> 시계\n",
        "                <span class = 'number'> 28 </span>\n",
        "                <span class = 'price'> 32000 </span> \n",
        "                <span class = 'menu'> Accessory </span> \n",
        "                <a href = 'http://www.facebook.com'> 바로가기 </a> \n",
        "            </p> \n",
        "        </h1> \n",
        "    </body> \n",
        "</html>\n",
        "'''"
      ],
      "execution_count": 67,
      "outputs": []
    },
    {
      "cell_type": "markdown",
      "metadata": {
        "id": "d9jE-pibvOnG"
      },
      "source": [
        "## Quiz #1"
      ]
    },
    {
      "cell_type": "markdown",
      "metadata": {
        "id": "pY1oL-6vvRee"
      },
      "source": [
        "위 문자열로부터 soup.select()를 사용하여 다음의 결과를 얻으세요.\n"
      ]
    },
    {
      "cell_type": "markdown",
      "metadata": {
        "id": "ws-5ap9uwlsr"
      },
      "source": [
        "예시 결과\n",
        "```\n",
        "[<span class=\"menu\"> T-shirts </span>, <span class=\"menu\"> Accessory </span>]\n",
        "```"
      ]
    },
    {
      "cell_type": "markdown",
      "metadata": {
        "id": "bG6RggvOxluN"
      },
      "source": [
        "예시 결과만 동일하면 정답입니다. 정답은 한 개가 아닙니다."
      ]
    },
    {
      "cell_type": "code",
      "source": [
        "soup = BeautifulSoup(html, 'html.parser')\n",
        "soup.select('h1 .menu')"
      ],
      "metadata": {
        "colab": {
          "base_uri": "https://localhost:8080/"
        },
        "id": "t4Qqr3vhPMOa",
        "outputId": "124d562a-605e-4cea-da85-12dbd03f3a05"
      },
      "execution_count": 70,
      "outputs": [
        {
          "output_type": "execute_result",
          "data": {
            "text/plain": [
              "[<span class=\"menu\"> T-shirts </span>, <span class=\"menu\"> Accessory </span>]"
            ]
          },
          "metadata": {},
          "execution_count": 70
        }
      ]
    },
    {
      "cell_type": "markdown",
      "metadata": {
        "id": "Wlqbl0SEvqx0"
      },
      "source": [
        "##Quiz #1 풀이"
      ]
    },
    {
      "cell_type": "code",
      "metadata": {
        "id": "KZ7Z-1o3vBDz"
      },
      "source": [
        "# bs4라는 패키지로부터 BeautifulSoup라는 모듈을 임포트\n",
        "from bs4 import BeautifulSoup"
      ],
      "execution_count": null,
      "outputs": []
    },
    {
      "cell_type": "code",
      "metadata": {
        "id": "iK_GgJmqvyrK"
      },
      "source": [
        "# BeautifulSoup 인스턴스 생성. 두번째 매개변수는 분석할 분석기(parser)의 종류.\n",
        "soup = BeautifulSoup(html, 'html.parser')"
      ],
      "execution_count": null,
      "outputs": []
    },
    {
      "cell_type": "code",
      "metadata": {
        "id": "rDJEVZLPvEkO"
      },
      "source": [
        "result = soup.select('h1 .name .menu')"
      ],
      "execution_count": null,
      "outputs": []
    },
    {
      "cell_type": "code",
      "metadata": {
        "colab": {
          "base_uri": "https://localhost:8080/"
        },
        "id": "8ZWEruQ-vv4N",
        "outputId": "9be3b993-8c24-4c9b-af05-49ba4d7495b7"
      },
      "source": [
        "result"
      ],
      "execution_count": null,
      "outputs": [
        {
          "output_type": "execute_result",
          "data": {
            "text/plain": [
              "[<span class=\"menu\"> T-shirts </span>, <span class=\"menu\"> Accessory </span>]"
            ]
          },
          "metadata": {
            "tags": []
          },
          "execution_count": 26
        }
      ]
    },
    {
      "cell_type": "markdown",
      "metadata": {
        "id": "aQpGu1yFxGyb"
      },
      "source": [
        "##Quiz #2"
      ]
    },
    {
      "cell_type": "markdown",
      "metadata": {
        "id": "XVuQGGMjxM0N"
      },
      "source": [
        "위 문자열로부터 soup.select()를 사용하여 다음의 결과를 얻으세요."
      ]
    },
    {
      "cell_type": "markdown",
      "metadata": {
        "id": "6KsV1qvyxPgp"
      },
      "source": [
        "예시 결과\n",
        "```\n",
        "[<a href=\"http://www.naver.com\"> 바로가기 </a>,\n",
        " <a href=\"http://www.facebook.com\"> 바로가기 </a>]\n",
        "```"
      ]
    },
    {
      "cell_type": "markdown",
      "metadata": {
        "id": "hdaEjibNxoYS"
      },
      "source": [
        "예시 결과만 동일하면 정답입니다. 정답은 한 개가 아닙니다."
      ]
    },
    {
      "cell_type": "code",
      "source": [
        "soup = BeautifulSoup(html,'html.parser')\n",
        "soup.select('a')"
      ],
      "metadata": {
        "colab": {
          "base_uri": "https://localhost:8080/"
        },
        "id": "DoJ9KdJBPvrY",
        "outputId": "2f52100a-3066-49ea-f140-7b9244a90098"
      },
      "execution_count": 71,
      "outputs": [
        {
          "output_type": "execute_result",
          "data": {
            "text/plain": [
              "[<a href=\"http://www.naver.com\"> 바로가기 </a>,\n",
              " <a href=\"http://www.facebook.com\"> 바로가기 </a>]"
            ]
          },
          "metadata": {},
          "execution_count": 71
        }
      ]
    },
    {
      "cell_type": "markdown",
      "metadata": {
        "id": "72oYlv8fxUXj"
      },
      "source": [
        "## Quiz #2 풀이"
      ]
    },
    {
      "cell_type": "code",
      "metadata": {
        "id": "wsVOjUIOxXap"
      },
      "source": [
        "# bs4라는 패키지로부터 BeautifulSoup라는 모듈을 임포트\n",
        "from bs4 import BeautifulSoup"
      ],
      "execution_count": null,
      "outputs": []
    },
    {
      "cell_type": "code",
      "metadata": {
        "id": "iXN77FA_xXlm"
      },
      "source": [
        "# BeautifulSoup 인스턴스 생성. 두번째 매개변수는 분석할 분석기(parser)의 종류.\n",
        "soup = BeautifulSoup(html, 'html.parser')"
      ],
      "execution_count": null,
      "outputs": []
    },
    {
      "cell_type": "code",
      "metadata": {
        "id": "S1Uvd0kixYib"
      },
      "source": [
        "result = soup.select('a')"
      ],
      "execution_count": null,
      "outputs": []
    },
    {
      "cell_type": "code",
      "metadata": {
        "colab": {
          "base_uri": "https://localhost:8080/"
        },
        "id": "ZJphVZphxcL1",
        "outputId": "70c1a7f3-3571-4502-dfa1-2c294f484ba7"
      },
      "source": [
        "result"
      ],
      "execution_count": null,
      "outputs": [
        {
          "output_type": "execute_result",
          "data": {
            "text/plain": [
              "[<a href=\"http://www.naver.com\"> 바로가기 </a>,\n",
              " <a href=\"http://www.facebook.com\"> 바로가기 </a>]"
            ]
          },
          "metadata": {
            "tags": []
          },
          "execution_count": 30
        }
      ]
    },
    {
      "cell_type": "markdown",
      "metadata": {
        "id": "tPePnk6TyIqy"
      },
      "source": [
        "## Quiz #3"
      ]
    },
    {
      "cell_type": "markdown",
      "metadata": {
        "id": "nOX2-AsSyKSX"
      },
      "source": [
        "주소 : https://finance.naver.com/sise/sise_group_detail.nhn?type=theme&no=488"
      ]
    },
    {
      "cell_type": "markdown",
      "metadata": {
        "id": "c_JLukIOyMX_"
      },
      "source": [
        "위 주소로부터 테마주 테이블을 추출하여 데이터프레임으로 저장하세요."
      ]
    },
    {
      "cell_type": "code",
      "source": [
        "response = requests.get(' https://finance.naver.com/sise/sise_group_detail.nhn?type=theme&no=488')\n",
        "html = response.text"
      ],
      "metadata": {
        "id": "iRy8UUtCQI-q"
      },
      "execution_count": 74,
      "outputs": []
    },
    {
      "cell_type": "code",
      "source": [
        "soup = BeautifulSoup(html,'html.parser')\n",
        "tables = soup.select('table')\n",
        "len(tables)"
      ],
      "metadata": {
        "colab": {
          "base_uri": "https://localhost:8080/"
        },
        "id": "eQkRsBqxQSTx",
        "outputId": "f5ac861e-9f53-4eb3-e3bc-1ef54b1a61a5"
      },
      "execution_count": 77,
      "outputs": [
        {
          "output_type": "execute_result",
          "data": {
            "text/plain": [
              "3"
            ]
          },
          "metadata": {},
          "execution_count": 77
        }
      ]
    },
    {
      "cell_type": "code",
      "source": [
        "print(tables[2])"
      ],
      "metadata": {
        "colab": {
          "base_uri": "https://localhost:8080/"
        },
        "id": "Wcc9X2AJQkqf",
        "outputId": "0bcb7696-ffa6-4ce5-a661-1e118ce0ee12"
      },
      "execution_count": 83,
      "outputs": [
        {
          "output_type": "stream",
          "name": "stdout",
          "text": [
            "<table cellpadding=\"0\" cellspacing=\"0\" class=\"type_5\" style=\"margin:0 0 10px 0 ;\" summary=\"업종별 시세 리스트\">\n",
            "<caption>업종별 시세</caption>\n",
            "<colgroup>\n",
            "<col width=\"*\"/>\n",
            "<col width=\"11%\"/>\n",
            "<col width=\"9%\"/>\n",
            "<col width=\"9%\"/>\n",
            "<col width=\"8%\"/>\n",
            "<col width=\"8%\"/>\n",
            "<col width=\"8%\"/>\n",
            "<col width=\"8%\"/>\n",
            "<col width=\"8%\"/>\n",
            "<col width=\"6%\"/>\n",
            "</colgroup>\n",
            "<thead>\n",
            "<tr style=\"height:29px\">\n",
            "<th colspan=\"2\">종목명</th>\n",
            "<th>현재가</th>\n",
            "<th>전일비</th>\n",
            "<th>등락률</th>\n",
            "<th>매수호가</th>\n",
            "<th>매도호가</th>\n",
            "<th>거래량</th>\n",
            "<th>거래대금</th>\n",
            "<th>전일거래량</th>\n",
            "<th>토론실</th>\n",
            "</tr>\n",
            "<tr>\n",
            "<td class=\"blank_09\" colspan=\"12\"></td>\n",
            "</tr>\n",
            "</thead>\n",
            "<tbody>\n",
            "<tr onmouseout=\"mouseOut(this)\" onmouseover=\"mouseOver(this)\">\n",
            "<td class=\"name\"><div class=\"name_area\"><a href=\"/item/main.naver?code=035720\">카카오</a> <span class=\"dot\"></span></div></td>\n",
            "<td>\n",
            "<div class=\"theme_info_area\">\n",
            "<a class=\"btn_history\" href=\"javascript:;\" onmouseout=\"mouseThemeToggle(this)\" onmouseover=\"mouseThemeToggle(this)\">\n",
            "<span class=\"blind\">테마 편입 사유</span>\n",
            "</a>\n",
            "<div class=\"info_layer_wrap\" style=\"display:none;\" tabindex=\"0\">\n",
            "<strong class=\"info_title\">카카오</strong>\n",
            "<p class=\"info_txt\">국내 1위 메신저인 카카오톡을 비롯해 다양한 모바일 서비스를 제공하는 종합 플랫폼 업체. 카카오톡을 중심으로 모바일 생태계 안에서 다양한 사업들과의 시너지를 발휘하며 수익을 창출. 연결대상 주요종속회사인 카카오엔터테인먼트(舊 (주)카카오페이지)가 모바일 콘텐츠 플랫폼 서비스(카카오웹툰) 사업을 영위.</p>\n",
            "</div>\n",
            "</div>\n",
            "</td>\n",
            "<td class=\"number\" style=\"padding-right:15px;\">72,000</td>\n",
            "<td class=\"number\" style=\"padding-right:15px;\">\n",
            "<img alt=\"상승\" height=\"6\" src=\"https://ssl.pstatic.net/imgstock/images/images4/ico_up.gif\" style=\"margin-right:4px;\" width=\"7\"/><span class=\"tah p11 red02\">\n",
            "\t\t\t\t3,900\n",
            "\t\t\t\t</span>\n",
            "</td>\n",
            "<td class=\"number\" style=\"padding-right:20px;\">\n",
            "<span class=\"tah p11 red01\">\n",
            "\t\t\t\t+5.73%\n",
            "\t\t\t\t</span>\n",
            "</td>\n",
            "<td class=\"number\" style=\"padding-right:20px;\">71,900</td>\n",
            "<td class=\"number\" style=\"padding-right:20px;\">72,000</td>\n",
            "<td class=\"number\" style=\"padding-right:20px;\">2,110,993</td>\n",
            "<td class=\"number\" style=\"padding-right:20px;\">150,157</td>\n",
            "<td class=\"number\" style=\"padding-right:20px;\">1,019,171</td>\n",
            "<td class=\"center\"><a href=\"/item/board.naver?code=035720\"><img alt=\"토론실\" height=\"13\" src=\"https://ssl.pstatic.net/imgstock/images5/ico_debatebl2.gif\" width=\"15\"/></a></td>\n",
            "</tr>\n",
            "<tr onmouseout=\"mouseOut(this)\" onmouseover=\"mouseOver(this)\">\n",
            "<td class=\"name\"><div class=\"name_area\"><a href=\"/item/main.naver?code=048910\">대원미디어</a> <span class=\"dot\">*</span></div></td>\n",
            "<td>\n",
            "<div class=\"theme_info_area\">\n",
            "<a class=\"btn_history\" href=\"javascript:;\" onmouseout=\"mouseThemeToggle(this)\" onmouseover=\"mouseThemeToggle(this)\">\n",
            "<span class=\"blind\">테마 편입 사유</span>\n",
            "</a>\n",
            "<div class=\"info_layer_wrap\" style=\"display:none;\" tabindex=\"0\">\n",
            "<strong class=\"info_title\">대원미디어</strong>\n",
            "<p class=\"info_txt\">만화 및 애니메이션 콘텐츠 관련 종합 엔터테인먼트 사업을 영위하는 업체. 종속회사 스토리작을 통해 웹툰/웹소설 제작ㆍ유통사업 진행중.</p>\n",
            "</div>\n",
            "</div>\n",
            "</td>\n",
            "<td class=\"number\" style=\"padding-right:15px;\">11,300</td>\n",
            "<td class=\"number\" style=\"padding-right:15px;\">\n",
            "<img alt=\"상승\" height=\"6\" src=\"https://ssl.pstatic.net/imgstock/images/images4/ico_up.gif\" style=\"margin-right:4px;\" width=\"7\"/><span class=\"tah p11 red02\">\n",
            "\t\t\t\t600\n",
            "\t\t\t\t</span>\n",
            "</td>\n",
            "<td class=\"number\" style=\"padding-right:20px;\">\n",
            "<span class=\"tah p11 red01\">\n",
            "\t\t\t\t+5.61%\n",
            "\t\t\t\t</span>\n",
            "</td>\n",
            "<td class=\"number\" style=\"padding-right:20px;\">11,250</td>\n",
            "<td class=\"number\" style=\"padding-right:20px;\">11,300</td>\n",
            "<td class=\"number\" style=\"padding-right:20px;\">56,373</td>\n",
            "<td class=\"number\" style=\"padding-right:20px;\">630</td>\n",
            "<td class=\"number\" style=\"padding-right:20px;\">83,294</td>\n",
            "<td class=\"center\"><a href=\"/item/board.naver?code=048910\"><img alt=\"토론실\" height=\"13\" src=\"https://ssl.pstatic.net/imgstock/images5/ico_debatebl2.gif\" width=\"15\"/></a></td>\n",
            "</tr>\n",
            "<tr onmouseout=\"mouseOut(this)\" onmouseover=\"mouseOver(this)\">\n",
            "<td class=\"name\"><div class=\"name_area\"><a href=\"/item/main.naver?code=020120\">키다리스튜디오</a> <span class=\"dot\"></span></div></td>\n",
            "<td>\n",
            "<div class=\"theme_info_area\">\n",
            "<a class=\"btn_history\" href=\"javascript:;\" onmouseout=\"mouseThemeToggle(this)\" onmouseover=\"mouseThemeToggle(this)\">\n",
            "<span class=\"blind\">테마 편입 사유</span>\n",
            "</a>\n",
            "<div class=\"info_layer_wrap\" style=\"display:none;\" tabindex=\"0\">\n",
            "<strong class=\"info_title\">키다리스튜디오</strong>\n",
            "<p class=\"info_txt\">18년1월 웹툰서비스업체 봄코믹스를 흡수합병함에 따라 웹툰 플랫폼 서비스, 웹툰 제작 등 웹툰 사업을 영위. 다수의 작가들의 저작권과 전송권을 보유하여 독점적으로 서비스하고 있고, 다양한 웹툰 콘텐츠를 봄툰 플랫폼에 선 연재 후 카카오, 네이버, 원스토어 등의 포털에 서비스중.</p>\n",
            "</div>\n",
            "</div>\n",
            "</td>\n",
            "<td class=\"number\" style=\"padding-right:15px;\">7,320</td>\n",
            "<td class=\"number\" style=\"padding-right:15px;\">\n",
            "<img alt=\"상승\" height=\"6\" src=\"https://ssl.pstatic.net/imgstock/images/images4/ico_up.gif\" style=\"margin-right:4px;\" width=\"7\"/><span class=\"tah p11 red02\">\n",
            "\t\t\t\t350\n",
            "\t\t\t\t</span>\n",
            "</td>\n",
            "<td class=\"number\" style=\"padding-right:20px;\">\n",
            "<span class=\"tah p11 red01\">\n",
            "\t\t\t\t+5.02%\n",
            "\t\t\t\t</span>\n",
            "</td>\n",
            "<td class=\"number\" style=\"padding-right:20px;\">7,310</td>\n",
            "<td class=\"number\" style=\"padding-right:20px;\">7,320</td>\n",
            "<td class=\"number\" style=\"padding-right:20px;\">77,007</td>\n",
            "<td class=\"number\" style=\"padding-right:20px;\">557</td>\n",
            "<td class=\"number\" style=\"padding-right:20px;\">103,252</td>\n",
            "<td class=\"center\"><a href=\"/item/board.naver?code=020120\"><img alt=\"토론실\" height=\"13\" src=\"https://ssl.pstatic.net/imgstock/images5/ico_debatebl2.gif\" width=\"15\"/></a></td>\n",
            "</tr>\n",
            "<tr onmouseout=\"mouseOut(this)\" onmouseover=\"mouseOver(this)\">\n",
            "<td class=\"name\"><div class=\"name_area\"><a href=\"/item/main.naver?code=181710\">NHN</a> <span class=\"dot\"></span></div></td>\n",
            "<td>\n",
            "<div class=\"theme_info_area\">\n",
            "<a class=\"btn_history\" href=\"javascript:;\" onmouseout=\"mouseThemeToggle(this)\" onmouseover=\"mouseThemeToggle(this)\">\n",
            "<span class=\"blind\">테마 편입 사유</span>\n",
            "</a>\n",
            "<div class=\"info_layer_wrap\" style=\"display:none;\" tabindex=\"0\">\n",
            "<strong class=\"info_title\">NHN</strong>\n",
            "<p class=\"info_txt\">PC, 모바일 웹툰서비스 플래펌 '코미코(Comico)' 운영중이며, 웹툰서비스 및 소프트웨어 공급업체 NHN JAPAN Corp. 등을 보유.</p>\n",
            "</div>\n",
            "</div>\n",
            "</td>\n",
            "<td class=\"number\" style=\"padding-right:15px;\">29,550</td>\n",
            "<td class=\"number\" style=\"padding-right:15px;\">\n",
            "<img alt=\"상승\" height=\"6\" src=\"https://ssl.pstatic.net/imgstock/images/images4/ico_up.gif\" style=\"margin-right:4px;\" width=\"7\"/><span class=\"tah p11 red02\">\n",
            "\t\t\t\t1,200\n",
            "\t\t\t\t</span>\n",
            "</td>\n",
            "<td class=\"number\" style=\"padding-right:20px;\">\n",
            "<span class=\"tah p11 red01\">\n",
            "\t\t\t\t+4.23%\n",
            "\t\t\t\t</span>\n",
            "</td>\n",
            "<td class=\"number\" style=\"padding-right:20px;\">29,500</td>\n",
            "<td class=\"number\" style=\"padding-right:20px;\">29,550</td>\n",
            "<td class=\"number\" style=\"padding-right:20px;\">50,601</td>\n",
            "<td class=\"number\" style=\"padding-right:20px;\">1,486</td>\n",
            "<td class=\"number\" style=\"padding-right:20px;\">91,988</td>\n",
            "<td class=\"center\"><a href=\"/item/board.naver?code=181710\"><img alt=\"토론실\" height=\"13\" src=\"https://ssl.pstatic.net/imgstock/images5/ico_debatebl2.gif\" width=\"15\"/></a></td>\n",
            "</tr>\n",
            "<tr onmouseout=\"mouseOut(this)\" onmouseover=\"mouseOver(this)\">\n",
            "<td class=\"name\"><div class=\"name_area\"><a href=\"/item/main.naver?code=236810\">엔비티</a> <span class=\"dot\">*</span></div></td>\n",
            "<td>\n",
            "<div class=\"theme_info_area\">\n",
            "<a class=\"btn_history\" href=\"javascript:;\" onmouseout=\"mouseThemeToggle(this)\" onmouseover=\"mouseThemeToggle(this)\">\n",
            "<span class=\"blind\">테마 편입 사유</span>\n",
            "</a>\n",
            "<div class=\"info_layer_wrap\" style=\"display:none;\" tabindex=\"0\">\n",
            "<strong class=\"info_title\">엔비티</strong>\n",
            "<p class=\"info_txt\">제휴 포인트 네트워크 서비스인 '애디슨 오퍼월'을 통해 네이버웹툰을 보기 위한 쿠키 충전소 '쿠키오븐'을 운영중.</p>\n",
            "</div>\n",
            "</div>\n",
            "</td>\n",
            "<td class=\"number\" style=\"padding-right:15px;\">6,870</td>\n",
            "<td class=\"number\" style=\"padding-right:15px;\">\n",
            "<img alt=\"상승\" height=\"6\" src=\"https://ssl.pstatic.net/imgstock/images/images4/ico_up.gif\" style=\"margin-right:4px;\" width=\"7\"/><span class=\"tah p11 red02\">\n",
            "\t\t\t\t250\n",
            "\t\t\t\t</span>\n",
            "</td>\n",
            "<td class=\"number\" style=\"padding-right:20px;\">\n",
            "<span class=\"tah p11 red01\">\n",
            "\t\t\t\t+3.78%\n",
            "\t\t\t\t</span>\n",
            "</td>\n",
            "<td class=\"number\" style=\"padding-right:20px;\">6,870</td>\n",
            "<td class=\"number\" style=\"padding-right:20px;\">6,880</td>\n",
            "<td class=\"number\" style=\"padding-right:20px;\">113,649</td>\n",
            "<td class=\"number\" style=\"padding-right:20px;\">773</td>\n",
            "<td class=\"number\" style=\"padding-right:20px;\">85,535</td>\n",
            "<td class=\"center\"><a href=\"/item/board.naver?code=236810\"><img alt=\"토론실\" height=\"13\" src=\"https://ssl.pstatic.net/imgstock/images5/ico_debatebl2.gif\" width=\"15\"/></a></td>\n",
            "</tr>\n",
            "<tr onmouseout=\"mouseOut(this)\" onmouseover=\"mouseOver(this)\">\n",
            "<td class=\"name\"><div class=\"name_area\"><a href=\"/item/main.naver?code=207760\">미스터블루</a> <span class=\"dot\">*</span></div></td>\n",
            "<td>\n",
            "<div class=\"theme_info_area\">\n",
            "<a class=\"btn_history\" href=\"javascript:;\" onmouseout=\"mouseThemeToggle(this)\" onmouseover=\"mouseThemeToggle(this)\">\n",
            "<span class=\"blind\">테마 편입 사유</span>\n",
            "</a>\n",
            "<div class=\"info_layer_wrap\" style=\"display:none;\" tabindex=\"0\">\n",
            "<strong class=\"info_title\">미스터블루</strong>\n",
            "<p class=\"info_txt\">기업인수목적회사(SPAC) 동부스팩2호가 온라인 만화콘텐츠 서비스 업체 미스터블루를 흡수합병함에 따라 변경 상장된 업체. 온라인 만화, 웹툰, 소설 등의 제작/유통 및 만화출판 등을 주요사업으로 영위. 국내외 다양한 만화와 소설을 인터넷 및 모바일로 제공하고 있음.</p>\n",
            "</div>\n",
            "</div>\n",
            "</td>\n",
            "<td class=\"number\" style=\"padding-right:15px;\">5,290</td>\n",
            "<td class=\"number\" style=\"padding-right:15px;\">\n",
            "<img alt=\"상승\" height=\"6\" src=\"https://ssl.pstatic.net/imgstock/images/images4/ico_up.gif\" style=\"margin-right:4px;\" width=\"7\"/><span class=\"tah p11 red02\">\n",
            "\t\t\t\t190\n",
            "\t\t\t\t</span>\n",
            "</td>\n",
            "<td class=\"number\" style=\"padding-right:20px;\">\n",
            "<span class=\"tah p11 red01\">\n",
            "\t\t\t\t+3.73%\n",
            "\t\t\t\t</span>\n",
            "</td>\n",
            "<td class=\"number\" style=\"padding-right:20px;\">5,280</td>\n",
            "<td class=\"number\" style=\"padding-right:20px;\">5,290</td>\n",
            "<td class=\"number\" style=\"padding-right:20px;\">20,391</td>\n",
            "<td class=\"number\" style=\"padding-right:20px;\">107</td>\n",
            "<td class=\"number\" style=\"padding-right:20px;\">38,380</td>\n",
            "<td class=\"center\"><a href=\"/item/board.naver?code=207760\"><img alt=\"토론실\" height=\"13\" src=\"https://ssl.pstatic.net/imgstock/images5/ico_debatebl2.gif\" width=\"15\"/></a></td>\n",
            "</tr>\n",
            "<tr onmouseout=\"mouseOut(this)\" onmouseover=\"mouseOver(this)\">\n",
            "<td class=\"name\"><div class=\"name_area\"><a href=\"/item/main.naver?code=035420\">NAVER</a> <span class=\"dot\"></span></div></td>\n",
            "<td>\n",
            "<div class=\"theme_info_area\">\n",
            "<a class=\"btn_history\" href=\"javascript:;\" onmouseout=\"mouseThemeToggle(this)\" onmouseover=\"mouseThemeToggle(this)\">\n",
            "<span class=\"blind\">테마 편입 사유</span>\n",
            "</a>\n",
            "<div class=\"info_layer_wrap\" style=\"display:none;\" tabindex=\"0\">\n",
            "<strong class=\"info_title\">NAVER</strong>\n",
            "<p class=\"info_txt\">인터넷 검색포털 사이트 네이버 운영업체. 네이버웹툰(유)(舊, 웹툰엔터테인먼트코리아)을 연결대상 주요종속회사로 보유. 글로벌 1위 웹툰 플랫폼인 네이버웹툰(한국) - LINE Manga(일본) - WEBTOON(미국/유럽) - LINE WEBTOON(동남아)을 운영하는 외에, 한국에서 웹소설/웹툰/디지털 만화 콘텐츠를 유통하는 \"네이버 시리즈\", 드라마/영화 등 영상 콘텐츠를 유통하는 \"네이버 시리즈온\" 서비스를 운영. 21년 세계 최대 웹소설 플랫폼 왓패드(Wattpad) 인수.</p>\n",
            "</div>\n",
            "</div>\n",
            "</td>\n",
            "<td class=\"number\" style=\"padding-right:15px;\">243,000</td>\n",
            "<td class=\"number\" style=\"padding-right:15px;\">\n",
            "<img alt=\"상승\" height=\"6\" src=\"https://ssl.pstatic.net/imgstock/images/images4/ico_up.gif\" style=\"margin-right:4px;\" width=\"7\"/><span class=\"tah p11 red02\">\n",
            "\t\t\t\t8,000\n",
            "\t\t\t\t</span>\n",
            "</td>\n",
            "<td class=\"number\" style=\"padding-right:20px;\">\n",
            "<span class=\"tah p11 red01\">\n",
            "\t\t\t\t+3.40%\n",
            "\t\t\t\t</span>\n",
            "</td>\n",
            "<td class=\"number\" style=\"padding-right:20px;\">243,000</td>\n",
            "<td class=\"number\" style=\"padding-right:20px;\">243,500</td>\n",
            "<td class=\"number\" style=\"padding-right:20px;\">649,975</td>\n",
            "<td class=\"number\" style=\"padding-right:20px;\">158,212</td>\n",
            "<td class=\"number\" style=\"padding-right:20px;\">512,776</td>\n",
            "<td class=\"center\"><a href=\"/item/board.naver?code=035420\"><img alt=\"토론실\" height=\"13\" src=\"https://ssl.pstatic.net/imgstock/images5/ico_debatebl2.gif\" width=\"15\"/></a></td>\n",
            "</tr>\n",
            "<tr onmouseout=\"mouseOut(this)\" onmouseover=\"mouseOver(this)\">\n",
            "<td class=\"name\"><div class=\"name_area\"><a href=\"/item/main.naver?code=263720\">디앤씨미디어</a> <span class=\"dot\">*</span></div></td>\n",
            "<td>\n",
            "<div class=\"theme_info_area\">\n",
            "<a class=\"btn_history\" href=\"javascript:;\" onmouseout=\"mouseThemeToggle(this)\" onmouseover=\"mouseThemeToggle(this)\">\n",
            "<span class=\"blind\">테마 편입 사유</span>\n",
            "</a>\n",
            "<div class=\"info_layer_wrap\" style=\"display:none;\" tabindex=\"0\">\n",
            "<strong class=\"info_title\">디앤씨미디어</strong>\n",
            "<p class=\"info_txt\">웹소설 및 웹툰 전문 콘텐츠 공급업체. 작가 수급 경쟁력과 편집부 기반의 조직을 통해 콘텐츠를 제작하고, 이를 출판·유통하는 사업을 주력으로 영위. 종이책 및 전자책으로 발행하여 예스24, 교보문고, 알라딘 등 온오프라인 서점, 도서대여점 및 카카오페이지, 네이버시리즈, 리디북스 등의 플랫폼 등을 통해 소비자에게 판매·서비스중. 20년12월 웹툰 콘텐츠 및 2차 저작물 제작 부문을 물적분할하여 분할 신설회사 주식회사 디앤씨웹툰비즈를 설립.</p>\n",
            "</div>\n",
            "</div>\n",
            "</td>\n",
            "<td class=\"number\" style=\"padding-right:15px;\">20,450</td>\n",
            "<td class=\"number\" style=\"padding-right:15px;\">\n",
            "<img alt=\"상승\" height=\"6\" src=\"https://ssl.pstatic.net/imgstock/images/images4/ico_up.gif\" style=\"margin-right:4px;\" width=\"7\"/><span class=\"tah p11 red02\">\n",
            "\t\t\t\t350\n",
            "\t\t\t\t</span>\n",
            "</td>\n",
            "<td class=\"number\" style=\"padding-right:20px;\">\n",
            "<span class=\"tah p11 red01\">\n",
            "\t\t\t\t+1.74%\n",
            "\t\t\t\t</span>\n",
            "</td>\n",
            "<td class=\"number\" style=\"padding-right:20px;\">20,250</td>\n",
            "<td class=\"number\" style=\"padding-right:20px;\">20,450</td>\n",
            "<td class=\"number\" style=\"padding-right:20px;\">19,441</td>\n",
            "<td class=\"number\" style=\"padding-right:20px;\">398</td>\n",
            "<td class=\"number\" style=\"padding-right:20px;\">43,007</td>\n",
            "<td class=\"center\"><a href=\"/item/board.naver?code=263720\"><img alt=\"토론실\" height=\"13\" src=\"https://ssl.pstatic.net/imgstock/images5/ico_debatebl2.gif\" width=\"15\"/></a></td>\n",
            "</tr>\n",
            "<tr><td class=\"blank_09\" colspan=\"12\"></td></tr>\n",
            "<tr><td class=\"division_line_1\" colspan=\"12\"></td></tr>\n",
            "</tbody>\n",
            "</table>\n"
          ]
        }
      ]
    },
    {
      "cell_type": "code",
      "source": [
        "df = pd.read_html(str(tables))"
      ],
      "metadata": {
        "id": "O7C4S8-_RXTV"
      },
      "execution_count": 113,
      "outputs": []
    },
    {
      "cell_type": "code",
      "source": [
        "df = df[2]"
      ],
      "metadata": {
        "id": "GQOr4TAcRoA8"
      },
      "execution_count": 114,
      "outputs": []
    },
    {
      "cell_type": "code",
      "source": [
        "del df['Unnamed: 11']\n",
        "del df['토론실']\n"
      ],
      "metadata": {
        "id": "XPOWZ7yzSSSc"
      },
      "execution_count": 115,
      "outputs": []
    },
    {
      "cell_type": "code",
      "source": [
        "df\n",
        "df.dropna()"
      ],
      "metadata": {
        "colab": {
          "base_uri": "https://localhost:8080/",
          "height": 659
        },
        "id": "NejmvpOqSr2e",
        "outputId": "9ea57736-f52e-4095-b8b4-94e9588db188"
      },
      "execution_count": 118,
      "outputs": [
        {
          "output_type": "execute_result",
          "data": {
            "text/plain": [
              "        종목명     종목명.1       현재가     전일비     등락률      매수호가      매도호가  \\\n",
              "1       카카오  테마 편입 사유   72000.0  3900.0  +5.73%   71900.0   72000.0   \n",
              "2   대원미디어 *  테마 편입 사유   11300.0   600.0  +5.61%   11250.0   11300.0   \n",
              "3   키다리스튜디오  테마 편입 사유    7320.0   350.0  +5.02%    7310.0    7320.0   \n",
              "4       NHN  테마 편입 사유   29550.0  1200.0  +4.23%   29500.0   29550.0   \n",
              "5     엔비티 *  테마 편입 사유    6870.0   250.0  +3.78%    6870.0    6880.0   \n",
              "6   미스터블루 *  테마 편입 사유    5290.0   190.0  +3.73%    5280.0    5290.0   \n",
              "7     NAVER  테마 편입 사유  243000.0  8000.0  +3.40%  243000.0  243500.0   \n",
              "8  디앤씨미디어 *  테마 편입 사유   20450.0   350.0  +1.74%   20250.0   20450.0   \n",
              "\n",
              "         거래량      거래대금      전일거래량  \n",
              "1  2110993.0  150157.0  1019171.0  \n",
              "2    56373.0     630.0    83294.0  \n",
              "3    77007.0     557.0   103252.0  \n",
              "4    50601.0    1486.0    91988.0  \n",
              "5   113649.0     773.0    85535.0  \n",
              "6    20391.0     107.0    38380.0  \n",
              "7   649975.0  158212.0   512776.0  \n",
              "8    19441.0     398.0    43007.0  "
            ],
            "text/html": [
              "\n",
              "  <div id=\"df-fa66cae6-5ccc-4c33-83cd-1ae48b48583a\">\n",
              "    <div class=\"colab-df-container\">\n",
              "      <div>\n",
              "<style scoped>\n",
              "    .dataframe tbody tr th:only-of-type {\n",
              "        vertical-align: middle;\n",
              "    }\n",
              "\n",
              "    .dataframe tbody tr th {\n",
              "        vertical-align: top;\n",
              "    }\n",
              "\n",
              "    .dataframe thead th {\n",
              "        text-align: right;\n",
              "    }\n",
              "</style>\n",
              "<table border=\"1\" class=\"dataframe\">\n",
              "  <thead>\n",
              "    <tr style=\"text-align: right;\">\n",
              "      <th></th>\n",
              "      <th>종목명</th>\n",
              "      <th>종목명.1</th>\n",
              "      <th>현재가</th>\n",
              "      <th>전일비</th>\n",
              "      <th>등락률</th>\n",
              "      <th>매수호가</th>\n",
              "      <th>매도호가</th>\n",
              "      <th>거래량</th>\n",
              "      <th>거래대금</th>\n",
              "      <th>전일거래량</th>\n",
              "    </tr>\n",
              "  </thead>\n",
              "  <tbody>\n",
              "    <tr>\n",
              "      <th>1</th>\n",
              "      <td>카카오</td>\n",
              "      <td>테마 편입 사유</td>\n",
              "      <td>72000.0</td>\n",
              "      <td>3900.0</td>\n",
              "      <td>+5.73%</td>\n",
              "      <td>71900.0</td>\n",
              "      <td>72000.0</td>\n",
              "      <td>2110993.0</td>\n",
              "      <td>150157.0</td>\n",
              "      <td>1019171.0</td>\n",
              "    </tr>\n",
              "    <tr>\n",
              "      <th>2</th>\n",
              "      <td>대원미디어 *</td>\n",
              "      <td>테마 편입 사유</td>\n",
              "      <td>11300.0</td>\n",
              "      <td>600.0</td>\n",
              "      <td>+5.61%</td>\n",
              "      <td>11250.0</td>\n",
              "      <td>11300.0</td>\n",
              "      <td>56373.0</td>\n",
              "      <td>630.0</td>\n",
              "      <td>83294.0</td>\n",
              "    </tr>\n",
              "    <tr>\n",
              "      <th>3</th>\n",
              "      <td>키다리스튜디오</td>\n",
              "      <td>테마 편입 사유</td>\n",
              "      <td>7320.0</td>\n",
              "      <td>350.0</td>\n",
              "      <td>+5.02%</td>\n",
              "      <td>7310.0</td>\n",
              "      <td>7320.0</td>\n",
              "      <td>77007.0</td>\n",
              "      <td>557.0</td>\n",
              "      <td>103252.0</td>\n",
              "    </tr>\n",
              "    <tr>\n",
              "      <th>4</th>\n",
              "      <td>NHN</td>\n",
              "      <td>테마 편입 사유</td>\n",
              "      <td>29550.0</td>\n",
              "      <td>1200.0</td>\n",
              "      <td>+4.23%</td>\n",
              "      <td>29500.0</td>\n",
              "      <td>29550.0</td>\n",
              "      <td>50601.0</td>\n",
              "      <td>1486.0</td>\n",
              "      <td>91988.0</td>\n",
              "    </tr>\n",
              "    <tr>\n",
              "      <th>5</th>\n",
              "      <td>엔비티 *</td>\n",
              "      <td>테마 편입 사유</td>\n",
              "      <td>6870.0</td>\n",
              "      <td>250.0</td>\n",
              "      <td>+3.78%</td>\n",
              "      <td>6870.0</td>\n",
              "      <td>6880.0</td>\n",
              "      <td>113649.0</td>\n",
              "      <td>773.0</td>\n",
              "      <td>85535.0</td>\n",
              "    </tr>\n",
              "    <tr>\n",
              "      <th>6</th>\n",
              "      <td>미스터블루 *</td>\n",
              "      <td>테마 편입 사유</td>\n",
              "      <td>5290.0</td>\n",
              "      <td>190.0</td>\n",
              "      <td>+3.73%</td>\n",
              "      <td>5280.0</td>\n",
              "      <td>5290.0</td>\n",
              "      <td>20391.0</td>\n",
              "      <td>107.0</td>\n",
              "      <td>38380.0</td>\n",
              "    </tr>\n",
              "    <tr>\n",
              "      <th>7</th>\n",
              "      <td>NAVER</td>\n",
              "      <td>테마 편입 사유</td>\n",
              "      <td>243000.0</td>\n",
              "      <td>8000.0</td>\n",
              "      <td>+3.40%</td>\n",
              "      <td>243000.0</td>\n",
              "      <td>243500.0</td>\n",
              "      <td>649975.0</td>\n",
              "      <td>158212.0</td>\n",
              "      <td>512776.0</td>\n",
              "    </tr>\n",
              "    <tr>\n",
              "      <th>8</th>\n",
              "      <td>디앤씨미디어 *</td>\n",
              "      <td>테마 편입 사유</td>\n",
              "      <td>20450.0</td>\n",
              "      <td>350.0</td>\n",
              "      <td>+1.74%</td>\n",
              "      <td>20250.0</td>\n",
              "      <td>20450.0</td>\n",
              "      <td>19441.0</td>\n",
              "      <td>398.0</td>\n",
              "      <td>43007.0</td>\n",
              "    </tr>\n",
              "  </tbody>\n",
              "</table>\n",
              "</div>\n",
              "      <button class=\"colab-df-convert\" onclick=\"convertToInteractive('df-fa66cae6-5ccc-4c33-83cd-1ae48b48583a')\"\n",
              "              title=\"Convert this dataframe to an interactive table.\"\n",
              "              style=\"display:none;\">\n",
              "        \n",
              "  <svg xmlns=\"http://www.w3.org/2000/svg\" height=\"24px\"viewBox=\"0 0 24 24\"\n",
              "       width=\"24px\">\n",
              "    <path d=\"M0 0h24v24H0V0z\" fill=\"none\"/>\n",
              "    <path d=\"M18.56 5.44l.94 2.06.94-2.06 2.06-.94-2.06-.94-.94-2.06-.94 2.06-2.06.94zm-11 1L8.5 8.5l.94-2.06 2.06-.94-2.06-.94L8.5 2.5l-.94 2.06-2.06.94zm10 10l.94 2.06.94-2.06 2.06-.94-2.06-.94-.94-2.06-.94 2.06-2.06.94z\"/><path d=\"M17.41 7.96l-1.37-1.37c-.4-.4-.92-.59-1.43-.59-.52 0-1.04.2-1.43.59L10.3 9.45l-7.72 7.72c-.78.78-.78 2.05 0 2.83L4 21.41c.39.39.9.59 1.41.59.51 0 1.02-.2 1.41-.59l7.78-7.78 2.81-2.81c.8-.78.8-2.07 0-2.86zM5.41 20L4 18.59l7.72-7.72 1.47 1.35L5.41 20z\"/>\n",
              "  </svg>\n",
              "      </button>\n",
              "      \n",
              "  <style>\n",
              "    .colab-df-container {\n",
              "      display:flex;\n",
              "      flex-wrap:wrap;\n",
              "      gap: 12px;\n",
              "    }\n",
              "\n",
              "    .colab-df-convert {\n",
              "      background-color: #E8F0FE;\n",
              "      border: none;\n",
              "      border-radius: 50%;\n",
              "      cursor: pointer;\n",
              "      display: none;\n",
              "      fill: #1967D2;\n",
              "      height: 32px;\n",
              "      padding: 0 0 0 0;\n",
              "      width: 32px;\n",
              "    }\n",
              "\n",
              "    .colab-df-convert:hover {\n",
              "      background-color: #E2EBFA;\n",
              "      box-shadow: 0px 1px 2px rgba(60, 64, 67, 0.3), 0px 1px 3px 1px rgba(60, 64, 67, 0.15);\n",
              "      fill: #174EA6;\n",
              "    }\n",
              "\n",
              "    [theme=dark] .colab-df-convert {\n",
              "      background-color: #3B4455;\n",
              "      fill: #D2E3FC;\n",
              "    }\n",
              "\n",
              "    [theme=dark] .colab-df-convert:hover {\n",
              "      background-color: #434B5C;\n",
              "      box-shadow: 0px 1px 3px 1px rgba(0, 0, 0, 0.15);\n",
              "      filter: drop-shadow(0px 1px 2px rgba(0, 0, 0, 0.3));\n",
              "      fill: #FFFFFF;\n",
              "    }\n",
              "  </style>\n",
              "\n",
              "      <script>\n",
              "        const buttonEl =\n",
              "          document.querySelector('#df-fa66cae6-5ccc-4c33-83cd-1ae48b48583a button.colab-df-convert');\n",
              "        buttonEl.style.display =\n",
              "          google.colab.kernel.accessAllowed ? 'block' : 'none';\n",
              "\n",
              "        async function convertToInteractive(key) {\n",
              "          const element = document.querySelector('#df-fa66cae6-5ccc-4c33-83cd-1ae48b48583a');\n",
              "          const dataTable =\n",
              "            await google.colab.kernel.invokeFunction('convertToInteractive',\n",
              "                                                     [key], {});\n",
              "          if (!dataTable) return;\n",
              "\n",
              "          const docLinkHtml = 'Like what you see? Visit the ' +\n",
              "            '<a target=\"_blank\" href=https://colab.research.google.com/notebooks/data_table.ipynb>data table notebook</a>'\n",
              "            + ' to learn more about interactive tables.';\n",
              "          element.innerHTML = '';\n",
              "          dataTable['output_type'] = 'display_data';\n",
              "          await google.colab.output.renderOutput(dataTable, element);\n",
              "          const docLink = document.createElement('div');\n",
              "          docLink.innerHTML = docLinkHtml;\n",
              "          element.appendChild(docLink);\n",
              "        }\n",
              "      </script>\n",
              "    </div>\n",
              "  </div>\n",
              "  "
            ]
          },
          "metadata": {},
          "execution_count": 118
        }
      ]
    },
    {
      "cell_type": "markdown",
      "metadata": {
        "id": "x-qtK074zasR"
      },
      "source": [
        "## Quiz #3 풀이"
      ]
    },
    {
      "cell_type": "code",
      "metadata": {
        "id": "9gxS3L1NyUoP"
      },
      "source": [
        "import requests\n",
        "import pandas as pd\n",
        "from bs4 import BeautifulSoup as bs"
      ],
      "execution_count": null,
      "outputs": []
    },
    {
      "cell_type": "code",
      "metadata": {
        "id": "PdSONz3cyUx_"
      },
      "source": [
        "url = 'https://finance.naver.com/sise/sise_group_detail.nhn?type=theme&no=488'"
      ],
      "execution_count": null,
      "outputs": []
    },
    {
      "cell_type": "code",
      "metadata": {
        "id": "9SR5-J81yYDl"
      },
      "source": [
        "headers = {'user-agent': 'Mozilla/5.0 (Macintosh; Intel Mac OS X 10_15_7) AppleWebKit/537.36 (KHTML, like Gecko) Chrome/88.0.4324.96 Safari/537.36'}\n",
        "response = requests.get(url, headers=headers)"
      ],
      "execution_count": null,
      "outputs": []
    },
    {
      "cell_type": "code",
      "metadata": {
        "colab": {
          "base_uri": "https://localhost:8080/",
          "height": 92
        },
        "id": "YFibieg6yaEl",
        "outputId": "714bb74a-4c2c-49b5-b2db-9bdf7f40017d"
      },
      "source": [
        "response.text"
      ],
      "execution_count": null,
      "outputs": [
        {
          "output_type": "execute_result",
          "data": {
            "application/vnd.google.colaboratory.intrinsic+json": {
              "type": "string"
            },
            "text/plain": [
              "'\\n\\n\\n\\n\\n\\n\\n<!--  global include -->\\n\\n\\t\\n\\t\\n\\t\\n\\t\\n\\t\\n<html lang=\\'ko\\'>\\n<head>\\n\\n\\n\\t\\n\\t\\n\\t\\t\\n\\t\\t\\t\\n\\t\\t\\t\\n\\t\\t\\t\\t<title>웹툰 : 네이버 금융</title>\\n\\t\\t\\t\\n\\t\\t\\n\\t\\n\\n\\n\\n\\n\\n\\t\\n\\t\\n\\t\\t<meta http-equiv=\"Content-Type\" content=\"text/html; charset=utf-8\" />\\n\\t\\n\\n\\n<meta http-equiv=\"Content-Script-Type\" content=\"text/javascript\">\\n<meta http-equiv=\"Content-Style-Type\" content=\"text/css\">\\n\\n\\n\\n\\n\\n\\t\\n    \\n        <meta property=\"og:url\" content=\"http://finance.naver.com/sise/sise_group_detail.nhn\"/>\\n        \\n\\t\\t\\t\\n\\t\\t    \\n\\t\\t    \\t<meta property=\"og:title\" content=\"웹툰 : 네이버 금융\"/>\\n\\t\\t     \\n\\t\\t\\n\\t\\t\\n\\t\\t\\t\\n\\t\\t\\t   <meta property=\"og:description\" content=\"관심종목의 실시간 주가를 가장 빠르게 확인하는 곳\"/>\\n\\t\\t    \\n\\t\\t    \\n\\t\\t\\n\\t\\t \\n\\t\\t\\t\\n\\t\\t\\t    <meta property=\"og:image\" content=\"https://ssl.pstatic.net/static/m/stock/im/2016/08/og_stock-200.png\"/>\\n\\t\\t    \\n\\t\\t    \\n\\t\\t\\n    \\n\\n<meta property=\"og:type\" content=\"article\"/>\\n<meta property=\"og:article:thumbnailUrl\" content=\"\"/>\\n<meta property=\"og:article:author\" content=\"네이버금융\"/>\\n<meta property=\"og:article:author:url\" content=\"http://FINANCE.NAVER.COM\"/>\\n\\n\\n\\n\\n<link rel=\\'stylesheet\\' type=\\'text/css\\' href=\\'https://ssl.pstatic.net/imgstock/static.pc/20210630141623/css/finance_header.css\\'>\\n\\n\\t\\n\\t\\n\\t\\n\\t\\n\\t\\t\\n\\t\\t<link rel=\"stylesheet\" type=\"text/css\" href=\"https://ssl.pstatic.net/imgstock/static.pc/20210630141623/css/newstock.css\">\\n\\t\\t<link rel=\"stylesheet\" type=\"text/css\" href=\"https://ssl.pstatic.net/imgstock/static.pc/20210630141623/css/common.css\">\\n\\t\\t<link rel=\"stylesheet\" type=\"text/css\" href=\"https://ssl.pstatic.net/imgstock/static.pc/20210630141623/css/layout.css\">\\n\\t\\t<link rel=\"stylesheet\" type=\"text/css\" href=\"https://ssl.pstatic.net/imgstock/static.pc/20210630141623/css/main.css\">\\n\\t\\t<link rel=\"stylesheet\" type=\"text/css\" href=\"https://ssl.pstatic.net/imgstock/static.pc/20210630141623/css/newstock2.css\">\\n\\t\\t<link rel=\"stylesheet\" type=\"text/css\" href=\"https://ssl.pstatic.net/imgstock/static.pc/20210630141623/css/newstock3.css\">\\n\\t\\t<link rel=\"stylesheet\" type=\"text/css\" href=\"https://ssl.pstatic.net/imgstock/static.pc/20210630141623/css/world.css\">\\n\\t\\t\\n\\t\\t\\t\\n\\t\\t\\t\\n\\t\\t\\t\\t<script type=\"text/javascript\" src=\"https://ssl.pstatic.net/imgstock/static.pc/20210630141623/js/jindo.min.ns.1.5.3.euckr.js\"></script>\\n\\t\\t\\t\\t<script type=\"text/javascript\" src=\"https://ssl.pstatic.net/imgstock/static.pc/20210630141623/js/release/common.js\"></script>\\n\\t\\t\\t\\t<script type=\"text/javascript\" src=\"https://ssl.pstatic.net/imgstock/static.pc/20210630141623/js/jindoComponent/jindo.Component.1.0.3.js\"></script>\\n\\t\\t\\t\\t<script type=\"text/javascript\" src=\"https://ssl.pstatic.net/imgstock/static.pc/20210630141623/js/nhn.autocomplete.stock.js\"></script>\\n\\t\\t\\t\\n\\t\\t\\n\\n\\t\\t\\n\\t\\t\\t<link rel=\"stylesheet\" type=\"text/css\" href=\"https://ssl.pstatic.net/imgstock/static.pc/20210630141623/css/chartiq.css\">\\n\\t\\t\\t<script type=\"text/javascript\" src=\"https://ssl.pstatic.net/imgstock/static.pc/20210630141623/js/thirdparty/html2canvas.min.js\"></script>\\n\\t\\t\\n\\t\\n\\n\\t<!-- smart channel 광고 -->\\n\\t<script async src=\"https://ssl.pstatic.net/tveta/libs/glad/prod/gfp-core.js\">\\n\\t\\t</script>\\n\\t<script type=\"text/javascript\">\\n\\t\\twindow.gladsdk = window.gladsdk || { cmd: [] };\\n\\n\\t\\tgladsdk.cmd.push(function() {\\n\\t\\t\\t\\tgladsdk.defineAdSlot({\\n                    adUnitId: \"p_stock\",\\n                    adSlotElementId: \"_SmartChannelTopBanner\",\\n                    uct: \"KR\",\\n                    customParam: {\\n                        calp: \\n\\t\\t\\t\\t\\t\\t\\t\\n\\t\\t\\t\\t\\t\\t\\t\"domestic\"\\n\\t\\t\\t\\t\\t\\t\\t\\n\\t\\t\\t\\t\\t\\t\\t\\n\\t\\t\\t\\t\\t\\t\\t\\n\\t\\t\\t\\t\\t\\t\\t\\n\\t\\t\\t\\t\\t\\t\\t\\n                    },\\n                });\\n\\n                gladsdk.addEventListener(gladsdk.event.AD_LOADED, function(ad) {\\n                    //console.log(gladsdk.event.AD_LOADED);\\n                });\\n                gladsdk.addEventListener(gladsdk.event.AD_CLICKED, function(ad) {\\n                    //console.log(gladsdk.event.AD_CLICKED);\\n                });\\n                gladsdk.addEventListener(gladsdk.event.AD_IMPRESSED, function(ad) {\\n                    //console.log(gladsdk.event.AD_IMPRESSED);\\n                });\\n                gladsdk.addEventListener(gladsdk.event.ERROR, function(ad, error) {\\n                    //TODO: 오류 로깅처리\\n                    //console.log(gladsdk.event.ERROR);\\n                });\\n            });\\n\\n\\t</script>\\n\\n\\t<link rel=\"shortcut icon\" href=\"https://www.naver.com/favicon.ico\" type=\"image/x-icon\">\\n\\t\\n\\t<script type=\"text/javascript\">\\n    (function(){\\n        var sUserAgent = navigator.userAgent;\\n        if(/iPhone|iPad/.test(sUserAgent)){\\n            document.write(\\n                [\\n\\t\\t\\t\\t\\t\\'<link rel=\"apple-touch-icon-precomposed\" sizes=\"120x120\" href=\"https://ssl.pstatic.net/static/nfinance/ico/2018_ios_120X120_iphone.png\" />\\',\\n\\t\\t\\t\\t\\t\\'<link rel=\"apple-touch-icon-precomposed\" sizes=\"152x152\" href=\"https://ssl.pstatic.net/static/nfinance/ico/2018_ios_152x152_ipad.png\" />\\',\\n\\t\\t\\t\\t\\t\\'<link rel=\"apple-touch-icon-precomposed\" sizes=\"167x167\" href=\"https://ssl.pstatic.net/static/nfinance/ico/2018_ios_167x167_ipad_pro.png\" />\\',\\n\\t\\t\\t\\t\\t\\'<link rel=\"apple-touch-icon-precomposed\" sizes=\"180x180\" href=\"https://ssl.pstatic.net/static/nfinance/ico/2018_ios_180x180_iphone.png\" />\\'\\n                ]\\n                .join(\\'\\\\n\\')\\n            );\\n        }\\n\\n        if(/Android/.test(sUserAgent)){\\n            document.write(\\n                [\\n                    \\'<link rel=\"apple-touch-icon-precomposed\" sizes=\"72x72\" href=\"https://ssl.pstatic.net/static/nfinance/ico/2018_android_72x72_xxxhpdi.png\" />\\',\\n                    \\'<link rel=\"apple-touch-icon-precomposed\" sizes=\"96x96\" href=\"https://ssl.pstatic.net/static/nfinance/ico/2018_android_96x96_xxxhpdi.png\" />\\',\\n                    \\'<link rel=\"apple-touch-icon-precomposed\" sizes=\"144x144\" href=\"https://ssl.pstatic.net/static/nfinance/ico/2018_android_144x144_xxxhpdi.png\" />\\',\\n                    \\'<link rel=\"apple-touch-icon-precomposed\" sizes=\"192x192\" href=\"https://ssl.pstatic.net/static/nfinance/ico/2018_android_192x192_xxxhpdi.png\" />\\'\\n\\t\\t\\t\\t]\\n\\t\\t\\t\\t.join(\\'\\\\n\\')\\n\\t\\t\\t);\\n        }\\n    })();\\n    </script>\\n</head>\\n\\n\\n\\n\\n<body onload=\\'getGNB();\\'>\\n\\n\\n\\n<script type=\"text/javascript\">\\n\\tdocument.domain = \\'naver.com\\';\\n\\tvar nclk_evt = 3;\\n\\tnclk_do();\\n</script>\\n\\n\\n<script type=\"text/javascript\">\\n\\n\\n\\n\\nvar nsc=\"finance.stock\";\\n\\n\\n\\n\\n\\nvar ccsrv=\"cc.naver.com\";\\n\\n\\n\\t\\n\\t\\n\\tvar gnb_service=\\'finance\\';\\n\\t\\n\\n\\nvar gnb_logout=document.URL; //GNB에서 로그아웃 후 redirect 될 URL\\nvar gnb_searchbox=\\'off\\'; //미니 검색창을 on 할지 off 할지. default는 off\\nvar gnb_shortnick=\\'off\\'; //닉네임 말줄임(10자)을 on할지 off 할지. default는 off.\\n\\n\\nvar gnb_naverme_layer_open_callback = function(){\\n\\t   var naverLayerSize = gnbNaverMeLayer.getLayerSize();\\n\\t\\t\\n\\t\\tvar me_layers = document.getElementById(\"me_layers\");\\n\\t\\tme_layers.width=naverLayerSize.width;\\n\\t\\tme_layers.height=naverLayerSize.height;};\\n\\nvar gnb_naverme_layer_close_callback = function(){\\n\\t\\t\\n\\t\\t\\tvar me_layers = document.getElementById(\"me_layers\");\\n\\t\\t\\tme_layers.width=\"0\";\\n\\t\\t\\tme_layers.height=\"0\";};\\n</script>\\n\\n\\n<div id=\"u_skip\">\\n\\t<a href=\"#menu\" tabindex=\"1\"><span>메인 메뉴로 바로가기</span></a>\\n\\n\\t\\n\\t\\n\\t\\t<a href=\"#start\" tabindex=\"2\"><span>본문으로 바로가기</span></a>\\n\\t\\n\\n</div>\\n\\n\\n<div id=\"header\">\\n\\t<div class=\"snb_area\">\\n\\t\\t<div class=\"snb_inner\">\\n\\t\\t\\t<div id=\"gnb_area\">\\n\\t\\t\\t\\t<div id=\"gnb\">\\n\\t\\t\\t\\t\\t<script charset=\"EUC-KR\" type=\"text/javascript\">\\n\\t\\t\\t\\t\\tvar gnb_service = \"gnbtest\";\\n                    var gnb_template = location.protocol == \"http:\" ? \"gnb_quirks_euckr\" : \"gnb_utf8\" ;\\n\\t\\t\\t\\t\\tvar gnb_dark = false;\\n\\t\\t\\t\\t\\tvar gnb_brightness = 1;\\n\\t\\t\\t\\t\\tvar gnb_logout=encodeURIComponent(location.href);\\n\\t\\t\\t\\t\\tvar gnb_one_naver = 1;\\n\\t\\t\\t\\t\\t</script>\\n\\t\\t\\t\\t\\t\\n\\t\\t\\t\\t\\t\\t\\n\\t\\t\\t\\t\\t\\t\\n\\t\\t\\t\\t\\t\\t\\t<script type=\"text/javascript\" charset=\"utf-8\" src=\"https://ssl.pstatic.net/static.gn/templates/gnb_utf8.nhn?20210708\">\\n                    \\t\\t</script>\\n\\t\\t\\t\\t\\t\\t\\n\\t\\t\\t\\t\\t\\n\\t\\t\\t\\t</div>\\n\\t\\t\\t</div>\\n\\n\\t\\t\\t<div class=\"sta\">\\n\\t\\t\\t\\t<h1 class=\"logo\"> <a href=\"https://www.naver.com/\" class=\"logo_naver\" onClick=\"clickcr(this, \\'STA.naver\\', \\'\\', \\'\\', event);\"><span class=\"blind\">네이버</span></a>\\n\\t\\t\\t\\t<a href=\"/\" class=\"logo_service\" onClick=\"clickcr(this, \\'STA.finance\\', \\'\\', \\'\\', event);\"><span class=\"blind\">금융</span></a> </h1>\\n\\t\\t\\t\\t<form name=\"search\" action=\"/search/search.nhn\"  method=\"get\"\\n\\t\\t\\t\\t\\tonsubmit=\"return delayed_submit(this)\" style=\"margin:0; padding:0;\">\\n\\t\\t\\t\\t<fieldset>\\n\\t\\t\\t\\t\\t<legend>검색</legend>\\n\\t\\t\\t\\t\\t<div class=\"snb_search_box\">\\n\\t\\t\\t\\t\\t\\t<div class=\"snb_search_box_sub\">\\n\\t\\t\\t\\t\\t\\t\\t<input id=\"stock_items\" type=\"text\" title=\"검색\" name=\"query\" value=\"종목명&middot;지수명&middot;펀드명&middot;환율명&middot;원자재명 입력\" accesskey=\"s\" class=\"snb_search_text snb_default\" autocomplete=\"off\">\\n\\t\\t\\t\\t\\t\\t\\t<a id=\"nautocomplete\" href=\"#\" onclick=\"return false\" class=\"btn_arrow\"><span class=\"blind\">자동완성 펼치기</span></a>\\n\\t\\t\\t\\t\\t\\t</div>\\n\\t\\t\\t\\t\\t\\t<div class=\"auto_area\">\\n\\t\\t\\t\\t\\t\\t\\t<h2 class=\"blind\">자동완성</h2>\\n\\t\\t\\t\\t\\t\\t\\t<iframe id=\"autoFrame\" src=\"/ac/reatcmp.nhn?menu=sise&submenu=\" scrolling=\"no\" height=\"0\" frameborder=\"0\" width=\"400\" style=\"display: none;\" marginheight=\"0\" marginwidth=\"0\" title=\"자동완성\"></iframe>\\n\\t\\t\\t\\t\\t\\t</div>\\n\\t\\t\\t\\t\\t\\t<button type=\"submit\" class=\"snb_search_btn\" onclick=\"clickcr(this, \\'STA.search\\', \\'\\', \\'\\', event);\" alt=\"검색\"><span class=\"blind\">검색</span></button>\\n\\t\\t\\t\\t\\t\\t<a href=\"#\" target=\"_blank\" class=\"snb_search_btn-total\" onclick=\"itegrationSearch();clickcr(this, \\'STA.nx\\', \\'\\', \\'\\', event);return false;\">통합검색</a>\\n\\t\\t\\t\\t\\t</div>\\n\\t\\t\\t\\t</fieldset>\\n\\t\\t\\t\\t</form>\\n\\t\\t\\t</div>\\n\\t\\t</div>\\n\\t</div>\\n\\t<div class=\"lnb_area \">\\n\\t\\t<div class=\"lnb_inner\">\\n\\t\\t\\t<div id=\"menu\">\\n\\t\\t\\t\\t<ul class=\"menu\">\\n\\t\\t\\t\\t\\t<li class=\"m1 first \"><a href=\"/\" onClick=\"clickcr(this, \\'LNB.home\\', \\'\\', \\'\\', event);\"><span class=\"tx\">금융 홈</span></a></li>\\n\\t\\t\\t\\t\\t<li class=\"m2 on\"><a href=\"/sise/\" onClick=\"clickcr(this, \\'LNB.sise\\', \\'\\', \\'\\', event);\"><span class=\"tx\">국내증시</span></a></li>\\n\\t\\t\\t\\t\\t<li class=\"m3 \"><a href=\"/world/\" onClick=\"clickcr(this, \\'LNB.world\\', \\'\\', \\'\\', event);\"><span class=\"tx\">해외증시</span></a></li>\\n\\t\\t\\t\\t\\t<li class=\"m4 \"><a href=\"/marketindex/\" onClick=\"clickcr(this, \\'LNB.market\\', \\'\\', \\'\\', event);\"><span class=\"tx\">시장지표</span></a></li>\\n\\t\\t\\t\\t\\t<li class=\"m5 \"><a href=\"/fund/\" onClick=\"clickcr(this, \\'LNB.fund\\', \\'\\', \\'\\', event);\"><span class=\"tx\">펀드</span></a>\\n\\t\\t\\t\\t\\t\\t\\n\\t\\t\\t\\t\\t</li>\\n\\t\\t\\t\\t\\t<li class=\"m6 \"><a href=\"/research/\" onClick=\"clickcr(this, \\'LNB.research\\', \\'\\', \\'\\', event);\"><span class=\"tx\">리서치</span></a></li>\\n\\t\\t\\t\\t\\t<li class=\"m7 \"><a href=\"/news/\"><span class=\"tx\">뉴스</span></a></li>\\n\\t\\t\\t\\t\\t<li class=\"m8 \"><a href=\"/mystock/\" onClick=\"clickcr(this, \\'LNB.mystock\\', \\'\\', \\'\\', event);\"><span class=\"tx\">MY</span></a></li>\\n\\t\\t\\t\\t</ul>\\n\\t\\t\\t</div>\\n\\t\\t</div>\\n\\t</div>\\n\\t\\n\\t\\n\\t\\n\\t\\n\\n\\t\\n\\t<script type=\"text/JavaScript\">\\n\\t\\t/* lcs 집계 */\\n        ;(function(){\\n            var eventType = \"onpageshow\" in window ? \"pageshow\" : \"load\";\\n            jindo.$Fn(function(){\\n                lcs_do();\\n            }).attach(window, eventType);\\n        })();\\n\\n\\t\\t/* 검색 자동완성 [ 인자1 : 검색input의 ID, 인자2 : iframe 태그 ID ]   */\\n\\t\\t// AutoComplete 생성\\n\\t\\tvar acDomain = \"ac.finance.naver.com\";\\n        if (location.hostname.indexOf(\"staging-\") > -1) {\\n            acDomain = \"staging-\" + acDomain;\\n        } else if (location.hostname.indexOf(\"dev-\") > -1 || location.hostname.indexOf(\"localhost\") > -1 || location.hostname.indexOf(\"local-\") > -1) {\\n\\t\\t\\tacDomain = \"dev-\" + acDomain;\\n\\t\\t}\\n\\n        var acUrl = \"https://\" + acDomain + \"/ac\";\\n\\n\\t\\tsmartSearch = new nhn.Autocomplete(\\n\\t\\t\\t// InputManager 생성\\n\\t\\t\\tnew nhn.AcInputManager(jindo.$(\"stock_items\")),\\n\\t\\t\\t// DataManager 생성\\n\\t\\t\\tnew nhn.AcDataManager(acUrl, \"jsonp\", \"get\", {\\n                    st: \"111\",\\n                    r_lt : \"111\",\\n                    q_enc : \"euc-kr\",\\n                    r_enc : \"euc-kr\",\\n                    frm: \"stock\"}),\\n\\t\\t\\t// ViewManager 생성\\n\\t\\t\\tnew nhn.AcStockViewManager(jindo.$(\"autoFrame\"), jindo.$(\"nautocomplete\"), {\\n                                        strMax: 200,\\n                                        listMax: [7, 2, 2],\\n                                        aRedirectUrl : [\\n                            \\t\\t\\t\"https://finance.naver.com\",\\n                            \\t\\t\\t\"https://finance.naver.com\",\\n                            \\t\\t\\t\"https://finance.naver.com\"]}),\\n\\t\\t\\t// Autocomplete Option\\n            {formId:\"search\", cookieDomain:location.hostname, cookieName:\"NaverCommonStock\"});\\n\\n\\t\\t\\tsmartSearch.attach({\\n\\t            onFocus: function () {\\n\\t                var weInput = jindo.$Element(\\'stock_items\\');\\n\\t                if (weInput && weInput.hasClass(\"snb_default\")) {\\n\\t                        weInput.text(\"\");\\n\\t                        weInput.removeClass(\\'snb_default\\');\\n\\t                }\\n\\t            }\\n\\t        });\\n\\n\\t\\t/* 통합검색  start ----->  */\\n\\t\\tdocument.domain = \\'naver.com\\';\\n\\t\\tvar sSearchHintText = \\'종목명·지수명·펀드명·환율명·원자재명 입력\\';\\n\\t\\tfunction itegrationSearch() {\\n\\t\\t\\tvar query = jindo.$(\\'stock_items\\').value;\\n\\n\\t\\t\\tif ( query == \\'\\'  || encodeURIComponent(query) == encodeURIComponent(sSearchHintText))\\n\\t\\t\\t{\\n\\t\\t\\t\\talert ( \\'검색어를 입력해 주세요.\\' );\\n\\t\\t\\t\\treturn;\\n\\t\\t\\t}\\n\\n            var url = location.protocol + \"//search.naver.com/search.naver?sm=sta_hty.finance&where=nexearch&ie=UTF8&query=\" + encodeURIComponent(query);\\n            window.open(url, \"_blank\");\\n\\n\\t\\t\\treturn false;\\n\\t\\t}\\n\\n\\t\\tfunction delayed_submit(object) {\\n\\t\\t\\tif (navigator.userAgent.indexOf(\\'MSIE\\') == -1) {\\n\\t\\t\\t\\twindow.setTimeout(function() {stock_search(object)}, 300);\\n\\t\\t\\t} else {\\n\\t\\t\\t\\tstock_search(object);\\n\\t\\t\\t}\\n\\t\\t\\treturn false;\\n\\t\\t}\\n\\n\\t\\tfunction stock_search (object)\\n\\t\\t{\\n\\t\\t\\tquery = object.query.value.replace(/^\\\\s*/,\\'\\').replace(/\\\\s*$/,\\'\\');\\t// trim\\n\\t\\t\\tobject.query.value=query;\\n\\n\\t\\t\\tif ( query == \\'\\' || query == sSearchHintText.replace(/^\\\\s*/,\\'\\').replace(/\\\\s*$/,\\'\\'))\\n\\t\\t\\t{\\n\\t\\t\\t\\talert ( \\'검색어를 입력해 주세요.\\' );\\n\\t\\t\\t\\treturn;\\n\\t\\t\\t}\\n\\t\\t\\telse {\\n\\t\\t\\t\\tobject.submit();\\n\\t\\t\\t}\\n\\t\\t}\\n\\t\\t/* <---------- 통합검색  end */\\n\\n\\t\\tfunction popup()\\n\\t\\t{\\n\\t\\t\\twin = window.open(\\'/template/group_limit_pop.jsp\\',\\'finan_popup\\',\\'width=569 height=278 scrollbars=no status=no\\');\\n\\t\\t\\twin.focus();\\n\\t\\t}\\n\\t</script>\\n\\n\\t<iframe id=\"me_layers\" name=\"test\" title=\"네이버미 영역\" width=\"0\" height=\"0\" scrolling=\"no\" frameborder=\"0\" style=\"display:block;top: 22px; right: 209px; position: absolute; z-index: 15;\"></iframe>\\n</div>\\n<div id=\"wrap\"  >\\n\\t\\n\\t\\t<div class=\"banner_smart\">\\n\\t\\t\\t<div id=\"_SmartChannelTopBanner\">\\n\\t\\t\\t\\t<script type=\"text/javascript\">\\n\\t\\t\\t\\t\\tgladsdk.cmd.push(function() {\\n\\t\\t\\t\\t\\t\\tgladsdk.displayAd(\"_SmartChannelTopBanner\");\\n\\t\\t\\t\\t\\t});\\n\\t\\t\\t\\t</script>\\n\\t\\t\\t</div>\\n\\t\\t</div>\\n\\t\\n\\n<!-- //  global include -->\\n<script language=\"JavaScript\">\\nfunction mouseOver(obj){\\n  obj.style.backgroundColor=\"#f6f4e5\";\\n}\\nfunction mouseOut(obj){\\n  obj.style.backgroundColor=\"#ffffff\";\\n}\\nfunction mouseThemeToggle(obj) {\\n\\tjindo.$Element(obj.nextElementSibling).toggle();\\n}\\n\\n</script>\\n\\n\\n\\t\\n\\t\\t\\n\\t\\n\\t\\n\\t\\n\\n\\t<div id=\"newarea\">\\n\\t\\t\\t\\n\\n\\t\\t\\t<!-- leftmenu -->\\n\\t\\t\\t<div class=\"snb snb2\">\\n\\t\\t\\t\\t<h2 class=\"h_sise\"><a href=\"/sise/\"><span class=\"blind\">국내증시</span></a></h2>\\n\\t\\t\\t\\t<ul class=\"nav1\">\\n\\t\\t\\t\\t<li class=\"frst\"><strong class=\"lst_sise\"><span class=\"blind\">주요시세정보</span></strong>\\n\\t\\t\\t\\t\\t<ul class=\"sub\">\\n\\t\\t\\t\\t\\t <li class=\"type1 lst1_1\"><a href=\"/sise/sise_index.nhn?code=KOSPI\" onClick=\"clickcr(this,\\'siu.1\\',\\'\\',\\'\\',event);\" class=\"off\"><span class=\"blind\">코스피</span></a></li> \\n                     <li class=\"type1 lst1_2\"><a href=\"/sise/sise_index.nhn?code=KOSDAQ\" onClick=\"clickcr(this,\\'siu.2\\',\\'\\',\\'\\',event);\" class=\"off\"><span class=\"blind\">코스닥</span></a></li>\\n                     <li class=\"type1 lst1_3\"><a href=\"/sise/sise_index.nhn?code=FUT\" onClick=\"clickcr(this,\\'siu.3\\',\\'\\',\\'\\',event);\" class=\"off\"><span class=\"blind\">선물</span></a></li>\\n                     <li class=\"type1 lst1_26\"><a href=\"/sise/sise_index.nhn?code=KPI200\" onClick=\"clickcr(this,\\'siu.26\\',\\'\\',\\'\\',event);\" class=\"off\"><span class=\"blind\">코스피200</span></a></li>\\n                     <li class=\"type1 lst1_31\"><a href=\"/sise/konex.nhn\" onClick=\"clickcr(this,\\'siu.konex\\',\\'\\',\\'\\',event);\" class=\"off\"><span class=\"blind\">코넥스</span></a></li>\\n                     <li class=\"type1 lst1_16\"><a href=\"/sise/sise_market_sum.nhn\" onClick=\"clickcr(this,\\'siu.16\\',\\'\\',\\'\\',event);\" class=\"off\"><span class=\"blind\">시가총액</span></a></li>\\n                     <li class=\"type1 lst1_32\" ><a href=\"/sise/dividend_list.nhn\" onClick=\"clickcr(this,\\'siu.dividend\\',\\'\\',\\'\\',event);\" class=\"off\"><span class=\"blind\">배당</span></a></li>                     \\n                     <li class=\"type1 lst1_4\"><a href=\"/sise/sise_group.nhn?type=upjong\" onClick=\"clickcr(this,\\'siu.4\\',\\'\\',\\'\\',event);\" class=\"off\"><span class=\"blind\">업종</span></a></li>\\n                     <li class=\"type1 lst1_5\" ><a href=\"/sise/theme.nhn\" onClick=\"clickcr(this,\\'siu.5\\',\\'\\',\\'\\',event);\" class=\"on\"><span class=\"blind\">테마</span></a></li>\\n                     <li class=\"type1 lst1_30\"><a href=\"/sise/sise_group.nhn?type=group\"  onClick=\"clickcr(this,\\'siu.30\\',\\'\\',\\'\\',event);\"  class=\"off\"><span class=\"blind\">그룹사</span></a></li>\\n\\t\\t\\t\\t\\t <li class=\"type1 lst1_27 \"><a href=\"/sise/etf.nhn\" onClick=\"clickcr(this,\\'siu.27\\',\\'\\',\\'\\',event);\" class=\"off\"><span class=\"blind\">ETF</span></a></li>\\n\\t\\t\\t\\t\\t <li class=\"type1 lst1_34\"><a href=\"/sise/etn.nhn\" onClick=\"clickcr(this,\\'siu.34\\',\\'\\',\\'\\',event);\" class=\"off\"><span class=\"blind\">ETN</span></a></li>\\n\\t\\t\\t\\t\\t <li class=\"type1 lst1_8 \"><a href=\"/sise/sise_rise.nhn\" onClick=\"clickcr(this,\\'siu.8\\',\\'\\',\\'\\',event);\" class=\"off\"><span class=\"blind\">ª?Ω?</span></a></li>\\n                     <li class=\"type1 lst1_9 \"><a href=\"/sise/sise_steady.nhn\" onClick=\"clickcr(this,\\'siu.9\\',\\'\\',\\'\\',event);\" class=\"off\"><span class=\"blind\">보합</span></a></li>\\n                     <li class=\"type1 lst1_10\"><a href=\"/sise/sise_fall.nhn\" onClick=\"clickcr(this,\\'siu.10\\',\\'\\',\\'\\',event);\" class=\"off\"><span class=\"blind\">하락</span></a></li>\\n                     <li class=\"type1 lst1_6\"><a href=\"/sise/sise_upper.nhn\" onClick=\"clickcr(this,\\'siu.6\\',\\'\\',\\'\\',event);\" class=\"off\"><span class=\"blind\">상한가</span></a></li>\\n                     <li class=\"type1 lst1_7\"><a href=\"/sise/sise_lower.nhn\" onClick=\"clickcr(this,\\'siu.7\\',\\'\\',\\'\\',event);\" class=\"off\"><span class=\"blind\">하한가</span></a></li>\\n                     <li class=\"type1 lst1_15 \"><a href=\"/sise/sise_low_up.nhn\" onClick=\"clickcr(this,\\'siu.15\\',\\'\\',\\'\\',event);\" class=\"off\"><span class=\"blind\">급등</span></a></li>\\n                     <li class=\"type1 lst1_14 \"><a href=\"/sise/sise_high_down.nhn\" onClick=\"clickcr(this,\\'siu.14\\',\\'\\',\\'\\',event);\" class=\"off\"><span class=\"blind\">급락</span></a></li>\\n                     <li class=\"type2 lst1_11\"><a href=\"/sise/sise_quant.nhn\" onClick=\"clickcr(this,\\'siu.11\\',\\'\\',\\'\\',event);\" class=\"off\"><span class=\"blind\">거래상위</span></a></li>  \\n                     <li class=\"type1 lst1_12 \"><a href=\"/sise/sise_quant_high.nhn\" onClick=\"clickcr(this,\\'siu.12\\',\\'\\',\\'\\',event);\" class=\"off\"><span class=\"blind\">급증</span></a></li> \\n                     <li class=\"type1 lst1_13 \"><a href=\"/sise/sise_quant_low.nhn\" onClick=\"clickcr(this,\\'siu.13\\',\\'\\',\\'\\',event);\" class=\"off\"><span class=\"blind\">급감</span></a></li>\\n                     <li class=\"lst1_23\"><a href=\"/sise/sise_trans_style.nhn\" onClick=\"clickcr(this,\\'siu.23\\',\\'\\',\\'\\',event);\" class=\"off\"><span class=\"blind\">투자자별매매동향</span></a></li>  \\n                     <li class=\"type1 lst1_17\"><a href=\"/sise/sise_deal_rank.nhn\" onClick=\"clickcr(this,\\'siu.17\\',\\'\\',\\'\\',event);\" class=\"off\"><span class=\"blind\">외국인매매</span></a></li> \\n                     <li class=\"type1 lst1_18\"><a href=\"/sise/sise_deal_rank.nhn?investor_gubun=1000\" onClick=\"clickcr(this,\\'siu.18\\',\\'\\',\\'\\',event);\" class=\"off\"><span class=\"blind\">기관매매</span></a></li> \\n                     <li class=\"lst1_19\"><a href=\"/sise/sise_program.nhn\" onClick=\"clickcr(this,\\'siu.19\\',\\'\\',\\'\\',event);\" class=\"off\"><span class=\"blind\">프로그램매매동향</span></a></li> \\n                     <li class=\"lst1_22\"><a href=\"/sise/sise_deposit.nhn\" onClick=\"clickcr(this,\\'siu.22\\',\\'\\',\\'\\',event);\" class=\"off\"><span class=\"blind\">증시자금동향</span></a></li>\\n                     <li class=\"lst1_21\"><a href=\"/sise/sise_new_stock.nhn\" onClick=\"clickcr(this,\\'siu.21\\',\\'\\',\\'\\',event);\" class=\"off\"><span class=\"blind\">신규상장</span></a></li>  \\n                     <li class=\"lst1_24 \"><a href=\"/sise/sise_foreign_hold.nhn\" onClick=\"clickcr(this,\\'siu.24\\',\\'\\',\\'\\',event);\" class=\"off\"><span class=\"blind\">외국인보유</span></a></li> \\n                     <li class=\"lst1_25 \"><a href=\"/sise/market3news_list.nhn\" onClick=\"clickcr(this,\\'siu.25\\',\\'\\',\\'\\',event);\" class=\"off\"><span class=\"blind\">장외시세</span></a></li>\\n                     <li class=\"lst1_33 \"><a href=\"/sise/ipo.nhn\" onClick=\"clickcr(this,\\'siu.33\\',\\'\\',\\'\\',event);\" class=\"off\"><span class=\"blind\">IPO</span></a></li>\\n\\t\\t\\t\\t\\t</ul>\\n\\t\\t\\t\\t</li>\\n\\t\\t\\t\\t<li><strong class=\"lst_prevent\"><span class=\"blind\">투자자보호</span></strong>\\n\\t                <ul class=\"sub\">\\n\\t                 <li class=\"lst1_20\"><a href=\"/sise/management.nhn\" onClick=\"clickcr(this,\\'siu.20\\',\\'\\',\\'\\',event);\" class=\"off\"><span class=\"blind\">관리종목</span></a></li>\\n\\t                 <li class=\"lst1_29\"><a href=\"/sise/trading_halt.nhn\" onClick=\"clickcr(this,\\'siu.29\\',\\'\\',\\'\\',event);\" class=\"off\"><span class=\"blind\">거래정지종목</span></a></li> \\n\\t                 <li class=\"lst1_28\"><a href=\"/sise/investment_alert.nhn?type=caution\" onClick=\"clickcr(this,\\'siu.28\\',\\'\\',\\'\\',event);\" class=\"off\"><span class=\"blind\">시장경보종목</span></a></li>\\n\\t                </ul>\\n            \\t</li>\\n    \\t\\t\\t<li><strong class=\"lst_search\"><span class=\"blind\">종목조건검색</span></strong>\\n\\t\\t\\t\\t\\t<ul class=\"sub\">\\n\\t\\t\\t\\t\\t <li class=\"type1 lst2_2\"><a href=\"/sise/item_gold.nhn\" onClick=\"clickcr(this,\\'sih.2\\',\\'\\',\\'\\',event);\" class=\"off\"><span class=\"blind\">골든크로스</span></a></li>\\n\\t\\t\\t\\t\\t <li class=\"type1 lst2_1\"><a href=\"/sise/item_gap.nhn\" onClick=\"clickcr(this,\\'sih.1\\',\\'\\',\\'\\',event);\" class=\"off\"><span class=\"blind\">갭상승</span></a></li>\\n\\t\\t\\t\\t\\t <li class=\"type1 lst2_3\"><a href=\"/sise/item_igyuk.nhn\" onClick=\"clickcr(this,\\'sih.3\\',\\'\\',\\'\\',event);\" class=\"off\"><span class=\"blind\">이격도과열</span></a></li>\\n\\t\\t\\t\\t\\t <li class=\"type1 lst2_4\"><a href=\"/sise/item_overheating_1.nhn\" onClick=\"clickcr(this,\\'sih.4\\',\\'\\',\\'\\',event);\" class=\"off\"><span class=\"blind\">투심과열</span></a></li>\\n\\t\\t\\t\\t\\t <li class=\"lst2_5\"><a href=\"/sise/item_overheating_2.nhn\" onClick=\"clickcr(this,\\'sih.5\\',\\'\\',\\'\\',event);\" class=\"off\"><span class=\"blind\">상대강도과열</span></a></li>  \\t                 \\n\\t\\t\\t\\t\\t</ul>\\n\\t\\t\\t\\t</li>\\n\\t\\t\\t\\t<li><a href=\"/sise/report.nhn\"><strong class=\"lst_report\"><span class=\"blind\">기업 전자공시</span></strong></a></li>\\n\\t\\t\\t\\t<li class=\"last\"><a href=\"/sise/short_trade.nhn\"><strong class=\"lst_short\"><span class=\"blind\">공매도 종합 현황</span></strong></a></li>\\t\\t\\t\\t\\n\\t\\t\\t\\t</ul>\\n\\t\\t\\t\\t\\t\\t\\t\\t\\n\\t\\t\\t</div>\\n\\t\\t\\t<!-- //leftmenu -->\\n\\t\\t\\t\\n\\t\\t<div id=\"contentarea\">\\n\\t\\t\\t<!-- 컨텐츠 -->\\n\\t\\t\\t<div id=\"contentarea_left\" class=\"bnd_wid\">\\n\\t\\t\\t\\t<!-- 로케이터 -->\\n\\t\\t\\t\\t<div class=\"sub_location tlt_bottom_line\">\\n\\t\\t\\t\\t\\t<a href=\"/\">금융홈</a> &gt; <a href=\"/sise/\">국내증시</a> &gt; <a href=\"#\">테마별 시세</a>\\n\\t\\t\\t\\t</div>\\n\\t\\t\\t\\t<h3 class=\"sub_tlt\">테마별 시세</h3>\\n\\t\\t\\t\\t\\t<table cellpadding=\"0\" cellspacing=\"0\" class=\"type_1\" style=\"table-layout:fixed\">\\n\\t\\t\\t\\t\\t<col width=\"*\"><col width=\"11%\"><col width=\"10%\"><col width=\"10%\"><col width=\"10%\"><col width=\"10%\"><col width=\"16%\">\\n\\t\\t\\t\\t\\t<tr class=\"udline\">\\n\\t\\t\\t\\t\\t\\t<th rowspan=\"2\">업종명</th>\\n\\n\\t\\t\\t\\t\\t\\t<th rowspan=\"2\">전일대비</th>\\n\\t\\t\\t\\t\\t\\t<th colspan=\"4\" class=\"eb\">전일대비 등락현황</th>\\n\\t\\t\\t\\t\\t\\t<th rowspan=\"2\">등락그래프</th>\\n\\t\\t\\t\\t\\t</tr>\\n\\t\\t\\t\\t\\t<tr class=\"udline\">\\n\\t\\t\\t\\t\\t\\t<th class=\"sub\">전체</th>\\n\\t\\t\\t\\t\\t\\t<th class=\"sub\">상승</th>\\n\\n\\t\\t\\t\\t\\t\\t<th class=\"sub\">보합</th>\\n\\t\\t\\t\\t\\t\\t<th class=\"sub\">하락</th>\\n\\t\\t\\t\\t\\t</tr>\\n\\t\\t\\t\\t\\t<tr><td colspan=\"7\" class=\"blank_06\"></td></tr>\\n\\t\\t\\t\\t\\t<tr>\\n\\t\\t\\t\\t\\t\\t<td style=\"padding-left:10px;\">웹툰\\n\\t\\t\\t\\t\\t\\t\\t\\n\\t\\t\\t\\t\\t\\t\\t\\t<div class=\"theme_info_area\">\\n\\t\\t\\t\\t\\t\\t\\t\\t\\t<a href=\"javascript:;\" class=\"btn_theme_layer\" onMouseOver=\"mouseThemeToggle(this)\" onMouseOut=\"mouseThemeToggle(this)\"><span class=\"blind\">테마 개요</span></a>\\n\\t\\t\\t\\t\\t\\t\\t\\t\\t<div class=\"info_layer_wrap\"  tabindex=\"0\" style=\"display:none;\">\\n\\t\\t\\t\\t\\t\\t\\t\\t\\t\\t<strong class=\"info_title\">웹툰</strong>\\n\\t\\t\\t\\t\\t\\t\\t\\t\\t\\t<p class=\"info_txt\">웹툰 플랫폼 서비스 및 웹툰 제작 사업 등을 영위하는 업체. 웹툰은 웹(web)과 카툰(cartoon)의 합성어로 텍스트와 이미지, 사운드 등 멀티미디어 효과를 동원해 제작된 인터넷 만화임. 최근 웹툰 IP 기반으로 제작된 드라마 및 영화, 게임, 캐릭터 상품 등 2차 콘텐츠 제작으로 사업영역을 확장해 나가고 있음.</p>\\n\\t\\t\\t\\t\\t\\t\\t\\t\\t</div>\\n\\t\\t\\t\\t\\t\\t\\t\\t</div>\\n\\t\\t\\t\\t\\t\\t\\t\\n\\t\\t\\t\\t\\t\\t</td>\\n\\t\\t\\t\\t\\t\\t<td class=\"number\">\\n\\t\\t\\t\\t<span class=\"tah p11 red01\">\\n\\t\\t\\t\\t+1.19%\\n\\t\\t\\t\\t</span>\\n\\t\\t\\t</td>\\n\\n\\t\\t\\t\\t\\t\\t<td class=\"number\">8</td>\\n\\t\\t\\t\\t\\t\\t<td class=\"number\">6</td>\\n\\t\\t\\t\\t\\t\\t<td class=\"number\">0</td>\\n\\t\\t\\t\\t\\t\\t<td class=\"number\">2</td>\\n\\t\\t\\t\\t\\t\\t<td class=\"tc\"><div class=\"graph_type_1\" style=\"width:80px;\"><div class=\"graph_bar\" style=\"width:18%;\"><span class=\"graph_txt\">18%</span></div></div></td>\\n\\t\\t\\t\\t\\t</tr>\\n\\n\\t\\t\\t\\t\\t<tr><td colspan=\"7\" class=\"blank_03\"></td></tr>\\n\\t\\t\\t\\t\\t<tr><td colspan=\"7\" class=\"division_line_1\"></td></tr>\\n\\t\\t\\t\\t\\t</table>\\n\\t\\t\\t\\t<!-- //업종별시세 -->\\n\\t\\t\\t</div>\\n\\t\\t\\t<!--  right area -->\\n\\t\\t\\t<div id=\"contentarea_right\">\\n\\t\\t\\t\\t\\n\\n\\n\\t\\n\\n\\t\\n\\t\\t<script>document.domain=\\'naver.com\\';</script>\\n\\t\\n\\n\\t\\t\\t</div>\\n\\t\\t\\t<!-- 항목선택 -->\\n\\t\\t\\t\\n\\t\\t\\t\\t\\n\\t\\t\\t\\n\\n\\n \\n \\t\\n \\t\\n \\n \\n\\n\\n<script language=javascript>\\nfunction fieldSubmit() {\\n\\tvar chkcnt = 0;\\n\\t\\n\\tfor(i = 0; i < document.field_form.fieldIds.length ; i++) {\\n    \\tif(document.field_form.fieldIds[i].checked == true) {\\n    \\t\\tchkcnt++;\\n    \\t}\\n    }\\n    \\n    if(chkcnt > 6) {\\n    \\talert(\\'최대 6개까지만 가능합니다.\\');\\n    \\treturn;\\n    }\\n\\n\\tdocument.field_form.action = \\'field_submit.nhn\\';\\n\\tdocument.field_form.submit();\\n}\\n\\nfunction fieldDefault() {\\n\\tdocument.field_form.action = \\'field_del.nhn\\';\\n\\tdocument.field_form.submit();\\n\\n}\\n</script>\\n<!-- 항목선택 -->\\n<div class=\"box_type_l\" style=\"margin-top:0\">\\n<form name=\\'field_form\\'>\\n<input type=hidden name=menu value=\"theme\">\\n<input type=hidden name=returnUrl value=\"http://finance.naver.com/sise/sise_group_detail.nhn?type=theme&no=488\">\\n\\t<div class=\"subcnt_sise_item sub810\"><div class=\"subcnt_sise_item_top sub810t\">\\n\\t\\t<table summary=\"원하시는 항목을 선택하여 결과를 보실 수 있습니다.\" cellpadding=\"0\" cellspacing=\"0\" class=\"item_list\">\\n\\t\\t<caption>항목 선택표</caption>\\n\\t\\t<col width=\\'15%\\'><col width=\\'15%\\'><col width=\\'15%\\'><col width=\\'15%\\'><col width=\\'15%\\'><col width=\\'15%\\'>\\n\\t\\t\\n\\t\\t\\t<tr>\\n\\t\\t\\t\\n\\t\\t\\t\\n\\n\\t\\t\\t\\n\\t\\t\\t\\t\\n\\t\\t\\t\\t\\n\\t\\t\\t\\t\\t\\n\\t\\t\\t\\t\\n\\t\\t\\t\\t\\t\\n\\t\\t\\t\\t\\n\\t\\t\\t\\t\\t\\n\\t\\t\\t\\t\\t\\t\\n\\t\\t\\t\\t\\t\\n\\t\\t\\t\\t\\n\\t\\t\\t\\t\\t\\n\\t\\t\\t\\t\\n\\t\\t\\t\\t\\t\\n\\t\\t\\t\\t\\n\\t\\t\\t\\t<td class=\\'choice\\'><input type=\"checkbox\" id=\"option1\" name=\"fieldIds\" value=\"quant\"  checked> <label for=\"option1\">거래량</label></td>\\n\\t\\t\\t\\n\\t\\t\\t\\t\\n\\t\\t\\t\\t\\n\\t\\t\\t\\t\\t\\n\\t\\t\\t\\t\\t\\t\\n\\t\\t\\t\\t\\t\\n\\t\\t\\t\\t\\n\\t\\t\\t\\t\\t\\n\\t\\t\\t\\t\\n\\t\\t\\t\\t\\t\\n\\t\\t\\t\\t\\n\\t\\t\\t\\t\\t\\n\\t\\t\\t\\t\\n\\t\\t\\t\\t\\t\\n\\t\\t\\t\\t\\n\\t\\t\\t\\t<td class=\\'choice\\'><input type=\"checkbox\" id=\"option2\" name=\"fieldIds\" value=\"ask_buy\"  checked> <label for=\"option2\">매수호가</label></td>\\n\\t\\t\\t\\n\\t\\t\\t\\t\\n\\t\\t\\t\\t\\n\\t\\t\\t\\t\\t\\n\\t\\t\\t\\t\\n\\t\\t\\t\\t\\t\\n\\t\\t\\t\\t\\n\\t\\t\\t\\t\\t\\n\\t\\t\\t\\t\\n\\t\\t\\t\\t\\t\\n\\t\\t\\t\\t\\t\\t\\n\\t\\t\\t\\t\\t\\n\\t\\t\\t\\t\\n\\t\\t\\t\\t\\t\\n\\t\\t\\t\\t\\n\\t\\t\\t\\t<td class=\\'choice\\'><input type=\"checkbox\" id=\"option3\" name=\"fieldIds\" value=\"amount\"  checked> <label for=\"option3\">거래대금</label>(백만)</td>\\n\\t\\t\\t\\n\\t\\t\\t\\t\\n\\t\\t\\t\\t\\n\\t\\t\\t\\t\\t\\n\\t\\t\\t\\t\\n\\t\\t\\t\\t\\t\\n\\t\\t\\t\\t\\n\\t\\t\\t\\t\\t\\n\\t\\t\\t\\t\\n\\t\\t\\t\\t\\t\\n\\t\\t\\t\\t\\n\\t\\t\\t\\t\\t\\n\\t\\t\\t\\t\\n\\t\\t\\t\\t<td ><input type=\"checkbox\" id=\"option4\" name=\"fieldIds\" value=\"market_sum\"  > <label for=\"option4\">시가총액</label>(억)</td>\\n\\t\\t\\t\\n\\t\\t\\t\\t\\n\\t\\t\\t\\t\\n\\t\\t\\t\\t\\t\\n\\t\\t\\t\\t\\n\\t\\t\\t\\t\\t\\n\\t\\t\\t\\t\\n\\t\\t\\t\\t\\t\\n\\t\\t\\t\\t\\n\\t\\t\\t\\t\\t\\n\\t\\t\\t\\t\\n\\t\\t\\t\\t\\t\\n\\t\\t\\t\\t\\n\\t\\t\\t\\t<td ><input type=\"checkbox\" id=\"option5\" name=\"fieldIds\" value=\"operating_profit\"  > <label for=\"option5\">영업이익</label>(억)</td>\\n\\t\\t\\t\\n\\t\\t\\t\\t\\n\\t\\t\\t\\t\\n\\t\\t\\t\\t\\t\\n\\t\\t\\t\\t\\n\\t\\t\\t\\t\\t\\n\\t\\t\\t\\t\\n\\t\\t\\t\\t\\t\\n\\t\\t\\t\\t\\n\\t\\t\\t\\t\\t\\n\\t\\t\\t\\t\\n\\t\\t\\t\\t\\t\\n\\t\\t\\t\\t\\n\\t\\t\\t\\t<td ><input type=\"checkbox\" id=\"option6\" name=\"fieldIds\" value=\"per\"  > <label for=\"option6\">PER</label>(배)</td>\\n\\t\\t\\t\\n\\t\\t\\t</tr>\\n\\t\\t\\n\\t\\t\\t<tr>\\n\\t\\t\\t\\n\\t\\t\\t\\n\\n\\t\\t\\t\\n\\t\\t\\t\\t\\n\\t\\t\\t\\t\\n\\t\\t\\t\\t\\t\\n\\t\\t\\t\\t\\n\\t\\t\\t\\t\\t\\n\\t\\t\\t\\t\\n\\t\\t\\t\\t\\t\\n\\t\\t\\t\\t\\n\\t\\t\\t\\t\\t\\n\\t\\t\\t\\t\\n\\t\\t\\t\\t\\t\\n\\t\\t\\t\\t\\n\\t\\t\\t\\t<td ><input type=\"checkbox\" id=\"option7\" name=\"fieldIds\" value=\"open_val\"  > <label for=\"option7\">시가</label></td>\\n\\t\\t\\t\\n\\t\\t\\t\\t\\n\\t\\t\\t\\t\\n\\t\\t\\t\\t\\t\\n\\t\\t\\t\\t\\n\\t\\t\\t\\t\\t\\n\\t\\t\\t\\t\\t\\t\\n\\t\\t\\t\\t\\t\\n\\t\\t\\t\\t\\n\\t\\t\\t\\t\\t\\n\\t\\t\\t\\t\\n\\t\\t\\t\\t\\t\\n\\t\\t\\t\\t\\n\\t\\t\\t\\t\\t\\n\\t\\t\\t\\t\\n\\t\\t\\t\\t<td class=\\'choice\\'><input type=\"checkbox\" id=\"option8\" name=\"fieldIds\" value=\"ask_sell\"  checked> <label for=\"option8\">매도호가</label></td>\\n\\t\\t\\t\\n\\t\\t\\t\\t\\n\\t\\t\\t\\t\\n\\t\\t\\t\\t\\t\\n\\t\\t\\t\\t\\n\\t\\t\\t\\t\\t\\n\\t\\t\\t\\t\\n\\t\\t\\t\\t\\t\\n\\t\\t\\t\\t\\n\\t\\t\\t\\t\\t\\n\\t\\t\\t\\t\\n\\t\\t\\t\\t\\t\\n\\t\\t\\t\\t\\t\\t\\n\\t\\t\\t\\t\\t\\n\\t\\t\\t\\t\\n\\t\\t\\t\\t<td class=\\'choice\\'><input type=\"checkbox\" id=\"option9\" name=\"fieldIds\" value=\"prev_quant\"  checked> <label for=\"option9\">전일거래량</label></td>\\n\\t\\t\\t\\n\\t\\t\\t\\t\\n\\t\\t\\t\\t\\n\\t\\t\\t\\t\\t\\n\\t\\t\\t\\t\\n\\t\\t\\t\\t\\t\\n\\t\\t\\t\\t\\n\\t\\t\\t\\t\\t\\n\\t\\t\\t\\t\\n\\t\\t\\t\\t\\t\\n\\t\\t\\t\\t\\n\\t\\t\\t\\t\\t\\n\\t\\t\\t\\t\\n\\t\\t\\t\\t<td ><input type=\"checkbox\" id=\"option10\" name=\"fieldIds\" value=\"property_total\"  > <label for=\"option10\">자산총계</label>(억)</td>\\n\\t\\t\\t\\n\\t\\t\\t\\t\\n\\t\\t\\t\\t\\n\\t\\t\\t\\t\\t\\n\\t\\t\\t\\t\\n\\t\\t\\t\\t\\t\\n\\t\\t\\t\\t\\n\\t\\t\\t\\t\\t\\n\\t\\t\\t\\t\\n\\t\\t\\t\\t\\t\\n\\t\\t\\t\\t\\n\\t\\t\\t\\t\\t\\n\\t\\t\\t\\t\\n\\t\\t\\t\\t<td ><input type=\"checkbox\" id=\"option11\" name=\"fieldIds\" value=\"operating_profit_increasing_rate\"  > <label for=\"option11\">영업이익증가율</label></td>\\n\\t\\t\\t\\n\\t\\t\\t\\t\\n\\t\\t\\t\\t\\n\\t\\t\\t\\t\\t\\n\\t\\t\\t\\t\\n\\t\\t\\t\\t\\t\\n\\t\\t\\t\\t\\n\\t\\t\\t\\t\\t\\n\\t\\t\\t\\t\\n\\t\\t\\t\\t\\t\\n\\t\\t\\t\\t\\n\\t\\t\\t\\t\\t\\n\\t\\t\\t\\t\\n\\t\\t\\t\\t<td ><input type=\"checkbox\" id=\"option12\" name=\"fieldIds\" value=\"roe\"  > <label for=\"option12\">ROE</label>(%)</td>\\n\\t\\t\\t\\n\\t\\t\\t</tr>\\n\\t\\t\\n\\t\\t\\t<tr>\\n\\t\\t\\t\\n\\t\\t\\t\\n\\n\\t\\t\\t\\n\\t\\t\\t\\t\\n\\t\\t\\t\\t\\n\\t\\t\\t\\t\\t\\n\\t\\t\\t\\t\\n\\t\\t\\t\\t\\t\\n\\t\\t\\t\\t\\n\\t\\t\\t\\t\\t\\n\\t\\t\\t\\t\\n\\t\\t\\t\\t\\t\\n\\t\\t\\t\\t\\n\\t\\t\\t\\t\\t\\n\\t\\t\\t\\t\\n\\t\\t\\t\\t<td ><input type=\"checkbox\" id=\"option13\" name=\"fieldIds\" value=\"high_val\"  > <label for=\"option13\">고가</label></td>\\n\\t\\t\\t\\n\\t\\t\\t\\t\\n\\t\\t\\t\\t\\n\\t\\t\\t\\t\\t\\n\\t\\t\\t\\t\\n\\t\\t\\t\\t\\t\\n\\t\\t\\t\\t\\n\\t\\t\\t\\t\\t\\n\\t\\t\\t\\t\\n\\t\\t\\t\\t\\t\\n\\t\\t\\t\\t\\n\\t\\t\\t\\t\\t\\n\\t\\t\\t\\t\\n\\t\\t\\t\\t<td ><input type=\"checkbox\" id=\"option14\" name=\"fieldIds\" value=\"buy_total\"  > <label for=\"option14\">매수총잔량</label></td>\\n\\t\\t\\t\\n\\t\\t\\t\\t\\n\\t\\t\\t\\t\\n\\t\\t\\t\\t\\t\\n\\t\\t\\t\\t\\n\\t\\t\\t\\t\\t\\n\\t\\t\\t\\t\\n\\t\\t\\t\\t\\t\\n\\t\\t\\t\\t\\n\\t\\t\\t\\t\\t\\n\\t\\t\\t\\t\\n\\t\\t\\t\\t\\t\\n\\t\\t\\t\\t\\n\\t\\t\\t\\t<td ><input type=\"checkbox\" id=\"option15\" name=\"fieldIds\" value=\"frgn_rate\"  > <label for=\"option15\">외국인비율</label></td>\\n\\t\\t\\t\\n\\t\\t\\t\\t\\n\\t\\t\\t\\t\\n\\t\\t\\t\\t\\t\\n\\t\\t\\t\\t\\n\\t\\t\\t\\t\\t\\n\\t\\t\\t\\t\\n\\t\\t\\t\\t\\t\\n\\t\\t\\t\\t\\n\\t\\t\\t\\t\\t\\n\\t\\t\\t\\t\\n\\t\\t\\t\\t\\t\\n\\t\\t\\t\\t\\n\\t\\t\\t\\t<td ><input type=\"checkbox\" id=\"option16\" name=\"fieldIds\" value=\"debt_total\"  > <label for=\"option16\">부채총계</label>(억)</td>\\n\\t\\t\\t\\n\\t\\t\\t\\t\\n\\t\\t\\t\\t\\n\\t\\t\\t\\t\\t\\n\\t\\t\\t\\t\\n\\t\\t\\t\\t\\t\\n\\t\\t\\t\\t\\n\\t\\t\\t\\t\\t\\n\\t\\t\\t\\t\\n\\t\\t\\t\\t\\t\\n\\t\\t\\t\\t\\n\\t\\t\\t\\t\\t\\n\\t\\t\\t\\t\\n\\t\\t\\t\\t<td ><input type=\"checkbox\" id=\"option17\" name=\"fieldIds\" value=\"net_income\"  > <label for=\"option17\">당기순이익</label>(억)</td>\\n\\t\\t\\t\\n\\t\\t\\t\\t\\n\\t\\t\\t\\t\\n\\t\\t\\t\\t\\t\\n\\t\\t\\t\\t\\n\\t\\t\\t\\t\\t\\n\\t\\t\\t\\t\\n\\t\\t\\t\\t\\t\\n\\t\\t\\t\\t\\n\\t\\t\\t\\t\\t\\n\\t\\t\\t\\t\\n\\t\\t\\t\\t\\t\\n\\t\\t\\t\\t\\n\\t\\t\\t\\t<td ><input type=\"checkbox\" id=\"option18\" name=\"fieldIds\" value=\"roa\"  > <label for=\"option18\">ROA</label>(%)</td>\\n\\t\\t\\t\\n\\t\\t\\t</tr>\\n\\t\\t\\n\\t\\t\\t<tr>\\n\\t\\t\\t\\n\\t\\t\\t\\n\\n\\t\\t\\t\\n\\t\\t\\t\\t\\n\\t\\t\\t\\t\\n\\t\\t\\t\\t\\t\\n\\t\\t\\t\\t\\n\\t\\t\\t\\t\\t\\n\\t\\t\\t\\t\\n\\t\\t\\t\\t\\t\\n\\t\\t\\t\\t\\n\\t\\t\\t\\t\\t\\n\\t\\t\\t\\t\\n\\t\\t\\t\\t\\t\\n\\t\\t\\t\\t\\n\\t\\t\\t\\t<td ><input type=\"checkbox\" id=\"option19\" name=\"fieldIds\" value=\"low_val\"  > <label for=\"option19\">저가</label></td>\\n\\t\\t\\t\\n\\t\\t\\t\\t\\n\\t\\t\\t\\t\\n\\t\\t\\t\\t\\t\\n\\t\\t\\t\\t\\n\\t\\t\\t\\t\\t\\n\\t\\t\\t\\t\\n\\t\\t\\t\\t\\t\\n\\t\\t\\t\\t\\n\\t\\t\\t\\t\\t\\n\\t\\t\\t\\t\\n\\t\\t\\t\\t\\t\\n\\t\\t\\t\\t\\n\\t\\t\\t\\t<td ><input type=\"checkbox\" id=\"option20\" name=\"fieldIds\" value=\"sell_total\"  > <label for=\"option20\">매도총잔량</label></td>\\n\\t\\t\\t\\n\\t\\t\\t\\t\\n\\t\\t\\t\\t\\n\\t\\t\\t\\t\\t\\n\\t\\t\\t\\t\\n\\t\\t\\t\\t\\t\\n\\t\\t\\t\\t\\n\\t\\t\\t\\t\\t\\n\\t\\t\\t\\t\\n\\t\\t\\t\\t\\t\\n\\t\\t\\t\\t\\n\\t\\t\\t\\t\\t\\n\\t\\t\\t\\t\\n\\t\\t\\t\\t<td ><input type=\"checkbox\" id=\"option21\" name=\"fieldIds\" value=\"listed_stock_cnt\"  > <label for=\"option21\">상장주식수</label>(천주)</td>\\n\\t\\t\\t\\n\\t\\t\\t\\t\\n\\t\\t\\t\\t\\n\\t\\t\\t\\t\\t\\n\\t\\t\\t\\t\\n\\t\\t\\t\\t\\t\\n\\t\\t\\t\\t\\n\\t\\t\\t\\t\\t\\n\\t\\t\\t\\t\\n\\t\\t\\t\\t\\t\\n\\t\\t\\t\\t\\n\\t\\t\\t\\t\\t\\n\\t\\t\\t\\t\\n\\t\\t\\t\\t<td ><input type=\"checkbox\" id=\"option22\" name=\"fieldIds\" value=\"sales\"  > <label for=\"option22\">매출액</label>(억)</td>\\n\\t\\t\\t\\n\\t\\t\\t\\t\\n\\t\\t\\t\\t\\n\\t\\t\\t\\t\\t\\n\\t\\t\\t\\t\\n\\t\\t\\t\\t\\t\\n\\t\\t\\t\\t\\n\\t\\t\\t\\t\\t\\n\\t\\t\\t\\t\\n\\t\\t\\t\\t\\t\\n\\t\\t\\t\\t\\n\\t\\t\\t\\t\\t\\n\\t\\t\\t\\t\\n\\t\\t\\t\\t<td ><input type=\"checkbox\" id=\"option23\" name=\"fieldIds\" value=\"eps\"  > <label for=\"option23\">주당순이익</label>(원)</td>\\n\\t\\t\\t\\n\\t\\t\\t\\t\\n\\t\\t\\t\\t\\n\\t\\t\\t\\t\\t\\n\\t\\t\\t\\t\\n\\t\\t\\t\\t\\t\\n\\t\\t\\t\\t\\n\\t\\t\\t\\t\\t\\n\\t\\t\\t\\t\\n\\t\\t\\t\\t\\t\\n\\t\\t\\t\\t\\n\\t\\t\\t\\t\\t\\n\\t\\t\\t\\t\\n\\t\\t\\t\\t<td ><input type=\"checkbox\" id=\"option24\" name=\"fieldIds\" value=\"pbr\"  > <label for=\"option24\">PBR</label>(배)</td>\\n\\t\\t\\t\\n\\t\\t\\t</tr>\\n\\t\\t\\n\\t\\t\\t<tr>\\n\\t\\t\\t\\n\\t\\t\\t<td>&nbsp;</td><td>&nbsp;</td><td>&nbsp;</td>\\n\\n\\t\\t\\t\\n\\t\\t\\t\\t\\n\\t\\t\\t\\t\\n\\t\\t\\t\\t\\t\\n\\t\\t\\t\\t\\n\\t\\t\\t\\t\\t\\n\\t\\t\\t\\t\\n\\t\\t\\t\\t\\t\\n\\t\\t\\t\\t\\n\\t\\t\\t\\t\\t\\n\\t\\t\\t\\t\\n\\t\\t\\t\\t\\t\\n\\t\\t\\t\\t\\n\\t\\t\\t\\t<td ><input type=\"checkbox\" id=\"option25\" name=\"fieldIds\" value=\"sales_increasing_rate\"  > <label for=\"option25\">매출액증가율</label></td>\\n\\t\\t\\t\\n\\t\\t\\t\\t\\n\\t\\t\\t\\t\\n\\t\\t\\t\\t\\t\\n\\t\\t\\t\\t\\n\\t\\t\\t\\t\\t\\n\\t\\t\\t\\t\\n\\t\\t\\t\\t\\t\\n\\t\\t\\t\\t\\n\\t\\t\\t\\t\\t\\n\\t\\t\\t\\t\\n\\t\\t\\t\\t\\t\\n\\t\\t\\t\\t\\n\\t\\t\\t\\t<td ><input type=\"checkbox\" id=\"option26\" name=\"fieldIds\" value=\"dividend\"  > <label for=\"option26\">보통주배당금</label>(원)</td>\\n\\t\\t\\t\\n\\t\\t\\t\\t\\n\\t\\t\\t\\t\\n\\t\\t\\t\\t\\t\\n\\t\\t\\t\\t\\n\\t\\t\\t\\t\\t\\n\\t\\t\\t\\t\\n\\t\\t\\t\\t\\t\\n\\t\\t\\t\\t\\n\\t\\t\\t\\t\\t\\n\\t\\t\\t\\t\\n\\t\\t\\t\\t\\t\\n\\t\\t\\t\\t\\n\\t\\t\\t\\t<td ><input type=\"checkbox\" id=\"option27\" name=\"fieldIds\" value=\"reserve_ratio\"  > <label for=\"option27\">유보율</label>(%)</td>\\n\\t\\t\\t\\n\\t\\t\\t</tr>\\n\\t\\t\\n\\t\\t</table>\\n\\t\\t<div class=\"item_btn\">\\n\\t\\t\\t<a href=\"javascript:fieldSubmit()\"><img src=\"https://ssl.pstatic.net/imgstock/images5/btn_apply.gif\" alt=\"적용하기\" width=\"55\" height=\"18\"></a><a href=\"javascript:fieldDefault()\"><img src=\"https://ssl.pstatic.net/imgstock/images5/btn_initialize.gif\" alt=\"초기항 목으로\" width=\"76\" height=\"18\"></a>\\n\\t\\t</div>\\n\\t</div></div>\\n</div>\\n</form>\\n<!-- //항목선택 끝 -->\\n\\n\\t\\t\\t<!-- //항목선택 끝 -->\\n\\n\\t\\t\\t<!-- 종목별 보기 -->\\n\\t\\t\\t<div class=\"box_type_l\">\\n\\t\\t\\t\\t<table summary=\"업종별 시세 리스트\" cellpadding=\"0\" cellspacing=\"0\" class=\"type_5\" style=\"margin:0 0 10px 0 ;\">\\n\\t\\t\\t\\t<caption>업종별 시세</caption>\\n\\t\\t\\t\\t\\t<colgroup>\\n\\t\\t\\t\\t\\t\\t<col width=\"*\">\\n\\t\\t\\t\\t\\t\\t<col width=\"11%\">\\n\\t\\t\\t\\t\\t\\t<col width=\"9%\">\\n\\t\\t\\t\\t\\t\\t<col width=\"9%\">\\n\\t\\t\\t\\t\\t\\t\\n\\t\\t\\t\\t\\t\\t\\t<col width=\"8%\">\\n\\t\\t\\t\\t\\t\\t\\n\\t\\t\\t\\t\\t\\t\\t<col width=\"8%\">\\n\\t\\t\\t\\t\\t\\t\\n\\t\\t\\t\\t\\t\\t\\t<col width=\"8%\">\\n\\t\\t\\t\\t\\t\\t\\n\\t\\t\\t\\t\\t\\t\\t<col width=\"8%\">\\n\\t\\t\\t\\t\\t\\t\\n\\t\\t\\t\\t\\t\\t\\t<col width=\"8%\">\\n\\t\\t\\t\\t\\t\\t\\n\\t\\t\\t\\t\\t<col width=\"6%\">\\n\\t\\t\\t\\t\\t</colgroup>\\n\\t\\t\\t\\t\\t<thead>\\n\\t\\t\\t\\t\\t\\t<tr style=\"height:29px\">\\n\\t\\t\\t\\t\\t\\t\\t<th colspan=\"2\">종목명</th>\\n\\t\\t\\t\\t\\t\\t\\t<th>현재가</th>\\n\\t\\t\\t\\t\\t\\t\\t<th>전일비</th>\\n\\t\\t\\t\\t\\t\\t\\t<th>등락률</th>\\n\\t\\t\\t\\t\\t\\t\\t\\n\\t\\t\\t\\t\\t\\t\\t\\t<th>매수호가</th>\\n\\t\\t\\t\\t\\t\\t\\t\\n\\t\\t\\t\\t\\t\\t\\t\\t<th>매도호가</th>\\n\\t\\t\\t\\t\\t\\t\\t\\n\\t\\t\\t\\t\\t\\t\\t\\t<th>거래량</th>\\n\\t\\t\\t\\t\\t\\t\\t\\n\\t\\t\\t\\t\\t\\t\\t\\t<th>거래대금</th>\\n\\t\\t\\t\\t\\t\\t\\t\\n\\t\\t\\t\\t\\t\\t\\t\\t<th>전일거래량</th>\\n\\t\\t\\t\\t\\t\\t\\t\\n\\t\\t\\t\\t\\t\\t\\t<th>토론실</th>\\n\\t\\t\\t\\t\\t\\t</tr>\\n\\t\\t\\t\\t\\t\\t<tr>\\n\\t\\t\\t\\t\\t\\t\\t<td colspan=\"12\" class=\"blank_09\"></td>\\n\\t\\t\\t\\t\\t\\t</tr>\\n\\t\\t\\t\\t\\t</thead>\\n\\t\\t\\t\\t\\t<tbody>\\n\\t\\t\\t\\t\\t\\t\\n\\t\\t\\t\\t\\t\\t\\t<tr onMouseOver=\"mouseOver(this)\" onMouseOut=\"mouseOut(this)\" >\\n\\t\\t\\t\\t\\t\\t\\t\\t<td class=\"name\"><div class=\"name_area\"><a href=\"/item/main.nhn?code=207760\">미스터블루</a> <span class=\"dot\">*</span></div></td>\\n\\t\\t\\t\\t\\t\\t\\t\\t\\n\\t\\t\\t\\t\\t\\t\\t\\t\\t<td>\\n\\t\\t\\t\\t\\t\\t\\t\\t\\t\\t<div class=\"theme_info_area\">\\n\\t\\t\\t\\t\\t\\t\\t\\t\\t\\t\\t<a href=\"javascript:;\" class=\"btn_history\" onMouseOver=\"mouseThemeToggle(this)\" onMouseOut=\"mouseThemeToggle(this)\">\\n\\t\\t\\t\\t\\t\\t\\t\\t\\t\\t\\t\\t<span class=\"blind\">테마 편입 사유</span>\\n\\t\\t\\t\\t\\t\\t\\t\\t\\t\\t\\t</a>\\n\\n\\t\\t\\t\\t\\t\\t\\t\\t\\t\\t\\t<div class=\"info_layer_wrap\"  tabindex=\"0\" style=\"display:none;\">\\n\\t\\t\\t\\t\\t\\t\\t\\t\\t\\t\\t\\t<strong class=\"info_title\">미스터블루</strong>\\n\\t\\t\\t\\t\\t\\t\\t\\t\\t\\t\\t\\t<p class=\"info_txt\">기업인수목적회사(SPAC) 동부스팩2호가 온라인 만화콘텐츠 서비스 업체 미스터블루를 흡수합병함에 따라 변경 상장된 업체. 온라인 만화, 웹툰, 소설 등의 제작/유통 및 만화출판 등을 주요사업으로 영위. 국내외 다양한 만화와 소설을 인터넷 및 모바일로 제공하고 있음.</p>\\n\\t\\t\\t\\t\\t\\t\\t\\t\\t\\t\\t</div>\\n\\t\\t\\t\\t\\t\\t\\t\\t\\t\\t</div>\\n\\t\\t\\t\\t\\t\\t\\t\\t\\t</td>\\n\\t\\t\\t\\t\\t\\t\\t\\t\\n\\t\\t\\t\\t\\t\\t\\t\\t\\n\\t\\t\\t\\t\\t\\t\\t\\t<td class=\"number\" style=\"padding-right:15px;\">12,100</td>\\n\\t\\t\\t\\t\\t\\t\\t\\t<td class=\"number\" style=\"padding-right:15px;\">\\n\\t\\t\\t\\t<img src=\"https://ssl.pstatic.net/imgstock/images/images4/ico_up.gif\" width=\"7\" height=\"6\" style=\"margin-right:4px;\" alt=\"상승\"><span class=\"tah p11 red02\">\\n\\t\\t\\t\\t550\\n\\t\\t\\t\\t</span>\\n\\t\\t\\t</td>\\n\\t\\t\\t\\t\\t\\t\\t\\t<td class=\"number\" style=\"padding-right:20px;\"> \\n\\t\\t\\t\\t<span class=\"tah p11 red01\">\\n\\t\\t\\t\\t+4.76%\\n\\t\\t\\t\\t</span>\\n\\t\\t\\t</td>\\n\\t\\t\\t\\t\\t\\t\\t\\t\\n\\t\\t\\t\\t\\t\\t\\t\\t\\t\\n\\t\\t\\t\\t\\t\\t\\t\\t\\t\\t\\n\\t\\t\\t\\t\\t\\t\\t\\t\\t\\t<td class=\"number\" style=\"padding-right:20px;\">12,100</td>\\n\\t\\t\\t\\t\\t\\t\\t\\t\\t\\n\\t\\t\\t\\t\\t\\t\\t\\t\\n\\t\\t\\t\\t\\t\\t\\t\\t\\t\\n\\t\\t\\t\\t\\t\\t\\t\\t\\t\\t\\n\\t\\t\\t\\t\\t\\t\\t\\t\\t\\t<td class=\"number\" style=\"padding-right:20px;\">12,150</td>\\n\\t\\t\\t\\t\\t\\t\\t\\t\\t\\n\\t\\t\\t\\t\\t\\t\\t\\t\\n\\t\\t\\t\\t\\t\\t\\t\\t\\t\\n\\t\\t\\t\\t\\t\\t\\t\\t\\t\\t\\n\\t\\t\\t\\t\\t\\t\\t\\t\\t\\t<td class=\"number\" style=\"padding-right:20px;\">4,828,634</td>\\n\\t\\t\\t\\t\\t\\t\\t\\t\\t\\n\\t\\t\\t\\t\\t\\t\\t\\t\\n\\t\\t\\t\\t\\t\\t\\t\\t\\t\\n\\t\\t\\t\\t\\t\\t\\t\\t\\t\\t<td class=\"number\" style=\"padding-right:20px;\">58,839</td>\\n\\t\\t\\t\\t\\t\\t\\t\\t\\t\\t\\n\\t\\t\\t\\t\\t\\t\\t\\t\\t\\n\\t\\t\\t\\t\\t\\t\\t\\t\\n\\t\\t\\t\\t\\t\\t\\t\\t\\t\\n\\t\\t\\t\\t\\t\\t\\t\\t\\t\\t\\n\\t\\t\\t\\t\\t\\t\\t\\t\\t\\t<td class=\"number\" style=\"padding-right:20px;\">486,357</td>\\n\\t\\t\\t\\t\\t\\t\\t\\t\\t\\n\\t\\t\\t\\t\\t\\t\\t\\t\\n\\t\\t\\t\\t\\t\\t\\t\\t<td class=\"center\"><a href=\"/item/board.nhn?code=207760\"><img src=\"https://ssl.pstatic.net/imgstock/images5/ico_debatebl2.gif\" width=\"15\" height=\"13\" alt=\"토론실\"></a></td>\\n\\t\\t\\t\\t\\t\\t\\t</tr>\\n\\t\\t\\t\\t\\t\\t\\n\\t\\t\\t\\t\\t\\t\\t<tr onMouseOver=\"mouseOver(this)\" onMouseOut=\"mouseOut(this)\" >\\n\\t\\t\\t\\t\\t\\t\\t\\t<td class=\"name\"><div class=\"name_area\"><a href=\"/item/main.nhn?code=020120\">키다리스튜디오</a> <span class=\"dot\"></span></div></td>\\n\\t\\t\\t\\t\\t\\t\\t\\t\\n\\t\\t\\t\\t\\t\\t\\t\\t\\t<td>\\n\\t\\t\\t\\t\\t\\t\\t\\t\\t\\t<div class=\"theme_info_area\">\\n\\t\\t\\t\\t\\t\\t\\t\\t\\t\\t\\t<a href=\"javascript:;\" class=\"btn_history\" onMouseOver=\"mouseThemeToggle(this)\" onMouseOut=\"mouseThemeToggle(this)\">\\n\\t\\t\\t\\t\\t\\t\\t\\t\\t\\t\\t\\t<span class=\"blind\">테마 편입 사유</span>\\n\\t\\t\\t\\t\\t\\t\\t\\t\\t\\t\\t</a>\\n\\n\\t\\t\\t\\t\\t\\t\\t\\t\\t\\t\\t<div class=\"info_layer_wrap\"  tabindex=\"0\" style=\"display:none;\">\\n\\t\\t\\t\\t\\t\\t\\t\\t\\t\\t\\t\\t<strong class=\"info_title\">키다리스튜디오</strong>\\n\\t\\t\\t\\t\\t\\t\\t\\t\\t\\t\\t\\t<p class=\"info_txt\">18년1월 웹툰서비스업체 (주)봄코믹스를 흡수합병함에 따라 웹툰 플랫폼 서비스, 웹툰 제작 등 웹툰 사업을 영위. 다수의 작가들의 저작권과 전송권을 보유하여 독점적으로 서비스하고 있고, 다양한 웹툰 콘텐츠를 봄툰 플랫폼에 선 연재 후 카카오, 네이버, 원스토어 등의 포털에 서비스중.</p>\\n\\t\\t\\t\\t\\t\\t\\t\\t\\t\\t\\t</div>\\n\\t\\t\\t\\t\\t\\t\\t\\t\\t\\t</div>\\n\\t\\t\\t\\t\\t\\t\\t\\t\\t</td>\\n\\t\\t\\t\\t\\t\\t\\t\\t\\n\\t\\t\\t\\t\\t\\t\\t\\t\\n\\t\\t\\t\\t\\t\\t\\t\\t<td class=\"number\" style=\"padding-right:15px;\">16,200</td>\\n\\t\\t\\t\\t\\t\\t\\t\\t<td class=\"number\" style=\"padding-right:15px;\">\\n\\t\\t\\t\\t<img src=\"https://ssl.pstatic.net/imgstock/images/images4/ico_up.gif\" width=\"7\" height=\"6\" style=\"margin-right:4px;\" alt=\"상승\"><span class=\"tah p11 red02\">\\n\\t\\t\\t\\t400\\n\\t\\t\\t\\t</span>\\n\\t\\t\\t</td>\\n\\t\\t\\t\\t\\t\\t\\t\\t<td class=\"number\" style=\"padding-right:20px;\"> \\n\\t\\t\\t\\t<span class=\"tah p11 red01\">\\n\\t\\t\\t\\t+2.53%\\n\\t\\t\\t\\t</span>\\n\\t\\t\\t</td>\\n\\t\\t\\t\\t\\t\\t\\t\\t\\n\\t\\t\\t\\t\\t\\t\\t\\t\\t\\n\\t\\t\\t\\t\\t\\t\\t\\t\\t\\t\\n\\t\\t\\t\\t\\t\\t\\t\\t\\t\\t<td class=\"number\" style=\"padding-right:20px;\">16,150</td>\\n\\t\\t\\t\\t\\t\\t\\t\\t\\t\\n\\t\\t\\t\\t\\t\\t\\t\\t\\n\\t\\t\\t\\t\\t\\t\\t\\t\\t\\n\\t\\t\\t\\t\\t\\t\\t\\t\\t\\t\\n\\t\\t\\t\\t\\t\\t\\t\\t\\t\\t<td class=\"number\" style=\"padding-right:20px;\">16,200</td>\\n\\t\\t\\t\\t\\t\\t\\t\\t\\t\\n\\t\\t\\t\\t\\t\\t\\t\\t\\n\\t\\t\\t\\t\\t\\t\\t\\t\\t\\n\\t\\t\\t\\t\\t\\t\\t\\t\\t\\t\\n\\t\\t\\t\\t\\t\\t\\t\\t\\t\\t<td class=\"number\" style=\"padding-right:20px;\">223,689</td>\\n\\t\\t\\t\\t\\t\\t\\t\\t\\t\\n\\t\\t\\t\\t\\t\\t\\t\\t\\n\\t\\t\\t\\t\\t\\t\\t\\t\\t\\n\\t\\t\\t\\t\\t\\t\\t\\t\\t\\t\\n\\t\\t\\t\\t\\t\\t\\t\\t\\t\\t<td class=\"number\" style=\"padding-right:20px;\">3,542</td>\\n\\t\\t\\t\\t\\t\\t\\t\\t\\t\\n\\t\\t\\t\\t\\t\\t\\t\\t\\n\\t\\t\\t\\t\\t\\t\\t\\t\\t\\n\\t\\t\\t\\t\\t\\t\\t\\t\\t\\t\\n\\t\\t\\t\\t\\t\\t\\t\\t\\t\\t<td class=\"number\" style=\"padding-right:20px;\">209,161</td>\\n\\t\\t\\t\\t\\t\\t\\t\\t\\t\\n\\t\\t\\t\\t\\t\\t\\t\\t\\n\\t\\t\\t\\t\\t\\t\\t\\t<td class=\"center\"><a href=\"/item/board.nhn?code=020120\"><img src=\"https://ssl.pstatic.net/imgstock/images5/ico_debatebl2.gif\" width=\"15\" height=\"13\" alt=\"토론실\"></a></td>\\n\\t\\t\\t\\t\\t\\t\\t</tr>\\n\\t\\t\\t\\t\\t\\t\\n\\t\\t\\t\\t\\t\\t\\t<tr onMouseOver=\"mouseOver(this)\" onMouseOut=\"mouseOut(this)\" >\\n\\t\\t\\t\\t\\t\\t\\t\\t<td class=\"name\"><div class=\"name_area\"><a href=\"/item/main.nhn?code=035720\">카카오</a> <span class=\"dot\"></span></div></td>\\n\\t\\t\\t\\t\\t\\t\\t\\t\\n\\t\\t\\t\\t\\t\\t\\t\\t\\t<td>\\n\\t\\t\\t\\t\\t\\t\\t\\t\\t\\t<div class=\"theme_info_area\">\\n\\t\\t\\t\\t\\t\\t\\t\\t\\t\\t\\t<a href=\"javascript:;\" class=\"btn_history\" onMouseOver=\"mouseThemeToggle(this)\" onMouseOut=\"mouseThemeToggle(this)\">\\n\\t\\t\\t\\t\\t\\t\\t\\t\\t\\t\\t\\t<span class=\"blind\">테마 편입 사유</span>\\n\\t\\t\\t\\t\\t\\t\\t\\t\\t\\t\\t</a>\\n\\n\\t\\t\\t\\t\\t\\t\\t\\t\\t\\t\\t<div class=\"info_layer_wrap\"  tabindex=\"0\" style=\"display:none;\">\\n\\t\\t\\t\\t\\t\\t\\t\\t\\t\\t\\t\\t<strong class=\"info_title\">카카오</strong>\\n\\t\\t\\t\\t\\t\\t\\t\\t\\t\\t\\t\\t<p class=\"info_txt\">국내 1위 메신저인 카카오톡을 비롯해 다양한 모바일 서비스를 제공하는 종합 플랫폼 업체. 카카오톡을 중심으로 모바일 생태계 안에서 다양한 사업들과의 시너지를 발휘하며 수익을 창출. 연결대상 주요종속회사인 카카오페이지가 모바일 콘텐츠 플랫폼 서비스(카카오페이지/다음웹툰) 사업을 영위.</p>\\n\\t\\t\\t\\t\\t\\t\\t\\t\\t\\t\\t</div>\\n\\t\\t\\t\\t\\t\\t\\t\\t\\t\\t</div>\\n\\t\\t\\t\\t\\t\\t\\t\\t\\t</td>\\n\\t\\t\\t\\t\\t\\t\\t\\t\\n\\t\\t\\t\\t\\t\\t\\t\\t\\n\\t\\t\\t\\t\\t\\t\\t\\t<td class=\"number\" style=\"padding-right:15px;\">161,000</td>\\n\\t\\t\\t\\t\\t\\t\\t\\t<td class=\"number\" style=\"padding-right:15px;\">\\n\\t\\t\\t\\t<img src=\"https://ssl.pstatic.net/imgstock/images/images4/ico_up.gif\" width=\"7\" height=\"6\" style=\"margin-right:4px;\" alt=\"상승\"><span class=\"tah p11 red02\">\\n\\t\\t\\t\\t3,500\\n\\t\\t\\t\\t</span>\\n\\t\\t\\t</td>\\n\\t\\t\\t\\t\\t\\t\\t\\t<td class=\"number\" style=\"padding-right:20px;\"> \\n\\t\\t\\t\\t<span class=\"tah p11 red01\">\\n\\t\\t\\t\\t+2.22%\\n\\t\\t\\t\\t</span>\\n\\t\\t\\t</td>\\n\\t\\t\\t\\t\\t\\t\\t\\t\\n\\t\\t\\t\\t\\t\\t\\t\\t\\t\\n\\t\\t\\t\\t\\t\\t\\t\\t\\t\\t\\n\\t\\t\\t\\t\\t\\t\\t\\t\\t\\t<td class=\"number\" style=\"padding-right:20px;\">161,000</td>\\n\\t\\t\\t\\t\\t\\t\\t\\t\\t\\n\\t\\t\\t\\t\\t\\t\\t\\t\\n\\t\\t\\t\\t\\t\\t\\t\\t\\t\\n\\t\\t\\t\\t\\t\\t\\t\\t\\t\\t\\n\\t\\t\\t\\t\\t\\t\\t\\t\\t\\t<td class=\"number\" style=\"padding-right:20px;\">161,500</td>\\n\\t\\t\\t\\t\\t\\t\\t\\t\\t\\n\\t\\t\\t\\t\\t\\t\\t\\t\\n\\t\\t\\t\\t\\t\\t\\t\\t\\t\\n\\t\\t\\t\\t\\t\\t\\t\\t\\t\\t\\n\\t\\t\\t\\t\\t\\t\\t\\t\\t\\t<td class=\"number\" style=\"padding-right:20px;\">4,378,667</td>\\n\\t\\t\\t\\t\\t\\t\\t\\t\\t\\n\\t\\t\\t\\t\\t\\t\\t\\t\\n\\t\\t\\t\\t\\t\\t\\t\\t\\t\\n\\t\\t\\t\\t\\t\\t\\t\\t\\t\\t\\n\\t\\t\\t\\t\\t\\t\\t\\t\\t\\t<td class=\"number\" style=\"padding-right:20px;\">706,518</td>\\n\\t\\t\\t\\t\\t\\t\\t\\t\\t\\n\\t\\t\\t\\t\\t\\t\\t\\t\\n\\t\\t\\t\\t\\t\\t\\t\\t\\t\\n\\t\\t\\t\\t\\t\\t\\t\\t\\t\\t\\n\\t\\t\\t\\t\\t\\t\\t\\t\\t\\t<td class=\"number\" style=\"padding-right:20px;\">2,045,164</td>\\n\\t\\t\\t\\t\\t\\t\\t\\t\\t\\n\\t\\t\\t\\t\\t\\t\\t\\t\\n\\t\\t\\t\\t\\t\\t\\t\\t<td class=\"center\"><a href=\"/item/board.nhn?code=035720\"><img src=\"https://ssl.pstatic.net/imgstock/images5/ico_debatebl2.gif\" width=\"15\" height=\"13\" alt=\"토론실\"></a></td>\\n\\t\\t\\t\\t\\t\\t\\t</tr>\\n\\t\\t\\t\\t\\t\\t\\n\\t\\t\\t\\t\\t\\t\\t<tr onMouseOver=\"mouseOver(this)\" onMouseOut=\"mouseOut(this)\" >\\n\\t\\t\\t\\t\\t\\t\\t\\t<td class=\"name\"><div class=\"name_area\"><a href=\"/item/main.nhn?code=035420\">NAVER</a> <span class=\"dot\"></span></div></td>\\n\\t\\t\\t\\t\\t\\t\\t\\t\\n\\t\\t\\t\\t\\t\\t\\t\\t\\t<td>\\n\\t\\t\\t\\t\\t\\t\\t\\t\\t\\t<div class=\"theme_info_area\">\\n\\t\\t\\t\\t\\t\\t\\t\\t\\t\\t\\t<a href=\"javascript:;\" class=\"btn_history\" onMouseOver=\"mouseThemeToggle(this)\" onMouseOut=\"mouseThemeToggle(this)\">\\n\\t\\t\\t\\t\\t\\t\\t\\t\\t\\t\\t\\t<span class=\"blind\">테마 편입 사유</span>\\n\\t\\t\\t\\t\\t\\t\\t\\t\\t\\t\\t</a>\\n\\n\\t\\t\\t\\t\\t\\t\\t\\t\\t\\t\\t<div class=\"info_layer_wrap\"  tabindex=\"0\" style=\"display:none;\">\\n\\t\\t\\t\\t\\t\\t\\t\\t\\t\\t\\t\\t<strong class=\"info_title\">NAVER</strong>\\n\\t\\t\\t\\t\\t\\t\\t\\t\\t\\t\\t\\t<p class=\"info_txt\">인터넷 검색포털 사이트 네이버 운영업체. 네이버웹툰(유)(舊, 웹툰엔터테인먼트코리아)을 연결대상 주요종속회사로 보유. 글로벌 1위 웹툰 플랫폼인 네이버웹툰(한국) - LINE Manga(일본) - WEBTOON(미국/유럽) - LINE WEBTOON(동남아)을 운영하는 외에, 한국에서 웹소설/웹툰/디지털 만화 콘텐츠를 유통하는 \"네이버 시리즈\", 드라마/영화 등 영상 콘텐츠를 유통하는 \"네이버 시리즈온\" 서비스를 운영. 21년1월 세계 최대 웹소설 플랫폼 왓패드(Wattpad) 인수를 결정하고 네이버웹툰과의 시너지 도모.</p>\\n\\t\\t\\t\\t\\t\\t\\t\\t\\t\\t\\t</div>\\n\\t\\t\\t\\t\\t\\t\\t\\t\\t\\t</div>\\n\\t\\t\\t\\t\\t\\t\\t\\t\\t</td>\\n\\t\\t\\t\\t\\t\\t\\t\\t\\n\\t\\t\\t\\t\\t\\t\\t\\t\\n\\t\\t\\t\\t\\t\\t\\t\\t<td class=\"number\" style=\"padding-right:15px;\">417,500</td>\\n\\t\\t\\t\\t\\t\\t\\t\\t<td class=\"number\" style=\"padding-right:15px;\">\\n\\t\\t\\t\\t<img src=\"https://ssl.pstatic.net/imgstock/images/images4/ico_up.gif\" width=\"7\" height=\"6\" style=\"margin-right:4px;\" alt=\"상승\"><span class=\"tah p11 red02\">\\n\\t\\t\\t\\t8,000\\n\\t\\t\\t\\t</span>\\n\\t\\t\\t</td>\\n\\t\\t\\t\\t\\t\\t\\t\\t<td class=\"number\" style=\"padding-right:20px;\"> \\n\\t\\t\\t\\t<span class=\"tah p11 red01\">\\n\\t\\t\\t\\t+1.95%\\n\\t\\t\\t\\t</span>\\n\\t\\t\\t</td>\\n\\t\\t\\t\\t\\t\\t\\t\\t\\n\\t\\t\\t\\t\\t\\t\\t\\t\\t\\n\\t\\t\\t\\t\\t\\t\\t\\t\\t\\t\\n\\t\\t\\t\\t\\t\\t\\t\\t\\t\\t<td class=\"number\" style=\"padding-right:20px;\">417,000</td>\\n\\t\\t\\t\\t\\t\\t\\t\\t\\t\\n\\t\\t\\t\\t\\t\\t\\t\\t\\n\\t\\t\\t\\t\\t\\t\\t\\t\\t\\n\\t\\t\\t\\t\\t\\t\\t\\t\\t\\t\\n\\t\\t\\t\\t\\t\\t\\t\\t\\t\\t<td class=\"number\" style=\"padding-right:20px;\">417,500</td>\\n\\t\\t\\t\\t\\t\\t\\t\\t\\t\\n\\t\\t\\t\\t\\t\\t\\t\\t\\n\\t\\t\\t\\t\\t\\t\\t\\t\\t\\n\\t\\t\\t\\t\\t\\t\\t\\t\\t\\t\\n\\t\\t\\t\\t\\t\\t\\t\\t\\t\\t<td class=\"number\" style=\"padding-right:20px;\">659,220</td>\\n\\t\\t\\t\\t\\t\\t\\t\\t\\t\\n\\t\\t\\t\\t\\t\\t\\t\\t\\n\\t\\t\\t\\t\\t\\t\\t\\t\\t\\n\\t\\t\\t\\t\\t\\t\\t\\t\\t\\t\\n\\t\\t\\t\\t\\t\\t\\t\\t\\t\\t<td class=\"number\" style=\"padding-right:20px;\">273,880</td>\\n\\t\\t\\t\\t\\t\\t\\t\\t\\t\\n\\t\\t\\t\\t\\t\\t\\t\\t\\n\\t\\t\\t\\t\\t\\t\\t\\t\\t\\n\\t\\t\\t\\t\\t\\t\\t\\t\\t\\t\\n\\t\\t\\t\\t\\t\\t\\t\\t\\t\\t<td class=\"number\" style=\"padding-right:20px;\">342,771</td>\\n\\t\\t\\t\\t\\t\\t\\t\\t\\t\\n\\t\\t\\t\\t\\t\\t\\t\\t\\n\\t\\t\\t\\t\\t\\t\\t\\t<td class=\"center\"><a href=\"/item/board.nhn?code=035420\"><img src=\"https://ssl.pstatic.net/imgstock/images5/ico_debatebl2.gif\" width=\"15\" height=\"13\" alt=\"토론실\"></a></td>\\n\\t\\t\\t\\t\\t\\t\\t</tr>\\n\\t\\t\\t\\t\\t\\t\\n\\t\\t\\t\\t\\t\\t\\t<tr onMouseOver=\"mouseOver(this)\" onMouseOut=\"mouseOut(this)\" >\\n\\t\\t\\t\\t\\t\\t\\t\\t<td class=\"name\"><div class=\"name_area\"><a href=\"/item/main.nhn?code=263720\">디앤씨미디어</a> <span class=\"dot\">*</span></div></td>\\n\\t\\t\\t\\t\\t\\t\\t\\t\\n\\t\\t\\t\\t\\t\\t\\t\\t\\t<td>\\n\\t\\t\\t\\t\\t\\t\\t\\t\\t\\t<div class=\"theme_info_area\">\\n\\t\\t\\t\\t\\t\\t\\t\\t\\t\\t\\t<a href=\"javascript:;\" class=\"btn_history\" onMouseOver=\"mouseThemeToggle(this)\" onMouseOut=\"mouseThemeToggle(this)\">\\n\\t\\t\\t\\t\\t\\t\\t\\t\\t\\t\\t\\t<span class=\"blind\">테마 편입 사유</span>\\n\\t\\t\\t\\t\\t\\t\\t\\t\\t\\t\\t</a>\\n\\n\\t\\t\\t\\t\\t\\t\\t\\t\\t\\t\\t<div class=\"info_layer_wrap\"  tabindex=\"0\" style=\"display:none;\">\\n\\t\\t\\t\\t\\t\\t\\t\\t\\t\\t\\t\\t<strong class=\"info_title\">디앤씨미디어</strong>\\n\\t\\t\\t\\t\\t\\t\\t\\t\\t\\t\\t\\t<p class=\"info_txt\">웹소설 및 웹툰 전문 콘텐츠 공급업체. 작가 수급 경쟁력과 편집부 기반의 조직을 통해 콘텐츠를 제작하고, 이를 출판·유통하는 사업을 주력으로 영위. 종이책 및 전자책으로 발행하여 예스24, 교보문고, 알라딘 등 온오프라인 서점, 도서대여점 및 카카오페이지, 네이버시리즈, 리디북스 등의 플랫폼 등을 통해 소비자에게 판매·서비스중. 20년12월 웹툰 콘텐츠 및 2차 저작물 제작 부문을 물적분할하여 분할 신설회사 주식회사 디앤씨웹툰비즈를 설립.</p>\\n\\t\\t\\t\\t\\t\\t\\t\\t\\t\\t\\t</div>\\n\\t\\t\\t\\t\\t\\t\\t\\t\\t\\t</div>\\n\\t\\t\\t\\t\\t\\t\\t\\t\\t</td>\\n\\t\\t\\t\\t\\t\\t\\t\\t\\n\\t\\t\\t\\t\\t\\t\\t\\t\\n\\t\\t\\t\\t\\t\\t\\t\\t<td class=\"number\" style=\"padding-right:15px;\">46,650</td>\\n\\t\\t\\t\\t\\t\\t\\t\\t<td class=\"number\" style=\"padding-right:15px;\">\\n\\t\\t\\t\\t<img src=\"https://ssl.pstatic.net/imgstock/images/images4/ico_up.gif\" width=\"7\" height=\"6\" style=\"margin-right:4px;\" alt=\"상승\"><span class=\"tah p11 red02\">\\n\\t\\t\\t\\t800\\n\\t\\t\\t\\t</span>\\n\\t\\t\\t</td>\\n\\t\\t\\t\\t\\t\\t\\t\\t<td class=\"number\" style=\"padding-right:20px;\"> \\n\\t\\t\\t\\t<span class=\"tah p11 red01\">\\n\\t\\t\\t\\t+1.74%\\n\\t\\t\\t\\t</span>\\n\\t\\t\\t</td>\\n\\t\\t\\t\\t\\t\\t\\t\\t\\n\\t\\t\\t\\t\\t\\t\\t\\t\\t\\n\\t\\t\\t\\t\\t\\t\\t\\t\\t\\t\\n\\t\\t\\t\\t\\t\\t\\t\\t\\t\\t<td class=\"number\" style=\"padding-right:20px;\">46,650</td>\\n\\t\\t\\t\\t\\t\\t\\t\\t\\t\\n\\t\\t\\t\\t\\t\\t\\t\\t\\n\\t\\t\\t\\t\\t\\t\\t\\t\\t\\n\\t\\t\\t\\t\\t\\t\\t\\t\\t\\t\\n\\t\\t\\t\\t\\t\\t\\t\\t\\t\\t<td class=\"number\" style=\"padding-right:20px;\">46,700</td>\\n\\t\\t\\t\\t\\t\\t\\t\\t\\t\\n\\t\\t\\t\\t\\t\\t\\t\\t\\n\\t\\t\\t\\t\\t\\t\\t\\t\\t\\n\\t\\t\\t\\t\\t\\t\\t\\t\\t\\t\\n\\t\\t\\t\\t\\t\\t\\t\\t\\t\\t<td class=\"number\" style=\"padding-right:20px;\">191,750</td>\\n\\t\\t\\t\\t\\t\\t\\t\\t\\t\\n\\t\\t\\t\\t\\t\\t\\t\\t\\n\\t\\t\\t\\t\\t\\t\\t\\t\\t\\n\\t\\t\\t\\t\\t\\t\\t\\t\\t\\t<td class=\"number\" style=\"padding-right:20px;\">8,953</td>\\n\\t\\t\\t\\t\\t\\t\\t\\t\\t\\t\\n\\t\\t\\t\\t\\t\\t\\t\\t\\t\\n\\t\\t\\t\\t\\t\\t\\t\\t\\n\\t\\t\\t\\t\\t\\t\\t\\t\\t\\n\\t\\t\\t\\t\\t\\t\\t\\t\\t\\t\\n\\t\\t\\t\\t\\t\\t\\t\\t\\t\\t<td class=\"number\" style=\"padding-right:20px;\">269,291</td>\\n\\t\\t\\t\\t\\t\\t\\t\\t\\t\\n\\t\\t\\t\\t\\t\\t\\t\\t\\n\\t\\t\\t\\t\\t\\t\\t\\t<td class=\"center\"><a href=\"/item/board.nhn?code=263720\"><img src=\"https://ssl.pstatic.net/imgstock/images5/ico_debatebl2.gif\" width=\"15\" height=\"13\" alt=\"토론실\"></a></td>\\n\\t\\t\\t\\t\\t\\t\\t</tr>\\n\\t\\t\\t\\t\\t\\t\\n\\t\\t\\t\\t\\t\\t\\t<tr onMouseOver=\"mouseOver(this)\" onMouseOut=\"mouseOut(this)\" >\\n\\t\\t\\t\\t\\t\\t\\t\\t<td class=\"name\"><div class=\"name_area\"><a href=\"/item/main.nhn?code=181710\">NHN</a> <span class=\"dot\"></span></div></td>\\n\\t\\t\\t\\t\\t\\t\\t\\t\\n\\t\\t\\t\\t\\t\\t\\t\\t\\t<td>\\n\\t\\t\\t\\t\\t\\t\\t\\t\\t\\t<div class=\"theme_info_area\">\\n\\t\\t\\t\\t\\t\\t\\t\\t\\t\\t\\t<a href=\"javascript:;\" class=\"btn_history\" onMouseOver=\"mouseThemeToggle(this)\" onMouseOut=\"mouseThemeToggle(this)\">\\n\\t\\t\\t\\t\\t\\t\\t\\t\\t\\t\\t\\t<span class=\"blind\">테마 편입 사유</span>\\n\\t\\t\\t\\t\\t\\t\\t\\t\\t\\t\\t</a>\\n\\n\\t\\t\\t\\t\\t\\t\\t\\t\\t\\t\\t<div class=\"info_layer_wrap\"  tabindex=\"0\" style=\"display:none;\">\\n\\t\\t\\t\\t\\t\\t\\t\\t\\t\\t\\t\\t<strong class=\"info_title\">NHN</strong>\\n\\t\\t\\t\\t\\t\\t\\t\\t\\t\\t\\t\\t<p class=\"info_txt\">PC, 모바일 웹툰서비스 플래펌 \\'코미코(Comico)\\' 운영중이며, 웹툰서비스 및 소프트웨어 공급업체 NHN JAPAN Corp. 등을 보유.</p>\\n\\t\\t\\t\\t\\t\\t\\t\\t\\t\\t\\t</div>\\n\\t\\t\\t\\t\\t\\t\\t\\t\\t\\t</div>\\n\\t\\t\\t\\t\\t\\t\\t\\t\\t</td>\\n\\t\\t\\t\\t\\t\\t\\t\\t\\n\\t\\t\\t\\t\\t\\t\\t\\t\\n\\t\\t\\t\\t\\t\\t\\t\\t<td class=\"number\" style=\"padding-right:15px;\">82,200</td>\\n\\t\\t\\t\\t\\t\\t\\t\\t<td class=\"number\" style=\"padding-right:15px;\">\\n\\t\\t\\t\\t<img src=\"https://ssl.pstatic.net/imgstock/images/images4/ico_up.gif\" width=\"7\" height=\"6\" style=\"margin-right:4px;\" alt=\"상승\"><span class=\"tah p11 red02\">\\n\\t\\t\\t\\t1,300\\n\\t\\t\\t\\t</span>\\n\\t\\t\\t</td>\\n\\t\\t\\t\\t\\t\\t\\t\\t<td class=\"number\" style=\"padding-right:20px;\"> \\n\\t\\t\\t\\t<span class=\"tah p11 red01\">\\n\\t\\t\\t\\t+1.61%\\n\\t\\t\\t\\t</span>\\n\\t\\t\\t</td>\\n\\t\\t\\t\\t\\t\\t\\t\\t\\n\\t\\t\\t\\t\\t\\t\\t\\t\\t\\n\\t\\t\\t\\t\\t\\t\\t\\t\\t\\t\\n\\t\\t\\t\\t\\t\\t\\t\\t\\t\\t<td class=\"number\" style=\"padding-right:20px;\">82,100</td>\\n\\t\\t\\t\\t\\t\\t\\t\\t\\t\\n\\t\\t\\t\\t\\t\\t\\t\\t\\n\\t\\t\\t\\t\\t\\t\\t\\t\\t\\n\\t\\t\\t\\t\\t\\t\\t\\t\\t\\t\\n\\t\\t\\t\\t\\t\\t\\t\\t\\t\\t<td class=\"number\" style=\"padding-right:20px;\">82,200</td>\\n\\t\\t\\t\\t\\t\\t\\t\\t\\t\\n\\t\\t\\t\\t\\t\\t\\t\\t\\n\\t\\t\\t\\t\\t\\t\\t\\t\\t\\n\\t\\t\\t\\t\\t\\t\\t\\t\\t\\t\\n\\t\\t\\t\\t\\t\\t\\t\\t\\t\\t<td class=\"number\" style=\"padding-right:20px;\">98,481</td>\\n\\t\\t\\t\\t\\t\\t\\t\\t\\t\\n\\t\\t\\t\\t\\t\\t\\t\\t\\n\\t\\t\\t\\t\\t\\t\\t\\t\\t\\n\\t\\t\\t\\t\\t\\t\\t\\t\\t\\t\\n\\t\\t\\t\\t\\t\\t\\t\\t\\t\\t<td class=\"number\" style=\"padding-right:20px;\">8,077</td>\\n\\t\\t\\t\\t\\t\\t\\t\\t\\t\\n\\t\\t\\t\\t\\t\\t\\t\\t\\n\\t\\t\\t\\t\\t\\t\\t\\t\\t\\n\\t\\t\\t\\t\\t\\t\\t\\t\\t\\t\\n\\t\\t\\t\\t\\t\\t\\t\\t\\t\\t<td class=\"number\" style=\"padding-right:20px;\">110,265</td>\\n\\t\\t\\t\\t\\t\\t\\t\\t\\t\\n\\t\\t\\t\\t\\t\\t\\t\\t\\n\\t\\t\\t\\t\\t\\t\\t\\t<td class=\"center\"><a href=\"/item/board.nhn?code=181710\"><img src=\"https://ssl.pstatic.net/imgstock/images5/ico_debatebl2.gif\" width=\"15\" height=\"13\" alt=\"토론실\"></a></td>\\n\\t\\t\\t\\t\\t\\t\\t</tr>\\n\\t\\t\\t\\t\\t\\t\\n\\t\\t\\t\\t\\t\\t\\t<tr onMouseOver=\"mouseOver(this)\" onMouseOut=\"mouseOut(this)\" >\\n\\t\\t\\t\\t\\t\\t\\t\\t<td class=\"name\"><div class=\"name_area\"><a href=\"/item/main.nhn?code=048910\">대원미디어</a> <span class=\"dot\">*</span></div></td>\\n\\t\\t\\t\\t\\t\\t\\t\\t\\n\\t\\t\\t\\t\\t\\t\\t\\t\\t<td>\\n\\t\\t\\t\\t\\t\\t\\t\\t\\t\\t<div class=\"theme_info_area\">\\n\\t\\t\\t\\t\\t\\t\\t\\t\\t\\t\\t<a href=\"javascript:;\" class=\"btn_history\" onMouseOver=\"mouseThemeToggle(this)\" onMouseOut=\"mouseThemeToggle(this)\">\\n\\t\\t\\t\\t\\t\\t\\t\\t\\t\\t\\t\\t<span class=\"blind\">테마 편입 사유</span>\\n\\t\\t\\t\\t\\t\\t\\t\\t\\t\\t\\t</a>\\n\\n\\t\\t\\t\\t\\t\\t\\t\\t\\t\\t\\t<div class=\"info_layer_wrap\"  tabindex=\"0\" style=\"display:none;\">\\n\\t\\t\\t\\t\\t\\t\\t\\t\\t\\t\\t\\t<strong class=\"info_title\">대원미디어</strong>\\n\\t\\t\\t\\t\\t\\t\\t\\t\\t\\t\\t\\t<p class=\"info_txt\">만화 및 애니메이션 콘텐츠 관련 종합 엔터테인먼트 사업을 영위하는 업체. 종속회사 (주)스토리작을 통해 웹툰/웹소설 제작ㆍ유통사업 진행중.</p>\\n\\t\\t\\t\\t\\t\\t\\t\\t\\t\\t\\t</div>\\n\\t\\t\\t\\t\\t\\t\\t\\t\\t\\t</div>\\n\\t\\t\\t\\t\\t\\t\\t\\t\\t</td>\\n\\t\\t\\t\\t\\t\\t\\t\\t\\n\\t\\t\\t\\t\\t\\t\\t\\t\\n\\t\\t\\t\\t\\t\\t\\t\\t<td class=\"number\" style=\"padding-right:15px;\">36,700</td>\\n\\t\\t\\t\\t\\t\\t\\t\\t<td class=\"number\" style=\"padding-right:15px;\">\\n\\t\\t\\t\\t<img src=\"https://ssl.pstatic.net/imgstock/images/images4/ico_down.gif\" width=\"7\" height=\"6\" style=\"margin-right:4px;\" alt=\"하락\"><span class=\"tah p11 nv01\">\\n\\t\\t\\t\\t800\\n\\t\\t\\t\\t</span>\\n\\t\\t\\t</td>\\n\\t\\t\\t\\t\\t\\t\\t\\t<td class=\"number\" style=\"padding-right:20px;\"> \\n\\t\\t\\t\\t<span class=\"tah p11 nv01\">\\n\\t\\t\\t\\t-2.13%\\n\\t\\t\\t\\t</span>\\n\\t\\t\\t</td>\\n\\t\\t\\t\\t\\t\\t\\t\\t\\n\\t\\t\\t\\t\\t\\t\\t\\t\\t\\n\\t\\t\\t\\t\\t\\t\\t\\t\\t\\t\\n\\t\\t\\t\\t\\t\\t\\t\\t\\t\\t<td class=\"number\" style=\"padding-right:20px;\">36,700</td>\\n\\t\\t\\t\\t\\t\\t\\t\\t\\t\\n\\t\\t\\t\\t\\t\\t\\t\\t\\n\\t\\t\\t\\t\\t\\t\\t\\t\\t\\n\\t\\t\\t\\t\\t\\t\\t\\t\\t\\t\\n\\t\\t\\t\\t\\t\\t\\t\\t\\t\\t<td class=\"number\" style=\"padding-right:20px;\">36,750</td>\\n\\t\\t\\t\\t\\t\\t\\t\\t\\t\\n\\t\\t\\t\\t\\t\\t\\t\\t\\n\\t\\t\\t\\t\\t\\t\\t\\t\\t\\n\\t\\t\\t\\t\\t\\t\\t\\t\\t\\t\\n\\t\\t\\t\\t\\t\\t\\t\\t\\t\\t<td class=\"number\" style=\"padding-right:20px;\">167,841</td>\\n\\t\\t\\t\\t\\t\\t\\t\\t\\t\\n\\t\\t\\t\\t\\t\\t\\t\\t\\n\\t\\t\\t\\t\\t\\t\\t\\t\\t\\n\\t\\t\\t\\t\\t\\t\\t\\t\\t\\t<td class=\"number\" style=\"padding-right:20px;\">6,157</td>\\n\\t\\t\\t\\t\\t\\t\\t\\t\\t\\t\\n\\t\\t\\t\\t\\t\\t\\t\\t\\t\\n\\t\\t\\t\\t\\t\\t\\t\\t\\n\\t\\t\\t\\t\\t\\t\\t\\t\\t\\n\\t\\t\\t\\t\\t\\t\\t\\t\\t\\t\\n\\t\\t\\t\\t\\t\\t\\t\\t\\t\\t<td class=\"number\" style=\"padding-right:20px;\">120,273</td>\\n\\t\\t\\t\\t\\t\\t\\t\\t\\t\\n\\t\\t\\t\\t\\t\\t\\t\\t\\n\\t\\t\\t\\t\\t\\t\\t\\t<td class=\"center\"><a href=\"/item/board.nhn?code=048910\"><img src=\"https://ssl.pstatic.net/imgstock/images5/ico_debatebl2.gif\" width=\"15\" height=\"13\" alt=\"토론실\"></a></td>\\n\\t\\t\\t\\t\\t\\t\\t</tr>\\n\\t\\t\\t\\t\\t\\t\\n\\t\\t\\t\\t\\t\\t\\t<tr onMouseOver=\"mouseOver(this)\" onMouseOut=\"mouseOut(this)\" >\\n\\t\\t\\t\\t\\t\\t\\t\\t<td class=\"name\"><div class=\"name_area\"><a href=\"/item/main.nhn?code=236810\">엔비티</a> <span class=\"dot\">*</span></div></td>\\n\\t\\t\\t\\t\\t\\t\\t\\t\\n\\t\\t\\t\\t\\t\\t\\t\\t\\t<td>\\n\\t\\t\\t\\t\\t\\t\\t\\t\\t\\t<div class=\"theme_info_area\">\\n\\t\\t\\t\\t\\t\\t\\t\\t\\t\\t\\t<a href=\"javascript:;\" class=\"btn_history\" onMouseOver=\"mouseThemeToggle(this)\" onMouseOut=\"mouseThemeToggle(this)\">\\n\\t\\t\\t\\t\\t\\t\\t\\t\\t\\t\\t\\t<span class=\"blind\">테마 편입 사유</span>\\n\\t\\t\\t\\t\\t\\t\\t\\t\\t\\t\\t</a>\\n\\n\\t\\t\\t\\t\\t\\t\\t\\t\\t\\t\\t<div class=\"info_layer_wrap\"  tabindex=\"0\" style=\"display:none;\">\\n\\t\\t\\t\\t\\t\\t\\t\\t\\t\\t\\t\\t<strong class=\"info_title\">엔비티</strong>\\n\\t\\t\\t\\t\\t\\t\\t\\t\\t\\t\\t\\t<p class=\"info_txt\">제휴 포인트 네트워크 서비스인 \\'애디슨 오퍼월\\'을 통해 네이버웹툰을 보기 위한 쿠키 충전소 \\'쿠키오븐\\'을 운영중.</p>\\n\\t\\t\\t\\t\\t\\t\\t\\t\\t\\t\\t</div>\\n\\t\\t\\t\\t\\t\\t\\t\\t\\t\\t</div>\\n\\t\\t\\t\\t\\t\\t\\t\\t\\t</td>\\n\\t\\t\\t\\t\\t\\t\\t\\t\\n\\t\\t\\t\\t\\t\\t\\t\\t\\n\\t\\t\\t\\t\\t\\t\\t\\t<td class=\"number\" style=\"padding-right:15px;\">27,500</td>\\n\\t\\t\\t\\t\\t\\t\\t\\t<td class=\"number\" style=\"padding-right:15px;\">\\n\\t\\t\\t\\t<img src=\"https://ssl.pstatic.net/imgstock/images/images4/ico_down.gif\" width=\"7\" height=\"6\" style=\"margin-right:4px;\" alt=\"하락\"><span class=\"tah p11 nv01\">\\n\\t\\t\\t\\t900\\n\\t\\t\\t\\t</span>\\n\\t\\t\\t</td>\\n\\t\\t\\t\\t\\t\\t\\t\\t<td class=\"number\" style=\"padding-right:20px;\"> \\n\\t\\t\\t\\t<span class=\"tah p11 nv01\">\\n\\t\\t\\t\\t-3.17%\\n\\t\\t\\t\\t</span>\\n\\t\\t\\t</td>\\n\\t\\t\\t\\t\\t\\t\\t\\t\\n\\t\\t\\t\\t\\t\\t\\t\\t\\t\\n\\t\\t\\t\\t\\t\\t\\t\\t\\t\\t\\n\\t\\t\\t\\t\\t\\t\\t\\t\\t\\t<td class=\"number\" style=\"padding-right:20px;\">27,500</td>\\n\\t\\t\\t\\t\\t\\t\\t\\t\\t\\n\\t\\t\\t\\t\\t\\t\\t\\t\\n\\t\\t\\t\\t\\t\\t\\t\\t\\t\\n\\t\\t\\t\\t\\t\\t\\t\\t\\t\\t\\n\\t\\t\\t\\t\\t\\t\\t\\t\\t\\t<td class=\"number\" style=\"padding-right:20px;\">27,550</td>\\n\\t\\t\\t\\t\\t\\t\\t\\t\\t\\n\\t\\t\\t\\t\\t\\t\\t\\t\\n\\t\\t\\t\\t\\t\\t\\t\\t\\t\\n\\t\\t\\t\\t\\t\\t\\t\\t\\t\\t\\n\\t\\t\\t\\t\\t\\t\\t\\t\\t\\t<td class=\"number\" style=\"padding-right:20px;\">265,815</td>\\n\\t\\t\\t\\t\\t\\t\\t\\t\\t\\n\\t\\t\\t\\t\\t\\t\\t\\t\\n\\t\\t\\t\\t\\t\\t\\t\\t\\t\\n\\t\\t\\t\\t\\t\\t\\t\\t\\t\\t<td class=\"number\" style=\"padding-right:20px;\">7,404</td>\\n\\t\\t\\t\\t\\t\\t\\t\\t\\t\\t\\n\\t\\t\\t\\t\\t\\t\\t\\t\\t\\n\\t\\t\\t\\t\\t\\t\\t\\t\\n\\t\\t\\t\\t\\t\\t\\t\\t\\t\\n\\t\\t\\t\\t\\t\\t\\t\\t\\t\\t\\n\\t\\t\\t\\t\\t\\t\\t\\t\\t\\t<td class=\"number\" style=\"padding-right:20px;\">106,374</td>\\n\\t\\t\\t\\t\\t\\t\\t\\t\\t\\n\\t\\t\\t\\t\\t\\t\\t\\t\\n\\t\\t\\t\\t\\t\\t\\t\\t<td class=\"center\"><a href=\"/item/board.nhn?code=236810\"><img src=\"https://ssl.pstatic.net/imgstock/images5/ico_debatebl2.gif\" width=\"15\" height=\"13\" alt=\"토론실\"></a></td>\\n\\t\\t\\t\\t\\t\\t\\t</tr>\\n\\t\\t\\t\\t\\t\\t\\n\\t\\t\\t\\t\\t\\t\\t<tr><td colspan=\"12\" class=\"blank_09\"></td></tr>\\n\\t\\t\\t\\t\\t\\t\\t<tr><td colspan=\"12\" class=\"division_line_1\"></td></tr>\\n\\t\\t\\t\\t\\t</tbody>\\n\\t\\t\\t\\t</table>\\n\\t\\t\\t\\t<div class=\"common_btn\">\\n\\t\\t\\t\\t\\t<span class=\"sise_guide_txt\"><em>※</em> * 는 <span class=\"org\">코스닥</span> <span>종목</span>입니다.</span>\\n\\t\\t\\t\\n\\t\\t\\t\\t\\n\\t\\t\\t\\t\\n\\t\\t\\t\\t\\t<div class=\"sise_btn_array btn_martop\"><a href=\"theme.nhn\"><img src=\"https://ssl.pstatic.net/imgstock/images5/btn_theme_all.gif\" width=\"121\" height=\"23\" border=\"0\" alt=\"테마별시세전체보기\" valign=\"\"></a></div>\\n\\t\\t\\t\\t\\n\\t\\t\\t\\t\\n\\t\\t\\t\\n\\n\\t\\t\\t\\t</div>\\n\\t\\t\\t</div>\\n\\t\\t\\t<!-- //종목별 보기 -->\\n\\n\\t\\t\\t<!-- //컨텐츠 -->\\n\\t\\t</div>\\n\\t</div>\\n\\n\\n\\n\\n\\n\\n\\t\\n\\n\\n\\n\\n\\n\\n\\t<div id=\"footer\">\\n\\t\\t<ul>\\n\\t\\t\\t<li class=\"first\">\\n\\t\\t\\t\\t<a href=\"https://www.naver.com/rules/service.html\" onClick=\"clickcr(this, \\'fot.service\\', \\'\\', \\'\\', event);\" target=\"_blank\">이용약관</a>\\n\\t\\t\\t</li>\\n\\t\\t\\t<li>\\n\\t\\t\\t\\t<a href=\"https://finance.naver.com/rules.nhn\" onClick=\"clickcr(this, \\'fot.policy\\', \\'\\', \\'\\', event);\" target=\"_blank\">금융게시판 운영원칙</a>\\n\\t\\t\\t</li>\\n\\t\\t\\t<li>\\n\\t\\t\\t\\t<a href=\"https://www.naver.com/rules/privacy.html\" onClick=\"clickcr(this, \\'fot.privacy\\', \\'\\', \\'\\', event);\" target=\"_blank\"><strong>개인정보처리방침</strong></a>\\n\\t\\t\\t</li>\\n\\t\\t\\t<li>\\n\\t\\t\\t\\t<a href=\"https://www.naver.com/rules/disclaimer.html\" onClick=\"clickcr(this, \\'fot.limit\\', \\'\\', \\'\\', event);\" target=\"_blank\">책임의 한계와 법적고지</a>\\n\\t\\t\\t</li>\\n\\t\\t\\t<li>\\n\\t\\t\\t\\t<a href=\"https://help.naver.com/support/alias/contents2/finance/finance_1.naver\" onclick=\"clickcr(this, \\'fot.help\\', \\'\\', \\'\\', event);\" target=\"_blank\">금융 고객센터</a>\\n\\t\\t\\t</li>\\n\\t\\t</ul>\\n\\t\\t<p class=\"desc\">네이버(주)가 제공하는 금융 정보는 각 콘텐츠 제공업체<a href=\"javascript:;\" onclick=\"togglePanelFooter(\\'footerPanel0\\');\" class=\"desc_help\"><img src=\"https://ssl.pstatic.net/static/nfinance/2018/06/29/btn_help.png\" width=\"17\" height=\"17\" alt=\"제공업체 상세설명\"></a>로부터 받는 투자 참고사항이며, 오류가 발생하거나 지연될 수 있습니다.<br>네이버(주)와 콘텐츠 제공업체는 제공된 정보에 의한 투자 결과에 법적인 책임을 지지 않습니다. 게시된 정보는 무단으로 배포할 수 없습니다.</p>\\n\\t\\t<div id=\"footerPanel0\" class=\"provider_layer\" style=\"display:none\" tabindex=\"0\" onblur=\"hidePannel(\\'footerPanel0\\')\">\\n\\t\\t\\t<strong class=\"provider_layer__tit\">콘텐츠 제공업체</strong>\\n\\t\\t\\t<div class=\"provider_layer__txt\">\\n\\t\\t\\t\\t<p><span>코스콤 : </span>실시간 주가정보 및 국내시세정보</p>\\n\\t\\t\\t\\t<p><span>에프앤가이드 : </span>기업 및 재무정보</p>\\n\\t\\t\\t\\t<p><span>KG제로인 : </span>해외 시세, 시장지표 및 펀드 정보</p>\\n\\t\\t\\t\\t<p><span>한국예탁결제원 : </span>주주총회일 및 전자투표 정보</p>\\n\\t\\t\\t\\t<p><span>인포스탁 : </span>국내 테마 정보</p>\\n\\t\\t\\t</div>\\n\\t\\t\\t<span class=\"arrow\"></span>\\n\\t\\t</div>\\n\\t\\t<address>\\n\\t\\t\\t<a href=\"https://www.navercorp.com/\" target=\"_blank\" class=\"logo\" onClick=\"clickcr(this, \\'fot.nhn\\', \\'\\', \\'\\', event);\"><img src=\"https://ssl.pstatic.net/static/nfinance/2019/02/22/ci_naver.png\" width=\"58\" height=\"11\" alt=\"NAVER\" /></a>\\n\\t\\t\\t<em>Copyright &copy;</em>\\n\\t\\t\\t<a href=\"https://www.navercorp.com/\" target=\"_blank\" onClick=\"clickcr(this, \\'fot.nhn\\', \\'\\', \\'\\', event);\">NAVER Corp.</a>\\n\\t\\t\\t<span>All Rights Reserved.</span>\\n\\t\\t</address>\\n\\t\\t\\n\\t\\t\\n\\t\\t\\n\\t</div>\\n\\n\\n\\n<script type=\"text/javascript\">\\nfunction isVisible(obj) {\\n    if (obj == document) return true\\n \\n    if (!obj) return false\\n    if (!obj.parentNode) return false\\n    if (obj.style) {\\n        if (obj.style.display == \\'none\\') return false\\n        if (obj.style.visibility == \\'hidden\\') return false\\n    }\\n \\n    if (window.getComputedStyle) {\\n        var style = window.getComputedStyle(obj, \"\")\\n        if (style.display == \\'none\\') return false\\n        if (style.visibility == \\'hidden\\') return false\\n    }\\n \\n    var style = obj.currentStyle\\n    if (style) {\\n        if (style[\\'display\\'] == \\'none\\') return false\\n        if (style[\\'visibility\\'] == \\'hidden\\') return false\\n    }\\n \\n    return isVisible(obj.parentNode)\\n}\\n\\nfunction isChildOf(myobj, containerObj) {\\n\\twhile(myobj != undefined) {\\n\\t\\tif (myobj == document.body) {\\n\\t\\t\\tbreak;\\n\\t\\t} \\n\\t\\tif (myobj == containerObj) {\\n\\t\\t\\treturn true;\\n\\t\\t}\\n\\t\\tmyobj = myobj.parentElement;\\n\\t}\\n\\treturn false;\\t\\n}\\n\\nfunction gnbLayerClose(e){\\n\\tvar target = e.target ? e.target : e.srcElement;\\n\\tif (isVisible(document.getElementById(\\'gnb_service_lyr\\')) || isVisible(document.getElementById(\\'gnb_notice_lyr\\')) ||isVisible(document.getElementById(\\'gnb_my_lyr\\')) ) {\\n\\t\\tif (!isChildOf(target, document.getElementById(\\'gnb\\'))) {\\n\\t\\t\\tgnbAllLayerClose();\\n\\t\\t}\\n\\t}\\t\\n}\\n\\nvar isIE = (navigator.userAgent.toLowerCase().indexOf(\"msie\")!=-1 && window.document.all) ? true:false;\\nif (isIE) {\\n\\tdocument.attachEvent(\\'onmousedown\\', gnbLayerClose);\\n} else {\\n\\twindow.addEventListener(\\'mousedown\\', gnbLayerClose);\\n}\\n\\nfunction showPannel(layerId){\\n    var layer = jindo.$(layerId);\\n    layer.style.display=\\'block\\';\\n\\n    if (layerId == \"summary_lyr\") {\\n        var layerHeight = jindo.$Element(layer).height();\\n        jindo.$Element(\"summary_ifr\").height(layerHeight);\\n    }\\n}\\n\\nfunction hidePannel(layerId){\\n    var layer = jindo.$(layerId);\\n    layer.style.display=\\'none\\';\\n}\\n\\nfunction togglePanelFooter(layerId) {\\n    var elTargetLayer = jindo.$Element(jindo.$$.getSingle(\"#\" + layerId));\\n\\n    if (elTargetLayer != null) {\\n        if (elTargetLayer.visible()) {\\n            hidePannel(layerId);\\n        } else {\\n            showPannel(layerId);\\n        }\\n    }\\n}\\n\\n// add data-useragent\\ndocument.documentElement.setAttribute(\\'data-useragent\\',navigator.userAgent);\\n</script>\\n</div>\\n</body>\\n</html>\\n'"
            ]
          },
          "metadata": {
            "tags": []
          },
          "execution_count": 57
        }
      ]
    },
    {
      "cell_type": "code",
      "metadata": {
        "colab": {
          "base_uri": "https://localhost:8080/"
        },
        "id": "vz8BIW8pycLV",
        "outputId": "cdf86381-6d13-4c35-e0ce-d459a4e80b89"
      },
      "source": [
        "html = bs(response.text, 'html.parser')\n",
        "html_table = html.select(\"table\")\n",
        "\n",
        "len(html_table)"
      ],
      "execution_count": null,
      "outputs": [
        {
          "output_type": "execute_result",
          "data": {
            "text/plain": [
              "3"
            ]
          },
          "metadata": {
            "tags": []
          },
          "execution_count": 58
        }
      ]
    },
    {
      "cell_type": "code",
      "metadata": {
        "id": "EZfYTi7FyexF"
      },
      "source": [
        "table = pd.read_html(str(html_table))"
      ],
      "execution_count": null,
      "outputs": []
    },
    {
      "cell_type": "code",
      "metadata": {
        "colab": {
          "base_uri": "https://localhost:8080/",
          "height": 394
        },
        "id": "09FWYp6lyhdN",
        "outputId": "84899b05-79e9-4d96-e6e7-ace16f90d7ea"
      },
      "source": [
        "table[2]"
      ],
      "execution_count": null,
      "outputs": [
        {
          "output_type": "execute_result",
          "data": {
            "text/html": [
              "<div>\n",
              "<style scoped>\n",
              "    .dataframe tbody tr th:only-of-type {\n",
              "        vertical-align: middle;\n",
              "    }\n",
              "\n",
              "    .dataframe tbody tr th {\n",
              "        vertical-align: top;\n",
              "    }\n",
              "\n",
              "    .dataframe thead th {\n",
              "        text-align: right;\n",
              "    }\n",
              "</style>\n",
              "<table border=\"1\" class=\"dataframe\">\n",
              "  <thead>\n",
              "    <tr style=\"text-align: right;\">\n",
              "      <th></th>\n",
              "      <th>종목명</th>\n",
              "      <th>종목명.1</th>\n",
              "      <th>현재가</th>\n",
              "      <th>전일비</th>\n",
              "      <th>등락률</th>\n",
              "      <th>매수호가</th>\n",
              "      <th>매도호가</th>\n",
              "      <th>거래량</th>\n",
              "      <th>거래대금</th>\n",
              "      <th>전일거래량</th>\n",
              "      <th>토론실</th>\n",
              "      <th>Unnamed: 11</th>\n",
              "    </tr>\n",
              "  </thead>\n",
              "  <tbody>\n",
              "    <tr>\n",
              "      <th>0</th>\n",
              "      <td>NaN</td>\n",
              "      <td>NaN</td>\n",
              "      <td>NaN</td>\n",
              "      <td>NaN</td>\n",
              "      <td>NaN</td>\n",
              "      <td>NaN</td>\n",
              "      <td>NaN</td>\n",
              "      <td>NaN</td>\n",
              "      <td>NaN</td>\n",
              "      <td>NaN</td>\n",
              "      <td>NaN</td>\n",
              "      <td>NaN</td>\n",
              "    </tr>\n",
              "    <tr>\n",
              "      <th>1</th>\n",
              "      <td>미스터블루 *</td>\n",
              "      <td>테마 편입 사유</td>\n",
              "      <td>12100.0</td>\n",
              "      <td>550.0</td>\n",
              "      <td>+4.76%</td>\n",
              "      <td>12100.0</td>\n",
              "      <td>12150.0</td>\n",
              "      <td>4828634.0</td>\n",
              "      <td>58839.0</td>\n",
              "      <td>486357.0</td>\n",
              "      <td>NaN</td>\n",
              "      <td>NaN</td>\n",
              "    </tr>\n",
              "    <tr>\n",
              "      <th>2</th>\n",
              "      <td>키다리스튜디오</td>\n",
              "      <td>테마 편입 사유</td>\n",
              "      <td>16200.0</td>\n",
              "      <td>400.0</td>\n",
              "      <td>+2.53%</td>\n",
              "      <td>16150.0</td>\n",
              "      <td>16200.0</td>\n",
              "      <td>223689.0</td>\n",
              "      <td>3542.0</td>\n",
              "      <td>209161.0</td>\n",
              "      <td>NaN</td>\n",
              "      <td>NaN</td>\n",
              "    </tr>\n",
              "    <tr>\n",
              "      <th>3</th>\n",
              "      <td>카카오</td>\n",
              "      <td>테마 편입 사유</td>\n",
              "      <td>161000.0</td>\n",
              "      <td>3500.0</td>\n",
              "      <td>+2.22%</td>\n",
              "      <td>161000.0</td>\n",
              "      <td>161500.0</td>\n",
              "      <td>4378667.0</td>\n",
              "      <td>706518.0</td>\n",
              "      <td>2045164.0</td>\n",
              "      <td>NaN</td>\n",
              "      <td>NaN</td>\n",
              "    </tr>\n",
              "    <tr>\n",
              "      <th>4</th>\n",
              "      <td>NAVER</td>\n",
              "      <td>테마 편입 사유</td>\n",
              "      <td>417500.0</td>\n",
              "      <td>8000.0</td>\n",
              "      <td>+1.95%</td>\n",
              "      <td>417000.0</td>\n",
              "      <td>417500.0</td>\n",
              "      <td>659220.0</td>\n",
              "      <td>273880.0</td>\n",
              "      <td>342771.0</td>\n",
              "      <td>NaN</td>\n",
              "      <td>NaN</td>\n",
              "    </tr>\n",
              "    <tr>\n",
              "      <th>5</th>\n",
              "      <td>디앤씨미디어 *</td>\n",
              "      <td>테마 편입 사유</td>\n",
              "      <td>46650.0</td>\n",
              "      <td>800.0</td>\n",
              "      <td>+1.74%</td>\n",
              "      <td>46650.0</td>\n",
              "      <td>46700.0</td>\n",
              "      <td>191750.0</td>\n",
              "      <td>8953.0</td>\n",
              "      <td>269291.0</td>\n",
              "      <td>NaN</td>\n",
              "      <td>NaN</td>\n",
              "    </tr>\n",
              "    <tr>\n",
              "      <th>6</th>\n",
              "      <td>NHN</td>\n",
              "      <td>테마 편입 사유</td>\n",
              "      <td>82200.0</td>\n",
              "      <td>1300.0</td>\n",
              "      <td>+1.61%</td>\n",
              "      <td>82100.0</td>\n",
              "      <td>82200.0</td>\n",
              "      <td>98481.0</td>\n",
              "      <td>8077.0</td>\n",
              "      <td>110265.0</td>\n",
              "      <td>NaN</td>\n",
              "      <td>NaN</td>\n",
              "    </tr>\n",
              "    <tr>\n",
              "      <th>7</th>\n",
              "      <td>대원미디어 *</td>\n",
              "      <td>테마 편입 사유</td>\n",
              "      <td>36700.0</td>\n",
              "      <td>800.0</td>\n",
              "      <td>-2.13%</td>\n",
              "      <td>36700.0</td>\n",
              "      <td>36750.0</td>\n",
              "      <td>167841.0</td>\n",
              "      <td>6157.0</td>\n",
              "      <td>120273.0</td>\n",
              "      <td>NaN</td>\n",
              "      <td>NaN</td>\n",
              "    </tr>\n",
              "    <tr>\n",
              "      <th>8</th>\n",
              "      <td>엔비티 *</td>\n",
              "      <td>테마 편입 사유</td>\n",
              "      <td>27500.0</td>\n",
              "      <td>900.0</td>\n",
              "      <td>-3.17%</td>\n",
              "      <td>27500.0</td>\n",
              "      <td>27550.0</td>\n",
              "      <td>265815.0</td>\n",
              "      <td>7404.0</td>\n",
              "      <td>106374.0</td>\n",
              "      <td>NaN</td>\n",
              "      <td>NaN</td>\n",
              "    </tr>\n",
              "    <tr>\n",
              "      <th>9</th>\n",
              "      <td>NaN</td>\n",
              "      <td>NaN</td>\n",
              "      <td>NaN</td>\n",
              "      <td>NaN</td>\n",
              "      <td>NaN</td>\n",
              "      <td>NaN</td>\n",
              "      <td>NaN</td>\n",
              "      <td>NaN</td>\n",
              "      <td>NaN</td>\n",
              "      <td>NaN</td>\n",
              "      <td>NaN</td>\n",
              "      <td>NaN</td>\n",
              "    </tr>\n",
              "    <tr>\n",
              "      <th>10</th>\n",
              "      <td>NaN</td>\n",
              "      <td>NaN</td>\n",
              "      <td>NaN</td>\n",
              "      <td>NaN</td>\n",
              "      <td>NaN</td>\n",
              "      <td>NaN</td>\n",
              "      <td>NaN</td>\n",
              "      <td>NaN</td>\n",
              "      <td>NaN</td>\n",
              "      <td>NaN</td>\n",
              "      <td>NaN</td>\n",
              "      <td>NaN</td>\n",
              "    </tr>\n",
              "  </tbody>\n",
              "</table>\n",
              "</div>"
            ],
            "text/plain": [
              "         종목명     종목명.1       현재가     전일비  ...      거래대금      전일거래량  토론실  Unnamed: 11\n",
              "0        NaN       NaN       NaN     NaN  ...       NaN        NaN  NaN          NaN\n",
              "1    미스터블루 *  테마 편입 사유   12100.0   550.0  ...   58839.0   486357.0  NaN          NaN\n",
              "2    키다리스튜디오  테마 편입 사유   16200.0   400.0  ...    3542.0   209161.0  NaN          NaN\n",
              "3        카카오  테마 편입 사유  161000.0  3500.0  ...  706518.0  2045164.0  NaN          NaN\n",
              "4      NAVER  테마 편입 사유  417500.0  8000.0  ...  273880.0   342771.0  NaN          NaN\n",
              "5   디앤씨미디어 *  테마 편입 사유   46650.0   800.0  ...    8953.0   269291.0  NaN          NaN\n",
              "6        NHN  테마 편입 사유   82200.0  1300.0  ...    8077.0   110265.0  NaN          NaN\n",
              "7    대원미디어 *  테마 편입 사유   36700.0   800.0  ...    6157.0   120273.0  NaN          NaN\n",
              "8      엔비티 *  테마 편입 사유   27500.0   900.0  ...    7404.0   106374.0  NaN          NaN\n",
              "9        NaN       NaN       NaN     NaN  ...       NaN        NaN  NaN          NaN\n",
              "10       NaN       NaN       NaN     NaN  ...       NaN        NaN  NaN          NaN\n",
              "\n",
              "[11 rows x 12 columns]"
            ]
          },
          "metadata": {
            "tags": []
          },
          "execution_count": 64
        }
      ]
    },
    {
      "cell_type": "code",
      "metadata": {
        "id": "ZPLe9DlNyl1U"
      },
      "source": [
        "# 불필요한 열 삭제\n",
        "del table[2]['Unnamed: 11']"
      ],
      "execution_count": null,
      "outputs": []
    },
    {
      "cell_type": "code",
      "metadata": {
        "id": "L3MT8C-WzS_P"
      },
      "source": [
        "# 결측값 열 삭제\n",
        "del table[2]['토론실']"
      ],
      "execution_count": null,
      "outputs": []
    },
    {
      "cell_type": "code",
      "metadata": {
        "colab": {
          "base_uri": "https://localhost:8080/",
          "height": 300
        },
        "id": "EKTSY8xEzQdR",
        "outputId": "37325067-e428-4de2-a2a9-79205e82dda3"
      },
      "source": [
        "# 결측값 행 삭제\n",
        "table[2].dropna()"
      ],
      "execution_count": null,
      "outputs": [
        {
          "output_type": "execute_result",
          "data": {
            "text/html": [
              "<div>\n",
              "<style scoped>\n",
              "    .dataframe tbody tr th:only-of-type {\n",
              "        vertical-align: middle;\n",
              "    }\n",
              "\n",
              "    .dataframe tbody tr th {\n",
              "        vertical-align: top;\n",
              "    }\n",
              "\n",
              "    .dataframe thead th {\n",
              "        text-align: right;\n",
              "    }\n",
              "</style>\n",
              "<table border=\"1\" class=\"dataframe\">\n",
              "  <thead>\n",
              "    <tr style=\"text-align: right;\">\n",
              "      <th></th>\n",
              "      <th>종목명</th>\n",
              "      <th>종목명.1</th>\n",
              "      <th>현재가</th>\n",
              "      <th>전일비</th>\n",
              "      <th>등락률</th>\n",
              "      <th>매수호가</th>\n",
              "      <th>매도호가</th>\n",
              "      <th>거래량</th>\n",
              "      <th>거래대금</th>\n",
              "      <th>전일거래량</th>\n",
              "    </tr>\n",
              "  </thead>\n",
              "  <tbody>\n",
              "    <tr>\n",
              "      <th>1</th>\n",
              "      <td>미스터블루 *</td>\n",
              "      <td>테마 편입 사유</td>\n",
              "      <td>12100.0</td>\n",
              "      <td>550.0</td>\n",
              "      <td>+4.76%</td>\n",
              "      <td>12100.0</td>\n",
              "      <td>12150.0</td>\n",
              "      <td>4828634.0</td>\n",
              "      <td>58839.0</td>\n",
              "      <td>486357.0</td>\n",
              "    </tr>\n",
              "    <tr>\n",
              "      <th>2</th>\n",
              "      <td>키다리스튜디오</td>\n",
              "      <td>테마 편입 사유</td>\n",
              "      <td>16200.0</td>\n",
              "      <td>400.0</td>\n",
              "      <td>+2.53%</td>\n",
              "      <td>16150.0</td>\n",
              "      <td>16200.0</td>\n",
              "      <td>223689.0</td>\n",
              "      <td>3542.0</td>\n",
              "      <td>209161.0</td>\n",
              "    </tr>\n",
              "    <tr>\n",
              "      <th>3</th>\n",
              "      <td>카카오</td>\n",
              "      <td>테마 편입 사유</td>\n",
              "      <td>161000.0</td>\n",
              "      <td>3500.0</td>\n",
              "      <td>+2.22%</td>\n",
              "      <td>161000.0</td>\n",
              "      <td>161500.0</td>\n",
              "      <td>4378667.0</td>\n",
              "      <td>706518.0</td>\n",
              "      <td>2045164.0</td>\n",
              "    </tr>\n",
              "    <tr>\n",
              "      <th>4</th>\n",
              "      <td>NAVER</td>\n",
              "      <td>테마 편입 사유</td>\n",
              "      <td>417500.0</td>\n",
              "      <td>8000.0</td>\n",
              "      <td>+1.95%</td>\n",
              "      <td>417000.0</td>\n",
              "      <td>417500.0</td>\n",
              "      <td>659220.0</td>\n",
              "      <td>273880.0</td>\n",
              "      <td>342771.0</td>\n",
              "    </tr>\n",
              "    <tr>\n",
              "      <th>5</th>\n",
              "      <td>디앤씨미디어 *</td>\n",
              "      <td>테마 편입 사유</td>\n",
              "      <td>46650.0</td>\n",
              "      <td>800.0</td>\n",
              "      <td>+1.74%</td>\n",
              "      <td>46650.0</td>\n",
              "      <td>46700.0</td>\n",
              "      <td>191750.0</td>\n",
              "      <td>8953.0</td>\n",
              "      <td>269291.0</td>\n",
              "    </tr>\n",
              "    <tr>\n",
              "      <th>6</th>\n",
              "      <td>NHN</td>\n",
              "      <td>테마 편입 사유</td>\n",
              "      <td>82200.0</td>\n",
              "      <td>1300.0</td>\n",
              "      <td>+1.61%</td>\n",
              "      <td>82100.0</td>\n",
              "      <td>82200.0</td>\n",
              "      <td>98481.0</td>\n",
              "      <td>8077.0</td>\n",
              "      <td>110265.0</td>\n",
              "    </tr>\n",
              "    <tr>\n",
              "      <th>7</th>\n",
              "      <td>대원미디어 *</td>\n",
              "      <td>테마 편입 사유</td>\n",
              "      <td>36700.0</td>\n",
              "      <td>800.0</td>\n",
              "      <td>-2.13%</td>\n",
              "      <td>36700.0</td>\n",
              "      <td>36750.0</td>\n",
              "      <td>167841.0</td>\n",
              "      <td>6157.0</td>\n",
              "      <td>120273.0</td>\n",
              "    </tr>\n",
              "    <tr>\n",
              "      <th>8</th>\n",
              "      <td>엔비티 *</td>\n",
              "      <td>테마 편입 사유</td>\n",
              "      <td>27500.0</td>\n",
              "      <td>900.0</td>\n",
              "      <td>-3.17%</td>\n",
              "      <td>27500.0</td>\n",
              "      <td>27550.0</td>\n",
              "      <td>265815.0</td>\n",
              "      <td>7404.0</td>\n",
              "      <td>106374.0</td>\n",
              "    </tr>\n",
              "  </tbody>\n",
              "</table>\n",
              "</div>"
            ],
            "text/plain": [
              "        종목명     종목명.1       현재가  ...        거래량      거래대금      전일거래량\n",
              "1   미스터블루 *  테마 편입 사유   12100.0  ...  4828634.0   58839.0   486357.0\n",
              "2   키다리스튜디오  테마 편입 사유   16200.0  ...   223689.0    3542.0   209161.0\n",
              "3       카카오  테마 편입 사유  161000.0  ...  4378667.0  706518.0  2045164.0\n",
              "4     NAVER  테마 편입 사유  417500.0  ...   659220.0  273880.0   342771.0\n",
              "5  디앤씨미디어 *  테마 편입 사유   46650.0  ...   191750.0    8953.0   269291.0\n",
              "6       NHN  테마 편입 사유   82200.0  ...    98481.0    8077.0   110265.0\n",
              "7   대원미디어 *  테마 편입 사유   36700.0  ...   167841.0    6157.0   120273.0\n",
              "8     엔비티 *  테마 편입 사유   27500.0  ...   265815.0    7404.0   106374.0\n",
              "\n",
              "[8 rows x 10 columns]"
            ]
          },
          "metadata": {
            "tags": []
          },
          "execution_count": 68
        }
      ]
    }
  ]
}