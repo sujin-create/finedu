{
  "nbformat": 4,
  "nbformat_minor": 0,
  "metadata": {
    "colab": {
      "name": "금융 데이터 분석 강의 5강. 회귀 분석과 상관 분석.ipynb",
      "provenance": [],
      "collapsed_sections": [
        "sRCkI3zh1m5j"
      ],
      "toc_visible": true,
      "include_colab_link": true
    },
    "kernelspec": {
      "name": "python3",
      "display_name": "Python 3"
    },
    "language_info": {
      "name": "python"
    }
  },
  "cells": [
    {
      "cell_type": "markdown",
      "metadata": {
        "id": "view-in-github",
        "colab_type": "text"
      },
      "source": [
        "<a href=\"https://colab.research.google.com/github/sujin-create/finedu/blob/main/%EA%B8%88%EC%9C%B5%EB%8D%B0%EC%9D%B4%ED%84%B0%20%EB%B6%84%EC%84%9D%EC%9D%84%20%EC%9C%84%ED%95%9C%20%ED%8C%8C%EC%9D%B4%EC%8D%AC%20%ED%99%9C%EC%9A%A9%EB%B2%95/%EA%B8%88%EC%9C%B5_%EB%8D%B0%EC%9D%B4%ED%84%B0_%EB%B6%84%EC%84%9D_%EA%B0%95%EC%9D%98_5%EA%B0%95_%ED%9A%8C%EA%B7%80_%EB%B6%84%EC%84%9D%EA%B3%BC_%EC%83%81%EA%B4%80_%EB%B6%84%EC%84%9D.ipynb\" target=\"_parent\"><img src=\"https://colab.research.google.com/assets/colab-badge.svg\" alt=\"Open In Colab\"/></a>"
      ]
    },
    {
      "cell_type": "markdown",
      "metadata": {
        "id": "fwgbdXYjzKoh"
      },
      "source": [
        "#1. 상관관계 분석"
      ]
    },
    {
      "cell_type": "markdown",
      "metadata": {
        "id": "BNlkCtmZPtya"
      },
      "source": [
        "국내 주식과 미국 주식의 상관관계를 비교해봅시다. 2010년 6월 1일부터 현재까지 KOSPI 지수와 다우존스 지수 데이터를 구해봅시다."
      ]
    },
    {
      "cell_type": "code",
      "metadata": {
        "colab": {
          "base_uri": "https://localhost:8080/"
        },
        "id": "vEuomJivQH8y",
        "outputId": "88d76d56-4769-4a92-ea4f-9faea68c1f5d"
      },
      "source": [
        "pip install -U finance-datareader"
      ],
      "execution_count": 6,
      "outputs": [
        {
          "output_type": "stream",
          "name": "stdout",
          "text": [
            "Looking in indexes: https://pypi.org/simple, https://us-python.pkg.dev/colab-wheels/public/simple/\n",
            "Collecting finance-datareader\n",
            "  Downloading finance_datareader-0.9.34-py3-none-any.whl (17 kB)\n",
            "Requirement already satisfied: requests>=2.3.0 in /usr/local/lib/python3.7/dist-packages (from finance-datareader) (2.23.0)\n",
            "Requirement already satisfied: lxml in /usr/local/lib/python3.7/dist-packages (from finance-datareader) (4.2.6)\n",
            "Collecting requests-file\n",
            "  Downloading requests_file-1.5.1-py2.py3-none-any.whl (3.7 kB)\n",
            "Requirement already satisfied: tqdm in /usr/local/lib/python3.7/dist-packages (from finance-datareader) (4.64.0)\n",
            "Requirement already satisfied: pandas>=0.19.2 in /usr/local/lib/python3.7/dist-packages (from finance-datareader) (1.3.5)\n",
            "Requirement already satisfied: pytz>=2017.3 in /usr/local/lib/python3.7/dist-packages (from pandas>=0.19.2->finance-datareader) (2022.1)\n",
            "Requirement already satisfied: numpy>=1.17.3 in /usr/local/lib/python3.7/dist-packages (from pandas>=0.19.2->finance-datareader) (1.21.6)\n",
            "Requirement already satisfied: python-dateutil>=2.7.3 in /usr/local/lib/python3.7/dist-packages (from pandas>=0.19.2->finance-datareader) (2.8.2)\n",
            "Requirement already satisfied: six>=1.5 in /usr/local/lib/python3.7/dist-packages (from python-dateutil>=2.7.3->pandas>=0.19.2->finance-datareader) (1.15.0)\n",
            "Requirement already satisfied: urllib3!=1.25.0,!=1.25.1,<1.26,>=1.21.1 in /usr/local/lib/python3.7/dist-packages (from requests>=2.3.0->finance-datareader) (1.24.3)\n",
            "Requirement already satisfied: certifi>=2017.4.17 in /usr/local/lib/python3.7/dist-packages (from requests>=2.3.0->finance-datareader) (2022.6.15)\n",
            "Requirement already satisfied: chardet<4,>=3.0.2 in /usr/local/lib/python3.7/dist-packages (from requests>=2.3.0->finance-datareader) (3.0.4)\n",
            "Requirement already satisfied: idna<3,>=2.5 in /usr/local/lib/python3.7/dist-packages (from requests>=2.3.0->finance-datareader) (2.10)\n",
            "Installing collected packages: requests-file, finance-datareader\n",
            "Successfully installed finance-datareader-0.9.34 requests-file-1.5.1\n"
          ]
        }
      ]
    },
    {
      "cell_type": "markdown",
      "metadata": {
        "id": "m5guytPtzYQA"
      },
      "source": [
        "1강에서 소개했던 패키지인 파이낸셜데이터 리더를 통해서 다우존스지수와 코스피 지수를 불러옵니다."
      ]
    },
    {
      "cell_type": "markdown",
      "metadata": {
        "id": "mp2wIbOZ1WSz"
      },
      "source": [
        "링크 : https://github.com/FinanceData/FinanceDataReader"
      ]
    },
    {
      "cell_type": "code",
      "metadata": {
        "id": "joX3tgrXQJuI"
      },
      "source": [
        "import FinanceDataReader as fdr"
      ],
      "execution_count": 7,
      "outputs": []
    },
    {
      "cell_type": "markdown",
      "metadata": {
        "id": "aRC9SrZvzeIv"
      },
      "source": [
        "파이낸셜데이터 리더는 기본적으로 판다스의 데이터프레임 형태로 데이터를 로드합니다.  \n",
        "둘 다 2010년 6월 1일 기준으로 데이터를 로드하겠습니다."
      ]
    },
    {
      "cell_type": "code",
      "metadata": {
        "colab": {
          "base_uri": "https://localhost:8080/",
          "height": 238
        },
        "id": "jimT8WjbPUsQ",
        "outputId": "3df9e0b7-c103-4a84-a2ad-25ffa0646e56"
      },
      "source": [
        "dow = fdr.DataReader('DJI', '2010-06-01')\n",
        "dow.head()"
      ],
      "execution_count": 8,
      "outputs": [
        {
          "output_type": "execute_result",
          "data": {
            "text/plain": [
              "               Close      Open      High       Low       Volume  Change\n",
              "Date                                                                   \n",
              "2010-06-01  10024.02  10133.94  10218.33  10013.90  221900000.0 -0.0111\n",
              "2010-06-02  10249.54  10025.61  10254.22  10025.61  200850000.0  0.0225\n",
              "2010-06-03  10255.28  10250.67  10315.21  10175.02  176870000.0  0.0006\n",
              "2010-06-04   9931.97  10249.61  10249.69   9889.88  256600000.0 -0.0315\n",
              "2010-06-07   9816.49   9931.75   9982.38   9810.30  222940000.0 -0.0116"
            ],
            "text/html": [
              "\n",
              "  <div id=\"df-35f380f4-28b4-4f24-b791-ddb361d0793b\">\n",
              "    <div class=\"colab-df-container\">\n",
              "      <div>\n",
              "<style scoped>\n",
              "    .dataframe tbody tr th:only-of-type {\n",
              "        vertical-align: middle;\n",
              "    }\n",
              "\n",
              "    .dataframe tbody tr th {\n",
              "        vertical-align: top;\n",
              "    }\n",
              "\n",
              "    .dataframe thead th {\n",
              "        text-align: right;\n",
              "    }\n",
              "</style>\n",
              "<table border=\"1\" class=\"dataframe\">\n",
              "  <thead>\n",
              "    <tr style=\"text-align: right;\">\n",
              "      <th></th>\n",
              "      <th>Close</th>\n",
              "      <th>Open</th>\n",
              "      <th>High</th>\n",
              "      <th>Low</th>\n",
              "      <th>Volume</th>\n",
              "      <th>Change</th>\n",
              "    </tr>\n",
              "    <tr>\n",
              "      <th>Date</th>\n",
              "      <th></th>\n",
              "      <th></th>\n",
              "      <th></th>\n",
              "      <th></th>\n",
              "      <th></th>\n",
              "      <th></th>\n",
              "    </tr>\n",
              "  </thead>\n",
              "  <tbody>\n",
              "    <tr>\n",
              "      <th>2010-06-01</th>\n",
              "      <td>10024.02</td>\n",
              "      <td>10133.94</td>\n",
              "      <td>10218.33</td>\n",
              "      <td>10013.90</td>\n",
              "      <td>221900000.0</td>\n",
              "      <td>-0.0111</td>\n",
              "    </tr>\n",
              "    <tr>\n",
              "      <th>2010-06-02</th>\n",
              "      <td>10249.54</td>\n",
              "      <td>10025.61</td>\n",
              "      <td>10254.22</td>\n",
              "      <td>10025.61</td>\n",
              "      <td>200850000.0</td>\n",
              "      <td>0.0225</td>\n",
              "    </tr>\n",
              "    <tr>\n",
              "      <th>2010-06-03</th>\n",
              "      <td>10255.28</td>\n",
              "      <td>10250.67</td>\n",
              "      <td>10315.21</td>\n",
              "      <td>10175.02</td>\n",
              "      <td>176870000.0</td>\n",
              "      <td>0.0006</td>\n",
              "    </tr>\n",
              "    <tr>\n",
              "      <th>2010-06-04</th>\n",
              "      <td>9931.97</td>\n",
              "      <td>10249.61</td>\n",
              "      <td>10249.69</td>\n",
              "      <td>9889.88</td>\n",
              "      <td>256600000.0</td>\n",
              "      <td>-0.0315</td>\n",
              "    </tr>\n",
              "    <tr>\n",
              "      <th>2010-06-07</th>\n",
              "      <td>9816.49</td>\n",
              "      <td>9931.75</td>\n",
              "      <td>9982.38</td>\n",
              "      <td>9810.30</td>\n",
              "      <td>222940000.0</td>\n",
              "      <td>-0.0116</td>\n",
              "    </tr>\n",
              "  </tbody>\n",
              "</table>\n",
              "</div>\n",
              "      <button class=\"colab-df-convert\" onclick=\"convertToInteractive('df-35f380f4-28b4-4f24-b791-ddb361d0793b')\"\n",
              "              title=\"Convert this dataframe to an interactive table.\"\n",
              "              style=\"display:none;\">\n",
              "        \n",
              "  <svg xmlns=\"http://www.w3.org/2000/svg\" height=\"24px\"viewBox=\"0 0 24 24\"\n",
              "       width=\"24px\">\n",
              "    <path d=\"M0 0h24v24H0V0z\" fill=\"none\"/>\n",
              "    <path d=\"M18.56 5.44l.94 2.06.94-2.06 2.06-.94-2.06-.94-.94-2.06-.94 2.06-2.06.94zm-11 1L8.5 8.5l.94-2.06 2.06-.94-2.06-.94L8.5 2.5l-.94 2.06-2.06.94zm10 10l.94 2.06.94-2.06 2.06-.94-2.06-.94-.94-2.06-.94 2.06-2.06.94z\"/><path d=\"M17.41 7.96l-1.37-1.37c-.4-.4-.92-.59-1.43-.59-.52 0-1.04.2-1.43.59L10.3 9.45l-7.72 7.72c-.78.78-.78 2.05 0 2.83L4 21.41c.39.39.9.59 1.41.59.51 0 1.02-.2 1.41-.59l7.78-7.78 2.81-2.81c.8-.78.8-2.07 0-2.86zM5.41 20L4 18.59l7.72-7.72 1.47 1.35L5.41 20z\"/>\n",
              "  </svg>\n",
              "      </button>\n",
              "      \n",
              "  <style>\n",
              "    .colab-df-container {\n",
              "      display:flex;\n",
              "      flex-wrap:wrap;\n",
              "      gap: 12px;\n",
              "    }\n",
              "\n",
              "    .colab-df-convert {\n",
              "      background-color: #E8F0FE;\n",
              "      border: none;\n",
              "      border-radius: 50%;\n",
              "      cursor: pointer;\n",
              "      display: none;\n",
              "      fill: #1967D2;\n",
              "      height: 32px;\n",
              "      padding: 0 0 0 0;\n",
              "      width: 32px;\n",
              "    }\n",
              "\n",
              "    .colab-df-convert:hover {\n",
              "      background-color: #E2EBFA;\n",
              "      box-shadow: 0px 1px 2px rgba(60, 64, 67, 0.3), 0px 1px 3px 1px rgba(60, 64, 67, 0.15);\n",
              "      fill: #174EA6;\n",
              "    }\n",
              "\n",
              "    [theme=dark] .colab-df-convert {\n",
              "      background-color: #3B4455;\n",
              "      fill: #D2E3FC;\n",
              "    }\n",
              "\n",
              "    [theme=dark] .colab-df-convert:hover {\n",
              "      background-color: #434B5C;\n",
              "      box-shadow: 0px 1px 3px 1px rgba(0, 0, 0, 0.15);\n",
              "      filter: drop-shadow(0px 1px 2px rgba(0, 0, 0, 0.3));\n",
              "      fill: #FFFFFF;\n",
              "    }\n",
              "  </style>\n",
              "\n",
              "      <script>\n",
              "        const buttonEl =\n",
              "          document.querySelector('#df-35f380f4-28b4-4f24-b791-ddb361d0793b button.colab-df-convert');\n",
              "        buttonEl.style.display =\n",
              "          google.colab.kernel.accessAllowed ? 'block' : 'none';\n",
              "\n",
              "        async function convertToInteractive(key) {\n",
              "          const element = document.querySelector('#df-35f380f4-28b4-4f24-b791-ddb361d0793b');\n",
              "          const dataTable =\n",
              "            await google.colab.kernel.invokeFunction('convertToInteractive',\n",
              "                                                     [key], {});\n",
              "          if (!dataTable) return;\n",
              "\n",
              "          const docLinkHtml = 'Like what you see? Visit the ' +\n",
              "            '<a target=\"_blank\" href=https://colab.research.google.com/notebooks/data_table.ipynb>data table notebook</a>'\n",
              "            + ' to learn more about interactive tables.';\n",
              "          element.innerHTML = '';\n",
              "          dataTable['output_type'] = 'display_data';\n",
              "          await google.colab.output.renderOutput(dataTable, element);\n",
              "          const docLink = document.createElement('div');\n",
              "          docLink.innerHTML = docLinkHtml;\n",
              "          element.appendChild(docLink);\n",
              "        }\n",
              "      </script>\n",
              "    </div>\n",
              "  </div>\n",
              "  "
            ]
          },
          "metadata": {},
          "execution_count": 8
        }
      ]
    },
    {
      "cell_type": "code",
      "metadata": {
        "colab": {
          "base_uri": "https://localhost:8080/",
          "height": 238
        },
        "id": "bDY-j4NNQDs0",
        "outputId": "c9f65c33-9dc9-498f-a434-4e43691daaef"
      },
      "source": [
        "kospi = fdr.DataReader('KS11', '2010-06-01')\n",
        "kospi.head()"
      ],
      "execution_count": 9,
      "outputs": [
        {
          "output_type": "execute_result",
          "data": {
            "text/plain": [
              "              Close     Open     High      Low       Volume  Change\n",
              "Date                                                               \n",
              "2010-06-01  1630.40  1634.55  1643.08  1623.40  314100000.0 -0.0066\n",
              "2010-06-03  1661.84  1643.74  1663.67  1641.77  308760000.0  0.0193\n",
              "2010-06-04  1664.13  1660.99  1670.94  1658.52  286090000.0  0.0014\n",
              "2010-06-07  1637.97  1628.06  1638.88  1618.57  300880000.0 -0.0157\n",
              "2010-06-08  1651.48  1635.01  1656.37  1630.43  280290000.0  0.0082"
            ],
            "text/html": [
              "\n",
              "  <div id=\"df-41c3b5b5-4a8f-47d1-b852-c24132ae1698\">\n",
              "    <div class=\"colab-df-container\">\n",
              "      <div>\n",
              "<style scoped>\n",
              "    .dataframe tbody tr th:only-of-type {\n",
              "        vertical-align: middle;\n",
              "    }\n",
              "\n",
              "    .dataframe tbody tr th {\n",
              "        vertical-align: top;\n",
              "    }\n",
              "\n",
              "    .dataframe thead th {\n",
              "        text-align: right;\n",
              "    }\n",
              "</style>\n",
              "<table border=\"1\" class=\"dataframe\">\n",
              "  <thead>\n",
              "    <tr style=\"text-align: right;\">\n",
              "      <th></th>\n",
              "      <th>Close</th>\n",
              "      <th>Open</th>\n",
              "      <th>High</th>\n",
              "      <th>Low</th>\n",
              "      <th>Volume</th>\n",
              "      <th>Change</th>\n",
              "    </tr>\n",
              "    <tr>\n",
              "      <th>Date</th>\n",
              "      <th></th>\n",
              "      <th></th>\n",
              "      <th></th>\n",
              "      <th></th>\n",
              "      <th></th>\n",
              "      <th></th>\n",
              "    </tr>\n",
              "  </thead>\n",
              "  <tbody>\n",
              "    <tr>\n",
              "      <th>2010-06-01</th>\n",
              "      <td>1630.40</td>\n",
              "      <td>1634.55</td>\n",
              "      <td>1643.08</td>\n",
              "      <td>1623.40</td>\n",
              "      <td>314100000.0</td>\n",
              "      <td>-0.0066</td>\n",
              "    </tr>\n",
              "    <tr>\n",
              "      <th>2010-06-03</th>\n",
              "      <td>1661.84</td>\n",
              "      <td>1643.74</td>\n",
              "      <td>1663.67</td>\n",
              "      <td>1641.77</td>\n",
              "      <td>308760000.0</td>\n",
              "      <td>0.0193</td>\n",
              "    </tr>\n",
              "    <tr>\n",
              "      <th>2010-06-04</th>\n",
              "      <td>1664.13</td>\n",
              "      <td>1660.99</td>\n",
              "      <td>1670.94</td>\n",
              "      <td>1658.52</td>\n",
              "      <td>286090000.0</td>\n",
              "      <td>0.0014</td>\n",
              "    </tr>\n",
              "    <tr>\n",
              "      <th>2010-06-07</th>\n",
              "      <td>1637.97</td>\n",
              "      <td>1628.06</td>\n",
              "      <td>1638.88</td>\n",
              "      <td>1618.57</td>\n",
              "      <td>300880000.0</td>\n",
              "      <td>-0.0157</td>\n",
              "    </tr>\n",
              "    <tr>\n",
              "      <th>2010-06-08</th>\n",
              "      <td>1651.48</td>\n",
              "      <td>1635.01</td>\n",
              "      <td>1656.37</td>\n",
              "      <td>1630.43</td>\n",
              "      <td>280290000.0</td>\n",
              "      <td>0.0082</td>\n",
              "    </tr>\n",
              "  </tbody>\n",
              "</table>\n",
              "</div>\n",
              "      <button class=\"colab-df-convert\" onclick=\"convertToInteractive('df-41c3b5b5-4a8f-47d1-b852-c24132ae1698')\"\n",
              "              title=\"Convert this dataframe to an interactive table.\"\n",
              "              style=\"display:none;\">\n",
              "        \n",
              "  <svg xmlns=\"http://www.w3.org/2000/svg\" height=\"24px\"viewBox=\"0 0 24 24\"\n",
              "       width=\"24px\">\n",
              "    <path d=\"M0 0h24v24H0V0z\" fill=\"none\"/>\n",
              "    <path d=\"M18.56 5.44l.94 2.06.94-2.06 2.06-.94-2.06-.94-.94-2.06-.94 2.06-2.06.94zm-11 1L8.5 8.5l.94-2.06 2.06-.94-2.06-.94L8.5 2.5l-.94 2.06-2.06.94zm10 10l.94 2.06.94-2.06 2.06-.94-2.06-.94-.94-2.06-.94 2.06-2.06.94z\"/><path d=\"M17.41 7.96l-1.37-1.37c-.4-.4-.92-.59-1.43-.59-.52 0-1.04.2-1.43.59L10.3 9.45l-7.72 7.72c-.78.78-.78 2.05 0 2.83L4 21.41c.39.39.9.59 1.41.59.51 0 1.02-.2 1.41-.59l7.78-7.78 2.81-2.81c.8-.78.8-2.07 0-2.86zM5.41 20L4 18.59l7.72-7.72 1.47 1.35L5.41 20z\"/>\n",
              "  </svg>\n",
              "      </button>\n",
              "      \n",
              "  <style>\n",
              "    .colab-df-container {\n",
              "      display:flex;\n",
              "      flex-wrap:wrap;\n",
              "      gap: 12px;\n",
              "    }\n",
              "\n",
              "    .colab-df-convert {\n",
              "      background-color: #E8F0FE;\n",
              "      border: none;\n",
              "      border-radius: 50%;\n",
              "      cursor: pointer;\n",
              "      display: none;\n",
              "      fill: #1967D2;\n",
              "      height: 32px;\n",
              "      padding: 0 0 0 0;\n",
              "      width: 32px;\n",
              "    }\n",
              "\n",
              "    .colab-df-convert:hover {\n",
              "      background-color: #E2EBFA;\n",
              "      box-shadow: 0px 1px 2px rgba(60, 64, 67, 0.3), 0px 1px 3px 1px rgba(60, 64, 67, 0.15);\n",
              "      fill: #174EA6;\n",
              "    }\n",
              "\n",
              "    [theme=dark] .colab-df-convert {\n",
              "      background-color: #3B4455;\n",
              "      fill: #D2E3FC;\n",
              "    }\n",
              "\n",
              "    [theme=dark] .colab-df-convert:hover {\n",
              "      background-color: #434B5C;\n",
              "      box-shadow: 0px 1px 3px 1px rgba(0, 0, 0, 0.15);\n",
              "      filter: drop-shadow(0px 1px 2px rgba(0, 0, 0, 0.3));\n",
              "      fill: #FFFFFF;\n",
              "    }\n",
              "  </style>\n",
              "\n",
              "      <script>\n",
              "        const buttonEl =\n",
              "          document.querySelector('#df-41c3b5b5-4a8f-47d1-b852-c24132ae1698 button.colab-df-convert');\n",
              "        buttonEl.style.display =\n",
              "          google.colab.kernel.accessAllowed ? 'block' : 'none';\n",
              "\n",
              "        async function convertToInteractive(key) {\n",
              "          const element = document.querySelector('#df-41c3b5b5-4a8f-47d1-b852-c24132ae1698');\n",
              "          const dataTable =\n",
              "            await google.colab.kernel.invokeFunction('convertToInteractive',\n",
              "                                                     [key], {});\n",
              "          if (!dataTable) return;\n",
              "\n",
              "          const docLinkHtml = 'Like what you see? Visit the ' +\n",
              "            '<a target=\"_blank\" href=https://colab.research.google.com/notebooks/data_table.ipynb>data table notebook</a>'\n",
              "            + ' to learn more about interactive tables.';\n",
              "          element.innerHTML = '';\n",
              "          dataTable['output_type'] = 'display_data';\n",
              "          await google.colab.output.renderOutput(dataTable, element);\n",
              "          const docLink = document.createElement('div');\n",
              "          docLink.innerHTML = docLinkHtml;\n",
              "          element.appendChild(docLink);\n",
              "        }\n",
              "      </script>\n",
              "    </div>\n",
              "  </div>\n",
              "  "
            ]
          },
          "metadata": {},
          "execution_count": 9
        }
      ]
    },
    {
      "cell_type": "code",
      "metadata": {
        "colab": {
          "base_uri": "https://localhost:8080/",
          "height": 238
        },
        "id": "QyLCjqPm3_hn",
        "outputId": "17b65c1a-1124-4d86-dbcf-1fb764287320"
      },
      "source": [
        "kospi.tail()"
      ],
      "execution_count": 10,
      "outputs": [
        {
          "output_type": "execute_result",
          "data": {
            "text/plain": [
              "              Close     Open     High      Low       Volume  Change\n",
              "Date                                                               \n",
              "2022-07-01  2305.42  2342.92  2354.97  2291.49  530340000.0 -0.0117\n",
              "2022-07-04  2300.34  2310.73  2318.31  2276.63  467960000.0 -0.0022\n",
              "2022-07-05  2341.78  2322.11  2344.08  2309.62  323900000.0  0.0180\n",
              "2022-07-06  2292.01  2330.11  2332.14  2290.33  410730000.0 -0.0213\n",
              "2022-07-07  2334.27  2308.97  2344.14  2307.90     332970.0  0.0184"
            ],
            "text/html": [
              "\n",
              "  <div id=\"df-b02321d9-2fc6-416b-bb5e-128beb82e9a9\">\n",
              "    <div class=\"colab-df-container\">\n",
              "      <div>\n",
              "<style scoped>\n",
              "    .dataframe tbody tr th:only-of-type {\n",
              "        vertical-align: middle;\n",
              "    }\n",
              "\n",
              "    .dataframe tbody tr th {\n",
              "        vertical-align: top;\n",
              "    }\n",
              "\n",
              "    .dataframe thead th {\n",
              "        text-align: right;\n",
              "    }\n",
              "</style>\n",
              "<table border=\"1\" class=\"dataframe\">\n",
              "  <thead>\n",
              "    <tr style=\"text-align: right;\">\n",
              "      <th></th>\n",
              "      <th>Close</th>\n",
              "      <th>Open</th>\n",
              "      <th>High</th>\n",
              "      <th>Low</th>\n",
              "      <th>Volume</th>\n",
              "      <th>Change</th>\n",
              "    </tr>\n",
              "    <tr>\n",
              "      <th>Date</th>\n",
              "      <th></th>\n",
              "      <th></th>\n",
              "      <th></th>\n",
              "      <th></th>\n",
              "      <th></th>\n",
              "      <th></th>\n",
              "    </tr>\n",
              "  </thead>\n",
              "  <tbody>\n",
              "    <tr>\n",
              "      <th>2022-07-01</th>\n",
              "      <td>2305.42</td>\n",
              "      <td>2342.92</td>\n",
              "      <td>2354.97</td>\n",
              "      <td>2291.49</td>\n",
              "      <td>530340000.0</td>\n",
              "      <td>-0.0117</td>\n",
              "    </tr>\n",
              "    <tr>\n",
              "      <th>2022-07-04</th>\n",
              "      <td>2300.34</td>\n",
              "      <td>2310.73</td>\n",
              "      <td>2318.31</td>\n",
              "      <td>2276.63</td>\n",
              "      <td>467960000.0</td>\n",
              "      <td>-0.0022</td>\n",
              "    </tr>\n",
              "    <tr>\n",
              "      <th>2022-07-05</th>\n",
              "      <td>2341.78</td>\n",
              "      <td>2322.11</td>\n",
              "      <td>2344.08</td>\n",
              "      <td>2309.62</td>\n",
              "      <td>323900000.0</td>\n",
              "      <td>0.0180</td>\n",
              "    </tr>\n",
              "    <tr>\n",
              "      <th>2022-07-06</th>\n",
              "      <td>2292.01</td>\n",
              "      <td>2330.11</td>\n",
              "      <td>2332.14</td>\n",
              "      <td>2290.33</td>\n",
              "      <td>410730000.0</td>\n",
              "      <td>-0.0213</td>\n",
              "    </tr>\n",
              "    <tr>\n",
              "      <th>2022-07-07</th>\n",
              "      <td>2334.27</td>\n",
              "      <td>2308.97</td>\n",
              "      <td>2344.14</td>\n",
              "      <td>2307.90</td>\n",
              "      <td>332970.0</td>\n",
              "      <td>0.0184</td>\n",
              "    </tr>\n",
              "  </tbody>\n",
              "</table>\n",
              "</div>\n",
              "      <button class=\"colab-df-convert\" onclick=\"convertToInteractive('df-b02321d9-2fc6-416b-bb5e-128beb82e9a9')\"\n",
              "              title=\"Convert this dataframe to an interactive table.\"\n",
              "              style=\"display:none;\">\n",
              "        \n",
              "  <svg xmlns=\"http://www.w3.org/2000/svg\" height=\"24px\"viewBox=\"0 0 24 24\"\n",
              "       width=\"24px\">\n",
              "    <path d=\"M0 0h24v24H0V0z\" fill=\"none\"/>\n",
              "    <path d=\"M18.56 5.44l.94 2.06.94-2.06 2.06-.94-2.06-.94-.94-2.06-.94 2.06-2.06.94zm-11 1L8.5 8.5l.94-2.06 2.06-.94-2.06-.94L8.5 2.5l-.94 2.06-2.06.94zm10 10l.94 2.06.94-2.06 2.06-.94-2.06-.94-.94-2.06-.94 2.06-2.06.94z\"/><path d=\"M17.41 7.96l-1.37-1.37c-.4-.4-.92-.59-1.43-.59-.52 0-1.04.2-1.43.59L10.3 9.45l-7.72 7.72c-.78.78-.78 2.05 0 2.83L4 21.41c.39.39.9.59 1.41.59.51 0 1.02-.2 1.41-.59l7.78-7.78 2.81-2.81c.8-.78.8-2.07 0-2.86zM5.41 20L4 18.59l7.72-7.72 1.47 1.35L5.41 20z\"/>\n",
              "  </svg>\n",
              "      </button>\n",
              "      \n",
              "  <style>\n",
              "    .colab-df-container {\n",
              "      display:flex;\n",
              "      flex-wrap:wrap;\n",
              "      gap: 12px;\n",
              "    }\n",
              "\n",
              "    .colab-df-convert {\n",
              "      background-color: #E8F0FE;\n",
              "      border: none;\n",
              "      border-radius: 50%;\n",
              "      cursor: pointer;\n",
              "      display: none;\n",
              "      fill: #1967D2;\n",
              "      height: 32px;\n",
              "      padding: 0 0 0 0;\n",
              "      width: 32px;\n",
              "    }\n",
              "\n",
              "    .colab-df-convert:hover {\n",
              "      background-color: #E2EBFA;\n",
              "      box-shadow: 0px 1px 2px rgba(60, 64, 67, 0.3), 0px 1px 3px 1px rgba(60, 64, 67, 0.15);\n",
              "      fill: #174EA6;\n",
              "    }\n",
              "\n",
              "    [theme=dark] .colab-df-convert {\n",
              "      background-color: #3B4455;\n",
              "      fill: #D2E3FC;\n",
              "    }\n",
              "\n",
              "    [theme=dark] .colab-df-convert:hover {\n",
              "      background-color: #434B5C;\n",
              "      box-shadow: 0px 1px 3px 1px rgba(0, 0, 0, 0.15);\n",
              "      filter: drop-shadow(0px 1px 2px rgba(0, 0, 0, 0.3));\n",
              "      fill: #FFFFFF;\n",
              "    }\n",
              "  </style>\n",
              "\n",
              "      <script>\n",
              "        const buttonEl =\n",
              "          document.querySelector('#df-b02321d9-2fc6-416b-bb5e-128beb82e9a9 button.colab-df-convert');\n",
              "        buttonEl.style.display =\n",
              "          google.colab.kernel.accessAllowed ? 'block' : 'none';\n",
              "\n",
              "        async function convertToInteractive(key) {\n",
              "          const element = document.querySelector('#df-b02321d9-2fc6-416b-bb5e-128beb82e9a9');\n",
              "          const dataTable =\n",
              "            await google.colab.kernel.invokeFunction('convertToInteractive',\n",
              "                                                     [key], {});\n",
              "          if (!dataTable) return;\n",
              "\n",
              "          const docLinkHtml = 'Like what you see? Visit the ' +\n",
              "            '<a target=\"_blank\" href=https://colab.research.google.com/notebooks/data_table.ipynb>data table notebook</a>'\n",
              "            + ' to learn more about interactive tables.';\n",
              "          element.innerHTML = '';\n",
              "          dataTable['output_type'] = 'display_data';\n",
              "          await google.colab.output.renderOutput(dataTable, element);\n",
              "          const docLink = document.createElement('div');\n",
              "          docLink.innerHTML = docLinkHtml;\n",
              "          element.appendChild(docLink);\n",
              "        }\n",
              "      </script>\n",
              "    </div>\n",
              "  </div>\n",
              "  "
            ]
          },
          "metadata": {},
          "execution_count": 10
        }
      ]
    },
    {
      "cell_type": "code",
      "metadata": {
        "colab": {
          "base_uri": "https://localhost:8080/",
          "height": 300
        },
        "id": "dzT9dUAW3xHo",
        "outputId": "ab2be18f-b66b-4752-d295-cc4118a65ac2"
      },
      "source": [
        "kospi.describe()"
      ],
      "execution_count": 11,
      "outputs": [
        {
          "output_type": "execute_result",
          "data": {
            "text/plain": [
              "             Close         Open         High          Low        Volume  \\\n",
              "count  2987.000000  2987.000000  2987.000000  2987.000000  2.987000e+03   \n",
              "mean   2178.940790  2180.117533  2190.328262  2166.920512  4.944717e+08   \n",
              "std     359.418676   359.740700   361.869183   357.377572  2.968954e+08   \n",
              "min    1457.640000  1474.450000  1516.750000  1439.430000  1.722300e+05   \n",
              "25%    1958.105000  1960.325000  1966.660000  1949.390000  3.156450e+08   \n",
              "50%    2043.970000  2046.670000  2053.460000  2036.230000  3.972500e+08   \n",
              "75%    2308.270000  2312.200000  2320.525000  2296.055000  5.615600e+08   \n",
              "max    3305.210000  3305.460000  3316.080000  3295.440000  3.460000e+09   \n",
              "\n",
              "            Change  \n",
              "count  2987.000000  \n",
              "mean      0.000173  \n",
              "std       0.010410  \n",
              "min      -0.083900  \n",
              "25%      -0.004700  \n",
              "50%       0.000400  \n",
              "75%       0.005700  \n",
              "max       0.086000  "
            ],
            "text/html": [
              "\n",
              "  <div id=\"df-661e9b36-9133-4049-8bda-24429fa564ee\">\n",
              "    <div class=\"colab-df-container\">\n",
              "      <div>\n",
              "<style scoped>\n",
              "    .dataframe tbody tr th:only-of-type {\n",
              "        vertical-align: middle;\n",
              "    }\n",
              "\n",
              "    .dataframe tbody tr th {\n",
              "        vertical-align: top;\n",
              "    }\n",
              "\n",
              "    .dataframe thead th {\n",
              "        text-align: right;\n",
              "    }\n",
              "</style>\n",
              "<table border=\"1\" class=\"dataframe\">\n",
              "  <thead>\n",
              "    <tr style=\"text-align: right;\">\n",
              "      <th></th>\n",
              "      <th>Close</th>\n",
              "      <th>Open</th>\n",
              "      <th>High</th>\n",
              "      <th>Low</th>\n",
              "      <th>Volume</th>\n",
              "      <th>Change</th>\n",
              "    </tr>\n",
              "  </thead>\n",
              "  <tbody>\n",
              "    <tr>\n",
              "      <th>count</th>\n",
              "      <td>2987.000000</td>\n",
              "      <td>2987.000000</td>\n",
              "      <td>2987.000000</td>\n",
              "      <td>2987.000000</td>\n",
              "      <td>2.987000e+03</td>\n",
              "      <td>2987.000000</td>\n",
              "    </tr>\n",
              "    <tr>\n",
              "      <th>mean</th>\n",
              "      <td>2178.940790</td>\n",
              "      <td>2180.117533</td>\n",
              "      <td>2190.328262</td>\n",
              "      <td>2166.920512</td>\n",
              "      <td>4.944717e+08</td>\n",
              "      <td>0.000173</td>\n",
              "    </tr>\n",
              "    <tr>\n",
              "      <th>std</th>\n",
              "      <td>359.418676</td>\n",
              "      <td>359.740700</td>\n",
              "      <td>361.869183</td>\n",
              "      <td>357.377572</td>\n",
              "      <td>2.968954e+08</td>\n",
              "      <td>0.010410</td>\n",
              "    </tr>\n",
              "    <tr>\n",
              "      <th>min</th>\n",
              "      <td>1457.640000</td>\n",
              "      <td>1474.450000</td>\n",
              "      <td>1516.750000</td>\n",
              "      <td>1439.430000</td>\n",
              "      <td>1.722300e+05</td>\n",
              "      <td>-0.083900</td>\n",
              "    </tr>\n",
              "    <tr>\n",
              "      <th>25%</th>\n",
              "      <td>1958.105000</td>\n",
              "      <td>1960.325000</td>\n",
              "      <td>1966.660000</td>\n",
              "      <td>1949.390000</td>\n",
              "      <td>3.156450e+08</td>\n",
              "      <td>-0.004700</td>\n",
              "    </tr>\n",
              "    <tr>\n",
              "      <th>50%</th>\n",
              "      <td>2043.970000</td>\n",
              "      <td>2046.670000</td>\n",
              "      <td>2053.460000</td>\n",
              "      <td>2036.230000</td>\n",
              "      <td>3.972500e+08</td>\n",
              "      <td>0.000400</td>\n",
              "    </tr>\n",
              "    <tr>\n",
              "      <th>75%</th>\n",
              "      <td>2308.270000</td>\n",
              "      <td>2312.200000</td>\n",
              "      <td>2320.525000</td>\n",
              "      <td>2296.055000</td>\n",
              "      <td>5.615600e+08</td>\n",
              "      <td>0.005700</td>\n",
              "    </tr>\n",
              "    <tr>\n",
              "      <th>max</th>\n",
              "      <td>3305.210000</td>\n",
              "      <td>3305.460000</td>\n",
              "      <td>3316.080000</td>\n",
              "      <td>3295.440000</td>\n",
              "      <td>3.460000e+09</td>\n",
              "      <td>0.086000</td>\n",
              "    </tr>\n",
              "  </tbody>\n",
              "</table>\n",
              "</div>\n",
              "      <button class=\"colab-df-convert\" onclick=\"convertToInteractive('df-661e9b36-9133-4049-8bda-24429fa564ee')\"\n",
              "              title=\"Convert this dataframe to an interactive table.\"\n",
              "              style=\"display:none;\">\n",
              "        \n",
              "  <svg xmlns=\"http://www.w3.org/2000/svg\" height=\"24px\"viewBox=\"0 0 24 24\"\n",
              "       width=\"24px\">\n",
              "    <path d=\"M0 0h24v24H0V0z\" fill=\"none\"/>\n",
              "    <path d=\"M18.56 5.44l.94 2.06.94-2.06 2.06-.94-2.06-.94-.94-2.06-.94 2.06-2.06.94zm-11 1L8.5 8.5l.94-2.06 2.06-.94-2.06-.94L8.5 2.5l-.94 2.06-2.06.94zm10 10l.94 2.06.94-2.06 2.06-.94-2.06-.94-.94-2.06-.94 2.06-2.06.94z\"/><path d=\"M17.41 7.96l-1.37-1.37c-.4-.4-.92-.59-1.43-.59-.52 0-1.04.2-1.43.59L10.3 9.45l-7.72 7.72c-.78.78-.78 2.05 0 2.83L4 21.41c.39.39.9.59 1.41.59.51 0 1.02-.2 1.41-.59l7.78-7.78 2.81-2.81c.8-.78.8-2.07 0-2.86zM5.41 20L4 18.59l7.72-7.72 1.47 1.35L5.41 20z\"/>\n",
              "  </svg>\n",
              "      </button>\n",
              "      \n",
              "  <style>\n",
              "    .colab-df-container {\n",
              "      display:flex;\n",
              "      flex-wrap:wrap;\n",
              "      gap: 12px;\n",
              "    }\n",
              "\n",
              "    .colab-df-convert {\n",
              "      background-color: #E8F0FE;\n",
              "      border: none;\n",
              "      border-radius: 50%;\n",
              "      cursor: pointer;\n",
              "      display: none;\n",
              "      fill: #1967D2;\n",
              "      height: 32px;\n",
              "      padding: 0 0 0 0;\n",
              "      width: 32px;\n",
              "    }\n",
              "\n",
              "    .colab-df-convert:hover {\n",
              "      background-color: #E2EBFA;\n",
              "      box-shadow: 0px 1px 2px rgba(60, 64, 67, 0.3), 0px 1px 3px 1px rgba(60, 64, 67, 0.15);\n",
              "      fill: #174EA6;\n",
              "    }\n",
              "\n",
              "    [theme=dark] .colab-df-convert {\n",
              "      background-color: #3B4455;\n",
              "      fill: #D2E3FC;\n",
              "    }\n",
              "\n",
              "    [theme=dark] .colab-df-convert:hover {\n",
              "      background-color: #434B5C;\n",
              "      box-shadow: 0px 1px 3px 1px rgba(0, 0, 0, 0.15);\n",
              "      filter: drop-shadow(0px 1px 2px rgba(0, 0, 0, 0.3));\n",
              "      fill: #FFFFFF;\n",
              "    }\n",
              "  </style>\n",
              "\n",
              "      <script>\n",
              "        const buttonEl =\n",
              "          document.querySelector('#df-661e9b36-9133-4049-8bda-24429fa564ee button.colab-df-convert');\n",
              "        buttonEl.style.display =\n",
              "          google.colab.kernel.accessAllowed ? 'block' : 'none';\n",
              "\n",
              "        async function convertToInteractive(key) {\n",
              "          const element = document.querySelector('#df-661e9b36-9133-4049-8bda-24429fa564ee');\n",
              "          const dataTable =\n",
              "            await google.colab.kernel.invokeFunction('convertToInteractive',\n",
              "                                                     [key], {});\n",
              "          if (!dataTable) return;\n",
              "\n",
              "          const docLinkHtml = 'Like what you see? Visit the ' +\n",
              "            '<a target=\"_blank\" href=https://colab.research.google.com/notebooks/data_table.ipynb>data table notebook</a>'\n",
              "            + ' to learn more about interactive tables.';\n",
              "          element.innerHTML = '';\n",
              "          dataTable['output_type'] = 'display_data';\n",
              "          await google.colab.output.renderOutput(dataTable, element);\n",
              "          const docLink = document.createElement('div');\n",
              "          docLink.innerHTML = docLinkHtml;\n",
              "          element.appendChild(docLink);\n",
              "        }\n",
              "      </script>\n",
              "    </div>\n",
              "  </div>\n",
              "  "
            ]
          },
          "metadata": {},
          "execution_count": 11
        }
      ]
    },
    {
      "cell_type": "code",
      "metadata": {
        "colab": {
          "base_uri": "https://localhost:8080/"
        },
        "id": "vV3kABfU4TqR",
        "outputId": "e7a1292e-7281-4034-ab22-2d7b5ead532c"
      },
      "source": [
        "kospi.index"
      ],
      "execution_count": 12,
      "outputs": [
        {
          "output_type": "execute_result",
          "data": {
            "text/plain": [
              "DatetimeIndex(['2010-06-01', '2010-06-03', '2010-06-04', '2010-06-07',\n",
              "               '2010-06-08', '2010-06-09', '2010-06-10', '2010-06-11',\n",
              "               '2010-06-14', '2010-06-15',\n",
              "               ...\n",
              "               '2022-06-24', '2022-06-27', '2022-06-28', '2022-06-29',\n",
              "               '2022-06-30', '2022-07-01', '2022-07-04', '2022-07-05',\n",
              "               '2022-07-06', '2022-07-07'],\n",
              "              dtype='datetime64[ns]', name='Date', length=2987, freq=None)"
            ]
          },
          "metadata": {},
          "execution_count": 12
        }
      ]
    },
    {
      "cell_type": "markdown",
      "metadata": {
        "id": "MDk_rKwO0MfK"
      },
      "source": [
        "matplotlib 패키지를 통해서 다우존스 지수와 코스피 지수를 시각화를 해볼게요.  \n",
        "다우존스 지수는 빨간색으로, 코스피 지수는 파란색으로 시각화를 합니다.  \n",
        "둘 다 종가 기준으로 시각화를 할거에요."
      ]
    },
    {
      "cell_type": "code",
      "metadata": {
        "colab": {
          "base_uri": "https://localhost:8080/",
          "height": 428
        },
        "id": "Rcr5zGadQ00l",
        "outputId": "1529dd66-e603-4627-f0e1-f4d4a1bbeeee"
      },
      "source": [
        "import matplotlib.pyplot as plt\n",
        "plt.figure(figsize=(7, 7))\n",
        "plt.plot(dow.index, dow.Close, 'r--', label='Dow Jones Industrial')\n",
        "plt.plot(kospi.index, kospi.Close, 'b', label='KOSPI')\n",
        "plt.grid(True)\n",
        "plt.legend(loc='best')\n",
        "plt.show()"
      ],
      "execution_count": 13,
      "outputs": [
        {
          "output_type": "display_data",
          "data": {
            "text/plain": [
              "<Figure size 504x504 with 1 Axes>"
            ],
            "image/png": "[encoded data removed]"
          },
          "metadata": {
            "needs_background": "light"
          }
        }
      ]
    },
    {
      "cell_type": "markdown",
      "metadata": {
        "id": "hAfG_AB_0Y9X"
      },
      "source": [
        "이렇게 두 가지 종목의 가격이나, 지수의 가격을 비교할 때  \n",
        "두 종목의 가격의 크기가 너무 다르면 서로 비교가 어렵습니다.  \n",
        "\n",
        "이런 경우에는 가격의 절대값 비교가 아닌 변동률 비교를 통해서 둘 다 서로 비슷하게 움직였는지를 판단하면 두 대상의 상관관계를 구하기가 용이합니다."
      ]
    },
    {
      "cell_type": "markdown",
      "metadata": {
        "id": "CxifeH-KRv8b"
      },
      "source": [
        "  이번에는 현재 종가를 특정 시점의 종가로 나누어 변동률을 구해봅시다."
      ]
    },
    {
      "cell_type": "markdown",
      "metadata": {
        "id": "MMOIDkPRzSMq"
      },
      "source": [
        "* 오늘의 종가를 특정일의 종가로 나눈 뒤 100을 곱하면, 특정일의 종가 대비 오늘 종가의 변동률을 구할 수 있습니다.  \n",
        "이렇게 가격이 다른 두 주식 종목의 수익률를 비교하는 방법을 지수화라고 합니다.  "
      ]
    },
    {
      "cell_type": "code",
      "metadata": {
        "id": "gSmgP3bwQ6It"
      },
      "source": [
        "d = (dow.Close / dow.Close.loc['2010-06-01']) * 100\n",
        "k = (kospi.Close / kospi.Close.loc['2010-06-01']) * 100"
      ],
      "execution_count": 14,
      "outputs": []
    },
    {
      "cell_type": "markdown",
      "metadata": {
        "id": "Pb56RATn0roW"
      },
      "source": [
        "다우존스 지수와 코스피 지수 모두 2010년 6월 1일을 기준으로 변동률을 구합니다."
      ]
    },
    {
      "cell_type": "code",
      "metadata": {
        "colab": {
          "base_uri": "https://localhost:8080/"
        },
        "id": "ia1jWDikSKto",
        "outputId": "05e16105-afd4-477f-9e3e-27c1d75f8a8c"
      },
      "source": [
        "d"
      ],
      "execution_count": 15,
      "outputs": [
        {
          "output_type": "execute_result",
          "data": {
            "text/plain": [
              "Date\n",
              "2010-06-01    100.000000\n",
              "2010-06-02    102.249796\n",
              "2010-06-03    102.307058\n",
              "2010-06-04     99.081706\n",
              "2010-06-07     97.929673\n",
              "                 ...    \n",
              "2022-06-29    309.535695\n",
              "2022-06-30    307.059543\n",
              "2022-07-01    310.229429\n",
              "2022-07-05    308.932444\n",
              "2022-07-06    309.628472\n",
              "Name: Close, Length: 3046, dtype: float64"
            ]
          },
          "metadata": {},
          "execution_count": 15
        }
      ]
    },
    {
      "cell_type": "code",
      "metadata": {
        "colab": {
          "base_uri": "https://localhost:8080/"
        },
        "id": "vaOpK8VBSLym",
        "outputId": "75160926-13b0-41b5-d14f-eba0116d016c"
      },
      "source": [
        "k"
      ],
      "execution_count": 16,
      "outputs": [
        {
          "output_type": "execute_result",
          "data": {
            "text/plain": [
              "Date\n",
              "2010-06-01    100.000000\n",
              "2010-06-03    101.928361\n",
              "2010-06-04    102.068817\n",
              "2010-06-07    100.464303\n",
              "2010-06-08    101.292934\n",
              "                 ...    \n",
              "2022-07-01    141.402110\n",
              "2022-07-04    141.090530\n",
              "2022-07-05    143.632237\n",
              "2022-07-06    140.579612\n",
              "2022-07-07    143.171614\n",
              "Name: Close, Length: 2987, dtype: float64"
            ]
          },
          "metadata": {},
          "execution_count": 16
        }
      ]
    },
    {
      "cell_type": "code",
      "metadata": {
        "colab": {
          "base_uri": "https://localhost:8080/",
          "height": 428
        },
        "id": "JR34wu8GSFnN",
        "outputId": "b1f6cba3-b92d-4458-a72a-bc0bbf407ae7"
      },
      "source": [
        "plt.figure(figsize=(7, 7))\n",
        "plt.plot(d.index, d, 'r--', label='Dow Jones Industrial')\n",
        "plt.plot(k.index, k, 'b', label='KOSPI')\n",
        "plt.grid(True)\n",
        "plt.legend(loc='best')\n",
        "plt.show()"
      ],
      "execution_count": 17,
      "outputs": [
        {
          "output_type": "display_data",
          "data": {
            "text/plain": [
              "<Figure size 504x504 with 1 Axes>"
            ],
            "image/png": "[encoded data removed]"
          },
          "metadata": {
            "needs_background": "light"
          }
        }
      ]
    },
    {
      "cell_type": "markdown",
      "metadata": {
        "id": "gSxK8_g2XS5x"
      },
      "source": [
        "#산점도 분석"
      ]
    },
    {
      "cell_type": "markdown",
      "metadata": {
        "id": "aN1-wzQcXU4u"
      },
      "source": [
        "다우존스 지수와 KOSPI의 관계를 분석하는데 산점도(scatter plot)을 사용해봅시다. 산점도란 독립변수 x와 종속변수 y의 상관관계를 확인할 때 쓰는 그래프입니다. 가로축은 독립변수 x를, 세로축은 종속변수 y를 나타냅니다. 미국 시장과 국내 시장의 상관관계를 알아보고자 x를 다우존스 지수로 y를 KOSPI 지수로 정했습니다."
      ]
    },
    {
      "cell_type": "code",
      "metadata": {
        "id": "aippsuygSQVd",
        "colab": {
          "base_uri": "https://localhost:8080/"
        },
        "outputId": "09da1dc0-9f58-4e0d-d4e4-fed83b5c6911"
      },
      "source": [
        "print(len(dow))\n",
        "print(len(kospi))"
      ],
      "execution_count": 18,
      "outputs": [
        {
          "output_type": "stream",
          "name": "stdout",
          "text": [
            "3046\n",
            "2987\n"
          ]
        }
      ]
    },
    {
      "cell_type": "markdown",
      "metadata": {
        "id": "xlOr1FECXgFw"
      },
      "source": [
        "두 데이터의 개수는 다릅니다. 이 경우 산점도를 그려봅시다.  \n",
        "산점도는 matplotlib의 scatter를 사용하여 그릴 수 있습니다."
      ]
    },
    {
      "cell_type": "code",
      "metadata": {
        "colab": {
          "base_uri": "https://localhost:8080/",
          "height": 589
        },
        "id": "kovrLL11XKjw",
        "outputId": "02989ad9-4384-4b50-c1b3-1875fea1c275"
      },
      "source": [
        "plt.scatter(dow, kospi)"
      ],
      "execution_count": 19,
      "outputs": [
        {
          "output_type": "error",
          "ename": "ValueError",
          "evalue": "ignored",
          "traceback": [
            "\u001b[0;31m---------------------------------------------------------------------------\u001b[0m",
            "\u001b[0;31mValueError\u001b[0m                                Traceback (most recent call last)",
            "\u001b[0;32m<ipython-input-19-60e7f6596d51>\u001b[0m in \u001b[0;36m<module>\u001b[0;34m()\u001b[0m\n\u001b[0;32m----> 1\u001b[0;31m \u001b[0mplt\u001b[0m\u001b[0;34m.\u001b[0m\u001b[0mscatter\u001b[0m\u001b[0;34m(\u001b[0m\u001b[0mdow\u001b[0m\u001b[0;34m,\u001b[0m \u001b[0mkospi\u001b[0m\u001b[0;34m)\u001b[0m\u001b[0;34m\u001b[0m\u001b[0;34m\u001b[0m\u001b[0m\n\u001b[0m",
            "\u001b[0;32m/usr/local/lib/python3.7/dist-packages/matplotlib/pyplot.py\u001b[0m in \u001b[0;36mscatter\u001b[0;34m(x, y, s, c, marker, cmap, norm, vmin, vmax, alpha, linewidths, verts, edgecolors, plotnonfinite, data, **kwargs)\u001b[0m\n\u001b[1;32m   2814\u001b[0m         \u001b[0mverts\u001b[0m\u001b[0;34m=\u001b[0m\u001b[0mverts\u001b[0m\u001b[0;34m,\u001b[0m \u001b[0medgecolors\u001b[0m\u001b[0;34m=\u001b[0m\u001b[0medgecolors\u001b[0m\u001b[0;34m,\u001b[0m\u001b[0;34m\u001b[0m\u001b[0;34m\u001b[0m\u001b[0m\n\u001b[1;32m   2815\u001b[0m         plotnonfinite=plotnonfinite, **({\"data\": data} if data is not\n\u001b[0;32m-> 2816\u001b[0;31m         None else {}), **kwargs)\n\u001b[0m\u001b[1;32m   2817\u001b[0m     \u001b[0msci\u001b[0m\u001b[0;34m(\u001b[0m\u001b[0m__ret\u001b[0m\u001b[0;34m)\u001b[0m\u001b[0;34m\u001b[0m\u001b[0;34m\u001b[0m\u001b[0m\n\u001b[1;32m   2818\u001b[0m     \u001b[0;32mreturn\u001b[0m \u001b[0m__ret\u001b[0m\u001b[0;34m\u001b[0m\u001b[0;34m\u001b[0m\u001b[0m\n",
            "\u001b[0;32m/usr/local/lib/python3.7/dist-packages/matplotlib/__init__.py\u001b[0m in \u001b[0;36minner\u001b[0;34m(ax, data, *args, **kwargs)\u001b[0m\n\u001b[1;32m   1563\u001b[0m     \u001b[0;32mdef\u001b[0m \u001b[0minner\u001b[0m\u001b[0;34m(\u001b[0m\u001b[0max\u001b[0m\u001b[0;34m,\u001b[0m \u001b[0;34m*\u001b[0m\u001b[0margs\u001b[0m\u001b[0;34m,\u001b[0m \u001b[0mdata\u001b[0m\u001b[0;34m=\u001b[0m\u001b[0;32mNone\u001b[0m\u001b[0;34m,\u001b[0m \u001b[0;34m**\u001b[0m\u001b[0mkwargs\u001b[0m\u001b[0;34m)\u001b[0m\u001b[0;34m:\u001b[0m\u001b[0;34m\u001b[0m\u001b[0;34m\u001b[0m\u001b[0m\n\u001b[1;32m   1564\u001b[0m         \u001b[0;32mif\u001b[0m \u001b[0mdata\u001b[0m \u001b[0;32mis\u001b[0m \u001b[0;32mNone\u001b[0m\u001b[0;34m:\u001b[0m\u001b[0;34m\u001b[0m\u001b[0;34m\u001b[0m\u001b[0m\n\u001b[0;32m-> 1565\u001b[0;31m             \u001b[0;32mreturn\u001b[0m \u001b[0mfunc\u001b[0m\u001b[0;34m(\u001b[0m\u001b[0max\u001b[0m\u001b[0;34m,\u001b[0m \u001b[0;34m*\u001b[0m\u001b[0mmap\u001b[0m\u001b[0;34m(\u001b[0m\u001b[0msanitize_sequence\u001b[0m\u001b[0;34m,\u001b[0m \u001b[0margs\u001b[0m\u001b[0;34m)\u001b[0m\u001b[0;34m,\u001b[0m \u001b[0;34m**\u001b[0m\u001b[0mkwargs\u001b[0m\u001b[0;34m)\u001b[0m\u001b[0;34m\u001b[0m\u001b[0;34m\u001b[0m\u001b[0m\n\u001b[0m\u001b[1;32m   1566\u001b[0m \u001b[0;34m\u001b[0m\u001b[0m\n\u001b[1;32m   1567\u001b[0m         \u001b[0mbound\u001b[0m \u001b[0;34m=\u001b[0m \u001b[0mnew_sig\u001b[0m\u001b[0;34m.\u001b[0m\u001b[0mbind\u001b[0m\u001b[0;34m(\u001b[0m\u001b[0max\u001b[0m\u001b[0;34m,\u001b[0m \u001b[0;34m*\u001b[0m\u001b[0margs\u001b[0m\u001b[0;34m,\u001b[0m \u001b[0;34m**\u001b[0m\u001b[0mkwargs\u001b[0m\u001b[0;34m)\u001b[0m\u001b[0;34m\u001b[0m\u001b[0;34m\u001b[0m\u001b[0m\n",
            "\u001b[0;32m/usr/local/lib/python3.7/dist-packages/matplotlib/cbook/deprecation.py\u001b[0m in \u001b[0;36mwrapper\u001b[0;34m(*args, **kwargs)\u001b[0m\n\u001b[1;32m    356\u001b[0m                 \u001b[0;34mf\"%(removal)s.  If any parameter follows {name!r}, they \"\u001b[0m\u001b[0;34m\u001b[0m\u001b[0;34m\u001b[0m\u001b[0m\n\u001b[1;32m    357\u001b[0m                 f\"should be pass as keyword, not positionally.\")\n\u001b[0;32m--> 358\u001b[0;31m         \u001b[0;32mreturn\u001b[0m \u001b[0mfunc\u001b[0m\u001b[0;34m(\u001b[0m\u001b[0;34m*\u001b[0m\u001b[0margs\u001b[0m\u001b[0;34m,\u001b[0m \u001b[0;34m**\u001b[0m\u001b[0mkwargs\u001b[0m\u001b[0;34m)\u001b[0m\u001b[0;34m\u001b[0m\u001b[0;34m\u001b[0m\u001b[0m\n\u001b[0m\u001b[1;32m    359\u001b[0m \u001b[0;34m\u001b[0m\u001b[0m\n\u001b[1;32m    360\u001b[0m     \u001b[0;32mreturn\u001b[0m \u001b[0mwrapper\u001b[0m\u001b[0;34m\u001b[0m\u001b[0;34m\u001b[0m\u001b[0m\n",
            "\u001b[0;32m/usr/local/lib/python3.7/dist-packages/matplotlib/axes/_axes.py\u001b[0m in \u001b[0;36mscatter\u001b[0;34m(self, x, y, s, c, marker, cmap, norm, vmin, vmax, alpha, linewidths, verts, edgecolors, plotnonfinite, **kwargs)\u001b[0m\n\u001b[1;32m   4389\u001b[0m         \u001b[0my\u001b[0m \u001b[0;34m=\u001b[0m \u001b[0mnp\u001b[0m\u001b[0;34m.\u001b[0m\u001b[0mma\u001b[0m\u001b[0;34m.\u001b[0m\u001b[0mravel\u001b[0m\u001b[0;34m(\u001b[0m\u001b[0my\u001b[0m\u001b[0;34m)\u001b[0m\u001b[0;34m\u001b[0m\u001b[0;34m\u001b[0m\u001b[0m\n\u001b[1;32m   4390\u001b[0m         \u001b[0;32mif\u001b[0m \u001b[0mx\u001b[0m\u001b[0;34m.\u001b[0m\u001b[0msize\u001b[0m \u001b[0;34m!=\u001b[0m \u001b[0my\u001b[0m\u001b[0;34m.\u001b[0m\u001b[0msize\u001b[0m\u001b[0;34m:\u001b[0m\u001b[0;34m\u001b[0m\u001b[0;34m\u001b[0m\u001b[0m\n\u001b[0;32m-> 4391\u001b[0;31m             \u001b[0;32mraise\u001b[0m \u001b[0mValueError\u001b[0m\u001b[0;34m(\u001b[0m\u001b[0;34m\"x and y must be the same size\"\u001b[0m\u001b[0;34m)\u001b[0m\u001b[0;34m\u001b[0m\u001b[0;34m\u001b[0m\u001b[0m\n\u001b[0m\u001b[1;32m   4392\u001b[0m \u001b[0;34m\u001b[0m\u001b[0m\n\u001b[1;32m   4393\u001b[0m         \u001b[0;32mif\u001b[0m \u001b[0ms\u001b[0m \u001b[0;32mis\u001b[0m \u001b[0;32mNone\u001b[0m\u001b[0;34m:\u001b[0m\u001b[0;34m\u001b[0m\u001b[0;34m\u001b[0m\u001b[0m\n",
            "\u001b[0;31mValueError\u001b[0m: x and y must be the same size"
          ]
        },
        {
          "output_type": "display_data",
          "data": {
            "text/plain": [
              "<Figure size 432x288 with 1 Axes>"
            ],
            "image/png": "[encoded data removed]"
          },
          "metadata": {
            "needs_background": "light"
          }
        }
      ]
    },
    {
      "cell_type": "markdown",
      "metadata": {
        "id": "H7JmfF1KXiic"
      },
      "source": [
        "에러가 발생합니다. 산점도를 그리려면 x와 y의 사이즈가 동일해야 합니다."
      ]
    },
    {
      "cell_type": "code",
      "metadata": {
        "id": "v6iMSP_IXtpw"
      },
      "source": [
        "import pandas as pd"
      ],
      "execution_count": 20,
      "outputs": []
    },
    {
      "cell_type": "markdown",
      "metadata": {
        "id": "8d6uI3I6Xv3m"
      },
      "source": [
        "두 개를 하나의 데이터프레임으로 만듭니다."
      ]
    },
    {
      "cell_type": "code",
      "metadata": {
        "colab": {
          "base_uri": "https://localhost:8080/",
          "height": 455
        },
        "id": "4WoyEcV8XPOn",
        "outputId": "7ce3bf58-2627-40cc-ca98-8cd3737a146c"
      },
      "source": [
        "df = pd.DataFrame({'DOW' : dow['Close'], 'KOSPI' : kospi['Close']})\n",
        "df"
      ],
      "execution_count": 21,
      "outputs": [
        {
          "output_type": "execute_result",
          "data": {
            "text/plain": [
              "                 DOW    KOSPI\n",
              "Date                         \n",
              "2010-06-01  10024.02  1630.40\n",
              "2010-06-02  10249.54      NaN\n",
              "2010-06-03  10255.28  1661.84\n",
              "2010-06-04   9931.97  1664.13\n",
              "2010-06-07   9816.49  1637.97\n",
              "...              ...      ...\n",
              "2022-07-01  31097.46  2305.42\n",
              "2022-07-04       NaN  2300.34\n",
              "2022-07-05  30967.45  2341.78\n",
              "2022-07-06  31037.22  2292.01\n",
              "2022-07-07       NaN  2334.27\n",
              "\n",
              "[3140 rows x 2 columns]"
            ],
            "text/html": [
              "\n",
              "  <div id=\"df-ea1f01e7-72aa-402b-80bc-b18e554a1054\">\n",
              "    <div class=\"colab-df-container\">\n",
              "      <div>\n",
              "<style scoped>\n",
              "    .dataframe tbody tr th:only-of-type {\n",
              "        vertical-align: middle;\n",
              "    }\n",
              "\n",
              "    .dataframe tbody tr th {\n",
              "        vertical-align: top;\n",
              "    }\n",
              "\n",
              "    .dataframe thead th {\n",
              "        text-align: right;\n",
              "    }\n",
              "</style>\n",
              "<table border=\"1\" class=\"dataframe\">\n",
              "  <thead>\n",
              "    <tr style=\"text-align: right;\">\n",
              "      <th></th>\n",
              "      <th>DOW</th>\n",
              "      <th>KOSPI</th>\n",
              "    </tr>\n",
              "    <tr>\n",
              "      <th>Date</th>\n",
              "      <th></th>\n",
              "      <th></th>\n",
              "    </tr>\n",
              "  </thead>\n",
              "  <tbody>\n",
              "    <tr>\n",
              "      <th>2010-06-01</th>\n",
              "      <td>10024.02</td>\n",
              "      <td>1630.40</td>\n",
              "    </tr>\n",
              "    <tr>\n",
              "      <th>2010-06-02</th>\n",
              "      <td>10249.54</td>\n",
              "      <td>NaN</td>\n",
              "    </tr>\n",
              "    <tr>\n",
              "      <th>2010-06-03</th>\n",
              "      <td>10255.28</td>\n",
              "      <td>1661.84</td>\n",
              "    </tr>\n",
              "    <tr>\n",
              "      <th>2010-06-04</th>\n",
              "      <td>9931.97</td>\n",
              "      <td>1664.13</td>\n",
              "    </tr>\n",
              "    <tr>\n",
              "      <th>2010-06-07</th>\n",
              "      <td>9816.49</td>\n",
              "      <td>1637.97</td>\n",
              "    </tr>\n",
              "    <tr>\n",
              "      <th>...</th>\n",
              "      <td>...</td>\n",
              "      <td>...</td>\n",
              "    </tr>\n",
              "    <tr>\n",
              "      <th>2022-07-01</th>\n",
              "      <td>31097.46</td>\n",
              "      <td>2305.42</td>\n",
              "    </tr>\n",
              "    <tr>\n",
              "      <th>2022-07-04</th>\n",
              "      <td>NaN</td>\n",
              "      <td>2300.34</td>\n",
              "    </tr>\n",
              "    <tr>\n",
              "      <th>2022-07-05</th>\n",
              "      <td>30967.45</td>\n",
              "      <td>2341.78</td>\n",
              "    </tr>\n",
              "    <tr>\n",
              "      <th>2022-07-06</th>\n",
              "      <td>31037.22</td>\n",
              "      <td>2292.01</td>\n",
              "    </tr>\n",
              "    <tr>\n",
              "      <th>2022-07-07</th>\n",
              "      <td>NaN</td>\n",
              "      <td>2334.27</td>\n",
              "    </tr>\n",
              "  </tbody>\n",
              "</table>\n",
              "<p>3140 rows × 2 columns</p>\n",
              "</div>\n",
              "      <button class=\"colab-df-convert\" onclick=\"convertToInteractive('df-ea1f01e7-72aa-402b-80bc-b18e554a1054')\"\n",
              "              title=\"Convert this dataframe to an interactive table.\"\n",
              "              style=\"display:none;\">\n",
              "        \n",
              "  <svg xmlns=\"http://www.w3.org/2000/svg\" height=\"24px\"viewBox=\"0 0 24 24\"\n",
              "       width=\"24px\">\n",
              "    <path d=\"M0 0h24v24H0V0z\" fill=\"none\"/>\n",
              "    <path d=\"M18.56 5.44l.94 2.06.94-2.06 2.06-.94-2.06-.94-.94-2.06-.94 2.06-2.06.94zm-11 1L8.5 8.5l.94-2.06 2.06-.94-2.06-.94L8.5 2.5l-.94 2.06-2.06.94zm10 10l.94 2.06.94-2.06 2.06-.94-2.06-.94-.94-2.06-.94 2.06-2.06.94z\"/><path d=\"M17.41 7.96l-1.37-1.37c-.4-.4-.92-.59-1.43-.59-.52 0-1.04.2-1.43.59L10.3 9.45l-7.72 7.72c-.78.78-.78 2.05 0 2.83L4 21.41c.39.39.9.59 1.41.59.51 0 1.02-.2 1.41-.59l7.78-7.78 2.81-2.81c.8-.78.8-2.07 0-2.86zM5.41 20L4 18.59l7.72-7.72 1.47 1.35L5.41 20z\"/>\n",
              "  </svg>\n",
              "      </button>\n",
              "      \n",
              "  <style>\n",
              "    .colab-df-container {\n",
              "      display:flex;\n",
              "      flex-wrap:wrap;\n",
              "      gap: 12px;\n",
              "    }\n",
              "\n",
              "    .colab-df-convert {\n",
              "      background-color: #E8F0FE;\n",
              "      border: none;\n",
              "      border-radius: 50%;\n",
              "      cursor: pointer;\n",
              "      display: none;\n",
              "      fill: #1967D2;\n",
              "      height: 32px;\n",
              "      padding: 0 0 0 0;\n",
              "      width: 32px;\n",
              "    }\n",
              "\n",
              "    .colab-df-convert:hover {\n",
              "      background-color: #E2EBFA;\n",
              "      box-shadow: 0px 1px 2px rgba(60, 64, 67, 0.3), 0px 1px 3px 1px rgba(60, 64, 67, 0.15);\n",
              "      fill: #174EA6;\n",
              "    }\n",
              "\n",
              "    [theme=dark] .colab-df-convert {\n",
              "      background-color: #3B4455;\n",
              "      fill: #D2E3FC;\n",
              "    }\n",
              "\n",
              "    [theme=dark] .colab-df-convert:hover {\n",
              "      background-color: #434B5C;\n",
              "      box-shadow: 0px 1px 3px 1px rgba(0, 0, 0, 0.15);\n",
              "      filter: drop-shadow(0px 1px 2px rgba(0, 0, 0, 0.3));\n",
              "      fill: #FFFFFF;\n",
              "    }\n",
              "  </style>\n",
              "\n",
              "      <script>\n",
              "        const buttonEl =\n",
              "          document.querySelector('#df-ea1f01e7-72aa-402b-80bc-b18e554a1054 button.colab-df-convert');\n",
              "        buttonEl.style.display =\n",
              "          google.colab.kernel.accessAllowed ? 'block' : 'none';\n",
              "\n",
              "        async function convertToInteractive(key) {\n",
              "          const element = document.querySelector('#df-ea1f01e7-72aa-402b-80bc-b18e554a1054');\n",
              "          const dataTable =\n",
              "            await google.colab.kernel.invokeFunction('convertToInteractive',\n",
              "                                                     [key], {});\n",
              "          if (!dataTable) return;\n",
              "\n",
              "          const docLinkHtml = 'Like what you see? Visit the ' +\n",
              "            '<a target=\"_blank\" href=https://colab.research.google.com/notebooks/data_table.ipynb>data table notebook</a>'\n",
              "            + ' to learn more about interactive tables.';\n",
              "          element.innerHTML = '';\n",
              "          dataTable['output_type'] = 'display_data';\n",
              "          await google.colab.output.renderOutput(dataTable, element);\n",
              "          const docLink = document.createElement('div');\n",
              "          docLink.innerHTML = docLinkHtml;\n",
              "          element.appendChild(docLink);\n",
              "        }\n",
              "      </script>\n",
              "    </div>\n",
              "  </div>\n",
              "  "
            ]
          },
          "metadata": {},
          "execution_count": 21
        }
      ]
    },
    {
      "cell_type": "markdown",
      "metadata": {
        "id": "9E03u1tsYB3G"
      },
      "source": [
        "이렇게 하면 각각의 인덱스를 기준으로 하나의 데이터프레임으로 만듭니다. 다만, 중간 중간에 결측값(NaN, 실질적인 값이 없는 경우)가 생깁니다. 데이터프레임에서 결측값의 개수를 확인하는 방법은 다음과 같스빈다."
      ]
    },
    {
      "cell_type": "code",
      "metadata": {
        "colab": {
          "base_uri": "https://localhost:8080/"
        },
        "id": "hy0wJX9UYcVV",
        "outputId": "6d96b040-52f0-40ba-ab37-3189a8953e24"
      },
      "source": [
        "df.isnull().sum()"
      ],
      "execution_count": 22,
      "outputs": [
        {
          "output_type": "execute_result",
          "data": {
            "text/plain": [
              "DOW       94\n",
              "KOSPI    153\n",
              "dtype: int64"
            ]
          },
          "metadata": {},
          "execution_count": 22
        }
      ]
    },
    {
      "cell_type": "markdown",
      "metadata": {
        "id": "-TffYVcOYdzl"
      },
      "source": [
        "DOW 열에는 85개, KOSPI에는 138개의 결측값이 존재합니다. 데이터프레임의 fillna() 함수를 사용하여 결측값(NaN)을 채울 수 있는데, 인수로 bfill(backward fill)을 주면 결측값 뒤에 있는 값으로 결측값을 덮어씁니다."
      ]
    },
    {
      "cell_type": "code",
      "metadata": {
        "colab": {
          "base_uri": "https://localhost:8080/",
          "height": 455
        },
        "id": "eNcRy-s8YqLS",
        "outputId": "7f71082b-a635-4a61-c1fe-ab1e5cde16c0"
      },
      "source": [
        "df = df.fillna(method='bfill')\n",
        "df"
      ],
      "execution_count": 23,
      "outputs": [
        {
          "output_type": "execute_result",
          "data": {
            "text/plain": [
              "                 DOW    KOSPI\n",
              "Date                         \n",
              "2010-06-01  10024.02  1630.40\n",
              "2010-06-02  10249.54  1661.84\n",
              "2010-06-03  10255.28  1661.84\n",
              "2010-06-04   9931.97  1664.13\n",
              "2010-06-07   9816.49  1637.97\n",
              "...              ...      ...\n",
              "2022-07-01  31097.46  2305.42\n",
              "2022-07-04  30967.45  2300.34\n",
              "2022-07-05  30967.45  2341.78\n",
              "2022-07-06  31037.22  2292.01\n",
              "2022-07-07       NaN  2334.27\n",
              "\n",
              "[3140 rows x 2 columns]"
            ],
            "text/html": [
              "\n",
              "  <div id=\"df-262ff43f-21b9-414a-9eb1-b691e1e76cbc\">\n",
              "    <div class=\"colab-df-container\">\n",
              "      <div>\n",
              "<style scoped>\n",
              "    .dataframe tbody tr th:only-of-type {\n",
              "        vertical-align: middle;\n",
              "    }\n",
              "\n",
              "    .dataframe tbody tr th {\n",
              "        vertical-align: top;\n",
              "    }\n",
              "\n",
              "    .dataframe thead th {\n",
              "        text-align: right;\n",
              "    }\n",
              "</style>\n",
              "<table border=\"1\" class=\"dataframe\">\n",
              "  <thead>\n",
              "    <tr style=\"text-align: right;\">\n",
              "      <th></th>\n",
              "      <th>DOW</th>\n",
              "      <th>KOSPI</th>\n",
              "    </tr>\n",
              "    <tr>\n",
              "      <th>Date</th>\n",
              "      <th></th>\n",
              "      <th></th>\n",
              "    </tr>\n",
              "  </thead>\n",
              "  <tbody>\n",
              "    <tr>\n",
              "      <th>2010-06-01</th>\n",
              "      <td>10024.02</td>\n",
              "      <td>1630.40</td>\n",
              "    </tr>\n",
              "    <tr>\n",
              "      <th>2010-06-02</th>\n",
              "      <td>10249.54</td>\n",
              "      <td>1661.84</td>\n",
              "    </tr>\n",
              "    <tr>\n",
              "      <th>2010-06-03</th>\n",
              "      <td>10255.28</td>\n",
              "      <td>1661.84</td>\n",
              "    </tr>\n",
              "    <tr>\n",
              "      <th>2010-06-04</th>\n",
              "      <td>9931.97</td>\n",
              "      <td>1664.13</td>\n",
              "    </tr>\n",
              "    <tr>\n",
              "      <th>2010-06-07</th>\n",
              "      <td>9816.49</td>\n",
              "      <td>1637.97</td>\n",
              "    </tr>\n",
              "    <tr>\n",
              "      <th>...</th>\n",
              "      <td>...</td>\n",
              "      <td>...</td>\n",
              "    </tr>\n",
              "    <tr>\n",
              "      <th>2022-07-01</th>\n",
              "      <td>31097.46</td>\n",
              "      <td>2305.42</td>\n",
              "    </tr>\n",
              "    <tr>\n",
              "      <th>2022-07-04</th>\n",
              "      <td>30967.45</td>\n",
              "      <td>2300.34</td>\n",
              "    </tr>\n",
              "    <tr>\n",
              "      <th>2022-07-05</th>\n",
              "      <td>30967.45</td>\n",
              "      <td>2341.78</td>\n",
              "    </tr>\n",
              "    <tr>\n",
              "      <th>2022-07-06</th>\n",
              "      <td>31037.22</td>\n",
              "      <td>2292.01</td>\n",
              "    </tr>\n",
              "    <tr>\n",
              "      <th>2022-07-07</th>\n",
              "      <td>NaN</td>\n",
              "      <td>2334.27</td>\n",
              "    </tr>\n",
              "  </tbody>\n",
              "</table>\n",
              "<p>3140 rows × 2 columns</p>\n",
              "</div>\n",
              "      <button class=\"colab-df-convert\" onclick=\"convertToInteractive('df-262ff43f-21b9-414a-9eb1-b691e1e76cbc')\"\n",
              "              title=\"Convert this dataframe to an interactive table.\"\n",
              "              style=\"display:none;\">\n",
              "        \n",
              "  <svg xmlns=\"http://www.w3.org/2000/svg\" height=\"24px\"viewBox=\"0 0 24 24\"\n",
              "       width=\"24px\">\n",
              "    <path d=\"M0 0h24v24H0V0z\" fill=\"none\"/>\n",
              "    <path d=\"M18.56 5.44l.94 2.06.94-2.06 2.06-.94-2.06-.94-.94-2.06-.94 2.06-2.06.94zm-11 1L8.5 8.5l.94-2.06 2.06-.94-2.06-.94L8.5 2.5l-.94 2.06-2.06.94zm10 10l.94 2.06.94-2.06 2.06-.94-2.06-.94-.94-2.06-.94 2.06-2.06.94z\"/><path d=\"M17.41 7.96l-1.37-1.37c-.4-.4-.92-.59-1.43-.59-.52 0-1.04.2-1.43.59L10.3 9.45l-7.72 7.72c-.78.78-.78 2.05 0 2.83L4 21.41c.39.39.9.59 1.41.59.51 0 1.02-.2 1.41-.59l7.78-7.78 2.81-2.81c.8-.78.8-2.07 0-2.86zM5.41 20L4 18.59l7.72-7.72 1.47 1.35L5.41 20z\"/>\n",
              "  </svg>\n",
              "      </button>\n",
              "      \n",
              "  <style>\n",
              "    .colab-df-container {\n",
              "      display:flex;\n",
              "      flex-wrap:wrap;\n",
              "      gap: 12px;\n",
              "    }\n",
              "\n",
              "    .colab-df-convert {\n",
              "      background-color: #E8F0FE;\n",
              "      border: none;\n",
              "      border-radius: 50%;\n",
              "      cursor: pointer;\n",
              "      display: none;\n",
              "      fill: #1967D2;\n",
              "      height: 32px;\n",
              "      padding: 0 0 0 0;\n",
              "      width: 32px;\n",
              "    }\n",
              "\n",
              "    .colab-df-convert:hover {\n",
              "      background-color: #E2EBFA;\n",
              "      box-shadow: 0px 1px 2px rgba(60, 64, 67, 0.3), 0px 1px 3px 1px rgba(60, 64, 67, 0.15);\n",
              "      fill: #174EA6;\n",
              "    }\n",
              "\n",
              "    [theme=dark] .colab-df-convert {\n",
              "      background-color: #3B4455;\n",
              "      fill: #D2E3FC;\n",
              "    }\n",
              "\n",
              "    [theme=dark] .colab-df-convert:hover {\n",
              "      background-color: #434B5C;\n",
              "      box-shadow: 0px 1px 3px 1px rgba(0, 0, 0, 0.15);\n",
              "      filter: drop-shadow(0px 1px 2px rgba(0, 0, 0, 0.3));\n",
              "      fill: #FFFFFF;\n",
              "    }\n",
              "  </style>\n",
              "\n",
              "      <script>\n",
              "        const buttonEl =\n",
              "          document.querySelector('#df-262ff43f-21b9-414a-9eb1-b691e1e76cbc button.colab-df-convert');\n",
              "        buttonEl.style.display =\n",
              "          google.colab.kernel.accessAllowed ? 'block' : 'none';\n",
              "\n",
              "        async function convertToInteractive(key) {\n",
              "          const element = document.querySelector('#df-262ff43f-21b9-414a-9eb1-b691e1e76cbc');\n",
              "          const dataTable =\n",
              "            await google.colab.kernel.invokeFunction('convertToInteractive',\n",
              "                                                     [key], {});\n",
              "          if (!dataTable) return;\n",
              "\n",
              "          const docLinkHtml = 'Like what you see? Visit the ' +\n",
              "            '<a target=\"_blank\" href=https://colab.research.google.com/notebooks/data_table.ipynb>data table notebook</a>'\n",
              "            + ' to learn more about interactive tables.';\n",
              "          element.innerHTML = '';\n",
              "          dataTable['output_type'] = 'display_data';\n",
              "          await google.colab.output.renderOutput(dataTable, element);\n",
              "          const docLink = document.createElement('div');\n",
              "          docLink.innerHTML = docLinkHtml;\n",
              "          element.appendChild(docLink);\n",
              "        }\n",
              "      </script>\n",
              "    </div>\n",
              "  </div>\n",
              "  "
            ]
          },
          "metadata": {},
          "execution_count": 23
        }
      ]
    },
    {
      "cell_type": "markdown",
      "metadata": {
        "id": "ahmW_gIhYvbY"
      },
      "source": [
        "하지만 이렇게 하면 뒤에 값이 없는 맨 마지막 행의 경우에는 채워지지 않습니다.  \n",
        "이 경우 ffill을 사용하면 앞의 값으로 결측값을 채웁니다."
      ]
    },
    {
      "cell_type": "code",
      "metadata": {
        "colab": {
          "base_uri": "https://localhost:8080/",
          "height": 455
        },
        "id": "GABGmHaYYzDy",
        "outputId": "7dff4a1c-5c26-4a5e-bfa2-41b771a666c3"
      },
      "source": [
        "# 앞의 값으로 채운다\n",
        "df = df.fillna(method='ffill')\n",
        "df"
      ],
      "execution_count": 24,
      "outputs": [
        {
          "output_type": "execute_result",
          "data": {
            "text/plain": [
              "                 DOW    KOSPI\n",
              "Date                         \n",
              "2010-06-01  10024.02  1630.40\n",
              "2010-06-02  10249.54  1661.84\n",
              "2010-06-03  10255.28  1661.84\n",
              "2010-06-04   9931.97  1664.13\n",
              "2010-06-07   9816.49  1637.97\n",
              "...              ...      ...\n",
              "2022-07-01  31097.46  2305.42\n",
              "2022-07-04  30967.45  2300.34\n",
              "2022-07-05  30967.45  2341.78\n",
              "2022-07-06  31037.22  2292.01\n",
              "2022-07-07  31037.22  2334.27\n",
              "\n",
              "[3140 rows x 2 columns]"
            ],
            "text/html": [
              "\n",
              "  <div id=\"df-ea97751b-7b35-4cad-88f1-e854f6b87b10\">\n",
              "    <div class=\"colab-df-container\">\n",
              "      <div>\n",
              "<style scoped>\n",
              "    .dataframe tbody tr th:only-of-type {\n",
              "        vertical-align: middle;\n",
              "    }\n",
              "\n",
              "    .dataframe tbody tr th {\n",
              "        vertical-align: top;\n",
              "    }\n",
              "\n",
              "    .dataframe thead th {\n",
              "        text-align: right;\n",
              "    }\n",
              "</style>\n",
              "<table border=\"1\" class=\"dataframe\">\n",
              "  <thead>\n",
              "    <tr style=\"text-align: right;\">\n",
              "      <th></th>\n",
              "      <th>DOW</th>\n",
              "      <th>KOSPI</th>\n",
              "    </tr>\n",
              "    <tr>\n",
              "      <th>Date</th>\n",
              "      <th></th>\n",
              "      <th></th>\n",
              "    </tr>\n",
              "  </thead>\n",
              "  <tbody>\n",
              "    <tr>\n",
              "      <th>2010-06-01</th>\n",
              "      <td>10024.02</td>\n",
              "      <td>1630.40</td>\n",
              "    </tr>\n",
              "    <tr>\n",
              "      <th>2010-06-02</th>\n",
              "      <td>10249.54</td>\n",
              "      <td>1661.84</td>\n",
              "    </tr>\n",
              "    <tr>\n",
              "      <th>2010-06-03</th>\n",
              "      <td>10255.28</td>\n",
              "      <td>1661.84</td>\n",
              "    </tr>\n",
              "    <tr>\n",
              "      <th>2010-06-04</th>\n",
              "      <td>9931.97</td>\n",
              "      <td>1664.13</td>\n",
              "    </tr>\n",
              "    <tr>\n",
              "      <th>2010-06-07</th>\n",
              "      <td>9816.49</td>\n",
              "      <td>1637.97</td>\n",
              "    </tr>\n",
              "    <tr>\n",
              "      <th>...</th>\n",
              "      <td>...</td>\n",
              "      <td>...</td>\n",
              "    </tr>\n",
              "    <tr>\n",
              "      <th>2022-07-01</th>\n",
              "      <td>31097.46</td>\n",
              "      <td>2305.42</td>\n",
              "    </tr>\n",
              "    <tr>\n",
              "      <th>2022-07-04</th>\n",
              "      <td>30967.45</td>\n",
              "      <td>2300.34</td>\n",
              "    </tr>\n",
              "    <tr>\n",
              "      <th>2022-07-05</th>\n",
              "      <td>30967.45</td>\n",
              "      <td>2341.78</td>\n",
              "    </tr>\n",
              "    <tr>\n",
              "      <th>2022-07-06</th>\n",
              "      <td>31037.22</td>\n",
              "      <td>2292.01</td>\n",
              "    </tr>\n",
              "    <tr>\n",
              "      <th>2022-07-07</th>\n",
              "      <td>31037.22</td>\n",
              "      <td>2334.27</td>\n",
              "    </tr>\n",
              "  </tbody>\n",
              "</table>\n",
              "<p>3140 rows × 2 columns</p>\n",
              "</div>\n",
              "      <button class=\"colab-df-convert\" onclick=\"convertToInteractive('df-ea97751b-7b35-4cad-88f1-e854f6b87b10')\"\n",
              "              title=\"Convert this dataframe to an interactive table.\"\n",
              "              style=\"display:none;\">\n",
              "        \n",
              "  <svg xmlns=\"http://www.w3.org/2000/svg\" height=\"24px\"viewBox=\"0 0 24 24\"\n",
              "       width=\"24px\">\n",
              "    <path d=\"M0 0h24v24H0V0z\" fill=\"none\"/>\n",
              "    <path d=\"M18.56 5.44l.94 2.06.94-2.06 2.06-.94-2.06-.94-.94-2.06-.94 2.06-2.06.94zm-11 1L8.5 8.5l.94-2.06 2.06-.94-2.06-.94L8.5 2.5l-.94 2.06-2.06.94zm10 10l.94 2.06.94-2.06 2.06-.94-2.06-.94-.94-2.06-.94 2.06-2.06.94z\"/><path d=\"M17.41 7.96l-1.37-1.37c-.4-.4-.92-.59-1.43-.59-.52 0-1.04.2-1.43.59L10.3 9.45l-7.72 7.72c-.78.78-.78 2.05 0 2.83L4 21.41c.39.39.9.59 1.41.59.51 0 1.02-.2 1.41-.59l7.78-7.78 2.81-2.81c.8-.78.8-2.07 0-2.86zM5.41 20L4 18.59l7.72-7.72 1.47 1.35L5.41 20z\"/>\n",
              "  </svg>\n",
              "      </button>\n",
              "      \n",
              "  <style>\n",
              "    .colab-df-container {\n",
              "      display:flex;\n",
              "      flex-wrap:wrap;\n",
              "      gap: 12px;\n",
              "    }\n",
              "\n",
              "    .colab-df-convert {\n",
              "      background-color: #E8F0FE;\n",
              "      border: none;\n",
              "      border-radius: 50%;\n",
              "      cursor: pointer;\n",
              "      display: none;\n",
              "      fill: #1967D2;\n",
              "      height: 32px;\n",
              "      padding: 0 0 0 0;\n",
              "      width: 32px;\n",
              "    }\n",
              "\n",
              "    .colab-df-convert:hover {\n",
              "      background-color: #E2EBFA;\n",
              "      box-shadow: 0px 1px 2px rgba(60, 64, 67, 0.3), 0px 1px 3px 1px rgba(60, 64, 67, 0.15);\n",
              "      fill: #174EA6;\n",
              "    }\n",
              "\n",
              "    [theme=dark] .colab-df-convert {\n",
              "      background-color: #3B4455;\n",
              "      fill: #D2E3FC;\n",
              "    }\n",
              "\n",
              "    [theme=dark] .colab-df-convert:hover {\n",
              "      background-color: #434B5C;\n",
              "      box-shadow: 0px 1px 3px 1px rgba(0, 0, 0, 0.15);\n",
              "      filter: drop-shadow(0px 1px 2px rgba(0, 0, 0, 0.3));\n",
              "      fill: #FFFFFF;\n",
              "    }\n",
              "  </style>\n",
              "\n",
              "      <script>\n",
              "        const buttonEl =\n",
              "          document.querySelector('#df-ea97751b-7b35-4cad-88f1-e854f6b87b10 button.colab-df-convert');\n",
              "        buttonEl.style.display =\n",
              "          google.colab.kernel.accessAllowed ? 'block' : 'none';\n",
              "\n",
              "        async function convertToInteractive(key) {\n",
              "          const element = document.querySelector('#df-ea97751b-7b35-4cad-88f1-e854f6b87b10');\n",
              "          const dataTable =\n",
              "            await google.colab.kernel.invokeFunction('convertToInteractive',\n",
              "                                                     [key], {});\n",
              "          if (!dataTable) return;\n",
              "\n",
              "          const docLinkHtml = 'Like what you see? Visit the ' +\n",
              "            '<a target=\"_blank\" href=https://colab.research.google.com/notebooks/data_table.ipynb>data table notebook</a>'\n",
              "            + ' to learn more about interactive tables.';\n",
              "          element.innerHTML = '';\n",
              "          dataTable['output_type'] = 'display_data';\n",
              "          await google.colab.output.renderOutput(dataTable, element);\n",
              "          const docLink = document.createElement('div');\n",
              "          docLink.innerHTML = docLinkHtml;\n",
              "          element.appendChild(docLink);\n",
              "        }\n",
              "      </script>\n",
              "    </div>\n",
              "  </div>\n",
              "  "
            ]
          },
          "metadata": {},
          "execution_count": 24
        }
      ]
    },
    {
      "cell_type": "code",
      "metadata": {
        "colab": {
          "base_uri": "https://localhost:8080/"
        },
        "id": "avzBSgxSY3H-",
        "outputId": "f466af24-542f-42c1-8560-fed13aa84e56"
      },
      "source": [
        "df.isnull().sum()"
      ],
      "execution_count": 25,
      "outputs": [
        {
          "output_type": "execute_result",
          "data": {
            "text/plain": [
              "DOW      0\n",
              "KOSPI    0\n",
              "dtype: int64"
            ]
          },
          "metadata": {},
          "execution_count": 25
        }
      ]
    },
    {
      "cell_type": "markdown",
      "metadata": {
        "id": "2olNiqe2Y5UY"
      },
      "source": [
        "이제 더 이상 결측값이 없으므로 산점도를 그려봅시다."
      ]
    },
    {
      "cell_type": "code",
      "metadata": {
        "colab": {
          "base_uri": "https://localhost:8080/",
          "height": 283
        },
        "id": "V1T3SwBzYA91",
        "outputId": "085981d2-d1e8-4ab2-a464-1ecdaba2ffa3"
      },
      "source": [
        "plt.scatter(df['DOW'], df['KOSPI'])"
      ],
      "execution_count": 26,
      "outputs": [
        {
          "output_type": "execute_result",
          "data": {
            "text/plain": [
              "<matplotlib.collections.PathCollection at 0x7fd4bcf097d0>"
            ]
          },
          "metadata": {},
          "execution_count": 26
        },
        {
          "output_type": "display_data",
          "data": {
            "text/plain": [
              "<Figure size 432x288 with 1 Axes>"
            ],
            "image/png": "[encoded data removed]"
          },
          "metadata": {
            "needs_background": "light"
          }
        }
      ]
    },
    {
      "cell_type": "markdown",
      "metadata": {
        "id": "kSFENrn7ZOQ9"
      },
      "source": [
        "그래프를 좀 더 크게 그려봅시다.  \n",
        "* plt.figure(figsize=(가로 길이, 세로 길이))"
      ]
    },
    {
      "cell_type": "code",
      "metadata": {
        "colab": {
          "base_uri": "https://localhost:8080/",
          "height": 610
        },
        "id": "k6VxjtSIZAeJ",
        "outputId": "caa97edc-6f58-48c0-a1d9-2ec8d4881d30"
      },
      "source": [
        "plt.figure(figsize=(8, 10))\n",
        "plt.scatter(df['DOW'], df['KOSPI'])"
      ],
      "execution_count": 27,
      "outputs": [
        {
          "output_type": "execute_result",
          "data": {
            "text/plain": [
              "<matplotlib.collections.PathCollection at 0x7fd4bce74ed0>"
            ]
          },
          "metadata": {},
          "execution_count": 27
        },
        {
          "output_type": "display_data",
          "data": {
            "text/plain": [
              "<Figure size 576x720 with 1 Axes>"
            ],
            "image/png": "[encoded data removed]"
          },
          "metadata": {
            "needs_background": "light"
          }
        }
      ]
    },
    {
      "cell_type": "markdown",
      "metadata": {
        "id": "6Z2PnuY5ZRsr"
      },
      "source": [
        "x축에 레이블을, y축에 레이블을 넣어봅시다.  \n",
        "* plt.xlabel('x축 레이블')  \n",
        "* plt.ylabel('y축 레이블')"
      ]
    },
    {
      "cell_type": "code",
      "metadata": {
        "colab": {
          "base_uri": "https://localhost:8080/",
          "height": 639
        },
        "id": "qsoWOr_TXswg",
        "outputId": "1212bb0c-c032-4269-c80a-785d99f46e50"
      },
      "source": [
        "plt.figure(figsize=(10, 10))\n",
        "plt.title('Dow Jonse Industrial Average - KOSPI Chart')\n",
        "plt.xlabel('Dow Jonse Industrial Average')\n",
        "plt.ylabel('KOSPI')\n",
        "plt.scatter(df['DOW'], df['KOSPI'])"
      ],
      "execution_count": 28,
      "outputs": [
        {
          "output_type": "execute_result",
          "data": {
            "text/plain": [
              "<matplotlib.collections.PathCollection at 0x7fd4bcded810>"
            ]
          },
          "metadata": {},
          "execution_count": 28
        },
        {
          "output_type": "display_data",
          "data": {
            "text/plain": [
              "<Figure size 720x720 with 1 Axes>"
            ],
            "image/png": "[encoded data removed]"
          },
          "metadata": {
            "needs_background": "light"
          }
        }
      ]
    },
    {
      "cell_type": "markdown",
      "metadata": {
        "id": "De_XnihRZkMi"
      },
      "source": [
        "#선형 회귀 분석"
      ]
    },
    {
      "cell_type": "markdown",
      "metadata": {
        "id": "vFbbj7x8bqW1"
      },
      "source": [
        "예시를 들어봅시다.  \n",
        "시험 공부하는 시간을 늘리면 늘릴 수록 성적이 잘 나옵니다. 하루에 걷는 횟수를 늘릴 수록, 몸무게는 줄어듭니다. 집의 평수가 클수록, 집의 매매 가격은 비쌉니다.\n",
        "\n",
        "이는 수학적으로 생각을 해보면 어떤 요인의 수치에 따라서 특정 요인의 수치가 영향을 받고있다고 말할 수 있습니다.  \n",
        "조금 더 수학적인 표현을 써보면 어떤 변수의 값에 따라서 특정 변수의 값이 영향을 받고 있다고 볼 수 있습니다. 다른 변수의 값을 변하게하는 변수를 `x`, 변수 x에 의해서 값이 종속적으로 변하는 변수 `y`라고 해봅시다.\n",
        "\n",
        "이때 변수 x의 값은 독립적으로 변할 수 있는 것에 반해, y값은 계속해서 x의 값에 의해서, 종속적으로 결정되므로 x를 `독립 변수`, y를 `종속 변수`라고 합니다. `선형 회귀`는 한 개 이상의 독립 변수 x와 y의 선형 관계를 모델링합니다. 만약, 독립 변수 x가 1개라면 식은 다음과 같습니다.\n",
        "\n",
        "$$y = wx + b$$\n",
        "\n",
        "여기서 독립 변수 x와 곱해지는 값 `w`를 머신 러닝에서는 기울기, `b`를 b를 y절편이라고 합니다.  \n",
        "\n",
        "주어진 데이터로부터 이 데이터를 가장 잘 표현하는 직선을 찾는다는 것은 결국 적절한 `w`\n",
        "\n",
        "와 적절한 `b` 의 값을 찾는다는 의미와 동일합니다. 흩어져 보이는 여러 데이터들에서 추세선을 구한다고도 볼 수 있겠습니다. 다음은 흩어져있는 여러 데이터로부터 적절한 `w` 와 `b`를 찾은 뒤 y = wx + b의 직선을 그린 경우를 보여줍니다.\n",
        "\n",
        "https://upload.wikimedia.org/wikipedia/commons/thumb/3/3a/Linear_regression.svg/600px-Linear_regression.svg.png"
      ]
    },
    {
      "cell_type": "markdown",
      "metadata": {
        "id": "k7DLIlFhb_ja"
      },
      "source": [
        "데이터를 반영한 적절한 직선을 찾고나면(`w` 값과 `b` 의 값을 결정하고나면), 그 후에는 임의의 값에 대해서도 예측이 가능합니다. 가령, 위의 그래프에서 입력 x의 값이 0.5991일 때 y의 값을 예측한다는 것은 그저\n",
        "\n",
        "$$y = wx + b$$\n",
        "\n",
        "위의 수식에 입력 x값을 넣어본다는 이야기와 같습니다."
      ]
    },
    {
      "cell_type": "markdown",
      "metadata": {
        "id": "iNDwB9HyENwh"
      },
      "source": [
        "##시험 기간 예시"
      ]
    },
    {
      "cell_type": "markdown",
      "metadata": {
        "id": "iWBEHhZYEQDy"
      },
      "source": [
        "1시간을 공부했을 때 21점  \n",
        "2시간을 공부했을 때 41점  \n",
        "3시간을 공부했을 때 61점  \n",
        "\n",
        "이라면 이로부터 선형 회귀를 모델링하면  \n",
        "$w$는 20  \n",
        "$b$는 1  \n",
        "\n",
        "$시험성적 = w시험공부시간 + b$가 됩니다."
      ]
    },
    {
      "cell_type": "markdown",
      "metadata": {
        "id": "KfNkE_p_Ek3B"
      },
      "source": [
        "다시 말해 차트로 그리면  \n",
        "\n",
        "$y=20x + 1$의 직선 차트를 그리면 됩니다."
      ]
    },
    {
      "cell_type": "markdown",
      "metadata": {
        "id": "4ei8l76qcBIl"
      },
      "source": [
        "###사이파이를 이용한 선형 회귀"
      ]
    },
    {
      "cell_type": "markdown",
      "metadata": {
        "id": "4d2oMMUhZmaW"
      },
      "source": [
        "사이파이는 파이썬 기반 수학, 과학, 엔지니어링용 핵심 패키지 모음입니다. 사이파이는 넘파이 기반의 함수들과 수학적 알고리즘의 모음으로 넘파이, 맷플롯립, 심파이, 판다스 등을 포함합니다. "
      ]
    },
    {
      "cell_type": "code",
      "metadata": {
        "colab": {
          "base_uri": "https://localhost:8080/"
        },
        "id": "l3ySm0G0Xysn",
        "outputId": "f75e6802-8429-404b-c61a-4205f986d8ae"
      },
      "source": [
        "# 사이파이 설치\n",
        "!pip install scipy"
      ],
      "execution_count": 1,
      "outputs": [
        {
          "output_type": "stream",
          "name": "stdout",
          "text": [
            "Looking in indexes: https://pypi.org/simple, https://us-python.pkg.dev/colab-wheels/public/simple/\n",
            "Requirement already satisfied: scipy in /usr/local/lib/python3.7/dist-packages (1.4.1)\n",
            "Requirement already satisfied: numpy>=1.13.3 in /usr/local/lib/python3.7/dist-packages (from scipy) (1.21.6)\n"
          ]
        }
      ]
    },
    {
      "cell_type": "markdown",
      "metadata": {
        "id": "k1gn4_cYcOjk"
      },
      "source": [
        "사이파이 패키지의 서브 패키지인 스탯츠(stats)는 다양한 통계 함수를 제공합니다.  \n",
        "\n",
        "lingress() 함수를 사용하면 시리즈 두 개만으로 간단히 선형 회귀 모델을 생성하여 분석할 수 있습니다."
      ]
    },
    {
      "cell_type": "markdown",
      "metadata": {
        "id": "QtUnQK1jcZGv"
      },
      "source": [
        "* model = stats.linregress(독립 변수 x, 종속 변수 y)  \n",
        "* model.slope : 기울기  \n",
        "* model.intercept : y절편"
      ]
    },
    {
      "cell_type": "code",
      "metadata": {
        "id": "nLbPY5-qarxr"
      },
      "source": [
        "from scipy import stats"
      ],
      "execution_count": 4,
      "outputs": []
    },
    {
      "cell_type": "code",
      "metadata": {
        "colab": {
          "base_uri": "https://localhost:8080/"
        },
        "id": "n_bdpwUBbCrO",
        "outputId": "798ecc1e-016a-4a0f-d5d4-df7a55d6b2e6"
      },
      "source": [
        "regr = stats.linregress(df['DOW'], df['KOSPI'])\n",
        "regr"
      ],
      "execution_count": 29,
      "outputs": [
        {
          "output_type": "execute_result",
          "data": {
            "text/plain": [
              "LinregressResult(slope=0.04143297654588369, intercept=1324.4719528915227, rvalue=0.8341419341732609, pvalue=0.0, stderr=0.0004890626291200579)"
            ]
          },
          "metadata": {},
          "execution_count": 29
        }
      ]
    },
    {
      "cell_type": "code",
      "metadata": {
        "colab": {
          "base_uri": "https://localhost:8080/"
        },
        "id": "xJTi4P2LwdIM",
        "outputId": "3b91995c-d459-4ed5-8667-a9819f5c3117"
      },
      "source": [
        "# 기울기만 별도 출력\n",
        "regr.slope"
      ],
      "execution_count": 30,
      "outputs": [
        {
          "output_type": "execute_result",
          "data": {
            "text/plain": [
              "0.04143297654588369"
            ]
          },
          "metadata": {},
          "execution_count": 30
        }
      ]
    },
    {
      "cell_type": "code",
      "metadata": {
        "colab": {
          "base_uri": "https://localhost:8080/"
        },
        "id": "BqDV312Qweiw",
        "outputId": "01859ddc-a08e-415a-f70a-4feba87c0189"
      },
      "source": [
        "# Y 절편만 별도 출력\n",
        "regr.intercept"
      ],
      "execution_count": null,
      "outputs": [
        {
          "output_type": "execute_result",
          "data": {
            "text/plain": [
              "1413.83668006584"
            ]
          },
          "metadata": {
            "tags": []
          },
          "execution_count": 42
        }
      ]
    },
    {
      "cell_type": "markdown",
      "metadata": {
        "id": "iGW6-tbrcjLJ"
      },
      "source": [
        "* slope : 찾아낸 기울기  \n",
        "* intercpet : 찾아낸 y절편  \n",
        "* rvalue : r값 (상관계수)  \n",
        "* pvalue : p값  \n",
        "* stderr : 표준편차"
      ]
    },
    {
      "cell_type": "markdown",
      "metadata": {
        "id": "L-2ShFpEcub6"
      },
      "source": [
        "위로부터 얻은 결과로부터 선형회귀 식을 구할 수 있습니다.  \n",
        "기울기가 약 0.036, y절편이 1413이므로  \n",
        "\n",
        "선형 회귀 수식은  \n",
        "\n",
        "$$y = wx + b$$\n",
        "에서 각각 w와 b를 대입하여  \n",
        "\n",
        "$$y = 0.036x + 1413$$  \n",
        "와 같습니다. 종속 변수 y가 코스피 지수, 독립 변수 x가 다우존스 지수였으므로  \n",
        "$$코스피 지수 = 0.036 × 다우존스 지수 + 1413$$  \n",
        "\n",
        "이 우리가 얻은 최종 선형 회귀 수식입니다. 이제 우리는 다우존스 지수로부터 다우 코스피 지수를 예측하는 식을 얻은 것입니다."
      ]
    },
    {
      "cell_type": "markdown",
      "metadata": {
        "id": "3BVkpffmJJhi"
      },
      "source": [
        "**!! 주의 : 위 값은 강의 영상을 녹화할 당시인 6월 28일까지의 데이터를 가지고 나온 값이므로 여러분들이 7월에 실습할 때는 7월까지의 데이터를 가지고 구하기 때문에 기울기와 y절편의 값이 제가 구했을 때와 다를 수 있습니다.**"
      ]
    },
    {
      "cell_type": "markdown",
      "metadata": {
        "id": "8p53tS6tdeLe"
      },
      "source": [
        "#상관 계수에 따른 리스크 완화"
      ]
    },
    {
      "cell_type": "markdown",
      "metadata": {
        "id": "EF4gC1bZKOYl"
      },
      "source": [
        "##상관계수 구하기"
      ]
    },
    {
      "cell_type": "markdown",
      "metadata": {
        "id": "fzBJOlwhIwGv"
      },
      "source": [
        "**2강에서 배웠던 상관 계수에 대해서 복습해봅시다.**"
      ]
    },
    {
      "cell_type": "markdown",
      "metadata": {
        "id": "78z_NK_bdkdf"
      },
      "source": [
        "상관계수(Coefficient of Correlation)란 독립 변수와 종속 변수 사이의 상관관계의 정도를 나타내는 수치입니다.  \n",
        "상관계수 r은 항상 -1 <= r <= 1을 만족시킵니다. 양의 상관관계가 가장 강한 값을 1로, 음의 상관관계가 가장 강한 값을 -1로 나타내며,  \n",
        "상관관계가 없다면 r은 0입니다.  \n",
        "\n",
        "A자산과 B자산의 상관계수가 1이면, A자산 가치가 x% 상승할 때 B자산 가치도 x%만큼 상승합니다.  \n",
        "A자산과 B자산의 상관계수가 -1이면, A자산 가치가 x%만큼 상승할 때, B자산 가치는 x%만큼 하락합니다. (반비례)  \n",
        "\n",
        "A자산과 B자산의 상관계수가 0이면 두 자산의 움직임이 서로 연관성이 없습니다."
      ]
    },
    {
      "cell_type": "markdown",
      "metadata": {
        "id": "hI-C5vSAh3MU"
      },
      "source": [
        "데이터프레임은 상관계수를 구하는 corr() 함수를 제공하므로 데이터프레임의 각 열의 상관계수를 쉽게 구할 수 있습니다."
      ]
    },
    {
      "cell_type": "code",
      "metadata": {
        "colab": {
          "base_uri": "https://localhost:8080/",
          "height": 112
        },
        "id": "u7fTydH3dgBV",
        "outputId": "d1c657f5-0171-4940-dda7-0d152d07e395"
      },
      "source": [
        "df.corr()"
      ],
      "execution_count": 31,
      "outputs": [
        {
          "output_type": "execute_result",
          "data": {
            "text/plain": [
              "            DOW     KOSPI\n",
              "DOW    1.000000  0.834142\n",
              "KOSPI  0.834142  1.000000"
            ],
            "text/html": [
              "\n",
              "  <div id=\"df-5bc1b664-5ef4-4f53-a490-fa4d66a127e5\">\n",
              "    <div class=\"colab-df-container\">\n",
              "      <div>\n",
              "<style scoped>\n",
              "    .dataframe tbody tr th:only-of-type {\n",
              "        vertical-align: middle;\n",
              "    }\n",
              "\n",
              "    .dataframe tbody tr th {\n",
              "        vertical-align: top;\n",
              "    }\n",
              "\n",
              "    .dataframe thead th {\n",
              "        text-align: right;\n",
              "    }\n",
              "</style>\n",
              "<table border=\"1\" class=\"dataframe\">\n",
              "  <thead>\n",
              "    <tr style=\"text-align: right;\">\n",
              "      <th></th>\n",
              "      <th>DOW</th>\n",
              "      <th>KOSPI</th>\n",
              "    </tr>\n",
              "  </thead>\n",
              "  <tbody>\n",
              "    <tr>\n",
              "      <th>DOW</th>\n",
              "      <td>1.000000</td>\n",
              "      <td>0.834142</td>\n",
              "    </tr>\n",
              "    <tr>\n",
              "      <th>KOSPI</th>\n",
              "      <td>0.834142</td>\n",
              "      <td>1.000000</td>\n",
              "    </tr>\n",
              "  </tbody>\n",
              "</table>\n",
              "</div>\n",
              "      <button class=\"colab-df-convert\" onclick=\"convertToInteractive('df-5bc1b664-5ef4-4f53-a490-fa4d66a127e5')\"\n",
              "              title=\"Convert this dataframe to an interactive table.\"\n",
              "              style=\"display:none;\">\n",
              "        \n",
              "  <svg xmlns=\"http://www.w3.org/2000/svg\" height=\"24px\"viewBox=\"0 0 24 24\"\n",
              "       width=\"24px\">\n",
              "    <path d=\"M0 0h24v24H0V0z\" fill=\"none\"/>\n",
              "    <path d=\"M18.56 5.44l.94 2.06.94-2.06 2.06-.94-2.06-.94-.94-2.06-.94 2.06-2.06.94zm-11 1L8.5 8.5l.94-2.06 2.06-.94-2.06-.94L8.5 2.5l-.94 2.06-2.06.94zm10 10l.94 2.06.94-2.06 2.06-.94-2.06-.94-.94-2.06-.94 2.06-2.06.94z\"/><path d=\"M17.41 7.96l-1.37-1.37c-.4-.4-.92-.59-1.43-.59-.52 0-1.04.2-1.43.59L10.3 9.45l-7.72 7.72c-.78.78-.78 2.05 0 2.83L4 21.41c.39.39.9.59 1.41.59.51 0 1.02-.2 1.41-.59l7.78-7.78 2.81-2.81c.8-.78.8-2.07 0-2.86zM5.41 20L4 18.59l7.72-7.72 1.47 1.35L5.41 20z\"/>\n",
              "  </svg>\n",
              "      </button>\n",
              "      \n",
              "  <style>\n",
              "    .colab-df-container {\n",
              "      display:flex;\n",
              "      flex-wrap:wrap;\n",
              "      gap: 12px;\n",
              "    }\n",
              "\n",
              "    .colab-df-convert {\n",
              "      background-color: #E8F0FE;\n",
              "      border: none;\n",
              "      border-radius: 50%;\n",
              "      cursor: pointer;\n",
              "      display: none;\n",
              "      fill: #1967D2;\n",
              "      height: 32px;\n",
              "      padding: 0 0 0 0;\n",
              "      width: 32px;\n",
              "    }\n",
              "\n",
              "    .colab-df-convert:hover {\n",
              "      background-color: #E2EBFA;\n",
              "      box-shadow: 0px 1px 2px rgba(60, 64, 67, 0.3), 0px 1px 3px 1px rgba(60, 64, 67, 0.15);\n",
              "      fill: #174EA6;\n",
              "    }\n",
              "\n",
              "    [theme=dark] .colab-df-convert {\n",
              "      background-color: #3B4455;\n",
              "      fill: #D2E3FC;\n",
              "    }\n",
              "\n",
              "    [theme=dark] .colab-df-convert:hover {\n",
              "      background-color: #434B5C;\n",
              "      box-shadow: 0px 1px 3px 1px rgba(0, 0, 0, 0.15);\n",
              "      filter: drop-shadow(0px 1px 2px rgba(0, 0, 0, 0.3));\n",
              "      fill: #FFFFFF;\n",
              "    }\n",
              "  </style>\n",
              "\n",
              "      <script>\n",
              "        const buttonEl =\n",
              "          document.querySelector('#df-5bc1b664-5ef4-4f53-a490-fa4d66a127e5 button.colab-df-convert');\n",
              "        buttonEl.style.display =\n",
              "          google.colab.kernel.accessAllowed ? 'block' : 'none';\n",
              "\n",
              "        async function convertToInteractive(key) {\n",
              "          const element = document.querySelector('#df-5bc1b664-5ef4-4f53-a490-fa4d66a127e5');\n",
              "          const dataTable =\n",
              "            await google.colab.kernel.invokeFunction('convertToInteractive',\n",
              "                                                     [key], {});\n",
              "          if (!dataTable) return;\n",
              "\n",
              "          const docLinkHtml = 'Like what you see? Visit the ' +\n",
              "            '<a target=\"_blank\" href=https://colab.research.google.com/notebooks/data_table.ipynb>data table notebook</a>'\n",
              "            + ' to learn more about interactive tables.';\n",
              "          element.innerHTML = '';\n",
              "          dataTable['output_type'] = 'display_data';\n",
              "          await google.colab.output.renderOutput(dataTable, element);\n",
              "          const docLink = document.createElement('div');\n",
              "          docLink.innerHTML = docLinkHtml;\n",
              "          element.appendChild(docLink);\n",
              "        }\n",
              "      </script>\n",
              "    </div>\n",
              "  </div>\n",
              "  "
            ]
          },
          "metadata": {},
          "execution_count": 31
        }
      ]
    },
    {
      "cell_type": "markdown",
      "metadata": {
        "id": "SNSumtR2h8xm"
      },
      "source": [
        "DOW 지수와 KOSPI 지수의 상관 계수는 0.834142입니다."
      ]
    },
    {
      "cell_type": "markdown",
      "metadata": {
        "id": "iNPKt8CbJYpg"
      },
      "source": [
        "**!! 주의 : 위 값은 강의 영상을 녹화할 당시인 6월 28일까지의 데이터를 가지고 나온 값이므로 여러분들이 7월에 실습할 때는 7월까지의 데이터를 가지고 구하기 때문에 상관 계수의 값이 제가 구했을 때와 다를 수 있습니다.**"
      ]
    },
    {
      "cell_type": "markdown",
      "metadata": {
        "id": "rkTl7Yich_12"
      },
      "source": [
        "데이터프레임이 아닌 시리즈(series)를 기준으로 상관 계수를 구할 수 있습니다."
      ]
    },
    {
      "cell_type": "markdown",
      "metadata": {
        "id": "jUStxK2hiZOw"
      },
      "source": [
        "여기서 시리즈란 데이터프레임의 하나의 열을 의미합니다. 다시 말해 각각의 열을 콕집어서 상관계수를 구한다는 것이죠."
      ]
    },
    {
      "cell_type": "code",
      "metadata": {
        "colab": {
          "base_uri": "https://localhost:8080/"
        },
        "id": "AlFE16HXh7To",
        "outputId": "06c8f800-418e-48bd-dece-418bd4575367"
      },
      "source": [
        "df['DOW'].corr(df['KOSPI'])"
      ],
      "execution_count": 32,
      "outputs": [
        {
          "output_type": "execute_result",
          "data": {
            "text/plain": [
              "0.8341419341732611"
            ]
          },
          "metadata": {},
          "execution_count": 32
        }
      ]
    },
    {
      "cell_type": "markdown",
      "metadata": {
        "id": "ftIhcEufifzw"
      },
      "source": [
        "당연하지만 결과는 동일하게 0.8341419341732611입니다."
      ]
    },
    {
      "cell_type": "markdown",
      "metadata": {
        "id": "u8Z5crHliH5q"
      },
      "source": [
        "결정 계수(R-squared)는 관측된 데이터에서 추정한 회귀선이 실제로 데이터를 어느 정도 설명하는지를 나타내는 계수로,  \n",
        "두 변수의 상관관계 정도를 나타내는 상관 계수를 제곱한 값입니다.  \n",
        "\n",
        "데이터프레임 corr() 함수의 결과는 테이블 형태이므로, 여기서는 제일 간편한 방식인 시리즈의 corr() 함수를 사용하여 상관계수를 구해봅시다."
      ]
    },
    {
      "cell_type": "code",
      "metadata": {
        "colab": {
          "base_uri": "https://localhost:8080/"
        },
        "id": "airz9-SaiGip",
        "outputId": "24a1efdd-e3dc-437a-e9aa-a9e269e902a3"
      },
      "source": [
        "r_value = df['DOW'].corr(df['KOSPI'])\n",
        "r_value"
      ],
      "execution_count": 33,
      "outputs": [
        {
          "output_type": "execute_result",
          "data": {
            "text/plain": [
              "0.8341419341732611"
            ]
          },
          "metadata": {},
          "execution_count": 33
        }
      ]
    },
    {
      "cell_type": "markdown",
      "metadata": {
        "id": "8D4juzy1ire1"
      },
      "source": [
        "앞서 구했듯이 0.8341419341732611입니다."
      ]
    },
    {
      "cell_type": "code",
      "metadata": {
        "colab": {
          "base_uri": "https://localhost:8080/"
        },
        "id": "q94BpHQJiqzp",
        "outputId": "30dbfbfd-ec80-4816-fff4-a9733d85aabc"
      },
      "source": [
        "r_squared = r_value ** 2\n",
        "r_squared"
      ],
      "execution_count": 34,
      "outputs": [
        {
          "output_type": "execute_result",
          "data": {
            "text/plain": [
              "0.695792766346309"
            ]
          },
          "metadata": {},
          "execution_count": 34
        }
      ]
    },
    {
      "cell_type": "markdown",
      "metadata": {
        "id": "-fRg37BzixNz"
      },
      "source": [
        "결정 계수가 1이면 선형 회귀 모델이 완벽하게 데이터를 설명한다는 의미입니다. 또는, 선형 회귀 직선 위에 모든 데이터가 다 올라가있다는 의미이기도 합니다.  \n",
        "\n",
        "반면에 결정 계수가 0이면 선형 회귀 모델. 즉, 직선이 전혀 변수 사이의 관계를 설명하지 못한다는 의미이기도 합니다.  \n",
        "\n",
        "0.57이 나왔다는 것은 모델이 데이터를 어느정도 설명 가능하다는 것을 의미합니다."
      ]
    },
    {
      "cell_type": "markdown",
      "metadata": {
        "id": "Dt_wkmMgw28C"
      },
      "source": [
        "이제 데이터와 선형 회귀 모델(직선)을 시각화해봅시다."
      ]
    },
    {
      "cell_type": "code",
      "metadata": {
        "id": "KNsWpAiBwpxT"
      },
      "source": [
        "regr_line = f'Y = {regr.slope:.2f} * X + {regr.intercept:.2f}'"
      ],
      "execution_count": 36,
      "outputs": []
    },
    {
      "cell_type": "code",
      "metadata": {
        "colab": {
          "base_uri": "https://localhost:8080/",
          "height": 36
        },
        "id": "GVwaT7hIw1fa",
        "outputId": "105aacde-c4f2-4af1-9a02-bfb0469ac9e6"
      },
      "source": [
        "regr_line"
      ],
      "execution_count": 37,
      "outputs": [
        {
          "output_type": "execute_result",
          "data": {
            "text/plain": [
              "'Y = 0.04 * X + 1324.47'"
            ],
            "application/vnd.google.colaboratory.intrinsic+json": {
              "type": "string"
            }
          },
          "metadata": {},
          "execution_count": 37
        }
      ]
    },
    {
      "cell_type": "markdown",
      "metadata": {
        "id": "TUoQtmGTKHuH"
      },
      "source": [
        "위에서 언급했듯이 Y는 코스피 지수, X는 다우존스 지수입니다."
      ]
    },
    {
      "cell_type": "code",
      "metadata": {
        "colab": {
          "base_uri": "https://localhost:8080/"
        },
        "id": "hawyTSXSxO3p",
        "outputId": "8e4846d9-916f-4e8c-ffce-60050fb3f017"
      },
      "source": [
        "type(regr_line)"
      ],
      "execution_count": 38,
      "outputs": [
        {
          "output_type": "execute_result",
          "data": {
            "text/plain": [
              "str"
            ]
          },
          "metadata": {},
          "execution_count": 38
        }
      ]
    },
    {
      "cell_type": "code",
      "metadata": {
        "colab": {
          "base_uri": "https://localhost:8080/",
          "height": 458
        },
        "id": "mZwjCiRqxUKo",
        "outputId": "2cf61f48-1adf-4543-9778-30db53a33cef"
      },
      "source": [
        "plt.figure(figsize=(7,7))\n",
        "plt.plot(df['DOW'], df['KOSPI'], '.')\n",
        "plt.plot(df['DOW'], regr.slope * df['DOW'] + regr.intercept, 'r')\n",
        "plt.legend(['DOW x KOSPI', regr_line])\n",
        "plt.title(f'DOW x KOSPI (R = {regr.rvalue:.2f})')\n",
        "plt.xlabel('Dow Jones Industrial Average')\n",
        "plt.ylabel('KOSPI')\n",
        "plt.show()"
      ],
      "execution_count": 39,
      "outputs": [
        {
          "output_type": "display_data",
          "data": {
            "text/plain": [
              "<Figure size 504x504 with 1 Axes>"
            ],
            "image/png": "[encoded data removed]"
          },
          "metadata": {
            "needs_background": "light"
          }
        }
      ]
    },
    {
      "cell_type": "markdown",
      "metadata": {
        "id": "9YuMWN01KLn6"
      },
      "source": [
        "##리스크 완화"
      ]
    },
    {
      "cell_type": "markdown",
      "metadata": {
        "id": "7O0IVbWQ9OkC"
      },
      "source": [
        "노벨경제학상을 수상한 해리 마코위츠 박사가 체계화한 현대 포트폴리오 이론은 **'투자에 대한 수익과 위험은 평균과 분산으로 나타낼 수 있으며, 상관관계가 낮은 자산을 대상으로 분산 투자하면 위험을 감소시킬 수 있다'**는 이론입니다."
      ]
    },
    {
      "cell_type": "markdown",
      "metadata": {
        "id": "nnVQO_vu9d-5"
      },
      "source": [
        "상관관계가 낮은 대표적인 예로 주식과 채권을 들 수 있는데,  \n",
        "이처럼 상관관계가 낮은 자산으로 포트폴리오를 구성하면 약세장과 강세장에서 모두 실적을 낼 수 있습니다."
      ]
    },
    {
      "cell_type": "markdown",
      "metadata": {
        "id": "43EVXWHDKSrr"
      },
      "source": [
        "두 개의 투자 대상의 상관 계수가 다음과 같다면 리스크 완화 효과는 다음과 같습니다."
      ]
    },
    {
      "cell_type": "markdown",
      "metadata": {
        "id": "mHdC2AU19i2Z"
      },
      "source": [
        "상관 계수 : +1.0 -> 리스크 완화 효과가 없음  \n",
        "상관 계수 : +0.5 -> 중간 정도의 리스크 완화 효과가 있음  \n",
        "상관 계수 : 0 -> 상당한 리스크 완화 효과가 있음  \n",
        "상관 계수 : -0.5 -> 대부분의 리스크를 제거함  \n",
        "상관 계수 : -1.0 -> 모든 리스크를 제거함."
      ]
    },
    {
      "cell_type": "markdown",
      "metadata": {
        "id": "8I6mlBKD9t2J"
      },
      "source": [
        "실제로 파이썬에서 상관관계가 어떻게 표시되는지 확인해봅시다.  \n",
        "먼저 시리즈 세 개를 생성한 뒤에 이를 이용하여 데이터프레임을 생성합니다."
      ]
    },
    {
      "cell_type": "code",
      "metadata": {
        "id": "GCcvhzfT9x-6"
      },
      "source": [
        "import pandas as pd"
      ],
      "execution_count": 40,
      "outputs": []
    },
    {
      "cell_type": "markdown",
      "metadata": {
        "id": "9k-Jj02q-Ah6"
      },
      "source": [
        "임의로 정수로 시리즈를 생성합니다. 2번 시리즈는 1번 시리즈와 변동 비율과 부호가 같지만, 값은 다릅니다.  \n",
        "3번 시리즈는 1번 시리즈와 절대값은 같지만, 부호가 다릅니다."
      ]
    },
    {
      "cell_type": "code",
      "metadata": {
        "id": "5muHBBKr9y_0"
      },
      "source": [
        "s1 = pd.Series([+10, -20, +30, -40, +50])\n",
        "s2 = pd.Series([+1, -2, +3, -4, +5])\n",
        "s3 = pd.Series([-10, +20, -30, +40, -50])"
      ],
      "execution_count": 41,
      "outputs": []
    },
    {
      "cell_type": "code",
      "metadata": {
        "id": "O1FXulHK957h"
      },
      "source": [
        "df = pd.DataFrame({'S1' : s1, 'S2' : s2, 'S3' : s3})"
      ],
      "execution_count": 42,
      "outputs": []
    },
    {
      "cell_type": "code",
      "metadata": {
        "colab": {
          "base_uri": "https://localhost:8080/",
          "height": 206
        },
        "id": "M1QGEQFN9_Tx",
        "outputId": "56a3bd65-4912-4dc5-f818-481098b3bed1"
      },
      "source": [
        "df"
      ],
      "execution_count": 43,
      "outputs": [
        {
          "output_type": "execute_result",
          "data": {
            "text/plain": [
              "   S1  S2  S3\n",
              "0  10   1 -10\n",
              "1 -20  -2  20\n",
              "2  30   3 -30\n",
              "3 -40  -4  40\n",
              "4  50   5 -50"
            ],
            "text/html": [
              "\n",
              "  <div id=\"df-9e74e774-017e-402c-bde1-85b0800c1bb9\">\n",
              "    <div class=\"colab-df-container\">\n",
              "      <div>\n",
              "<style scoped>\n",
              "    .dataframe tbody tr th:only-of-type {\n",
              "        vertical-align: middle;\n",
              "    }\n",
              "\n",
              "    .dataframe tbody tr th {\n",
              "        vertical-align: top;\n",
              "    }\n",
              "\n",
              "    .dataframe thead th {\n",
              "        text-align: right;\n",
              "    }\n",
              "</style>\n",
              "<table border=\"1\" class=\"dataframe\">\n",
              "  <thead>\n",
              "    <tr style=\"text-align: right;\">\n",
              "      <th></th>\n",
              "      <th>S1</th>\n",
              "      <th>S2</th>\n",
              "      <th>S3</th>\n",
              "    </tr>\n",
              "  </thead>\n",
              "  <tbody>\n",
              "    <tr>\n",
              "      <th>0</th>\n",
              "      <td>10</td>\n",
              "      <td>1</td>\n",
              "      <td>-10</td>\n",
              "    </tr>\n",
              "    <tr>\n",
              "      <th>1</th>\n",
              "      <td>-20</td>\n",
              "      <td>-2</td>\n",
              "      <td>20</td>\n",
              "    </tr>\n",
              "    <tr>\n",
              "      <th>2</th>\n",
              "      <td>30</td>\n",
              "      <td>3</td>\n",
              "      <td>-30</td>\n",
              "    </tr>\n",
              "    <tr>\n",
              "      <th>3</th>\n",
              "      <td>-40</td>\n",
              "      <td>-4</td>\n",
              "      <td>40</td>\n",
              "    </tr>\n",
              "    <tr>\n",
              "      <th>4</th>\n",
              "      <td>50</td>\n",
              "      <td>5</td>\n",
              "      <td>-50</td>\n",
              "    </tr>\n",
              "  </tbody>\n",
              "</table>\n",
              "</div>\n",
              "      <button class=\"colab-df-convert\" onclick=\"convertToInteractive('df-9e74e774-017e-402c-bde1-85b0800c1bb9')\"\n",
              "              title=\"Convert this dataframe to an interactive table.\"\n",
              "              style=\"display:none;\">\n",
              "        \n",
              "  <svg xmlns=\"http://www.w3.org/2000/svg\" height=\"24px\"viewBox=\"0 0 24 24\"\n",
              "       width=\"24px\">\n",
              "    <path d=\"M0 0h24v24H0V0z\" fill=\"none\"/>\n",
              "    <path d=\"M18.56 5.44l.94 2.06.94-2.06 2.06-.94-2.06-.94-.94-2.06-.94 2.06-2.06.94zm-11 1L8.5 8.5l.94-2.06 2.06-.94-2.06-.94L8.5 2.5l-.94 2.06-2.06.94zm10 10l.94 2.06.94-2.06 2.06-.94-2.06-.94-.94-2.06-.94 2.06-2.06.94z\"/><path d=\"M17.41 7.96l-1.37-1.37c-.4-.4-.92-.59-1.43-.59-.52 0-1.04.2-1.43.59L10.3 9.45l-7.72 7.72c-.78.78-.78 2.05 0 2.83L4 21.41c.39.39.9.59 1.41.59.51 0 1.02-.2 1.41-.59l7.78-7.78 2.81-2.81c.8-.78.8-2.07 0-2.86zM5.41 20L4 18.59l7.72-7.72 1.47 1.35L5.41 20z\"/>\n",
              "  </svg>\n",
              "      </button>\n",
              "      \n",
              "  <style>\n",
              "    .colab-df-container {\n",
              "      display:flex;\n",
              "      flex-wrap:wrap;\n",
              "      gap: 12px;\n",
              "    }\n",
              "\n",
              "    .colab-df-convert {\n",
              "      background-color: #E8F0FE;\n",
              "      border: none;\n",
              "      border-radius: 50%;\n",
              "      cursor: pointer;\n",
              "      display: none;\n",
              "      fill: #1967D2;\n",
              "      height: 32px;\n",
              "      padding: 0 0 0 0;\n",
              "      width: 32px;\n",
              "    }\n",
              "\n",
              "    .colab-df-convert:hover {\n",
              "      background-color: #E2EBFA;\n",
              "      box-shadow: 0px 1px 2px rgba(60, 64, 67, 0.3), 0px 1px 3px 1px rgba(60, 64, 67, 0.15);\n",
              "      fill: #174EA6;\n",
              "    }\n",
              "\n",
              "    [theme=dark] .colab-df-convert {\n",
              "      background-color: #3B4455;\n",
              "      fill: #D2E3FC;\n",
              "    }\n",
              "\n",
              "    [theme=dark] .colab-df-convert:hover {\n",
              "      background-color: #434B5C;\n",
              "      box-shadow: 0px 1px 3px 1px rgba(0, 0, 0, 0.15);\n",
              "      filter: drop-shadow(0px 1px 2px rgba(0, 0, 0, 0.3));\n",
              "      fill: #FFFFFF;\n",
              "    }\n",
              "  </style>\n",
              "\n",
              "      <script>\n",
              "        const buttonEl =\n",
              "          document.querySelector('#df-9e74e774-017e-402c-bde1-85b0800c1bb9 button.colab-df-convert');\n",
              "        buttonEl.style.display =\n",
              "          google.colab.kernel.accessAllowed ? 'block' : 'none';\n",
              "\n",
              "        async function convertToInteractive(key) {\n",
              "          const element = document.querySelector('#df-9e74e774-017e-402c-bde1-85b0800c1bb9');\n",
              "          const dataTable =\n",
              "            await google.colab.kernel.invokeFunction('convertToInteractive',\n",
              "                                                     [key], {});\n",
              "          if (!dataTable) return;\n",
              "\n",
              "          const docLinkHtml = 'Like what you see? Visit the ' +\n",
              "            '<a target=\"_blank\" href=https://colab.research.google.com/notebooks/data_table.ipynb>data table notebook</a>'\n",
              "            + ' to learn more about interactive tables.';\n",
              "          element.innerHTML = '';\n",
              "          dataTable['output_type'] = 'display_data';\n",
              "          await google.colab.output.renderOutput(dataTable, element);\n",
              "          const docLink = document.createElement('div');\n",
              "          docLink.innerHTML = docLinkHtml;\n",
              "          element.appendChild(docLink);\n",
              "        }\n",
              "      </script>\n",
              "    </div>\n",
              "  </div>\n",
              "  "
            ]
          },
          "metadata": {},
          "execution_count": 43
        }
      ]
    },
    {
      "cell_type": "markdown",
      "metadata": {
        "id": "WAqYzmNb-HNC"
      },
      "source": [
        "데이터프레임에서 제공하는 corr() 함수를 사용하여 각 시리즈 간의 상관관계를 확인해봅시다.  \n",
        "s1과 s2처럼 변동 비율이 같고 부호가 같을 경우 상관관계가 1로 표시됩니다.  \n",
        "\n",
        "s1과 s3 또는 s2와 s3처럼 변동 비율이 같지만 부호가 반대일 경우 상관관계가 -1로 표시됩니다."
      ]
    },
    {
      "cell_type": "code",
      "metadata": {
        "colab": {
          "base_uri": "https://localhost:8080/",
          "height": 143
        },
        "id": "SH5rBO0t9_fJ",
        "outputId": "d3f9137d-958c-43a9-c4d7-52f237185798"
      },
      "source": [
        "df.corr()"
      ],
      "execution_count": 44,
      "outputs": [
        {
          "output_type": "execute_result",
          "data": {
            "text/plain": [
              "     S1   S2   S3\n",
              "S1  1.0  1.0 -1.0\n",
              "S2  1.0  1.0 -1.0\n",
              "S3 -1.0 -1.0  1.0"
            ],
            "text/html": [
              "\n",
              "  <div id=\"df-8a996ba5-8814-4d1f-a1d6-9c20855f9b07\">\n",
              "    <div class=\"colab-df-container\">\n",
              "      <div>\n",
              "<style scoped>\n",
              "    .dataframe tbody tr th:only-of-type {\n",
              "        vertical-align: middle;\n",
              "    }\n",
              "\n",
              "    .dataframe tbody tr th {\n",
              "        vertical-align: top;\n",
              "    }\n",
              "\n",
              "    .dataframe thead th {\n",
              "        text-align: right;\n",
              "    }\n",
              "</style>\n",
              "<table border=\"1\" class=\"dataframe\">\n",
              "  <thead>\n",
              "    <tr style=\"text-align: right;\">\n",
              "      <th></th>\n",
              "      <th>S1</th>\n",
              "      <th>S2</th>\n",
              "      <th>S3</th>\n",
              "    </tr>\n",
              "  </thead>\n",
              "  <tbody>\n",
              "    <tr>\n",
              "      <th>S1</th>\n",
              "      <td>1.0</td>\n",
              "      <td>1.0</td>\n",
              "      <td>-1.0</td>\n",
              "    </tr>\n",
              "    <tr>\n",
              "      <th>S2</th>\n",
              "      <td>1.0</td>\n",
              "      <td>1.0</td>\n",
              "      <td>-1.0</td>\n",
              "    </tr>\n",
              "    <tr>\n",
              "      <th>S3</th>\n",
              "      <td>-1.0</td>\n",
              "      <td>-1.0</td>\n",
              "      <td>1.0</td>\n",
              "    </tr>\n",
              "  </tbody>\n",
              "</table>\n",
              "</div>\n",
              "      <button class=\"colab-df-convert\" onclick=\"convertToInteractive('df-8a996ba5-8814-4d1f-a1d6-9c20855f9b07')\"\n",
              "              title=\"Convert this dataframe to an interactive table.\"\n",
              "              style=\"display:none;\">\n",
              "        \n",
              "  <svg xmlns=\"http://www.w3.org/2000/svg\" height=\"24px\"viewBox=\"0 0 24 24\"\n",
              "       width=\"24px\">\n",
              "    <path d=\"M0 0h24v24H0V0z\" fill=\"none\"/>\n",
              "    <path d=\"M18.56 5.44l.94 2.06.94-2.06 2.06-.94-2.06-.94-.94-2.06-.94 2.06-2.06.94zm-11 1L8.5 8.5l.94-2.06 2.06-.94-2.06-.94L8.5 2.5l-.94 2.06-2.06.94zm10 10l.94 2.06.94-2.06 2.06-.94-2.06-.94-.94-2.06-.94 2.06-2.06.94z\"/><path d=\"M17.41 7.96l-1.37-1.37c-.4-.4-.92-.59-1.43-.59-.52 0-1.04.2-1.43.59L10.3 9.45l-7.72 7.72c-.78.78-.78 2.05 0 2.83L4 21.41c.39.39.9.59 1.41.59.51 0 1.02-.2 1.41-.59l7.78-7.78 2.81-2.81c.8-.78.8-2.07 0-2.86zM5.41 20L4 18.59l7.72-7.72 1.47 1.35L5.41 20z\"/>\n",
              "  </svg>\n",
              "      </button>\n",
              "      \n",
              "  <style>\n",
              "    .colab-df-container {\n",
              "      display:flex;\n",
              "      flex-wrap:wrap;\n",
              "      gap: 12px;\n",
              "    }\n",
              "\n",
              "    .colab-df-convert {\n",
              "      background-color: #E8F0FE;\n",
              "      border: none;\n",
              "      border-radius: 50%;\n",
              "      cursor: pointer;\n",
              "      display: none;\n",
              "      fill: #1967D2;\n",
              "      height: 32px;\n",
              "      padding: 0 0 0 0;\n",
              "      width: 32px;\n",
              "    }\n",
              "\n",
              "    .colab-df-convert:hover {\n",
              "      background-color: #E2EBFA;\n",
              "      box-shadow: 0px 1px 2px rgba(60, 64, 67, 0.3), 0px 1px 3px 1px rgba(60, 64, 67, 0.15);\n",
              "      fill: #174EA6;\n",
              "    }\n",
              "\n",
              "    [theme=dark] .colab-df-convert {\n",
              "      background-color: #3B4455;\n",
              "      fill: #D2E3FC;\n",
              "    }\n",
              "\n",
              "    [theme=dark] .colab-df-convert:hover {\n",
              "      background-color: #434B5C;\n",
              "      box-shadow: 0px 1px 3px 1px rgba(0, 0, 0, 0.15);\n",
              "      filter: drop-shadow(0px 1px 2px rgba(0, 0, 0, 0.3));\n",
              "      fill: #FFFFFF;\n",
              "    }\n",
              "  </style>\n",
              "\n",
              "      <script>\n",
              "        const buttonEl =\n",
              "          document.querySelector('#df-8a996ba5-8814-4d1f-a1d6-9c20855f9b07 button.colab-df-convert');\n",
              "        buttonEl.style.display =\n",
              "          google.colab.kernel.accessAllowed ? 'block' : 'none';\n",
              "\n",
              "        async function convertToInteractive(key) {\n",
              "          const element = document.querySelector('#df-8a996ba5-8814-4d1f-a1d6-9c20855f9b07');\n",
              "          const dataTable =\n",
              "            await google.colab.kernel.invokeFunction('convertToInteractive',\n",
              "                                                     [key], {});\n",
              "          if (!dataTable) return;\n",
              "\n",
              "          const docLinkHtml = 'Like what you see? Visit the ' +\n",
              "            '<a target=\"_blank\" href=https://colab.research.google.com/notebooks/data_table.ipynb>data table notebook</a>'\n",
              "            + ' to learn more about interactive tables.';\n",
              "          element.innerHTML = '';\n",
              "          dataTable['output_type'] = 'display_data';\n",
              "          await google.colab.output.renderOutput(dataTable, element);\n",
              "          const docLink = document.createElement('div');\n",
              "          docLink.innerHTML = docLinkHtml;\n",
              "          element.appendChild(docLink);\n",
              "        }\n",
              "      </script>\n",
              "    </div>\n",
              "  </div>\n",
              "  "
            ]
          },
          "metadata": {},
          "execution_count": 44
        }
      ]
    },
    {
      "cell_type": "markdown",
      "metadata": {
        "id": "7_zOYYRh-SAG"
      },
      "source": [
        "**핵심 요약**"
      ]
    },
    {
      "cell_type": "markdown",
      "metadata": {
        "id": "eixNnjD0-TT9"
      },
      "source": [
        "* 판다스에서 제공하는 시리즈는 인덱스를 지니는 1차원 벡터이고, 데이터프레임은 인덱스를 지니는 테이블 형태 자료형입니다. 시리즈는 데이터프레임의 하나의 칼럼에 해당됩니다.  \n",
        "* 판다스를 이용하면 2차원 테이블 형태의 데이터프레임을 다룰 수 있습니다.  \n",
        "* 회귀 분석은 데이터의 상관관계를 분석하는데 많이 쓰이는 통계 분석 방법입니다. 회귀식을 구한 뒤 임의의 독립변수에 대해서 종속변수의 값을 추측해볼 수 있는데, 이를 예측이라고 합니다.  \n",
        "* 오늘의 종가를 특정일의 종가로 나눈 뒤 100을 곱하면, 특정일의 종가 대비 오늘의 변동률을 구할 수 있습니다. 이렇게 가격이 다른 두 주식 종목의 수익률를 비교하는 방법을 **지수화**라고 합니다.  \n",
        "* 상관계수란 독립변수와 종속변수 사이의 상관관계의 정도를 나타내는 수치입니다. 양의 상관관계가 가장 강한 값을 1로, 음의 상관관계가 가장 강한 값을 -1로 나타내며, 상관관계가 없을 때 0입니다.  \n",
        "* 상관계수는 시리즈나 데이터프레임에서 corr() 함수를 호출해서 구할 수 있고, 사이파이의 서브 패키지인 스탯츠로 선형회귀 모델을 생성하여 구할 수도 있습니다.  \n",
        "* 현대 포트폴리오 이론의 성과 중 하나는 주식과 채권처럼 상관관계가 낮은 자산으로 포트폴리오를 구성함으로써, 포트폴리오의 전반적인 위험을 줄일 수 있다는 것을 알려주었다는 점입니다."
      ]
    },
    {
      "cell_type": "markdown",
      "metadata": {
        "id": "f469Y5083D61"
      },
      "source": [
        "# Quiz"
      ]
    },
    {
      "cell_type": "markdown",
      "metadata": {
        "id": "zCETZGP51I99"
      },
      "source": [
        "## Quiz #1"
      ]
    },
    {
      "cell_type": "markdown",
      "metadata": {
        "id": "4DcqaYkm1Wl9"
      },
      "source": [
        "상관 분석은 5강에서 처음 배운 것이 아닙니다. 2강에서 상관 계수를 구하고 히트맵으로 시각화 하는 방법에 대해서 배웠습니다.  \n",
        "\n",
        "2010년 6월 1일부터 현재까지의 코스피 지수와 다우 존스 지수의 상관 계수를 구하고, 이를 히트맵으로 시각화하세요."
      ]
    },
    {
      "cell_type": "code",
      "source": [
        "import FinanceDataReader as fdr\n",
        "\n",
        "dow = fdr.DataReader('DJI', '2010-06-01')\n",
        "kos = fdr.DataReader('KS11','2010-06-01')"
      ],
      "metadata": {
        "id": "u0LmfzasB7UF"
      },
      "execution_count": 46,
      "outputs": []
    },
    {
      "cell_type": "code",
      "source": [
        "dow.describe()"
      ],
      "metadata": {
        "colab": {
          "base_uri": "https://localhost:8080/",
          "height": 300
        },
        "id": "lZNXfTK6Cx9e",
        "outputId": "ddfa9549-33e5-4183-bbeb-7cf70f2e6ba1"
      },
      "execution_count": 47,
      "outputs": [
        {
          "output_type": "execute_result",
          "data": {
            "text/plain": [
              "              Close          Open          High           Low        Volume  \\\n",
              "count   3046.000000   3046.000000   3046.000000   3046.000000  3.046000e+03   \n",
              "mean   20641.172131  20637.239773  20748.173802  20520.439554  2.287815e+08   \n",
              "std     7219.498081   7221.809393   7261.858811   7176.872581  1.377907e+08   \n",
              "min     9686.480000   9689.210000   9770.870000   9614.320000  3.364000e+07   \n",
              "25%    14990.220000  14989.720000  15070.705000  14924.250000  1.114400e+08   \n",
              "50%    18115.940000  18108.570000  18176.285000  18038.750000  2.008100e+08   \n",
              "75%    25970.127500  25988.770000  26108.210000  25814.115000  3.205925e+08   \n",
              "max    36799.650000  36722.600000  36952.650000  36636.000000  9.226800e+08   \n",
              "\n",
              "            Change  \n",
              "count  3046.000000  \n",
              "mean      0.000426  \n",
              "std       0.010816  \n",
              "min      -0.129300  \n",
              "25%      -0.003600  \n",
              "50%       0.000600  \n",
              "75%       0.005300  \n",
              "max       0.113700  "
            ],
            "text/html": [
              "\n",
              "  <div id=\"df-3623a5bb-1fcc-412d-a1a7-477585c3aebe\">\n",
              "    <div class=\"colab-df-container\">\n",
              "      <div>\n",
              "<style scoped>\n",
              "    .dataframe tbody tr th:only-of-type {\n",
              "        vertical-align: middle;\n",
              "    }\n",
              "\n",
              "    .dataframe tbody tr th {\n",
              "        vertical-align: top;\n",
              "    }\n",
              "\n",
              "    .dataframe thead th {\n",
              "        text-align: right;\n",
              "    }\n",
              "</style>\n",
              "<table border=\"1\" class=\"dataframe\">\n",
              "  <thead>\n",
              "    <tr style=\"text-align: right;\">\n",
              "      <th></th>\n",
              "      <th>Close</th>\n",
              "      <th>Open</th>\n",
              "      <th>High</th>\n",
              "      <th>Low</th>\n",
              "      <th>Volume</th>\n",
              "      <th>Change</th>\n",
              "    </tr>\n",
              "  </thead>\n",
              "  <tbody>\n",
              "    <tr>\n",
              "      <th>count</th>\n",
              "      <td>3046.000000</td>\n",
              "      <td>3046.000000</td>\n",
              "      <td>3046.000000</td>\n",
              "      <td>3046.000000</td>\n",
              "      <td>3.046000e+03</td>\n",
              "      <td>3046.000000</td>\n",
              "    </tr>\n",
              "    <tr>\n",
              "      <th>mean</th>\n",
              "      <td>20641.172131</td>\n",
              "      <td>20637.239773</td>\n",
              "      <td>20748.173802</td>\n",
              "      <td>20520.439554</td>\n",
              "      <td>2.287815e+08</td>\n",
              "      <td>0.000426</td>\n",
              "    </tr>\n",
              "    <tr>\n",
              "      <th>std</th>\n",
              "      <td>7219.498081</td>\n",
              "      <td>7221.809393</td>\n",
              "      <td>7261.858811</td>\n",
              "      <td>7176.872581</td>\n",
              "      <td>1.377907e+08</td>\n",
              "      <td>0.010816</td>\n",
              "    </tr>\n",
              "    <tr>\n",
              "      <th>min</th>\n",
              "      <td>9686.480000</td>\n",
              "      <td>9689.210000</td>\n",
              "      <td>9770.870000</td>\n",
              "      <td>9614.320000</td>\n",
              "      <td>3.364000e+07</td>\n",
              "      <td>-0.129300</td>\n",
              "    </tr>\n",
              "    <tr>\n",
              "      <th>25%</th>\n",
              "      <td>14990.220000</td>\n",
              "      <td>14989.720000</td>\n",
              "      <td>15070.705000</td>\n",
              "      <td>14924.250000</td>\n",
              "      <td>1.114400e+08</td>\n",
              "      <td>-0.003600</td>\n",
              "    </tr>\n",
              "    <tr>\n",
              "      <th>50%</th>\n",
              "      <td>18115.940000</td>\n",
              "      <td>18108.570000</td>\n",
              "      <td>18176.285000</td>\n",
              "      <td>18038.750000</td>\n",
              "      <td>2.008100e+08</td>\n",
              "      <td>0.000600</td>\n",
              "    </tr>\n",
              "    <tr>\n",
              "      <th>75%</th>\n",
              "      <td>25970.127500</td>\n",
              "      <td>25988.770000</td>\n",
              "      <td>26108.210000</td>\n",
              "      <td>25814.115000</td>\n",
              "      <td>3.205925e+08</td>\n",
              "      <td>0.005300</td>\n",
              "    </tr>\n",
              "    <tr>\n",
              "      <th>max</th>\n",
              "      <td>36799.650000</td>\n",
              "      <td>36722.600000</td>\n",
              "      <td>36952.650000</td>\n",
              "      <td>36636.000000</td>\n",
              "      <td>9.226800e+08</td>\n",
              "      <td>0.113700</td>\n",
              "    </tr>\n",
              "  </tbody>\n",
              "</table>\n",
              "</div>\n",
              "      <button class=\"colab-df-convert\" onclick=\"convertToInteractive('df-3623a5bb-1fcc-412d-a1a7-477585c3aebe')\"\n",
              "              title=\"Convert this dataframe to an interactive table.\"\n",
              "              style=\"display:none;\">\n",
              "        \n",
              "  <svg xmlns=\"http://www.w3.org/2000/svg\" height=\"24px\"viewBox=\"0 0 24 24\"\n",
              "       width=\"24px\">\n",
              "    <path d=\"M0 0h24v24H0V0z\" fill=\"none\"/>\n",
              "    <path d=\"M18.56 5.44l.94 2.06.94-2.06 2.06-.94-2.06-.94-.94-2.06-.94 2.06-2.06.94zm-11 1L8.5 8.5l.94-2.06 2.06-.94-2.06-.94L8.5 2.5l-.94 2.06-2.06.94zm10 10l.94 2.06.94-2.06 2.06-.94-2.06-.94-.94-2.06-.94 2.06-2.06.94z\"/><path d=\"M17.41 7.96l-1.37-1.37c-.4-.4-.92-.59-1.43-.59-.52 0-1.04.2-1.43.59L10.3 9.45l-7.72 7.72c-.78.78-.78 2.05 0 2.83L4 21.41c.39.39.9.59 1.41.59.51 0 1.02-.2 1.41-.59l7.78-7.78 2.81-2.81c.8-.78.8-2.07 0-2.86zM5.41 20L4 18.59l7.72-7.72 1.47 1.35L5.41 20z\"/>\n",
              "  </svg>\n",
              "      </button>\n",
              "      \n",
              "  <style>\n",
              "    .colab-df-container {\n",
              "      display:flex;\n",
              "      flex-wrap:wrap;\n",
              "      gap: 12px;\n",
              "    }\n",
              "\n",
              "    .colab-df-convert {\n",
              "      background-color: #E8F0FE;\n",
              "      border: none;\n",
              "      border-radius: 50%;\n",
              "      cursor: pointer;\n",
              "      display: none;\n",
              "      fill: #1967D2;\n",
              "      height: 32px;\n",
              "      padding: 0 0 0 0;\n",
              "      width: 32px;\n",
              "    }\n",
              "\n",
              "    .colab-df-convert:hover {\n",
              "      background-color: #E2EBFA;\n",
              "      box-shadow: 0px 1px 2px rgba(60, 64, 67, 0.3), 0px 1px 3px 1px rgba(60, 64, 67, 0.15);\n",
              "      fill: #174EA6;\n",
              "    }\n",
              "\n",
              "    [theme=dark] .colab-df-convert {\n",
              "      background-color: #3B4455;\n",
              "      fill: #D2E3FC;\n",
              "    }\n",
              "\n",
              "    [theme=dark] .colab-df-convert:hover {\n",
              "      background-color: #434B5C;\n",
              "      box-shadow: 0px 1px 3px 1px rgba(0, 0, 0, 0.15);\n",
              "      filter: drop-shadow(0px 1px 2px rgba(0, 0, 0, 0.3));\n",
              "      fill: #FFFFFF;\n",
              "    }\n",
              "  </style>\n",
              "\n",
              "      <script>\n",
              "        const buttonEl =\n",
              "          document.querySelector('#df-3623a5bb-1fcc-412d-a1a7-477585c3aebe button.colab-df-convert');\n",
              "        buttonEl.style.display =\n",
              "          google.colab.kernel.accessAllowed ? 'block' : 'none';\n",
              "\n",
              "        async function convertToInteractive(key) {\n",
              "          const element = document.querySelector('#df-3623a5bb-1fcc-412d-a1a7-477585c3aebe');\n",
              "          const dataTable =\n",
              "            await google.colab.kernel.invokeFunction('convertToInteractive',\n",
              "                                                     [key], {});\n",
              "          if (!dataTable) return;\n",
              "\n",
              "          const docLinkHtml = 'Like what you see? Visit the ' +\n",
              "            '<a target=\"_blank\" href=https://colab.research.google.com/notebooks/data_table.ipynb>data table notebook</a>'\n",
              "            + ' to learn more about interactive tables.';\n",
              "          element.innerHTML = '';\n",
              "          dataTable['output_type'] = 'display_data';\n",
              "          await google.colab.output.renderOutput(dataTable, element);\n",
              "          const docLink = document.createElement('div');\n",
              "          docLink.innerHTML = docLinkHtml;\n",
              "          element.appendChild(docLink);\n",
              "        }\n",
              "      </script>\n",
              "    </div>\n",
              "  </div>\n",
              "  "
            ]
          },
          "metadata": {},
          "execution_count": 47
        }
      ]
    },
    {
      "cell_type": "code",
      "source": [
        "kos.describe()"
      ],
      "metadata": {
        "colab": {
          "base_uri": "https://localhost:8080/",
          "height": 300
        },
        "id": "9ipYPaSaCwI3",
        "outputId": "fada5ace-13f5-4f99-b8ab-9580e20df94b"
      },
      "execution_count": 48,
      "outputs": [
        {
          "output_type": "execute_result",
          "data": {
            "text/plain": [
              "             Close         Open         High          Low        Volume  \\\n",
              "count  2987.000000  2987.000000  2987.000000  2987.000000  2.987000e+03   \n",
              "mean   2178.940790  2180.117533  2190.328262  2166.920512  4.944717e+08   \n",
              "std     359.418676   359.740700   361.869183   357.377572  2.968954e+08   \n",
              "min    1457.640000  1474.450000  1516.750000  1439.430000  1.722300e+05   \n",
              "25%    1958.105000  1960.325000  1966.660000  1949.390000  3.156450e+08   \n",
              "50%    2043.970000  2046.670000  2053.460000  2036.230000  3.972500e+08   \n",
              "75%    2308.270000  2312.200000  2320.525000  2296.055000  5.615600e+08   \n",
              "max    3305.210000  3305.460000  3316.080000  3295.440000  3.460000e+09   \n",
              "\n",
              "            Change  \n",
              "count  2987.000000  \n",
              "mean      0.000173  \n",
              "std       0.010410  \n",
              "min      -0.083900  \n",
              "25%      -0.004700  \n",
              "50%       0.000400  \n",
              "75%       0.005700  \n",
              "max       0.086000  "
            ],
            "text/html": [
              "\n",
              "  <div id=\"df-fbc4bfcc-5ab9-4d50-b831-e16f52ef803b\">\n",
              "    <div class=\"colab-df-container\">\n",
              "      <div>\n",
              "<style scoped>\n",
              "    .dataframe tbody tr th:only-of-type {\n",
              "        vertical-align: middle;\n",
              "    }\n",
              "\n",
              "    .dataframe tbody tr th {\n",
              "        vertical-align: top;\n",
              "    }\n",
              "\n",
              "    .dataframe thead th {\n",
              "        text-align: right;\n",
              "    }\n",
              "</style>\n",
              "<table border=\"1\" class=\"dataframe\">\n",
              "  <thead>\n",
              "    <tr style=\"text-align: right;\">\n",
              "      <th></th>\n",
              "      <th>Close</th>\n",
              "      <th>Open</th>\n",
              "      <th>High</th>\n",
              "      <th>Low</th>\n",
              "      <th>Volume</th>\n",
              "      <th>Change</th>\n",
              "    </tr>\n",
              "  </thead>\n",
              "  <tbody>\n",
              "    <tr>\n",
              "      <th>count</th>\n",
              "      <td>2987.000000</td>\n",
              "      <td>2987.000000</td>\n",
              "      <td>2987.000000</td>\n",
              "      <td>2987.000000</td>\n",
              "      <td>2.987000e+03</td>\n",
              "      <td>2987.000000</td>\n",
              "    </tr>\n",
              "    <tr>\n",
              "      <th>mean</th>\n",
              "      <td>2178.940790</td>\n",
              "      <td>2180.117533</td>\n",
              "      <td>2190.328262</td>\n",
              "      <td>2166.920512</td>\n",
              "      <td>4.944717e+08</td>\n",
              "      <td>0.000173</td>\n",
              "    </tr>\n",
              "    <tr>\n",
              "      <th>std</th>\n",
              "      <td>359.418676</td>\n",
              "      <td>359.740700</td>\n",
              "      <td>361.869183</td>\n",
              "      <td>357.377572</td>\n",
              "      <td>2.968954e+08</td>\n",
              "      <td>0.010410</td>\n",
              "    </tr>\n",
              "    <tr>\n",
              "      <th>min</th>\n",
              "      <td>1457.640000</td>\n",
              "      <td>1474.450000</td>\n",
              "      <td>1516.750000</td>\n",
              "      <td>1439.430000</td>\n",
              "      <td>1.722300e+05</td>\n",
              "      <td>-0.083900</td>\n",
              "    </tr>\n",
              "    <tr>\n",
              "      <th>25%</th>\n",
              "      <td>1958.105000</td>\n",
              "      <td>1960.325000</td>\n",
              "      <td>1966.660000</td>\n",
              "      <td>1949.390000</td>\n",
              "      <td>3.156450e+08</td>\n",
              "      <td>-0.004700</td>\n",
              "    </tr>\n",
              "    <tr>\n",
              "      <th>50%</th>\n",
              "      <td>2043.970000</td>\n",
              "      <td>2046.670000</td>\n",
              "      <td>2053.460000</td>\n",
              "      <td>2036.230000</td>\n",
              "      <td>3.972500e+08</td>\n",
              "      <td>0.000400</td>\n",
              "    </tr>\n",
              "    <tr>\n",
              "      <th>75%</th>\n",
              "      <td>2308.270000</td>\n",
              "      <td>2312.200000</td>\n",
              "      <td>2320.525000</td>\n",
              "      <td>2296.055000</td>\n",
              "      <td>5.615600e+08</td>\n",
              "      <td>0.005700</td>\n",
              "    </tr>\n",
              "    <tr>\n",
              "      <th>max</th>\n",
              "      <td>3305.210000</td>\n",
              "      <td>3305.460000</td>\n",
              "      <td>3316.080000</td>\n",
              "      <td>3295.440000</td>\n",
              "      <td>3.460000e+09</td>\n",
              "      <td>0.086000</td>\n",
              "    </tr>\n",
              "  </tbody>\n",
              "</table>\n",
              "</div>\n",
              "      <button class=\"colab-df-convert\" onclick=\"convertToInteractive('df-fbc4bfcc-5ab9-4d50-b831-e16f52ef803b')\"\n",
              "              title=\"Convert this dataframe to an interactive table.\"\n",
              "              style=\"display:none;\">\n",
              "        \n",
              "  <svg xmlns=\"http://www.w3.org/2000/svg\" height=\"24px\"viewBox=\"0 0 24 24\"\n",
              "       width=\"24px\">\n",
              "    <path d=\"M0 0h24v24H0V0z\" fill=\"none\"/>\n",
              "    <path d=\"M18.56 5.44l.94 2.06.94-2.06 2.06-.94-2.06-.94-.94-2.06-.94 2.06-2.06.94zm-11 1L8.5 8.5l.94-2.06 2.06-.94-2.06-.94L8.5 2.5l-.94 2.06-2.06.94zm10 10l.94 2.06.94-2.06 2.06-.94-2.06-.94-.94-2.06-.94 2.06-2.06.94z\"/><path d=\"M17.41 7.96l-1.37-1.37c-.4-.4-.92-.59-1.43-.59-.52 0-1.04.2-1.43.59L10.3 9.45l-7.72 7.72c-.78.78-.78 2.05 0 2.83L4 21.41c.39.39.9.59 1.41.59.51 0 1.02-.2 1.41-.59l7.78-7.78 2.81-2.81c.8-.78.8-2.07 0-2.86zM5.41 20L4 18.59l7.72-7.72 1.47 1.35L5.41 20z\"/>\n",
              "  </svg>\n",
              "      </button>\n",
              "      \n",
              "  <style>\n",
              "    .colab-df-container {\n",
              "      display:flex;\n",
              "      flex-wrap:wrap;\n",
              "      gap: 12px;\n",
              "    }\n",
              "\n",
              "    .colab-df-convert {\n",
              "      background-color: #E8F0FE;\n",
              "      border: none;\n",
              "      border-radius: 50%;\n",
              "      cursor: pointer;\n",
              "      display: none;\n",
              "      fill: #1967D2;\n",
              "      height: 32px;\n",
              "      padding: 0 0 0 0;\n",
              "      width: 32px;\n",
              "    }\n",
              "\n",
              "    .colab-df-convert:hover {\n",
              "      background-color: #E2EBFA;\n",
              "      box-shadow: 0px 1px 2px rgba(60, 64, 67, 0.3), 0px 1px 3px 1px rgba(60, 64, 67, 0.15);\n",
              "      fill: #174EA6;\n",
              "    }\n",
              "\n",
              "    [theme=dark] .colab-df-convert {\n",
              "      background-color: #3B4455;\n",
              "      fill: #D2E3FC;\n",
              "    }\n",
              "\n",
              "    [theme=dark] .colab-df-convert:hover {\n",
              "      background-color: #434B5C;\n",
              "      box-shadow: 0px 1px 3px 1px rgba(0, 0, 0, 0.15);\n",
              "      filter: drop-shadow(0px 1px 2px rgba(0, 0, 0, 0.3));\n",
              "      fill: #FFFFFF;\n",
              "    }\n",
              "  </style>\n",
              "\n",
              "      <script>\n",
              "        const buttonEl =\n",
              "          document.querySelector('#df-fbc4bfcc-5ab9-4d50-b831-e16f52ef803b button.colab-df-convert');\n",
              "        buttonEl.style.display =\n",
              "          google.colab.kernel.accessAllowed ? 'block' : 'none';\n",
              "\n",
              "        async function convertToInteractive(key) {\n",
              "          const element = document.querySelector('#df-fbc4bfcc-5ab9-4d50-b831-e16f52ef803b');\n",
              "          const dataTable =\n",
              "            await google.colab.kernel.invokeFunction('convertToInteractive',\n",
              "                                                     [key], {});\n",
              "          if (!dataTable) return;\n",
              "\n",
              "          const docLinkHtml = 'Like what you see? Visit the ' +\n",
              "            '<a target=\"_blank\" href=https://colab.research.google.com/notebooks/data_table.ipynb>data table notebook</a>'\n",
              "            + ' to learn more about interactive tables.';\n",
              "          element.innerHTML = '';\n",
              "          dataTable['output_type'] = 'display_data';\n",
              "          await google.colab.output.renderOutput(dataTable, element);\n",
              "          const docLink = document.createElement('div');\n",
              "          docLink.innerHTML = docLinkHtml;\n",
              "          element.appendChild(docLink);\n",
              "        }\n",
              "      </script>\n",
              "    </div>\n",
              "  </div>\n",
              "  "
            ]
          },
          "metadata": {},
          "execution_count": 48
        }
      ]
    },
    {
      "cell_type": "code",
      "source": [
        "import matplotlib.pyplot as plt\n",
        "plt.figure(figsize=(7, 7))\n",
        "plt.plot(dow.index, dow.Close, 'r--', label='Dow Jones Industrial')\n",
        "plt.plot(kos.index, kos.Close, 'b', label='KOSPI')\n",
        "plt.grid(True)\n",
        "plt.legend(loc='best')\n",
        "plt.show()"
      ],
      "metadata": {
        "colab": {
          "base_uri": "https://localhost:8080/",
          "height": 428
        },
        "id": "TTRukbjoC09Z",
        "outputId": "79f67bfb-0e8b-475a-cfac-869341b0cf49"
      },
      "execution_count": 50,
      "outputs": [
        {
          "output_type": "display_data",
          "data": {
            "text/plain": [
              "<Figure size 504x504 with 1 Axes>"
            ],
            "image/png": "[encoded data removed]"
          },
          "metadata": {
            "needs_background": "light"
          }
        }
      ]
    },
    {
      "cell_type": "code",
      "source": [
        "df = pd.DataFrame({'DOW' : dow['Close'], 'KOSPI' : kospi['Close']})\n",
        "df"
      ],
      "metadata": {
        "colab": {
          "base_uri": "https://localhost:8080/",
          "height": 455
        },
        "id": "lqJiu1eLDAad",
        "outputId": "8f97cb07-79c5-47c0-90c1-c17ed4ef3f5f"
      },
      "execution_count": 53,
      "outputs": [
        {
          "output_type": "execute_result",
          "data": {
            "text/plain": [
              "                 DOW    KOSPI\n",
              "Date                         \n",
              "2010-06-01  10024.02  1630.40\n",
              "2010-06-02  10249.54      NaN\n",
              "2010-06-03  10255.28  1661.84\n",
              "2010-06-04   9931.97  1664.13\n",
              "2010-06-07   9816.49  1637.97\n",
              "...              ...      ...\n",
              "2022-07-01  31097.46  2305.42\n",
              "2022-07-04       NaN  2300.34\n",
              "2022-07-05  30967.45  2341.78\n",
              "2022-07-06  31037.22  2292.01\n",
              "2022-07-07       NaN  2334.27\n",
              "\n",
              "[3140 rows x 2 columns]"
            ],
            "text/html": [
              "\n",
              "  <div id=\"df-38b57143-d20f-4e27-9f99-7c685e071893\">\n",
              "    <div class=\"colab-df-container\">\n",
              "      <div>\n",
              "<style scoped>\n",
              "    .dataframe tbody tr th:only-of-type {\n",
              "        vertical-align: middle;\n",
              "    }\n",
              "\n",
              "    .dataframe tbody tr th {\n",
              "        vertical-align: top;\n",
              "    }\n",
              "\n",
              "    .dataframe thead th {\n",
              "        text-align: right;\n",
              "    }\n",
              "</style>\n",
              "<table border=\"1\" class=\"dataframe\">\n",
              "  <thead>\n",
              "    <tr style=\"text-align: right;\">\n",
              "      <th></th>\n",
              "      <th>DOW</th>\n",
              "      <th>KOSPI</th>\n",
              "    </tr>\n",
              "    <tr>\n",
              "      <th>Date</th>\n",
              "      <th></th>\n",
              "      <th></th>\n",
              "    </tr>\n",
              "  </thead>\n",
              "  <tbody>\n",
              "    <tr>\n",
              "      <th>2010-06-01</th>\n",
              "      <td>10024.02</td>\n",
              "      <td>1630.40</td>\n",
              "    </tr>\n",
              "    <tr>\n",
              "      <th>2010-06-02</th>\n",
              "      <td>10249.54</td>\n",
              "      <td>NaN</td>\n",
              "    </tr>\n",
              "    <tr>\n",
              "      <th>2010-06-03</th>\n",
              "      <td>10255.28</td>\n",
              "      <td>1661.84</td>\n",
              "    </tr>\n",
              "    <tr>\n",
              "      <th>2010-06-04</th>\n",
              "      <td>9931.97</td>\n",
              "      <td>1664.13</td>\n",
              "    </tr>\n",
              "    <tr>\n",
              "      <th>2010-06-07</th>\n",
              "      <td>9816.49</td>\n",
              "      <td>1637.97</td>\n",
              "    </tr>\n",
              "    <tr>\n",
              "      <th>...</th>\n",
              "      <td>...</td>\n",
              "      <td>...</td>\n",
              "    </tr>\n",
              "    <tr>\n",
              "      <th>2022-07-01</th>\n",
              "      <td>31097.46</td>\n",
              "      <td>2305.42</td>\n",
              "    </tr>\n",
              "    <tr>\n",
              "      <th>2022-07-04</th>\n",
              "      <td>NaN</td>\n",
              "      <td>2300.34</td>\n",
              "    </tr>\n",
              "    <tr>\n",
              "      <th>2022-07-05</th>\n",
              "      <td>30967.45</td>\n",
              "      <td>2341.78</td>\n",
              "    </tr>\n",
              "    <tr>\n",
              "      <th>2022-07-06</th>\n",
              "      <td>31037.22</td>\n",
              "      <td>2292.01</td>\n",
              "    </tr>\n",
              "    <tr>\n",
              "      <th>2022-07-07</th>\n",
              "      <td>NaN</td>\n",
              "      <td>2334.27</td>\n",
              "    </tr>\n",
              "  </tbody>\n",
              "</table>\n",
              "<p>3140 rows × 2 columns</p>\n",
              "</div>\n",
              "      <button class=\"colab-df-convert\" onclick=\"convertToInteractive('df-38b57143-d20f-4e27-9f99-7c685e071893')\"\n",
              "              title=\"Convert this dataframe to an interactive table.\"\n",
              "              style=\"display:none;\">\n",
              "        \n",
              "  <svg xmlns=\"http://www.w3.org/2000/svg\" height=\"24px\"viewBox=\"0 0 24 24\"\n",
              "       width=\"24px\">\n",
              "    <path d=\"M0 0h24v24H0V0z\" fill=\"none\"/>\n",
              "    <path d=\"M18.56 5.44l.94 2.06.94-2.06 2.06-.94-2.06-.94-.94-2.06-.94 2.06-2.06.94zm-11 1L8.5 8.5l.94-2.06 2.06-.94-2.06-.94L8.5 2.5l-.94 2.06-2.06.94zm10 10l.94 2.06.94-2.06 2.06-.94-2.06-.94-.94-2.06-.94 2.06-2.06.94z\"/><path d=\"M17.41 7.96l-1.37-1.37c-.4-.4-.92-.59-1.43-.59-.52 0-1.04.2-1.43.59L10.3 9.45l-7.72 7.72c-.78.78-.78 2.05 0 2.83L4 21.41c.39.39.9.59 1.41.59.51 0 1.02-.2 1.41-.59l7.78-7.78 2.81-2.81c.8-.78.8-2.07 0-2.86zM5.41 20L4 18.59l7.72-7.72 1.47 1.35L5.41 20z\"/>\n",
              "  </svg>\n",
              "      </button>\n",
              "      \n",
              "  <style>\n",
              "    .colab-df-container {\n",
              "      display:flex;\n",
              "      flex-wrap:wrap;\n",
              "      gap: 12px;\n",
              "    }\n",
              "\n",
              "    .colab-df-convert {\n",
              "      background-color: #E8F0FE;\n",
              "      border: none;\n",
              "      border-radius: 50%;\n",
              "      cursor: pointer;\n",
              "      display: none;\n",
              "      fill: #1967D2;\n",
              "      height: 32px;\n",
              "      padding: 0 0 0 0;\n",
              "      width: 32px;\n",
              "    }\n",
              "\n",
              "    .colab-df-convert:hover {\n",
              "      background-color: #E2EBFA;\n",
              "      box-shadow: 0px 1px 2px rgba(60, 64, 67, 0.3), 0px 1px 3px 1px rgba(60, 64, 67, 0.15);\n",
              "      fill: #174EA6;\n",
              "    }\n",
              "\n",
              "    [theme=dark] .colab-df-convert {\n",
              "      background-color: #3B4455;\n",
              "      fill: #D2E3FC;\n",
              "    }\n",
              "\n",
              "    [theme=dark] .colab-df-convert:hover {\n",
              "      background-color: #434B5C;\n",
              "      box-shadow: 0px 1px 3px 1px rgba(0, 0, 0, 0.15);\n",
              "      filter: drop-shadow(0px 1px 2px rgba(0, 0, 0, 0.3));\n",
              "      fill: #FFFFFF;\n",
              "    }\n",
              "  </style>\n",
              "\n",
              "      <script>\n",
              "        const buttonEl =\n",
              "          document.querySelector('#df-38b57143-d20f-4e27-9f99-7c685e071893 button.colab-df-convert');\n",
              "        buttonEl.style.display =\n",
              "          google.colab.kernel.accessAllowed ? 'block' : 'none';\n",
              "\n",
              "        async function convertToInteractive(key) {\n",
              "          const element = document.querySelector('#df-38b57143-d20f-4e27-9f99-7c685e071893');\n",
              "          const dataTable =\n",
              "            await google.colab.kernel.invokeFunction('convertToInteractive',\n",
              "                                                     [key], {});\n",
              "          if (!dataTable) return;\n",
              "\n",
              "          const docLinkHtml = 'Like what you see? Visit the ' +\n",
              "            '<a target=\"_blank\" href=https://colab.research.google.com/notebooks/data_table.ipynb>data table notebook</a>'\n",
              "            + ' to learn more about interactive tables.';\n",
              "          element.innerHTML = '';\n",
              "          dataTable['output_type'] = 'display_data';\n",
              "          await google.colab.output.renderOutput(dataTable, element);\n",
              "          const docLink = document.createElement('div');\n",
              "          docLink.innerHTML = docLinkHtml;\n",
              "          element.appendChild(docLink);\n",
              "        }\n",
              "      </script>\n",
              "    </div>\n",
              "  </div>\n",
              "  "
            ]
          },
          "metadata": {},
          "execution_count": 53
        }
      ]
    },
    {
      "cell_type": "code",
      "source": [
        "df = df.fillna(method='bfill')\n",
        "df = df.fillna(method='ffill')\n",
        "df"
      ],
      "metadata": {
        "colab": {
          "base_uri": "https://localhost:8080/",
          "height": 455
        },
        "id": "6K2kMFXaDTIh",
        "outputId": "892e2b21-ede7-47b8-9d91-c5f5b50ac2a3"
      },
      "execution_count": 57,
      "outputs": [
        {
          "output_type": "execute_result",
          "data": {
            "text/plain": [
              "                 DOW    KOSPI\n",
              "Date                         \n",
              "2010-06-01  10024.02  1630.40\n",
              "2010-06-02  10249.54  1661.84\n",
              "2010-06-03  10255.28  1661.84\n",
              "2010-06-04   9931.97  1664.13\n",
              "2010-06-07   9816.49  1637.97\n",
              "...              ...      ...\n",
              "2022-07-01  31097.46  2305.42\n",
              "2022-07-04  30967.45  2300.34\n",
              "2022-07-05  30967.45  2341.78\n",
              "2022-07-06  31037.22  2292.01\n",
              "2022-07-07  31037.22  2334.27\n",
              "\n",
              "[3140 rows x 2 columns]"
            ],
            "text/html": [
              "\n",
              "  <div id=\"df-67849da2-b5f5-41a5-9015-26f2a4a80c99\">\n",
              "    <div class=\"colab-df-container\">\n",
              "      <div>\n",
              "<style scoped>\n",
              "    .dataframe tbody tr th:only-of-type {\n",
              "        vertical-align: middle;\n",
              "    }\n",
              "\n",
              "    .dataframe tbody tr th {\n",
              "        vertical-align: top;\n",
              "    }\n",
              "\n",
              "    .dataframe thead th {\n",
              "        text-align: right;\n",
              "    }\n",
              "</style>\n",
              "<table border=\"1\" class=\"dataframe\">\n",
              "  <thead>\n",
              "    <tr style=\"text-align: right;\">\n",
              "      <th></th>\n",
              "      <th>DOW</th>\n",
              "      <th>KOSPI</th>\n",
              "    </tr>\n",
              "    <tr>\n",
              "      <th>Date</th>\n",
              "      <th></th>\n",
              "      <th></th>\n",
              "    </tr>\n",
              "  </thead>\n",
              "  <tbody>\n",
              "    <tr>\n",
              "      <th>2010-06-01</th>\n",
              "      <td>10024.02</td>\n",
              "      <td>1630.40</td>\n",
              "    </tr>\n",
              "    <tr>\n",
              "      <th>2010-06-02</th>\n",
              "      <td>10249.54</td>\n",
              "      <td>1661.84</td>\n",
              "    </tr>\n",
              "    <tr>\n",
              "      <th>2010-06-03</th>\n",
              "      <td>10255.28</td>\n",
              "      <td>1661.84</td>\n",
              "    </tr>\n",
              "    <tr>\n",
              "      <th>2010-06-04</th>\n",
              "      <td>9931.97</td>\n",
              "      <td>1664.13</td>\n",
              "    </tr>\n",
              "    <tr>\n",
              "      <th>2010-06-07</th>\n",
              "      <td>9816.49</td>\n",
              "      <td>1637.97</td>\n",
              "    </tr>\n",
              "    <tr>\n",
              "      <th>...</th>\n",
              "      <td>...</td>\n",
              "      <td>...</td>\n",
              "    </tr>\n",
              "    <tr>\n",
              "      <th>2022-07-01</th>\n",
              "      <td>31097.46</td>\n",
              "      <td>2305.42</td>\n",
              "    </tr>\n",
              "    <tr>\n",
              "      <th>2022-07-04</th>\n",
              "      <td>30967.45</td>\n",
              "      <td>2300.34</td>\n",
              "    </tr>\n",
              "    <tr>\n",
              "      <th>2022-07-05</th>\n",
              "      <td>30967.45</td>\n",
              "      <td>2341.78</td>\n",
              "    </tr>\n",
              "    <tr>\n",
              "      <th>2022-07-06</th>\n",
              "      <td>31037.22</td>\n",
              "      <td>2292.01</td>\n",
              "    </tr>\n",
              "    <tr>\n",
              "      <th>2022-07-07</th>\n",
              "      <td>31037.22</td>\n",
              "      <td>2334.27</td>\n",
              "    </tr>\n",
              "  </tbody>\n",
              "</table>\n",
              "<p>3140 rows × 2 columns</p>\n",
              "</div>\n",
              "      <button class=\"colab-df-convert\" onclick=\"convertToInteractive('df-67849da2-b5f5-41a5-9015-26f2a4a80c99')\"\n",
              "              title=\"Convert this dataframe to an interactive table.\"\n",
              "              style=\"display:none;\">\n",
              "        \n",
              "  <svg xmlns=\"http://www.w3.org/2000/svg\" height=\"24px\"viewBox=\"0 0 24 24\"\n",
              "       width=\"24px\">\n",
              "    <path d=\"M0 0h24v24H0V0z\" fill=\"none\"/>\n",
              "    <path d=\"M18.56 5.44l.94 2.06.94-2.06 2.06-.94-2.06-.94-.94-2.06-.94 2.06-2.06.94zm-11 1L8.5 8.5l.94-2.06 2.06-.94-2.06-.94L8.5 2.5l-.94 2.06-2.06.94zm10 10l.94 2.06.94-2.06 2.06-.94-2.06-.94-.94-2.06-.94 2.06-2.06.94z\"/><path d=\"M17.41 7.96l-1.37-1.37c-.4-.4-.92-.59-1.43-.59-.52 0-1.04.2-1.43.59L10.3 9.45l-7.72 7.72c-.78.78-.78 2.05 0 2.83L4 21.41c.39.39.9.59 1.41.59.51 0 1.02-.2 1.41-.59l7.78-7.78 2.81-2.81c.8-.78.8-2.07 0-2.86zM5.41 20L4 18.59l7.72-7.72 1.47 1.35L5.41 20z\"/>\n",
              "  </svg>\n",
              "      </button>\n",
              "      \n",
              "  <style>\n",
              "    .colab-df-container {\n",
              "      display:flex;\n",
              "      flex-wrap:wrap;\n",
              "      gap: 12px;\n",
              "    }\n",
              "\n",
              "    .colab-df-convert {\n",
              "      background-color: #E8F0FE;\n",
              "      border: none;\n",
              "      border-radius: 50%;\n",
              "      cursor: pointer;\n",
              "      display: none;\n",
              "      fill: #1967D2;\n",
              "      height: 32px;\n",
              "      padding: 0 0 0 0;\n",
              "      width: 32px;\n",
              "    }\n",
              "\n",
              "    .colab-df-convert:hover {\n",
              "      background-color: #E2EBFA;\n",
              "      box-shadow: 0px 1px 2px rgba(60, 64, 67, 0.3), 0px 1px 3px 1px rgba(60, 64, 67, 0.15);\n",
              "      fill: #174EA6;\n",
              "    }\n",
              "\n",
              "    [theme=dark] .colab-df-convert {\n",
              "      background-color: #3B4455;\n",
              "      fill: #D2E3FC;\n",
              "    }\n",
              "\n",
              "    [theme=dark] .colab-df-convert:hover {\n",
              "      background-color: #434B5C;\n",
              "      box-shadow: 0px 1px 3px 1px rgba(0, 0, 0, 0.15);\n",
              "      filter: drop-shadow(0px 1px 2px rgba(0, 0, 0, 0.3));\n",
              "      fill: #FFFFFF;\n",
              "    }\n",
              "  </style>\n",
              "\n",
              "      <script>\n",
              "        const buttonEl =\n",
              "          document.querySelector('#df-67849da2-b5f5-41a5-9015-26f2a4a80c99 button.colab-df-convert');\n",
              "        buttonEl.style.display =\n",
              "          google.colab.kernel.accessAllowed ? 'block' : 'none';\n",
              "\n",
              "        async function convertToInteractive(key) {\n",
              "          const element = document.querySelector('#df-67849da2-b5f5-41a5-9015-26f2a4a80c99');\n",
              "          const dataTable =\n",
              "            await google.colab.kernel.invokeFunction('convertToInteractive',\n",
              "                                                     [key], {});\n",
              "          if (!dataTable) return;\n",
              "\n",
              "          const docLinkHtml = 'Like what you see? Visit the ' +\n",
              "            '<a target=\"_blank\" href=https://colab.research.google.com/notebooks/data_table.ipynb>data table notebook</a>'\n",
              "            + ' to learn more about interactive tables.';\n",
              "          element.innerHTML = '';\n",
              "          dataTable['output_type'] = 'display_data';\n",
              "          await google.colab.output.renderOutput(dataTable, element);\n",
              "          const docLink = document.createElement('div');\n",
              "          docLink.innerHTML = docLinkHtml;\n",
              "          element.appendChild(docLink);\n",
              "        }\n",
              "      </script>\n",
              "    </div>\n",
              "  </div>\n",
              "  "
            ]
          },
          "metadata": {},
          "execution_count": 57
        }
      ]
    },
    {
      "cell_type": "code",
      "source": [
        "corr = df.corr()"
      ],
      "metadata": {
        "id": "Z-iVMop9D3wo"
      },
      "execution_count": 63,
      "outputs": []
    },
    {
      "cell_type": "code",
      "source": [
        "plt.plot(df['DOW'],df['KOSPI'],'.')"
      ],
      "metadata": {
        "colab": {
          "base_uri": "https://localhost:8080/",
          "height": 296
        },
        "id": "pJyLgnnfD6w4",
        "outputId": "04fb5a56-5457-4796-fb62-8d80ada4d751"
      },
      "execution_count": 64,
      "outputs": [
        {
          "output_type": "execute_result",
          "data": {
            "text/plain": [
              "[<matplotlib.lines.Line2D at 0x7fd4ba97a350>]"
            ]
          },
          "metadata": {},
          "execution_count": 64
        },
        {
          "output_type": "display_data",
          "data": {
            "text/plain": [
              "<Figure size 432x288 with 1 Axes>"
            ],
            "image/png": "[encoded data removed]"
          },
          "metadata": {}
        }
      ]
    },
    {
      "cell_type": "code",
      "source": [
        "import seaborn as sns\n",
        "sns.set(font_scale=1.5)\n",
        "column_names = ['DOW','KOSPI']\n",
        "\n",
        "heatmap = sns.heatmap(corr.values, # 데이터\n",
        "                          cbar = True, # 오른쪽 컬러 막대 출력 여부\n",
        "                           annot = True, # 차트에 숫자를 보여줄 것인지 여부\n",
        "                          annot_kws={'size' : 20}, # 숫자 출력 시 숫자 크기 조절\n",
        "                           fmt = '.2f', # 숫자의 출력 소수점자리 개수 조절\n",
        "                           square = 'True', # 차트를 정사각형으로 할 것인지\n",
        "                          yticklabels=column_names, # y축에 컬럼명 출력\n",
        "                          xticklabels=column_names) # x축에 컬럼명 출력\n",
        "plt.tight_layout()\n",
        "plt.show()"
      ],
      "metadata": {
        "colab": {
          "base_uri": "https://localhost:8080/",
          "height": 280
        },
        "id": "bVrYugROEVAk",
        "outputId": "a48616fd-9953-4971-b687-efbccae46574"
      },
      "execution_count": 68,
      "outputs": [
        {
          "output_type": "display_data",
          "data": {
            "text/plain": [
              "<Figure size 432x288 with 2 Axes>"
            ],
            "image/png": "[encoded data removed]"
          },
          "metadata": {}
        }
      ]
    },
    {
      "cell_type": "markdown",
      "metadata": {
        "id": "sRCkI3zh1m5j"
      },
      "source": [
        "## Quiz #1 풀이"
      ]
    },
    {
      "cell_type": "code",
      "metadata": {
        "id": "TM5IgO_t1tuF"
      },
      "source": [
        "import pandas as pd # 판다스 임포트.\n",
        "import matplotlib.pyplot as plt # 맷플롯립 임포트.\n",
        "import seaborn as sns # 시본 임포트\n",
        "import FinanceDataReader as fdr"
      ],
      "execution_count": null,
      "outputs": []
    },
    {
      "cell_type": "code",
      "metadata": {
        "colab": {
          "base_uri": "https://localhost:8080/",
          "height": 237
        },
        "id": "7TlCFpxM1v_W",
        "outputId": "66a5b5aa-7831-43d0-aa48-e7be8452bf1a"
      },
      "source": [
        "dow = fdr.DataReader('DJI', '2010-06-01')\n",
        "dow.head()"
      ],
      "execution_count": null,
      "outputs": [
        {
          "output_type": "execute_result",
          "data": {
            "text/html": [
              "<div>\n",
              "<style scoped>\n",
              "    .dataframe tbody tr th:only-of-type {\n",
              "        vertical-align: middle;\n",
              "    }\n",
              "\n",
              "    .dataframe tbody tr th {\n",
              "        vertical-align: top;\n",
              "    }\n",
              "\n",
              "    .dataframe thead th {\n",
              "        text-align: right;\n",
              "    }\n",
              "</style>\n",
              "<table border=\"1\" class=\"dataframe\">\n",
              "  <thead>\n",
              "    <tr style=\"text-align: right;\">\n",
              "      <th></th>\n",
              "      <th>Close</th>\n",
              "      <th>Open</th>\n",
              "      <th>High</th>\n",
              "      <th>Low</th>\n",
              "      <th>Volume</th>\n",
              "      <th>Change</th>\n",
              "    </tr>\n",
              "    <tr>\n",
              "      <th>Date</th>\n",
              "      <th></th>\n",
              "      <th></th>\n",
              "      <th></th>\n",
              "      <th></th>\n",
              "      <th></th>\n",
              "      <th></th>\n",
              "    </tr>\n",
              "  </thead>\n",
              "  <tbody>\n",
              "    <tr>\n",
              "      <th>2010-06-01</th>\n",
              "      <td>10024.02</td>\n",
              "      <td>10133.94</td>\n",
              "      <td>10249.27</td>\n",
              "      <td>9976.56</td>\n",
              "      <td>221900000.0</td>\n",
              "      <td>-0.0111</td>\n",
              "    </tr>\n",
              "    <tr>\n",
              "      <th>2010-06-02</th>\n",
              "      <td>10249.54</td>\n",
              "      <td>10025.61</td>\n",
              "      <td>10256.57</td>\n",
              "      <td>10007.09</td>\n",
              "      <td>200850000.0</td>\n",
              "      <td>0.0225</td>\n",
              "    </tr>\n",
              "    <tr>\n",
              "      <th>2010-06-03</th>\n",
              "      <td>10255.28</td>\n",
              "      <td>10250.67</td>\n",
              "      <td>10348.84</td>\n",
              "      <td>10158.92</td>\n",
              "      <td>176870000.0</td>\n",
              "      <td>0.0006</td>\n",
              "    </tr>\n",
              "    <tr>\n",
              "      <th>2010-06-04</th>\n",
              "      <td>9931.97</td>\n",
              "      <td>10249.61</td>\n",
              "      <td>10249.61</td>\n",
              "      <td>9881.11</td>\n",
              "      <td>256600000.0</td>\n",
              "      <td>-0.0315</td>\n",
              "    </tr>\n",
              "    <tr>\n",
              "      <th>2010-06-07</th>\n",
              "      <td>9816.49</td>\n",
              "      <td>9931.75</td>\n",
              "      <td>10025.84</td>\n",
              "      <td>9798.73</td>\n",
              "      <td>222940000.0</td>\n",
              "      <td>-0.0116</td>\n",
              "    </tr>\n",
              "  </tbody>\n",
              "</table>\n",
              "</div>"
            ],
            "text/plain": [
              "               Close      Open      High       Low       Volume  Change\n",
              "Date                                                                   \n",
              "2010-06-01  10024.02  10133.94  10249.27   9976.56  221900000.0 -0.0111\n",
              "2010-06-02  10249.54  10025.61  10256.57  10007.09  200850000.0  0.0225\n",
              "2010-06-03  10255.28  10250.67  10348.84  10158.92  176870000.0  0.0006\n",
              "2010-06-04   9931.97  10249.61  10249.61   9881.11  256600000.0 -0.0315\n",
              "2010-06-07   9816.49   9931.75  10025.84   9798.73  222940000.0 -0.0116"
            ]
          },
          "metadata": {
            "tags": []
          },
          "execution_count": 3
        }
      ]
    },
    {
      "cell_type": "code",
      "metadata": {
        "colab": {
          "base_uri": "https://localhost:8080/",
          "height": 237
        },
        "id": "VO6vP5e91xvl",
        "outputId": "cd046f1f-831d-4a76-c792-ce10f5f31bdc"
      },
      "source": [
        "kospi = fdr.DataReader('KS11', '2010-06-01')\n",
        "kospi.head()"
      ],
      "execution_count": null,
      "outputs": [
        {
          "output_type": "execute_result",
          "data": {
            "text/html": [
              "<div>\n",
              "<style scoped>\n",
              "    .dataframe tbody tr th:only-of-type {\n",
              "        vertical-align: middle;\n",
              "    }\n",
              "\n",
              "    .dataframe tbody tr th {\n",
              "        vertical-align: top;\n",
              "    }\n",
              "\n",
              "    .dataframe thead th {\n",
              "        text-align: right;\n",
              "    }\n",
              "</style>\n",
              "<table border=\"1\" class=\"dataframe\">\n",
              "  <thead>\n",
              "    <tr style=\"text-align: right;\">\n",
              "      <th></th>\n",
              "      <th>Close</th>\n",
              "      <th>Open</th>\n",
              "      <th>High</th>\n",
              "      <th>Low</th>\n",
              "      <th>Volume</th>\n",
              "      <th>Change</th>\n",
              "    </tr>\n",
              "    <tr>\n",
              "      <th>Date</th>\n",
              "      <th></th>\n",
              "      <th></th>\n",
              "      <th></th>\n",
              "      <th></th>\n",
              "      <th></th>\n",
              "      <th></th>\n",
              "    </tr>\n",
              "  </thead>\n",
              "  <tbody>\n",
              "    <tr>\n",
              "      <th>2010-06-01</th>\n",
              "      <td>1630.40</td>\n",
              "      <td>1634.55</td>\n",
              "      <td>1643.08</td>\n",
              "      <td>1623.40</td>\n",
              "      <td>314100000.0</td>\n",
              "      <td>-0.0066</td>\n",
              "    </tr>\n",
              "    <tr>\n",
              "      <th>2010-06-03</th>\n",
              "      <td>1661.84</td>\n",
              "      <td>1643.74</td>\n",
              "      <td>1663.67</td>\n",
              "      <td>1641.77</td>\n",
              "      <td>308760000.0</td>\n",
              "      <td>0.0193</td>\n",
              "    </tr>\n",
              "    <tr>\n",
              "      <th>2010-06-04</th>\n",
              "      <td>1664.13</td>\n",
              "      <td>1660.99</td>\n",
              "      <td>1670.94</td>\n",
              "      <td>1658.52</td>\n",
              "      <td>286090000.0</td>\n",
              "      <td>0.0014</td>\n",
              "    </tr>\n",
              "    <tr>\n",
              "      <th>2010-06-07</th>\n",
              "      <td>1637.97</td>\n",
              "      <td>1628.06</td>\n",
              "      <td>1638.88</td>\n",
              "      <td>1618.57</td>\n",
              "      <td>300880000.0</td>\n",
              "      <td>-0.0157</td>\n",
              "    </tr>\n",
              "    <tr>\n",
              "      <th>2010-06-08</th>\n",
              "      <td>1651.48</td>\n",
              "      <td>1635.01</td>\n",
              "      <td>1656.37</td>\n",
              "      <td>1630.43</td>\n",
              "      <td>280290000.0</td>\n",
              "      <td>0.0082</td>\n",
              "    </tr>\n",
              "  </tbody>\n",
              "</table>\n",
              "</div>"
            ],
            "text/plain": [
              "              Close     Open     High      Low       Volume  Change\n",
              "Date                                                               \n",
              "2010-06-01  1630.40  1634.55  1643.08  1623.40  314100000.0 -0.0066\n",
              "2010-06-03  1661.84  1643.74  1663.67  1641.77  308760000.0  0.0193\n",
              "2010-06-04  1664.13  1660.99  1670.94  1658.52  286090000.0  0.0014\n",
              "2010-06-07  1637.97  1628.06  1638.88  1618.57  300880000.0 -0.0157\n",
              "2010-06-08  1651.48  1635.01  1656.37  1630.43  280290000.0  0.0082"
            ]
          },
          "metadata": {
            "tags": []
          },
          "execution_count": 4
        }
      ]
    },
    {
      "cell_type": "code",
      "metadata": {
        "colab": {
          "base_uri": "https://localhost:8080/",
          "height": 455
        },
        "id": "GrjwFzzh1zSt",
        "outputId": "60de3d7d-3891-43e9-e150-b77d5205d8bd"
      },
      "source": [
        "df = pd.DataFrame({'DOW' : dow['Close'], 'KOSPI' : kospi['Close']})\n",
        "df"
      ],
      "execution_count": null,
      "outputs": [
        {
          "output_type": "execute_result",
          "data": {
            "text/html": [
              "<div>\n",
              "<style scoped>\n",
              "    .dataframe tbody tr th:only-of-type {\n",
              "        vertical-align: middle;\n",
              "    }\n",
              "\n",
              "    .dataframe tbody tr th {\n",
              "        vertical-align: top;\n",
              "    }\n",
              "\n",
              "    .dataframe thead th {\n",
              "        text-align: right;\n",
              "    }\n",
              "</style>\n",
              "<table border=\"1\" class=\"dataframe\">\n",
              "  <thead>\n",
              "    <tr style=\"text-align: right;\">\n",
              "      <th></th>\n",
              "      <th>DOW</th>\n",
              "      <th>KOSPI</th>\n",
              "    </tr>\n",
              "    <tr>\n",
              "      <th>Date</th>\n",
              "      <th></th>\n",
              "      <th></th>\n",
              "    </tr>\n",
              "  </thead>\n",
              "  <tbody>\n",
              "    <tr>\n",
              "      <th>2010-06-01</th>\n",
              "      <td>10024.02</td>\n",
              "      <td>1630.40</td>\n",
              "    </tr>\n",
              "    <tr>\n",
              "      <th>2010-06-02</th>\n",
              "      <td>10249.54</td>\n",
              "      <td>NaN</td>\n",
              "    </tr>\n",
              "    <tr>\n",
              "      <th>2010-06-03</th>\n",
              "      <td>10255.28</td>\n",
              "      <td>1661.84</td>\n",
              "    </tr>\n",
              "    <tr>\n",
              "      <th>2010-06-04</th>\n",
              "      <td>9931.97</td>\n",
              "      <td>1664.13</td>\n",
              "    </tr>\n",
              "    <tr>\n",
              "      <th>2010-06-07</th>\n",
              "      <td>9816.49</td>\n",
              "      <td>1637.97</td>\n",
              "    </tr>\n",
              "    <tr>\n",
              "      <th>...</th>\n",
              "      <td>...</td>\n",
              "      <td>...</td>\n",
              "    </tr>\n",
              "    <tr>\n",
              "      <th>2021-07-01</th>\n",
              "      <td>34633.53</td>\n",
              "      <td>3282.06</td>\n",
              "    </tr>\n",
              "    <tr>\n",
              "      <th>2021-07-02</th>\n",
              "      <td>34786.35</td>\n",
              "      <td>3281.78</td>\n",
              "    </tr>\n",
              "    <tr>\n",
              "      <th>2021-07-05</th>\n",
              "      <td>NaN</td>\n",
              "      <td>3293.21</td>\n",
              "    </tr>\n",
              "    <tr>\n",
              "      <th>2021-07-06</th>\n",
              "      <td>34577.37</td>\n",
              "      <td>3305.21</td>\n",
              "    </tr>\n",
              "    <tr>\n",
              "      <th>2021-07-07</th>\n",
              "      <td>34642.46</td>\n",
              "      <td>3285.34</td>\n",
              "    </tr>\n",
              "  </tbody>\n",
              "</table>\n",
              "<p>2879 rows × 2 columns</p>\n",
              "</div>"
            ],
            "text/plain": [
              "                 DOW    KOSPI\n",
              "Date                         \n",
              "2010-06-01  10024.02  1630.40\n",
              "2010-06-02  10249.54      NaN\n",
              "2010-06-03  10255.28  1661.84\n",
              "2010-06-04   9931.97  1664.13\n",
              "2010-06-07   9816.49  1637.97\n",
              "...              ...      ...\n",
              "2021-07-01  34633.53  3282.06\n",
              "2021-07-02  34786.35  3281.78\n",
              "2021-07-05       NaN  3293.21\n",
              "2021-07-06  34577.37  3305.21\n",
              "2021-07-07  34642.46  3285.34\n",
              "\n",
              "[2879 rows x 2 columns]"
            ]
          },
          "metadata": {
            "tags": []
          },
          "execution_count": 6
        }
      ]
    },
    {
      "cell_type": "code",
      "metadata": {
        "colab": {
          "base_uri": "https://localhost:8080/"
        },
        "id": "wjQ8wzPB2Ejl",
        "outputId": "afdfcc7a-1546-4df1-fc5e-cf34a58ced40"
      },
      "source": [
        "df.isnull().sum()"
      ],
      "execution_count": null,
      "outputs": [
        {
          "output_type": "execute_result",
          "data": {
            "text/plain": [
              "DOW       85\n",
              "KOSPI    138\n",
              "dtype: int64"
            ]
          },
          "metadata": {
            "tags": []
          },
          "execution_count": 7
        }
      ]
    },
    {
      "cell_type": "code",
      "metadata": {
        "colab": {
          "base_uri": "https://localhost:8080/",
          "height": 455
        },
        "id": "NJFG7Xc82IM1",
        "outputId": "89f03ea9-84ac-4b40-de94-700d613f3635"
      },
      "source": [
        "df = df.fillna(method='bfill')\n",
        "df"
      ],
      "execution_count": null,
      "outputs": [
        {
          "output_type": "execute_result",
          "data": {
            "text/html": [
              "<div>\n",
              "<style scoped>\n",
              "    .dataframe tbody tr th:only-of-type {\n",
              "        vertical-align: middle;\n",
              "    }\n",
              "\n",
              "    .dataframe tbody tr th {\n",
              "        vertical-align: top;\n",
              "    }\n",
              "\n",
              "    .dataframe thead th {\n",
              "        text-align: right;\n",
              "    }\n",
              "</style>\n",
              "<table border=\"1\" class=\"dataframe\">\n",
              "  <thead>\n",
              "    <tr style=\"text-align: right;\">\n",
              "      <th></th>\n",
              "      <th>DOW</th>\n",
              "      <th>KOSPI</th>\n",
              "    </tr>\n",
              "    <tr>\n",
              "      <th>Date</th>\n",
              "      <th></th>\n",
              "      <th></th>\n",
              "    </tr>\n",
              "  </thead>\n",
              "  <tbody>\n",
              "    <tr>\n",
              "      <th>2010-06-01</th>\n",
              "      <td>10024.02</td>\n",
              "      <td>1630.40</td>\n",
              "    </tr>\n",
              "    <tr>\n",
              "      <th>2010-06-02</th>\n",
              "      <td>10249.54</td>\n",
              "      <td>1661.84</td>\n",
              "    </tr>\n",
              "    <tr>\n",
              "      <th>2010-06-03</th>\n",
              "      <td>10255.28</td>\n",
              "      <td>1661.84</td>\n",
              "    </tr>\n",
              "    <tr>\n",
              "      <th>2010-06-04</th>\n",
              "      <td>9931.97</td>\n",
              "      <td>1664.13</td>\n",
              "    </tr>\n",
              "    <tr>\n",
              "      <th>2010-06-07</th>\n",
              "      <td>9816.49</td>\n",
              "      <td>1637.97</td>\n",
              "    </tr>\n",
              "    <tr>\n",
              "      <th>...</th>\n",
              "      <td>...</td>\n",
              "      <td>...</td>\n",
              "    </tr>\n",
              "    <tr>\n",
              "      <th>2021-07-01</th>\n",
              "      <td>34633.53</td>\n",
              "      <td>3282.06</td>\n",
              "    </tr>\n",
              "    <tr>\n",
              "      <th>2021-07-02</th>\n",
              "      <td>34786.35</td>\n",
              "      <td>3281.78</td>\n",
              "    </tr>\n",
              "    <tr>\n",
              "      <th>2021-07-05</th>\n",
              "      <td>34577.37</td>\n",
              "      <td>3293.21</td>\n",
              "    </tr>\n",
              "    <tr>\n",
              "      <th>2021-07-06</th>\n",
              "      <td>34577.37</td>\n",
              "      <td>3305.21</td>\n",
              "    </tr>\n",
              "    <tr>\n",
              "      <th>2021-07-07</th>\n",
              "      <td>34642.46</td>\n",
              "      <td>3285.34</td>\n",
              "    </tr>\n",
              "  </tbody>\n",
              "</table>\n",
              "<p>2879 rows × 2 columns</p>\n",
              "</div>"
            ],
            "text/plain": [
              "                 DOW    KOSPI\n",
              "Date                         \n",
              "2010-06-01  10024.02  1630.40\n",
              "2010-06-02  10249.54  1661.84\n",
              "2010-06-03  10255.28  1661.84\n",
              "2010-06-04   9931.97  1664.13\n",
              "2010-06-07   9816.49  1637.97\n",
              "...              ...      ...\n",
              "2021-07-01  34633.53  3282.06\n",
              "2021-07-02  34786.35  3281.78\n",
              "2021-07-05  34577.37  3293.21\n",
              "2021-07-06  34577.37  3305.21\n",
              "2021-07-07  34642.46  3285.34\n",
              "\n",
              "[2879 rows x 2 columns]"
            ]
          },
          "metadata": {
            "tags": []
          },
          "execution_count": 8
        }
      ]
    },
    {
      "cell_type": "code",
      "metadata": {
        "colab": {
          "base_uri": "https://localhost:8080/",
          "height": 455
        },
        "id": "yZLOm4cm2LS0",
        "outputId": "ff70dec5-cd9d-44c4-f75f-1b87dfe85733"
      },
      "source": [
        "# 앞의 값으로 채운다\n",
        "df = df.fillna(method='ffill')\n",
        "df"
      ],
      "execution_count": null,
      "outputs": [
        {
          "output_type": "execute_result",
          "data": {
            "text/html": [
              "<div>\n",
              "<style scoped>\n",
              "    .dataframe tbody tr th:only-of-type {\n",
              "        vertical-align: middle;\n",
              "    }\n",
              "\n",
              "    .dataframe tbody tr th {\n",
              "        vertical-align: top;\n",
              "    }\n",
              "\n",
              "    .dataframe thead th {\n",
              "        text-align: right;\n",
              "    }\n",
              "</style>\n",
              "<table border=\"1\" class=\"dataframe\">\n",
              "  <thead>\n",
              "    <tr style=\"text-align: right;\">\n",
              "      <th></th>\n",
              "      <th>DOW</th>\n",
              "      <th>KOSPI</th>\n",
              "    </tr>\n",
              "    <tr>\n",
              "      <th>Date</th>\n",
              "      <th></th>\n",
              "      <th></th>\n",
              "    </tr>\n",
              "  </thead>\n",
              "  <tbody>\n",
              "    <tr>\n",
              "      <th>2010-06-01</th>\n",
              "      <td>10024.02</td>\n",
              "      <td>1630.40</td>\n",
              "    </tr>\n",
              "    <tr>\n",
              "      <th>2010-06-02</th>\n",
              "      <td>10249.54</td>\n",
              "      <td>1661.84</td>\n",
              "    </tr>\n",
              "    <tr>\n",
              "      <th>2010-06-03</th>\n",
              "      <td>10255.28</td>\n",
              "      <td>1661.84</td>\n",
              "    </tr>\n",
              "    <tr>\n",
              "      <th>2010-06-04</th>\n",
              "      <td>9931.97</td>\n",
              "      <td>1664.13</td>\n",
              "    </tr>\n",
              "    <tr>\n",
              "      <th>2010-06-07</th>\n",
              "      <td>9816.49</td>\n",
              "      <td>1637.97</td>\n",
              "    </tr>\n",
              "    <tr>\n",
              "      <th>...</th>\n",
              "      <td>...</td>\n",
              "      <td>...</td>\n",
              "    </tr>\n",
              "    <tr>\n",
              "      <th>2021-07-01</th>\n",
              "      <td>34633.53</td>\n",
              "      <td>3282.06</td>\n",
              "    </tr>\n",
              "    <tr>\n",
              "      <th>2021-07-02</th>\n",
              "      <td>34786.35</td>\n",
              "      <td>3281.78</td>\n",
              "    </tr>\n",
              "    <tr>\n",
              "      <th>2021-07-05</th>\n",
              "      <td>34577.37</td>\n",
              "      <td>3293.21</td>\n",
              "    </tr>\n",
              "    <tr>\n",
              "      <th>2021-07-06</th>\n",
              "      <td>34577.37</td>\n",
              "      <td>3305.21</td>\n",
              "    </tr>\n",
              "    <tr>\n",
              "      <th>2021-07-07</th>\n",
              "      <td>34642.46</td>\n",
              "      <td>3285.34</td>\n",
              "    </tr>\n",
              "  </tbody>\n",
              "</table>\n",
              "<p>2879 rows × 2 columns</p>\n",
              "</div>"
            ],
            "text/plain": [
              "                 DOW    KOSPI\n",
              "Date                         \n",
              "2010-06-01  10024.02  1630.40\n",
              "2010-06-02  10249.54  1661.84\n",
              "2010-06-03  10255.28  1661.84\n",
              "2010-06-04   9931.97  1664.13\n",
              "2010-06-07   9816.49  1637.97\n",
              "...              ...      ...\n",
              "2021-07-01  34633.53  3282.06\n",
              "2021-07-02  34786.35  3281.78\n",
              "2021-07-05  34577.37  3293.21\n",
              "2021-07-06  34577.37  3305.21\n",
              "2021-07-07  34642.46  3285.34\n",
              "\n",
              "[2879 rows x 2 columns]"
            ]
          },
          "metadata": {
            "tags": []
          },
          "execution_count": 9
        }
      ]
    },
    {
      "cell_type": "code",
      "metadata": {
        "id": "3DwufdZ42Owt"
      },
      "source": [
        "corr = df.corr()"
      ],
      "execution_count": null,
      "outputs": []
    },
    {
      "cell_type": "code",
      "metadata": {
        "colab": {
          "base_uri": "https://localhost:8080/",
          "height": 112
        },
        "id": "XnmyKSfs2c3o",
        "outputId": "fbd3bd29-cfcd-4b67-a78d-47eac5fc5600"
      },
      "source": [
        "corr"
      ],
      "execution_count": null,
      "outputs": [
        {
          "output_type": "execute_result",
          "data": {
            "text/html": [
              "<div>\n",
              "<style scoped>\n",
              "    .dataframe tbody tr th:only-of-type {\n",
              "        vertical-align: middle;\n",
              "    }\n",
              "\n",
              "    .dataframe tbody tr th {\n",
              "        vertical-align: top;\n",
              "    }\n",
              "\n",
              "    .dataframe thead th {\n",
              "        text-align: right;\n",
              "    }\n",
              "</style>\n",
              "<table border=\"1\" class=\"dataframe\">\n",
              "  <thead>\n",
              "    <tr style=\"text-align: right;\">\n",
              "      <th></th>\n",
              "      <th>DOW</th>\n",
              "      <th>KOSPI</th>\n",
              "    </tr>\n",
              "  </thead>\n",
              "  <tbody>\n",
              "    <tr>\n",
              "      <th>DOW</th>\n",
              "      <td>1.00000</td>\n",
              "      <td>0.76376</td>\n",
              "    </tr>\n",
              "    <tr>\n",
              "      <th>KOSPI</th>\n",
              "      <td>0.76376</td>\n",
              "      <td>1.00000</td>\n",
              "    </tr>\n",
              "  </tbody>\n",
              "</table>\n",
              "</div>"
            ],
            "text/plain": [
              "           DOW    KOSPI\n",
              "DOW    1.00000  0.76376\n",
              "KOSPI  0.76376  1.00000"
            ]
          },
          "metadata": {
            "tags": []
          },
          "execution_count": 13
        }
      ]
    },
    {
      "cell_type": "code",
      "metadata": {
        "colab": {
          "base_uri": "https://localhost:8080/"
        },
        "id": "pm_DQw7h2T8c",
        "outputId": "964217e5-7205-4f3d-a68d-58f612688e5c"
      },
      "source": [
        "corr.values"
      ],
      "execution_count": null,
      "outputs": [
        {
          "output_type": "execute_result",
          "data": {
            "text/plain": [
              "array([[1.       , 0.7637595],\n",
              "       [0.7637595, 1.       ]])"
            ]
          },
          "metadata": {
            "tags": []
          },
          "execution_count": 12
        }
      ]
    },
    {
      "cell_type": "code",
      "metadata": {
        "id": "H_rPBXPU2ZkT"
      },
      "source": [
        "column_names = ['DOW', 'KOSPI']"
      ],
      "execution_count": null,
      "outputs": []
    },
    {
      "cell_type": "code",
      "metadata": {
        "colab": {
          "base_uri": "https://localhost:8080/",
          "height": 267
        },
        "id": "HRFt65j32ffs",
        "outputId": "cc009cc2-7ed4-40aa-a275-74af831a9925"
      },
      "source": [
        "# 레이블의 폰트 사이즈를 조정\n",
        "sns.set(font_scale=2.0)\n",
        "\n",
        "test_heatmap = sns.heatmap(corr.values, # 데이터\n",
        "                          cbar = False, # 오른쪽 컬러 막대 출력 여부\n",
        "                           annot = True, # 차트에 숫자를 보여줄 것인지 여부\n",
        "                          annot_kws={'size' : 20}, # 숫자 출력 시 숫자 크기 조절\n",
        "                           fmt = '.2f', # 숫자의 출력 소수점자리 개수 조절\n",
        "                           square = 'True', # 차트를 정사각형으로 할 것인지\n",
        "                          yticklabels=column_names, # y축에 컬럼명 출력\n",
        "                          xticklabels=column_names) # x축에 컬럼명 출력\n",
        "plt.tight_layout()\n",
        "plt.show()"
      ],
      "execution_count": null,
      "outputs": [
        {
          "output_type": "display_data",
          "data": {
            "image/png": "[encoded data removed]",
            "text/plain": [
              "<Figure size 432x288 with 1 Axes>"
            ]
          },
          "metadata": {
            "tags": []
          }
        }
      ]
    },
    {
      "cell_type": "markdown",
      "metadata": {
        "id": "hBztg9WW2_ep"
      },
      "source": [
        "##Quiz #2"
      ]
    },
    {
      "cell_type": "markdown",
      "metadata": {
        "id": "zBGhJ0dL3F_R"
      },
      "source": [
        "2강에서 상관관계를 위한 시각화로 seaborn의 pairplot()을 배웠습니다.  \n",
        "다우존스 지수와 코스피 지수로 pairplot()을 사용하여 산점도를 시각화하세요."
      ]
    },
    {
      "cell_type": "code",
      "source": [
        "sns.set(style='whitegrid')\n",
        "sns.pairplot(df)\n",
        "plt.show()"
      ],
      "metadata": {
        "colab": {
          "base_uri": "https://localhost:8080/",
          "height": 372
        },
        "id": "CXcTV5ytFAuq",
        "outputId": "6fa4ab7b-52a2-47c5-8c78-4c5338428d31"
      },
      "execution_count": 71,
      "outputs": [
        {
          "output_type": "display_data",
          "data": {
            "text/plain": [
              "<Figure size 360x360 with 6 Axes>"
            ],
            "image/png": "[encoded data removed]"
          },
          "metadata": {}
        }
      ]
    },
    {
      "cell_type": "markdown",
      "metadata": {
        "id": "fBipJLPM3Q-O"
      },
      "source": [
        "## Quiz #2 풀이"
      ]
    },
    {
      "cell_type": "markdown",
      "metadata": {
        "id": "M09Auq2c3WcP"
      },
      "source": [
        "해당 풀이는 Quiz #1에서 얻은 데이터프레임을 가지고 수행한다는 가정 하에서 작성된 코드임."
      ]
    },
    {
      "cell_type": "code",
      "metadata": {
        "colab": {
          "base_uri": "https://localhost:8080/",
          "height": 372
        },
        "id": "yjz7MAIi22ni",
        "outputId": "1a8ead5c-2bed-4c7b-d5bc-ee97d1d4222d"
      },
      "source": [
        "# 시각화 라이브러리를 이용한 피처간의 scatter plot을 출력합니다.\n",
        "sns.set(style='whitegrid')\n",
        "sns.pairplot(df)\n",
        "plt.show()"
      ],
      "execution_count": null,
      "outputs": [
        {
          "output_type": "display_data",
          "data": {
            "image/png": "[encoded data removed]",
            "text/plain": [
              "<Figure size 360x360 with 6 Axes>"
            ]
          },
          "metadata": {
            "tags": []
          }
        }
      ]
    },
    {
      "cell_type": "markdown",
      "metadata": {
        "id": "YKmjusLM33W-"
      },
      "source": [
        "## Quiz #3"
      ]
    },
    {
      "cell_type": "markdown",
      "metadata": {
        "id": "9maqBQ7b4EqE"
      },
      "source": [
        "수업에서는 다우존스 지수로부터 코스피 지수를 예측했습니다. 반대로 사이파이 패키지를 사용하여 코스피 지수로부터 다우존스 지수를 예측하는 선형 회귀 모델을 학습하고 기울기(slope)와 Y절편(intercept)의 값을 얻으세요."
      ]
    },
    {
      "cell_type": "code",
      "source": [
        "from scipy import stats\n",
        "\n",
        "regr = stats.linregress(df['KOSPI'],df['DOW'])\n",
        "# print(regr)\n",
        "print(\"기울기 : \",regr.slope)\n",
        "print(\"상수 : \",regr.intercept)\n"
      ],
      "metadata": {
        "colab": {
          "base_uri": "https://localhost:8080/"
        },
        "id": "ucRi6HLLFW98",
        "outputId": "cec72639-4c21-4fdb-e4aa-752555a40269"
      },
      "execution_count": 78,
      "outputs": [
        {
          "output_type": "stream",
          "name": "stdout",
          "text": [
            "기울기 :  16.79321217909059\n",
            "상수 :  -15960.44306979972\n"
          ]
        }
      ]
    },
    {
      "cell_type": "markdown",
      "metadata": {
        "id": "a2mNc6Ao4GSE"
      },
      "source": [
        "## Quiz #3 풀이"
      ]
    },
    {
      "cell_type": "markdown",
      "metadata": {
        "id": "Nv5C4ibW4KB9"
      },
      "source": [
        "해당 풀이는 Quiz #1에서 얻은 데이터프레임을 가지고 수행한다는 가정 하에서 작성된 코드임.  \n",
        "실행 시점에 따라서 기울기와 Y절편은 강사가 얻은 값과 다소 다를 수 있음."
      ]
    },
    {
      "cell_type": "code",
      "metadata": {
        "id": "O23q01Jm23GQ"
      },
      "source": [
        "from scipy import stats"
      ],
      "execution_count": null,
      "outputs": []
    },
    {
      "cell_type": "code",
      "metadata": {
        "colab": {
          "base_uri": "https://localhost:8080/"
        },
        "id": "VVwjvacU4MhU",
        "outputId": "f77c74d4-6749-4d9c-9bd6-24da7e7b1290"
      },
      "source": [
        "regr = stats.linregress(df['KOSPI'], df['DOW'])\n",
        "regr"
      ],
      "execution_count": null,
      "outputs": [
        {
          "output_type": "execute_result",
          "data": {
            "text/plain": [
              "LinregressResult(slope=15.850132999580802, intercept=-14162.233877918618, rvalue=0.7637595010437794, pvalue=0.0, stderr=0.2497486864326557)"
            ]
          },
          "metadata": {
            "tags": []
          },
          "execution_count": 25
        }
      ]
    },
    {
      "cell_type": "code",
      "metadata": {
        "colab": {
          "base_uri": "https://localhost:8080/"
        },
        "id": "lNrWhGf84QG0",
        "outputId": "4d256036-d4bd-45d8-a187-90a936dbec27"
      },
      "source": [
        "# 기울기만 별도 출력\n",
        "regr.slope"
      ],
      "execution_count": null,
      "outputs": [
        {
          "output_type": "execute_result",
          "data": {
            "text/plain": [
              "15.850132999580802"
            ]
          },
          "metadata": {
            "tags": []
          },
          "execution_count": 26
        }
      ]
    },
    {
      "cell_type": "code",
      "metadata": {
        "colab": {
          "base_uri": "https://localhost:8080/"
        },
        "id": "9Z1Mvuc_4R9c",
        "outputId": "85cdcd14-90f5-4685-bb31-100ff1e75e9e"
      },
      "source": [
        "# Y 절편만 별도 출력\n",
        "regr.intercept"
      ],
      "execution_count": null,
      "outputs": [
        {
          "output_type": "execute_result",
          "data": {
            "text/plain": [
              "-14162.233877918618"
            ]
          },
          "metadata": {
            "tags": []
          },
          "execution_count": 27
        }
      ]
    }
  ]
}