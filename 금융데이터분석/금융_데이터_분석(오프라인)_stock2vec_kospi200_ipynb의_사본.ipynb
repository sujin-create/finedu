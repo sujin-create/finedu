{
  "nbformat": 4,
  "nbformat_minor": 0,
  "metadata": {
    "kernelspec": {
      "display_name": "Python 3",
      "language": "python",
      "name": "python3"
    },
    "language_info": {
      "codemirror_mode": {
        "name": "ipython",
        "version": 3
      },
      "file_extension": ".py",
      "mimetype": "text/x-python",
      "name": "python",
      "nbconvert_exporter": "python",
      "pygments_lexer": "ipython3",
      "version": "3.7.4"
    },
    "colab": {
      "name": "금융 데이터 분석(오프라인) stock2vec : kospi200.ipynb의 사본",
      "provenance": [],
      "collapsed_sections": [],
      "include_colab_link": true
    }
  },
  "cells": [
    {
      "cell_type": "markdown",
      "metadata": {
        "id": "view-in-github",
        "colab_type": "text"
      },
      "source": [
        "<a href=\"https://colab.research.google.com/github/sujin-create/finedu/blob/main/%EA%B8%88%EC%9C%B5%EB%8D%B0%EC%9D%B4%ED%84%B0%EB%B6%84%EC%84%9D/%EA%B8%88%EC%9C%B5_%EB%8D%B0%EC%9D%B4%ED%84%B0_%EB%B6%84%EC%84%9D(%EC%98%A4%ED%94%84%EB%9D%BC%EC%9D%B8)_stock2vec_kospi200_ipynb%EC%9D%98_%EC%82%AC%EB%B3%B8.ipynb\" target=\"_parent\"><img src=\"https://colab.research.google.com/assets/colab-badge.svg\" alt=\"Open In Colab\"/></a>"
      ]
    },
    {
      "cell_type": "code",
      "metadata": {
        "colab": {
          "base_uri": "https://localhost:8080/"
        },
        "id": "w68desjxA-RV",
        "outputId": "8a2d906a-033c-4115-c511-9833c361b9af"
      },
      "source": [
        "import matplotlib as mpl\n",
        "import matplotlib.pyplot as plt # 차트를 그리기 위한 matplotlib을 임포트\n",
        " \n",
        "%config InlineBackend.figure_format = 'retina'\n",
        " \n",
        "!apt -qq -y install fonts-nanum\n",
        " \n",
        "import matplotlib.font_manager as fm\n",
        "fontpath = '/usr/share/fonts/truetype/nanum/NanumBarunGothic.ttf'\n",
        "font = fm.FontProperties(fname=fontpath, size=9)\n",
        "plt.rc('font', family='NanumBarunGothic') \n",
        "mpl.font_manager._rebuild()"
      ],
      "execution_count": null,
      "outputs": [
        {
          "output_type": "stream",
          "name": "stdout",
          "text": [
            "The following package was automatically installed and is no longer required:\n",
            "  libnvidia-common-460\n",
            "Use 'apt autoremove' to remove it.\n",
            "The following NEW packages will be installed:\n",
            "  fonts-nanum\n",
            "0 upgraded, 1 newly installed, 0 to remove and 49 not upgraded.\n",
            "Need to get 9,604 kB of archives.\n",
            "After this operation, 29.5 MB of additional disk space will be used.\n"
          ]
        }
      ]
    },
    {
      "cell_type": "markdown",
      "metadata": {
        "id": "CO5N9XibVYfa"
      },
      "source": [
        "# 1. KOSPI 200에 대한 종목명과 종목 코드, 그리고 종가 얻기"
      ]
    },
    {
      "cell_type": "code",
      "metadata": {
        "id": "OIcf7xL-tGlx",
        "colab": {
          "base_uri": "https://localhost:8080/"
        },
        "outputId": "76546032-c4f8-48c3-c79d-27f35499013a"
      },
      "source": [
        "!pip install finance-datareader"
      ],
      "execution_count": 1,
      "outputs": [
        {
          "output_type": "stream",
          "name": "stdout",
          "text": [
            "Looking in indexes: https://pypi.org/simple, https://us-python.pkg.dev/colab-wheels/public/simple/\n",
            "Collecting finance-datareader\n",
            "  Downloading finance_datareader-0.9.34-py3-none-any.whl (17 kB)\n",
            "Requirement already satisfied: tqdm in /usr/local/lib/python3.7/dist-packages (from finance-datareader) (4.64.0)\n",
            "Collecting requests-file\n",
            "  Downloading requests_file-1.5.1-py2.py3-none-any.whl (3.7 kB)\n",
            "Requirement already satisfied: requests>=2.3.0 in /usr/local/lib/python3.7/dist-packages (from finance-datareader) (2.23.0)\n",
            "Requirement already satisfied: lxml in /usr/local/lib/python3.7/dist-packages (from finance-datareader) (4.2.6)\n",
            "Requirement already satisfied: pandas>=0.19.2 in /usr/local/lib/python3.7/dist-packages (from finance-datareader) (1.3.5)\n",
            "Requirement already satisfied: numpy>=1.17.3 in /usr/local/lib/python3.7/dist-packages (from pandas>=0.19.2->finance-datareader) (1.21.6)\n",
            "Requirement already satisfied: python-dateutil>=2.7.3 in /usr/local/lib/python3.7/dist-packages (from pandas>=0.19.2->finance-datareader) (2.8.2)\n",
            "Requirement already satisfied: pytz>=2017.3 in /usr/local/lib/python3.7/dist-packages (from pandas>=0.19.2->finance-datareader) (2022.1)\n",
            "Requirement already satisfied: six>=1.5 in /usr/local/lib/python3.7/dist-packages (from python-dateutil>=2.7.3->pandas>=0.19.2->finance-datareader) (1.15.0)\n",
            "Requirement already satisfied: urllib3!=1.25.0,!=1.25.1,<1.26,>=1.21.1 in /usr/local/lib/python3.7/dist-packages (from requests>=2.3.0->finance-datareader) (1.24.3)\n",
            "Requirement already satisfied: idna<3,>=2.5 in /usr/local/lib/python3.7/dist-packages (from requests>=2.3.0->finance-datareader) (2.10)\n",
            "Requirement already satisfied: chardet<4,>=3.0.2 in /usr/local/lib/python3.7/dist-packages (from requests>=2.3.0->finance-datareader) (3.0.4)\n",
            "Requirement already satisfied: certifi>=2017.4.17 in /usr/local/lib/python3.7/dist-packages (from requests>=2.3.0->finance-datareader) (2022.6.15)\n",
            "Installing collected packages: requests-file, finance-datareader\n",
            "Successfully installed finance-datareader-0.9.34 requests-file-1.5.1\n"
          ]
        }
      ]
    },
    {
      "cell_type": "code",
      "metadata": {
        "id": "BTlPhlUhM8Ae"
      },
      "source": [
        "import FinanceDataReader as fdr\n",
        "from bs4 import BeautifulSoup\n",
        "import urllib.request as req\n",
        "import requests\n",
        "import numpy as np\n",
        "from tqdm import tqdm"
      ],
      "execution_count": 2,
      "outputs": []
    },
    {
      "cell_type": "markdown",
      "metadata": {
        "id": "nMXtZMyzVikD"
      },
      "source": [
        "##1-1. 종목명과 종목 코드 얻기"
      ]
    },
    {
      "cell_type": "markdown",
      "metadata": {
        "id": "WfEZg-cqVlcc"
      },
      "source": [
        "https://finance.naver.com/sise/entryJongmok.nhn?&page=1\n",
        "\n",
        "위의 링크를 들어가보시면 코스피 시가 총액 순으로 정렬되어져 있는 각 종목에 대한 정보가 나옵니다.  \n",
        "\n",
        "* page의 숫자를 바꾸면 페이지 이동이 가능합니다. => 이를 이용해서 200개 종목을 대상으로 삼습니다.\n",
        "* 종목명과 해당 종목에 대한 종목 코드를 어떻게 얻을지 고민해야 합니다."
      ]
    },
    {
      "cell_type": "markdown",
      "metadata": {
        "id": "lmBwDCHtV7cg"
      },
      "source": [
        "1페이지의 10개 종목에 대해서 종목과 종목 코드를 뽑아봅시다."
      ]
    },
    {
      "cell_type": "code",
      "metadata": {
        "id": "XJbdii_1WEWg"
      },
      "source": [
        "url = 'https://finance.naver.com/sise/entryJongmok.nhn?&page=1'"
      ],
      "execution_count": 3,
      "outputs": []
    },
    {
      "cell_type": "markdown",
      "metadata": {
        "id": "USpkM5pLW7bY"
      },
      "source": [
        "* 변수 = requests.get('주소')  \n",
        "* 변수명.content  \n",
        "\n",
        "위 코드는 해당 주소의 HTML 코드를 불러옵니다."
      ]
    },
    {
      "cell_type": "code",
      "metadata": {
        "colab": {
          "base_uri": "https://localhost:8080/"
        },
        "id": "DvnaEz0vWnBF",
        "outputId": "5f5f515c-4769-45ae-d298-0f26ae3b739f"
      },
      "source": [
        "r = requests.get(url)\n",
        "r.content"
      ],
      "execution_count": 4,
      "outputs": [
        {
          "output_type": "execute_result",
          "data": {
            "text/plain": [
              "b'<!DOCTYPE HTML PUBLIC \"-//W3C//DTD HTML 4.01 Transitional//EN\">\\n<html>\\n<head>\\n<meta http-equiv=\"Content-Type\" content=\"text/html; charset=euc-kr\">\\n<title>\\xb3\\xd7\\xc0\\xcc\\xb9\\xf6 \\xb1\\xdd\\xc0\\xb6</title>\\n\\n<link rel=\"stylesheet\" type=\"text/css\" href=\"https://ssl.pstatic.net/imgstock/static.pc/20220719195125/css/newstock.css\">\\n<link rel=\"stylesheet\" type=\"text/css\" href=\"https://ssl.pstatic.net/imgstock/static.pc/20220719195125/css/common.css\">\\n<link rel=\"stylesheet\" type=\"text/css\" href=\"https://ssl.pstatic.net/imgstock/static.pc/20220719195125/css/layout.css\">\\n<link rel=\"stylesheet\" type=\"text/css\" href=\"https://ssl.pstatic.net/imgstock/static.pc/20220719195125/css/main.css\">\\n<link rel=\"stylesheet\" type=\"text/css\" href=\"https://ssl.pstatic.net/imgstock/static.pc/20220719195125/css/newstock2.css\">\\n<link rel=\"stylesheet\" type=\"text/css\" href=\"https://ssl.pstatic.net/imgstock/static.pc/20220719195125/css/newstock3.css\">\\n<link rel=\"stylesheet\" type=\"text/css\" href=\"https://ssl.pstatic.net/imgstock/static.pc/20220719195125/css/world.css\">\\n</head>\\n<body>\\n<!-- \\xc6\\xed\\xc0\\xd4\\xc1\\xbe\\xb8\\xf1 \\xbb\\xf3\\xc0\\xa7 -->\\n<div class=\"box_type_m\">\\n\\t<h4 class=\"top_tlt\" style=\"text-align:left;\"><em>\\xc6\\xed\\xc0\\xd4\\xc1\\xbe\\xb8\\xf1</em>\\xbb\\xf3\\xc0\\xa7</h4>\\n\\t\\n\\t\\n\\t\\n\\t\\n\\t\\n\\t\\n\\t\\n\\t\\n\\t\\n\\t\\n\\t\\n\\t\\n\\t\\n\\t\\n\\t\\n\\t\\n\\t<table class=\"type_1\" cellSpacing=\"0\" cellPadding=\"0\" style=\\xa1\\xb1table-layout:fixed;\\xa1\\xb1>\\n\\t<col width=\"119\"><col width=\"69\"><col width=\"79\"><col width=\"67\"><col width=\"71\"><col width=\"100\"><col width=\"89\">\\n\\t<tr>\\n\\t\\t<th class=\"tl\" style=\"padding-left:15\"><a href=\"/sise/entryJongmok.naver?order=itemname&isRightDirection=true\" class=\"sort_down\">\\xc1\\xbe\\xb8\\xf1\\xba\\xb0</a></th>\\n\\t\\t<th class=\"tl\" style=\"padding-left:10\"><a href=\"/sise/entryJongmok.naver?order=now_val&isRightDirection=true\" class=\"sort_down\">\\xc7\\xf6\\xc0\\xe7\\xb0\\xa1</a></th>\\n\\t\\t<th class=\"tr\" style=\"padding-right:10\"><a href=\"/sise/entryJongmok.naver?order=change_val&isRightDirection=true\" class=\"sort_down\">\\xc0\\xfc\\xc0\\xcf\\xba\\xf1</a></th>\\n\\t\\t<th class=\"tr\" style=\"padding-right:10\"><a href=\"/sise/entryJongmok.naver?order=change_rate&isRightDirection=true\" class=\"sort_down\">\\xb5\\xee\\xb6\\xf4\\xb7\\xfc</a></th>\\n\\t\\t<th class=\"ls tr\" style=\"padding-right:8\"><a href=\"/sise/entryJongmok.naver?order=acc_quant&isRightDirection=true\" class=\"sort_down\">\\xb0\\xc5\\xb7\\xa1\\xb7\\xae</a></th>\\n\\t\\t<th class=\"ls tr\" style=\"padding-right:13\"><a href=\"/sise/entryJongmok.naver?order=acc_amount&isRightDirection=true\" class=\"sort_down\">\\xb0\\xc5\\xb7\\xa1\\xb4\\xeb\\xb1\\xdd<span class=\"add_txt\">(\\xb9\\xe9\\xb8\\xb8)</span></a></th>\\n\\t\\t<th class=\"ls tr\" style=\"padding-right:14\"><a href=\"/sise/entryJongmok.naver?order=market_sum&isRightDirection=false\" class=\"sort_up\">\\xbd\\xc3\\xb0\\xa1\\xc3\\xd1\\xbe\\xd7<span class=\"add_txt\">(\\xbe\\xef)</span></a></th>\\n\\t</tr>\\n\\t<tr><td colspan=\"7\" class=\"blank_07\"></td></tr>\\n\\t\\n\\t<tr>\\n\\t\\t<td class=\"ctg\"><a href=\"/item/main.naver?code=005930\" target=\"_parent\">\\xbb\\xef\\xbc\\xba\\xc0\\xfc\\xc0\\xda</a></td>\\n\\t\\t<td class=\"number_2\">61,300</td>\\n\\t\\t<td class=\"rate_down2\">\\n\\t\\t\\t\\t<img src=\"https://ssl.pstatic.net/imgstock/images/images4/ico_down.gif\" width=\"7\" height=\"6\" style=\"margin-right:4px;\" alt=\"\\xc7\\xcf\\xb6\\xf4\"><span class=\"tah p11 nv01\">\\n\\t\\t\\t\\t500\\n\\t\\t\\t\\t</span>\\n\\t\\t\\t</span>\\n\\t\\t</td>\\n\\t\\t<td class=\"number_2\">\\n\\t\\t\\t\\t<span class=\"tah p11 nv01\">\\n\\t\\t\\t\\t-0.81%\\n\\t\\t\\t\\t</span>\\n\\t\\t\\t</span>\\n\\t\\t</td>\\n\\t\\t<td class=\"number\">10,235,096</td>\\n\\t\\t<td class=\"number_2\">630,265</td>\\n\\t\\t<td class=\"number_2\">3,659,477</td>\\n\\t</tr>\\n\\t\\n\\t<tr>\\n\\t\\t<td class=\"ctg\"><a href=\"/item/main.naver?code=373220\" target=\"_parent\">LG\\xbf\\xa1\\xb3\\xca\\xc1\\xf6\\xbc\\xd6\\xb7\\xe7\\xbc\\xc7</a></td>\\n\\t\\t<td class=\"number_2\">382,000</td>\\n\\t\\t<td class=\"rate_down2\">\\n\\t\\t\\t\\t<img src=\"https://ssl.pstatic.net/imgstock/images/images4/ico_down.gif\" width=\"7\" height=\"6\" style=\"margin-right:4px;\" alt=\"\\xc7\\xcf\\xb6\\xf4\"><span class=\"tah p11 nv01\">\\n\\t\\t\\t\\t8,500\\n\\t\\t\\t\\t</span>\\n\\t\\t\\t</span>\\n\\t\\t</td>\\n\\t\\t<td class=\"number_2\">\\n\\t\\t\\t\\t<span class=\"tah p11 nv01\">\\n\\t\\t\\t\\t-2.18%\\n\\t\\t\\t\\t</span>\\n\\t\\t\\t</span>\\n\\t\\t</td>\\n\\t\\t<td class=\"number\">299,228</td>\\n\\t\\t<td class=\"number_2\">115,131</td>\\n\\t\\t<td class=\"number_2\">893,880</td>\\n\\t</tr>\\n\\t\\n\\t<tr>\\n\\t\\t<td class=\"ctg\"><a href=\"/item/main.naver?code=000660\" target=\"_parent\">SK\\xc7\\xcf\\xc0\\xcc\\xb4\\xd0\\xbd\\xba</a></td>\\n\\t\\t<td class=\"number_2\">100,000</td>\\n\\t\\t<td class=\"rate_down2\">\\n\\t\\t\\t\\t<img src=\"https://ssl.pstatic.net/imgstock/images/images4/ico_down.gif\" width=\"7\" height=\"6\" style=\"margin-right:4px;\" alt=\"\\xc7\\xcf\\xb6\\xf4\"><span class=\"tah p11 nv01\">\\n\\t\\t\\t\\t2,500\\n\\t\\t\\t\\t</span>\\n\\t\\t\\t</span>\\n\\t\\t</td>\\n\\t\\t<td class=\"number_2\">\\n\\t\\t\\t\\t<span class=\"tah p11 nv01\">\\n\\t\\t\\t\\t-2.44%\\n\\t\\t\\t\\t</span>\\n\\t\\t\\t</span>\\n\\t\\t</td>\\n\\t\\t<td class=\"number\">3,101,759</td>\\n\\t\\t<td class=\"number_2\">312,914</td>\\n\\t\\t<td class=\"number_2\">728,002</td>\\n\\t</tr>\\n\\t\\n\\t<tr>\\n\\t\\t<td class=\"ctg\"><a href=\"/item/main.naver?code=207940\" target=\"_parent\">\\xbb\\xef\\xbc\\xba\\xb9\\xd9\\xc0\\xcc\\xbf\\xc0\\xb7\\xce\\xc1\\xf7\\xbd\\xba</a></td>\\n\\t\\t<td class=\"number_2\">829,000</td>\\n\\t\\t<td class=\"rate_down2\">\\n\\t\\t\\t\\t<img src=\"https://ssl.pstatic.net/imgstock/images/images4/ico_up.gif\" width=\"7\" height=\"6\" style=\"margin-right:4px;\" alt=\"\\xbb\\xf3\\xbd\\xc2\"><span class=\"tah p11 red02\">\\n\\t\\t\\t\\t12,000\\n\\t\\t\\t\\t</span>\\n\\t\\t\\t</span>\\n\\t\\t</td>\\n\\t\\t<td class=\"number_2\">\\n\\t\\t\\t\\t<span class=\"tah p11 red01\">\\n\\t\\t\\t\\t+1.47%\\n\\t\\t\\t\\t</span>\\n\\t\\t\\t</span>\\n\\t\\t</td>\\n\\t\\t<td class=\"number\">55,916</td>\\n\\t\\t<td class=\"number_2\">46,175</td>\\n\\t\\t<td class=\"number_2\">590,032</td>\\n\\t</tr>\\n\\t\\n\\t<tr>\\n\\t\\t<td class=\"ctg\"><a href=\"/item/main.naver?code=035420\" target=\"_parent\">NAVER</a></td>\\n\\t\\t<td class=\"number_2\">250,000</td>\\n\\t\\t<td class=\"rate_down2\">\\n\\t\\t\\t\\t<img src=\"https://ssl.pstatic.net/imgstock/images/images4/ico_down.gif\" width=\"7\" height=\"6\" style=\"margin-right:4px;\" alt=\"\\xc7\\xcf\\xb6\\xf4\"><span class=\"tah p11 nv01\">\\n\\t\\t\\t\\t500\\n\\t\\t\\t\\t</span>\\n\\t\\t\\t</span>\\n\\t\\t</td>\\n\\t\\t<td class=\"number_2\">\\n\\t\\t\\t\\t<span class=\"tah p11 nv01\">\\n\\t\\t\\t\\t-0.20%\\n\\t\\t\\t\\t</span>\\n\\t\\t\\t</span>\\n\\t\\t</td>\\n\\t\\t<td class=\"number\">464,859</td>\\n\\t\\t<td class=\"number_2\">116,327</td>\\n\\t\\t<td class=\"number_2\">410,123</td>\\n\\t</tr>\\n\\t\\n\\t<tr>\\n\\t\\t<td class=\"ctg\"><a href=\"/item/main.naver?code=005380\" target=\"_parent\">\\xc7\\xf6\\xb4\\xeb\\xc2\\xf7</a></td>\\n\\t\\t<td class=\"number_2\">191,000</td>\\n\\t\\t<td class=\"rate_down2\">\\n\\t\\t\\t\\t<img src=\"https://ssl.pstatic.net/imgstock/images/images4/ico_up.gif\" width=\"7\" height=\"6\" style=\"margin-right:4px;\" alt=\"\\xbb\\xf3\\xbd\\xc2\"><span class=\"tah p11 red02\">\\n\\t\\t\\t\\t2,000\\n\\t\\t\\t\\t</span>\\n\\t\\t\\t</span>\\n\\t\\t</td>\\n\\t\\t<td class=\"number_2\">\\n\\t\\t\\t\\t<span class=\"tah p11 red01\">\\n\\t\\t\\t\\t+1.06%\\n\\t\\t\\t\\t</span>\\n\\t\\t\\t</span>\\n\\t\\t</td>\\n\\t\\t<td class=\"number\">1,371,361</td>\\n\\t\\t<td class=\"number_2\">261,993</td>\\n\\t\\t<td class=\"number_2\">408,106</td>\\n\\t</tr>\\n\\t\\n\\t<tr>\\n\\t\\t<td class=\"ctg\"><a href=\"/item/main.naver?code=051910\" target=\"_parent\">LG\\xc8\\xad\\xc7\\xd0</a></td>\\n\\t\\t<td class=\"number_2\">561,000</td>\\n\\t\\t<td class=\"rate_down2\">\\n\\t\\t\\t\\t<img src=\"https://ssl.pstatic.net/imgstock/images/images4/ico_down.gif\" width=\"7\" height=\"6\" style=\"margin-right:4px;\" alt=\"\\xc7\\xcf\\xb6\\xf4\"><span class=\"tah p11 nv01\">\\n\\t\\t\\t\\t8,000\\n\\t\\t\\t\\t</span>\\n\\t\\t\\t</span>\\n\\t\\t</td>\\n\\t\\t<td class=\"number_2\">\\n\\t\\t\\t\\t<span class=\"tah p11 nv01\">\\n\\t\\t\\t\\t-1.41%\\n\\t\\t\\t\\t</span>\\n\\t\\t\\t</span>\\n\\t\\t</td>\\n\\t\\t<td class=\"number\">160,638</td>\\n\\t\\t<td class=\"number_2\">90,410</td>\\n\\t\\t<td class=\"number_2\">396,023</td>\\n\\t</tr>\\n\\t\\n\\t<tr>\\n\\t\\t<td class=\"ctg\"><a href=\"/item/main.naver?code=006400\" target=\"_parent\">\\xbb\\xef\\xbc\\xbaSDI</a></td>\\n\\t\\t<td class=\"number_2\">568,000</td>\\n\\t\\t<td class=\"rate_down2\">\\n\\t\\t\\t\\t<img src=\"https://ssl.pstatic.net/imgstock/images/images4/ico_up.gif\" width=\"7\" height=\"6\" style=\"margin-right:4px;\" alt=\"\\xbb\\xf3\\xbd\\xc2\"><span class=\"tah p11 red02\">\\n\\t\\t\\t\\t1,000\\n\\t\\t\\t\\t</span>\\n\\t\\t\\t</span>\\n\\t\\t</td>\\n\\t\\t<td class=\"number_2\">\\n\\t\\t\\t\\t<span class=\"tah p11 red01\">\\n\\t\\t\\t\\t+0.18%\\n\\t\\t\\t\\t</span>\\n\\t\\t\\t</span>\\n\\t\\t</td>\\n\\t\\t<td class=\"number\">142,584</td>\\n\\t\\t<td class=\"number_2\">80,971</td>\\n\\t\\t<td class=\"number_2\">390,583</td>\\n\\t</tr>\\n\\t\\n\\t<tr>\\n\\t\\t<td class=\"ctg\"><a href=\"/item/main.naver?code=000270\" target=\"_parent\">\\xb1\\xe2\\xbe\\xc6</a></td>\\n\\t\\t<td class=\"number_2\">80,900</td>\\n\\t\\t<td class=\"rate_down2\">\\n\\t\\t\\t\\t<img src=\"https://ssl.pstatic.net/imgstock/images/images4/ico_down.gif\" width=\"7\" height=\"6\" style=\"margin-right:4px;\" alt=\"\\xc7\\xcf\\xb6\\xf4\"><span class=\"tah p11 nv01\">\\n\\t\\t\\t\\t1,100\\n\\t\\t\\t\\t</span>\\n\\t\\t\\t</span>\\n\\t\\t</td>\\n\\t\\t<td class=\"number_2\">\\n\\t\\t\\t\\t<span class=\"tah p11 nv01\">\\n\\t\\t\\t\\t-1.34%\\n\\t\\t\\t\\t</span>\\n\\t\\t\\t</span>\\n\\t\\t</td>\\n\\t\\t<td class=\"number\">2,159,258</td>\\n\\t\\t<td class=\"number_2\">176,321</td>\\n\\t\\t<td class=\"number_2\">327,939</td>\\n\\t</tr>\\n\\t\\n\\t<tr>\\n\\t\\t<td class=\"ctg\"><a href=\"/item/main.naver?code=035720\" target=\"_parent\">\\xc4\\xab\\xc4\\xab\\xbf\\xc0</a></td>\\n\\t\\t<td class=\"number_2\">72,100</td>\\n\\t\\t<td class=\"rate_down2\">\\n\\t\\t\\t\\t<img src=\"https://ssl.pstatic.net/imgstock/images/images4/ico_down.gif\" width=\"7\" height=\"6\" style=\"margin-right:4px;\" alt=\"\\xc7\\xcf\\xb6\\xf4\"><span class=\"tah p11 nv01\">\\n\\t\\t\\t\\t1,600\\n\\t\\t\\t\\t</span>\\n\\t\\t\\t</span>\\n\\t\\t</td>\\n\\t\\t<td class=\"number_2\">\\n\\t\\t\\t\\t<span class=\"tah p11 nv01\">\\n\\t\\t\\t\\t-2.17%\\n\\t\\t\\t\\t</span>\\n\\t\\t\\t</span>\\n\\t\\t</td>\\n\\t\\t<td class=\"number\">1,583,094</td>\\n\\t\\t<td class=\"number_2\">114,477</td>\\n\\t\\t<td class=\"number_2\">320,808</td>\\n\\t</tr>\\n\\t\\n\\t<tr><td colspan=\"7\" class=\"blank_09\"></td></tr>\\n\\t<tr><td colspan=\"7\" class=\"division_line\"></td></tr>\\n\\t</table>\\n\\t<!--- \\xc6\\xe4\\xc0\\xcc\\xc1\\xf6 \\xb3\\xd7\\xba\\xf1\\xb0\\xd4\\xc0\\xcc\\xbc\\xc7 \\xbd\\xc3\\xc0\\xdb--->\\n\\t<table summary=\"\\xc6\\xe4\\xc0\\xcc\\xc1\\xf6 \\xb3\\xd7\\xba\\xf1\\xb0\\xd4\\xc0\\xcc\\xbc\\xc7 \\xb8\\xae\\xbd\\xba\\xc6\\xae\" class=\"Nnavi\" align=\"center\">\\n\\t<caption>\\xc6\\xe4\\xc0\\xcc\\xc1\\xf6 \\xb3\\xd7\\xba\\xf1\\xb0\\xd4\\xc0\\xcc\\xbc\\xc7</caption>\\n\\t<tr>\\t\\t\\n\\t\\t\\n\\t\\t\\n\\t\\t\\n\\t\\t<td class=\"on\">\\n\\t\\t\\t\\t<a href=\"/sise/entryJongmok.nhn?&amp;page=1\"  >1</a>\\n\\t\\t\\t\\t</td>\\n<td>\\n\\t\\t\\t\\t<a href=\"/sise/entryJongmok.nhn?&amp;page=2\"  >2</a>\\n\\t\\t\\t\\t</td>\\n<td>\\n\\t\\t\\t\\t<a href=\"/sise/entryJongmok.nhn?&amp;page=3\"  >3</a>\\n\\t\\t\\t\\t</td>\\n<td>\\n\\t\\t\\t\\t<a href=\"/sise/entryJongmok.nhn?&amp;page=4\"  >4</a>\\n\\t\\t\\t\\t</td>\\n<td>\\n\\t\\t\\t\\t<a href=\"/sise/entryJongmok.nhn?&amp;page=5\"  >5</a>\\n\\t\\t\\t\\t</td>\\n<td>\\n\\t\\t\\t\\t<a href=\"/sise/entryJongmok.nhn?&amp;page=6\"  >6</a>\\n\\t\\t\\t\\t</td>\\n<td>\\n\\t\\t\\t\\t<a href=\"/sise/entryJongmok.nhn?&amp;page=7\"  >7</a>\\n\\t\\t\\t\\t</td>\\n<td>\\n\\t\\t\\t\\t<a href=\"/sise/entryJongmok.nhn?&amp;page=8\"  >8</a>\\n\\t\\t\\t\\t</td>\\n<td>\\n\\t\\t\\t\\t<a href=\"/sise/entryJongmok.nhn?&amp;page=9\"  >9</a>\\n\\t\\t\\t\\t</td>\\n<td>\\n\\t\\t\\t\\t<a href=\"/sise/entryJongmok.nhn?&amp;page=10\"  >10</a>\\n\\t\\t\\t\\t</td>\\n\\n\\t\\t<td class=\"pgR\">\\n\\t\\t\\t\\t<a href=\"/sise/entryJongmok.nhn?&amp;page=11\"  >\\n\\t\\t\\t\\t\\xb4\\xd9\\xc0\\xbd<img src=\"https://ssl.pstatic.net/static/n/cmn/bu_pgarR.gif\" width=\"3\" height=\"5\" alt=\"\" border=\"0\">\\n\\t\\t\\t\\t</a>\\n\\t\\t\\t\\t</td>\\n\\n\\t\\t<td class=\"pgRR\">\\n\\t\\t\\t\\t<a href=\"/sise/entryJongmok.nhn?&amp;page=20\"  >\\xb8\\xc7\\xb5\\xda\\n\\t\\t\\t\\t<img src=\"https://ssl.pstatic.net/static/n/cmn/bu_pgarRR.gif\" width=\"8\" height=\"5\" alt=\"\" border=\"0\">\\n\\t\\t\\t\\t</a>\\n\\t\\t\\t\\t</td>\\n\\n\\t\\t\\n\\t</tr>\\n\\t</table>\\n\\t<!--- \\xc6\\xe4\\xc0\\xcc\\xc1\\xf6 \\xb3\\xd7\\xba\\xf1\\xb0\\xd4\\xc0\\xcc\\xbc\\xc7 \\xb3\\xa1--->\\n</div>\\n<!-- //\\xc6\\xed\\xc0\\xd4\\xc1\\xbe\\xb8\\xf1 \\xbb\\xf3\\xc0\\xa7 -->\\n</body>\\n</html>\\n'"
            ]
          },
          "metadata": {},
          "execution_count": 4
        }
      ]
    },
    {
      "cell_type": "markdown",
      "metadata": {
        "id": "gM8zw1iRX0CD"
      },
      "source": [
        "이제 해당 주소로부터 각 종목과 종목 코드를 추출해야 할텐데  \n",
        "이는 마우스 우클릭 > 검사 > Ctrl + F(검색 기능)을 적절히 사용하면 됩니다."
      ]
    },
    {
      "cell_type": "markdown",
      "metadata": {
        "id": "aBaRQvb2YMog"
      },
      "source": [
        "탐색 결과 HTML 코드에서 다음과 같은 형식에서 종목명과 종목코드를 뽑아올 수 있음을 알았습니다."
      ]
    },
    {
      "cell_type": "markdown",
      "metadata": {
        "id": "TTl8VrF9YK3C"
      },
      "source": [
        "```\n",
        "<td class=\"ctg\">\n",
        " <a href=\"/item/main.nhn?code='종목코드' target=\"_parent\">종목명</a>\n",
        "</td>\n",
        "```"
      ]
    },
    {
      "cell_type": "markdown",
      "metadata": {
        "id": "g3qRx48SYu05"
      },
      "source": [
        "BeautifulSoup를 이용하여 해당 주소로부터 태그 td에서 클래스값이 ctg인 경우만 파싱하여 리스트에 저장해봅시다."
      ]
    },
    {
      "cell_type": "code",
      "metadata": {
        "id": "yD-b7NOsYmp9"
      },
      "source": [
        "soup = BeautifulSoup(r.content, \"html.parser\")\n",
        "kospi_list = soup.select(\"td.ctg\")"
      ],
      "execution_count": 5,
      "outputs": []
    },
    {
      "cell_type": "code",
      "metadata": {
        "colab": {
          "base_uri": "https://localhost:8080/"
        },
        "id": "zhKzBHuDYqfF",
        "outputId": "dcd65c92-5190-4101-b863-2792f97de1f0"
      },
      "source": [
        "kospi_list"
      ],
      "execution_count": 6,
      "outputs": [
        {
          "output_type": "execute_result",
          "data": {
            "text/plain": [
              "[<td class=\"ctg\"><a href=\"/item/main.naver?code=005930\" target=\"_parent\">삼성전자</a></td>,\n",
              " <td class=\"ctg\"><a href=\"/item/main.naver?code=373220\" target=\"_parent\">LG에너지솔루션</a></td>,\n",
              " <td class=\"ctg\"><a href=\"/item/main.naver?code=000660\" target=\"_parent\">SK하이닉스</a></td>,\n",
              " <td class=\"ctg\"><a href=\"/item/main.naver?code=207940\" target=\"_parent\">삼성바이오로직스</a></td>,\n",
              " <td class=\"ctg\"><a href=\"/item/main.naver?code=035420\" target=\"_parent\">NAVER</a></td>,\n",
              " <td class=\"ctg\"><a href=\"/item/main.naver?code=005380\" target=\"_parent\">현대차</a></td>,\n",
              " <td class=\"ctg\"><a href=\"/item/main.naver?code=051910\" target=\"_parent\">LG화학</a></td>,\n",
              " <td class=\"ctg\"><a href=\"/item/main.naver?code=006400\" target=\"_parent\">삼성SDI</a></td>,\n",
              " <td class=\"ctg\"><a href=\"/item/main.naver?code=000270\" target=\"_parent\">기아</a></td>,\n",
              " <td class=\"ctg\"><a href=\"/item/main.naver?code=035720\" target=\"_parent\">카카오</a></td>]"
            ]
          },
          "metadata": {},
          "execution_count": 6
        }
      ]
    },
    {
      "cell_type": "markdown",
      "metadata": {
        "id": "JGAQTM0qY1DS"
      },
      "source": [
        "1페이지에서 해당 형식을 모두 잡아냈습니다.  \n",
        "여기서 아래의 코드를 사용하면 href 값을 뽑아올 수 있습니다.\n",
        "\n",
        "* 태그명.get('속성의 이름')"
      ]
    },
    {
      "cell_type": "code",
      "metadata": {
        "colab": {
          "base_uri": "https://localhost:8080/"
        },
        "id": "wWQdNWpoZNs0",
        "outputId": "626e478c-1ec6-4ebd-af53-3d18fa3dfa04"
      },
      "source": [
        "kospi_list[0]"
      ],
      "execution_count": 7,
      "outputs": [
        {
          "output_type": "execute_result",
          "data": {
            "text/plain": [
              "<td class=\"ctg\"><a href=\"/item/main.naver?code=005930\" target=\"_parent\">삼성전자</a></td>"
            ]
          },
          "metadata": {},
          "execution_count": 7
        }
      ]
    },
    {
      "cell_type": "code",
      "metadata": {
        "colab": {
          "base_uri": "https://localhost:8080/",
          "height": 36
        },
        "id": "tO104qlfZQWj",
        "outputId": "3f25ca0b-22c9-4450-be85-6995578c91cc"
      },
      "source": [
        "kospi_list[0].a.get('href')"
      ],
      "execution_count": 8,
      "outputs": [
        {
          "output_type": "execute_result",
          "data": {
            "text/plain": [
              "'/item/main.naver?code=005930'"
            ],
            "application/vnd.google.colaboratory.intrinsic+json": {
              "type": "string"
            }
          },
          "metadata": {},
          "execution_count": 8
        }
      ]
    },
    {
      "cell_type": "markdown",
      "metadata": {
        "id": "S-Jo6GXGZT3b"
      },
      "source": [
        "위 코드로부터 005930을 추출하는 방법은 파이썬의 인덱스 슬라이싱을 사용하는 것입니다.  \n",
        "뒤에서 6개의 값만 추출하고자 한다면 다음과 같이 코드를 수행하면 됩니다."
      ]
    },
    {
      "cell_type": "code",
      "metadata": {
        "colab": {
          "base_uri": "https://localhost:8080/",
          "height": 36
        },
        "id": "fiVFt-2jZcw2",
        "outputId": "8393f187-9d5c-4368-d78f-664d1e1a2658"
      },
      "source": [
        "kospi_list[0].a.get('href')[-6:]"
      ],
      "execution_count": 9,
      "outputs": [
        {
          "output_type": "execute_result",
          "data": {
            "text/plain": [
              "'005930'"
            ],
            "application/vnd.google.colaboratory.intrinsic+json": {
              "type": "string"
            }
          },
          "metadata": {},
          "execution_count": 9
        }
      ]
    },
    {
      "cell_type": "markdown",
      "metadata": {
        "id": "oqzBaCSgZfGu"
      },
      "source": [
        "지금까지 배운 것을 응용하여 1페이지부터 20페이지까지 수행합니다.  \n",
        "각 페이지당 10개인데다가 시가총액 순으로 정렬되어져 있으므로  \n",
        "20페이지를 수행하면 KOSPI 상위 200개의 종목명과 종목 코드를 뽑아올 수 있습니다."
      ]
    },
    {
      "cell_type": "markdown",
      "metadata": {
        "id": "NT-3--2RWEzk"
      },
      "source": [
        "##1-2. 20페이지에 대해서 수행하기"
      ]
    },
    {
      "cell_type": "code",
      "metadata": {
        "id": "yMMfE6HYM8Au",
        "colab": {
          "base_uri": "https://localhost:8080/"
        },
        "outputId": "a789e5ae-3bf0-437e-cb23-ad17a656e9a3"
      },
      "source": [
        "kospi200_dict = {}\n",
        "kospi200_list = []\n",
        "Url = \"https://finance.naver.com/sise/entryJongmok.nhn?&page=\"\n",
        "\n",
        "# 1페이지부터 20페이지까지에 대해서 아래의 반복문을 반복.\n",
        "for i in tqdm(range(1,21)):\n",
        "    url = Url + str(i)\n",
        "    r = requests.get(url)\n",
        "    soup = BeautifulSoup(r.content, \"html.parser\")\n",
        "\n",
        "    # td 태그의 클래스 값이 ctg인 경우를 전부 추출\n",
        "    kospi_list = soup.select(\"td.ctg\")\n",
        "    for name in kospi_list:\n",
        "        krx = name.a.get('href')[-6:]\n",
        "        kospi200_dict[krx] = name.string.replace(\" \", \"\")\n",
        "        kospi200_list.append(krx)"
      ],
      "execution_count": 10,
      "outputs": [
        {
          "output_type": "stream",
          "name": "stderr",
          "text": [
            "100%|██████████| 20/20 [00:13<00:00,  1.53it/s]\n"
          ]
        }
      ]
    },
    {
      "cell_type": "code",
      "metadata": {
        "id": "vKaqYK_EM8A7",
        "colab": {
          "base_uri": "https://localhost:8080/"
        },
        "outputId": "f767a9f0-08d2-443d-df01-6e7517577cdc"
      },
      "source": [
        "print('KOSPI 200 리스트의 길이는 : {}'.format(len(kospi200_list)))"
      ],
      "execution_count": 11,
      "outputs": [
        {
          "output_type": "stream",
          "name": "stdout",
          "text": [
            "KOSPI 200 리스트의 길이는 : 200\n"
          ]
        }
      ]
    },
    {
      "cell_type": "code",
      "metadata": {
        "id": "AWQm5dovM8BI",
        "colab": {
          "base_uri": "https://localhost:8080/"
        },
        "outputId": "424e103c-1b27-4bc8-9549-1e56ca8990be"
      },
      "source": [
        "print(kospi200_list)"
      ],
      "execution_count": 12,
      "outputs": [
        {
          "output_type": "stream",
          "name": "stdout",
          "text": [
            "['005930', '373220', '000660', '207940', '035420', '005380', '051910', '006400', '000270', '035720', '068270', '028260', '012330', '005490', '105560', '055550', '096770', '034730', '066570', '323410', '015760', '259960', '003550', '032830', '011200', '034020', '017670', '051900', '033780', '329180', '086790', '009150', '018260', '010950', '302440', '030200', '000810', '003490', '003670', '316140', '010130', '377300', '036570', '090430', '011070', '024110', '352820', '086280', '009830', '326030', '251270', '097950', '361610', '009540', '402340', '011170', '034220', '018880', '383220', '035250', '032640', '011790', '047810', '010140', '021240', '137310', '000720', '004020', '000100', '005830', '267250', '161390', '006800', '271560', '180640', '000060', '028050', '128940', '011780', '078930', '004990', '029780', '071050', '010620', '020150', '036460', '138040', '003410', '002790', '282330', '139480', '005940', '016360', '241560', '008560', '028670', '001450', '008770', '010060', '008930', '064350', '000120', '023530', '204320', '272210', '007070', '030000', '002380', '012450', '006360', '014680', '026960', '012750', '052690', '047050', '001040', '047040', '069620', '042660', '138930', '004170', '039490', '001440', '006280', '000080', '112610', '000990', '336260', '088350', '285130', '000880', '081660', '111770', '006260', '079550', '004370', '019170', '004000', '007310', '051600', '011210', '093370', '003090', '298050', '014820', '004800', '005300', '375500', '069960', '010120', '120110', '005850', '000210', '298020', '009240', '010780', '016380', '001230', '001120', '271940', '000240', '017800', '020560', '000150', '185750', '042670', '001740', '031430', '178920', '073240', '003240', '005250', '000670', '009900', '300720', '001800', '381970', '161890', '009420', '114090', '032350', '013890', '006650', '192820', '039130', '069260', '006040', '192080', '020000', '001680', '005440', '241590', '294870', '004490', '003850', '103140', '284740', '105630', '057050', '000070']\n"
          ]
        }
      ]
    },
    {
      "cell_type": "code",
      "metadata": {
        "id": "s9YNEaC8M8BW",
        "colab": {
          "base_uri": "https://localhost:8080/"
        },
        "outputId": "d3486d88-bde4-4d3a-b169-c9f34fad3b6f"
      },
      "source": [
        "print(kospi200_dict)"
      ],
      "execution_count": 13,
      "outputs": [
        {
          "output_type": "stream",
          "name": "stdout",
          "text": [
            "{'005930': '삼성전자', '373220': 'LG에너지솔루션', '000660': 'SK하이닉스', '207940': '삼성바이오로직스', '035420': 'NAVER', '005380': '현대차', '051910': 'LG화학', '006400': '삼성SDI', '000270': '기아', '035720': '카카오', '068270': '셀트리온', '028260': '삼성물산', '012330': '현대모비스', '005490': 'POSCO홀딩스', '105560': 'KB금융', '055550': '신한지주', '096770': 'SK이노베이션', '034730': 'SK', '066570': 'LG전자', '323410': '카카오뱅크', '015760': '한국전력', '259960': '크래프톤', '003550': 'LG', '032830': '삼성생명', '011200': 'HMM', '034020': '두산에너빌리티', '017670': 'SK텔레콤', '051900': 'LG생활건강', '033780': 'KT&G', '329180': '현대중공업', '086790': '하나금융지주', '009150': '삼성전기', '018260': '삼성에스디에스', '010950': 'S-Oil', '302440': 'SK바이오사이언스', '030200': 'KT', '000810': '삼성화재', '003490': '대한항공', '003670': '포스코케미칼', '316140': '우리금융지주', '010130': '고려아연', '377300': '카카오페이', '036570': '엔씨소프트', '090430': '아모레퍼시픽', '011070': 'LG이노텍', '024110': '기업은행', '352820': '하이브', '086280': '현대글로비스', '009830': '한화솔루션', '326030': 'SK바이오팜', '251270': '넷마블', '097950': 'CJ제일제당', '361610': 'SK아이이테크놀로지', '009540': '한국조선해양', '402340': 'SK스퀘어', '011170': '롯데케미칼', '034220': 'LG디스플레이', '018880': '한온시스템', '383220': 'F&F', '035250': '강원랜드', '032640': 'LG유플러스', '011790': 'SKC', '047810': '한국항공우주', '010140': '삼성중공업', '021240': '코웨이', '137310': '에스디바이오센서', '000720': '현대건설', '004020': '현대제철', '000100': '유한양행', '005830': 'DB손해보험', '267250': 'HD현대', '161390': '한국타이어앤테크놀로지', '006800': '미래에셋증권', '271560': '오리온', '180640': '한진칼', '000060': '메리츠화재', '028050': '삼성엔지니어링', '128940': '한미약품', '011780': '금호석유', '078930': 'GS', '004990': '롯데지주', '029780': '삼성카드', '071050': '한국금융지주', '010620': '현대미포조선', '020150': '일진머티리얼즈', '036460': '한국가스공사', '138040': '메리츠금융지주', '003410': '쌍용C&E', '002790': '아모레G', '282330': 'BGF리테일', '139480': '이마트', '005940': 'NH투자증권', '016360': '삼성증권', '241560': '두산밥캣', '008560': '메리츠증권', '028670': '팬오션', '001450': '현대해상', '008770': '호텔신라', '010060': 'OCI', '008930': '한미사이언스', '064350': '현대로템', '000120': 'CJ대한통운', '023530': '롯데쇼핑', '204320': '만도', '272210': '한화시스템', '007070': 'GS리테일', '030000': '제일기획', '002380': 'KCC', '012450': '한화에어로스페이스', '006360': 'GS건설', '014680': '한솔케미칼', '026960': '동서', '012750': '에스원', '052690': '한전기술', '047050': '포스코인터내셔널', '001040': 'CJ', '047040': '대우건설', '069620': '대웅제약', '042660': '대우조선해양', '138930': 'BNK금융지주', '004170': '신세계', '039490': '키움증권', '001440': '대한전선', '006280': '녹십자', '000080': '하이트진로', '112610': '씨에스윈드', '000990': 'DB하이텍', '336260': '두산퓨얼셀', '088350': '한화생명', '285130': 'SK케미칼', '000880': '한화', '081660': '휠라홀딩스', '111770': '영원무역', '006260': 'LS', '079550': 'LIG넥스원', '004370': '농심', '019170': '신풍제약', '004000': '롯데정밀화학', '007310': '오뚜기', '051600': '한전KPS', '011210': '현대위아', '093370': '후성', '003090': '대웅', '298050': '효성첨단소재', '014820': '동원시스템즈', '004800': '효성', '005300': '롯데칠성', '375500': 'DL이앤씨', '069960': '현대백화점', '010120': 'LSELECTRIC', '120110': '코오롱인더', '005850': '에스엘', '000210': 'DL', '298020': '효성티앤씨', '009240': '한샘', '010780': '아이에스동서', '016380': 'KG스틸', '001230': '동국제강', '001120': 'LX인터내셔널', '271940': '일진하이솔루스', '000240': '한국앤컴퍼니', '017800': '현대엘리베이', '020560': '아시아나항공', '000150': '두산', '185750': '종근당', '042670': '현대두산인프라코어', '001740': 'SK네트웍스', '031430': '신세계인터내셔날', '178920': 'PI첨단소재', '073240': '금호타이어', '003240': '태광산업', '005250': '녹십자홀딩스', '000670': '영풍', '009900': '명신산업', '300720': '한일시멘트', '001800': '오리온홀딩스', '381970': '케이카', '161890': '한국콜마', '009420': '한올바이오파마', '114090': 'GKL', '032350': '롯데관광개발', '013890': '지누스', '006650': '대한유화', '192820': '코스맥스', '039130': '하나투어', '069260': 'TKG휴켐스', '006040': '동원산업', '192080': '더블유게임즈', '020000': '한섬', '001680': '대상', '005440': '현대그린푸드', '241590': '화승엔터프라이즈', '294870': 'HDC현대산업개발', '004490': '세방전지', '003850': '보령', '103140': '풍산', '284740': '쿠쿠홈시스', '105630': '한세실업', '057050': '현대홈쇼핑', '000070': '삼양홀딩스'}\n"
          ]
        }
      ]
    },
    {
      "cell_type": "code",
      "metadata": {
        "id": "yVP0ln1cM8Bj",
        "colab": {
          "base_uri": "https://localhost:8080/"
        },
        "outputId": "183d12e3-e274-4233-d1d4-3c5c86ce428d"
      },
      "source": [
        "len(kospi200_dict)"
      ],
      "execution_count": 14,
      "outputs": [
        {
          "output_type": "execute_result",
          "data": {
            "text/plain": [
              "200"
            ]
          },
          "metadata": {},
          "execution_count": 14
        }
      ]
    },
    {
      "cell_type": "code",
      "metadata": {
        "id": "tkJY0TsHM8Bx"
      },
      "source": [
        "reverse_dict = {v: k for k, v in kospi200_dict.items()}"
      ],
      "execution_count": 15,
      "outputs": []
    },
    {
      "cell_type": "code",
      "metadata": {
        "id": "TH1FC1iKM8B9",
        "colab": {
          "base_uri": "https://localhost:8080/"
        },
        "outputId": "abfb27c7-e0e0-40f4-b5b1-0afb93c19356"
      },
      "source": [
        "reverse_dict"
      ],
      "execution_count": 16,
      "outputs": [
        {
          "output_type": "execute_result",
          "data": {
            "text/plain": [
              "{'BGF리테일': '282330',\n",
              " 'BNK금융지주': '138930',\n",
              " 'CJ': '001040',\n",
              " 'CJ대한통운': '000120',\n",
              " 'CJ제일제당': '097950',\n",
              " 'DB손해보험': '005830',\n",
              " 'DB하이텍': '000990',\n",
              " 'DL': '000210',\n",
              " 'DL이앤씨': '375500',\n",
              " 'F&F': '383220',\n",
              " 'GKL': '114090',\n",
              " 'GS': '078930',\n",
              " 'GS건설': '006360',\n",
              " 'GS리테일': '007070',\n",
              " 'HDC현대산업개발': '294870',\n",
              " 'HD현대': '267250',\n",
              " 'HMM': '011200',\n",
              " 'KB금융': '105560',\n",
              " 'KCC': '002380',\n",
              " 'KG스틸': '016380',\n",
              " 'KT': '030200',\n",
              " 'KT&G': '033780',\n",
              " 'LG': '003550',\n",
              " 'LG디스플레이': '034220',\n",
              " 'LG생활건강': '051900',\n",
              " 'LG에너지솔루션': '373220',\n",
              " 'LG유플러스': '032640',\n",
              " 'LG이노텍': '011070',\n",
              " 'LG전자': '066570',\n",
              " 'LG화학': '051910',\n",
              " 'LIG넥스원': '079550',\n",
              " 'LS': '006260',\n",
              " 'LSELECTRIC': '010120',\n",
              " 'LX인터내셔널': '001120',\n",
              " 'NAVER': '035420',\n",
              " 'NH투자증권': '005940',\n",
              " 'OCI': '010060',\n",
              " 'PI첨단소재': '178920',\n",
              " 'POSCO홀딩스': '005490',\n",
              " 'S-Oil': '010950',\n",
              " 'SK': '034730',\n",
              " 'SKC': '011790',\n",
              " 'SK네트웍스': '001740',\n",
              " 'SK바이오사이언스': '302440',\n",
              " 'SK바이오팜': '326030',\n",
              " 'SK스퀘어': '402340',\n",
              " 'SK아이이테크놀로지': '361610',\n",
              " 'SK이노베이션': '096770',\n",
              " 'SK케미칼': '285130',\n",
              " 'SK텔레콤': '017670',\n",
              " 'SK하이닉스': '000660',\n",
              " 'TKG휴켐스': '069260',\n",
              " '강원랜드': '035250',\n",
              " '고려아연': '010130',\n",
              " '금호석유': '011780',\n",
              " '금호타이어': '073240',\n",
              " '기아': '000270',\n",
              " '기업은행': '024110',\n",
              " '넷마블': '251270',\n",
              " '녹십자': '006280',\n",
              " '녹십자홀딩스': '005250',\n",
              " '농심': '004370',\n",
              " '대상': '001680',\n",
              " '대우건설': '047040',\n",
              " '대우조선해양': '042660',\n",
              " '대웅': '003090',\n",
              " '대웅제약': '069620',\n",
              " '대한유화': '006650',\n",
              " '대한전선': '001440',\n",
              " '대한항공': '003490',\n",
              " '더블유게임즈': '192080',\n",
              " '동국제강': '001230',\n",
              " '동서': '026960',\n",
              " '동원산업': '006040',\n",
              " '동원시스템즈': '014820',\n",
              " '두산': '000150',\n",
              " '두산밥캣': '241560',\n",
              " '두산에너빌리티': '034020',\n",
              " '두산퓨얼셀': '336260',\n",
              " '롯데관광개발': '032350',\n",
              " '롯데쇼핑': '023530',\n",
              " '롯데정밀화학': '004000',\n",
              " '롯데지주': '004990',\n",
              " '롯데칠성': '005300',\n",
              " '롯데케미칼': '011170',\n",
              " '만도': '204320',\n",
              " '메리츠금융지주': '138040',\n",
              " '메리츠증권': '008560',\n",
              " '메리츠화재': '000060',\n",
              " '명신산업': '009900',\n",
              " '미래에셋증권': '006800',\n",
              " '보령': '003850',\n",
              " '삼성SDI': '006400',\n",
              " '삼성물산': '028260',\n",
              " '삼성바이오로직스': '207940',\n",
              " '삼성생명': '032830',\n",
              " '삼성에스디에스': '018260',\n",
              " '삼성엔지니어링': '028050',\n",
              " '삼성전기': '009150',\n",
              " '삼성전자': '005930',\n",
              " '삼성중공업': '010140',\n",
              " '삼성증권': '016360',\n",
              " '삼성카드': '029780',\n",
              " '삼성화재': '000810',\n",
              " '삼양홀딩스': '000070',\n",
              " '세방전지': '004490',\n",
              " '셀트리온': '068270',\n",
              " '신세계': '004170',\n",
              " '신세계인터내셔날': '031430',\n",
              " '신풍제약': '019170',\n",
              " '신한지주': '055550',\n",
              " '쌍용C&E': '003410',\n",
              " '씨에스윈드': '112610',\n",
              " '아모레G': '002790',\n",
              " '아모레퍼시픽': '090430',\n",
              " '아시아나항공': '020560',\n",
              " '아이에스동서': '010780',\n",
              " '에스디바이오센서': '137310',\n",
              " '에스엘': '005850',\n",
              " '에스원': '012750',\n",
              " '엔씨소프트': '036570',\n",
              " '영원무역': '111770',\n",
              " '영풍': '000670',\n",
              " '오뚜기': '007310',\n",
              " '오리온': '271560',\n",
              " '오리온홀딩스': '001800',\n",
              " '우리금융지주': '316140',\n",
              " '유한양행': '000100',\n",
              " '이마트': '139480',\n",
              " '일진머티리얼즈': '020150',\n",
              " '일진하이솔루스': '271940',\n",
              " '제일기획': '030000',\n",
              " '종근당': '185750',\n",
              " '지누스': '013890',\n",
              " '카카오': '035720',\n",
              " '카카오뱅크': '323410',\n",
              " '카카오페이': '377300',\n",
              " '케이카': '381970',\n",
              " '코스맥스': '192820',\n",
              " '코오롱인더': '120110',\n",
              " '코웨이': '021240',\n",
              " '쿠쿠홈시스': '284740',\n",
              " '크래프톤': '259960',\n",
              " '키움증권': '039490',\n",
              " '태광산업': '003240',\n",
              " '팬오션': '028670',\n",
              " '포스코인터내셔널': '047050',\n",
              " '포스코케미칼': '003670',\n",
              " '풍산': '103140',\n",
              " '하나금융지주': '086790',\n",
              " '하나투어': '039130',\n",
              " '하이브': '352820',\n",
              " '하이트진로': '000080',\n",
              " '한국가스공사': '036460',\n",
              " '한국금융지주': '071050',\n",
              " '한국앤컴퍼니': '000240',\n",
              " '한국전력': '015760',\n",
              " '한국조선해양': '009540',\n",
              " '한국콜마': '161890',\n",
              " '한국타이어앤테크놀로지': '161390',\n",
              " '한국항공우주': '047810',\n",
              " '한미사이언스': '008930',\n",
              " '한미약품': '128940',\n",
              " '한샘': '009240',\n",
              " '한섬': '020000',\n",
              " '한세실업': '105630',\n",
              " '한솔케미칼': '014680',\n",
              " '한온시스템': '018880',\n",
              " '한올바이오파마': '009420',\n",
              " '한일시멘트': '300720',\n",
              " '한전KPS': '051600',\n",
              " '한전기술': '052690',\n",
              " '한진칼': '180640',\n",
              " '한화': '000880',\n",
              " '한화생명': '088350',\n",
              " '한화솔루션': '009830',\n",
              " '한화시스템': '272210',\n",
              " '한화에어로스페이스': '012450',\n",
              " '현대건설': '000720',\n",
              " '현대그린푸드': '005440',\n",
              " '현대글로비스': '086280',\n",
              " '현대두산인프라코어': '042670',\n",
              " '현대로템': '064350',\n",
              " '현대모비스': '012330',\n",
              " '현대미포조선': '010620',\n",
              " '현대백화점': '069960',\n",
              " '현대엘리베이': '017800',\n",
              " '현대위아': '011210',\n",
              " '현대제철': '004020',\n",
              " '현대중공업': '329180',\n",
              " '현대차': '005380',\n",
              " '현대해상': '001450',\n",
              " '현대홈쇼핑': '057050',\n",
              " '호텔신라': '008770',\n",
              " '화승엔터프라이즈': '241590',\n",
              " '효성': '004800',\n",
              " '효성첨단소재': '298050',\n",
              " '효성티앤씨': '298020',\n",
              " '후성': '093370',\n",
              " '휠라홀딩스': '081660'}"
            ]
          },
          "metadata": {},
          "execution_count": 16
        }
      ]
    },
    {
      "cell_type": "code",
      "metadata": {
        "id": "P_HEQaft-43b"
      },
      "source": [
        "import pandas as pd"
      ],
      "execution_count": 17,
      "outputs": []
    },
    {
      "cell_type": "code",
      "metadata": {
        "id": "DNHTT_K5-z4S"
      },
      "source": [
        "result_df = pd.DataFrame(list(reverse_dict.items()),\n",
        "                   columns=['company', 'code'])"
      ],
      "execution_count": 18,
      "outputs": []
    },
    {
      "cell_type": "code",
      "metadata": {
        "id": "NfdFz5PZ-7na"
      },
      "source": [
        "result_df.to_csv('stock_df.csv', index=False)"
      ],
      "execution_count": 19,
      "outputs": []
    },
    {
      "cell_type": "markdown",
      "metadata": {
        "id": "gpSnYmlOZrBT"
      },
      "source": [
        "#2. 수년 간의 각 종목의 변화율 값 얻기"
      ]
    },
    {
      "cell_type": "markdown",
      "metadata": {
        "id": "XFCCkNwXaq9n"
      },
      "source": [
        "## 2-1. 특정 종목의 가격 변화율 얻기"
      ]
    },
    {
      "cell_type": "code",
      "metadata": {
        "id": "tGXipyIOM8CI"
      },
      "source": [
        "import pandas as pd"
      ],
      "execution_count": 20,
      "outputs": []
    },
    {
      "cell_type": "markdown",
      "metadata": {
        "id": "wD0qYMTwa2wX"
      },
      "source": [
        "예를 들어 삼성전자의 2015년 1월부터 2021년 7월까지의 종가를 받아오는 방법은 다음과 같습니다."
      ]
    },
    {
      "cell_type": "code",
      "metadata": {
        "id": "ivLXiFJ1at5b"
      },
      "source": [
        "samsung_df = fdr.DataReader('005930', '2015-01-01', '2021-07-22')['Close']"
      ],
      "execution_count": 21,
      "outputs": []
    },
    {
      "cell_type": "code",
      "metadata": {
        "colab": {
          "base_uri": "https://localhost:8080/"
        },
        "id": "RQwxkcQla6cd",
        "outputId": "7de0a17d-8c1e-4ee2-8f91-347f4b05918e"
      },
      "source": [
        "samsung_df"
      ],
      "execution_count": 22,
      "outputs": [
        {
          "output_type": "execute_result",
          "data": {
            "text/plain": [
              "Date\n",
              "2015-01-02    26600\n",
              "2015-01-05    26660\n",
              "2015-01-06    25900\n",
              "2015-01-07    26140\n",
              "2015-01-08    26280\n",
              "              ...  \n",
              "2021-07-16    79800\n",
              "2021-07-19    79000\n",
              "2021-07-20    79000\n",
              "2021-07-21    78500\n",
              "2021-07-22    79700\n",
              "Name: Close, Length: 1614, dtype: int64"
            ]
          },
          "metadata": {},
          "execution_count": 22
        }
      ]
    },
    {
      "cell_type": "code",
      "metadata": {
        "colab": {
          "base_uri": "https://localhost:8080/"
        },
        "id": "_le2r1sga9Kc",
        "outputId": "b29ab470-201a-42d8-abfa-11c06090cb3a"
      },
      "source": [
        "samsung_df.head()"
      ],
      "execution_count": 23,
      "outputs": [
        {
          "output_type": "execute_result",
          "data": {
            "text/plain": [
              "Date\n",
              "2015-01-02    26600\n",
              "2015-01-05    26660\n",
              "2015-01-06    25900\n",
              "2015-01-07    26140\n",
              "2015-01-08    26280\n",
              "Name: Close, dtype: int64"
            ]
          },
          "metadata": {},
          "execution_count": 23
        }
      ]
    },
    {
      "cell_type": "markdown",
      "metadata": {
        "id": "TEQHHFVYbBPp"
      },
      "source": [
        "종가의 변화율을 알고 싶다면 .pct_change()를 사용합니다."
      ]
    },
    {
      "cell_type": "code",
      "metadata": {
        "colab": {
          "base_uri": "https://localhost:8080/"
        },
        "id": "1WiHL4SDbA3s",
        "outputId": "3e9b6702-ab6b-4497-cc2a-faf092ca7dc4"
      },
      "source": [
        "samsung_df = samsung_df.pct_change()\n",
        "samsung_df"
      ],
      "execution_count": 24,
      "outputs": [
        {
          "output_type": "execute_result",
          "data": {
            "text/plain": [
              "Date\n",
              "2015-01-02         NaN\n",
              "2015-01-05    0.002256\n",
              "2015-01-06   -0.028507\n",
              "2015-01-07    0.009266\n",
              "2015-01-08    0.005356\n",
              "                ...   \n",
              "2021-07-16   -0.009926\n",
              "2021-07-19   -0.010025\n",
              "2021-07-20    0.000000\n",
              "2021-07-21   -0.006329\n",
              "2021-07-22    0.015287\n",
              "Name: Close, Length: 1614, dtype: float64"
            ]
          },
          "metadata": {},
          "execution_count": 24
        }
      ]
    },
    {
      "cell_type": "markdown",
      "metadata": {
        "id": "m5zJVFWPbPPN"
      },
      "source": [
        "과거 데이터 대비 변화율이므로 맨 앞의 데이터는 과거 데이터가 없어서 결측값(Null)이 생깁니다."
      ]
    },
    {
      "cell_type": "markdown",
      "metadata": {
        "id": "ZmSX7jo6bVja"
      },
      "source": [
        "결측값을 제거해줍니다."
      ]
    },
    {
      "cell_type": "code",
      "metadata": {
        "colab": {
          "base_uri": "https://localhost:8080/"
        },
        "id": "Sj0RQL7-bL1y",
        "outputId": "1131ed6c-3a03-41cb-bb48-68834e7e9cb0"
      },
      "source": [
        "samsung_df = samsung_df.dropna()\n",
        "samsung_df"
      ],
      "execution_count": 25,
      "outputs": [
        {
          "output_type": "execute_result",
          "data": {
            "text/plain": [
              "Date\n",
              "2015-01-05    0.002256\n",
              "2015-01-06   -0.028507\n",
              "2015-01-07    0.009266\n",
              "2015-01-08    0.005356\n",
              "2015-01-09    0.000000\n",
              "                ...   \n",
              "2021-07-16   -0.009926\n",
              "2021-07-19   -0.010025\n",
              "2021-07-20    0.000000\n",
              "2021-07-21   -0.006329\n",
              "2021-07-22    0.015287\n",
              "Name: Close, Length: 1613, dtype: float64"
            ]
          },
          "metadata": {},
          "execution_count": 25
        }
      ]
    },
    {
      "cell_type": "markdown",
      "metadata": {
        "id": "kdH_KRWEbiyc"
      },
      "source": [
        "열이 1개인 데이터이므로 이 데이터는 데이터프레임이 아니라 '시리즈(Series)'입니다."
      ]
    },
    {
      "cell_type": "code",
      "metadata": {
        "colab": {
          "base_uri": "https://localhost:8080/"
        },
        "id": "Ms3kOKRYbnGz",
        "outputId": "e24c35cc-bb90-445f-d882-d2afacd945dc"
      },
      "source": [
        "type(samsung_df)"
      ],
      "execution_count": 26,
      "outputs": [
        {
          "output_type": "execute_result",
          "data": {
            "text/plain": [
              "pandas.core.series.Series"
            ]
          },
          "metadata": {},
          "execution_count": 26
        }
      ]
    },
    {
      "cell_type": "markdown",
      "metadata": {
        "id": "AMGBzP7ebpg7"
      },
      "source": [
        "아래의 코드를 수행하면 열이 1개인 시리즈라도 강제로 데이터프레임 타입으로 변환이 가능합니다.  \n",
        "\n",
        "* pd.Dataframe(시리즈)"
      ]
    },
    {
      "cell_type": "code",
      "metadata": {
        "colab": {
          "base_uri": "https://localhost:8080/",
          "height": 455
        },
        "id": "IX8ywRo1bvK3",
        "outputId": "fb895694-8871-4aa1-ece7-179fc538277e"
      },
      "source": [
        "samsung_df = pd.DataFrame(samsung_df)\n",
        "samsung_df"
      ],
      "execution_count": 27,
      "outputs": [
        {
          "output_type": "execute_result",
          "data": {
            "text/plain": [
              "               Close\n",
              "Date                \n",
              "2015-01-05  0.002256\n",
              "2015-01-06 -0.028507\n",
              "2015-01-07  0.009266\n",
              "2015-01-08  0.005356\n",
              "2015-01-09  0.000000\n",
              "...              ...\n",
              "2021-07-16 -0.009926\n",
              "2021-07-19 -0.010025\n",
              "2021-07-20  0.000000\n",
              "2021-07-21 -0.006329\n",
              "2021-07-22  0.015287\n",
              "\n",
              "[1613 rows x 1 columns]"
            ],
            "text/html": [
              "\n",
              "  <div id=\"df-1aba9051-54c0-4a75-b2e2-1eacc8f6785a\">\n",
              "    <div class=\"colab-df-container\">\n",
              "      <div>\n",
              "<style scoped>\n",
              "    .dataframe tbody tr th:only-of-type {\n",
              "        vertical-align: middle;\n",
              "    }\n",
              "\n",
              "    .dataframe tbody tr th {\n",
              "        vertical-align: top;\n",
              "    }\n",
              "\n",
              "    .dataframe thead th {\n",
              "        text-align: right;\n",
              "    }\n",
              "</style>\n",
              "<table border=\"1\" class=\"dataframe\">\n",
              "  <thead>\n",
              "    <tr style=\"text-align: right;\">\n",
              "      <th></th>\n",
              "      <th>Close</th>\n",
              "    </tr>\n",
              "    <tr>\n",
              "      <th>Date</th>\n",
              "      <th></th>\n",
              "    </tr>\n",
              "  </thead>\n",
              "  <tbody>\n",
              "    <tr>\n",
              "      <th>2015-01-05</th>\n",
              "      <td>0.002256</td>\n",
              "    </tr>\n",
              "    <tr>\n",
              "      <th>2015-01-06</th>\n",
              "      <td>-0.028507</td>\n",
              "    </tr>\n",
              "    <tr>\n",
              "      <th>2015-01-07</th>\n",
              "      <td>0.009266</td>\n",
              "    </tr>\n",
              "    <tr>\n",
              "      <th>2015-01-08</th>\n",
              "      <td>0.005356</td>\n",
              "    </tr>\n",
              "    <tr>\n",
              "      <th>2015-01-09</th>\n",
              "      <td>0.000000</td>\n",
              "    </tr>\n",
              "    <tr>\n",
              "      <th>...</th>\n",
              "      <td>...</td>\n",
              "    </tr>\n",
              "    <tr>\n",
              "      <th>2021-07-16</th>\n",
              "      <td>-0.009926</td>\n",
              "    </tr>\n",
              "    <tr>\n",
              "      <th>2021-07-19</th>\n",
              "      <td>-0.010025</td>\n",
              "    </tr>\n",
              "    <tr>\n",
              "      <th>2021-07-20</th>\n",
              "      <td>0.000000</td>\n",
              "    </tr>\n",
              "    <tr>\n",
              "      <th>2021-07-21</th>\n",
              "      <td>-0.006329</td>\n",
              "    </tr>\n",
              "    <tr>\n",
              "      <th>2021-07-22</th>\n",
              "      <td>0.015287</td>\n",
              "    </tr>\n",
              "  </tbody>\n",
              "</table>\n",
              "<p>1613 rows × 1 columns</p>\n",
              "</div>\n",
              "      <button class=\"colab-df-convert\" onclick=\"convertToInteractive('df-1aba9051-54c0-4a75-b2e2-1eacc8f6785a')\"\n",
              "              title=\"Convert this dataframe to an interactive table.\"\n",
              "              style=\"display:none;\">\n",
              "        \n",
              "  <svg xmlns=\"http://www.w3.org/2000/svg\" height=\"24px\"viewBox=\"0 0 24 24\"\n",
              "       width=\"24px\">\n",
              "    <path d=\"M0 0h24v24H0V0z\" fill=\"none\"/>\n",
              "    <path d=\"M18.56 5.44l.94 2.06.94-2.06 2.06-.94-2.06-.94-.94-2.06-.94 2.06-2.06.94zm-11 1L8.5 8.5l.94-2.06 2.06-.94-2.06-.94L8.5 2.5l-.94 2.06-2.06.94zm10 10l.94 2.06.94-2.06 2.06-.94-2.06-.94-.94-2.06-.94 2.06-2.06.94z\"/><path d=\"M17.41 7.96l-1.37-1.37c-.4-.4-.92-.59-1.43-.59-.52 0-1.04.2-1.43.59L10.3 9.45l-7.72 7.72c-.78.78-.78 2.05 0 2.83L4 21.41c.39.39.9.59 1.41.59.51 0 1.02-.2 1.41-.59l7.78-7.78 2.81-2.81c.8-.78.8-2.07 0-2.86zM5.41 20L4 18.59l7.72-7.72 1.47 1.35L5.41 20z\"/>\n",
              "  </svg>\n",
              "      </button>\n",
              "      \n",
              "  <style>\n",
              "    .colab-df-container {\n",
              "      display:flex;\n",
              "      flex-wrap:wrap;\n",
              "      gap: 12px;\n",
              "    }\n",
              "\n",
              "    .colab-df-convert {\n",
              "      background-color: #E8F0FE;\n",
              "      border: none;\n",
              "      border-radius: 50%;\n",
              "      cursor: pointer;\n",
              "      display: none;\n",
              "      fill: #1967D2;\n",
              "      height: 32px;\n",
              "      padding: 0 0 0 0;\n",
              "      width: 32px;\n",
              "    }\n",
              "\n",
              "    .colab-df-convert:hover {\n",
              "      background-color: #E2EBFA;\n",
              "      box-shadow: 0px 1px 2px rgba(60, 64, 67, 0.3), 0px 1px 3px 1px rgba(60, 64, 67, 0.15);\n",
              "      fill: #174EA6;\n",
              "    }\n",
              "\n",
              "    [theme=dark] .colab-df-convert {\n",
              "      background-color: #3B4455;\n",
              "      fill: #D2E3FC;\n",
              "    }\n",
              "\n",
              "    [theme=dark] .colab-df-convert:hover {\n",
              "      background-color: #434B5C;\n",
              "      box-shadow: 0px 1px 3px 1px rgba(0, 0, 0, 0.15);\n",
              "      filter: drop-shadow(0px 1px 2px rgba(0, 0, 0, 0.3));\n",
              "      fill: #FFFFFF;\n",
              "    }\n",
              "  </style>\n",
              "\n",
              "      <script>\n",
              "        const buttonEl =\n",
              "          document.querySelector('#df-1aba9051-54c0-4a75-b2e2-1eacc8f6785a button.colab-df-convert');\n",
              "        buttonEl.style.display =\n",
              "          google.colab.kernel.accessAllowed ? 'block' : 'none';\n",
              "\n",
              "        async function convertToInteractive(key) {\n",
              "          const element = document.querySelector('#df-1aba9051-54c0-4a75-b2e2-1eacc8f6785a');\n",
              "          const dataTable =\n",
              "            await google.colab.kernel.invokeFunction('convertToInteractive',\n",
              "                                                     [key], {});\n",
              "          if (!dataTable) return;\n",
              "\n",
              "          const docLinkHtml = 'Like what you see? Visit the ' +\n",
              "            '<a target=\"_blank\" href=https://colab.research.google.com/notebooks/data_table.ipynb>data table notebook</a>'\n",
              "            + ' to learn more about interactive tables.';\n",
              "          element.innerHTML = '';\n",
              "          dataTable['output_type'] = 'display_data';\n",
              "          await google.colab.output.renderOutput(dataTable, element);\n",
              "          const docLink = document.createElement('div');\n",
              "          docLink.innerHTML = docLinkHtml;\n",
              "          element.appendChild(docLink);\n",
              "        }\n",
              "      </script>\n",
              "    </div>\n",
              "  </div>\n",
              "  "
            ]
          },
          "metadata": {},
          "execution_count": 27
        }
      ]
    },
    {
      "cell_type": "markdown",
      "metadata": {
        "id": "9kDphvpWbakD"
      },
      "source": [
        "열 이름을 'rate'로 바꿔봅시다. 데이터프레임이름.columns를 사용하면 해당 데이터프레임의 열 값들이 나오는데 이 값을 수정해주면 됩니다."
      ]
    },
    {
      "cell_type": "code",
      "metadata": {
        "colab": {
          "base_uri": "https://localhost:8080/"
        },
        "id": "wyFqqskdb03M",
        "outputId": "09d946eb-daf8-48f8-df59-591cbf674870"
      },
      "source": [
        "samsung_df.columns"
      ],
      "execution_count": 28,
      "outputs": [
        {
          "output_type": "execute_result",
          "data": {
            "text/plain": [
              "Index(['Close'], dtype='object')"
            ]
          },
          "metadata": {},
          "execution_count": 28
        }
      ]
    },
    {
      "cell_type": "code",
      "metadata": {
        "colab": {
          "base_uri": "https://localhost:8080/",
          "height": 455
        },
        "id": "bt6OQTSJbcn5",
        "outputId": "df7f190d-616c-41ee-de3f-377b923727f1"
      },
      "source": [
        "samsung_df.columns.values[0] = 'rate'\n",
        "samsung_df"
      ],
      "execution_count": 29,
      "outputs": [
        {
          "output_type": "execute_result",
          "data": {
            "text/plain": [
              "                rate\n",
              "Date                \n",
              "2015-01-05  0.002256\n",
              "2015-01-06 -0.028507\n",
              "2015-01-07  0.009266\n",
              "2015-01-08  0.005356\n",
              "2015-01-09  0.000000\n",
              "...              ...\n",
              "2021-07-16 -0.009926\n",
              "2021-07-19 -0.010025\n",
              "2021-07-20  0.000000\n",
              "2021-07-21 -0.006329\n",
              "2021-07-22  0.015287\n",
              "\n",
              "[1613 rows x 1 columns]"
            ],
            "text/html": [
              "\n",
              "  <div id=\"df-b15a709b-fe85-4bc3-8c9a-b68aab130cec\">\n",
              "    <div class=\"colab-df-container\">\n",
              "      <div>\n",
              "<style scoped>\n",
              "    .dataframe tbody tr th:only-of-type {\n",
              "        vertical-align: middle;\n",
              "    }\n",
              "\n",
              "    .dataframe tbody tr th {\n",
              "        vertical-align: top;\n",
              "    }\n",
              "\n",
              "    .dataframe thead th {\n",
              "        text-align: right;\n",
              "    }\n",
              "</style>\n",
              "<table border=\"1\" class=\"dataframe\">\n",
              "  <thead>\n",
              "    <tr style=\"text-align: right;\">\n",
              "      <th></th>\n",
              "      <th>rate</th>\n",
              "    </tr>\n",
              "    <tr>\n",
              "      <th>Date</th>\n",
              "      <th></th>\n",
              "    </tr>\n",
              "  </thead>\n",
              "  <tbody>\n",
              "    <tr>\n",
              "      <th>2015-01-05</th>\n",
              "      <td>0.002256</td>\n",
              "    </tr>\n",
              "    <tr>\n",
              "      <th>2015-01-06</th>\n",
              "      <td>-0.028507</td>\n",
              "    </tr>\n",
              "    <tr>\n",
              "      <th>2015-01-07</th>\n",
              "      <td>0.009266</td>\n",
              "    </tr>\n",
              "    <tr>\n",
              "      <th>2015-01-08</th>\n",
              "      <td>0.005356</td>\n",
              "    </tr>\n",
              "    <tr>\n",
              "      <th>2015-01-09</th>\n",
              "      <td>0.000000</td>\n",
              "    </tr>\n",
              "    <tr>\n",
              "      <th>...</th>\n",
              "      <td>...</td>\n",
              "    </tr>\n",
              "    <tr>\n",
              "      <th>2021-07-16</th>\n",
              "      <td>-0.009926</td>\n",
              "    </tr>\n",
              "    <tr>\n",
              "      <th>2021-07-19</th>\n",
              "      <td>-0.010025</td>\n",
              "    </tr>\n",
              "    <tr>\n",
              "      <th>2021-07-20</th>\n",
              "      <td>0.000000</td>\n",
              "    </tr>\n",
              "    <tr>\n",
              "      <th>2021-07-21</th>\n",
              "      <td>-0.006329</td>\n",
              "    </tr>\n",
              "    <tr>\n",
              "      <th>2021-07-22</th>\n",
              "      <td>0.015287</td>\n",
              "    </tr>\n",
              "  </tbody>\n",
              "</table>\n",
              "<p>1613 rows × 1 columns</p>\n",
              "</div>\n",
              "      <button class=\"colab-df-convert\" onclick=\"convertToInteractive('df-b15a709b-fe85-4bc3-8c9a-b68aab130cec')\"\n",
              "              title=\"Convert this dataframe to an interactive table.\"\n",
              "              style=\"display:none;\">\n",
              "        \n",
              "  <svg xmlns=\"http://www.w3.org/2000/svg\" height=\"24px\"viewBox=\"0 0 24 24\"\n",
              "       width=\"24px\">\n",
              "    <path d=\"M0 0h24v24H0V0z\" fill=\"none\"/>\n",
              "    <path d=\"M18.56 5.44l.94 2.06.94-2.06 2.06-.94-2.06-.94-.94-2.06-.94 2.06-2.06.94zm-11 1L8.5 8.5l.94-2.06 2.06-.94-2.06-.94L8.5 2.5l-.94 2.06-2.06.94zm10 10l.94 2.06.94-2.06 2.06-.94-2.06-.94-.94-2.06-.94 2.06-2.06.94z\"/><path d=\"M17.41 7.96l-1.37-1.37c-.4-.4-.92-.59-1.43-.59-.52 0-1.04.2-1.43.59L10.3 9.45l-7.72 7.72c-.78.78-.78 2.05 0 2.83L4 21.41c.39.39.9.59 1.41.59.51 0 1.02-.2 1.41-.59l7.78-7.78 2.81-2.81c.8-.78.8-2.07 0-2.86zM5.41 20L4 18.59l7.72-7.72 1.47 1.35L5.41 20z\"/>\n",
              "  </svg>\n",
              "      </button>\n",
              "      \n",
              "  <style>\n",
              "    .colab-df-container {\n",
              "      display:flex;\n",
              "      flex-wrap:wrap;\n",
              "      gap: 12px;\n",
              "    }\n",
              "\n",
              "    .colab-df-convert {\n",
              "      background-color: #E8F0FE;\n",
              "      border: none;\n",
              "      border-radius: 50%;\n",
              "      cursor: pointer;\n",
              "      display: none;\n",
              "      fill: #1967D2;\n",
              "      height: 32px;\n",
              "      padding: 0 0 0 0;\n",
              "      width: 32px;\n",
              "    }\n",
              "\n",
              "    .colab-df-convert:hover {\n",
              "      background-color: #E2EBFA;\n",
              "      box-shadow: 0px 1px 2px rgba(60, 64, 67, 0.3), 0px 1px 3px 1px rgba(60, 64, 67, 0.15);\n",
              "      fill: #174EA6;\n",
              "    }\n",
              "\n",
              "    [theme=dark] .colab-df-convert {\n",
              "      background-color: #3B4455;\n",
              "      fill: #D2E3FC;\n",
              "    }\n",
              "\n",
              "    [theme=dark] .colab-df-convert:hover {\n",
              "      background-color: #434B5C;\n",
              "      box-shadow: 0px 1px 3px 1px rgba(0, 0, 0, 0.15);\n",
              "      filter: drop-shadow(0px 1px 2px rgba(0, 0, 0, 0.3));\n",
              "      fill: #FFFFFF;\n",
              "    }\n",
              "  </style>\n",
              "\n",
              "      <script>\n",
              "        const buttonEl =\n",
              "          document.querySelector('#df-b15a709b-fe85-4bc3-8c9a-b68aab130cec button.colab-df-convert');\n",
              "        buttonEl.style.display =\n",
              "          google.colab.kernel.accessAllowed ? 'block' : 'none';\n",
              "\n",
              "        async function convertToInteractive(key) {\n",
              "          const element = document.querySelector('#df-b15a709b-fe85-4bc3-8c9a-b68aab130cec');\n",
              "          const dataTable =\n",
              "            await google.colab.kernel.invokeFunction('convertToInteractive',\n",
              "                                                     [key], {});\n",
              "          if (!dataTable) return;\n",
              "\n",
              "          const docLinkHtml = 'Like what you see? Visit the ' +\n",
              "            '<a target=\"_blank\" href=https://colab.research.google.com/notebooks/data_table.ipynb>data table notebook</a>'\n",
              "            + ' to learn more about interactive tables.';\n",
              "          element.innerHTML = '';\n",
              "          dataTable['output_type'] = 'display_data';\n",
              "          await google.colab.output.renderOutput(dataTable, element);\n",
              "          const docLink = document.createElement('div');\n",
              "          docLink.innerHTML = docLinkHtml;\n",
              "          element.appendChild(docLink);\n",
              "        }\n",
              "      </script>\n",
              "    </div>\n",
              "  </div>\n",
              "  "
            ]
          },
          "metadata": {},
          "execution_count": 29
        }
      ]
    },
    {
      "cell_type": "markdown",
      "metadata": {
        "id": "XMvUa1lub-Rp"
      },
      "source": [
        "지금까지 수행한 것을 모든 종목에 대해서 수행하고 하나의 데이터프레임으로 만들어줄 예정입니다."
      ]
    },
    {
      "cell_type": "markdown",
      "metadata": {
        "id": "xwZjyvYRa7HY"
      },
      "source": [
        "## 2-2. 모든 종목에 대해서 수행하기"
      ]
    },
    {
      "cell_type": "code",
      "metadata": {
        "id": "X23Bz6eYM8Ck"
      },
      "source": [
        "# 파이낸셜 데이터리더로부터 코스피 200 종목의 각 날짜별 변화율 받아와서 하나의 데이터프레임으로 전부 뒤로 append합니다."
      ],
      "execution_count": 30,
      "outputs": []
    },
    {
      "cell_type": "code",
      "metadata": {
        "id": "asnt6CYIM8CT"
      },
      "source": [
        "def total_record(cprc):\n",
        "    return (stock_code, cprc)"
      ],
      "execution_count": 31,
      "outputs": []
    },
    {
      "cell_type": "code",
      "metadata": {
        "id": "JsqVZkmWM8Cu",
        "colab": {
          "base_uri": "https://localhost:8080/"
        },
        "outputId": "df6d8c31-9275-4601-a86b-d3ec4cbd817c"
      },
      "source": [
        "# tqdm을 원소를 꺼내올 파이썬의 리스트에 tqdm(리스트)로 감싸주시면 얼마나 진행되는지 프로그레스 바를 출력합니다.\n",
        "data = None\n",
        "index = 0\n",
        "\n",
        "for stock_code in tqdm(kospi200_list):\n",
        "    temp_df = fdr.DataReader(stock_code, '2015-01-01', '2021-07-22')['Close']\n",
        "\n",
        "    # 만약 종목의 데이터가 없을 경우 확인을 위해서 출력\n",
        "    if len(temp_df) == 0:\n",
        "        print(stock_code,'는 데이터가 없습니다.')\n",
        "\n",
        "    temp_df = temp_df.pct_change()\n",
        "    temp_df = temp_df.dropna()\n",
        "    temp_df = pd.DataFrame(temp_df)\n",
        "    temp_df.columns.values[0] = 'rate'\n",
        "    temp_df['rate'] = temp_df['rate'].map(lambda x : [total_record(x)])\n",
        "\n",
        "    if index==0:\n",
        "        # 맨 처음에는 데이터프레임이 존재하지 않으므로 데이터프레임을 하나 만듭니다.\n",
        "        data=pd.DataFrame(temp_df.copy())\n",
        "        index=index+1\n",
        "    else:\n",
        "        # 두번째 데이터프레임부터는 기존 데이터프레임에 데이터프레임을 뒤에 계속 추가합니다.\n",
        "        data=data.append(temp_df)\n",
        "        index=index+1"
      ],
      "execution_count": 32,
      "outputs": [
        {
          "output_type": "stream",
          "name": "stderr",
          "text": [
            "  1%|          | 2/200 [00:02<03:34,  1.08s/it]"
          ]
        },
        {
          "output_type": "stream",
          "name": "stdout",
          "text": [
            "373220 는 데이터가 없습니다.\n"
          ]
        },
        {
          "output_type": "stream",
          "name": "stderr",
          "text": [
            " 10%|█         | 20/200 [00:28<03:49,  1.27s/it]"
          ]
        },
        {
          "output_type": "stream",
          "name": "stdout",
          "text": [
            "323410 는 데이터가 없습니다.\n"
          ]
        },
        {
          "output_type": "stream",
          "name": "stderr",
          "text": [
            " 11%|█         | 22/200 [00:30<03:36,  1.22s/it]"
          ]
        },
        {
          "output_type": "stream",
          "name": "stdout",
          "text": [
            "259960 는 데이터가 없습니다.\n"
          ]
        },
        {
          "output_type": "stream",
          "name": "stderr",
          "text": [
            " 15%|█▌        | 30/200 [00:42<03:39,  1.29s/it]"
          ]
        },
        {
          "output_type": "stream",
          "name": "stdout",
          "text": [
            "329180 는 데이터가 없습니다.\n"
          ]
        },
        {
          "output_type": "stream",
          "name": "stderr",
          "text": [
            " 21%|██        | 42/200 [00:58<03:15,  1.24s/it]"
          ]
        },
        {
          "output_type": "stream",
          "name": "stdout",
          "text": [
            "377300 는 데이터가 없습니다.\n"
          ]
        },
        {
          "output_type": "stream",
          "name": "stderr",
          "text": [
            " 28%|██▊       | 55/200 [01:14<02:43,  1.13s/it]"
          ]
        },
        {
          "output_type": "stream",
          "name": "stdout",
          "text": [
            "402340 는 데이터가 없습니다.\n"
          ]
        },
        {
          "output_type": "stream",
          "name": "stderr",
          "text": [
            " 80%|████████  | 160/200 [03:43<00:51,  1.28s/it]"
          ]
        },
        {
          "output_type": "stream",
          "name": "stdout",
          "text": [
            "271940 는 데이터가 없습니다.\n"
          ]
        },
        {
          "output_type": "stream",
          "name": "stderr",
          "text": [
            " 88%|████████▊ | 177/200 [04:07<00:28,  1.23s/it]"
          ]
        },
        {
          "output_type": "stream",
          "name": "stdout",
          "text": [
            "381970 는 데이터가 없습니다.\n"
          ]
        },
        {
          "output_type": "stream",
          "name": "stderr",
          "text": [
            "100%|██████████| 200/200 [04:40<00:00,  1.40s/it]\n"
          ]
        }
      ]
    },
    {
      "cell_type": "code",
      "metadata": {
        "colab": {
          "base_uri": "https://localhost:8080/"
        },
        "id": "6lc175FX-JDT",
        "outputId": "c808e9f7-6bd5-4295-d249-36ffdac8915b"
      },
      "source": [
        "len(data)"
      ],
      "execution_count": 33,
      "outputs": [
        {
          "output_type": "execute_result",
          "data": {
            "text/plain": [
              "283953"
            ]
          },
          "metadata": {},
          "execution_count": 33
        }
      ]
    },
    {
      "cell_type": "code",
      "metadata": {
        "id": "ZvsP7IzXM8C4"
      },
      "source": [
        "# 계속 붙여나가서 데이터프레임의 크기가 30만이 되었습니다. 단순하게 생각했을 때는 200 종목 곱하기 5년치 절반 데이터 정도의 크기를 넘어야 하는데\n",
        "# 주말 등을 빼서 30만밖에 안 되는 것 같습니다. 상위 5개만 출력해보겠습니다."
      ],
      "execution_count": 34,
      "outputs": []
    },
    {
      "cell_type": "markdown",
      "metadata": {
        "id": "xx4ZSxB7eUgB"
      },
      "source": [
        "상위 5개의 행은 2015년 1월 5일부터 2015년 1월 9일까지의 (삼성전자, 전날 대비 변화율)이네요."
      ]
    },
    {
      "cell_type": "code",
      "metadata": {
        "id": "gy214Cn5M8DC",
        "colab": {
          "base_uri": "https://localhost:8080/",
          "height": 238
        },
        "outputId": "e27fdf54-7bd9-4816-de52-c605fbf699b1"
      },
      "source": [
        "data.head()"
      ],
      "execution_count": 35,
      "outputs": [
        {
          "output_type": "execute_result",
          "data": {
            "text/plain": [
              "                                         rate\n",
              "Date                                         \n",
              "2015-01-05  [(005930, 0.0022556390977443996)]\n",
              "2015-01-06  [(005930, -0.028507126781695424)]\n",
              "2015-01-07   [(005930, 0.009266409266409203)]\n",
              "2015-01-08    [(005930, 0.00535577658760511)]\n",
              "2015-01-09                    [(005930, 0.0)]"
            ],
            "text/html": [
              "\n",
              "  <div id=\"df-83d5cb71-017a-4f08-ac01-3ffbb7c2da48\">\n",
              "    <div class=\"colab-df-container\">\n",
              "      <div>\n",
              "<style scoped>\n",
              "    .dataframe tbody tr th:only-of-type {\n",
              "        vertical-align: middle;\n",
              "    }\n",
              "\n",
              "    .dataframe tbody tr th {\n",
              "        vertical-align: top;\n",
              "    }\n",
              "\n",
              "    .dataframe thead th {\n",
              "        text-align: right;\n",
              "    }\n",
              "</style>\n",
              "<table border=\"1\" class=\"dataframe\">\n",
              "  <thead>\n",
              "    <tr style=\"text-align: right;\">\n",
              "      <th></th>\n",
              "      <th>rate</th>\n",
              "    </tr>\n",
              "    <tr>\n",
              "      <th>Date</th>\n",
              "      <th></th>\n",
              "    </tr>\n",
              "  </thead>\n",
              "  <tbody>\n",
              "    <tr>\n",
              "      <th>2015-01-05</th>\n",
              "      <td>[(005930, 0.0022556390977443996)]</td>\n",
              "    </tr>\n",
              "    <tr>\n",
              "      <th>2015-01-06</th>\n",
              "      <td>[(005930, -0.028507126781695424)]</td>\n",
              "    </tr>\n",
              "    <tr>\n",
              "      <th>2015-01-07</th>\n",
              "      <td>[(005930, 0.009266409266409203)]</td>\n",
              "    </tr>\n",
              "    <tr>\n",
              "      <th>2015-01-08</th>\n",
              "      <td>[(005930, 0.00535577658760511)]</td>\n",
              "    </tr>\n",
              "    <tr>\n",
              "      <th>2015-01-09</th>\n",
              "      <td>[(005930, 0.0)]</td>\n",
              "    </tr>\n",
              "  </tbody>\n",
              "</table>\n",
              "</div>\n",
              "      <button class=\"colab-df-convert\" onclick=\"convertToInteractive('df-83d5cb71-017a-4f08-ac01-3ffbb7c2da48')\"\n",
              "              title=\"Convert this dataframe to an interactive table.\"\n",
              "              style=\"display:none;\">\n",
              "        \n",
              "  <svg xmlns=\"http://www.w3.org/2000/svg\" height=\"24px\"viewBox=\"0 0 24 24\"\n",
              "       width=\"24px\">\n",
              "    <path d=\"M0 0h24v24H0V0z\" fill=\"none\"/>\n",
              "    <path d=\"M18.56 5.44l.94 2.06.94-2.06 2.06-.94-2.06-.94-.94-2.06-.94 2.06-2.06.94zm-11 1L8.5 8.5l.94-2.06 2.06-.94-2.06-.94L8.5 2.5l-.94 2.06-2.06.94zm10 10l.94 2.06.94-2.06 2.06-.94-2.06-.94-.94-2.06-.94 2.06-2.06.94z\"/><path d=\"M17.41 7.96l-1.37-1.37c-.4-.4-.92-.59-1.43-.59-.52 0-1.04.2-1.43.59L10.3 9.45l-7.72 7.72c-.78.78-.78 2.05 0 2.83L4 21.41c.39.39.9.59 1.41.59.51 0 1.02-.2 1.41-.59l7.78-7.78 2.81-2.81c.8-.78.8-2.07 0-2.86zM5.41 20L4 18.59l7.72-7.72 1.47 1.35L5.41 20z\"/>\n",
              "  </svg>\n",
              "      </button>\n",
              "      \n",
              "  <style>\n",
              "    .colab-df-container {\n",
              "      display:flex;\n",
              "      flex-wrap:wrap;\n",
              "      gap: 12px;\n",
              "    }\n",
              "\n",
              "    .colab-df-convert {\n",
              "      background-color: #E8F0FE;\n",
              "      border: none;\n",
              "      border-radius: 50%;\n",
              "      cursor: pointer;\n",
              "      display: none;\n",
              "      fill: #1967D2;\n",
              "      height: 32px;\n",
              "      padding: 0 0 0 0;\n",
              "      width: 32px;\n",
              "    }\n",
              "\n",
              "    .colab-df-convert:hover {\n",
              "      background-color: #E2EBFA;\n",
              "      box-shadow: 0px 1px 2px rgba(60, 64, 67, 0.3), 0px 1px 3px 1px rgba(60, 64, 67, 0.15);\n",
              "      fill: #174EA6;\n",
              "    }\n",
              "\n",
              "    [theme=dark] .colab-df-convert {\n",
              "      background-color: #3B4455;\n",
              "      fill: #D2E3FC;\n",
              "    }\n",
              "\n",
              "    [theme=dark] .colab-df-convert:hover {\n",
              "      background-color: #434B5C;\n",
              "      box-shadow: 0px 1px 3px 1px rgba(0, 0, 0, 0.15);\n",
              "      filter: drop-shadow(0px 1px 2px rgba(0, 0, 0, 0.3));\n",
              "      fill: #FFFFFF;\n",
              "    }\n",
              "  </style>\n",
              "\n",
              "      <script>\n",
              "        const buttonEl =\n",
              "          document.querySelector('#df-83d5cb71-017a-4f08-ac01-3ffbb7c2da48 button.colab-df-convert');\n",
              "        buttonEl.style.display =\n",
              "          google.colab.kernel.accessAllowed ? 'block' : 'none';\n",
              "\n",
              "        async function convertToInteractive(key) {\n",
              "          const element = document.querySelector('#df-83d5cb71-017a-4f08-ac01-3ffbb7c2da48');\n",
              "          const dataTable =\n",
              "            await google.colab.kernel.invokeFunction('convertToInteractive',\n",
              "                                                     [key], {});\n",
              "          if (!dataTable) return;\n",
              "\n",
              "          const docLinkHtml = 'Like what you see? Visit the ' +\n",
              "            '<a target=\"_blank\" href=https://colab.research.google.com/notebooks/data_table.ipynb>data table notebook</a>'\n",
              "            + ' to learn more about interactive tables.';\n",
              "          element.innerHTML = '';\n",
              "          dataTable['output_type'] = 'display_data';\n",
              "          await google.colab.output.renderOutput(dataTable, element);\n",
              "          const docLink = document.createElement('div');\n",
              "          docLink.innerHTML = docLinkHtml;\n",
              "          element.appendChild(docLink);\n",
              "        }\n",
              "      </script>\n",
              "    </div>\n",
              "  </div>\n",
              "  "
            ]
          },
          "metadata": {},
          "execution_count": 35
        }
      ]
    },
    {
      "cell_type": "markdown",
      "metadata": {
        "id": "w36OJeQw-65b"
      },
      "source": [
        "2021년 7월 22일 데이터만 출력해봅시다."
      ]
    },
    {
      "cell_type": "code",
      "metadata": {
        "id": "H3lHxeK1-Kdw"
      },
      "source": [
        "Filter_df  = data[data.index.isin(['2021-07-22'])]"
      ],
      "execution_count": 36,
      "outputs": []
    },
    {
      "cell_type": "code",
      "metadata": {
        "colab": {
          "base_uri": "https://localhost:8080/",
          "height": 455
        },
        "id": "sCfjfAol-lpG",
        "outputId": "ad5789f0-8c11-4fc5-bd0c-5adf4b1ec465"
      },
      "source": [
        "Filter_df"
      ],
      "execution_count": 37,
      "outputs": [
        {
          "output_type": "execute_result",
          "data": {
            "text/plain": [
              "                                         rate\n",
              "Date                                         \n",
              "2021-07-22   [(005930, 0.015286624203821653)]\n",
              "2021-07-22    [(000660, 0.02136752136752129)]\n",
              "2021-07-22  [(207940, -0.018867882150136683)]\n",
              "2021-07-22   [(035420, 0.028037383177569986)]\n",
              "2021-07-22   [(005380, 0.002192982456140413)]\n",
              "...                                       ...\n",
              "2021-07-22    [(103140, 0.03604806408544725)]\n",
              "2021-07-22  [(284740, -0.015401540154015403)]\n",
              "2021-07-22   [(105630, 0.007009345794392496)]\n",
              "2021-07-22   [(057050, 0.001175088131609936)]\n",
              "2021-07-22    [(000070, 0.01449275362318847)]\n",
              "\n",
              "[192 rows x 1 columns]"
            ],
            "text/html": [
              "\n",
              "  <div id=\"df-40a9507a-33a7-4450-b7f2-922ff49d09ec\">\n",
              "    <div class=\"colab-df-container\">\n",
              "      <div>\n",
              "<style scoped>\n",
              "    .dataframe tbody tr th:only-of-type {\n",
              "        vertical-align: middle;\n",
              "    }\n",
              "\n",
              "    .dataframe tbody tr th {\n",
              "        vertical-align: top;\n",
              "    }\n",
              "\n",
              "    .dataframe thead th {\n",
              "        text-align: right;\n",
              "    }\n",
              "</style>\n",
              "<table border=\"1\" class=\"dataframe\">\n",
              "  <thead>\n",
              "    <tr style=\"text-align: right;\">\n",
              "      <th></th>\n",
              "      <th>rate</th>\n",
              "    </tr>\n",
              "    <tr>\n",
              "      <th>Date</th>\n",
              "      <th></th>\n",
              "    </tr>\n",
              "  </thead>\n",
              "  <tbody>\n",
              "    <tr>\n",
              "      <th>2021-07-22</th>\n",
              "      <td>[(005930, 0.015286624203821653)]</td>\n",
              "    </tr>\n",
              "    <tr>\n",
              "      <th>2021-07-22</th>\n",
              "      <td>[(000660, 0.02136752136752129)]</td>\n",
              "    </tr>\n",
              "    <tr>\n",
              "      <th>2021-07-22</th>\n",
              "      <td>[(207940, -0.018867882150136683)]</td>\n",
              "    </tr>\n",
              "    <tr>\n",
              "      <th>2021-07-22</th>\n",
              "      <td>[(035420, 0.028037383177569986)]</td>\n",
              "    </tr>\n",
              "    <tr>\n",
              "      <th>2021-07-22</th>\n",
              "      <td>[(005380, 0.002192982456140413)]</td>\n",
              "    </tr>\n",
              "    <tr>\n",
              "      <th>...</th>\n",
              "      <td>...</td>\n",
              "    </tr>\n",
              "    <tr>\n",
              "      <th>2021-07-22</th>\n",
              "      <td>[(103140, 0.03604806408544725)]</td>\n",
              "    </tr>\n",
              "    <tr>\n",
              "      <th>2021-07-22</th>\n",
              "      <td>[(284740, -0.015401540154015403)]</td>\n",
              "    </tr>\n",
              "    <tr>\n",
              "      <th>2021-07-22</th>\n",
              "      <td>[(105630, 0.007009345794392496)]</td>\n",
              "    </tr>\n",
              "    <tr>\n",
              "      <th>2021-07-22</th>\n",
              "      <td>[(057050, 0.001175088131609936)]</td>\n",
              "    </tr>\n",
              "    <tr>\n",
              "      <th>2021-07-22</th>\n",
              "      <td>[(000070, 0.01449275362318847)]</td>\n",
              "    </tr>\n",
              "  </tbody>\n",
              "</table>\n",
              "<p>192 rows × 1 columns</p>\n",
              "</div>\n",
              "      <button class=\"colab-df-convert\" onclick=\"convertToInteractive('df-40a9507a-33a7-4450-b7f2-922ff49d09ec')\"\n",
              "              title=\"Convert this dataframe to an interactive table.\"\n",
              "              style=\"display:none;\">\n",
              "        \n",
              "  <svg xmlns=\"http://www.w3.org/2000/svg\" height=\"24px\"viewBox=\"0 0 24 24\"\n",
              "       width=\"24px\">\n",
              "    <path d=\"M0 0h24v24H0V0z\" fill=\"none\"/>\n",
              "    <path d=\"M18.56 5.44l.94 2.06.94-2.06 2.06-.94-2.06-.94-.94-2.06-.94 2.06-2.06.94zm-11 1L8.5 8.5l.94-2.06 2.06-.94-2.06-.94L8.5 2.5l-.94 2.06-2.06.94zm10 10l.94 2.06.94-2.06 2.06-.94-2.06-.94-.94-2.06-.94 2.06-2.06.94z\"/><path d=\"M17.41 7.96l-1.37-1.37c-.4-.4-.92-.59-1.43-.59-.52 0-1.04.2-1.43.59L10.3 9.45l-7.72 7.72c-.78.78-.78 2.05 0 2.83L4 21.41c.39.39.9.59 1.41.59.51 0 1.02-.2 1.41-.59l7.78-7.78 2.81-2.81c.8-.78.8-2.07 0-2.86zM5.41 20L4 18.59l7.72-7.72 1.47 1.35L5.41 20z\"/>\n",
              "  </svg>\n",
              "      </button>\n",
              "      \n",
              "  <style>\n",
              "    .colab-df-container {\n",
              "      display:flex;\n",
              "      flex-wrap:wrap;\n",
              "      gap: 12px;\n",
              "    }\n",
              "\n",
              "    .colab-df-convert {\n",
              "      background-color: #E8F0FE;\n",
              "      border: none;\n",
              "      border-radius: 50%;\n",
              "      cursor: pointer;\n",
              "      display: none;\n",
              "      fill: #1967D2;\n",
              "      height: 32px;\n",
              "      padding: 0 0 0 0;\n",
              "      width: 32px;\n",
              "    }\n",
              "\n",
              "    .colab-df-convert:hover {\n",
              "      background-color: #E2EBFA;\n",
              "      box-shadow: 0px 1px 2px rgba(60, 64, 67, 0.3), 0px 1px 3px 1px rgba(60, 64, 67, 0.15);\n",
              "      fill: #174EA6;\n",
              "    }\n",
              "\n",
              "    [theme=dark] .colab-df-convert {\n",
              "      background-color: #3B4455;\n",
              "      fill: #D2E3FC;\n",
              "    }\n",
              "\n",
              "    [theme=dark] .colab-df-convert:hover {\n",
              "      background-color: #434B5C;\n",
              "      box-shadow: 0px 1px 3px 1px rgba(0, 0, 0, 0.15);\n",
              "      filter: drop-shadow(0px 1px 2px rgba(0, 0, 0, 0.3));\n",
              "      fill: #FFFFFF;\n",
              "    }\n",
              "  </style>\n",
              "\n",
              "      <script>\n",
              "        const buttonEl =\n",
              "          document.querySelector('#df-40a9507a-33a7-4450-b7f2-922ff49d09ec button.colab-df-convert');\n",
              "        buttonEl.style.display =\n",
              "          google.colab.kernel.accessAllowed ? 'block' : 'none';\n",
              "\n",
              "        async function convertToInteractive(key) {\n",
              "          const element = document.querySelector('#df-40a9507a-33a7-4450-b7f2-922ff49d09ec');\n",
              "          const dataTable =\n",
              "            await google.colab.kernel.invokeFunction('convertToInteractive',\n",
              "                                                     [key], {});\n",
              "          if (!dataTable) return;\n",
              "\n",
              "          const docLinkHtml = 'Like what you see? Visit the ' +\n",
              "            '<a target=\"_blank\" href=https://colab.research.google.com/notebooks/data_table.ipynb>data table notebook</a>'\n",
              "            + ' to learn more about interactive tables.';\n",
              "          element.innerHTML = '';\n",
              "          dataTable['output_type'] = 'display_data';\n",
              "          await google.colab.output.renderOutput(dataTable, element);\n",
              "          const docLink = document.createElement('div');\n",
              "          docLink.innerHTML = docLinkHtml;\n",
              "          element.appendChild(docLink);\n",
              "        }\n",
              "      </script>\n",
              "    </div>\n",
              "  </div>\n",
              "  "
            ]
          },
          "metadata": {},
          "execution_count": 37
        }
      ]
    },
    {
      "cell_type": "markdown",
      "metadata": {
        "id": "IoAlsknVeZqo"
      },
      "source": [
        "2021년 7월 22일에 대해서 200개의 종목이 전날 대비 변화율이 저장되어져 있습니다."
      ]
    },
    {
      "cell_type": "markdown",
      "metadata": {
        "id": "E1OF8Sn-eeXQ"
      },
      "source": [
        "이제 전체 데이터프레임에서 동일한 날짜의 데이터는 전부 하나의 행으로 묶어주는 작업을 합니다.  \n",
        "여기서 원하는 것은 각 날짜의 행에 (종목, 그 종목의 전날 비교 변화율)을 모아놓는 것입니다."
      ]
    },
    {
      "cell_type": "code",
      "metadata": {
        "id": "9Lr3KmvqM8D4",
        "colab": {
          "base_uri": "https://localhost:8080/",
          "height": 238
        },
        "outputId": "09de1d29-51bc-461c-80b4-10847d899929"
      },
      "source": [
        "train_data=data.groupby(['Date']).sum()\n",
        "train_data=pd.DataFrame(train_data)\n",
        "train_data.columns.values[0] = 'rate'\n",
        "train_data[:5]"
      ],
      "execution_count": 38,
      "outputs": [
        {
          "output_type": "execute_result",
          "data": {
            "text/plain": [
              "                                                         rate\n",
              "Date                                                         \n",
              "2015-01-05  [(005930, 0.0022556390977443996), (000660, -0....\n",
              "2015-01-06  [(005930, -0.028507126781695424), (000660, -0....\n",
              "2015-01-07  [(005930, 0.009266409266409203), (000660, -0.0...\n",
              "2015-01-08  [(005930, 0.00535577658760511), (000660, 0.053...\n",
              "2015-01-09  [(005930, 0.0), (000660, -0.005005005005005003..."
            ],
            "text/html": [
              "\n",
              "  <div id=\"df-12f89463-0f52-42e3-aa63-a42e9cb97876\">\n",
              "    <div class=\"colab-df-container\">\n",
              "      <div>\n",
              "<style scoped>\n",
              "    .dataframe tbody tr th:only-of-type {\n",
              "        vertical-align: middle;\n",
              "    }\n",
              "\n",
              "    .dataframe tbody tr th {\n",
              "        vertical-align: top;\n",
              "    }\n",
              "\n",
              "    .dataframe thead th {\n",
              "        text-align: right;\n",
              "    }\n",
              "</style>\n",
              "<table border=\"1\" class=\"dataframe\">\n",
              "  <thead>\n",
              "    <tr style=\"text-align: right;\">\n",
              "      <th></th>\n",
              "      <th>rate</th>\n",
              "    </tr>\n",
              "    <tr>\n",
              "      <th>Date</th>\n",
              "      <th></th>\n",
              "    </tr>\n",
              "  </thead>\n",
              "  <tbody>\n",
              "    <tr>\n",
              "      <th>2015-01-05</th>\n",
              "      <td>[(005930, 0.0022556390977443996), (000660, -0....</td>\n",
              "    </tr>\n",
              "    <tr>\n",
              "      <th>2015-01-06</th>\n",
              "      <td>[(005930, -0.028507126781695424), (000660, -0....</td>\n",
              "    </tr>\n",
              "    <tr>\n",
              "      <th>2015-01-07</th>\n",
              "      <td>[(005930, 0.009266409266409203), (000660, -0.0...</td>\n",
              "    </tr>\n",
              "    <tr>\n",
              "      <th>2015-01-08</th>\n",
              "      <td>[(005930, 0.00535577658760511), (000660, 0.053...</td>\n",
              "    </tr>\n",
              "    <tr>\n",
              "      <th>2015-01-09</th>\n",
              "      <td>[(005930, 0.0), (000660, -0.005005005005005003...</td>\n",
              "    </tr>\n",
              "  </tbody>\n",
              "</table>\n",
              "</div>\n",
              "      <button class=\"colab-df-convert\" onclick=\"convertToInteractive('df-12f89463-0f52-42e3-aa63-a42e9cb97876')\"\n",
              "              title=\"Convert this dataframe to an interactive table.\"\n",
              "              style=\"display:none;\">\n",
              "        \n",
              "  <svg xmlns=\"http://www.w3.org/2000/svg\" height=\"24px\"viewBox=\"0 0 24 24\"\n",
              "       width=\"24px\">\n",
              "    <path d=\"M0 0h24v24H0V0z\" fill=\"none\"/>\n",
              "    <path d=\"M18.56 5.44l.94 2.06.94-2.06 2.06-.94-2.06-.94-.94-2.06-.94 2.06-2.06.94zm-11 1L8.5 8.5l.94-2.06 2.06-.94-2.06-.94L8.5 2.5l-.94 2.06-2.06.94zm10 10l.94 2.06.94-2.06 2.06-.94-2.06-.94-.94-2.06-.94 2.06-2.06.94z\"/><path d=\"M17.41 7.96l-1.37-1.37c-.4-.4-.92-.59-1.43-.59-.52 0-1.04.2-1.43.59L10.3 9.45l-7.72 7.72c-.78.78-.78 2.05 0 2.83L4 21.41c.39.39.9.59 1.41.59.51 0 1.02-.2 1.41-.59l7.78-7.78 2.81-2.81c.8-.78.8-2.07 0-2.86zM5.41 20L4 18.59l7.72-7.72 1.47 1.35L5.41 20z\"/>\n",
              "  </svg>\n",
              "      </button>\n",
              "      \n",
              "  <style>\n",
              "    .colab-df-container {\n",
              "      display:flex;\n",
              "      flex-wrap:wrap;\n",
              "      gap: 12px;\n",
              "    }\n",
              "\n",
              "    .colab-df-convert {\n",
              "      background-color: #E8F0FE;\n",
              "      border: none;\n",
              "      border-radius: 50%;\n",
              "      cursor: pointer;\n",
              "      display: none;\n",
              "      fill: #1967D2;\n",
              "      height: 32px;\n",
              "      padding: 0 0 0 0;\n",
              "      width: 32px;\n",
              "    }\n",
              "\n",
              "    .colab-df-convert:hover {\n",
              "      background-color: #E2EBFA;\n",
              "      box-shadow: 0px 1px 2px rgba(60, 64, 67, 0.3), 0px 1px 3px 1px rgba(60, 64, 67, 0.15);\n",
              "      fill: #174EA6;\n",
              "    }\n",
              "\n",
              "    [theme=dark] .colab-df-convert {\n",
              "      background-color: #3B4455;\n",
              "      fill: #D2E3FC;\n",
              "    }\n",
              "\n",
              "    [theme=dark] .colab-df-convert:hover {\n",
              "      background-color: #434B5C;\n",
              "      box-shadow: 0px 1px 3px 1px rgba(0, 0, 0, 0.15);\n",
              "      filter: drop-shadow(0px 1px 2px rgba(0, 0, 0, 0.3));\n",
              "      fill: #FFFFFF;\n",
              "    }\n",
              "  </style>\n",
              "\n",
              "      <script>\n",
              "        const buttonEl =\n",
              "          document.querySelector('#df-12f89463-0f52-42e3-aa63-a42e9cb97876 button.colab-df-convert');\n",
              "        buttonEl.style.display =\n",
              "          google.colab.kernel.accessAllowed ? 'block' : 'none';\n",
              "\n",
              "        async function convertToInteractive(key) {\n",
              "          const element = document.querySelector('#df-12f89463-0f52-42e3-aa63-a42e9cb97876');\n",
              "          const dataTable =\n",
              "            await google.colab.kernel.invokeFunction('convertToInteractive',\n",
              "                                                     [key], {});\n",
              "          if (!dataTable) return;\n",
              "\n",
              "          const docLinkHtml = 'Like what you see? Visit the ' +\n",
              "            '<a target=\"_blank\" href=https://colab.research.google.com/notebooks/data_table.ipynb>data table notebook</a>'\n",
              "            + ' to learn more about interactive tables.';\n",
              "          element.innerHTML = '';\n",
              "          dataTable['output_type'] = 'display_data';\n",
              "          await google.colab.output.renderOutput(dataTable, element);\n",
              "          const docLink = document.createElement('div');\n",
              "          docLink.innerHTML = docLinkHtml;\n",
              "          element.appendChild(docLink);\n",
              "        }\n",
              "      </script>\n",
              "    </div>\n",
              "  </div>\n",
              "  "
            ]
          },
          "metadata": {},
          "execution_count": 38
        }
      ]
    },
    {
      "cell_type": "markdown",
      "metadata": {
        "id": "J4awrr0dem_x"
      },
      "source": [
        "2015년 1월 5일의 데이터를 보겠습니다."
      ]
    },
    {
      "cell_type": "code",
      "metadata": {
        "id": "PtJANhKZM8EO",
        "colab": {
          "base_uri": "https://localhost:8080/"
        },
        "outputId": "ba2de72d-7c6e-4075-ef5b-7e4967f697c9"
      },
      "source": [
        "train_data['rate'][0]"
      ],
      "execution_count": 39,
      "outputs": [
        {
          "output_type": "execute_result",
          "data": {
            "text/plain": [
              "[('005930', 0.0022556390977443996),\n",
              " ('000660', -0.0020942408376963817),\n",
              " ('035420', 0.02462313960398066),\n",
              " ('005380', -0.00591715976331364),\n",
              " ('051910', -0.030555555555555558),\n",
              " ('006400', -0.017094017094017144),\n",
              " ('000270', -0.005736137667303964),\n",
              " ('035720', 0.05319921562931218),\n",
              " ('068270', -0.005131181087932535),\n",
              " ('028260', -0.14912280701754388),\n",
              " ('012330', -0.006263048016701411),\n",
              " ('005490', -0.015873015873015928),\n",
              " ('105560', -0.01666666666666672),\n",
              " ('055550', -0.006741573033707815),\n",
              " ('096770', -0.023809523809523836),\n",
              " ('034730', 0.006507592190889477),\n",
              " ('066570', -0.006802721088435382),\n",
              " ('015760', -0.016393442622950838),\n",
              " ('003550', 0.008071825566481339),\n",
              " ('032830', 0.017391304347825987),\n",
              " ('011200', 0.0),\n",
              " ('034020', 0.011089404734543784),\n",
              " ('017670', 0.014675855028075446),\n",
              " ('051900', -0.012944983818770184),\n",
              " ('033780', 0.010230179028132946),\n",
              " ('086790', -0.020312499999999956),\n",
              " ('009150', 0.057657657657657735),\n",
              " ('018260', -0.02515723270440251),\n",
              " ('010950', -0.007201646090534974),\n",
              " ('030200', 0.009493670886076),\n",
              " ('000810', 0.0035087719298245723),\n",
              " ('003490', 0.023254035034039555),\n",
              " ('003670', 0.010038786219484397),\n",
              " ('010130', -0.019728729963008673),\n",
              " ('036570', 0.07202216066481992),\n",
              " ('090430', -0.009872994078777952),\n",
              " ('011070', 0.022421524663677195),\n",
              " ('024110', 0.0036496350364962904),\n",
              " ('086280', -0.011345218800648316),\n",
              " ('009830', 0.004362843119432913),\n",
              " ('097950', 0.041254125412541365),\n",
              " ('009540', -0.040179668380134315),\n",
              " ('011170', -0.03416149068322982),\n",
              " ('034220', 0.0046511627906977715),\n",
              " ('018880', 0.019978969505783484),\n",
              " ('035250', -0.0066006600660065695),\n",
              " ('032640', 0.034482758620689724),\n",
              " ('011790', 0.007619047619047636),\n",
              " ('047810', 0.0),\n",
              " ('010140', -0.030548321250087995),\n",
              " ('021240', -0.007058823529411784),\n",
              " ('000720', 0.003664382702105673),\n",
              " ('004020', 0.010852713178294504),\n",
              " ('000100', -0.00591693241633684),\n",
              " ('005830', -0.014571948998178486),\n",
              " ('161390', -0.02131782945736438),\n",
              " ('006800', -0.03271217338464649),\n",
              " ('180640', 0.011221251676644783),\n",
              " ('000060', -0.015873015873015928),\n",
              " ('028050', -0.034568449079210084),\n",
              " ('128940', -0.02180094786729858),\n",
              " ('011780', -0.00495662949194553),\n",
              " ('078930', -0.01882057716436636),\n",
              " ('004990', -0.007921400960524738),\n",
              " ('029780', -0.05600000000000005),\n",
              " ('071050', -0.012474012474012475),\n",
              " ('010620', 0.01773718326458451),\n",
              " ('020150', -0.0138196324262716),\n",
              " ('036460', 0.008146639511201537),\n",
              " ('138040', 0.0),\n",
              " ('003410', -0.021248339973439556),\n",
              " ('002790', -0.0087811937729797),\n",
              " ('139480', -0.014388489208633115),\n",
              " ('005940', -0.014563106796116498),\n",
              " ('016360', -0.019070294260419285),\n",
              " ('008560', 0.0025062656641603454),\n",
              " ('028670', 0.019011406844106515),\n",
              " ('001450', 0.0038461538461538325),\n",
              " ('008770', 0.020042194092827037),\n",
              " ('010060', -0.03116883116883118),\n",
              " ('008930', 0.01644093008690195),\n",
              " ('064350', -0.022613065326633208),\n",
              " ('000120', -0.026666666666666616),\n",
              " ('023530', -0.024434348321701882),\n",
              " ('204320', -0.002739726027397249),\n",
              " ('007070', 0.0040567951318457585),\n",
              " ('030000', -0.017492711370262426),\n",
              " ('002380', -0.014952097083244631),\n",
              " ('012450', -0.04112554112554112),\n",
              " ('006360', -0.044642857142857095),\n",
              " ('014680', 0.012345679012345734),\n",
              " ('026960', -0.013333333333333308),\n",
              " ('012750', 0.014064697609001309),\n",
              " ('052690', -0.007049345417925457),\n",
              " ('047050', -0.013157894736842146),\n",
              " ('001040', 0.01269888295615984),\n",
              " ('047040', -0.00536672629695889),\n",
              " ('069620', 0.03007518796992481),\n",
              " ('042660', -0.029333333333333322),\n",
              " ('138930', -0.013945086705202336),\n",
              " ('004170', -0.013698630136986356),\n",
              " ('039490', -0.016684045881126153),\n",
              " ('001440', 0.0),\n",
              " ('006280', -0.007547169811320753),\n",
              " ('000080', 0.019911504424778848),\n",
              " ('112610', 0.047250996015936186),\n",
              " ('000990', -0.013993541442411161),\n",
              " ('088350', -0.02515723270440251),\n",
              " ('000880', -0.004953350296861725),\n",
              " ('081660', 0.03111111111111109),\n",
              " ('111770', 0.0073260073260073),\n",
              " ('006260', -0.012987012987012991),\n",
              " ('004370', -0.026156941649899346),\n",
              " ('019170', -0.019883040935672502),\n",
              " ('004000', -0.017964071856287456),\n",
              " ('007310', 0.03398558187435641),\n",
              " ('051600', -0.0012987012987012436),\n",
              " ('011210', 0.0),\n",
              " ('093370', 0.031470777135516936),\n",
              " ('003090', -0.02376661410227532),\n",
              " ('014820', -0.004065040650406471),\n",
              " ('004800', -0.0014858092623838415),\n",
              " ('005300', -0.0020268489929938793),\n",
              " ('069960', -0.01619433198380571),\n",
              " ('010120', 0.0),\n",
              " ('120110', 0.014767932489451407),\n",
              " ('005850', 0.026185266229029835),\n",
              " ('000210', -0.03875915790196116),\n",
              " ('009240', 0.029535864978903037),\n",
              " ('010780', 0.06909788867562372),\n",
              " ('016380', 0.0860197263760738),\n",
              " ('001230', 0.04679376083188913),\n",
              " ('001120', -0.006837606837606813),\n",
              " ('000240', -0.014256619144602856),\n",
              " ('017800', 0.01879224133194124),\n",
              " ('020560', 0.01837418131167956),\n",
              " ('000150', 0.004927771871677811),\n",
              " ('185750', 0.00773766381319918),\n",
              " ('042670', -0.004053892929533842),\n",
              " ('001740', 0.0),\n",
              " ('031430', -0.012987012987012991),\n",
              " ('178920', -0.015000000000000013),\n",
              " ('073240', -0.025536261491317713),\n",
              " ('003240', 0.005159071367153878),\n",
              " ('005250', -0.009708737864077666),\n",
              " ('000670', -0.02080000000000004),\n",
              " ('001800', 0.00999531787553698),\n",
              " ('161890', 0.010309278350515427),\n",
              " ('009420', -0.006518904823989535),\n",
              " ('114090', 0.013677811550151908),\n",
              " ('032350', 0.0),\n",
              " ('006650', 0.02467343976777947),\n",
              " ('192820', -0.01286526688695755),\n",
              " ('039130', 0.08020129784134555),\n",
              " ('069260', -0.03041825095057038),\n",
              " ('006040', 0.003154574132492094),\n",
              " ('020000', -0.010937500000000044),\n",
              " ('001680', 0.027737226277372296),\n",
              " ('005440', -0.00527704485488123),\n",
              " ('004490', -0.03735990037359904),\n",
              " ('003850', -0.001110494169905607),\n",
              " ('103140', -0.006048387096774244),\n",
              " ('105630', 0.011435832274459878),\n",
              " ('057050', -0.014388489208633115),\n",
              " ('000070', -0.012249443207126953)]"
            ]
          },
          "metadata": {},
          "execution_count": 39
        }
      ]
    },
    {
      "cell_type": "markdown",
      "metadata": {
        "id": "ZPAIcurMept7"
      },
      "source": [
        "변화율 순으로 정렬합니다."
      ]
    },
    {
      "cell_type": "code",
      "metadata": {
        "id": "72y5dh6pM8En"
      },
      "source": [
        "train_data['rate'] = train_data['rate'].map(lambda x : sorted(x, key=lambda x: x[1], reverse=True))"
      ],
      "execution_count": 40,
      "outputs": []
    },
    {
      "cell_type": "code",
      "metadata": {
        "id": "2F-vmDTfM8Eu",
        "colab": {
          "base_uri": "https://localhost:8080/"
        },
        "outputId": "1a98c0bf-1dc1-4f8a-f293-d8dcb1ed23ba"
      },
      "source": [
        "train_data['rate'][:5]"
      ],
      "execution_count": 41,
      "outputs": [
        {
          "output_type": "execute_result",
          "data": {
            "text/plain": [
              "Date\n",
              "2015-01-05    [(016380, 0.0860197263760738), (039130, 0.0802...\n",
              "2015-01-06    [(009240, 0.05327868852459017), (081660, 0.038...\n",
              "2015-01-07    [(005300, 0.07186903287181834), (008770, 0.057...\n",
              "2015-01-08    [(000670, 0.06260296540362442), (051600, 0.058...\n",
              "2015-01-09    [(039490, 0.1497382198952879), (028260, 0.1111...\n",
              "Name: rate, dtype: object"
            ]
          },
          "metadata": {},
          "execution_count": 41
        }
      ]
    },
    {
      "cell_type": "code",
      "metadata": {
        "id": "AzxyO0c8M8E4",
        "colab": {
          "base_uri": "https://localhost:8080/"
        },
        "outputId": "87edb5dc-0ec4-4573-a48e-13077e258204"
      },
      "source": [
        "print('훈련 데이터의 길이는 : {}'.format(len(train_data)))"
      ],
      "execution_count": 42,
      "outputs": [
        {
          "output_type": "stream",
          "name": "stdout",
          "text": [
            "훈련 데이터의 길이는 : 1613\n"
          ]
        }
      ]
    },
    {
      "cell_type": "markdown",
      "metadata": {
        "id": "yEBVmOC0erS2"
      },
      "source": [
        "정렬이 된 상황에서는 이제 변화율값이 필요가 없습니다. 종목 코드만 남깁니다."
      ]
    },
    {
      "cell_type": "code",
      "metadata": {
        "id": "xBoVGuicM8FN"
      },
      "source": [
        "train_data['rate'] = train_data['rate'].map(lambda x : [i[0] for i in x])"
      ],
      "execution_count": 43,
      "outputs": []
    },
    {
      "cell_type": "code",
      "metadata": {
        "id": "MSQj0fNoM8FU",
        "colab": {
          "base_uri": "https://localhost:8080/"
        },
        "outputId": "f3273d93-8593-4c1b-f841-813cb62ed98b"
      },
      "source": [
        "train_data['rate'][:5]"
      ],
      "execution_count": 44,
      "outputs": [
        {
          "output_type": "execute_result",
          "data": {
            "text/plain": [
              "Date\n",
              "2015-01-05    [016380, 039130, 036570, 010780, 009150, 03572...\n",
              "2015-01-06    [009240, 081660, 034220, 051600, 066570, 00341...\n",
              "2015-01-07    [005300, 008770, 011210, 005380, 015760, 01178...\n",
              "2015-01-08    [000670, 051600, 009150, 011070, 017800, 01468...\n",
              "2015-01-09    [039490, 028260, 006650, 009240, 012450, 07105...\n",
              "Name: rate, dtype: object"
            ]
          },
          "metadata": {},
          "execution_count": 44
        }
      ]
    },
    {
      "cell_type": "markdown",
      "metadata": {
        "id": "McqigzmfetnT"
      },
      "source": [
        "훈련 데이터를 리스트 형태로 바꿔줍니다."
      ]
    },
    {
      "cell_type": "code",
      "metadata": {
        "id": "7NdLvM2ZM8Fm"
      },
      "source": [
        "train_list = train_data.values.tolist()"
      ],
      "execution_count": 45,
      "outputs": []
    },
    {
      "cell_type": "code",
      "metadata": {
        "colab": {
          "base_uri": "https://localhost:8080/"
        },
        "id": "YakHdzbPe7VX",
        "outputId": "db318e51-851c-456a-8a0f-8e627ee1af38"
      },
      "source": [
        "len(train_list)"
      ],
      "execution_count": 46,
      "outputs": [
        {
          "output_type": "execute_result",
          "data": {
            "text/plain": [
              "1613"
            ]
          },
          "metadata": {},
          "execution_count": 46
        }
      ]
    },
    {
      "cell_type": "code",
      "metadata": {
        "colab": {
          "base_uri": "https://localhost:8080/"
        },
        "id": "z5cR7jbrfDUV",
        "outputId": "0b9350b2-fe65-4b78-c037-cfda48aff890"
      },
      "source": [
        "print(train_list[0])"
      ],
      "execution_count": 47,
      "outputs": [
        {
          "output_type": "stream",
          "name": "stdout",
          "text": [
            "[['016380', '039130', '036570', '010780', '009150', '035720', '112610', '001230', '097950', '032640', '007310', '093370', '081660', '069620', '009240', '001680', '005850', '006650', '035420', '003490', '011070', '008770', '018880', '000080', '028670', '017800', '020560', '010620', '032830', '008930', '120110', '017670', '012750', '114090', '001040', '014680', '105630', '180640', '034020', '004020', '161890', '033780', '003670', '001800', '030200', '036460', '003550', '185750', '011790', '111770', '034730', '003240', '000150', '034220', '009830', '007070', '001450', '000720', '024110', '000810', '006040', '008560', '005930', '011200', '047810', '138040', '001440', '011210', '010120', '001740', '032350', '003850', '051600', '004800', '005300', '000660', '204320', '042670', '014820', '000880', '011780', '068270', '005440', '047040', '000270', '000100', '005380', '103140', '012330', '009420', '035250', '055550', '066570', '001120', '052690', '021240', '010950', '006280', '004990', '002790', '005250', '090430', '020000', '086280', '000070', '071050', '192820', '051900', '006260', '031430', '047050', '026960', '004170', '020150', '138930', '000990', '000240', '139480', '057050', '005940', '005830', '002380', '178920', '005490', '000060', '069960', '015760', '105560', '039490', '006400', '030000', '004000', '078930', '016360', '010130', '019170', '086790', '000670', '003410', '161390', '128940', '064350', '003090', '096770', '023530', '018260', '088350', '073240', '004370', '000120', '042660', '069260', '010140', '051910', '010060', '006800', '011170', '028050', '004490', '000210', '009540', '012450', '006360', '029780', '028260']]\n"
          ]
        }
      ]
    },
    {
      "cell_type": "markdown",
      "metadata": {
        "id": "g58T8KGOfOYI"
      },
      "source": [
        "현재 리스트가 삼중 리스트이므로 이중 리스트로 바꿔줍니다."
      ]
    },
    {
      "cell_type": "code",
      "metadata": {
        "id": "dO4r-4rmM8F5"
      },
      "source": [
        "train_list = [item[0] for item in train_list]"
      ],
      "execution_count": 48,
      "outputs": []
    },
    {
      "cell_type": "code",
      "metadata": {
        "colab": {
          "base_uri": "https://localhost:8080/"
        },
        "id": "uqQFmBy6fR6o",
        "outputId": "8a7b0372-2eaa-4c9c-e16a-511a8380654c"
      },
      "source": [
        "len(train_list)"
      ],
      "execution_count": 49,
      "outputs": [
        {
          "output_type": "execute_result",
          "data": {
            "text/plain": [
              "1613"
            ]
          },
          "metadata": {},
          "execution_count": 49
        }
      ]
    },
    {
      "cell_type": "code",
      "metadata": {
        "colab": {
          "base_uri": "https://localhost:8080/"
        },
        "id": "ZgGLqysIfVnK",
        "outputId": "5a972f1d-aed5-4c43-bf0f-f8f78408dc89"
      },
      "source": [
        "print(train_list[0])"
      ],
      "execution_count": 50,
      "outputs": [
        {
          "output_type": "stream",
          "name": "stdout",
          "text": [
            "['016380', '039130', '036570', '010780', '009150', '035720', '112610', '001230', '097950', '032640', '007310', '093370', '081660', '069620', '009240', '001680', '005850', '006650', '035420', '003490', '011070', '008770', '018880', '000080', '028670', '017800', '020560', '010620', '032830', '008930', '120110', '017670', '012750', '114090', '001040', '014680', '105630', '180640', '034020', '004020', '161890', '033780', '003670', '001800', '030200', '036460', '003550', '185750', '011790', '111770', '034730', '003240', '000150', '034220', '009830', '007070', '001450', '000720', '024110', '000810', '006040', '008560', '005930', '011200', '047810', '138040', '001440', '011210', '010120', '001740', '032350', '003850', '051600', '004800', '005300', '000660', '204320', '042670', '014820', '000880', '011780', '068270', '005440', '047040', '000270', '000100', '005380', '103140', '012330', '009420', '035250', '055550', '066570', '001120', '052690', '021240', '010950', '006280', '004990', '002790', '005250', '090430', '020000', '086280', '000070', '071050', '192820', '051900', '006260', '031430', '047050', '026960', '004170', '020150', '138930', '000990', '000240', '139480', '057050', '005940', '005830', '002380', '178920', '005490', '000060', '069960', '015760', '105560', '039490', '006400', '030000', '004000', '078930', '016360', '010130', '019170', '086790', '000670', '003410', '161390', '128940', '064350', '003090', '096770', '023530', '018260', '088350', '073240', '004370', '000120', '042660', '069260', '010140', '051910', '010060', '006800', '011170', '028050', '004490', '000210', '009540', '012450', '006360', '029780', '028260']\n"
          ]
        }
      ]
    },
    {
      "cell_type": "markdown",
      "metadata": {
        "id": "NzMQZ5UteyHl"
      },
      "source": [
        "코드로 보는 것보단 종목 이름으로 보는 게 더 편하겠죠. 이중 리스트에 있는 종목 코드들을 전부 이름으로 바꿔줍니다.  \n",
        "이는 앞서 만들어놓은 kospi200_dict를 사용하면 됩니다."
      ]
    },
    {
      "cell_type": "code",
      "metadata": {
        "id": "EOPq3YgnM8GN",
        "colab": {
          "base_uri": "https://localhost:8080/",
          "height": 36
        },
        "outputId": "cdeb9a61-177f-47ca-caa2-fd9664018099"
      },
      "source": [
        "kospi200_dict['014820']"
      ],
      "execution_count": 51,
      "outputs": [
        {
          "output_type": "execute_result",
          "data": {
            "text/plain": [
              "'동원시스템즈'"
            ],
            "application/vnd.google.colaboratory.intrinsic+json": {
              "type": "string"
            }
          },
          "metadata": {},
          "execution_count": 51
        }
      ]
    },
    {
      "cell_type": "code",
      "metadata": {
        "id": "uBgPRnlgM8Ga",
        "colab": {
          "base_uri": "https://localhost:8080/",
          "height": 36
        },
        "outputId": "cf01c8c1-1025-48e0-c06b-318f1ceeac8a"
      },
      "source": [
        "kospi200_dict['010130']"
      ],
      "execution_count": 52,
      "outputs": [
        {
          "output_type": "execute_result",
          "data": {
            "text/plain": [
              "'고려아연'"
            ],
            "application/vnd.google.colaboratory.intrinsic+json": {
              "type": "string"
            }
          },
          "metadata": {},
          "execution_count": 52
        }
      ]
    },
    {
      "cell_type": "code",
      "metadata": {
        "id": "Cy5s92fJM8Gi",
        "colab": {
          "base_uri": "https://localhost:8080/"
        },
        "outputId": "5586a18d-7bd2-4c09-dd1b-c0ddf91e6a54"
      },
      "source": [
        "print(len(kospi200_dict))"
      ],
      "execution_count": 53,
      "outputs": [
        {
          "output_type": "stream",
          "name": "stdout",
          "text": [
            "200\n"
          ]
        }
      ]
    },
    {
      "cell_type": "code",
      "metadata": {
        "id": "c5BZUncXM8Gr",
        "colab": {
          "base_uri": "https://localhost:8080/"
        },
        "outputId": "465c71d0-f63e-4d0c-9315-680b9578cb8a"
      },
      "source": [
        "temp2=[]\n",
        "for line in tqdm(train_list):\n",
        "  temp1=[]\n",
        "  for code in line:\n",
        "    temp1.append(kospi200_dict[code])\n",
        "  temp2.append(temp1)"
      ],
      "execution_count": 54,
      "outputs": [
        {
          "output_type": "stream",
          "name": "stderr",
          "text": [
            "100%|██████████| 1613/1613 [00:00<00:00, 19128.25it/s]\n"
          ]
        }
      ]
    },
    {
      "cell_type": "code",
      "metadata": {
        "colab": {
          "base_uri": "https://localhost:8080/"
        },
        "id": "8U5-cYZ6ArQF",
        "outputId": "967fd364-fdf8-4fac-ce60-afca6d049c97"
      },
      "source": [
        "len(temp2)"
      ],
      "execution_count": 55,
      "outputs": [
        {
          "output_type": "execute_result",
          "data": {
            "text/plain": [
              "1613"
            ]
          },
          "metadata": {},
          "execution_count": 55
        }
      ]
    },
    {
      "cell_type": "code",
      "metadata": {
        "colab": {
          "base_uri": "https://localhost:8080/"
        },
        "id": "dhB-PKhNAvg_",
        "outputId": "a32382bc-a256-4f81-e59f-3578edf4f901"
      },
      "source": [
        "print(temp2[0])"
      ],
      "execution_count": 56,
      "outputs": [
        {
          "output_type": "stream",
          "name": "stdout",
          "text": [
            "['KG스틸', '하나투어', '엔씨소프트', '아이에스동서', '삼성전기', '카카오', '씨에스윈드', '동국제강', 'CJ제일제당', 'LG유플러스', '오뚜기', '후성', '휠라홀딩스', '대웅제약', '한샘', '대상', '에스엘', '대한유화', 'NAVER', '대한항공', 'LG이노텍', '호텔신라', '한온시스템', '하이트진로', '팬오션', '현대엘리베이', '아시아나항공', '현대미포조선', '삼성생명', '한미사이언스', '코오롱인더', 'SK텔레콤', '에스원', 'GKL', 'CJ', '한솔케미칼', '한세실업', '한진칼', '두산에너빌리티', '현대제철', '한국콜마', 'KT&G', '포스코케미칼', '오리온홀딩스', 'KT', '한국가스공사', 'LG', '종근당', 'SKC', '영원무역', 'SK', '태광산업', '두산', 'LG디스플레이', '한화솔루션', 'GS리테일', '현대해상', '현대건설', '기업은행', '삼성화재', '동원산업', '메리츠증권', '삼성전자', 'HMM', '한국항공우주', '메리츠금융지주', '대한전선', '현대위아', 'LSELECTRIC', 'SK네트웍스', '롯데관광개발', '보령', '한전KPS', '효성', '롯데칠성', 'SK하이닉스', '만도', '현대두산인프라코어', '동원시스템즈', '한화', '금호석유', '셀트리온', '현대그린푸드', '대우건설', '기아', '유한양행', '현대차', '풍산', '현대모비스', '한올바이오파마', '강원랜드', '신한지주', 'LG전자', 'LX인터내셔널', '한전기술', '코웨이', 'S-Oil', '녹십자', '롯데지주', '아모레G', '녹십자홀딩스', '아모레퍼시픽', '한섬', '현대글로비스', '삼양홀딩스', '한국금융지주', '코스맥스', 'LG생활건강', 'LS', '신세계인터내셔날', '포스코인터내셔널', '동서', '신세계', '일진머티리얼즈', 'BNK금융지주', 'DB하이텍', '한국앤컴퍼니', '이마트', '현대홈쇼핑', 'NH투자증권', 'DB손해보험', 'KCC', 'PI첨단소재', 'POSCO홀딩스', '메리츠화재', '현대백화점', '한국전력', 'KB금융', '키움증권', '삼성SDI', '제일기획', '롯데정밀화학', 'GS', '삼성증권', '고려아연', '신풍제약', '하나금융지주', '영풍', '쌍용C&E', '한국타이어앤테크놀로지', '한미약품', '현대로템', '대웅', 'SK이노베이션', '롯데쇼핑', '삼성에스디에스', '한화생명', '금호타이어', '농심', 'CJ대한통운', '대우조선해양', 'TKG휴켐스', '삼성중공업', 'LG화학', 'OCI', '미래에셋증권', '롯데케미칼', '삼성엔지니어링', '세방전지', 'DL', '한국조선해양', '한화에어로스페이스', 'GS건설', '삼성카드', '삼성물산']\n"
          ]
        }
      ]
    },
    {
      "cell_type": "code",
      "metadata": {
        "id": "8QXZkhmjM8HB"
      },
      "source": [
        "# 생성된 데이터에 대해서 Word2Vec을 돌려봅니다."
      ],
      "execution_count": 57,
      "outputs": []
    },
    {
      "cell_type": "code",
      "metadata": {
        "id": "DOHOREHyM8HH"
      },
      "source": [
        "from gensim.models import Word2Vec # 이 데이터에 대해서 워드 임베딩을 해봅시다.\n",
        "from gensim.models import KeyedVectors"
      ],
      "execution_count": 59,
      "outputs": []
    },
    {
      "cell_type": "code",
      "metadata": {
        "id": "cTH6R19wM8HP"
      },
      "source": [
        "sg_model = Word2Vec(sentences=temp2, size=100, window=3, min_count=5, workers=4, sg=1)"
      ],
      "execution_count": 60,
      "outputs": []
    },
    {
      "cell_type": "code",
      "metadata": {
        "id": "jBp6Wsg6M8Ha",
        "colab": {
          "base_uri": "https://localhost:8080/"
        },
        "outputId": "52e7515f-17c2-47bb-8538-3eddeedc8790"
      },
      "source": [
        "case1=sg_model.wv.most_similar(\"현대차\")\n",
        "print(case1)"
      ],
      "execution_count": 61,
      "outputs": [
        {
          "output_type": "stream",
          "name": "stdout",
          "text": [
            "[('LG', 0.8563272953033447), ('현대글로비스', 0.8528943061828613), ('KT&G', 0.8447861671447754), ('고려아연', 0.8401343822479248), ('한국전력', 0.8375749588012695), ('SK텔레콤', 0.8364244699478149), ('에스원', 0.8235296010971069), ('삼성생명', 0.8225979804992676), ('대한항공', 0.8179834485054016), ('LSELECTRIC', 0.8158900141716003)]\n"
          ]
        }
      ]
    },
    {
      "cell_type": "code",
      "metadata": {
        "id": "MingFrUVM8Hk"
      },
      "source": [
        "sg_model.wv.save_word2vec_format('stock2vec_skipgram') # 모델 저장"
      ],
      "execution_count": 62,
      "outputs": []
    },
    {
      "cell_type": "code",
      "metadata": {
        "id": "71zCdGg7M8Hv"
      },
      "source": [
        "model = KeyedVectors.load_word2vec_format(\"stock2vec_skipgram\") # 모델 로드"
      ],
      "execution_count": 63,
      "outputs": []
    },
    {
      "cell_type": "code",
      "metadata": {
        "id": "mq-fLRR-M8H5",
        "colab": {
          "base_uri": "https://localhost:8080/"
        },
        "outputId": "ad81b04c-4fd2-4adc-8d3a-e59e7b44e5ff"
      },
      "source": [
        "case1=model.wv.most_similar(\"현대차\")\n",
        "print(case1)"
      ],
      "execution_count": 64,
      "outputs": [
        {
          "output_type": "stream",
          "name": "stdout",
          "text": [
            "[('LG', 0.8563272953033447), ('현대글로비스', 0.8528943061828613), ('KT&G', 0.8447861671447754), ('고려아연', 0.8401343822479248), ('한국전력', 0.8375749588012695), ('SK텔레콤', 0.8364244699478149), ('에스원', 0.8235296010971069), ('삼성생명', 0.8225979804992676), ('대한항공', 0.8179834485054016), ('LSELECTRIC', 0.8158900141716003)]\n"
          ]
        },
        {
          "output_type": "stream",
          "name": "stderr",
          "text": [
            "/usr/local/lib/python3.7/dist-packages/ipykernel_launcher.py:1: DeprecationWarning: Call to deprecated `wv` (Attribute will be removed in 4.0.0, use self instead).\n",
            "  \"\"\"Entry point for launching an IPython kernel.\n"
          ]
        }
      ]
    },
    {
      "cell_type": "code",
      "metadata": {
        "id": "R5pDEna8M8IC"
      },
      "source": [
        "from sklearn.manifold import TSNE\n",
        "import matplotlib.pyplot as plt\n",
        "\n",
        "#mpl.rcParams['axes.unicode_minus'] = False\n",
        "plt.rc('font', family='NanumBarunGothic') \n",
        "# plt.rcParams[\"font.family\"] = \"Malgun Gothic\"\n",
        "plt.rcParams[\"font.size\"] = 12\n",
        "plt.rcParams[\"figure.figsize\"] = (14,4)\n",
        "\n",
        "def tsne_plot(model):\n",
        "    labels = []\n",
        "    tokens = []\n",
        "\n",
        "    for word in model.wv.vocab:\n",
        "        tokens.append(model[word])\n",
        "        labels.append(word)\n",
        "    \n",
        "    tsne_model = TSNE(perplexity=40, n_components=2, init='pca', n_iter=2500, random_state=23)\n",
        "    new_values = tsne_model.fit_transform(tokens)\n",
        "\n",
        "    x = []\n",
        "    y = []\n",
        "    for value in new_values:\n",
        "        x.append(value[0])\n",
        "        y.append(value[1])\n",
        "        \n",
        "    plt.figure(figsize=(16, 16)) \n",
        "    for i in range(len(x)):\n",
        "        plt.scatter(x[i],y[i])\n",
        "        plt.annotate(labels[i],\n",
        "                     xy=(x[i], y[i]),\n",
        "                     xytext=(5, 2),\n",
        "                     textcoords='offset points',\n",
        "                     ha='right',\n",
        "                     va='bottom')\n",
        "    plt.show()"
      ],
      "execution_count": 65,
      "outputs": []
    },
    {
      "cell_type": "code",
      "metadata": {
        "id": "JC8qqn9pM8IO",
        "colab": {
          "base_uri": "https://localhost:8080/",
          "height": 1000
        },
        "outputId": "b96d1a3c-8f1a-4852-a4ab-0e98a7f30627"
      },
      "source": [
        "tsne_plot(model)"
      ],
      "execution_count": 66,
      "outputs": [
        {
          "output_type": "stream",
          "name": "stderr",
          "text": [
            "/usr/local/lib/python3.7/dist-packages/ipykernel_launcher.py:14: DeprecationWarning: Call to deprecated `wv` (Attribute will be removed in 4.0.0, use self instead).\n",
            "  \n",
            "/usr/local/lib/python3.7/dist-packages/sklearn/manifold/_t_sne.py:793: FutureWarning: The default learning rate in TSNE will change from 200.0 to 'auto' in 1.2.\n",
            "  FutureWarning,\n",
            "/usr/local/lib/python3.7/dist-packages/sklearn/manifold/_t_sne.py:986: FutureWarning: The PCA initialization in TSNE will change to have the standard deviation of PC1 equal to 1e-4 in 1.2. This will ensure better convergence.\n",
            "  FutureWarning,\n",
            "findfont: Font family ['NanumBarunGothic'] not found. Falling back to DejaVu Sans.\n",
            "/usr/local/lib/python3.7/dist-packages/matplotlib/backends/backend_agg.py:214: RuntimeWarning: Glyph 49828 missing from current font.\n",
            "  font.set_text(s, 0.0, flags=flags)\n",
            "/usr/local/lib/python3.7/dist-packages/matplotlib/backends/backend_agg.py:214: RuntimeWarning: Glyph 54008 missing from current font.\n",
            "  font.set_text(s, 0.0, flags=flags)\n",
            "/usr/local/lib/python3.7/dist-packages/matplotlib/backends/backend_agg.py:214: RuntimeWarning: Glyph 54616 missing from current font.\n",
            "  font.set_text(s, 0.0, flags=flags)\n",
            "/usr/local/lib/python3.7/dist-packages/matplotlib/backends/backend_agg.py:214: RuntimeWarning: Glyph 45208 missing from current font.\n",
            "  font.set_text(s, 0.0, flags=flags)\n",
            "/usr/local/lib/python3.7/dist-packages/matplotlib/backends/backend_agg.py:214: RuntimeWarning: Glyph 53804 missing from current font.\n",
            "  font.set_text(s, 0.0, flags=flags)\n",
            "/usr/local/lib/python3.7/dist-packages/matplotlib/backends/backend_agg.py:214: RuntimeWarning: Glyph 50612 missing from current font.\n",
            "  font.set_text(s, 0.0, flags=flags)\n",
            "/usr/local/lib/python3.7/dist-packages/matplotlib/backends/backend_agg.py:214: RuntimeWarning: Glyph 50644 missing from current font.\n",
            "  font.set_text(s, 0.0, flags=flags)\n",
            "/usr/local/lib/python3.7/dist-packages/matplotlib/backends/backend_agg.py:214: RuntimeWarning: Glyph 50472 missing from current font.\n",
            "  font.set_text(s, 0.0, flags=flags)\n",
            "/usr/local/lib/python3.7/dist-packages/matplotlib/backends/backend_agg.py:214: RuntimeWarning: Glyph 49548 missing from current font.\n",
            "  font.set_text(s, 0.0, flags=flags)\n",
            "/usr/local/lib/python3.7/dist-packages/matplotlib/backends/backend_agg.py:214: RuntimeWarning: Glyph 54532 missing from current font.\n",
            "  font.set_text(s, 0.0, flags=flags)\n",
            "/usr/local/lib/python3.7/dist-packages/matplotlib/backends/backend_agg.py:214: RuntimeWarning: Glyph 53944 missing from current font.\n",
            "  font.set_text(s, 0.0, flags=flags)\n",
            "/usr/local/lib/python3.7/dist-packages/matplotlib/backends/backend_agg.py:214: RuntimeWarning: Glyph 50500 missing from current font.\n",
            "  font.set_text(s, 0.0, flags=flags)\n",
            "/usr/local/lib/python3.7/dist-packages/matplotlib/backends/backend_agg.py:214: RuntimeWarning: Glyph 51060 missing from current font.\n",
            "  font.set_text(s, 0.0, flags=flags)\n",
            "/usr/local/lib/python3.7/dist-packages/matplotlib/backends/backend_agg.py:214: RuntimeWarning: Glyph 50640 missing from current font.\n",
            "  font.set_text(s, 0.0, flags=flags)\n",
            "/usr/local/lib/python3.7/dist-packages/matplotlib/backends/backend_agg.py:214: RuntimeWarning: Glyph 46041 missing from current font.\n",
            "  font.set_text(s, 0.0, flags=flags)\n",
            "/usr/local/lib/python3.7/dist-packages/matplotlib/backends/backend_agg.py:214: RuntimeWarning: Glyph 49436 missing from current font.\n",
            "  font.set_text(s, 0.0, flags=flags)\n",
            "/usr/local/lib/python3.7/dist-packages/matplotlib/backends/backend_agg.py:214: RuntimeWarning: Glyph 49340 missing from current font.\n",
            "  font.set_text(s, 0.0, flags=flags)\n",
            "/usr/local/lib/python3.7/dist-packages/matplotlib/backends/backend_agg.py:214: RuntimeWarning: Glyph 49457 missing from current font.\n",
            "  font.set_text(s, 0.0, flags=flags)\n",
            "/usr/local/lib/python3.7/dist-packages/matplotlib/backends/backend_agg.py:214: RuntimeWarning: Glyph 51204 missing from current font.\n",
            "  font.set_text(s, 0.0, flags=flags)\n",
            "/usr/local/lib/python3.7/dist-packages/matplotlib/backends/backend_agg.py:214: RuntimeWarning: Glyph 44592 missing from current font.\n",
            "  font.set_text(s, 0.0, flags=flags)\n",
            "/usr/local/lib/python3.7/dist-packages/matplotlib/backends/backend_agg.py:214: RuntimeWarning: Glyph 52852 missing from current font.\n",
            "  font.set_text(s, 0.0, flags=flags)\n",
            "/usr/local/lib/python3.7/dist-packages/matplotlib/backends/backend_agg.py:214: RuntimeWarning: Glyph 50724 missing from current font.\n",
            "  font.set_text(s, 0.0, flags=flags)\n",
            "/usr/local/lib/python3.7/dist-packages/matplotlib/backends/backend_agg.py:214: RuntimeWarning: Glyph 50952 missing from current font.\n",
            "  font.set_text(s, 0.0, flags=flags)\n",
            "/usr/local/lib/python3.7/dist-packages/matplotlib/backends/backend_agg.py:214: RuntimeWarning: Glyph 46300 missing from current font.\n",
            "  font.set_text(s, 0.0, flags=flags)\n",
            "/usr/local/lib/python3.7/dist-packages/matplotlib/backends/backend_agg.py:214: RuntimeWarning: Glyph 44397 missing from current font.\n",
            "  font.set_text(s, 0.0, flags=flags)\n",
            "/usr/local/lib/python3.7/dist-packages/matplotlib/backends/backend_agg.py:214: RuntimeWarning: Glyph 51228 missing from current font.\n",
            "  font.set_text(s, 0.0, flags=flags)\n",
            "/usr/local/lib/python3.7/dist-packages/matplotlib/backends/backend_agg.py:214: RuntimeWarning: Glyph 44053 missing from current font.\n",
            "  font.set_text(s, 0.0, flags=flags)\n",
            "/usr/local/lib/python3.7/dist-packages/matplotlib/backends/backend_agg.py:214: RuntimeWarning: Glyph 51068 missing from current font.\n",
            "  font.set_text(s, 0.0, flags=flags)\n",
            "/usr/local/lib/python3.7/dist-packages/matplotlib/backends/backend_agg.py:214: RuntimeWarning: Glyph 45817 missing from current font.\n",
            "  font.set_text(s, 0.0, flags=flags)\n",
            "/usr/local/lib/python3.7/dist-packages/matplotlib/backends/backend_agg.py:214: RuntimeWarning: Glyph 50976 missing from current font.\n",
            "  font.set_text(s, 0.0, flags=flags)\n",
            "/usr/local/lib/python3.7/dist-packages/matplotlib/backends/backend_agg.py:214: RuntimeWarning: Glyph 54540 missing from current font.\n",
            "  font.set_text(s, 0.0, flags=flags)\n",
            "/usr/local/lib/python3.7/dist-packages/matplotlib/backends/backend_agg.py:214: RuntimeWarning: Glyph 47084 missing from current font.\n",
            "  font.set_text(s, 0.0, flags=flags)\n",
            "/usr/local/lib/python3.7/dist-packages/matplotlib/backends/backend_agg.py:214: RuntimeWarning: Glyph 46748 missing from current font.\n",
            "  font.set_text(s, 0.0, flags=flags)\n",
            "/usr/local/lib/python3.7/dist-packages/matplotlib/backends/backend_agg.py:214: RuntimeWarning: Glyph 54980 missing from current font.\n",
            "  font.set_text(s, 0.0, flags=flags)\n",
            "/usr/local/lib/python3.7/dist-packages/matplotlib/backends/backend_agg.py:214: RuntimeWarning: Glyph 55072 missing from current font.\n",
            "  font.set_text(s, 0.0, flags=flags)\n",
            "/usr/local/lib/python3.7/dist-packages/matplotlib/backends/backend_agg.py:214: RuntimeWarning: Glyph 46972 missing from current font.\n",
            "  font.set_text(s, 0.0, flags=flags)\n",
            "/usr/local/lib/python3.7/dist-packages/matplotlib/backends/backend_agg.py:214: RuntimeWarning: Glyph 54848 missing from current font.\n",
            "  font.set_text(s, 0.0, flags=flags)\n",
            "/usr/local/lib/python3.7/dist-packages/matplotlib/backends/backend_agg.py:214: RuntimeWarning: Glyph 46377 missing from current font.\n",
            "  font.set_text(s, 0.0, flags=flags)\n",
            "/usr/local/lib/python3.7/dist-packages/matplotlib/backends/backend_agg.py:214: RuntimeWarning: Glyph 45824 missing from current font.\n",
            "  font.set_text(s, 0.0, flags=flags)\n",
            "/usr/local/lib/python3.7/dist-packages/matplotlib/backends/backend_agg.py:214: RuntimeWarning: Glyph 50885 missing from current font.\n",
            "  font.set_text(s, 0.0, flags=flags)\n",
            "/usr/local/lib/python3.7/dist-packages/matplotlib/backends/backend_agg.py:214: RuntimeWarning: Glyph 50557 missing from current font.\n",
            "  font.set_text(s, 0.0, flags=flags)\n",
            "/usr/local/lib/python3.7/dist-packages/matplotlib/backends/backend_agg.py:214: RuntimeWarning: Glyph 54620 missing from current font.\n",
            "  font.set_text(s, 0.0, flags=flags)\n",
            "/usr/local/lib/python3.7/dist-packages/matplotlib/backends/backend_agg.py:214: RuntimeWarning: Glyph 49368 missing from current font.\n",
            "  font.set_text(s, 0.0, flags=flags)\n",
            "/usr/local/lib/python3.7/dist-packages/matplotlib/backends/backend_agg.py:214: RuntimeWarning: Glyph 49345 missing from current font.\n",
            "  font.set_text(s, 0.0, flags=flags)\n",
            "/usr/local/lib/python3.7/dist-packages/matplotlib/backends/backend_agg.py:214: RuntimeWarning: Glyph 50648 missing from current font.\n",
            "  font.set_text(s, 0.0, flags=flags)\n",
            "/usr/local/lib/python3.7/dist-packages/matplotlib/backends/backend_agg.py:214: RuntimeWarning: Glyph 54868 missing from current font.\n",
            "  font.set_text(s, 0.0, flags=flags)\n",
            "/usr/local/lib/python3.7/dist-packages/matplotlib/backends/backend_agg.py:214: RuntimeWarning: Glyph 54637 missing from current font.\n",
            "  font.set_text(s, 0.0, flags=flags)\n",
            "/usr/local/lib/python3.7/dist-packages/matplotlib/backends/backend_agg.py:214: RuntimeWarning: Glyph 44277 missing from current font.\n",
            "  font.set_text(s, 0.0, flags=flags)\n",
            "/usr/local/lib/python3.7/dist-packages/matplotlib/backends/backend_agg.py:214: RuntimeWarning: Glyph 45432 missing from current font.\n",
            "  font.set_text(s, 0.0, flags=flags)\n",
            "/usr/local/lib/python3.7/dist-packages/matplotlib/backends/backend_agg.py:214: RuntimeWarning: Glyph 53581 missing from current font.\n",
            "  font.set_text(s, 0.0, flags=flags)\n",
            "/usr/local/lib/python3.7/dist-packages/matplotlib/backends/backend_agg.py:214: RuntimeWarning: Glyph 54840 missing from current font.\n",
            "  font.set_text(s, 0.0, flags=flags)\n",
            "/usr/local/lib/python3.7/dist-packages/matplotlib/backends/backend_agg.py:214: RuntimeWarning: Glyph 53588 missing from current font.\n",
            "  font.set_text(s, 0.0, flags=flags)\n",
            "/usr/local/lib/python3.7/dist-packages/matplotlib/backends/backend_agg.py:214: RuntimeWarning: Glyph 49888 missing from current font.\n",
            "  font.set_text(s, 0.0, flags=flags)\n",
            "/usr/local/lib/python3.7/dist-packages/matplotlib/backends/backend_agg.py:214: RuntimeWarning: Glyph 50728 missing from current font.\n",
            "  font.set_text(s, 0.0, flags=flags)\n",
            "/usr/local/lib/python3.7/dist-packages/matplotlib/backends/backend_agg.py:214: RuntimeWarning: Glyph 49884 missing from current font.\n",
            "  font.set_text(s, 0.0, flags=flags)\n",
            "/usr/local/lib/python3.7/dist-packages/matplotlib/backends/backend_agg.py:214: RuntimeWarning: Glyph 53596 missing from current font.\n",
            "  font.set_text(s, 0.0, flags=flags)\n",
            "/usr/local/lib/python3.7/dist-packages/matplotlib/backends/backend_agg.py:214: RuntimeWarning: Glyph 51652 missing from current font.\n",
            "  font.set_text(s, 0.0, flags=flags)\n",
            "/usr/local/lib/python3.7/dist-packages/matplotlib/backends/backend_agg.py:214: RuntimeWarning: Glyph 47196 missing from current font.\n",
            "  font.set_text(s, 0.0, flags=flags)\n",
            "/usr/local/lib/python3.7/dist-packages/matplotlib/backends/backend_agg.py:214: RuntimeWarning: Glyph 54060 missing from current font.\n",
            "  font.set_text(s, 0.0, flags=flags)\n",
            "/usr/local/lib/python3.7/dist-packages/matplotlib/backends/backend_agg.py:214: RuntimeWarning: Glyph 49496 missing from current font.\n",
            "  font.set_text(s, 0.0, flags=flags)\n",
            "/usr/local/lib/python3.7/dist-packages/matplotlib/backends/backend_agg.py:214: RuntimeWarning: Glyph 54788 missing from current font.\n",
            "  font.set_text(s, 0.0, flags=flags)\n",
            "/usr/local/lib/python3.7/dist-packages/matplotlib/backends/backend_agg.py:214: RuntimeWarning: Glyph 47532 missing from current font.\n",
            "  font.set_text(s, 0.0, flags=flags)\n",
            "/usr/local/lib/python3.7/dist-packages/matplotlib/backends/backend_agg.py:214: RuntimeWarning: Glyph 48288 missing from current font.\n",
            "  font.set_text(s, 0.0, flags=flags)\n",
            "/usr/local/lib/python3.7/dist-packages/matplotlib/backends/backend_agg.py:214: RuntimeWarning: Glyph 48120 missing from current font.\n",
            "  font.set_text(s, 0.0, flags=flags)\n",
            "/usr/local/lib/python3.7/dist-packages/matplotlib/backends/backend_agg.py:214: RuntimeWarning: Glyph 54252 missing from current font.\n",
            "  font.set_text(s, 0.0, flags=flags)\n",
            "/usr/local/lib/python3.7/dist-packages/matplotlib/backends/backend_agg.py:214: RuntimeWarning: Glyph 51312 missing from current font.\n",
            "  font.set_text(s, 0.0, flags=flags)\n",
            "/usr/local/lib/python3.7/dist-packages/matplotlib/backends/backend_agg.py:214: RuntimeWarning: Glyph 49440 missing from current font.\n",
            "  font.set_text(s, 0.0, flags=flags)\n",
            "/usr/local/lib/python3.7/dist-packages/matplotlib/backends/backend_agg.py:214: RuntimeWarning: Glyph 49373 missing from current font.\n",
            "  font.set_text(s, 0.0, flags=flags)\n",
            "/usr/local/lib/python3.7/dist-packages/matplotlib/backends/backend_agg.py:214: RuntimeWarning: Glyph 47749 missing from current font.\n",
            "  font.set_text(s, 0.0, flags=flags)\n",
            "/usr/local/lib/python3.7/dist-packages/matplotlib/backends/backend_agg.py:214: RuntimeWarning: Glyph 49324 missing from current font.\n",
            "  font.set_text(s, 0.0, flags=flags)\n",
            "/usr/local/lib/python3.7/dist-packages/matplotlib/backends/backend_agg.py:214: RuntimeWarning: Glyph 50616 missing from current font.\n",
            "  font.set_text(s, 0.0, flags=flags)\n",
            "/usr/local/lib/python3.7/dist-packages/matplotlib/backends/backend_agg.py:214: RuntimeWarning: Glyph 53076 missing from current font.\n",
            "  font.set_text(s, 0.0, flags=flags)\n",
            "/usr/local/lib/python3.7/dist-packages/matplotlib/backends/backend_agg.py:214: RuntimeWarning: Glyph 47217 missing from current font.\n",
            "  font.set_text(s, 0.0, flags=flags)\n",
            "/usr/local/lib/python3.7/dist-packages/matplotlib/backends/backend_agg.py:214: RuntimeWarning: Glyph 51064 missing from current font.\n",
            "  font.set_text(s, 0.0, flags=flags)\n",
            "/usr/local/lib/python3.7/dist-packages/matplotlib/backends/backend_agg.py:214: RuntimeWarning: Glyph 45908 missing from current font.\n",
            "  font.set_text(s, 0.0, flags=flags)\n",
            "/usr/local/lib/python3.7/dist-packages/matplotlib/backends/backend_agg.py:214: RuntimeWarning: Glyph 47112 missing from current font.\n",
            "  font.set_text(s, 0.0, flags=flags)\n",
            "/usr/local/lib/python3.7/dist-packages/matplotlib/backends/backend_agg.py:214: RuntimeWarning: Glyph 53092 missing from current font.\n",
            "  font.set_text(s, 0.0, flags=flags)\n",
            "/usr/local/lib/python3.7/dist-packages/matplotlib/backends/backend_agg.py:214: RuntimeWarning: Glyph 50896 missing from current font.\n",
            "  font.set_text(s, 0.0, flags=flags)\n",
            "/usr/local/lib/python3.7/dist-packages/matplotlib/backends/backend_agg.py:214: RuntimeWarning: Glyph 49556 missing from current font.\n",
            "  font.set_text(s, 0.0, flags=flags)\n",
            "/usr/local/lib/python3.7/dist-packages/matplotlib/backends/backend_agg.py:214: RuntimeWarning: Glyph 52992 missing from current font.\n",
            "  font.set_text(s, 0.0, flags=flags)\n",
            "/usr/local/lib/python3.7/dist-packages/matplotlib/backends/backend_agg.py:214: RuntimeWarning: Glyph 52860 missing from current font.\n",
            "  font.set_text(s, 0.0, flags=flags)\n",
            "/usr/local/lib/python3.7/dist-packages/matplotlib/backends/backend_agg.py:214: RuntimeWarning: Glyph 49464 missing from current font.\n",
            "  font.set_text(s, 0.0, flags=flags)\n",
            "/usr/local/lib/python3.7/dist-packages/matplotlib/backends/backend_agg.py:214: RuntimeWarning: Glyph 49892 missing from current font.\n",
            "  font.set_text(s, 0.0, flags=flags)\n",
            "/usr/local/lib/python3.7/dist-packages/matplotlib/backends/backend_agg.py:214: RuntimeWarning: Glyph 50629 missing from current font.\n",
            "  font.set_text(s, 0.0, flags=flags)\n",
            "/usr/local/lib/python3.7/dist-packages/matplotlib/backends/backend_agg.py:214: RuntimeWarning: Glyph 46160 missing from current font.\n",
            "  font.set_text(s, 0.0, flags=flags)\n",
            "/usr/local/lib/python3.7/dist-packages/matplotlib/backends/backend_agg.py:214: RuntimeWarning: Glyph 49328 missing from current font.\n",
            "  font.set_text(s, 0.0, flags=flags)\n",
            "/usr/local/lib/python3.7/dist-packages/matplotlib/backends/backend_agg.py:214: RuntimeWarning: Glyph 45320 missing from current font.\n",
            "  font.set_text(s, 0.0, flags=flags)\n",
            "/usr/local/lib/python3.7/dist-packages/matplotlib/backends/backend_agg.py:214: RuntimeWarning: Glyph 48716 missing from current font.\n",
            "  font.set_text(s, 0.0, flags=flags)\n",
            "/usr/local/lib/python3.7/dist-packages/matplotlib/backends/backend_agg.py:214: RuntimeWarning: Glyph 54000 missing from current font.\n",
            "  font.set_text(s, 0.0, flags=flags)\n",
            "/usr/local/lib/python3.7/dist-packages/matplotlib/backends/backend_agg.py:214: RuntimeWarning: Glyph 52384 missing from current font.\n",
            "  font.set_text(s, 0.0, flags=flags)\n",
            "/usr/local/lib/python3.7/dist-packages/matplotlib/backends/backend_agg.py:214: RuntimeWarning: Glyph 53084 missing from current font.\n",
            "  font.set_text(s, 0.0, flags=flags)\n",
            "/usr/local/lib/python3.7/dist-packages/matplotlib/backends/backend_agg.py:214: RuntimeWarning: Glyph 47560 missing from current font.\n",
            "  font.set_text(s, 0.0, flags=flags)\n",
            "/usr/local/lib/python3.7/dist-packages/matplotlib/backends/backend_agg.py:214: RuntimeWarning: Glyph 44032 missing from current font.\n",
            "  font.set_text(s, 0.0, flags=flags)\n",
            "/usr/local/lib/python3.7/dist-packages/matplotlib/backends/backend_agg.py:214: RuntimeWarning: Glyph 51333 missing from current font.\n",
            "  font.set_text(s, 0.0, flags=flags)\n",
            "/usr/local/lib/python3.7/dist-packages/matplotlib/backends/backend_agg.py:214: RuntimeWarning: Glyph 44540 missing from current font.\n",
            "  font.set_text(s, 0.0, flags=flags)\n",
            "/usr/local/lib/python3.7/dist-packages/matplotlib/backends/backend_agg.py:214: RuntimeWarning: Glyph 50689 missing from current font.\n",
            "  font.set_text(s, 0.0, flags=flags)\n",
            "/usr/local/lib/python3.7/dist-packages/matplotlib/backends/backend_agg.py:214: RuntimeWarning: Glyph 47924 missing from current font.\n",
            "  font.set_text(s, 0.0, flags=flags)\n",
            "/usr/local/lib/python3.7/dist-packages/matplotlib/backends/backend_agg.py:214: RuntimeWarning: Glyph 50669 missing from current font.\n",
            "  font.set_text(s, 0.0, flags=flags)\n",
            "/usr/local/lib/python3.7/dist-packages/matplotlib/backends/backend_agg.py:214: RuntimeWarning: Glyph 53468 missing from current font.\n",
            "  font.set_text(s, 0.0, flags=flags)\n",
            "/usr/local/lib/python3.7/dist-packages/matplotlib/backends/backend_agg.py:214: RuntimeWarning: Glyph 44305 missing from current font.\n",
            "  font.set_text(s, 0.0, flags=flags)\n",
            "/usr/local/lib/python3.7/dist-packages/matplotlib/backends/backend_agg.py:214: RuntimeWarning: Glyph 46356 missing from current font.\n",
            "  font.set_text(s, 0.0, flags=flags)\n",
            "/usr/local/lib/python3.7/dist-packages/matplotlib/backends/backend_agg.py:214: RuntimeWarning: Glyph 47336 missing from current font.\n",
            "  font.set_text(s, 0.0, flags=flags)\n",
            "/usr/local/lib/python3.7/dist-packages/matplotlib/backends/backend_agg.py:214: RuntimeWarning: Glyph 53580 missing from current font.\n",
            "  font.set_text(s, 0.0, flags=flags)\n",
            "/usr/local/lib/python3.7/dist-packages/matplotlib/backends/backend_agg.py:214: RuntimeWarning: Glyph 54644 missing from current font.\n",
            "  font.set_text(s, 0.0, flags=flags)\n",
            "/usr/local/lib/python3.7/dist-packages/matplotlib/backends/backend_agg.py:214: RuntimeWarning: Glyph 44148 missing from current font.\n",
            "  font.set_text(s, 0.0, flags=flags)\n",
            "/usr/local/lib/python3.7/dist-packages/matplotlib/backends/backend_agg.py:214: RuntimeWarning: Glyph 49444 missing from current font.\n",
            "  font.set_text(s, 0.0, flags=flags)\n",
            "/usr/local/lib/python3.7/dist-packages/matplotlib/backends/backend_agg.py:214: RuntimeWarning: Glyph 51008 missing from current font.\n",
            "  font.set_text(s, 0.0, flags=flags)\n",
            "/usr/local/lib/python3.7/dist-packages/matplotlib/backends/backend_agg.py:214: RuntimeWarning: Glyph 54665 missing from current font.\n",
            "  font.set_text(s, 0.0, flags=flags)\n",
            "/usr/local/lib/python3.7/dist-packages/matplotlib/backends/backend_agg.py:214: RuntimeWarning: Glyph 51116 missing from current font.\n",
            "  font.set_text(s, 0.0, flags=flags)\n",
            "/usr/local/lib/python3.7/dist-packages/matplotlib/backends/backend_agg.py:214: RuntimeWarning: Glyph 47700 missing from current font.\n",
            "  font.set_text(s, 0.0, flags=flags)\n",
            "/usr/local/lib/python3.7/dist-packages/matplotlib/backends/backend_agg.py:214: RuntimeWarning: Glyph 52768 missing from current font.\n",
            "  font.set_text(s, 0.0, flags=flags)\n",
            "/usr/local/lib/python3.7/dist-packages/matplotlib/backends/backend_agg.py:214: RuntimeWarning: Glyph 51613 missing from current font.\n",
            "  font.set_text(s, 0.0, flags=flags)\n",
            "/usr/local/lib/python3.7/dist-packages/matplotlib/backends/backend_agg.py:214: RuntimeWarning: Glyph 44428 missing from current font.\n",
            "  font.set_text(s, 0.0, flags=flags)\n",
            "/usr/local/lib/python3.7/dist-packages/matplotlib/backends/backend_agg.py:214: RuntimeWarning: Glyph 51088 missing from current font.\n",
            "  font.set_text(s, 0.0, flags=flags)\n",
            "/usr/local/lib/python3.7/dist-packages/matplotlib/backends/backend_agg.py:214: RuntimeWarning: Glyph 50864 missing from current font.\n",
            "  font.set_text(s, 0.0, flags=flags)\n",
            "/usr/local/lib/python3.7/dist-packages/matplotlib/backends/backend_agg.py:214: RuntimeWarning: Glyph 51452 missing from current font.\n",
            "  font.set_text(s, 0.0, flags=flags)\n",
            "/usr/local/lib/python3.7/dist-packages/matplotlib/backends/backend_agg.py:214: RuntimeWarning: Glyph 44552 missing from current font.\n",
            "  font.set_text(s, 0.0, flags=flags)\n",
            "/usr/local/lib/python3.7/dist-packages/matplotlib/backends/backend_agg.py:214: RuntimeWarning: Glyph 50997 missing from current font.\n",
            "  font.set_text(s, 0.0, flags=flags)\n",
            "/usr/local/lib/python3.7/dist-packages/matplotlib/backends/backend_agg.py:214: RuntimeWarning: Glyph 51648 missing from current font.\n",
            "  font.set_text(s, 0.0, flags=flags)\n",
            "/usr/local/lib/python3.7/dist-packages/matplotlib/backends/backend_agg.py:214: RuntimeWarning: Glyph 50948 missing from current font.\n",
            "  font.set_text(s, 0.0, flags=flags)\n",
            "/usr/local/lib/python3.7/dist-packages/matplotlib/backends/backend_agg.py:214: RuntimeWarning: Glyph 45348 missing from current font.\n",
            "  font.set_text(s, 0.0, flags=flags)\n",
            "/usr/local/lib/python3.7/dist-packages/matplotlib/backends/backend_agg.py:214: RuntimeWarning: Glyph 50893 missing from current font.\n",
            "  font.set_text(s, 0.0, flags=flags)\n",
            "/usr/local/lib/python3.7/dist-packages/matplotlib/backends/backend_agg.py:214: RuntimeWarning: Glyph 47215 missing from current font.\n",
            "  font.set_text(s, 0.0, flags=flags)\n",
            "/usr/local/lib/python3.7/dist-packages/matplotlib/backends/backend_agg.py:214: RuntimeWarning: Glyph 45936 missing from current font.\n",
            "  font.set_text(s, 0.0, flags=flags)\n",
            "/usr/local/lib/python3.7/dist-packages/matplotlib/backends/backend_agg.py:214: RuntimeWarning: Glyph 44288 missing from current font.\n",
            "  font.set_text(s, 0.0, flags=flags)\n",
            "/usr/local/lib/python3.7/dist-packages/matplotlib/backends/backend_agg.py:214: RuntimeWarning: Glyph 44060 missing from current font.\n",
            "  font.set_text(s, 0.0, flags=flags)\n",
            "/usr/local/lib/python3.7/dist-packages/matplotlib/backends/backend_agg.py:214: RuntimeWarning: Glyph 48156 missing from current font.\n",
            "  font.set_text(s, 0.0, flags=flags)\n",
            "/usr/local/lib/python3.7/dist-packages/matplotlib/backends/backend_agg.py:214: RuntimeWarning: Glyph 48372 missing from current font.\n",
            "  font.set_text(s, 0.0, flags=flags)\n",
            "/usr/local/lib/python3.7/dist-packages/matplotlib/backends/backend_agg.py:214: RuntimeWarning: Glyph 47161 missing from current font.\n",
            "  font.set_text(s, 0.0, flags=flags)\n",
            "/usr/local/lib/python3.7/dist-packages/matplotlib/backends/backend_agg.py:214: RuntimeWarning: Glyph 54952 missing from current font.\n",
            "  font.set_text(s, 0.0, flags=flags)\n",
            "/usr/local/lib/python3.7/dist-packages/matplotlib/backends/backend_agg.py:214: RuntimeWarning: Glyph 52832 missing from current font.\n",
            "  font.set_text(s, 0.0, flags=flags)\n",
            "/usr/local/lib/python3.7/dist-packages/matplotlib/backends/backend_agg.py:214: RuntimeWarning: Glyph 45769 missing from current font.\n",
            "  font.set_text(s, 0.0, flags=flags)\n",
            "/usr/local/lib/python3.7/dist-packages/matplotlib/backends/backend_agg.py:214: RuntimeWarning: Glyph 47564 missing from current font.\n",
            "  font.set_text(s, 0.0, flags=flags)\n",
            "/usr/local/lib/python3.7/dist-packages/matplotlib/backends/backend_agg.py:214: RuntimeWarning: Glyph 46020 missing from current font.\n",
            "  font.set_text(s, 0.0, flags=flags)\n",
            "/usr/local/lib/python3.7/dist-packages/matplotlib/backends/backend_agg.py:214: RuntimeWarning: Glyph 51592 missing from current font.\n",
            "  font.set_text(s, 0.0, flags=flags)\n",
            "/usr/local/lib/python3.7/dist-packages/matplotlib/backends/backend_agg.py:214: RuntimeWarning: Glyph 49437 missing from current font.\n",
            "  font.set_text(s, 0.0, flags=flags)\n",
            "/usr/local/lib/python3.7/dist-packages/matplotlib/backends/backend_agg.py:214: RuntimeWarning: Glyph 49472 missing from current font.\n",
            "  font.set_text(s, 0.0, flags=flags)\n",
            "/usr/local/lib/python3.7/dist-packages/matplotlib/backends/backend_agg.py:214: RuntimeWarning: Glyph 44536 missing from current font.\n",
            "  font.set_text(s, 0.0, flags=flags)\n",
            "/usr/local/lib/python3.7/dist-packages/matplotlib/backends/backend_agg.py:214: RuntimeWarning: Glyph 47536 missing from current font.\n",
            "  font.set_text(s, 0.0, flags=flags)\n",
            "/usr/local/lib/python3.7/dist-packages/matplotlib/backends/backend_agg.py:214: RuntimeWarning: Glyph 54392 missing from current font.\n",
            "  font.set_text(s, 0.0, flags=flags)\n",
            "/usr/local/lib/python3.7/dist-packages/matplotlib/backends/backend_agg.py:214: RuntimeWarning: Glyph 50577 missing from current font.\n",
            "  font.set_text(s, 0.0, flags=flags)\n",
            "/usr/local/lib/python3.7/dist-packages/matplotlib/backends/backend_agg.py:214: RuntimeWarning: Glyph 52264 missing from current font.\n",
            "  font.set_text(s, 0.0, flags=flags)\n",
            "/usr/local/lib/python3.7/dist-packages/matplotlib/backends/backend_agg.py:214: RuntimeWarning: Glyph 54413 missing from current font.\n",
            "  font.set_text(s, 0.0, flags=flags)\n",
            "/usr/local/lib/python3.7/dist-packages/matplotlib/backends/backend_agg.py:214: RuntimeWarning: Glyph 47784 missing from current font.\n",
            "  font.set_text(s, 0.0, flags=flags)\n",
            "/usr/local/lib/python3.7/dist-packages/matplotlib/backends/backend_agg.py:214: RuntimeWarning: Glyph 48708 missing from current font.\n",
            "  font.set_text(s, 0.0, flags=flags)\n",
            "/usr/local/lib/python3.7/dist-packages/matplotlib/backends/backend_agg.py:214: RuntimeWarning: Glyph 50732 missing from current font.\n",
            "  font.set_text(s, 0.0, flags=flags)\n",
            "/usr/local/lib/python3.7/dist-packages/matplotlib/backends/backend_agg.py:214: RuntimeWarning: Glyph 48148 missing from current font.\n",
            "  font.set_text(s, 0.0, flags=flags)\n",
            "/usr/local/lib/python3.7/dist-packages/matplotlib/backends/backend_agg.py:214: RuntimeWarning: Glyph 54028 missing from current font.\n",
            "  font.set_text(s, 0.0, flags=flags)\n",
            "/usr/local/lib/python3.7/dist-packages/matplotlib/backends/backend_agg.py:214: RuntimeWarning: Glyph 47004 missing from current font.\n",
            "  font.set_text(s, 0.0, flags=flags)\n",
            "/usr/local/lib/python3.7/dist-packages/matplotlib/backends/backend_agg.py:214: RuntimeWarning: Glyph 53552 missing from current font.\n",
            "  font.set_text(s, 0.0, flags=flags)\n",
            "/usr/local/lib/python3.7/dist-packages/matplotlib/backends/backend_agg.py:214: RuntimeWarning: Glyph 45236 missing from current font.\n",
            "  font.set_text(s, 0.0, flags=flags)\n",
            "/usr/local/lib/python3.7/dist-packages/matplotlib/backends/backend_agg.py:214: RuntimeWarning: Glyph 49492 missing from current font.\n",
            "  font.set_text(s, 0.0, flags=flags)\n",
            "/usr/local/lib/python3.7/dist-packages/matplotlib/backends/backend_agg.py:214: RuntimeWarning: Glyph 45328 missing from current font.\n",
            "  font.set_text(s, 0.0, flags=flags)\n",
            "/usr/local/lib/python3.7/dist-packages/matplotlib/backends/backend_agg.py:214: RuntimeWarning: Glyph 49696 missing from current font.\n",
            "  font.set_text(s, 0.0, flags=flags)\n",
            "/usr/local/lib/python3.7/dist-packages/matplotlib/backends/backend_agg.py:214: RuntimeWarning: Glyph 50920 missing from current font.\n",
            "  font.set_text(s, 0.0, flags=flags)\n",
            "/usr/local/lib/python3.7/dist-packages/matplotlib/backends/backend_agg.py:214: RuntimeWarning: Glyph 45433 missing from current font.\n",
            "  font.set_text(s, 0.0, flags=flags)\n",
            "/usr/local/lib/python3.7/dist-packages/matplotlib/backends/backend_agg.py:214: RuntimeWarning: Glyph 49901 missing from current font.\n",
            "  font.set_text(s, 0.0, flags=flags)\n",
            "/usr/local/lib/python3.7/dist-packages/matplotlib/backends/backend_agg.py:214: RuntimeWarning: Glyph 54140 missing from current font.\n",
            "  font.set_text(s, 0.0, flags=flags)\n",
            "/usr/local/lib/python3.7/dist-packages/matplotlib/backends/backend_agg.py:214: RuntimeWarning: Glyph 54589 missing from current font.\n",
            "  font.set_text(s, 0.0, flags=flags)\n",
            "/usr/local/lib/python3.7/dist-packages/matplotlib/backends/backend_agg.py:214: RuntimeWarning: Glyph 49452 missing from current font.\n",
            "  font.set_text(s, 0.0, flags=flags)\n",
            "/usr/local/lib/python3.7/dist-packages/matplotlib/backends/backend_agg.py:214: RuntimeWarning: Glyph 44544 missing from current font.\n",
            "  font.set_text(s, 0.0, flags=flags)\n",
            "/usr/local/lib/python3.7/dist-packages/matplotlib/backends/backend_agg.py:214: RuntimeWarning: Glyph 47589 missing from current font.\n",
            "  font.set_text(s, 0.0, flags=flags)\n",
            "/usr/local/lib/python3.7/dist-packages/matplotlib/backends/backend_agg.py:214: RuntimeWarning: Glyph 54876 missing from current font.\n",
            "  font.set_text(s, 0.0, flags=flags)\n",
            "/usr/local/lib/python3.7/dist-packages/matplotlib/backends/backend_agg.py:214: RuntimeWarning: Glyph 44228 missing from current font.\n",
            "  font.set_text(s, 0.0, flags=flags)\n",
            "/usr/local/lib/python3.7/dist-packages/matplotlib/backends/backend_agg.py:214: RuntimeWarning: Glyph 45216 missing from current font.\n",
            "  font.set_text(s, 0.0, flags=flags)\n",
            "/usr/local/lib/python3.7/dist-packages/matplotlib/backends/backend_agg.py:214: RuntimeWarning: Glyph 47672 missing from current font.\n",
            "  font.set_text(s, 0.0, flags=flags)\n",
            "/usr/local/lib/python3.7/dist-packages/matplotlib/backends/backend_agg.py:214: RuntimeWarning: Glyph 50620 missing from current font.\n",
            "  font.set_text(s, 0.0, flags=flags)\n",
            "/usr/local/lib/python3.7/dist-packages/matplotlib/backends/backend_agg.py:214: RuntimeWarning: Glyph 50532 missing from current font.\n",
            "  font.set_text(s, 0.0, flags=flags)\n",
            "/usr/local/lib/python3.7/dist-packages/matplotlib/backends/backend_agg.py:214: RuntimeWarning: Glyph 52980 missing from current font.\n",
            "  font.set_text(s, 0.0, flags=flags)\n",
            "/usr/local/lib/python3.7/dist-packages/matplotlib/backends/backend_agg.py:214: RuntimeWarning: Glyph 45768 missing from current font.\n",
            "  font.set_text(s, 0.0, flags=flags)\n",
            "/usr/local/lib/python3.7/dist-packages/matplotlib/backends/backend_agg.py:214: RuntimeWarning: Glyph 54856 missing from current font.\n",
            "  font.set_text(s, 0.0, flags=flags)\n",
            "/usr/local/lib/python3.7/dist-packages/matplotlib/backends/backend_agg.py:214: RuntimeWarning: Glyph 49660 missing from current font.\n",
            "  font.set_text(s, 0.0, flags=flags)\n",
            "/usr/local/lib/python3.7/dist-packages/matplotlib/backends/backend_agg.py:214: RuntimeWarning: Glyph 54609 missing from current font.\n",
            "  font.set_text(s, 0.0, flags=flags)\n",
            "/usr/local/lib/python3.7/dist-packages/matplotlib/backends/backend_agg.py:214: RuntimeWarning: Glyph 49552 missing from current font.\n",
            "  font.set_text(s, 0.0, flags=flags)\n",
            "/usr/local/lib/python3.7/dist-packages/matplotlib/backends/backend_agg.py:214: RuntimeWarning: Glyph 54744 missing from current font.\n",
            "  font.set_text(s, 0.0, flags=flags)\n",
            "/usr/local/lib/python3.7/dist-packages/matplotlib/backends/backend_agg.py:214: RuntimeWarning: Glyph 52392 missing from current font.\n",
            "  font.set_text(s, 0.0, flags=flags)\n",
            "/usr/local/lib/python3.7/dist-packages/matplotlib/backends/backend_agg.py:214: RuntimeWarning: Glyph 45800 missing from current font.\n",
            "  font.set_text(s, 0.0, flags=flags)\n",
            "/usr/local/lib/python3.7/dist-packages/matplotlib/backends/backend_agg.py:214: RuntimeWarning: Glyph 48177 missing from current font.\n",
            "  font.set_text(s, 0.0, flags=flags)\n",
            "/usr/local/lib/python3.7/dist-packages/matplotlib/backends/backend_agg.py:214: RuntimeWarning: Glyph 51216 missing from current font.\n",
            "  font.set_text(s, 0.0, flags=flags)\n",
            "/usr/local/lib/python3.7/dist-packages/matplotlib/backends/backend_agg.py:214: RuntimeWarning: Glyph 47141 missing from current font.\n",
            "  font.set_text(s, 0.0, flags=flags)\n",
            "/usr/local/lib/python3.7/dist-packages/matplotlib/backends/backend_agg.py:214: RuntimeWarning: Glyph 53412 missing from current font.\n",
            "  font.set_text(s, 0.0, flags=flags)\n",
            "/usr/local/lib/python3.7/dist-packages/matplotlib/backends/backend_agg.py:214: RuntimeWarning: Glyph 50880 missing from current font.\n",
            "  font.set_text(s, 0.0, flags=flags)\n",
            "/usr/local/lib/python3.7/dist-packages/matplotlib/backends/backend_agg.py:214: RuntimeWarning: Glyph 54925 missing from current font.\n",
            "  font.set_text(s, 0.0, flags=flags)\n",
            "/usr/local/lib/python3.7/dist-packages/matplotlib/backends/backend_agg.py:214: RuntimeWarning: Glyph 51221 missing from current font.\n",
            "  font.set_text(s, 0.0, flags=flags)\n",
            "/usr/local/lib/python3.7/dist-packages/matplotlib/backends/backend_agg.py:214: RuntimeWarning: Glyph 48128 missing from current font.\n",
            "  font.set_text(s, 0.0, flags=flags)\n",
            "/usr/local/lib/python3.7/dist-packages/matplotlib/backends/backend_agg.py:214: RuntimeWarning: Glyph 54617 missing from current font.\n",
            "  font.set_text(s, 0.0, flags=flags)\n",
            "/usr/local/lib/python3.7/dist-packages/matplotlib/backends/backend_agg.py:214: RuntimeWarning: Glyph 44256 missing from current font.\n",
            "  font.set_text(s, 0.0, flags=flags)\n",
            "/usr/local/lib/python3.7/dist-packages/matplotlib/backends/backend_agg.py:214: RuntimeWarning: Glyph 47140 missing from current font.\n",
            "  font.set_text(s, 0.0, flags=flags)\n",
            "/usr/local/lib/python3.7/dist-packages/matplotlib/backends/backend_agg.py:214: RuntimeWarning: Glyph 50672 missing from current font.\n",
            "  font.set_text(s, 0.0, flags=flags)\n",
            "/usr/local/lib/python3.7/dist-packages/matplotlib/backends/backend_agg.py:214: RuntimeWarning: Glyph 49933 missing from current font.\n",
            "  font.set_text(s, 0.0, flags=flags)\n",
            "/usr/local/lib/python3.7/dist-packages/matplotlib/backends/backend_agg.py:214: RuntimeWarning: Glyph 50857 missing from current font.\n",
            "  font.set_text(s, 0.0, flags=flags)\n",
            "/usr/local/lib/python3.7/dist-packages/matplotlib/backends/backend_agg.py:214: RuntimeWarning: Glyph 53440 missing from current font.\n",
            "  font.set_text(s, 0.0, flags=flags)\n",
            "/usr/local/lib/python3.7/dist-packages/matplotlib/backends/backend_agg.py:214: RuntimeWarning: Glyph 53356 missing from current font.\n",
            "  font.set_text(s, 0.0, flags=flags)\n",
            "/usr/local/lib/python3.7/dist-packages/matplotlib/backends/backend_agg.py:214: RuntimeWarning: Glyph 45440 missing from current font.\n",
            "  font.set_text(s, 0.0, flags=flags)\n",
            "/usr/local/lib/python3.7/dist-packages/matplotlib/backends/backend_agg.py:214: RuntimeWarning: Glyph 54408 missing from current font.\n",
            "  font.set_text(s, 0.0, flags=flags)\n",
            "/usr/local/lib/python3.7/dist-packages/matplotlib/backends/backend_agg.py:214: RuntimeWarning: Glyph 45453 missing from current font.\n",
            "  font.set_text(s, 0.0, flags=flags)\n",
            "/usr/local/lib/python3.7/dist-packages/matplotlib/backends/backend_agg.py:214: RuntimeWarning: Glyph 49900 missing from current font.\n",
            "  font.set_text(s, 0.0, flags=flags)\n",
            "/usr/local/lib/python3.7/dist-packages/matplotlib/backends/backend_agg.py:214: RuntimeWarning: Glyph 53685 missing from current font.\n",
            "  font.set_text(s, 0.0, flags=flags)\n",
            "/usr/local/lib/python3.7/dist-packages/matplotlib/backends/backend_agg.py:214: RuntimeWarning: Glyph 50868 missing from current font.\n",
            "  font.set_text(s, 0.0, flags=flags)\n",
            "/usr/local/lib/python3.7/dist-packages/matplotlib/backends/backend_agg.py:214: RuntimeWarning: Glyph 55092 missing from current font.\n",
            "  font.set_text(s, 0.0, flags=flags)\n",
            "/usr/local/lib/python3.7/dist-packages/matplotlib/backends/backend_agg.py:214: RuntimeWarning: Glyph 53008 missing from current font.\n",
            "  font.set_text(s, 0.0, flags=flags)\n",
            "/usr/local/lib/python3.7/dist-packages/matplotlib/backends/backend_agg.py:214: RuntimeWarning: Glyph 51473 missing from current font.\n",
            "  font.set_text(s, 0.0, flags=flags)\n",
            "/usr/local/lib/python3.7/dist-packages/matplotlib/backends/backend_agg.py:214: RuntimeWarning: Glyph 47000 missing from current font.\n",
            "  font.set_text(s, 0.0, flags=flags)\n",
            "/usr/local/lib/python3.7/dist-packages/matplotlib/backends/backend_agg.py:214: RuntimeWarning: Glyph 49483 missing from current font.\n",
            "  font.set_text(s, 0.0, flags=flags)\n",
            "/usr/local/lib/python3.7/dist-packages/matplotlib/backends/backend_agg.py:214: RuntimeWarning: Glyph 47553 missing from current font.\n",
            "  font.set_text(s, 0.0, flags=flags)\n",
            "/usr/local/lib/python3.7/dist-packages/matplotlib/backends/backend_agg.py:214: RuntimeWarning: Glyph 48169 missing from current font.\n",
            "  font.set_text(s, 0.0, flags=flags)\n",
            "/usr/local/lib/python3.7/dist-packages/matplotlib/backends/backend_agg.py:214: RuntimeWarning: Glyph 54168 missing from current font.\n",
            "  font.set_text(s, 0.0, flags=flags)\n",
            "/usr/local/lib/python3.7/dist-packages/matplotlib/backends/backend_agg.py:214: RuntimeWarning: Glyph 47932 missing from current font.\n",
            "  font.set_text(s, 0.0, flags=flags)\n",
            "/usr/local/lib/python3.7/dist-packages/matplotlib/backends/backend_agg.py:214: RuntimeWarning: Glyph 45349 missing from current font.\n",
            "  font.set_text(s, 0.0, flags=flags)\n",
            "/usr/local/lib/python3.7/dist-packages/matplotlib/backends/backend_agg.py:214: RuntimeWarning: Glyph 48660 missing from current font.\n",
            "  font.set_text(s, 0.0, flags=flags)\n",
            "/usr/local/lib/python3.7/dist-packages/matplotlib/backends/backend_agg.py:214: RuntimeWarning: Glyph 44172 missing from current font.\n",
            "  font.set_text(s, 0.0, flags=flags)\n",
            "/usr/local/lib/python3.7/dist-packages/matplotlib/backends/backend_agg.py:214: RuntimeWarning: Glyph 51076 missing from current font.\n",
            "  font.set_text(s, 0.0, flags=flags)\n",
            "/usr/local/lib/python3.7/dist-packages/matplotlib/backends/backend_agg.py:214: RuntimeWarning: Glyph 49849 missing from current font.\n",
            "  font.set_text(s, 0.0, flags=flags)\n",
            "/usr/local/lib/python3.7/dist-packages/matplotlib/backends/backend_agg.py:214: RuntimeWarning: Glyph 51649 missing from current font.\n",
            "  font.set_text(s, 0.0, flags=flags)\n",
            "/usr/local/lib/python3.7/dist-packages/matplotlib/backends/backend_agg.py:214: RuntimeWarning: Glyph 48165 missing from current font.\n",
            "  font.set_text(s, 0.0, flags=flags)\n",
            "/usr/local/lib/python3.7/dist-packages/matplotlib/backends/backend_agg.py:214: RuntimeWarning: Glyph 52899 missing from current font.\n",
            "  font.set_text(s, 0.0, flags=flags)\n",
            "/usr/local/lib/python3.7/dist-packages/matplotlib/backends/backend_agg.py:214: RuntimeWarning: Glyph 45367 missing from current font.\n",
            "  font.set_text(s, 0.0, flags=flags)\n",
            "/usr/local/lib/python3.7/dist-packages/matplotlib/backends/backend_agg.py:214: RuntimeWarning: Glyph 53216 missing from current font.\n",
            "  font.set_text(s, 0.0, flags=flags)\n",
            "/usr/local/lib/python3.7/dist-packages/matplotlib/backends/backend_agg.py:214: RuntimeWarning: Glyph 47704 missing from current font.\n",
            "  font.set_text(s, 0.0, flags=flags)\n",
            "/usr/local/lib/python3.7/dist-packages/matplotlib/backends/backend_agg.py:214: RuntimeWarning: Glyph 54504 missing from current font.\n",
            "  font.set_text(s, 0.0, flags=flags)\n",
            "/usr/local/lib/python3.7/dist-packages/matplotlib/backends/backend_agg.py:214: RuntimeWarning: Glyph 45572 missing from current font.\n",
            "  font.set_text(s, 0.0, flags=flags)\n",
            "/usr/local/lib/python3.7/dist-packages/matplotlib/backends/backend_agg.py:214: RuntimeWarning: Glyph 54044 missing from current font.\n",
            "  font.set_text(s, 0.0, flags=flags)\n",
            "/usr/local/lib/python3.7/dist-packages/matplotlib/backends/backend_agg.py:214: RuntimeWarning: Glyph 48652 missing from current font.\n",
            "  font.set_text(s, 0.0, flags=flags)\n",
            "/usr/local/lib/python3.7/dist-packages/matplotlib/backends/backend_agg.py:183: RuntimeWarning: Glyph 49828 missing from current font.\n",
            "  font.set_text(s, 0, flags=flags)\n",
            "/usr/local/lib/python3.7/dist-packages/matplotlib/backends/backend_agg.py:183: RuntimeWarning: Glyph 54008 missing from current font.\n",
            "  font.set_text(s, 0, flags=flags)\n",
            "/usr/local/lib/python3.7/dist-packages/matplotlib/backends/backend_agg.py:183: RuntimeWarning: Glyph 54616 missing from current font.\n",
            "  font.set_text(s, 0, flags=flags)\n",
            "/usr/local/lib/python3.7/dist-packages/matplotlib/backends/backend_agg.py:183: RuntimeWarning: Glyph 45208 missing from current font.\n",
            "  font.set_text(s, 0, flags=flags)\n",
            "/usr/local/lib/python3.7/dist-packages/matplotlib/backends/backend_agg.py:183: RuntimeWarning: Glyph 53804 missing from current font.\n",
            "  font.set_text(s, 0, flags=flags)\n",
            "/usr/local/lib/python3.7/dist-packages/matplotlib/backends/backend_agg.py:183: RuntimeWarning: Glyph 50612 missing from current font.\n",
            "  font.set_text(s, 0, flags=flags)\n",
            "/usr/local/lib/python3.7/dist-packages/matplotlib/backends/backend_agg.py:183: RuntimeWarning: Glyph 50644 missing from current font.\n",
            "  font.set_text(s, 0, flags=flags)\n",
            "/usr/local/lib/python3.7/dist-packages/matplotlib/backends/backend_agg.py:183: RuntimeWarning: Glyph 50472 missing from current font.\n",
            "  font.set_text(s, 0, flags=flags)\n",
            "/usr/local/lib/python3.7/dist-packages/matplotlib/backends/backend_agg.py:183: RuntimeWarning: Glyph 49548 missing from current font.\n",
            "  font.set_text(s, 0, flags=flags)\n",
            "/usr/local/lib/python3.7/dist-packages/matplotlib/backends/backend_agg.py:183: RuntimeWarning: Glyph 54532 missing from current font.\n",
            "  font.set_text(s, 0, flags=flags)\n",
            "/usr/local/lib/python3.7/dist-packages/matplotlib/backends/backend_agg.py:183: RuntimeWarning: Glyph 53944 missing from current font.\n",
            "  font.set_text(s, 0, flags=flags)\n",
            "/usr/local/lib/python3.7/dist-packages/matplotlib/backends/backend_agg.py:183: RuntimeWarning: Glyph 50500 missing from current font.\n",
            "  font.set_text(s, 0, flags=flags)\n",
            "/usr/local/lib/python3.7/dist-packages/matplotlib/backends/backend_agg.py:183: RuntimeWarning: Glyph 51060 missing from current font.\n",
            "  font.set_text(s, 0, flags=flags)\n",
            "/usr/local/lib/python3.7/dist-packages/matplotlib/backends/backend_agg.py:183: RuntimeWarning: Glyph 50640 missing from current font.\n",
            "  font.set_text(s, 0, flags=flags)\n",
            "/usr/local/lib/python3.7/dist-packages/matplotlib/backends/backend_agg.py:183: RuntimeWarning: Glyph 46041 missing from current font.\n",
            "  font.set_text(s, 0, flags=flags)\n",
            "/usr/local/lib/python3.7/dist-packages/matplotlib/backends/backend_agg.py:183: RuntimeWarning: Glyph 49436 missing from current font.\n",
            "  font.set_text(s, 0, flags=flags)\n",
            "/usr/local/lib/python3.7/dist-packages/matplotlib/backends/backend_agg.py:183: RuntimeWarning: Glyph 49340 missing from current font.\n",
            "  font.set_text(s, 0, flags=flags)\n",
            "/usr/local/lib/python3.7/dist-packages/matplotlib/backends/backend_agg.py:183: RuntimeWarning: Glyph 49457 missing from current font.\n",
            "  font.set_text(s, 0, flags=flags)\n",
            "/usr/local/lib/python3.7/dist-packages/matplotlib/backends/backend_agg.py:183: RuntimeWarning: Glyph 51204 missing from current font.\n",
            "  font.set_text(s, 0, flags=flags)\n",
            "/usr/local/lib/python3.7/dist-packages/matplotlib/backends/backend_agg.py:183: RuntimeWarning: Glyph 44592 missing from current font.\n",
            "  font.set_text(s, 0, flags=flags)\n",
            "/usr/local/lib/python3.7/dist-packages/matplotlib/backends/backend_agg.py:183: RuntimeWarning: Glyph 52852 missing from current font.\n",
            "  font.set_text(s, 0, flags=flags)\n",
            "/usr/local/lib/python3.7/dist-packages/matplotlib/backends/backend_agg.py:183: RuntimeWarning: Glyph 50724 missing from current font.\n",
            "  font.set_text(s, 0, flags=flags)\n",
            "/usr/local/lib/python3.7/dist-packages/matplotlib/backends/backend_agg.py:183: RuntimeWarning: Glyph 50952 missing from current font.\n",
            "  font.set_text(s, 0, flags=flags)\n",
            "/usr/local/lib/python3.7/dist-packages/matplotlib/backends/backend_agg.py:183: RuntimeWarning: Glyph 46300 missing from current font.\n",
            "  font.set_text(s, 0, flags=flags)\n",
            "/usr/local/lib/python3.7/dist-packages/matplotlib/backends/backend_agg.py:183: RuntimeWarning: Glyph 44397 missing from current font.\n",
            "  font.set_text(s, 0, flags=flags)\n",
            "/usr/local/lib/python3.7/dist-packages/matplotlib/backends/backend_agg.py:183: RuntimeWarning: Glyph 51228 missing from current font.\n",
            "  font.set_text(s, 0, flags=flags)\n",
            "/usr/local/lib/python3.7/dist-packages/matplotlib/backends/backend_agg.py:183: RuntimeWarning: Glyph 44053 missing from current font.\n",
            "  font.set_text(s, 0, flags=flags)\n",
            "/usr/local/lib/python3.7/dist-packages/matplotlib/backends/backend_agg.py:183: RuntimeWarning: Glyph 51068 missing from current font.\n",
            "  font.set_text(s, 0, flags=flags)\n",
            "/usr/local/lib/python3.7/dist-packages/matplotlib/backends/backend_agg.py:183: RuntimeWarning: Glyph 45817 missing from current font.\n",
            "  font.set_text(s, 0, flags=flags)\n",
            "/usr/local/lib/python3.7/dist-packages/matplotlib/backends/backend_agg.py:183: RuntimeWarning: Glyph 50976 missing from current font.\n",
            "  font.set_text(s, 0, flags=flags)\n",
            "/usr/local/lib/python3.7/dist-packages/matplotlib/backends/backend_agg.py:183: RuntimeWarning: Glyph 54540 missing from current font.\n",
            "  font.set_text(s, 0, flags=flags)\n",
            "/usr/local/lib/python3.7/dist-packages/matplotlib/backends/backend_agg.py:183: RuntimeWarning: Glyph 47084 missing from current font.\n",
            "  font.set_text(s, 0, flags=flags)\n",
            "/usr/local/lib/python3.7/dist-packages/matplotlib/backends/backend_agg.py:183: RuntimeWarning: Glyph 46748 missing from current font.\n",
            "  font.set_text(s, 0, flags=flags)\n",
            "/usr/local/lib/python3.7/dist-packages/matplotlib/backends/backend_agg.py:183: RuntimeWarning: Glyph 54980 missing from current font.\n",
            "  font.set_text(s, 0, flags=flags)\n",
            "/usr/local/lib/python3.7/dist-packages/matplotlib/backends/backend_agg.py:183: RuntimeWarning: Glyph 55072 missing from current font.\n",
            "  font.set_text(s, 0, flags=flags)\n",
            "/usr/local/lib/python3.7/dist-packages/matplotlib/backends/backend_agg.py:183: RuntimeWarning: Glyph 46972 missing from current font.\n",
            "  font.set_text(s, 0, flags=flags)\n",
            "/usr/local/lib/python3.7/dist-packages/matplotlib/backends/backend_agg.py:183: RuntimeWarning: Glyph 54848 missing from current font.\n",
            "  font.set_text(s, 0, flags=flags)\n",
            "/usr/local/lib/python3.7/dist-packages/matplotlib/backends/backend_agg.py:183: RuntimeWarning: Glyph 46377 missing from current font.\n",
            "  font.set_text(s, 0, flags=flags)\n",
            "/usr/local/lib/python3.7/dist-packages/matplotlib/backends/backend_agg.py:183: RuntimeWarning: Glyph 45824 missing from current font.\n",
            "  font.set_text(s, 0, flags=flags)\n",
            "/usr/local/lib/python3.7/dist-packages/matplotlib/backends/backend_agg.py:183: RuntimeWarning: Glyph 50885 missing from current font.\n",
            "  font.set_text(s, 0, flags=flags)\n",
            "/usr/local/lib/python3.7/dist-packages/matplotlib/backends/backend_agg.py:183: RuntimeWarning: Glyph 50557 missing from current font.\n",
            "  font.set_text(s, 0, flags=flags)\n",
            "/usr/local/lib/python3.7/dist-packages/matplotlib/backends/backend_agg.py:183: RuntimeWarning: Glyph 54620 missing from current font.\n",
            "  font.set_text(s, 0, flags=flags)\n",
            "/usr/local/lib/python3.7/dist-packages/matplotlib/backends/backend_agg.py:183: RuntimeWarning: Glyph 49368 missing from current font.\n",
            "  font.set_text(s, 0, flags=flags)\n",
            "/usr/local/lib/python3.7/dist-packages/matplotlib/backends/backend_agg.py:183: RuntimeWarning: Glyph 49345 missing from current font.\n",
            "  font.set_text(s, 0, flags=flags)\n",
            "/usr/local/lib/python3.7/dist-packages/matplotlib/backends/backend_agg.py:183: RuntimeWarning: Glyph 50648 missing from current font.\n",
            "  font.set_text(s, 0, flags=flags)\n",
            "/usr/local/lib/python3.7/dist-packages/matplotlib/backends/backend_agg.py:183: RuntimeWarning: Glyph 54868 missing from current font.\n",
            "  font.set_text(s, 0, flags=flags)\n",
            "/usr/local/lib/python3.7/dist-packages/matplotlib/backends/backend_agg.py:183: RuntimeWarning: Glyph 54637 missing from current font.\n",
            "  font.set_text(s, 0, flags=flags)\n",
            "/usr/local/lib/python3.7/dist-packages/matplotlib/backends/backend_agg.py:183: RuntimeWarning: Glyph 44277 missing from current font.\n",
            "  font.set_text(s, 0, flags=flags)\n",
            "/usr/local/lib/python3.7/dist-packages/matplotlib/backends/backend_agg.py:183: RuntimeWarning: Glyph 45432 missing from current font.\n",
            "  font.set_text(s, 0, flags=flags)\n",
            "/usr/local/lib/python3.7/dist-packages/matplotlib/backends/backend_agg.py:183: RuntimeWarning: Glyph 53581 missing from current font.\n",
            "  font.set_text(s, 0, flags=flags)\n",
            "/usr/local/lib/python3.7/dist-packages/matplotlib/backends/backend_agg.py:183: RuntimeWarning: Glyph 54840 missing from current font.\n",
            "  font.set_text(s, 0, flags=flags)\n",
            "/usr/local/lib/python3.7/dist-packages/matplotlib/backends/backend_agg.py:183: RuntimeWarning: Glyph 53588 missing from current font.\n",
            "  font.set_text(s, 0, flags=flags)\n",
            "/usr/local/lib/python3.7/dist-packages/matplotlib/backends/backend_agg.py:183: RuntimeWarning: Glyph 49888 missing from current font.\n",
            "  font.set_text(s, 0, flags=flags)\n",
            "/usr/local/lib/python3.7/dist-packages/matplotlib/backends/backend_agg.py:183: RuntimeWarning: Glyph 50728 missing from current font.\n",
            "  font.set_text(s, 0, flags=flags)\n",
            "/usr/local/lib/python3.7/dist-packages/matplotlib/backends/backend_agg.py:183: RuntimeWarning: Glyph 49884 missing from current font.\n",
            "  font.set_text(s, 0, flags=flags)\n",
            "/usr/local/lib/python3.7/dist-packages/matplotlib/backends/backend_agg.py:183: RuntimeWarning: Glyph 53596 missing from current font.\n",
            "  font.set_text(s, 0, flags=flags)\n",
            "/usr/local/lib/python3.7/dist-packages/matplotlib/backends/backend_agg.py:183: RuntimeWarning: Glyph 51652 missing from current font.\n",
            "  font.set_text(s, 0, flags=flags)\n",
            "/usr/local/lib/python3.7/dist-packages/matplotlib/backends/backend_agg.py:183: RuntimeWarning: Glyph 47196 missing from current font.\n",
            "  font.set_text(s, 0, flags=flags)\n",
            "/usr/local/lib/python3.7/dist-packages/matplotlib/backends/backend_agg.py:183: RuntimeWarning: Glyph 54060 missing from current font.\n",
            "  font.set_text(s, 0, flags=flags)\n",
            "/usr/local/lib/python3.7/dist-packages/matplotlib/backends/backend_agg.py:183: RuntimeWarning: Glyph 49496 missing from current font.\n",
            "  font.set_text(s, 0, flags=flags)\n",
            "/usr/local/lib/python3.7/dist-packages/matplotlib/backends/backend_agg.py:183: RuntimeWarning: Glyph 54788 missing from current font.\n",
            "  font.set_text(s, 0, flags=flags)\n",
            "/usr/local/lib/python3.7/dist-packages/matplotlib/backends/backend_agg.py:183: RuntimeWarning: Glyph 47532 missing from current font.\n",
            "  font.set_text(s, 0, flags=flags)\n",
            "/usr/local/lib/python3.7/dist-packages/matplotlib/backends/backend_agg.py:183: RuntimeWarning: Glyph 48288 missing from current font.\n",
            "  font.set_text(s, 0, flags=flags)\n",
            "/usr/local/lib/python3.7/dist-packages/matplotlib/backends/backend_agg.py:183: RuntimeWarning: Glyph 48120 missing from current font.\n",
            "  font.set_text(s, 0, flags=flags)\n",
            "/usr/local/lib/python3.7/dist-packages/matplotlib/backends/backend_agg.py:183: RuntimeWarning: Glyph 54252 missing from current font.\n",
            "  font.set_text(s, 0, flags=flags)\n",
            "/usr/local/lib/python3.7/dist-packages/matplotlib/backends/backend_agg.py:183: RuntimeWarning: Glyph 51312 missing from current font.\n",
            "  font.set_text(s, 0, flags=flags)\n",
            "/usr/local/lib/python3.7/dist-packages/matplotlib/backends/backend_agg.py:183: RuntimeWarning: Glyph 49440 missing from current font.\n",
            "  font.set_text(s, 0, flags=flags)\n",
            "/usr/local/lib/python3.7/dist-packages/matplotlib/backends/backend_agg.py:183: RuntimeWarning: Glyph 49373 missing from current font.\n",
            "  font.set_text(s, 0, flags=flags)\n",
            "/usr/local/lib/python3.7/dist-packages/matplotlib/backends/backend_agg.py:183: RuntimeWarning: Glyph 47749 missing from current font.\n",
            "  font.set_text(s, 0, flags=flags)\n",
            "/usr/local/lib/python3.7/dist-packages/matplotlib/backends/backend_agg.py:183: RuntimeWarning: Glyph 49324 missing from current font.\n",
            "  font.set_text(s, 0, flags=flags)\n",
            "/usr/local/lib/python3.7/dist-packages/matplotlib/backends/backend_agg.py:183: RuntimeWarning: Glyph 50616 missing from current font.\n",
            "  font.set_text(s, 0, flags=flags)\n",
            "/usr/local/lib/python3.7/dist-packages/matplotlib/backends/backend_agg.py:183: RuntimeWarning: Glyph 53076 missing from current font.\n",
            "  font.set_text(s, 0, flags=flags)\n",
            "/usr/local/lib/python3.7/dist-packages/matplotlib/backends/backend_agg.py:183: RuntimeWarning: Glyph 47217 missing from current font.\n",
            "  font.set_text(s, 0, flags=flags)\n",
            "/usr/local/lib/python3.7/dist-packages/matplotlib/backends/backend_agg.py:183: RuntimeWarning: Glyph 51064 missing from current font.\n",
            "  font.set_text(s, 0, flags=flags)\n",
            "/usr/local/lib/python3.7/dist-packages/matplotlib/backends/backend_agg.py:183: RuntimeWarning: Glyph 45908 missing from current font.\n",
            "  font.set_text(s, 0, flags=flags)\n",
            "/usr/local/lib/python3.7/dist-packages/matplotlib/backends/backend_agg.py:183: RuntimeWarning: Glyph 47112 missing from current font.\n",
            "  font.set_text(s, 0, flags=flags)\n",
            "/usr/local/lib/python3.7/dist-packages/matplotlib/backends/backend_agg.py:183: RuntimeWarning: Glyph 53092 missing from current font.\n",
            "  font.set_text(s, 0, flags=flags)\n",
            "/usr/local/lib/python3.7/dist-packages/matplotlib/backends/backend_agg.py:183: RuntimeWarning: Glyph 50896 missing from current font.\n",
            "  font.set_text(s, 0, flags=flags)\n",
            "/usr/local/lib/python3.7/dist-packages/matplotlib/backends/backend_agg.py:183: RuntimeWarning: Glyph 49556 missing from current font.\n",
            "  font.set_text(s, 0, flags=flags)\n",
            "/usr/local/lib/python3.7/dist-packages/matplotlib/backends/backend_agg.py:183: RuntimeWarning: Glyph 52992 missing from current font.\n",
            "  font.set_text(s, 0, flags=flags)\n",
            "/usr/local/lib/python3.7/dist-packages/matplotlib/backends/backend_agg.py:183: RuntimeWarning: Glyph 52860 missing from current font.\n",
            "  font.set_text(s, 0, flags=flags)\n",
            "/usr/local/lib/python3.7/dist-packages/matplotlib/backends/backend_agg.py:183: RuntimeWarning: Glyph 49464 missing from current font.\n",
            "  font.set_text(s, 0, flags=flags)\n",
            "/usr/local/lib/python3.7/dist-packages/matplotlib/backends/backend_agg.py:183: RuntimeWarning: Glyph 49892 missing from current font.\n",
            "  font.set_text(s, 0, flags=flags)\n",
            "/usr/local/lib/python3.7/dist-packages/matplotlib/backends/backend_agg.py:183: RuntimeWarning: Glyph 50629 missing from current font.\n",
            "  font.set_text(s, 0, flags=flags)\n",
            "/usr/local/lib/python3.7/dist-packages/matplotlib/backends/backend_agg.py:183: RuntimeWarning: Glyph 46160 missing from current font.\n",
            "  font.set_text(s, 0, flags=flags)\n",
            "/usr/local/lib/python3.7/dist-packages/matplotlib/backends/backend_agg.py:183: RuntimeWarning: Glyph 49328 missing from current font.\n",
            "  font.set_text(s, 0, flags=flags)\n",
            "/usr/local/lib/python3.7/dist-packages/matplotlib/backends/backend_agg.py:183: RuntimeWarning: Glyph 45320 missing from current font.\n",
            "  font.set_text(s, 0, flags=flags)\n",
            "/usr/local/lib/python3.7/dist-packages/matplotlib/backends/backend_agg.py:183: RuntimeWarning: Glyph 48716 missing from current font.\n",
            "  font.set_text(s, 0, flags=flags)\n",
            "/usr/local/lib/python3.7/dist-packages/matplotlib/backends/backend_agg.py:183: RuntimeWarning: Glyph 54000 missing from current font.\n",
            "  font.set_text(s, 0, flags=flags)\n",
            "/usr/local/lib/python3.7/dist-packages/matplotlib/backends/backend_agg.py:183: RuntimeWarning: Glyph 52384 missing from current font.\n",
            "  font.set_text(s, 0, flags=flags)\n",
            "/usr/local/lib/python3.7/dist-packages/matplotlib/backends/backend_agg.py:183: RuntimeWarning: Glyph 53084 missing from current font.\n",
            "  font.set_text(s, 0, flags=flags)\n",
            "/usr/local/lib/python3.7/dist-packages/matplotlib/backends/backend_agg.py:183: RuntimeWarning: Glyph 47560 missing from current font.\n",
            "  font.set_text(s, 0, flags=flags)\n",
            "/usr/local/lib/python3.7/dist-packages/matplotlib/backends/backend_agg.py:183: RuntimeWarning: Glyph 44032 missing from current font.\n",
            "  font.set_text(s, 0, flags=flags)\n",
            "/usr/local/lib/python3.7/dist-packages/matplotlib/backends/backend_agg.py:183: RuntimeWarning: Glyph 51333 missing from current font.\n",
            "  font.set_text(s, 0, flags=flags)\n",
            "/usr/local/lib/python3.7/dist-packages/matplotlib/backends/backend_agg.py:183: RuntimeWarning: Glyph 44540 missing from current font.\n",
            "  font.set_text(s, 0, flags=flags)\n",
            "/usr/local/lib/python3.7/dist-packages/matplotlib/backends/backend_agg.py:183: RuntimeWarning: Glyph 50689 missing from current font.\n",
            "  font.set_text(s, 0, flags=flags)\n",
            "/usr/local/lib/python3.7/dist-packages/matplotlib/backends/backend_agg.py:183: RuntimeWarning: Glyph 47924 missing from current font.\n",
            "  font.set_text(s, 0, flags=flags)\n",
            "/usr/local/lib/python3.7/dist-packages/matplotlib/backends/backend_agg.py:183: RuntimeWarning: Glyph 50669 missing from current font.\n",
            "  font.set_text(s, 0, flags=flags)\n",
            "/usr/local/lib/python3.7/dist-packages/matplotlib/backends/backend_agg.py:183: RuntimeWarning: Glyph 53468 missing from current font.\n",
            "  font.set_text(s, 0, flags=flags)\n",
            "/usr/local/lib/python3.7/dist-packages/matplotlib/backends/backend_agg.py:183: RuntimeWarning: Glyph 44305 missing from current font.\n",
            "  font.set_text(s, 0, flags=flags)\n",
            "/usr/local/lib/python3.7/dist-packages/matplotlib/backends/backend_agg.py:183: RuntimeWarning: Glyph 46356 missing from current font.\n",
            "  font.set_text(s, 0, flags=flags)\n",
            "/usr/local/lib/python3.7/dist-packages/matplotlib/backends/backend_agg.py:183: RuntimeWarning: Glyph 47336 missing from current font.\n",
            "  font.set_text(s, 0, flags=flags)\n",
            "/usr/local/lib/python3.7/dist-packages/matplotlib/backends/backend_agg.py:183: RuntimeWarning: Glyph 53580 missing from current font.\n",
            "  font.set_text(s, 0, flags=flags)\n",
            "/usr/local/lib/python3.7/dist-packages/matplotlib/backends/backend_agg.py:183: RuntimeWarning: Glyph 54644 missing from current font.\n",
            "  font.set_text(s, 0, flags=flags)\n",
            "/usr/local/lib/python3.7/dist-packages/matplotlib/backends/backend_agg.py:183: RuntimeWarning: Glyph 44148 missing from current font.\n",
            "  font.set_text(s, 0, flags=flags)\n",
            "/usr/local/lib/python3.7/dist-packages/matplotlib/backends/backend_agg.py:183: RuntimeWarning: Glyph 49444 missing from current font.\n",
            "  font.set_text(s, 0, flags=flags)\n",
            "/usr/local/lib/python3.7/dist-packages/matplotlib/backends/backend_agg.py:183: RuntimeWarning: Glyph 51008 missing from current font.\n",
            "  font.set_text(s, 0, flags=flags)\n",
            "/usr/local/lib/python3.7/dist-packages/matplotlib/backends/backend_agg.py:183: RuntimeWarning: Glyph 54665 missing from current font.\n",
            "  font.set_text(s, 0, flags=flags)\n",
            "/usr/local/lib/python3.7/dist-packages/matplotlib/backends/backend_agg.py:183: RuntimeWarning: Glyph 51116 missing from current font.\n",
            "  font.set_text(s, 0, flags=flags)\n",
            "/usr/local/lib/python3.7/dist-packages/matplotlib/backends/backend_agg.py:183: RuntimeWarning: Glyph 47700 missing from current font.\n",
            "  font.set_text(s, 0, flags=flags)\n",
            "/usr/local/lib/python3.7/dist-packages/matplotlib/backends/backend_agg.py:183: RuntimeWarning: Glyph 52768 missing from current font.\n",
            "  font.set_text(s, 0, flags=flags)\n",
            "/usr/local/lib/python3.7/dist-packages/matplotlib/backends/backend_agg.py:183: RuntimeWarning: Glyph 51613 missing from current font.\n",
            "  font.set_text(s, 0, flags=flags)\n",
            "/usr/local/lib/python3.7/dist-packages/matplotlib/backends/backend_agg.py:183: RuntimeWarning: Glyph 44428 missing from current font.\n",
            "  font.set_text(s, 0, flags=flags)\n",
            "/usr/local/lib/python3.7/dist-packages/matplotlib/backends/backend_agg.py:183: RuntimeWarning: Glyph 51088 missing from current font.\n",
            "  font.set_text(s, 0, flags=flags)\n",
            "/usr/local/lib/python3.7/dist-packages/matplotlib/backends/backend_agg.py:183: RuntimeWarning: Glyph 50864 missing from current font.\n",
            "  font.set_text(s, 0, flags=flags)\n",
            "/usr/local/lib/python3.7/dist-packages/matplotlib/backends/backend_agg.py:183: RuntimeWarning: Glyph 51452 missing from current font.\n",
            "  font.set_text(s, 0, flags=flags)\n",
            "/usr/local/lib/python3.7/dist-packages/matplotlib/backends/backend_agg.py:183: RuntimeWarning: Glyph 44552 missing from current font.\n",
            "  font.set_text(s, 0, flags=flags)\n",
            "/usr/local/lib/python3.7/dist-packages/matplotlib/backends/backend_agg.py:183: RuntimeWarning: Glyph 50997 missing from current font.\n",
            "  font.set_text(s, 0, flags=flags)\n",
            "/usr/local/lib/python3.7/dist-packages/matplotlib/backends/backend_agg.py:183: RuntimeWarning: Glyph 51648 missing from current font.\n",
            "  font.set_text(s, 0, flags=flags)\n",
            "/usr/local/lib/python3.7/dist-packages/matplotlib/backends/backend_agg.py:183: RuntimeWarning: Glyph 50948 missing from current font.\n",
            "  font.set_text(s, 0, flags=flags)\n",
            "/usr/local/lib/python3.7/dist-packages/matplotlib/backends/backend_agg.py:183: RuntimeWarning: Glyph 45348 missing from current font.\n",
            "  font.set_text(s, 0, flags=flags)\n",
            "/usr/local/lib/python3.7/dist-packages/matplotlib/backends/backend_agg.py:183: RuntimeWarning: Glyph 50893 missing from current font.\n",
            "  font.set_text(s, 0, flags=flags)\n",
            "/usr/local/lib/python3.7/dist-packages/matplotlib/backends/backend_agg.py:183: RuntimeWarning: Glyph 47215 missing from current font.\n",
            "  font.set_text(s, 0, flags=flags)\n",
            "/usr/local/lib/python3.7/dist-packages/matplotlib/backends/backend_agg.py:183: RuntimeWarning: Glyph 45936 missing from current font.\n",
            "  font.set_text(s, 0, flags=flags)\n",
            "/usr/local/lib/python3.7/dist-packages/matplotlib/backends/backend_agg.py:183: RuntimeWarning: Glyph 44288 missing from current font.\n",
            "  font.set_text(s, 0, flags=flags)\n",
            "/usr/local/lib/python3.7/dist-packages/matplotlib/backends/backend_agg.py:183: RuntimeWarning: Glyph 44060 missing from current font.\n",
            "  font.set_text(s, 0, flags=flags)\n",
            "/usr/local/lib/python3.7/dist-packages/matplotlib/backends/backend_agg.py:183: RuntimeWarning: Glyph 48156 missing from current font.\n",
            "  font.set_text(s, 0, flags=flags)\n",
            "/usr/local/lib/python3.7/dist-packages/matplotlib/backends/backend_agg.py:183: RuntimeWarning: Glyph 48372 missing from current font.\n",
            "  font.set_text(s, 0, flags=flags)\n",
            "/usr/local/lib/python3.7/dist-packages/matplotlib/backends/backend_agg.py:183: RuntimeWarning: Glyph 47161 missing from current font.\n",
            "  font.set_text(s, 0, flags=flags)\n",
            "/usr/local/lib/python3.7/dist-packages/matplotlib/backends/backend_agg.py:183: RuntimeWarning: Glyph 54952 missing from current font.\n",
            "  font.set_text(s, 0, flags=flags)\n",
            "/usr/local/lib/python3.7/dist-packages/matplotlib/backends/backend_agg.py:183: RuntimeWarning: Glyph 52832 missing from current font.\n",
            "  font.set_text(s, 0, flags=flags)\n",
            "/usr/local/lib/python3.7/dist-packages/matplotlib/backends/backend_agg.py:183: RuntimeWarning: Glyph 45769 missing from current font.\n",
            "  font.set_text(s, 0, flags=flags)\n",
            "/usr/local/lib/python3.7/dist-packages/matplotlib/backends/backend_agg.py:183: RuntimeWarning: Glyph 47564 missing from current font.\n",
            "  font.set_text(s, 0, flags=flags)\n",
            "/usr/local/lib/python3.7/dist-packages/matplotlib/backends/backend_agg.py:183: RuntimeWarning: Glyph 46020 missing from current font.\n",
            "  font.set_text(s, 0, flags=flags)\n",
            "/usr/local/lib/python3.7/dist-packages/matplotlib/backends/backend_agg.py:183: RuntimeWarning: Glyph 51592 missing from current font.\n",
            "  font.set_text(s, 0, flags=flags)\n",
            "/usr/local/lib/python3.7/dist-packages/matplotlib/backends/backend_agg.py:183: RuntimeWarning: Glyph 49437 missing from current font.\n",
            "  font.set_text(s, 0, flags=flags)\n",
            "/usr/local/lib/python3.7/dist-packages/matplotlib/backends/backend_agg.py:183: RuntimeWarning: Glyph 49472 missing from current font.\n",
            "  font.set_text(s, 0, flags=flags)\n",
            "/usr/local/lib/python3.7/dist-packages/matplotlib/backends/backend_agg.py:183: RuntimeWarning: Glyph 44536 missing from current font.\n",
            "  font.set_text(s, 0, flags=flags)\n",
            "/usr/local/lib/python3.7/dist-packages/matplotlib/backends/backend_agg.py:183: RuntimeWarning: Glyph 47536 missing from current font.\n",
            "  font.set_text(s, 0, flags=flags)\n",
            "/usr/local/lib/python3.7/dist-packages/matplotlib/backends/backend_agg.py:183: RuntimeWarning: Glyph 54392 missing from current font.\n",
            "  font.set_text(s, 0, flags=flags)\n",
            "/usr/local/lib/python3.7/dist-packages/matplotlib/backends/backend_agg.py:183: RuntimeWarning: Glyph 50577 missing from current font.\n",
            "  font.set_text(s, 0, flags=flags)\n",
            "/usr/local/lib/python3.7/dist-packages/matplotlib/backends/backend_agg.py:183: RuntimeWarning: Glyph 52264 missing from current font.\n",
            "  font.set_text(s, 0, flags=flags)\n",
            "/usr/local/lib/python3.7/dist-packages/matplotlib/backends/backend_agg.py:183: RuntimeWarning: Glyph 54413 missing from current font.\n",
            "  font.set_text(s, 0, flags=flags)\n",
            "/usr/local/lib/python3.7/dist-packages/matplotlib/backends/backend_agg.py:183: RuntimeWarning: Glyph 47784 missing from current font.\n",
            "  font.set_text(s, 0, flags=flags)\n",
            "/usr/local/lib/python3.7/dist-packages/matplotlib/backends/backend_agg.py:183: RuntimeWarning: Glyph 48708 missing from current font.\n",
            "  font.set_text(s, 0, flags=flags)\n",
            "/usr/local/lib/python3.7/dist-packages/matplotlib/backends/backend_agg.py:183: RuntimeWarning: Glyph 50732 missing from current font.\n",
            "  font.set_text(s, 0, flags=flags)\n",
            "/usr/local/lib/python3.7/dist-packages/matplotlib/backends/backend_agg.py:183: RuntimeWarning: Glyph 48148 missing from current font.\n",
            "  font.set_text(s, 0, flags=flags)\n",
            "/usr/local/lib/python3.7/dist-packages/matplotlib/backends/backend_agg.py:183: RuntimeWarning: Glyph 54028 missing from current font.\n",
            "  font.set_text(s, 0, flags=flags)\n",
            "/usr/local/lib/python3.7/dist-packages/matplotlib/backends/backend_agg.py:183: RuntimeWarning: Glyph 47004 missing from current font.\n",
            "  font.set_text(s, 0, flags=flags)\n",
            "/usr/local/lib/python3.7/dist-packages/matplotlib/backends/backend_agg.py:183: RuntimeWarning: Glyph 53552 missing from current font.\n",
            "  font.set_text(s, 0, flags=flags)\n",
            "/usr/local/lib/python3.7/dist-packages/matplotlib/backends/backend_agg.py:183: RuntimeWarning: Glyph 45236 missing from current font.\n",
            "  font.set_text(s, 0, flags=flags)\n",
            "/usr/local/lib/python3.7/dist-packages/matplotlib/backends/backend_agg.py:183: RuntimeWarning: Glyph 49492 missing from current font.\n",
            "  font.set_text(s, 0, flags=flags)\n",
            "/usr/local/lib/python3.7/dist-packages/matplotlib/backends/backend_agg.py:183: RuntimeWarning: Glyph 45328 missing from current font.\n",
            "  font.set_text(s, 0, flags=flags)\n",
            "/usr/local/lib/python3.7/dist-packages/matplotlib/backends/backend_agg.py:183: RuntimeWarning: Glyph 49696 missing from current font.\n",
            "  font.set_text(s, 0, flags=flags)\n",
            "/usr/local/lib/python3.7/dist-packages/matplotlib/backends/backend_agg.py:183: RuntimeWarning: Glyph 50920 missing from current font.\n",
            "  font.set_text(s, 0, flags=flags)\n",
            "/usr/local/lib/python3.7/dist-packages/matplotlib/backends/backend_agg.py:183: RuntimeWarning: Glyph 45433 missing from current font.\n",
            "  font.set_text(s, 0, flags=flags)\n",
            "/usr/local/lib/python3.7/dist-packages/matplotlib/backends/backend_agg.py:183: RuntimeWarning: Glyph 49901 missing from current font.\n",
            "  font.set_text(s, 0, flags=flags)\n",
            "/usr/local/lib/python3.7/dist-packages/matplotlib/backends/backend_agg.py:183: RuntimeWarning: Glyph 54140 missing from current font.\n",
            "  font.set_text(s, 0, flags=flags)\n",
            "/usr/local/lib/python3.7/dist-packages/matplotlib/backends/backend_agg.py:183: RuntimeWarning: Glyph 54589 missing from current font.\n",
            "  font.set_text(s, 0, flags=flags)\n",
            "/usr/local/lib/python3.7/dist-packages/matplotlib/backends/backend_agg.py:183: RuntimeWarning: Glyph 49452 missing from current font.\n",
            "  font.set_text(s, 0, flags=flags)\n",
            "/usr/local/lib/python3.7/dist-packages/matplotlib/backends/backend_agg.py:183: RuntimeWarning: Glyph 44544 missing from current font.\n",
            "  font.set_text(s, 0, flags=flags)\n",
            "/usr/local/lib/python3.7/dist-packages/matplotlib/backends/backend_agg.py:183: RuntimeWarning: Glyph 47589 missing from current font.\n",
            "  font.set_text(s, 0, flags=flags)\n",
            "/usr/local/lib/python3.7/dist-packages/matplotlib/backends/backend_agg.py:183: RuntimeWarning: Glyph 54876 missing from current font.\n",
            "  font.set_text(s, 0, flags=flags)\n",
            "/usr/local/lib/python3.7/dist-packages/matplotlib/backends/backend_agg.py:183: RuntimeWarning: Glyph 44228 missing from current font.\n",
            "  font.set_text(s, 0, flags=flags)\n",
            "/usr/local/lib/python3.7/dist-packages/matplotlib/backends/backend_agg.py:183: RuntimeWarning: Glyph 45216 missing from current font.\n",
            "  font.set_text(s, 0, flags=flags)\n",
            "/usr/local/lib/python3.7/dist-packages/matplotlib/backends/backend_agg.py:183: RuntimeWarning: Glyph 47672 missing from current font.\n",
            "  font.set_text(s, 0, flags=flags)\n",
            "/usr/local/lib/python3.7/dist-packages/matplotlib/backends/backend_agg.py:183: RuntimeWarning: Glyph 50620 missing from current font.\n",
            "  font.set_text(s, 0, flags=flags)\n",
            "/usr/local/lib/python3.7/dist-packages/matplotlib/backends/backend_agg.py:183: RuntimeWarning: Glyph 50532 missing from current font.\n",
            "  font.set_text(s, 0, flags=flags)\n",
            "/usr/local/lib/python3.7/dist-packages/matplotlib/backends/backend_agg.py:183: RuntimeWarning: Glyph 52980 missing from current font.\n",
            "  font.set_text(s, 0, flags=flags)\n",
            "/usr/local/lib/python3.7/dist-packages/matplotlib/backends/backend_agg.py:183: RuntimeWarning: Glyph 45768 missing from current font.\n",
            "  font.set_text(s, 0, flags=flags)\n",
            "/usr/local/lib/python3.7/dist-packages/matplotlib/backends/backend_agg.py:183: RuntimeWarning: Glyph 54856 missing from current font.\n",
            "  font.set_text(s, 0, flags=flags)\n",
            "/usr/local/lib/python3.7/dist-packages/matplotlib/backends/backend_agg.py:183: RuntimeWarning: Glyph 49660 missing from current font.\n",
            "  font.set_text(s, 0, flags=flags)\n",
            "/usr/local/lib/python3.7/dist-packages/matplotlib/backends/backend_agg.py:183: RuntimeWarning: Glyph 54609 missing from current font.\n",
            "  font.set_text(s, 0, flags=flags)\n",
            "/usr/local/lib/python3.7/dist-packages/matplotlib/backends/backend_agg.py:183: RuntimeWarning: Glyph 49552 missing from current font.\n",
            "  font.set_text(s, 0, flags=flags)\n",
            "/usr/local/lib/python3.7/dist-packages/matplotlib/backends/backend_agg.py:183: RuntimeWarning: Glyph 54744 missing from current font.\n",
            "  font.set_text(s, 0, flags=flags)\n",
            "/usr/local/lib/python3.7/dist-packages/matplotlib/backends/backend_agg.py:183: RuntimeWarning: Glyph 52392 missing from current font.\n",
            "  font.set_text(s, 0, flags=flags)\n",
            "/usr/local/lib/python3.7/dist-packages/matplotlib/backends/backend_agg.py:183: RuntimeWarning: Glyph 45800 missing from current font.\n",
            "  font.set_text(s, 0, flags=flags)\n",
            "/usr/local/lib/python3.7/dist-packages/matplotlib/backends/backend_agg.py:183: RuntimeWarning: Glyph 48177 missing from current font.\n",
            "  font.set_text(s, 0, flags=flags)\n",
            "/usr/local/lib/python3.7/dist-packages/matplotlib/backends/backend_agg.py:183: RuntimeWarning: Glyph 51216 missing from current font.\n",
            "  font.set_text(s, 0, flags=flags)\n",
            "/usr/local/lib/python3.7/dist-packages/matplotlib/backends/backend_agg.py:183: RuntimeWarning: Glyph 47141 missing from current font.\n",
            "  font.set_text(s, 0, flags=flags)\n",
            "/usr/local/lib/python3.7/dist-packages/matplotlib/backends/backend_agg.py:183: RuntimeWarning: Glyph 53412 missing from current font.\n",
            "  font.set_text(s, 0, flags=flags)\n",
            "/usr/local/lib/python3.7/dist-packages/matplotlib/backends/backend_agg.py:183: RuntimeWarning: Glyph 50880 missing from current font.\n",
            "  font.set_text(s, 0, flags=flags)\n",
            "/usr/local/lib/python3.7/dist-packages/matplotlib/backends/backend_agg.py:183: RuntimeWarning: Glyph 54925 missing from current font.\n",
            "  font.set_text(s, 0, flags=flags)\n",
            "/usr/local/lib/python3.7/dist-packages/matplotlib/backends/backend_agg.py:183: RuntimeWarning: Glyph 51221 missing from current font.\n",
            "  font.set_text(s, 0, flags=flags)\n",
            "/usr/local/lib/python3.7/dist-packages/matplotlib/backends/backend_agg.py:183: RuntimeWarning: Glyph 48128 missing from current font.\n",
            "  font.set_text(s, 0, flags=flags)\n",
            "/usr/local/lib/python3.7/dist-packages/matplotlib/backends/backend_agg.py:183: RuntimeWarning: Glyph 54617 missing from current font.\n",
            "  font.set_text(s, 0, flags=flags)\n",
            "/usr/local/lib/python3.7/dist-packages/matplotlib/backends/backend_agg.py:183: RuntimeWarning: Glyph 44256 missing from current font.\n",
            "  font.set_text(s, 0, flags=flags)\n",
            "/usr/local/lib/python3.7/dist-packages/matplotlib/backends/backend_agg.py:183: RuntimeWarning: Glyph 47140 missing from current font.\n",
            "  font.set_text(s, 0, flags=flags)\n",
            "/usr/local/lib/python3.7/dist-packages/matplotlib/backends/backend_agg.py:183: RuntimeWarning: Glyph 50672 missing from current font.\n",
            "  font.set_text(s, 0, flags=flags)\n",
            "/usr/local/lib/python3.7/dist-packages/matplotlib/backends/backend_agg.py:183: RuntimeWarning: Glyph 49933 missing from current font.\n",
            "  font.set_text(s, 0, flags=flags)\n",
            "/usr/local/lib/python3.7/dist-packages/matplotlib/backends/backend_agg.py:183: RuntimeWarning: Glyph 50857 missing from current font.\n",
            "  font.set_text(s, 0, flags=flags)\n",
            "/usr/local/lib/python3.7/dist-packages/matplotlib/backends/backend_agg.py:183: RuntimeWarning: Glyph 53440 missing from current font.\n",
            "  font.set_text(s, 0, flags=flags)\n",
            "/usr/local/lib/python3.7/dist-packages/matplotlib/backends/backend_agg.py:183: RuntimeWarning: Glyph 53356 missing from current font.\n",
            "  font.set_text(s, 0, flags=flags)\n",
            "/usr/local/lib/python3.7/dist-packages/matplotlib/backends/backend_agg.py:183: RuntimeWarning: Glyph 45440 missing from current font.\n",
            "  font.set_text(s, 0, flags=flags)\n",
            "/usr/local/lib/python3.7/dist-packages/matplotlib/backends/backend_agg.py:183: RuntimeWarning: Glyph 54408 missing from current font.\n",
            "  font.set_text(s, 0, flags=flags)\n",
            "/usr/local/lib/python3.7/dist-packages/matplotlib/backends/backend_agg.py:183: RuntimeWarning: Glyph 45453 missing from current font.\n",
            "  font.set_text(s, 0, flags=flags)\n",
            "/usr/local/lib/python3.7/dist-packages/matplotlib/backends/backend_agg.py:183: RuntimeWarning: Glyph 49900 missing from current font.\n",
            "  font.set_text(s, 0, flags=flags)\n",
            "/usr/local/lib/python3.7/dist-packages/matplotlib/backends/backend_agg.py:183: RuntimeWarning: Glyph 53685 missing from current font.\n",
            "  font.set_text(s, 0, flags=flags)\n",
            "/usr/local/lib/python3.7/dist-packages/matplotlib/backends/backend_agg.py:183: RuntimeWarning: Glyph 50868 missing from current font.\n",
            "  font.set_text(s, 0, flags=flags)\n",
            "/usr/local/lib/python3.7/dist-packages/matplotlib/backends/backend_agg.py:183: RuntimeWarning: Glyph 55092 missing from current font.\n",
            "  font.set_text(s, 0, flags=flags)\n",
            "/usr/local/lib/python3.7/dist-packages/matplotlib/backends/backend_agg.py:183: RuntimeWarning: Glyph 53008 missing from current font.\n",
            "  font.set_text(s, 0, flags=flags)\n",
            "/usr/local/lib/python3.7/dist-packages/matplotlib/backends/backend_agg.py:183: RuntimeWarning: Glyph 51473 missing from current font.\n",
            "  font.set_text(s, 0, flags=flags)\n",
            "/usr/local/lib/python3.7/dist-packages/matplotlib/backends/backend_agg.py:183: RuntimeWarning: Glyph 47000 missing from current font.\n",
            "  font.set_text(s, 0, flags=flags)\n",
            "/usr/local/lib/python3.7/dist-packages/matplotlib/backends/backend_agg.py:183: RuntimeWarning: Glyph 49483 missing from current font.\n",
            "  font.set_text(s, 0, flags=flags)\n",
            "/usr/local/lib/python3.7/dist-packages/matplotlib/backends/backend_agg.py:183: RuntimeWarning: Glyph 47553 missing from current font.\n",
            "  font.set_text(s, 0, flags=flags)\n",
            "/usr/local/lib/python3.7/dist-packages/matplotlib/backends/backend_agg.py:183: RuntimeWarning: Glyph 48169 missing from current font.\n",
            "  font.set_text(s, 0, flags=flags)\n",
            "/usr/local/lib/python3.7/dist-packages/matplotlib/backends/backend_agg.py:183: RuntimeWarning: Glyph 54168 missing from current font.\n",
            "  font.set_text(s, 0, flags=flags)\n",
            "/usr/local/lib/python3.7/dist-packages/matplotlib/backends/backend_agg.py:183: RuntimeWarning: Glyph 47932 missing from current font.\n",
            "  font.set_text(s, 0, flags=flags)\n",
            "/usr/local/lib/python3.7/dist-packages/matplotlib/backends/backend_agg.py:183: RuntimeWarning: Glyph 45349 missing from current font.\n",
            "  font.set_text(s, 0, flags=flags)\n",
            "/usr/local/lib/python3.7/dist-packages/matplotlib/backends/backend_agg.py:183: RuntimeWarning: Glyph 48660 missing from current font.\n",
            "  font.set_text(s, 0, flags=flags)\n",
            "/usr/local/lib/python3.7/dist-packages/matplotlib/backends/backend_agg.py:183: RuntimeWarning: Glyph 44172 missing from current font.\n",
            "  font.set_text(s, 0, flags=flags)\n",
            "/usr/local/lib/python3.7/dist-packages/matplotlib/backends/backend_agg.py:183: RuntimeWarning: Glyph 51076 missing from current font.\n",
            "  font.set_text(s, 0, flags=flags)\n",
            "/usr/local/lib/python3.7/dist-packages/matplotlib/backends/backend_agg.py:183: RuntimeWarning: Glyph 49849 missing from current font.\n",
            "  font.set_text(s, 0, flags=flags)\n",
            "/usr/local/lib/python3.7/dist-packages/matplotlib/backends/backend_agg.py:183: RuntimeWarning: Glyph 51649 missing from current font.\n",
            "  font.set_text(s, 0, flags=flags)\n",
            "/usr/local/lib/python3.7/dist-packages/matplotlib/backends/backend_agg.py:183: RuntimeWarning: Glyph 48165 missing from current font.\n",
            "  font.set_text(s, 0, flags=flags)\n",
            "/usr/local/lib/python3.7/dist-packages/matplotlib/backends/backend_agg.py:183: RuntimeWarning: Glyph 52899 missing from current font.\n",
            "  font.set_text(s, 0, flags=flags)\n",
            "/usr/local/lib/python3.7/dist-packages/matplotlib/backends/backend_agg.py:183: RuntimeWarning: Glyph 45367 missing from current font.\n",
            "  font.set_text(s, 0, flags=flags)\n",
            "/usr/local/lib/python3.7/dist-packages/matplotlib/backends/backend_agg.py:183: RuntimeWarning: Glyph 53216 missing from current font.\n",
            "  font.set_text(s, 0, flags=flags)\n",
            "/usr/local/lib/python3.7/dist-packages/matplotlib/backends/backend_agg.py:183: RuntimeWarning: Glyph 47704 missing from current font.\n",
            "  font.set_text(s, 0, flags=flags)\n",
            "/usr/local/lib/python3.7/dist-packages/matplotlib/backends/backend_agg.py:183: RuntimeWarning: Glyph 54504 missing from current font.\n",
            "  font.set_text(s, 0, flags=flags)\n",
            "/usr/local/lib/python3.7/dist-packages/matplotlib/backends/backend_agg.py:183: RuntimeWarning: Glyph 45572 missing from current font.\n",
            "  font.set_text(s, 0, flags=flags)\n",
            "/usr/local/lib/python3.7/dist-packages/matplotlib/backends/backend_agg.py:183: RuntimeWarning: Glyph 54044 missing from current font.\n",
            "  font.set_text(s, 0, flags=flags)\n",
            "/usr/local/lib/python3.7/dist-packages/matplotlib/backends/backend_agg.py:183: RuntimeWarning: Glyph 48652 missing from current font.\n",
            "  font.set_text(s, 0, flags=flags)\n"
          ]
        },
        {
          "output_type": "display_data",
          "data": {
            "text/plain": [
              "<Figure size 1152x1152 with 1 Axes>"
            ],
            "image/png": "[encoded data removed]"
          },
          "metadata": {
            "needs_background": "light"
          }
        }
      ]
    },
    {
      "cell_type": "markdown",
      "source": [
        "금융 지주회사들이 군집되고, 종근당이나 녹집자홀딩스, 녹십자 등과 같은 업체들, 그리고 일부 조선과 건설업 회사들이 군집되는 것을 확인했습니다."
      ],
      "metadata": {
        "id": "RdlDZrHTYWUA"
      }
    },
    {
      "cell_type": "code",
      "metadata": {
        "id": "tGpHbJgJM8Ia",
        "colab": {
          "base_uri": "https://localhost:8080/"
        },
        "outputId": "b56974af-fa03-4c80-f8ca-f4180bba1907"
      },
      "source": [
        "from sklearn.cluster import KMeans\n",
        "\n",
        "word_vectors = model.wv.syn0\n",
        "num_clusters = 5\n",
        "\n",
        "print(num_clusters)"
      ],
      "execution_count": 67,
      "outputs": [
        {
          "output_type": "stream",
          "name": "stdout",
          "text": [
            "5\n"
          ]
        },
        {
          "output_type": "stream",
          "name": "stderr",
          "text": [
            "/usr/local/lib/python3.7/dist-packages/ipykernel_launcher.py:3: DeprecationWarning: Call to deprecated `wv` (Attribute will be removed in 4.0.0, use self instead).\n",
            "  This is separate from the ipykernel package so we can avoid doing imports until\n",
            "/usr/local/lib/python3.7/dist-packages/ipykernel_launcher.py:3: DeprecationWarning: Call to deprecated `syn0` (Attribute will be removed in 4.0.0, use self.wv.vectors instead).\n",
            "  This is separate from the ipykernel package so we can avoid doing imports until\n"
          ]
        }
      ]
    },
    {
      "cell_type": "code",
      "metadata": {
        "id": "3UGoEJ9IM8Ij",
        "colab": {
          "base_uri": "https://localhost:8080/"
        },
        "outputId": "7f57434d-7596-434e-a007-0b5ae44e1bf8"
      },
      "source": [
        "len(word_vectors)"
      ],
      "execution_count": 68,
      "outputs": [
        {
          "output_type": "execute_result",
          "data": {
            "text/plain": [
              "191"
            ]
          },
          "metadata": {},
          "execution_count": 68
        }
      ]
    },
    {
      "cell_type": "code",
      "metadata": {
        "id": "Fb1zFT0yM8Iq"
      },
      "source": [
        "# Initalize a k-means object and use it to extract centroids\n",
        "kmeans_clustering = KMeans( n_clusters = num_clusters )\n",
        "idx = kmeans_clustering.fit_predict( word_vectors )"
      ],
      "execution_count": 69,
      "outputs": []
    },
    {
      "cell_type": "code",
      "metadata": {
        "id": "dr07eaAEM8Ix"
      },
      "source": [
        "skipgram_dict = {}"
      ],
      "execution_count": 70,
      "outputs": []
    },
    {
      "cell_type": "code",
      "metadata": {
        "id": "hbTyd0-sM8I4",
        "colab": {
          "base_uri": "https://localhost:8080/"
        },
        "outputId": "b5ff51d6-3a09-42e0-dc3e-9f9c73277d44"
      },
      "source": [
        "idx = list(idx)\n",
        "names = model.wv.index2word\n",
        "word_centroid_map = {names[i]: idx[i] for i in range(len(names))}\n",
        "#     word_centroid_map = dict(zip( model.wv.index2word, idx ))\n",
        "\n",
        "# 첫 번째 클러스터의 처음 20개를 출력\n",
        "for cluster in range(0, num_clusters):\n",
        "    # 클러스터 번호를 출력\n",
        "    print(\"\\nCluster {}\".format(cluster))\n",
        "\n",
        "    # 클러스터 번호와 클러스터에 있는 단어를 찍는다.\n",
        "    words = []\n",
        "    for i in range(0,len(list(word_centroid_map.values()))):\n",
        "        if( list(word_centroid_map.values())[i] == cluster ):\n",
        "            words.append(list(word_centroid_map.keys())[i])\n",
        "            skipgram_dict[list(word_centroid_map.keys())[i]]=cluster\n",
        "    print(words)"
      ],
      "execution_count": 71,
      "outputs": [
        {
          "output_type": "stream",
          "name": "stdout",
          "text": [
            "\n",
            "Cluster 0\n",
            "['하나투어', '아이에스동서', '오뚜기', '휠라홀딩스', '한샘', '대상', '에스엘', '호텔신라', '하이트진로', '아시아나항공', 'GKL', 'CJ', '한세실업', '한국콜마', '오리온홀딩스', '영원무역', 'GS리테일', '동원산업', 'SK네트웍스', '롯데관광개발', '한전KPS', '롯데칠성', '동원시스템즈', '현대그린푸드', '유한양행', '아모레G', '아모레퍼시픽', '한섬', '삼양홀딩스', '코스맥스', 'LG생활건강', '신세계인터내셔날', '동서', '신세계', '현대홈쇼핑', '현대백화점', '제일기획', '롯데쇼핑', '금호타이어', '농심', 'CJ대한통운', 'BGF리테일']\n",
            "\n",
            "Cluster 1\n",
            "['엔씨소프트', '삼성전기', '카카오', 'NAVER', 'LG이노텍', '한온시스템', '한진칼', '포스코케미칼', 'SKC', 'LG디스플레이', '현대위아', 'SK하이닉스', '만도', '현대모비스', 'LG전자', '삼성SDI', 'SK이노베이션', '삼성에스디에스', 'LG화학', '삼성바이오로직스', '넷마블', '오리온', 'SK아이이테크놀로지']\n",
            "\n",
            "Cluster 2\n",
            "['동국제강', '대한유화', '팬오션', '현대미포조선', '코오롱인더', '두산에너빌리티', '현대제철', '두산', '한화솔루션', '현대건설', 'HMM', '한국항공우주', '대한전선', '효성', '현대두산인프라코어', '한화', '금호석유', '대우건설', '풍산', 'LX인터내셔널', '한전기술', 'S-Oil', '한국금융지주', 'LS', '포스코인터내셔널', '이마트', 'NH투자증권', 'KCC', 'POSCO홀딩스', '키움증권', '롯데정밀화학', '쌍용C&E', '현대로템', '대우조선해양', '삼성중공업', 'OCI', '미래에셋증권', '롯데케미칼', '삼성엔지니어링', 'DL', '한국조선해양', '한화에어로스페이스', 'GS건설', '두산밥캣', 'HD현대', 'DL이앤씨']\n",
            "\n",
            "Cluster 3\n",
            "['KG스틸', '씨에스윈드', '후성', '대웅제약', '현대엘리베이', '한미사이언스', '한솔케미칼', '종근당', '보령', '셀트리온', '한올바이오파마', '녹십자', '녹십자홀딩스', '일진머티리얼즈', 'DB하이텍', 'PI첨단소재', '신풍제약', '한미약품', '대웅', 'LIG넥스원', '더블유게임즈', '화승엔터프라이즈', 'SK케미칼', '쿠쿠홈시스', 'HDC현대산업개발', '효성첨단소재', '효성티앤씨', '한일시멘트', '두산퓨얼셀', '지누스', '한화시스템', 'SK바이오팜', '하이브', '명신산업', 'SK바이오사이언스', 'F&F']\n",
            "\n",
            "Cluster 4\n",
            "['CJ제일제당', 'LG유플러스', '대한항공', '삼성생명', 'SK텔레콤', '에스원', 'KT&G', 'KT', '한국가스공사', 'LG', 'SK', '태광산업', '현대해상', '기업은행', '삼성화재', '메리츠증권', '삼성전자', '메리츠금융지주', 'LSELECTRIC', '기아', '현대차', '강원랜드', '신한지주', '코웨이', '롯데지주', '현대글로비스', 'BNK금융지주', '한국앤컴퍼니', 'DB손해보험', '메리츠화재', '한국전력', 'KB금융', 'GS', '삼성증권', '고려아연', '하나금융지주', '영풍', '한국타이어앤테크놀로지', '한화생명', 'TKG휴켐스', '세방전지', '삼성카드', '삼성물산', '우리금융지주']\n"
          ]
        },
        {
          "output_type": "stream",
          "name": "stderr",
          "text": [
            "/usr/local/lib/python3.7/dist-packages/ipykernel_launcher.py:2: DeprecationWarning: Call to deprecated `wv` (Attribute will be removed in 4.0.0, use self instead).\n",
            "  \n"
          ]
        }
      ]
    },
    {
      "cell_type": "code",
      "metadata": {
        "colab": {
          "base_uri": "https://localhost:8080/"
        },
        "id": "xJP_07JqRX2h",
        "outputId": "a14f61ed-4506-43a4-eeac-60a2fb99a903"
      },
      "source": [
        "num_clusters = 7\n",
        "\n",
        "# Initalize a k-means object and use it to extract centroids\n",
        "kmeans_clustering = KMeans( n_clusters = num_clusters )\n",
        "idx = kmeans_clustering.fit_predict( word_vectors )\n",
        "\n",
        "idx = list(idx)\n",
        "names = model.wv.index2word\n",
        "word_centroid_map = {names[i]: idx[i] for i in range(len(names))}\n",
        "#     word_centroid_map = dict(zip( model.wv.index2word, idx ))\n",
        "\n",
        "# 첫 번째 클러스터의 처음 20개를 출력\n",
        "for cluster in range(0, num_clusters):\n",
        "    # 클러스터 번호를 출력\n",
        "    print(\"\\nCluster {}\".format(cluster))\n",
        "\n",
        "    # 클러스터 번호와 클러스터에 있는 단어를 찍는다.\n",
        "    words = []\n",
        "    for i in range(0,len(list(word_centroid_map.values()))):\n",
        "        if( list(word_centroid_map.values())[i] == cluster ):\n",
        "            words.append(list(word_centroid_map.keys())[i])\n",
        "            skipgram_dict[list(word_centroid_map.keys())[i]]=cluster\n",
        "    print(words)"
      ],
      "execution_count": 72,
      "outputs": [
        {
          "output_type": "stream",
          "name": "stdout",
          "text": [
            "\n",
            "Cluster 0\n",
            "['하나투어', '호텔신라', '한세실업', '한국콜마', '아모레G', '아모레퍼시픽', '코스맥스', 'LG생활건강', '신세계인터내셔날', '신세계']\n",
            "\n",
            "Cluster 1\n",
            "['KG스틸', '아이에스동서', '한샘', '에스엘', '대한유화', '팬오션', '현대엘리베이', '아시아나항공', '코오롱인더', '한솔케미칼', '한진칼', 'HMM', '한국항공우주', '대한전선', '롯데관광개발', '효성', '만도', '동원시스템즈', '금호석유', '한전기술', '롯데정밀화학', '쌍용C&E', 'OCI', '한화에어로스페이스', 'LIG넥스원', '더블유게임즈', 'HDC현대산업개발', '효성티앤씨', '한일시멘트', 'DL이앤씨', 'SK바이오사이언스', 'F&F']\n",
            "\n",
            "Cluster 2\n",
            "['CJ제일제당', '대한항공', '삼성생명', 'SK텔레콤', 'KT&G', 'KT', '한국가스공사', 'LG', 'SK', '현대해상', '기업은행', '삼성화재', '메리츠증권', '삼성전자', '기아', '현대차', '강원랜드', '신한지주', '현대글로비스', '한국금융지주', 'BNK금융지주', 'DB손해보험', 'POSCO홀딩스', '메리츠화재', '한국전력', 'KB금융', 'GS', '삼성증권', '고려아연', '하나금융지주', '한화생명', '삼성카드', '우리금융지주']\n",
            "\n",
            "Cluster 3\n",
            "['씨에스윈드', '후성', '대웅제약', '한미사이언스', '종근당', '보령', '셀트리온', '한올바이오파마', '녹십자', '녹십자홀딩스', '일진머티리얼즈', 'DB하이텍', 'PI첨단소재', '신풍제약', '한미약품', '대웅', '화승엔터프라이즈', '오리온', 'SK케미칼', '쿠쿠홈시스', '효성첨단소재', '두산퓨얼셀', '지누스', '한화시스템', 'SK바이오팜', '하이브', '명신산업']\n",
            "\n",
            "Cluster 4\n",
            "['오뚜기', '휠라홀딩스', '대상', '하이트진로', '에스원', 'GKL', 'CJ', '오리온홀딩스', '영원무역', '태광산업', 'GS리테일', '동원산업', '메리츠금융지주', 'LSELECTRIC', 'SK네트웍스', '한전KPS', '롯데칠성', '현대그린푸드', '유한양행', '코웨이', '롯데지주', '한섬', '삼양홀딩스', '동서', '한국앤컴퍼니', '이마트', '현대홈쇼핑', 'KCC', '현대백화점', '제일기획', '영풍', '한국타이어앤테크놀로지', '롯데쇼핑', '금호타이어', '농심', 'CJ대한통운', 'TKG휴켐스', '세방전지', 'BGF리테일']\n",
            "\n",
            "Cluster 5\n",
            "['엔씨소프트', '삼성전기', '카카오', 'LG유플러스', 'NAVER', 'LG이노텍', '한온시스템', '포스코케미칼', 'SKC', 'LG디스플레이', '한화솔루션', '현대위아', 'SK하이닉스', '현대모비스', 'LG전자', '삼성SDI', 'SK이노베이션', '삼성에스디에스', 'LG화학', '삼성물산', '삼성바이오로직스', '넷마블', 'SK아이이테크놀로지']\n",
            "\n",
            "Cluster 6\n",
            "['동국제강', '현대미포조선', '두산에너빌리티', '현대제철', '두산', '현대건설', '현대두산인프라코어', '한화', '대우건설', '풍산', 'LX인터내셔널', 'S-Oil', 'LS', '포스코인터내셔널', 'NH투자증권', '키움증권', '현대로템', '대우조선해양', '삼성중공업', '미래에셋증권', '롯데케미칼', '삼성엔지니어링', 'DL', '한국조선해양', 'GS건설', '두산밥캣', 'HD현대']\n"
          ]
        },
        {
          "output_type": "stream",
          "name": "stderr",
          "text": [
            "/usr/local/lib/python3.7/dist-packages/ipykernel_launcher.py:8: DeprecationWarning: Call to deprecated `wv` (Attribute will be removed in 4.0.0, use self instead).\n",
            "  \n"
          ]
        }
      ]
    },
    {
      "cell_type": "code",
      "metadata": {
        "id": "E_am8m6IM8Jo"
      },
      "source": [
        "from gensim.models import Word2Vec # 이 데이터에 대해서 워드 임베딩을 해봅시다.\n",
        "from gensim.models import KeyedVectors"
      ],
      "execution_count": 73,
      "outputs": []
    },
    {
      "cell_type": "code",
      "metadata": {
        "id": "9h4F-0TlM8Jw"
      },
      "source": [
        "cb_model = Word2Vec(sentences=temp2, size=100, window=3, min_count=5, workers=4, sg=0)"
      ],
      "execution_count": 74,
      "outputs": []
    },
    {
      "cell_type": "code",
      "metadata": {
        "id": "CjBMs3etM8J3",
        "colab": {
          "base_uri": "https://localhost:8080/"
        },
        "outputId": "abd131e9-ca28-4987-ce16-5a9f3c562181"
      },
      "source": [
        "case1=cb_model.wv.most_similar(\"현대차\")\n",
        "print(case1)"
      ],
      "execution_count": 75,
      "outputs": [
        {
          "output_type": "stream",
          "name": "stdout",
          "text": [
            "[('GS', 0.9954241514205933), ('BNK금융지주', 0.9949771165847778), ('현대해상', 0.9943504333496094), ('삼성카드', 0.9941971302032471), ('한화생명', 0.9941631555557251), ('우리금융지주', 0.9939818382263184), ('SK텔레콤', 0.9936828017234802), ('삼성전자', 0.9934712648391724), ('DB손해보험', 0.9934020042419434), ('고려아연', 0.9933938980102539)]\n"
          ]
        }
      ]
    },
    {
      "cell_type": "code",
      "metadata": {
        "id": "E5H_HSZSM8J9",
        "colab": {
          "base_uri": "https://localhost:8080/"
        },
        "outputId": "e26861ff-9ccc-44f8-9902-790bf165ff18"
      },
      "source": [
        "case2=cb_model.wv.most_similar(\"삼성증권\")\n",
        "print(case2)"
      ],
      "execution_count": 76,
      "outputs": [
        {
          "output_type": "stream",
          "name": "stdout",
          "text": [
            "[('GS', 0.9962698221206665), ('우리금융지주', 0.9961384534835815), ('BNK금융지주', 0.9942545890808105), ('삼성카드', 0.9941821694374084), ('NH투자증권', 0.9939167499542236), ('POSCO홀딩스', 0.9938011169433594), ('현대차', 0.9933653473854065), ('현대해상', 0.9930404424667358), ('현대제철', 0.9910240769386292), ('SK텔레콤', 0.9904414415359497)]\n"
          ]
        }
      ]
    },
    {
      "cell_type": "code",
      "metadata": {
        "id": "tdIt5fmmM8KD",
        "colab": {
          "base_uri": "https://localhost:8080/"
        },
        "outputId": "0a691c8b-5353-492a-f577-63847076273e"
      },
      "source": [
        "case3=cb_model.wv.most_similar(\"롯데케미칼\")\n",
        "print(case3)"
      ],
      "execution_count": 77,
      "outputs": [
        {
          "output_type": "stream",
          "name": "stdout",
          "text": [
            "[('LS', 0.9934096932411194), ('대우건설', 0.9925656914710999), ('삼성중공업', 0.991037130355835), ('DL', 0.9899377822875977), ('HD현대', 0.9896251559257507), ('SK이노베이션', 0.9883832335472107), ('KCC', 0.9877938032150269), ('한화', 0.9877265691757202), ('삼성에스디에스', 0.9875689744949341), ('현대미포조선', 0.9873998165130615)]\n"
          ]
        }
      ]
    },
    {
      "cell_type": "code",
      "metadata": {
        "id": "MNhtRObPM8KR",
        "colab": {
          "base_uri": "https://localhost:8080/"
        },
        "outputId": "73c43660-c9ed-43a4-9f15-eda4ebe29521"
      },
      "source": [
        "case4=cb_model.wv.most_similar(\"GS건설\")\n",
        "print(case4)"
      ],
      "execution_count": 78,
      "outputs": [
        {
          "output_type": "stream",
          "name": "stdout",
          "text": [
            "[('DL', 0.9951415657997131), ('현대건설', 0.9941787719726562), ('포스코인터내셔널', 0.993654727935791), ('삼성중공업', 0.9934556484222412), ('두산에너빌리티', 0.9934044480323792), ('대우건설', 0.9932907819747925), ('현대미포조선', 0.9931684732437134), ('두산밥캣', 0.9924591183662415), ('동국제강', 0.991969108581543), ('풍산', 0.9918709397315979)]\n"
          ]
        }
      ]
    },
    {
      "cell_type": "code",
      "metadata": {
        "id": "pHc7_rztM8KY"
      },
      "source": [
        "cb_model.wv.save_word2vec_format('stock2vec_cbow') # 모델 저장"
      ],
      "execution_count": 79,
      "outputs": []
    },
    {
      "cell_type": "code",
      "metadata": {
        "id": "dL-P3Ga7M8Kk"
      },
      "source": [
        "model = KeyedVectors.load_word2vec_format(\"stock2vec_cbow\") # 모델 로드"
      ],
      "execution_count": 80,
      "outputs": []
    },
    {
      "cell_type": "code",
      "metadata": {
        "id": "sXIBf2-yM8Kp",
        "colab": {
          "base_uri": "https://localhost:8080/"
        },
        "outputId": "708a9441-bd53-4b0d-d57b-787270a74a9c"
      },
      "source": [
        "case1=model.wv.most_similar(\"현대차\")\n",
        "print(case1)"
      ],
      "execution_count": 81,
      "outputs": [
        {
          "output_type": "stream",
          "name": "stdout",
          "text": [
            "[('GS', 0.9954241514205933), ('BNK금융지주', 0.9949771165847778), ('현대해상', 0.9943504333496094), ('삼성카드', 0.9941971302032471), ('한화생명', 0.9941631555557251), ('우리금융지주', 0.9939818382263184), ('SK텔레콤', 0.9936828017234802), ('삼성전자', 0.9934712648391724), ('DB손해보험', 0.9934020042419434), ('고려아연', 0.9933938980102539)]\n"
          ]
        },
        {
          "output_type": "stream",
          "name": "stderr",
          "text": [
            "/usr/local/lib/python3.7/dist-packages/ipykernel_launcher.py:1: DeprecationWarning: Call to deprecated `wv` (Attribute will be removed in 4.0.0, use self instead).\n",
            "  \"\"\"Entry point for launching an IPython kernel.\n"
          ]
        }
      ]
    },
    {
      "cell_type": "code",
      "metadata": {
        "id": "Yqa8jG2rM8Kz",
        "colab": {
          "base_uri": "https://localhost:8080/",
          "height": 1000
        },
        "outputId": "b111ba1e-2098-4d1a-b16a-88488d5f8dfc"
      },
      "source": [
        "tsne_plot(model)"
      ],
      "execution_count": null,
      "outputs": [
        {
          "output_type": "stream",
          "name": "stderr",
          "text": [
            "/usr/local/lib/python3.7/dist-packages/ipykernel_launcher.py:14: DeprecationWarning: Call to deprecated `wv` (Attribute will be removed in 4.0.0, use self instead).\n",
            "  \n",
            "/usr/local/lib/python3.7/dist-packages/sklearn/manifold/_t_sne.py:793: FutureWarning: The default learning rate in TSNE will change from 200.0 to 'auto' in 1.2.\n",
            "  FutureWarning,\n",
            "/usr/local/lib/python3.7/dist-packages/sklearn/manifold/_t_sne.py:986: FutureWarning: The PCA initialization in TSNE will change to have the standard deviation of PC1 equal to 1e-4 in 1.2. This will ensure better convergence.\n",
            "  FutureWarning,\n",
            "/usr/local/lib/python3.7/dist-packages/matplotlib/backends/backend_agg.py:214: RuntimeWarning: Glyph 8722 missing from current font.\n",
            "  font.set_text(s, 0.0, flags=flags)\n",
            "/usr/local/lib/python3.7/dist-packages/matplotlib/backends/backend_agg.py:183: RuntimeWarning: Glyph 8722 missing from current font.\n",
            "  font.set_text(s, 0, flags=flags)\n"
          ]
        },
        {
          "output_type": "display_data",
          "data": {
            "text/plain": [
              "<Figure size 1152x1152 with 1 Axes>"
            ],
            "image/png": "[encoded data removed]"
          },
          "metadata": {
            "image/png": {
              "width": 930,
              "height": 904
            },
            "needs_background": "light"
          }
        }
      ]
    },
    {
      "cell_type": "code",
      "metadata": {
        "id": "Sh1ON_VzM8K7",
        "colab": {
          "base_uri": "https://localhost:8080/"
        },
        "outputId": "33f01f96-bc9f-4f07-92ee-3bb6e64056ff"
      },
      "source": [
        "from sklearn.cluster import KMeans\n",
        "\n",
        "word_vectors = model.wv.syn0\n",
        "num_clusters = 5\n",
        "\n",
        "print(num_clusters)"
      ],
      "execution_count": 82,
      "outputs": [
        {
          "output_type": "stream",
          "name": "stdout",
          "text": [
            "5\n"
          ]
        },
        {
          "output_type": "stream",
          "name": "stderr",
          "text": [
            "/usr/local/lib/python3.7/dist-packages/ipykernel_launcher.py:3: DeprecationWarning: Call to deprecated `wv` (Attribute will be removed in 4.0.0, use self instead).\n",
            "  This is separate from the ipykernel package so we can avoid doing imports until\n",
            "/usr/local/lib/python3.7/dist-packages/ipykernel_launcher.py:3: DeprecationWarning: Call to deprecated `syn0` (Attribute will be removed in 4.0.0, use self.wv.vectors instead).\n",
            "  This is separate from the ipykernel package so we can avoid doing imports until\n"
          ]
        }
      ]
    },
    {
      "cell_type": "code",
      "metadata": {
        "id": "mrr5SIHfM8LB"
      },
      "source": [
        "# Initalize a k-means object and use it to extract centroids\n",
        "kmeans_clustering = KMeans( n_clusters = num_clusters )\n",
        "idx = kmeans_clustering.fit_predict( word_vectors )"
      ],
      "execution_count": 83,
      "outputs": []
    },
    {
      "cell_type": "code",
      "metadata": {
        "id": "rtsyIPWTM8LH"
      },
      "source": [
        "cbow_dict = {}"
      ],
      "execution_count": 84,
      "outputs": []
    },
    {
      "cell_type": "code",
      "metadata": {
        "id": "5wf_63h5M8LT",
        "colab": {
          "base_uri": "https://localhost:8080/"
        },
        "outputId": "6bcb0eed-b857-468f-a45c-32511706e37d"
      },
      "source": [
        "idx = list(idx)\n",
        "names = model.wv.index2word\n",
        "word_centroid_map = {names[i]: idx[i] for i in range(len(names))}\n",
        "#     word_centroid_map = dict(zip( model.wv.index2word, idx ))\n",
        "\n",
        "# 첫 번째 클러스터의 처음 20개를 출력\n",
        "for cluster in range(0, num_clusters):\n",
        "    # 클러스터 번호를 출력\n",
        "    print(\"\\nCluster {}\".format(cluster))\n",
        "\n",
        "    # 클러스터 번호와 클러스터에 있는 단어를 찍는다.\n",
        "    words = []\n",
        "    for i in range(0,len(list(word_centroid_map.values()))):\n",
        "        if( list(word_centroid_map.values())[i] == cluster ):\n",
        "            words.append(list(word_centroid_map.keys())[i])\n",
        "            cbow_dict[list(word_centroid_map.keys())[i]]=cluster\n",
        "    print(words)\n",
        "    "
      ],
      "execution_count": 85,
      "outputs": [
        {
          "output_type": "stream",
          "name": "stdout",
          "text": [
            "\n",
            "Cluster 0\n",
            "['하나투어', '카카오', '씨에스윈드', '휠라홀딩스', '한샘', '에스엘', '대한유화', 'LG이노텍', '호텔신라', '현대엘리베이', '아시아나항공', '한솔케미칼', '한세실업', '포스코케미칼', '영원무역', 'HMM', '대한전선', '현대두산인프라코어', '동원시스템즈', '유한양행', '한전기술', '아모레G', '아모레퍼시픽', '삼양홀딩스', '신세계', 'DB하이텍', '현대로템', 'OCI', 'LIG넥스원', '더블유게임즈', '삼성바이오로직스', '넷마블', '오리온', 'HDC현대산업개발', '효성티앤씨', '한일시멘트', '지누스', '한화시스템', '하이브', '명신산업']\n",
            "\n",
            "Cluster 1\n",
            "['삼성생명', 'SK텔레콤', '현대제철', 'KT', '현대해상', '기업은행', '삼성화재', '삼성전자', '현대차', '신한지주', 'BNK금융지주', 'NH투자증권', 'DB손해보험', 'POSCO홀딩스', 'KB금융', 'GS', '삼성증권', '고려아연', '하나금융지주', '한화생명', '삼성카드', '우리금융지주']\n",
            "\n",
            "Cluster 2\n",
            "['KG스틸', '후성', '대웅제약', '한미사이언스', '한국콜마', '종근당', '롯데관광개발', '보령', '셀트리온', '한올바이오파마', '녹십자', '녹십자홀딩스', '코스맥스', '신세계인터내셔날', '일진머티리얼즈', 'PI첨단소재', '신풍제약', '한미약품', '대웅', '화승엔터프라이즈', 'SK케미칼', '쿠쿠홈시스', '효성첨단소재', '두산퓨얼셀']\n",
            "\n",
            "Cluster 3\n",
            "['엔씨소프트', '아이에스동서', '삼성전기', '동국제강', '오뚜기', '대상', 'NAVER', '대한항공', '한온시스템', '팬오션', '코오롱인더', 'GKL', 'CJ', '한진칼', '두산에너빌리티', '오리온홀딩스', 'SKC', '두산', 'LG디스플레이', '한화솔루션', 'GS리테일', '현대건설', '동원산업', '한국항공우주', '현대위아', 'LSELECTRIC', '한전KPS', '효성', 'SK하이닉스', '만도', '금호석유', '현대그린푸드', '풍산', 'LG전자', 'LX인터내셔널', '코웨이', '한섬', 'LG생활건강', '포스코인터내셔널', '현대홈쇼핑', '현대백화점', '키움증권', '삼성SDI', '롯데정밀화학', '쌍용C&E', '롯데쇼핑', '금호타이어', '농심', 'CJ대한통운', '대우조선해양', 'LG화학', '삼성엔지니어링', '한화에어로스페이스', 'GS건설', '두산밥캣', 'BGF리테일', 'SK바이오팜', 'DL이앤씨', 'SK바이오사이언스', 'SK아이이테크놀로지', 'F&F']\n",
            "\n",
            "Cluster 4\n",
            "['CJ제일제당', 'LG유플러스', '하이트진로', '현대미포조선', '에스원', 'KT&G', '한국가스공사', 'LG', 'SK', '태광산업', '메리츠증권', '메리츠금융지주', 'SK네트웍스', '롯데칠성', '한화', '대우건설', '기아', '현대모비스', '강원랜드', 'S-Oil', '롯데지주', '현대글로비스', '한국금융지주', 'LS', '동서', '한국앤컴퍼니', '이마트', 'KCC', '메리츠화재', '한국전력', '제일기획', '영풍', '한국타이어앤테크놀로지', 'SK이노베이션', '삼성에스디에스', 'TKG휴켐스', '삼성중공업', '미래에셋증권', '롯데케미칼', '세방전지', 'DL', '한국조선해양', '삼성물산', 'HD현대']\n"
          ]
        },
        {
          "output_type": "stream",
          "name": "stderr",
          "text": [
            "/usr/local/lib/python3.7/dist-packages/ipykernel_launcher.py:2: DeprecationWarning: Call to deprecated `wv` (Attribute will be removed in 4.0.0, use self instead).\n",
            "  \n"
          ]
        }
      ]
    }
  ]
}