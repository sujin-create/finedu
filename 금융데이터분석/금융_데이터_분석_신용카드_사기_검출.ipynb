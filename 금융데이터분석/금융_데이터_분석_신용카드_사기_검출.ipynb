{
  "nbformat": 4,
  "nbformat_minor": 0,
  "metadata": {
    "colab": {
      "name": "금융 데이터 분석 (오프라인) - 신용카드 사기 검출",
      "provenance": [],
      "collapsed_sections": [],
      "include_colab_link": true
    },
    "kernelspec": {
      "name": "python3",
      "display_name": "Python 3"
    },
    "language_info": {
      "name": "python"
    },
    "accelerator": "GPU",
    "gpuClass": "standard"
  },
  "cells": [
    {
      "cell_type": "markdown",
      "metadata": {
        "id": "view-in-github",
        "colab_type": "text"
      },
      "source": [
        "<a href=\"https://colab.research.google.com/github/sujin-create/finedu/blob/main/%EA%B8%88%EC%9C%B5%EB%8D%B0%EC%9D%B4%ED%84%B0%EB%B6%84%EC%84%9D/%EA%B8%88%EC%9C%B5_%EB%8D%B0%EC%9D%B4%ED%84%B0_%EB%B6%84%EC%84%9D_%EC%8B%A0%EC%9A%A9%EC%B9%B4%EB%93%9C_%EC%82%AC%EA%B8%B0_%EA%B2%80%EC%B6%9C.ipynb\" target=\"_parent\"><img src=\"https://colab.research.google.com/assets/colab-badge.svg\" alt=\"Open In Colab\"/></a>"
      ]
    },
    {
      "cell_type": "markdown",
      "metadata": {
        "id": "YjqwShrxqr1Q"
      },
      "source": [
        "신용 카드 사기 탐지 데이터를 데이터프레임으로 로드합니다."
      ]
    },
    {
      "cell_type": "code",
      "metadata": {
        "colab": {
          "base_uri": "https://localhost:8080/",
          "height": 237
        },
        "id": "Si6r8dEiWkdu",
        "outputId": "7817317c-7fe0-48ac-eb57-d5e001a96873"
      },
      "source": [
        "import pandas as pd\n",
        "import numpy as np \n",
        "import matplotlib.pyplot as plt\n",
        "import warnings\n",
        "warnings.filterwarnings(\"ignore\")\n",
        "%matplotlib inline\n",
        "\n",
        "card_df = pd.read_csv('https://raw.githubusercontent.com/nsethi31/Kaggle-Data-Credit-Card-Fraud-Detection/master/creditcard.csv')\n",
        "card_df.head(3)"
      ],
      "execution_count": null,
      "outputs": [
        {
          "output_type": "execute_result",
          "data": {
            "text/plain": [
              "   Time        V1        V2        V3        V4        V5        V6        V7  \\\n",
              "0   0.0 -1.359807 -0.072781  2.536347  1.378155 -0.338321  0.462388  0.239599   \n",
              "1   0.0  1.191857  0.266151  0.166480  0.448154  0.060018 -0.082361 -0.078803   \n",
              "2   1.0 -1.358354 -1.340163  1.773209  0.379780 -0.503198  1.800499  0.791461   \n",
              "\n",
              "         V8        V9  ...       V21       V22       V23       V24       V25  \\\n",
              "0  0.098698  0.363787  ... -0.018307  0.277838 -0.110474  0.066928  0.128539   \n",
              "1  0.085102 -0.255425  ... -0.225775 -0.638672  0.101288 -0.339846  0.167170   \n",
              "2  0.247676 -1.514654  ...  0.247998  0.771679  0.909412 -0.689281 -0.327642   \n",
              "\n",
              "        V26       V27       V28  Amount  Class  \n",
              "0 -0.189115  0.133558 -0.021053  149.62      0  \n",
              "1  0.125895 -0.008983  0.014724    2.69      0  \n",
              "2 -0.139097 -0.055353 -0.059752  378.66      0  \n",
              "\n",
              "[3 rows x 31 columns]"
            ],
            "text/html": [
              "\n",
              "  <div id=\"df-578e5fbc-a0db-4716-8c2b-2c0dd496f7dd\">\n",
              "    <div class=\"colab-df-container\">\n",
              "      <div>\n",
              "<style scoped>\n",
              "    .dataframe tbody tr th:only-of-type {\n",
              "        vertical-align: middle;\n",
              "    }\n",
              "\n",
              "    .dataframe tbody tr th {\n",
              "        vertical-align: top;\n",
              "    }\n",
              "\n",
              "    .dataframe thead th {\n",
              "        text-align: right;\n",
              "    }\n",
              "</style>\n",
              "<table border=\"1\" class=\"dataframe\">\n",
              "  <thead>\n",
              "    <tr style=\"text-align: right;\">\n",
              "      <th></th>\n",
              "      <th>Time</th>\n",
              "      <th>V1</th>\n",
              "      <th>V2</th>\n",
              "      <th>V3</th>\n",
              "      <th>V4</th>\n",
              "      <th>V5</th>\n",
              "      <th>V6</th>\n",
              "      <th>V7</th>\n",
              "      <th>V8</th>\n",
              "      <th>V9</th>\n",
              "      <th>...</th>\n",
              "      <th>V21</th>\n",
              "      <th>V22</th>\n",
              "      <th>V23</th>\n",
              "      <th>V24</th>\n",
              "      <th>V25</th>\n",
              "      <th>V26</th>\n",
              "      <th>V27</th>\n",
              "      <th>V28</th>\n",
              "      <th>Amount</th>\n",
              "      <th>Class</th>\n",
              "    </tr>\n",
              "  </thead>\n",
              "  <tbody>\n",
              "    <tr>\n",
              "      <th>0</th>\n",
              "      <td>0.0</td>\n",
              "      <td>-1.359807</td>\n",
              "      <td>-0.072781</td>\n",
              "      <td>2.536347</td>\n",
              "      <td>1.378155</td>\n",
              "      <td>-0.338321</td>\n",
              "      <td>0.462388</td>\n",
              "      <td>0.239599</td>\n",
              "      <td>0.098698</td>\n",
              "      <td>0.363787</td>\n",
              "      <td>...</td>\n",
              "      <td>-0.018307</td>\n",
              "      <td>0.277838</td>\n",
              "      <td>-0.110474</td>\n",
              "      <td>0.066928</td>\n",
              "      <td>0.128539</td>\n",
              "      <td>-0.189115</td>\n",
              "      <td>0.133558</td>\n",
              "      <td>-0.021053</td>\n",
              "      <td>149.62</td>\n",
              "      <td>0</td>\n",
              "    </tr>\n",
              "    <tr>\n",
              "      <th>1</th>\n",
              "      <td>0.0</td>\n",
              "      <td>1.191857</td>\n",
              "      <td>0.266151</td>\n",
              "      <td>0.166480</td>\n",
              "      <td>0.448154</td>\n",
              "      <td>0.060018</td>\n",
              "      <td>-0.082361</td>\n",
              "      <td>-0.078803</td>\n",
              "      <td>0.085102</td>\n",
              "      <td>-0.255425</td>\n",
              "      <td>...</td>\n",
              "      <td>-0.225775</td>\n",
              "      <td>-0.638672</td>\n",
              "      <td>0.101288</td>\n",
              "      <td>-0.339846</td>\n",
              "      <td>0.167170</td>\n",
              "      <td>0.125895</td>\n",
              "      <td>-0.008983</td>\n",
              "      <td>0.014724</td>\n",
              "      <td>2.69</td>\n",
              "      <td>0</td>\n",
              "    </tr>\n",
              "    <tr>\n",
              "      <th>2</th>\n",
              "      <td>1.0</td>\n",
              "      <td>-1.358354</td>\n",
              "      <td>-1.340163</td>\n",
              "      <td>1.773209</td>\n",
              "      <td>0.379780</td>\n",
              "      <td>-0.503198</td>\n",
              "      <td>1.800499</td>\n",
              "      <td>0.791461</td>\n",
              "      <td>0.247676</td>\n",
              "      <td>-1.514654</td>\n",
              "      <td>...</td>\n",
              "      <td>0.247998</td>\n",
              "      <td>0.771679</td>\n",
              "      <td>0.909412</td>\n",
              "      <td>-0.689281</td>\n",
              "      <td>-0.327642</td>\n",
              "      <td>-0.139097</td>\n",
              "      <td>-0.055353</td>\n",
              "      <td>-0.059752</td>\n",
              "      <td>378.66</td>\n",
              "      <td>0</td>\n",
              "    </tr>\n",
              "  </tbody>\n",
              "</table>\n",
              "<p>3 rows × 31 columns</p>\n",
              "</div>\n",
              "      <button class=\"colab-df-convert\" onclick=\"convertToInteractive('df-578e5fbc-a0db-4716-8c2b-2c0dd496f7dd')\"\n",
              "              title=\"Convert this dataframe to an interactive table.\"\n",
              "              style=\"display:none;\">\n",
              "        \n",
              "  <svg xmlns=\"http://www.w3.org/2000/svg\" height=\"24px\"viewBox=\"0 0 24 24\"\n",
              "       width=\"24px\">\n",
              "    <path d=\"M0 0h24v24H0V0z\" fill=\"none\"/>\n",
              "    <path d=\"M18.56 5.44l.94 2.06.94-2.06 2.06-.94-2.06-.94-.94-2.06-.94 2.06-2.06.94zm-11 1L8.5 8.5l.94-2.06 2.06-.94-2.06-.94L8.5 2.5l-.94 2.06-2.06.94zm10 10l.94 2.06.94-2.06 2.06-.94-2.06-.94-.94-2.06-.94 2.06-2.06.94z\"/><path d=\"M17.41 7.96l-1.37-1.37c-.4-.4-.92-.59-1.43-.59-.52 0-1.04.2-1.43.59L10.3 9.45l-7.72 7.72c-.78.78-.78 2.05 0 2.83L4 21.41c.39.39.9.59 1.41.59.51 0 1.02-.2 1.41-.59l7.78-7.78 2.81-2.81c.8-.78.8-2.07 0-2.86zM5.41 20L4 18.59l7.72-7.72 1.47 1.35L5.41 20z\"/>\n",
              "  </svg>\n",
              "      </button>\n",
              "      \n",
              "  <style>\n",
              "    .colab-df-container {\n",
              "      display:flex;\n",
              "      flex-wrap:wrap;\n",
              "      gap: 12px;\n",
              "    }\n",
              "\n",
              "    .colab-df-convert {\n",
              "      background-color: #E8F0FE;\n",
              "      border: none;\n",
              "      border-radius: 50%;\n",
              "      cursor: pointer;\n",
              "      display: none;\n",
              "      fill: #1967D2;\n",
              "      height: 32px;\n",
              "      padding: 0 0 0 0;\n",
              "      width: 32px;\n",
              "    }\n",
              "\n",
              "    .colab-df-convert:hover {\n",
              "      background-color: #E2EBFA;\n",
              "      box-shadow: 0px 1px 2px rgba(60, 64, 67, 0.3), 0px 1px 3px 1px rgba(60, 64, 67, 0.15);\n",
              "      fill: #174EA6;\n",
              "    }\n",
              "\n",
              "    [theme=dark] .colab-df-convert {\n",
              "      background-color: #3B4455;\n",
              "      fill: #D2E3FC;\n",
              "    }\n",
              "\n",
              "    [theme=dark] .colab-df-convert:hover {\n",
              "      background-color: #434B5C;\n",
              "      box-shadow: 0px 1px 3px 1px rgba(0, 0, 0, 0.15);\n",
              "      filter: drop-shadow(0px 1px 2px rgba(0, 0, 0, 0.3));\n",
              "      fill: #FFFFFF;\n",
              "    }\n",
              "  </style>\n",
              "\n",
              "      <script>\n",
              "        const buttonEl =\n",
              "          document.querySelector('#df-578e5fbc-a0db-4716-8c2b-2c0dd496f7dd button.colab-df-convert');\n",
              "        buttonEl.style.display =\n",
              "          google.colab.kernel.accessAllowed ? 'block' : 'none';\n",
              "\n",
              "        async function convertToInteractive(key) {\n",
              "          const element = document.querySelector('#df-578e5fbc-a0db-4716-8c2b-2c0dd496f7dd');\n",
              "          const dataTable =\n",
              "            await google.colab.kernel.invokeFunction('convertToInteractive',\n",
              "                                                     [key], {});\n",
              "          if (!dataTable) return;\n",
              "\n",
              "          const docLinkHtml = 'Like what you see? Visit the ' +\n",
              "            '<a target=\"_blank\" href=https://colab.research.google.com/notebooks/data_table.ipynb>data table notebook</a>'\n",
              "            + ' to learn more about interactive tables.';\n",
              "          element.innerHTML = '';\n",
              "          dataTable['output_type'] = 'display_data';\n",
              "          await google.colab.output.renderOutput(dataTable, element);\n",
              "          const docLink = document.createElement('div');\n",
              "          docLink.innerHTML = docLinkHtml;\n",
              "          element.appendChild(docLink);\n",
              "        }\n",
              "      </script>\n",
              "    </div>\n",
              "  </div>\n",
              "  "
            ]
          },
          "metadata": {},
          "execution_count": 1
        }
      ]
    },
    {
      "cell_type": "code",
      "metadata": {
        "colab": {
          "base_uri": "https://localhost:8080/"
        },
        "id": "_dWqabIVW_VU",
        "outputId": "91028448-ec73-4c4c-a5e1-c3e6d8e48a55"
      },
      "source": [
        "card_df.shape"
      ],
      "execution_count": null,
      "outputs": [
        {
          "output_type": "execute_result",
          "data": {
            "text/plain": [
              "(284807, 31)"
            ]
          },
          "metadata": {},
          "execution_count": 2
        }
      ]
    },
    {
      "cell_type": "markdown",
      "metadata": {
        "id": "6e30KxnIXUEF"
      },
      "source": [
        "이 데이터는 총 28만여개의 행과 31개의 열을 가지고 있습니다."
      ]
    },
    {
      "cell_type": "code",
      "metadata": {
        "colab": {
          "base_uri": "https://localhost:8080/"
        },
        "id": "2IWf9Vf-XHVK",
        "outputId": "39ccc543-c99e-45a1-e713-c1218185e5e2"
      },
      "source": [
        "card_df.info()"
      ],
      "execution_count": null,
      "outputs": [
        {
          "output_type": "stream",
          "name": "stdout",
          "text": [
            "<class 'pandas.core.frame.DataFrame'>\n",
            "RangeIndex: 284807 entries, 0 to 284806\n",
            "Data columns (total 31 columns):\n",
            " #   Column  Non-Null Count   Dtype  \n",
            "---  ------  --------------   -----  \n",
            " 0   Time    284807 non-null  float64\n",
            " 1   V1      284807 non-null  float64\n",
            " 2   V2      284807 non-null  float64\n",
            " 3   V3      284807 non-null  float64\n",
            " 4   V4      284807 non-null  float64\n",
            " 5   V5      284807 non-null  float64\n",
            " 6   V6      284807 non-null  float64\n",
            " 7   V7      284807 non-null  float64\n",
            " 8   V8      284807 non-null  float64\n",
            " 9   V9      284807 non-null  float64\n",
            " 10  V10     284807 non-null  float64\n",
            " 11  V11     284807 non-null  float64\n",
            " 12  V12     284807 non-null  float64\n",
            " 13  V13     284807 non-null  float64\n",
            " 14  V14     284807 non-null  float64\n",
            " 15  V15     284807 non-null  float64\n",
            " 16  V16     284807 non-null  float64\n",
            " 17  V17     284807 non-null  float64\n",
            " 18  V18     284807 non-null  float64\n",
            " 19  V19     284807 non-null  float64\n",
            " 20  V20     284807 non-null  float64\n",
            " 21  V21     284807 non-null  float64\n",
            " 22  V22     284807 non-null  float64\n",
            " 23  V23     284807 non-null  float64\n",
            " 24  V24     284807 non-null  float64\n",
            " 25  V25     284807 non-null  float64\n",
            " 26  V26     284807 non-null  float64\n",
            " 27  V27     284807 non-null  float64\n",
            " 28  V28     284807 non-null  float64\n",
            " 29  Amount  284807 non-null  float64\n",
            " 30  Class   284807 non-null  int64  \n",
            "dtypes: float64(30), int64(1)\n",
            "memory usage: 67.4 MB\n"
          ]
        }
      ]
    },
    {
      "cell_type": "markdown",
      "metadata": {
        "id": "qp8dBuzDXaUU"
      },
      "source": [
        "데이터는 사기여부를 나타내는 Class 열을 제외하고는 전부 실수형 타입입니다."
      ]
    },
    {
      "cell_type": "code",
      "metadata": {
        "colab": {
          "base_uri": "https://localhost:8080/"
        },
        "id": "SHUb5jFDXfSc",
        "outputId": "7172ba44-be12-470e-f35d-568486d32fcd"
      },
      "source": [
        "card_df.isnull().sum()"
      ],
      "execution_count": null,
      "outputs": [
        {
          "output_type": "execute_result",
          "data": {
            "text/plain": [
              "Time      0\n",
              "V1        0\n",
              "V2        0\n",
              "V3        0\n",
              "V4        0\n",
              "V5        0\n",
              "V6        0\n",
              "V7        0\n",
              "V8        0\n",
              "V9        0\n",
              "V10       0\n",
              "V11       0\n",
              "V12       0\n",
              "V13       0\n",
              "V14       0\n",
              "V15       0\n",
              "V16       0\n",
              "V17       0\n",
              "V18       0\n",
              "V19       0\n",
              "V20       0\n",
              "V21       0\n",
              "V22       0\n",
              "V23       0\n",
              "V24       0\n",
              "V25       0\n",
              "V26       0\n",
              "V27       0\n",
              "V28       0\n",
              "Amount    0\n",
              "Class     0\n",
              "dtype: int64"
            ]
          },
          "metadata": {},
          "execution_count": 4
        }
      ]
    },
    {
      "cell_type": "markdown",
      "metadata": {
        "id": "2YcLt3w5XghP"
      },
      "source": [
        "결측값은 존재하지 않습니다."
      ]
    },
    {
      "cell_type": "code",
      "metadata": {
        "colab": {
          "base_uri": "https://localhost:8080/"
        },
        "id": "cqwvHnJCXpds",
        "outputId": "c878a773-4493-4de0-ea7b-04951cfd9c17"
      },
      "source": [
        "card_df[\"Class\"].value_counts()"
      ],
      "execution_count": null,
      "outputs": [
        {
          "output_type": "execute_result",
          "data": {
            "text/plain": [
              "0    284315\n",
              "1       492\n",
              "Name: Class, dtype: int64"
            ]
          },
          "metadata": {},
          "execution_count": 5
        }
      ]
    },
    {
      "cell_type": "markdown",
      "metadata": {
        "id": "oNyM1vrtYCT0"
      },
      "source": [
        "이를 비율로 계산해봅시다."
      ]
    },
    {
      "cell_type": "code",
      "metadata": {
        "colab": {
          "base_uri": "https://localhost:8080/"
        },
        "id": "PRHQGSpPXrmt",
        "outputId": "abc3c3b8-535e-4567-a609-46a9a054aeb9"
      },
      "source": [
        "print(f'정상 거래 비율 = {round(card_df[\"Class\"].value_counts()[0]/len(card_df) * 100,3)}%')\n",
        "print(f'사기 탐지 = {round(card_df[\"Class\"].value_counts()[1]/len(card_df) * 100,3)}%')"
      ],
      "execution_count": null,
      "outputs": [
        {
          "output_type": "stream",
          "name": "stdout",
          "text": [
            "정상 거래 비율 = 99.827%\n",
            "사기 탐지 = 0.173%\n"
          ]
        }
      ]
    },
    {
      "cell_type": "markdown",
      "metadata": {
        "id": "c_C4Uq2gX0hM"
      },
      "source": [
        "정상 거래 비율이 99.827%로 데이터의 레이블이 굉장히 불균형합니다. 사실 신용카드의 거래 대부분이 정상이고, 사기 건수는 일반적이지 않은 경우이기 때문입니다. 전체 데이터 28만여개 중 신용카드 사기 건수의 데이터가 500건도 안 되기 때문에 이런 경우는 사기 거래를 탐지하는 시스템을 만들기 쉽지 않습니다. 클래스가 1인 경우(사기)와 0인 경우(정상 거래)의 통계치를 다음과 같이 확인할 수 있습니다."
      ]
    },
    {
      "cell_type": "code",
      "metadata": {
        "colab": {
          "base_uri": "https://localhost:8080/",
          "height": 394
        },
        "id": "_1SHqbQPXJGS",
        "outputId": "20f23e95-c415-42c1-c956-3d9c7f07a114"
      },
      "source": [
        "card_df[card_df['Class']==1].describe()"
      ],
      "execution_count": null,
      "outputs": [
        {
          "output_type": "execute_result",
          "data": {
            "text/plain": [
              "                Time          V1          V2          V3          V4  \\\n",
              "count     492.000000  492.000000  492.000000  492.000000  492.000000   \n",
              "mean    80746.806911   -4.771948    3.623778   -7.033281    4.542029   \n",
              "std     47835.365138    6.783687    4.291216    7.110937    2.873318   \n",
              "min       406.000000  -30.552380   -8.402154  -31.103685   -1.313275   \n",
              "25%     41241.500000   -6.036063    1.188226   -8.643489    2.373050   \n",
              "50%     75568.500000   -2.342497    2.717869   -5.075257    4.177147   \n",
              "75%    128483.000000   -0.419200    4.971257   -2.276185    6.348729   \n",
              "max    170348.000000    2.132386   22.057729    2.250210   12.114672   \n",
              "\n",
              "               V5          V6          V7          V8          V9  ...  \\\n",
              "count  492.000000  492.000000  492.000000  492.000000  492.000000  ...   \n",
              "mean    -3.151225   -1.397737   -5.568731    0.570636   -2.581123  ...   \n",
              "std      5.372468    1.858124    7.206773    6.797831    2.500896  ...   \n",
              "min    -22.105532   -6.406267  -43.557242  -41.044261  -13.434066  ...   \n",
              "25%     -4.792835   -2.501511   -7.965295   -0.195336   -3.872383  ...   \n",
              "50%     -1.522962   -1.424616   -3.034402    0.621508   -2.208768  ...   \n",
              "75%      0.214562   -0.413216   -0.945954    1.764879   -0.787850  ...   \n",
              "max     11.095089    6.474115    5.802537   20.007208    3.353525  ...   \n",
              "\n",
              "              V21         V22         V23         V24         V25         V26  \\\n",
              "count  492.000000  492.000000  492.000000  492.000000  492.000000  492.000000   \n",
              "mean     0.713588    0.014049   -0.040308   -0.105130    0.041449    0.051648   \n",
              "std      3.869304    1.494602    1.579642    0.515577    0.797205    0.471679   \n",
              "min    -22.797604   -8.887017  -19.254328   -2.028024   -4.781606   -1.152671   \n",
              "25%      0.041787   -0.533764   -0.342175   -0.436809   -0.314348   -0.259416   \n",
              "50%      0.592146    0.048434   -0.073135   -0.060795    0.088371    0.004321   \n",
              "75%      1.244611    0.617474    0.308378    0.285328    0.456515    0.396733   \n",
              "max     27.202839    8.361985    5.466230    1.091435    2.208209    2.745261   \n",
              "\n",
              "              V27         V28       Amount  Class  \n",
              "count  492.000000  492.000000   492.000000  492.0  \n",
              "mean     0.170575    0.075667   122.211321    1.0  \n",
              "std      1.376766    0.547291   256.683288    0.0  \n",
              "min     -7.263482   -1.869290     0.000000    1.0  \n",
              "25%     -0.020025   -0.108868     1.000000    1.0  \n",
              "50%      0.394926    0.146344     9.250000    1.0  \n",
              "75%      0.826029    0.381152   105.890000    1.0  \n",
              "max      3.052358    1.779364  2125.870000    1.0  \n",
              "\n",
              "[8 rows x 31 columns]"
            ],
            "text/html": [
              "\n",
              "  <div id=\"df-d4ff880f-febd-45b1-ad64-d0d6de4291ac\">\n",
              "    <div class=\"colab-df-container\">\n",
              "      <div>\n",
              "<style scoped>\n",
              "    .dataframe tbody tr th:only-of-type {\n",
              "        vertical-align: middle;\n",
              "    }\n",
              "\n",
              "    .dataframe tbody tr th {\n",
              "        vertical-align: top;\n",
              "    }\n",
              "\n",
              "    .dataframe thead th {\n",
              "        text-align: right;\n",
              "    }\n",
              "</style>\n",
              "<table border=\"1\" class=\"dataframe\">\n",
              "  <thead>\n",
              "    <tr style=\"text-align: right;\">\n",
              "      <th></th>\n",
              "      <th>Time</th>\n",
              "      <th>V1</th>\n",
              "      <th>V2</th>\n",
              "      <th>V3</th>\n",
              "      <th>V4</th>\n",
              "      <th>V5</th>\n",
              "      <th>V6</th>\n",
              "      <th>V7</th>\n",
              "      <th>V8</th>\n",
              "      <th>V9</th>\n",
              "      <th>...</th>\n",
              "      <th>V21</th>\n",
              "      <th>V22</th>\n",
              "      <th>V23</th>\n",
              "      <th>V24</th>\n",
              "      <th>V25</th>\n",
              "      <th>V26</th>\n",
              "      <th>V27</th>\n",
              "      <th>V28</th>\n",
              "      <th>Amount</th>\n",
              "      <th>Class</th>\n",
              "    </tr>\n",
              "  </thead>\n",
              "  <tbody>\n",
              "    <tr>\n",
              "      <th>count</th>\n",
              "      <td>492.000000</td>\n",
              "      <td>492.000000</td>\n",
              "      <td>492.000000</td>\n",
              "      <td>492.000000</td>\n",
              "      <td>492.000000</td>\n",
              "      <td>492.000000</td>\n",
              "      <td>492.000000</td>\n",
              "      <td>492.000000</td>\n",
              "      <td>492.000000</td>\n",
              "      <td>492.000000</td>\n",
              "      <td>...</td>\n",
              "      <td>492.000000</td>\n",
              "      <td>492.000000</td>\n",
              "      <td>492.000000</td>\n",
              "      <td>492.000000</td>\n",
              "      <td>492.000000</td>\n",
              "      <td>492.000000</td>\n",
              "      <td>492.000000</td>\n",
              "      <td>492.000000</td>\n",
              "      <td>492.000000</td>\n",
              "      <td>492.0</td>\n",
              "    </tr>\n",
              "    <tr>\n",
              "      <th>mean</th>\n",
              "      <td>80746.806911</td>\n",
              "      <td>-4.771948</td>\n",
              "      <td>3.623778</td>\n",
              "      <td>-7.033281</td>\n",
              "      <td>4.542029</td>\n",
              "      <td>-3.151225</td>\n",
              "      <td>-1.397737</td>\n",
              "      <td>-5.568731</td>\n",
              "      <td>0.570636</td>\n",
              "      <td>-2.581123</td>\n",
              "      <td>...</td>\n",
              "      <td>0.713588</td>\n",
              "      <td>0.014049</td>\n",
              "      <td>-0.040308</td>\n",
              "      <td>-0.105130</td>\n",
              "      <td>0.041449</td>\n",
              "      <td>0.051648</td>\n",
              "      <td>0.170575</td>\n",
              "      <td>0.075667</td>\n",
              "      <td>122.211321</td>\n",
              "      <td>1.0</td>\n",
              "    </tr>\n",
              "    <tr>\n",
              "      <th>std</th>\n",
              "      <td>47835.365138</td>\n",
              "      <td>6.783687</td>\n",
              "      <td>4.291216</td>\n",
              "      <td>7.110937</td>\n",
              "      <td>2.873318</td>\n",
              "      <td>5.372468</td>\n",
              "      <td>1.858124</td>\n",
              "      <td>7.206773</td>\n",
              "      <td>6.797831</td>\n",
              "      <td>2.500896</td>\n",
              "      <td>...</td>\n",
              "      <td>3.869304</td>\n",
              "      <td>1.494602</td>\n",
              "      <td>1.579642</td>\n",
              "      <td>0.515577</td>\n",
              "      <td>0.797205</td>\n",
              "      <td>0.471679</td>\n",
              "      <td>1.376766</td>\n",
              "      <td>0.547291</td>\n",
              "      <td>256.683288</td>\n",
              "      <td>0.0</td>\n",
              "    </tr>\n",
              "    <tr>\n",
              "      <th>min</th>\n",
              "      <td>406.000000</td>\n",
              "      <td>-30.552380</td>\n",
              "      <td>-8.402154</td>\n",
              "      <td>-31.103685</td>\n",
              "      <td>-1.313275</td>\n",
              "      <td>-22.105532</td>\n",
              "      <td>-6.406267</td>\n",
              "      <td>-43.557242</td>\n",
              "      <td>-41.044261</td>\n",
              "      <td>-13.434066</td>\n",
              "      <td>...</td>\n",
              "      <td>-22.797604</td>\n",
              "      <td>-8.887017</td>\n",
              "      <td>-19.254328</td>\n",
              "      <td>-2.028024</td>\n",
              "      <td>-4.781606</td>\n",
              "      <td>-1.152671</td>\n",
              "      <td>-7.263482</td>\n",
              "      <td>-1.869290</td>\n",
              "      <td>0.000000</td>\n",
              "      <td>1.0</td>\n",
              "    </tr>\n",
              "    <tr>\n",
              "      <th>25%</th>\n",
              "      <td>41241.500000</td>\n",
              "      <td>-6.036063</td>\n",
              "      <td>1.188226</td>\n",
              "      <td>-8.643489</td>\n",
              "      <td>2.373050</td>\n",
              "      <td>-4.792835</td>\n",
              "      <td>-2.501511</td>\n",
              "      <td>-7.965295</td>\n",
              "      <td>-0.195336</td>\n",
              "      <td>-3.872383</td>\n",
              "      <td>...</td>\n",
              "      <td>0.041787</td>\n",
              "      <td>-0.533764</td>\n",
              "      <td>-0.342175</td>\n",
              "      <td>-0.436809</td>\n",
              "      <td>-0.314348</td>\n",
              "      <td>-0.259416</td>\n",
              "      <td>-0.020025</td>\n",
              "      <td>-0.108868</td>\n",
              "      <td>1.000000</td>\n",
              "      <td>1.0</td>\n",
              "    </tr>\n",
              "    <tr>\n",
              "      <th>50%</th>\n",
              "      <td>75568.500000</td>\n",
              "      <td>-2.342497</td>\n",
              "      <td>2.717869</td>\n",
              "      <td>-5.075257</td>\n",
              "      <td>4.177147</td>\n",
              "      <td>-1.522962</td>\n",
              "      <td>-1.424616</td>\n",
              "      <td>-3.034402</td>\n",
              "      <td>0.621508</td>\n",
              "      <td>-2.208768</td>\n",
              "      <td>...</td>\n",
              "      <td>0.592146</td>\n",
              "      <td>0.048434</td>\n",
              "      <td>-0.073135</td>\n",
              "      <td>-0.060795</td>\n",
              "      <td>0.088371</td>\n",
              "      <td>0.004321</td>\n",
              "      <td>0.394926</td>\n",
              "      <td>0.146344</td>\n",
              "      <td>9.250000</td>\n",
              "      <td>1.0</td>\n",
              "    </tr>\n",
              "    <tr>\n",
              "      <th>75%</th>\n",
              "      <td>128483.000000</td>\n",
              "      <td>-0.419200</td>\n",
              "      <td>4.971257</td>\n",
              "      <td>-2.276185</td>\n",
              "      <td>6.348729</td>\n",
              "      <td>0.214562</td>\n",
              "      <td>-0.413216</td>\n",
              "      <td>-0.945954</td>\n",
              "      <td>1.764879</td>\n",
              "      <td>-0.787850</td>\n",
              "      <td>...</td>\n",
              "      <td>1.244611</td>\n",
              "      <td>0.617474</td>\n",
              "      <td>0.308378</td>\n",
              "      <td>0.285328</td>\n",
              "      <td>0.456515</td>\n",
              "      <td>0.396733</td>\n",
              "      <td>0.826029</td>\n",
              "      <td>0.381152</td>\n",
              "      <td>105.890000</td>\n",
              "      <td>1.0</td>\n",
              "    </tr>\n",
              "    <tr>\n",
              "      <th>max</th>\n",
              "      <td>170348.000000</td>\n",
              "      <td>2.132386</td>\n",
              "      <td>22.057729</td>\n",
              "      <td>2.250210</td>\n",
              "      <td>12.114672</td>\n",
              "      <td>11.095089</td>\n",
              "      <td>6.474115</td>\n",
              "      <td>5.802537</td>\n",
              "      <td>20.007208</td>\n",
              "      <td>3.353525</td>\n",
              "      <td>...</td>\n",
              "      <td>27.202839</td>\n",
              "      <td>8.361985</td>\n",
              "      <td>5.466230</td>\n",
              "      <td>1.091435</td>\n",
              "      <td>2.208209</td>\n",
              "      <td>2.745261</td>\n",
              "      <td>3.052358</td>\n",
              "      <td>1.779364</td>\n",
              "      <td>2125.870000</td>\n",
              "      <td>1.0</td>\n",
              "    </tr>\n",
              "  </tbody>\n",
              "</table>\n",
              "<p>8 rows × 31 columns</p>\n",
              "</div>\n",
              "      <button class=\"colab-df-convert\" onclick=\"convertToInteractive('df-d4ff880f-febd-45b1-ad64-d0d6de4291ac')\"\n",
              "              title=\"Convert this dataframe to an interactive table.\"\n",
              "              style=\"display:none;\">\n",
              "        \n",
              "  <svg xmlns=\"http://www.w3.org/2000/svg\" height=\"24px\"viewBox=\"0 0 24 24\"\n",
              "       width=\"24px\">\n",
              "    <path d=\"M0 0h24v24H0V0z\" fill=\"none\"/>\n",
              "    <path d=\"M18.56 5.44l.94 2.06.94-2.06 2.06-.94-2.06-.94-.94-2.06-.94 2.06-2.06.94zm-11 1L8.5 8.5l.94-2.06 2.06-.94-2.06-.94L8.5 2.5l-.94 2.06-2.06.94zm10 10l.94 2.06.94-2.06 2.06-.94-2.06-.94-.94-2.06-.94 2.06-2.06.94z\"/><path d=\"M17.41 7.96l-1.37-1.37c-.4-.4-.92-.59-1.43-.59-.52 0-1.04.2-1.43.59L10.3 9.45l-7.72 7.72c-.78.78-.78 2.05 0 2.83L4 21.41c.39.39.9.59 1.41.59.51 0 1.02-.2 1.41-.59l7.78-7.78 2.81-2.81c.8-.78.8-2.07 0-2.86zM5.41 20L4 18.59l7.72-7.72 1.47 1.35L5.41 20z\"/>\n",
              "  </svg>\n",
              "      </button>\n",
              "      \n",
              "  <style>\n",
              "    .colab-df-container {\n",
              "      display:flex;\n",
              "      flex-wrap:wrap;\n",
              "      gap: 12px;\n",
              "    }\n",
              "\n",
              "    .colab-df-convert {\n",
              "      background-color: #E8F0FE;\n",
              "      border: none;\n",
              "      border-radius: 50%;\n",
              "      cursor: pointer;\n",
              "      display: none;\n",
              "      fill: #1967D2;\n",
              "      height: 32px;\n",
              "      padding: 0 0 0 0;\n",
              "      width: 32px;\n",
              "    }\n",
              "\n",
              "    .colab-df-convert:hover {\n",
              "      background-color: #E2EBFA;\n",
              "      box-shadow: 0px 1px 2px rgba(60, 64, 67, 0.3), 0px 1px 3px 1px rgba(60, 64, 67, 0.15);\n",
              "      fill: #174EA6;\n",
              "    }\n",
              "\n",
              "    [theme=dark] .colab-df-convert {\n",
              "      background-color: #3B4455;\n",
              "      fill: #D2E3FC;\n",
              "    }\n",
              "\n",
              "    [theme=dark] .colab-df-convert:hover {\n",
              "      background-color: #434B5C;\n",
              "      box-shadow: 0px 1px 3px 1px rgba(0, 0, 0, 0.15);\n",
              "      filter: drop-shadow(0px 1px 2px rgba(0, 0, 0, 0.3));\n",
              "      fill: #FFFFFF;\n",
              "    }\n",
              "  </style>\n",
              "\n",
              "      <script>\n",
              "        const buttonEl =\n",
              "          document.querySelector('#df-d4ff880f-febd-45b1-ad64-d0d6de4291ac button.colab-df-convert');\n",
              "        buttonEl.style.display =\n",
              "          google.colab.kernel.accessAllowed ? 'block' : 'none';\n",
              "\n",
              "        async function convertToInteractive(key) {\n",
              "          const element = document.querySelector('#df-d4ff880f-febd-45b1-ad64-d0d6de4291ac');\n",
              "          const dataTable =\n",
              "            await google.colab.kernel.invokeFunction('convertToInteractive',\n",
              "                                                     [key], {});\n",
              "          if (!dataTable) return;\n",
              "\n",
              "          const docLinkHtml = 'Like what you see? Visit the ' +\n",
              "            '<a target=\"_blank\" href=https://colab.research.google.com/notebooks/data_table.ipynb>data table notebook</a>'\n",
              "            + ' to learn more about interactive tables.';\n",
              "          element.innerHTML = '';\n",
              "          dataTable['output_type'] = 'display_data';\n",
              "          await google.colab.output.renderOutput(dataTable, element);\n",
              "          const docLink = document.createElement('div');\n",
              "          docLink.innerHTML = docLinkHtml;\n",
              "          element.appendChild(docLink);\n",
              "        }\n",
              "      </script>\n",
              "    </div>\n",
              "  </div>\n",
              "  "
            ]
          },
          "metadata": {},
          "execution_count": 7
        }
      ]
    },
    {
      "cell_type": "code",
      "metadata": {
        "colab": {
          "base_uri": "https://localhost:8080/",
          "height": 394
        },
        "id": "3M-ecCUbXNkb",
        "outputId": "6b5dbf65-dd23-4e87-a324-1016e1361167"
      },
      "source": [
        "card_df[card_df['Class']==0].describe()"
      ],
      "execution_count": null,
      "outputs": [
        {
          "output_type": "execute_result",
          "data": {
            "text/plain": [
              "                Time             V1             V2             V3  \\\n",
              "count  284315.000000  284315.000000  284315.000000  284315.000000   \n",
              "mean    94838.202258       0.008258      -0.006271       0.012171   \n",
              "std     47484.015786       1.929814       1.636146       1.459429   \n",
              "min         0.000000     -56.407510     -72.715728     -48.325589   \n",
              "25%     54230.000000      -0.917544      -0.599473      -0.884541   \n",
              "50%     84711.000000       0.020023       0.064070       0.182158   \n",
              "75%    139333.000000       1.316218       0.800446       1.028372   \n",
              "max    172792.000000       2.454930      18.902453       9.382558   \n",
              "\n",
              "                  V4             V5             V6             V7  \\\n",
              "count  284315.000000  284315.000000  284315.000000  284315.000000   \n",
              "mean       -0.007860       0.005453       0.002419       0.009637   \n",
              "std         1.399333       1.356952       1.329913       1.178812   \n",
              "min        -5.683171    -113.743307     -26.160506     -31.764946   \n",
              "25%        -0.850077      -0.689399      -0.766847      -0.551442   \n",
              "50%        -0.022405      -0.053457      -0.273123       0.041138   \n",
              "75%         0.737624       0.612181       0.399619       0.571019   \n",
              "max        16.875344      34.801666      73.301626     120.589494   \n",
              "\n",
              "                  V8             V9  ...            V21            V22  \\\n",
              "count  284315.000000  284315.000000  ...  284315.000000  284315.000000   \n",
              "mean       -0.000987       0.004467  ...      -0.001235      -0.000024   \n",
              "std         1.161283       1.089372  ...       0.716743       0.723668   \n",
              "min       -73.216718      -6.290730  ...     -34.830382     -10.933144   \n",
              "25%        -0.208633      -0.640412  ...      -0.228509      -0.542403   \n",
              "50%         0.022041      -0.049964  ...      -0.029821       0.006736   \n",
              "75%         0.326200       0.598230  ...       0.185626       0.528407   \n",
              "max        18.709255      15.594995  ...      22.614889      10.503090   \n",
              "\n",
              "                 V23            V24            V25            V26  \\\n",
              "count  284315.000000  284315.000000  284315.000000  284315.000000   \n",
              "mean        0.000070       0.000182      -0.000072      -0.000089   \n",
              "std         0.621541       0.605776       0.520673       0.482241   \n",
              "min       -44.807735      -2.836627     -10.295397      -2.604551   \n",
              "25%        -0.161702      -0.354425      -0.317145      -0.327074   \n",
              "50%        -0.011147       0.041082       0.016417      -0.052227   \n",
              "75%         0.147522       0.439869       0.350594       0.240671   \n",
              "max        22.528412       4.584549       7.519589       3.517346   \n",
              "\n",
              "                 V27            V28         Amount     Class  \n",
              "count  284315.000000  284315.000000  284315.000000  284315.0  \n",
              "mean       -0.000295      -0.000131      88.291022       0.0  \n",
              "std         0.399847       0.329570     250.105092       0.0  \n",
              "min       -22.565679     -15.430084       0.000000       0.0  \n",
              "25%        -0.070852      -0.052950       5.650000       0.0  \n",
              "50%         0.001230       0.011199      22.000000       0.0  \n",
              "75%         0.090573       0.077962      77.050000       0.0  \n",
              "max        31.612198      33.847808   25691.160000       0.0  \n",
              "\n",
              "[8 rows x 31 columns]"
            ],
            "text/html": [
              "\n",
              "  <div id=\"df-7e6975f1-0027-4578-a5c7-c0308ce49384\">\n",
              "    <div class=\"colab-df-container\">\n",
              "      <div>\n",
              "<style scoped>\n",
              "    .dataframe tbody tr th:only-of-type {\n",
              "        vertical-align: middle;\n",
              "    }\n",
              "\n",
              "    .dataframe tbody tr th {\n",
              "        vertical-align: top;\n",
              "    }\n",
              "\n",
              "    .dataframe thead th {\n",
              "        text-align: right;\n",
              "    }\n",
              "</style>\n",
              "<table border=\"1\" class=\"dataframe\">\n",
              "  <thead>\n",
              "    <tr style=\"text-align: right;\">\n",
              "      <th></th>\n",
              "      <th>Time</th>\n",
              "      <th>V1</th>\n",
              "      <th>V2</th>\n",
              "      <th>V3</th>\n",
              "      <th>V4</th>\n",
              "      <th>V5</th>\n",
              "      <th>V6</th>\n",
              "      <th>V7</th>\n",
              "      <th>V8</th>\n",
              "      <th>V9</th>\n",
              "      <th>...</th>\n",
              "      <th>V21</th>\n",
              "      <th>V22</th>\n",
              "      <th>V23</th>\n",
              "      <th>V24</th>\n",
              "      <th>V25</th>\n",
              "      <th>V26</th>\n",
              "      <th>V27</th>\n",
              "      <th>V28</th>\n",
              "      <th>Amount</th>\n",
              "      <th>Class</th>\n",
              "    </tr>\n",
              "  </thead>\n",
              "  <tbody>\n",
              "    <tr>\n",
              "      <th>count</th>\n",
              "      <td>284315.000000</td>\n",
              "      <td>284315.000000</td>\n",
              "      <td>284315.000000</td>\n",
              "      <td>284315.000000</td>\n",
              "      <td>284315.000000</td>\n",
              "      <td>284315.000000</td>\n",
              "      <td>284315.000000</td>\n",
              "      <td>284315.000000</td>\n",
              "      <td>284315.000000</td>\n",
              "      <td>284315.000000</td>\n",
              "      <td>...</td>\n",
              "      <td>284315.000000</td>\n",
              "      <td>284315.000000</td>\n",
              "      <td>284315.000000</td>\n",
              "      <td>284315.000000</td>\n",
              "      <td>284315.000000</td>\n",
              "      <td>284315.000000</td>\n",
              "      <td>284315.000000</td>\n",
              "      <td>284315.000000</td>\n",
              "      <td>284315.000000</td>\n",
              "      <td>284315.0</td>\n",
              "    </tr>\n",
              "    <tr>\n",
              "      <th>mean</th>\n",
              "      <td>94838.202258</td>\n",
              "      <td>0.008258</td>\n",
              "      <td>-0.006271</td>\n",
              "      <td>0.012171</td>\n",
              "      <td>-0.007860</td>\n",
              "      <td>0.005453</td>\n",
              "      <td>0.002419</td>\n",
              "      <td>0.009637</td>\n",
              "      <td>-0.000987</td>\n",
              "      <td>0.004467</td>\n",
              "      <td>...</td>\n",
              "      <td>-0.001235</td>\n",
              "      <td>-0.000024</td>\n",
              "      <td>0.000070</td>\n",
              "      <td>0.000182</td>\n",
              "      <td>-0.000072</td>\n",
              "      <td>-0.000089</td>\n",
              "      <td>-0.000295</td>\n",
              "      <td>-0.000131</td>\n",
              "      <td>88.291022</td>\n",
              "      <td>0.0</td>\n",
              "    </tr>\n",
              "    <tr>\n",
              "      <th>std</th>\n",
              "      <td>47484.015786</td>\n",
              "      <td>1.929814</td>\n",
              "      <td>1.636146</td>\n",
              "      <td>1.459429</td>\n",
              "      <td>1.399333</td>\n",
              "      <td>1.356952</td>\n",
              "      <td>1.329913</td>\n",
              "      <td>1.178812</td>\n",
              "      <td>1.161283</td>\n",
              "      <td>1.089372</td>\n",
              "      <td>...</td>\n",
              "      <td>0.716743</td>\n",
              "      <td>0.723668</td>\n",
              "      <td>0.621541</td>\n",
              "      <td>0.605776</td>\n",
              "      <td>0.520673</td>\n",
              "      <td>0.482241</td>\n",
              "      <td>0.399847</td>\n",
              "      <td>0.329570</td>\n",
              "      <td>250.105092</td>\n",
              "      <td>0.0</td>\n",
              "    </tr>\n",
              "    <tr>\n",
              "      <th>min</th>\n",
              "      <td>0.000000</td>\n",
              "      <td>-56.407510</td>\n",
              "      <td>-72.715728</td>\n",
              "      <td>-48.325589</td>\n",
              "      <td>-5.683171</td>\n",
              "      <td>-113.743307</td>\n",
              "      <td>-26.160506</td>\n",
              "      <td>-31.764946</td>\n",
              "      <td>-73.216718</td>\n",
              "      <td>-6.290730</td>\n",
              "      <td>...</td>\n",
              "      <td>-34.830382</td>\n",
              "      <td>-10.933144</td>\n",
              "      <td>-44.807735</td>\n",
              "      <td>-2.836627</td>\n",
              "      <td>-10.295397</td>\n",
              "      <td>-2.604551</td>\n",
              "      <td>-22.565679</td>\n",
              "      <td>-15.430084</td>\n",
              "      <td>0.000000</td>\n",
              "      <td>0.0</td>\n",
              "    </tr>\n",
              "    <tr>\n",
              "      <th>25%</th>\n",
              "      <td>54230.000000</td>\n",
              "      <td>-0.917544</td>\n",
              "      <td>-0.599473</td>\n",
              "      <td>-0.884541</td>\n",
              "      <td>-0.850077</td>\n",
              "      <td>-0.689399</td>\n",
              "      <td>-0.766847</td>\n",
              "      <td>-0.551442</td>\n",
              "      <td>-0.208633</td>\n",
              "      <td>-0.640412</td>\n",
              "      <td>...</td>\n",
              "      <td>-0.228509</td>\n",
              "      <td>-0.542403</td>\n",
              "      <td>-0.161702</td>\n",
              "      <td>-0.354425</td>\n",
              "      <td>-0.317145</td>\n",
              "      <td>-0.327074</td>\n",
              "      <td>-0.070852</td>\n",
              "      <td>-0.052950</td>\n",
              "      <td>5.650000</td>\n",
              "      <td>0.0</td>\n",
              "    </tr>\n",
              "    <tr>\n",
              "      <th>50%</th>\n",
              "      <td>84711.000000</td>\n",
              "      <td>0.020023</td>\n",
              "      <td>0.064070</td>\n",
              "      <td>0.182158</td>\n",
              "      <td>-0.022405</td>\n",
              "      <td>-0.053457</td>\n",
              "      <td>-0.273123</td>\n",
              "      <td>0.041138</td>\n",
              "      <td>0.022041</td>\n",
              "      <td>-0.049964</td>\n",
              "      <td>...</td>\n",
              "      <td>-0.029821</td>\n",
              "      <td>0.006736</td>\n",
              "      <td>-0.011147</td>\n",
              "      <td>0.041082</td>\n",
              "      <td>0.016417</td>\n",
              "      <td>-0.052227</td>\n",
              "      <td>0.001230</td>\n",
              "      <td>0.011199</td>\n",
              "      <td>22.000000</td>\n",
              "      <td>0.0</td>\n",
              "    </tr>\n",
              "    <tr>\n",
              "      <th>75%</th>\n",
              "      <td>139333.000000</td>\n",
              "      <td>1.316218</td>\n",
              "      <td>0.800446</td>\n",
              "      <td>1.028372</td>\n",
              "      <td>0.737624</td>\n",
              "      <td>0.612181</td>\n",
              "      <td>0.399619</td>\n",
              "      <td>0.571019</td>\n",
              "      <td>0.326200</td>\n",
              "      <td>0.598230</td>\n",
              "      <td>...</td>\n",
              "      <td>0.185626</td>\n",
              "      <td>0.528407</td>\n",
              "      <td>0.147522</td>\n",
              "      <td>0.439869</td>\n",
              "      <td>0.350594</td>\n",
              "      <td>0.240671</td>\n",
              "      <td>0.090573</td>\n",
              "      <td>0.077962</td>\n",
              "      <td>77.050000</td>\n",
              "      <td>0.0</td>\n",
              "    </tr>\n",
              "    <tr>\n",
              "      <th>max</th>\n",
              "      <td>172792.000000</td>\n",
              "      <td>2.454930</td>\n",
              "      <td>18.902453</td>\n",
              "      <td>9.382558</td>\n",
              "      <td>16.875344</td>\n",
              "      <td>34.801666</td>\n",
              "      <td>73.301626</td>\n",
              "      <td>120.589494</td>\n",
              "      <td>18.709255</td>\n",
              "      <td>15.594995</td>\n",
              "      <td>...</td>\n",
              "      <td>22.614889</td>\n",
              "      <td>10.503090</td>\n",
              "      <td>22.528412</td>\n",
              "      <td>4.584549</td>\n",
              "      <td>7.519589</td>\n",
              "      <td>3.517346</td>\n",
              "      <td>31.612198</td>\n",
              "      <td>33.847808</td>\n",
              "      <td>25691.160000</td>\n",
              "      <td>0.0</td>\n",
              "    </tr>\n",
              "  </tbody>\n",
              "</table>\n",
              "<p>8 rows × 31 columns</p>\n",
              "</div>\n",
              "      <button class=\"colab-df-convert\" onclick=\"convertToInteractive('df-7e6975f1-0027-4578-a5c7-c0308ce49384')\"\n",
              "              title=\"Convert this dataframe to an interactive table.\"\n",
              "              style=\"display:none;\">\n",
              "        \n",
              "  <svg xmlns=\"http://www.w3.org/2000/svg\" height=\"24px\"viewBox=\"0 0 24 24\"\n",
              "       width=\"24px\">\n",
              "    <path d=\"M0 0h24v24H0V0z\" fill=\"none\"/>\n",
              "    <path d=\"M18.56 5.44l.94 2.06.94-2.06 2.06-.94-2.06-.94-.94-2.06-.94 2.06-2.06.94zm-11 1L8.5 8.5l.94-2.06 2.06-.94-2.06-.94L8.5 2.5l-.94 2.06-2.06.94zm10 10l.94 2.06.94-2.06 2.06-.94-2.06-.94-.94-2.06-.94 2.06-2.06.94z\"/><path d=\"M17.41 7.96l-1.37-1.37c-.4-.4-.92-.59-1.43-.59-.52 0-1.04.2-1.43.59L10.3 9.45l-7.72 7.72c-.78.78-.78 2.05 0 2.83L4 21.41c.39.39.9.59 1.41.59.51 0 1.02-.2 1.41-.59l7.78-7.78 2.81-2.81c.8-.78.8-2.07 0-2.86zM5.41 20L4 18.59l7.72-7.72 1.47 1.35L5.41 20z\"/>\n",
              "  </svg>\n",
              "      </button>\n",
              "      \n",
              "  <style>\n",
              "    .colab-df-container {\n",
              "      display:flex;\n",
              "      flex-wrap:wrap;\n",
              "      gap: 12px;\n",
              "    }\n",
              "\n",
              "    .colab-df-convert {\n",
              "      background-color: #E8F0FE;\n",
              "      border: none;\n",
              "      border-radius: 50%;\n",
              "      cursor: pointer;\n",
              "      display: none;\n",
              "      fill: #1967D2;\n",
              "      height: 32px;\n",
              "      padding: 0 0 0 0;\n",
              "      width: 32px;\n",
              "    }\n",
              "\n",
              "    .colab-df-convert:hover {\n",
              "      background-color: #E2EBFA;\n",
              "      box-shadow: 0px 1px 2px rgba(60, 64, 67, 0.3), 0px 1px 3px 1px rgba(60, 64, 67, 0.15);\n",
              "      fill: #174EA6;\n",
              "    }\n",
              "\n",
              "    [theme=dark] .colab-df-convert {\n",
              "      background-color: #3B4455;\n",
              "      fill: #D2E3FC;\n",
              "    }\n",
              "\n",
              "    [theme=dark] .colab-df-convert:hover {\n",
              "      background-color: #434B5C;\n",
              "      box-shadow: 0px 1px 3px 1px rgba(0, 0, 0, 0.15);\n",
              "      filter: drop-shadow(0px 1px 2px rgba(0, 0, 0, 0.3));\n",
              "      fill: #FFFFFF;\n",
              "    }\n",
              "  </style>\n",
              "\n",
              "      <script>\n",
              "        const buttonEl =\n",
              "          document.querySelector('#df-7e6975f1-0027-4578-a5c7-c0308ce49384 button.colab-df-convert');\n",
              "        buttonEl.style.display =\n",
              "          google.colab.kernel.accessAllowed ? 'block' : 'none';\n",
              "\n",
              "        async function convertToInteractive(key) {\n",
              "          const element = document.querySelector('#df-7e6975f1-0027-4578-a5c7-c0308ce49384');\n",
              "          const dataTable =\n",
              "            await google.colab.kernel.invokeFunction('convertToInteractive',\n",
              "                                                     [key], {});\n",
              "          if (!dataTable) return;\n",
              "\n",
              "          const docLinkHtml = 'Like what you see? Visit the ' +\n",
              "            '<a target=\"_blank\" href=https://colab.research.google.com/notebooks/data_table.ipynb>data table notebook</a>'\n",
              "            + ' to learn more about interactive tables.';\n",
              "          element.innerHTML = '';\n",
              "          dataTable['output_type'] = 'display_data';\n",
              "          await google.colab.output.renderOutput(dataTable, element);\n",
              "          const docLink = document.createElement('div');\n",
              "          docLink.innerHTML = docLinkHtml;\n",
              "          element.appendChild(docLink);\n",
              "        }\n",
              "      </script>\n",
              "    </div>\n",
              "  </div>\n",
              "  "
            ]
          },
          "metadata": {},
          "execution_count": 8
        }
      ]
    },
    {
      "cell_type": "markdown",
      "metadata": {
        "id": "tn6nEe2jJ4bh"
      },
      "source": [
        "이제 데이터의 각 열에 대해서 값을 시각화해보겠습니다. 패키지 seaborn을 임포트합니다."
      ]
    },
    {
      "cell_type": "code",
      "metadata": {
        "id": "y1F3hNmlbM3S"
      },
      "source": [
        "import seaborn as sns"
      ],
      "execution_count": null,
      "outputs": []
    },
    {
      "cell_type": "markdown",
      "metadata": {
        "id": "B-EZ78JyKAiB"
      },
      "source": [
        "시각화를 할 대상으로 V로 시작되는 열에 대해서만 추출합니다."
      ]
    },
    {
      "cell_type": "code",
      "metadata": {
        "id": "HjOxPaEgZSzM"
      },
      "source": [
        "# V로 시작되는 열만 추출. V라는 이름의 dataframe의 shape는 (284807, 28)\n",
        "V = card_df[[col for col in card_df.columns if 'V' in col]]"
      ],
      "execution_count": null,
      "outputs": []
    },
    {
      "cell_type": "code",
      "metadata": {
        "colab": {
          "base_uri": "https://localhost:8080/",
          "height": 300
        },
        "id": "jdeWimUlcdK6",
        "outputId": "c59837a9-2e39-4439-b4b5-0fa63b3e995a"
      },
      "source": [
        "V.head()"
      ],
      "execution_count": null,
      "outputs": [
        {
          "output_type": "execute_result",
          "data": {
            "text/plain": [
              "         V1        V2        V3        V4        V5        V6        V7  \\\n",
              "0 -1.359807 -0.072781  2.536347  1.378155 -0.338321  0.462388  0.239599   \n",
              "1  1.191857  0.266151  0.166480  0.448154  0.060018 -0.082361 -0.078803   \n",
              "2 -1.358354 -1.340163  1.773209  0.379780 -0.503198  1.800499  0.791461   \n",
              "3 -0.966272 -0.185226  1.792993 -0.863291 -0.010309  1.247203  0.237609   \n",
              "4 -1.158233  0.877737  1.548718  0.403034 -0.407193  0.095921  0.592941   \n",
              "\n",
              "         V8        V9       V10  ...       V19       V20       V21       V22  \\\n",
              "0  0.098698  0.363787  0.090794  ...  0.403993  0.251412 -0.018307  0.277838   \n",
              "1  0.085102 -0.255425 -0.166974  ... -0.145783 -0.069083 -0.225775 -0.638672   \n",
              "2  0.247676 -1.514654  0.207643  ... -2.261857  0.524980  0.247998  0.771679   \n",
              "3  0.377436 -1.387024 -0.054952  ... -1.232622 -0.208038 -0.108300  0.005274   \n",
              "4 -0.270533  0.817739  0.753074  ...  0.803487  0.408542 -0.009431  0.798278   \n",
              "\n",
              "        V23       V24       V25       V26       V27       V28  \n",
              "0 -0.110474  0.066928  0.128539 -0.189115  0.133558 -0.021053  \n",
              "1  0.101288 -0.339846  0.167170  0.125895 -0.008983  0.014724  \n",
              "2  0.909412 -0.689281 -0.327642 -0.139097 -0.055353 -0.059752  \n",
              "3 -0.190321 -1.175575  0.647376 -0.221929  0.062723  0.061458  \n",
              "4 -0.137458  0.141267 -0.206010  0.502292  0.219422  0.215153  \n",
              "\n",
              "[5 rows x 28 columns]"
            ],
            "text/html": [
              "\n",
              "  <div id=\"df-051f3787-393d-485b-a7b6-bebd7f7e66da\">\n",
              "    <div class=\"colab-df-container\">\n",
              "      <div>\n",
              "<style scoped>\n",
              "    .dataframe tbody tr th:only-of-type {\n",
              "        vertical-align: middle;\n",
              "    }\n",
              "\n",
              "    .dataframe tbody tr th {\n",
              "        vertical-align: top;\n",
              "    }\n",
              "\n",
              "    .dataframe thead th {\n",
              "        text-align: right;\n",
              "    }\n",
              "</style>\n",
              "<table border=\"1\" class=\"dataframe\">\n",
              "  <thead>\n",
              "    <tr style=\"text-align: right;\">\n",
              "      <th></th>\n",
              "      <th>V1</th>\n",
              "      <th>V2</th>\n",
              "      <th>V3</th>\n",
              "      <th>V4</th>\n",
              "      <th>V5</th>\n",
              "      <th>V6</th>\n",
              "      <th>V7</th>\n",
              "      <th>V8</th>\n",
              "      <th>V9</th>\n",
              "      <th>V10</th>\n",
              "      <th>...</th>\n",
              "      <th>V19</th>\n",
              "      <th>V20</th>\n",
              "      <th>V21</th>\n",
              "      <th>V22</th>\n",
              "      <th>V23</th>\n",
              "      <th>V24</th>\n",
              "      <th>V25</th>\n",
              "      <th>V26</th>\n",
              "      <th>V27</th>\n",
              "      <th>V28</th>\n",
              "    </tr>\n",
              "  </thead>\n",
              "  <tbody>\n",
              "    <tr>\n",
              "      <th>0</th>\n",
              "      <td>-1.359807</td>\n",
              "      <td>-0.072781</td>\n",
              "      <td>2.536347</td>\n",
              "      <td>1.378155</td>\n",
              "      <td>-0.338321</td>\n",
              "      <td>0.462388</td>\n",
              "      <td>0.239599</td>\n",
              "      <td>0.098698</td>\n",
              "      <td>0.363787</td>\n",
              "      <td>0.090794</td>\n",
              "      <td>...</td>\n",
              "      <td>0.403993</td>\n",
              "      <td>0.251412</td>\n",
              "      <td>-0.018307</td>\n",
              "      <td>0.277838</td>\n",
              "      <td>-0.110474</td>\n",
              "      <td>0.066928</td>\n",
              "      <td>0.128539</td>\n",
              "      <td>-0.189115</td>\n",
              "      <td>0.133558</td>\n",
              "      <td>-0.021053</td>\n",
              "    </tr>\n",
              "    <tr>\n",
              "      <th>1</th>\n",
              "      <td>1.191857</td>\n",
              "      <td>0.266151</td>\n",
              "      <td>0.166480</td>\n",
              "      <td>0.448154</td>\n",
              "      <td>0.060018</td>\n",
              "      <td>-0.082361</td>\n",
              "      <td>-0.078803</td>\n",
              "      <td>0.085102</td>\n",
              "      <td>-0.255425</td>\n",
              "      <td>-0.166974</td>\n",
              "      <td>...</td>\n",
              "      <td>-0.145783</td>\n",
              "      <td>-0.069083</td>\n",
              "      <td>-0.225775</td>\n",
              "      <td>-0.638672</td>\n",
              "      <td>0.101288</td>\n",
              "      <td>-0.339846</td>\n",
              "      <td>0.167170</td>\n",
              "      <td>0.125895</td>\n",
              "      <td>-0.008983</td>\n",
              "      <td>0.014724</td>\n",
              "    </tr>\n",
              "    <tr>\n",
              "      <th>2</th>\n",
              "      <td>-1.358354</td>\n",
              "      <td>-1.340163</td>\n",
              "      <td>1.773209</td>\n",
              "      <td>0.379780</td>\n",
              "      <td>-0.503198</td>\n",
              "      <td>1.800499</td>\n",
              "      <td>0.791461</td>\n",
              "      <td>0.247676</td>\n",
              "      <td>-1.514654</td>\n",
              "      <td>0.207643</td>\n",
              "      <td>...</td>\n",
              "      <td>-2.261857</td>\n",
              "      <td>0.524980</td>\n",
              "      <td>0.247998</td>\n",
              "      <td>0.771679</td>\n",
              "      <td>0.909412</td>\n",
              "      <td>-0.689281</td>\n",
              "      <td>-0.327642</td>\n",
              "      <td>-0.139097</td>\n",
              "      <td>-0.055353</td>\n",
              "      <td>-0.059752</td>\n",
              "    </tr>\n",
              "    <tr>\n",
              "      <th>3</th>\n",
              "      <td>-0.966272</td>\n",
              "      <td>-0.185226</td>\n",
              "      <td>1.792993</td>\n",
              "      <td>-0.863291</td>\n",
              "      <td>-0.010309</td>\n",
              "      <td>1.247203</td>\n",
              "      <td>0.237609</td>\n",
              "      <td>0.377436</td>\n",
              "      <td>-1.387024</td>\n",
              "      <td>-0.054952</td>\n",
              "      <td>...</td>\n",
              "      <td>-1.232622</td>\n",
              "      <td>-0.208038</td>\n",
              "      <td>-0.108300</td>\n",
              "      <td>0.005274</td>\n",
              "      <td>-0.190321</td>\n",
              "      <td>-1.175575</td>\n",
              "      <td>0.647376</td>\n",
              "      <td>-0.221929</td>\n",
              "      <td>0.062723</td>\n",
              "      <td>0.061458</td>\n",
              "    </tr>\n",
              "    <tr>\n",
              "      <th>4</th>\n",
              "      <td>-1.158233</td>\n",
              "      <td>0.877737</td>\n",
              "      <td>1.548718</td>\n",
              "      <td>0.403034</td>\n",
              "      <td>-0.407193</td>\n",
              "      <td>0.095921</td>\n",
              "      <td>0.592941</td>\n",
              "      <td>-0.270533</td>\n",
              "      <td>0.817739</td>\n",
              "      <td>0.753074</td>\n",
              "      <td>...</td>\n",
              "      <td>0.803487</td>\n",
              "      <td>0.408542</td>\n",
              "      <td>-0.009431</td>\n",
              "      <td>0.798278</td>\n",
              "      <td>-0.137458</td>\n",
              "      <td>0.141267</td>\n",
              "      <td>-0.206010</td>\n",
              "      <td>0.502292</td>\n",
              "      <td>0.219422</td>\n",
              "      <td>0.215153</td>\n",
              "    </tr>\n",
              "  </tbody>\n",
              "</table>\n",
              "<p>5 rows × 28 columns</p>\n",
              "</div>\n",
              "      <button class=\"colab-df-convert\" onclick=\"convertToInteractive('df-051f3787-393d-485b-a7b6-bebd7f7e66da')\"\n",
              "              title=\"Convert this dataframe to an interactive table.\"\n",
              "              style=\"display:none;\">\n",
              "        \n",
              "  <svg xmlns=\"http://www.w3.org/2000/svg\" height=\"24px\"viewBox=\"0 0 24 24\"\n",
              "       width=\"24px\">\n",
              "    <path d=\"M0 0h24v24H0V0z\" fill=\"none\"/>\n",
              "    <path d=\"M18.56 5.44l.94 2.06.94-2.06 2.06-.94-2.06-.94-.94-2.06-.94 2.06-2.06.94zm-11 1L8.5 8.5l.94-2.06 2.06-.94-2.06-.94L8.5 2.5l-.94 2.06-2.06.94zm10 10l.94 2.06.94-2.06 2.06-.94-2.06-.94-.94-2.06-.94 2.06-2.06.94z\"/><path d=\"M17.41 7.96l-1.37-1.37c-.4-.4-.92-.59-1.43-.59-.52 0-1.04.2-1.43.59L10.3 9.45l-7.72 7.72c-.78.78-.78 2.05 0 2.83L4 21.41c.39.39.9.59 1.41.59.51 0 1.02-.2 1.41-.59l7.78-7.78 2.81-2.81c.8-.78.8-2.07 0-2.86zM5.41 20L4 18.59l7.72-7.72 1.47 1.35L5.41 20z\"/>\n",
              "  </svg>\n",
              "      </button>\n",
              "      \n",
              "  <style>\n",
              "    .colab-df-container {\n",
              "      display:flex;\n",
              "      flex-wrap:wrap;\n",
              "      gap: 12px;\n",
              "    }\n",
              "\n",
              "    .colab-df-convert {\n",
              "      background-color: #E8F0FE;\n",
              "      border: none;\n",
              "      border-radius: 50%;\n",
              "      cursor: pointer;\n",
              "      display: none;\n",
              "      fill: #1967D2;\n",
              "      height: 32px;\n",
              "      padding: 0 0 0 0;\n",
              "      width: 32px;\n",
              "    }\n",
              "\n",
              "    .colab-df-convert:hover {\n",
              "      background-color: #E2EBFA;\n",
              "      box-shadow: 0px 1px 2px rgba(60, 64, 67, 0.3), 0px 1px 3px 1px rgba(60, 64, 67, 0.15);\n",
              "      fill: #174EA6;\n",
              "    }\n",
              "\n",
              "    [theme=dark] .colab-df-convert {\n",
              "      background-color: #3B4455;\n",
              "      fill: #D2E3FC;\n",
              "    }\n",
              "\n",
              "    [theme=dark] .colab-df-convert:hover {\n",
              "      background-color: #434B5C;\n",
              "      box-shadow: 0px 1px 3px 1px rgba(0, 0, 0, 0.15);\n",
              "      filter: drop-shadow(0px 1px 2px rgba(0, 0, 0, 0.3));\n",
              "      fill: #FFFFFF;\n",
              "    }\n",
              "  </style>\n",
              "\n",
              "      <script>\n",
              "        const buttonEl =\n",
              "          document.querySelector('#df-051f3787-393d-485b-a7b6-bebd7f7e66da button.colab-df-convert');\n",
              "        buttonEl.style.display =\n",
              "          google.colab.kernel.accessAllowed ? 'block' : 'none';\n",
              "\n",
              "        async function convertToInteractive(key) {\n",
              "          const element = document.querySelector('#df-051f3787-393d-485b-a7b6-bebd7f7e66da');\n",
              "          const dataTable =\n",
              "            await google.colab.kernel.invokeFunction('convertToInteractive',\n",
              "                                                     [key], {});\n",
              "          if (!dataTable) return;\n",
              "\n",
              "          const docLinkHtml = 'Like what you see? Visit the ' +\n",
              "            '<a target=\"_blank\" href=https://colab.research.google.com/notebooks/data_table.ipynb>data table notebook</a>'\n",
              "            + ' to learn more about interactive tables.';\n",
              "          element.innerHTML = '';\n",
              "          dataTable['output_type'] = 'display_data';\n",
              "          await google.colab.output.renderOutput(dataTable, element);\n",
              "          const docLink = document.createElement('div');\n",
              "          docLink.innerHTML = docLinkHtml;\n",
              "          element.appendChild(docLink);\n",
              "        }\n",
              "      </script>\n",
              "    </div>\n",
              "  </div>\n",
              "  "
            ]
          },
          "metadata": {},
          "execution_count": 11
        }
      ]
    },
    {
      "cell_type": "markdown",
      "metadata": {
        "id": "m5nbq_uiKBra"
      },
      "source": [
        "V로 시작되는 총 28개의 열에 대해서만 추출됩니다. (V1 ~ V28)\n",
        "\n",
        "28개의 열에 대해서 시각화하기 전에 다수의 차트를 그리는 연습을 먼저 해봅시다.\n",
        "\n",
        "3강의 자전거 대여 수요 예측에서 배웠던 내용입니다.\n",
        "\n",
        "3행 2열의 차트를 배치하는 코드는 다음과 같습니다."
      ]
    },
    {
      "cell_type": "code",
      "metadata": {
        "colab": {
          "base_uri": "https://localhost:8080/",
          "height": 467
        },
        "id": "3eJM-84oadc8",
        "outputId": "fa7c85a3-2325-4edb-c97e-7511af852939"
      },
      "source": [
        "# 3개의 행과 2개의 열의 공간을 확보. fig_size는 차트의 크기를 조절하는 값.\n",
        "f, ax = plt.subplots(nrows = 3, ncols = 2, figsize=(4, 5))\n",
        "\n",
        "# ax의 크기는 3행 2열. 즉, 3 x 2의 크기를 가진다.\n",
        "print('ax의 shape:', ax.shape)\n",
        "\n",
        "# 총 6개의 값을 출력\n",
        "print('ax 의 값을 출력 :', ax)\n",
        "\n",
        "# 6개의 공간. 비유하자면 액자를 출력 (3행 2열)\n",
        "print('그리고 할당한 공간을 출력')"
      ],
      "execution_count": null,
      "outputs": [
        {
          "output_type": "stream",
          "name": "stdout",
          "text": [
            "ax의 shape: (3, 2)\n",
            "ax 의 값을 출력 : [[<matplotlib.axes._subplots.AxesSubplot object at 0x7fb25b9160d0>\n",
            "  <matplotlib.axes._subplots.AxesSubplot object at 0x7fb25b879a50>]\n",
            " [<matplotlib.axes._subplots.AxesSubplot object at 0x7fb25b8400d0>\n",
            "  <matplotlib.axes._subplots.AxesSubplot object at 0x7fb25b7f7610>]\n",
            " [<matplotlib.axes._subplots.AxesSubplot object at 0x7fb25b82cbd0>\n",
            "  <matplotlib.axes._subplots.AxesSubplot object at 0x7fb25b7e4790>]]\n",
            "그리고 할당한 공간을 출력\n"
          ]
        },
        {
          "output_type": "display_data",
          "data": {
            "text/plain": [
              "<Figure size 288x360 with 6 Axes>"
            ],
            "image/png": "[encoded data removed]"
          },
          "metadata": {
            "needs_background": "light"
          }
        }
      ]
    },
    {
      "cell_type": "markdown",
      "metadata": {
        "id": "z-t-n9yiKKHs"
      },
      "source": [
        "3행 2열의 공간이 출력됩니다. 실질적으로 데이터를 넣지 않았으므로 차트는 출력되지만, 빈 공간만이 출력됩니다. 이번에는 실질적으로 데이터를 넣으면서 총 28개의 차트를 출력해봅시다. 28개의 차트를 14행, 2열의 구조로 출력해보겠습니다."
      ]
    },
    {
      "cell_type": "code",
      "metadata": {
        "colab": {
          "base_uri": "https://localhost:8080/",
          "height": 1000
        },
        "id": "RRATH21jaunN",
        "outputId": "540e6464-d716-4be4-961f-5974de3f4e21"
      },
      "source": [
        "# V로 시작되는 열만 추출. V라는 이름의 dataframe의 shape는 (284807, 28)\n",
        "V = card_df[[col for col in card_df.columns if 'V' in col]]\n",
        "\n",
        "# 14개의 행과 2개의 열의 공간을 확보. fig_size는 차트의 크기를 조절하는 값.\n",
        "f, ax = plt.subplots(ncols = 2, nrows = 14, figsize=(15, 60))\n",
        "\n",
        "# for문을 통해서 ax의 공간값과 V의 열의 이름을 하나씩 꺼내온다.\n",
        "for i, column_name in zip(ax.flatten(), V.columns):\n",
        "\n",
        "    # 하나씩 꺼내온 것을 순차적으로 시각화\n",
        "    sns.distplot(V[column_name], ax = i)"
      ],
      "execution_count": null,
      "outputs": [
        {
          "output_type": "display_data",
          "data": {
            "text/plain": [
              "<Figure size 1080x4320 with 28 Axes>"
            ],
            "image/png": "[encoded data removed]"
          },
          "metadata": {
            "needs_background": "light"
          }
        }
      ]
    },
    {
      "cell_type": "markdown",
      "metadata": {
        "id": "nJrLRRGsKO01"
      },
      "source": [
        "각 데이터들에 대한 분포를 시각화했습니다. 이제 각 데이터의 분포가 적절한지를 판단해야 합니다. 특히, 모델의 예측에 강한 영향을 주는 특성(열)이라면 해당 데이터의 분포가 모델의 예측에 직접적인 영향을 줄 수 있습니다."
      ]
    },
    {
      "cell_type": "markdown",
      "metadata": {
        "id": "ZFlOEvUmKSvT"
      },
      "source": [
        "이제 로지스틱 회귀 모델을 통해서 학습해봅시다.\n",
        "\n",
        "우선 전체 데이터에서 별 다른 의미가 없는 Time 열은 제거해줍니다."
      ]
    },
    {
      "cell_type": "code",
      "metadata": {
        "colab": {
          "base_uri": "https://localhost:8080/"
        },
        "id": "WwJesFPyeJ-u",
        "outputId": "2c698d71-1014-42d4-ed45-330ce043b9f9"
      },
      "source": [
        "# 원본 데이터를 복사\n",
        "card_df_copy = card_df.copy()\n",
        "\n",
        "# 아무런 의미없는 Time 열을 제거\n",
        "card_df_copy.drop('Time', axis=1, inplace=True)\n",
        "\n",
        "# 열의 개수 1개 감소\n",
        "print(card_df.shape) "
      ],
      "execution_count": null,
      "outputs": [
        {
          "output_type": "stream",
          "name": "stdout",
          "text": [
            "(284807, 31)\n"
          ]
        }
      ]
    },
    {
      "cell_type": "markdown",
      "metadata": {
        "id": "2QYWgT9NKV0P"
      },
      "source": [
        "의 개수가 32개에서 31개로 줄었습니다. 이제 종속 변수에 해당하는 y열과 독립 변수들에 해당하는 X 데이터를 분리하는 작업을 해줍니다. 이는 Class 열을 분리하면 됩니다."
      ]
    },
    {
      "cell_type": "code",
      "metadata": {
        "colab": {
          "base_uri": "https://localhost:8080/"
        },
        "id": "RCEZVzfafFX4",
        "outputId": "f70b59e8-361c-4cab-a1d1-be369fa7d5a9"
      },
      "source": [
        "# Class 열을 제외한 열만을 뽑아온다.\n",
        "X_data = card_df_copy.iloc[:, :-1]\n",
        "\n",
        "# Class 열만을 뽑아온다.\n",
        "y_data = card_df_copy.iloc[:, -1]\n",
        "\n",
        "# 열의 개수가 1개 감소\n",
        "print(X_data.shape)\n",
        "\n",
        "# 열의 개수가 1개\n",
        "print(y_data.shape)"
      ],
      "execution_count": null,
      "outputs": [
        {
          "output_type": "stream",
          "name": "stdout",
          "text": [
            "(284807, 29)\n",
            "(284807,)\n"
          ]
        }
      ]
    },
    {
      "cell_type": "markdown",
      "metadata": {
        "id": "OJSmixpFKft7"
      },
      "source": [
        "X 데이터는 29개의 열을 가지고, y 데이터는 1개의 열을 가집니다.\n",
        "\n",
        "이제 훈련 데이터와 테스트 데이터를 7:3의 비율로 분리해봅시다.\n",
        "\n",
        "현재 레이블이 굉장히 불균형하기 때문에 분리 후에도\n",
        "\n",
        "훈련 데이터와 테스트 데이터의 레이블 비율이 유지되도록 해줍시다.\n",
        "\n",
        "이는 인자로서 **stratify=y데이터**를 사용하여 가능합니다."
      ]
    },
    {
      "cell_type": "code",
      "metadata": {
        "id": "mBWtwvrBm8Ru"
      },
      "source": [
        "from sklearn.model_selection import train_test_split\n",
        "\n",
        "# X_data와 y_data를 7:3 비율로 분할\n",
        "X_train, X_test, y_train, y_test = train_test_split(X_data, y_data, test_size=0.3, random_state=0, stratify=y_data)"
      ],
      "execution_count": null,
      "outputs": []
    },
    {
      "cell_type": "markdown",
      "metadata": {
        "id": "ZBqmIW-OKhaX"
      },
      "source": [
        "X_train은 훈련 데이터의 독립 변수 데이터\n",
        "\n",
        "y_train은 훈련 데이터의 레이블\n",
        "\n",
        "X_test는 테스트 데이터의 독립 변수 데이터\n",
        "\n",
        "y_test는 테스트 데이터의 레이블에 해당됩니다.\n",
        "\n",
        "데이터 분리 시에 레이블 비율이 유지되도록 해주었으므로\n",
        "\n",
        "훈련 데이터와 테스트 데이터의 레이블 비율이 동등하게 유지되는지 확인해봅시다."
      ]
    },
    {
      "cell_type": "code",
      "metadata": {
        "colab": {
          "base_uri": "https://localhost:8080/"
        },
        "id": "4ajNQn2qnI2M",
        "outputId": "310e8e72-002b-4e3e-90ef-79678bdde914"
      },
      "source": [
        "print('--------훈련 데이터의 비율-----------')\n",
        "print(f'정상 거래 비율 = {round(y_train.value_counts()[0]/len(y_train) * 100,3)}%')\n",
        "print(f'사기 탐지 = {round(y_train.value_counts()[1]/len(y_train) * 100,3)}%')"
      ],
      "execution_count": null,
      "outputs": [
        {
          "output_type": "stream",
          "name": "stdout",
          "text": [
            "--------훈련 데이터의 비율-----------\n",
            "정상 거래 비율 = 99.827%\n",
            "사기 탐지 = 0.173%\n"
          ]
        }
      ]
    },
    {
      "cell_type": "markdown",
      "metadata": {
        "id": "dU4A4EzYKk2z"
      },
      "source": [
        "훈련 데이터에서 레이블이 1인 비중은 0.173%입니다."
      ]
    },
    {
      "cell_type": "code",
      "metadata": {
        "colab": {
          "base_uri": "https://localhost:8080/"
        },
        "id": "P1BDUOWWndQa",
        "outputId": "9056b618-2838-4389-e2a6-072c509363ab"
      },
      "source": [
        "print('--------테스트 데이터의 비율-----------')\n",
        "print(f'정상 거래 비율 = {round(y_test.value_counts()[0]/len(y_test) * 100,3)}%')\n",
        "print(f'사기 탐지 = {round(y_test.value_counts()[1]/len(y_test) * 100,3)}%')"
      ],
      "execution_count": null,
      "outputs": [
        {
          "output_type": "stream",
          "name": "stdout",
          "text": [
            "--------테스트 데이터의 비율-----------\n",
            "정상 거래 비율 = 99.827%\n",
            "사기 탐지 = 0.173%\n"
          ]
        }
      ]
    },
    {
      "cell_type": "markdown",
      "metadata": {
        "id": "dMvV7zsIKmGK"
      },
      "source": [
        "마찬가지로 테스트 데이터에서도 레이블이 1인 비중은 0.173%입니다."
      ]
    },
    {
      "cell_type": "markdown",
      "metadata": {
        "id": "28Mh6G29Kn__"
      },
      "source": [
        "현재 데이터가 레이블이 굉장히 불균형한 상태이기 때문에\n",
        "\n",
        "f1-score를 도입하여 모델을 평가하도록 합니다.\n",
        "\n",
        "사이킷런에서는 precision, recall, f1_score를 이미 함수로서 제공하고 있으므로\n",
        "\n",
        "이를 사용하도록 하고, 여러번 평가를 진행할 것이므로 평가 자체를 위한 함수를 만듭니다."
      ]
    },
    {
      "cell_type": "code",
      "metadata": {
        "id": "79TYB3QeoK0X"
      },
      "source": [
        "from sklearn.metrics import precision_score, recall_score, f1_score, accuracy_score"
      ],
      "execution_count": null,
      "outputs": []
    },
    {
      "cell_type": "code",
      "metadata": {
        "id": "QxY2Ig8Dngmy"
      },
      "source": [
        "def metrics(y_test, pred):\n",
        "  accuracy = accuracy_score(y_test, pred)\n",
        "  precision = precision_score(y_test, pred)\n",
        "  recall = recall_score(y_test, pred)\n",
        "  f1 = f1_score(y_test, pred)\n",
        "  print('정확도 : {0:.4f}, 정밀도 : {1:.4f}, 재현률 : {2:.4f}'.format(accuracy, precision, recall))\n",
        "  print('f1-score : {0:.4f}'.format(f1))"
      ],
      "execution_count": null,
      "outputs": []
    },
    {
      "cell_type": "markdown",
      "metadata": {
        "id": "YVtR1aJnKp-4"
      },
      "source": [
        "이제 분류 문제를 위한 모델인 로지스틱 회귀를 수행합니다."
      ]
    },
    {
      "cell_type": "code",
      "metadata": {
        "id": "oRoI15naUu83"
      },
      "source": [
        "from tensorflow.keras.models import Sequential\n",
        "from tensorflow.keras.layers import Dense, LSTM, Dropout\n",
        "from tensorflow.keras.models import load_model\n",
        "from tensorflow.keras.callbacks import ModelCheckpoint"
      ],
      "execution_count": null,
      "outputs": []
    },
    {
      "cell_type": "code",
      "metadata": {
        "id": "lOc4yl2SU_fX"
      },
      "source": [
        "#모델 구성하기\n",
        "model = Sequential()\n",
        "model.add(Dense(32, input_dim=len(X_train.columns), activation=\"relu\"))\n",
        "model.add(Dense(32,activation=\"relu\"))\n",
        "model.add(Dense(32,activation=\"relu\"))\n",
        "model.add(Dense(1, activation='sigmoid'))"
      ],
      "execution_count": null,
      "outputs": []
    },
    {
      "cell_type": "markdown",
      "metadata": {
        "id": "zudtqv10h39t"
      },
      "source": [
        "딥 러닝을 할 때, Dense열에서 출력층을 제외한 은닉층에서는 일반적으로 relu 함수를 activation 함수로 사용합니다."
      ]
    },
    {
      "cell_type": "markdown",
      "metadata": {
        "id": "edh07eCriCAK"
      },
      "source": [
        "optimizer에서 'sgd'는 경사 하강법이고, 'adam'은 sgd를 좀 더 업그레이드한 버전으로 'sgd'보다 성능이 더 좋다."
      ]
    },
    {
      "cell_type": "code",
      "metadata": {
        "id": "yOOEh4oiVDzG"
      },
      "source": [
        "model.compile(loss='binary_crossentropy', optimizer='adam',  metrics=['acc'])"
      ],
      "execution_count": null,
      "outputs": []
    },
    {
      "cell_type": "code",
      "metadata": {
        "id": "RSo_o9mTYMOu"
      },
      "source": [
        "mc = ModelCheckpoint('best_model.h5', monitor='val_acc', mode='max', verbose=1, save_best_only=True)"
      ],
      "execution_count": null,
      "outputs": []
    },
    {
      "cell_type": "code",
      "metadata": {
        "colab": {
          "base_uri": "https://localhost:8080/"
        },
        "id": "9y9_IaP_VGJr",
        "outputId": "fb16ad9d-4023-4399-eadf-cc5d5d794035"
      },
      "source": [
        "hist = model.fit(X_train, y_train, epochs=10, callbacks=[mc], batch_size=64, validation_data=(X_test, y_test))"
      ],
      "execution_count": null,
      "outputs": [
        {
          "output_type": "stream",
          "name": "stdout",
          "text": [
            "Epoch 1/10\n",
            "3108/3116 [============================>.] - ETA: 0s - loss: 0.0199 - acc: 0.9990\n",
            "Epoch 1: val_acc improved from -inf to 0.99933, saving model to best_model.h5\n",
            "3116/3116 [==============================] - 14s 3ms/step - loss: 0.0198 - acc: 0.9990 - val_loss: 0.0050 - val_acc: 0.9993\n",
            "Epoch 2/10\n",
            "3115/3116 [============================>.] - ETA: 0s - loss: 0.0093 - acc: 0.9992\n",
            "Epoch 2: val_acc did not improve from 0.99933\n",
            "3116/3116 [==============================] - 11s 4ms/step - loss: 0.0093 - acc: 0.9992 - val_loss: 0.0043 - val_acc: 0.9993\n",
            "Epoch 3/10\n",
            "3104/3116 [============================>.] - ETA: 0s - loss: 0.0073 - acc: 0.9992\n",
            "Epoch 3: val_acc did not improve from 0.99933\n",
            "3116/3116 [==============================] - 11s 3ms/step - loss: 0.0072 - acc: 0.9992 - val_loss: 0.0043 - val_acc: 0.9993\n",
            "Epoch 4/10\n",
            "3115/3116 [============================>.] - ETA: 0s - loss: 0.0044 - acc: 0.9994\n",
            "Epoch 4: val_acc improved from 0.99933 to 0.99939, saving model to best_model.h5\n",
            "3116/3116 [==============================] - 11s 3ms/step - loss: 0.0044 - acc: 0.9994 - val_loss: 0.0035 - val_acc: 0.9994\n",
            "Epoch 5/10\n",
            "3107/3116 [============================>.] - ETA: 0s - loss: 0.0047 - acc: 0.9994\n",
            "Epoch 5: val_acc did not improve from 0.99939\n",
            "3116/3116 [==============================] - 11s 4ms/step - loss: 0.0047 - acc: 0.9994 - val_loss: 0.0043 - val_acc: 0.9993\n",
            "Epoch 6/10\n",
            "3107/3116 [============================>.] - ETA: 0s - loss: 0.0037 - acc: 0.9993\n",
            "Epoch 6: val_acc did not improve from 0.99939\n",
            "3116/3116 [==============================] - 11s 4ms/step - loss: 0.0036 - acc: 0.9993 - val_loss: 0.0033 - val_acc: 0.9993\n",
            "Epoch 7/10\n",
            "3113/3116 [============================>.] - ETA: 0s - loss: 0.0031 - acc: 0.9994\n",
            "Epoch 7: val_acc did not improve from 0.99939\n",
            "3116/3116 [==============================] - 11s 4ms/step - loss: 0.0031 - acc: 0.9994 - val_loss: 0.0035 - val_acc: 0.9994\n",
            "Epoch 8/10\n",
            "3115/3116 [============================>.] - ETA: 0s - loss: 0.0033 - acc: 0.9994\n",
            "Epoch 8: val_acc improved from 0.99939 to 0.99945, saving model to best_model.h5\n",
            "3116/3116 [==============================] - 11s 4ms/step - loss: 0.0033 - acc: 0.9994 - val_loss: 0.0030 - val_acc: 0.9994\n",
            "Epoch 9/10\n",
            "3110/3116 [============================>.] - ETA: 0s - loss: 0.0033 - acc: 0.9995\n",
            "Epoch 9: val_acc did not improve from 0.99945\n",
            "3116/3116 [==============================] - 11s 4ms/step - loss: 0.0033 - acc: 0.9995 - val_loss: 0.0032 - val_acc: 0.9993\n",
            "Epoch 10/10\n",
            "3108/3116 [============================>.] - ETA: 0s - loss: 0.0027 - acc: 0.9995\n",
            "Epoch 10: val_acc did not improve from 0.99945\n",
            "3116/3116 [==============================] - 11s 3ms/step - loss: 0.0028 - acc: 0.9995 - val_loss: 0.0346 - val_acc: 0.9931\n"
          ]
        }
      ]
    },
    {
      "cell_type": "code",
      "metadata": {
        "id": "MMlyl4e7YOzy"
      },
      "source": [
        "model = load_model('best_model.h5')"
      ],
      "execution_count": null,
      "outputs": []
    },
    {
      "cell_type": "code",
      "metadata": {
        "id": "gsHYdkboVu34"
      },
      "source": [
        "y_pred = model.predict(X_test)"
      ],
      "execution_count": null,
      "outputs": []
    },
    {
      "cell_type": "code",
      "source": [
        "y_pred[y_pred >= 0.5] = 1\n",
        "y_pred[y_pred < 0.5] = 0"
      ],
      "metadata": {
        "id": "r5o5jMtPNCEd"
      },
      "execution_count": null,
      "outputs": []
    },
    {
      "cell_type": "code",
      "metadata": {
        "colab": {
          "base_uri": "https://localhost:8080/"
        },
        "id": "rqsKssXIWKTO",
        "outputId": "db4c753a-0eaa-4eca-8cdf-0c94a098a93b"
      },
      "source": [
        "y_pred"
      ],
      "execution_count": null,
      "outputs": [
        {
          "output_type": "execute_result",
          "data": {
            "text/plain": [
              "array([[0.],\n",
              "       [0.],\n",
              "       [0.],\n",
              "       ...,\n",
              "       [0.],\n",
              "       [0.],\n",
              "       [0.]], dtype=float32)"
            ]
          },
          "metadata": {},
          "execution_count": 29
        }
      ]
    },
    {
      "cell_type": "code",
      "metadata": {
        "colab": {
          "base_uri": "https://localhost:8080/"
        },
        "id": "t_0NMRvvVuRe",
        "outputId": "60aa7f8b-8f78-4af2-f4cb-f050c0baeb54"
      },
      "source": [
        "metrics(y_test, y_pred)"
      ],
      "execution_count": null,
      "outputs": [
        {
          "output_type": "stream",
          "name": "stdout",
          "text": [
            "정확도 : 0.9994, 정밀도 : 0.9040, 재현률 : 0.7635\n",
            "f1-score : 0.8278\n"
          ]
        }
      ]
    },
    {
      "cell_type": "markdown",
      "metadata": {
        "id": "xxYlMTi4XS_r"
      },
      "source": [
        "다른 머신 러닝 모델들과도 비교해봅시다."
      ]
    },
    {
      "cell_type": "code",
      "metadata": {
        "id": "vgtch4fEqHe-"
      },
      "source": [
        "from sklearn.linear_model import LogisticRegression\n",
        "\n",
        "model = LogisticRegression()\n",
        "model.fit(X_train, y_train)\n",
        "y_pred = model.predict(X_test)"
      ],
      "execution_count": null,
      "outputs": []
    },
    {
      "cell_type": "markdown",
      "metadata": {
        "id": "byv3K1qgKtYa"
      },
      "source": [
        "테스트 데이터의 예측값 상위 5개를 출력해봅시다.\n",
        "\n",
        "상위 5개는 전부 정상 데이터로 예측했습니다."
      ]
    },
    {
      "cell_type": "code",
      "metadata": {
        "colab": {
          "base_uri": "https://localhost:8080/"
        },
        "id": "TPjWnxz1qiOU",
        "outputId": "1a3fe360-4b50-4225-cd11-21dc98a43ac2"
      },
      "source": [
        "y_pred[:5]"
      ],
      "execution_count": null,
      "outputs": [
        {
          "output_type": "execute_result",
          "data": {
            "text/plain": [
              "array([0, 0, 0, 0, 0])"
            ]
          },
          "metadata": {},
          "execution_count": 32
        }
      ]
    },
    {
      "cell_type": "markdown",
      "metadata": {
        "id": "dzlKGWwVKvSz"
      },
      "source": [
        "이제 테스트 데이터에 대해서 이미 만들어둔 metrics 함수를 통해 모델의 성능을 평가합니다."
      ]
    },
    {
      "cell_type": "code",
      "metadata": {
        "colab": {
          "base_uri": "https://localhost:8080/"
        },
        "id": "ecvzySaqsALf",
        "outputId": "6c32c551-1d83-4719-c0a3-67e242db56da"
      },
      "source": [
        "metrics(y_test, y_pred)"
      ],
      "execution_count": null,
      "outputs": [
        {
          "output_type": "stream",
          "name": "stdout",
          "text": [
            "정확도 : 0.9992, 정밀도 : 0.8455, 재현률 : 0.6284\n",
            "f1-score : 0.7209\n"
          ]
        }
      ]
    },
    {
      "cell_type": "markdown",
      "metadata": {
        "id": "N7GqQYNQasB3"
      },
      "source": [
        "---"
      ]
    },
    {
      "cell_type": "markdown",
      "metadata": {
        "id": "G8tUKCAmavA1"
      },
      "source": [
        "아래서부터는 심화 과정입니다. 여기서부터는 교재를 참고해서 더 공부하실 분들은 공부하시면 됩니다. 개요를 살펴봅시다."
      ]
    },
    {
      "cell_type": "markdown",
      "metadata": {
        "id": "zPrkd20OZEk2"
      },
      "source": [
        "# Credit Card Fault Detection ML 구축\n",
        "- 매우 불균형한 데이터. 99%가 정상, 1%정도만 비정상.\n",
        "\n",
        "# 학습목표\n",
        "- 다양한 feature engineering 방식을 변경해본다\n",
        "    - 비대칭 데이터(skewed data)에 대한 분포변경(로그변환)\n",
        "    - 이상치 제거 => 이상치 제거시 알고리즘 효과가 극적으로 좋아지는 경우가 많다.\n",
        "        \n",
        "### 로그변환이란?\n",
        ": 왜곡된 분포를 가진 데이터셋을 비교적 정규분포에 가깝도록 바로 변환해주는 `매우 훌륭한 feature engineering 방식`이다.  \n",
        "    - 데이터가 치우쳐져 있다? => 일단 로그변환을 적용해본다!   \n",
        "    - 로그변환을 하면 왜곡된 분포도를 가진 데이터셋을 쉽게 정규분포의 형태로 변환할 수 있다.\n",
        "    \n",
        "### IQR을 이용한 이상치 제거\n",
        "    - IQR을 가장 쉽고 효과적으로 시각화해주는 것이 바로 boxplot"
      ]
    },
    {
      "cell_type": "markdown",
      "metadata": {
        "id": "HfM3VjURVN_7"
      },
      "source": [
        "---"
      ]
    },
    {
      "cell_type": "markdown",
      "metadata": {
        "id": "_QBg3myUAoKd"
      },
      "source": [
        "데이터를 분석하는데 중요한 역할을 하는 열(Column), 머신 러닝 용어로는 특성(feature)은 제대로 된 예측을 위해 정규 분포를 유지하는 것이 중요합니다. Amount는 신용카드 사용 금액으로 정상/사기 트랜잭션을 예측하는데 매우 중요한 특성입니다. 분포를 확인해봅시다."
      ]
    },
    {
      "cell_type": "code",
      "metadata": {
        "colab": {
          "base_uri": "https://localhost:8080/",
          "height": 297
        },
        "id": "yIh79yFrByVh",
        "outputId": "06569601-620c-47c6-d733-816319ece3c0"
      },
      "source": [
        "plt.figure(figsize=(8, 4))\n",
        "sns.distplot(card_df['Amount'])"
      ],
      "execution_count": null,
      "outputs": [
        {
          "output_type": "execute_result",
          "data": {
            "text/plain": [
              "<matplotlib.axes._subplots.AxesSubplot at 0x7f1860062190>"
            ]
          },
          "metadata": {},
          "execution_count": 34
        },
        {
          "output_type": "display_data",
          "data": {
            "text/plain": [
              "<Figure size 576x288 with 1 Axes>"
            ],
            "image/png": "[encoded data removed]"
          },
          "metadata": {
            "needs_background": "light"
          }
        }
      ]
    },
    {
      "cell_type": "markdown",
      "metadata": {
        "id": "9wgfPcugAS1p"
      },
      "source": [
        "카드 사용금액이 1000불 이하인 데이터가 대부분이며, 27000불까지는 드물지만 데이터가 존재하면서 꼬리가 매우 긴 형태의 분포를 보입니다. 이렇게 데이터의 분포가 커지면 머신 러닝 모델 예측에 악영향을 줄 수 있습니다. 이렇게 분포가 고르지 않을 경우에는 대게 데이터 정규화라는 과정을 거칩니다. 정규화에는 몇 가지 방법이 존재하는데, 여기서는 이 중 사이킷런의 StandardScaler를 사용합니다."
      ]
    },
    {
      "cell_type": "code",
      "metadata": {
        "id": "iJs5VsNnsQ8F"
      },
      "source": [
        "from sklearn.preprocessing import StandardScaler\n",
        "\n",
        "standard_card_df_copy = card_df.copy()\n",
        "scaler = StandardScaler()\n",
        "amount_n = scaler.fit_transform(standard_card_df_copy['Amount'].values.reshape(-1, 1))\n",
        "# 변환된 Amount를 Amount_Scaled로 피처명 변경후 DataFrame맨 앞 컬럼으로 입력\n",
        "standard_card_df_copy.insert(0, 'Amount_Scaled', amount_n)\n",
        "# 기존 Time, Amount 피처 삭제\n",
        "standard_card_df_copy.drop(['Time','Amount'], axis=1, inplace=True)"
      ],
      "execution_count": null,
      "outputs": []
    },
    {
      "cell_type": "code",
      "metadata": {
        "colab": {
          "base_uri": "https://localhost:8080/",
          "height": 236
        },
        "id": "J763_Xz_skhk",
        "outputId": "1c29f466-7864-4099-c4dd-351b4c44b32d"
      },
      "source": [
        "standard_card_df_copy.head()"
      ],
      "execution_count": null,
      "outputs": [
        {
          "output_type": "execute_result",
          "data": {
            "text/plain": [
              "   Amount_Scaled        V1        V2        V3        V4        V5        V6  \\\n",
              "0       0.244964 -1.359807 -0.072781  2.536347  1.378155 -0.338321  0.462388   \n",
              "1      -0.342475  1.191857  0.266151  0.166480  0.448154  0.060018 -0.082361   \n",
              "2       1.160686 -1.358354 -1.340163  1.773209  0.379780 -0.503198  1.800499   \n",
              "3       0.140534 -0.966272 -0.185226  1.792993 -0.863291 -0.010309  1.247203   \n",
              "4      -0.073403 -1.158233  0.877737  1.548718  0.403034 -0.407193  0.095921   \n",
              "\n",
              "         V7        V8        V9  ...       V20       V21       V22       V23  \\\n",
              "0  0.239599  0.098698  0.363787  ...  0.251412 -0.018307  0.277838 -0.110474   \n",
              "1 -0.078803  0.085102 -0.255425  ... -0.069083 -0.225775 -0.638672  0.101288   \n",
              "2  0.791461  0.247676 -1.514654  ...  0.524980  0.247998  0.771679  0.909412   \n",
              "3  0.237609  0.377436 -1.387024  ... -0.208038 -0.108300  0.005274 -0.190321   \n",
              "4  0.592941 -0.270533  0.817739  ...  0.408542 -0.009431  0.798278 -0.137458   \n",
              "\n",
              "        V24       V25       V26       V27       V28  Class  \n",
              "0  0.066928  0.128539 -0.189115  0.133558 -0.021053      0  \n",
              "1 -0.339846  0.167170  0.125895 -0.008983  0.014724      0  \n",
              "2 -0.689281 -0.327642 -0.139097 -0.055353 -0.059752      0  \n",
              "3 -1.175575  0.647376 -0.221929  0.062723  0.061458      0  \n",
              "4  0.141267 -0.206010  0.502292  0.219422  0.215153      0  \n",
              "\n",
              "[5 rows x 30 columns]"
            ],
            "text/html": [
              "\n",
              "  <div id=\"df-a6bdc24d-c9b3-4195-8aac-59eb83feec08\">\n",
              "    <div class=\"colab-df-container\">\n",
              "      <div>\n",
              "<style scoped>\n",
              "    .dataframe tbody tr th:only-of-type {\n",
              "        vertical-align: middle;\n",
              "    }\n",
              "\n",
              "    .dataframe tbody tr th {\n",
              "        vertical-align: top;\n",
              "    }\n",
              "\n",
              "    .dataframe thead th {\n",
              "        text-align: right;\n",
              "    }\n",
              "</style>\n",
              "<table border=\"1\" class=\"dataframe\">\n",
              "  <thead>\n",
              "    <tr style=\"text-align: right;\">\n",
              "      <th></th>\n",
              "      <th>Amount_Scaled</th>\n",
              "      <th>V1</th>\n",
              "      <th>V2</th>\n",
              "      <th>V3</th>\n",
              "      <th>V4</th>\n",
              "      <th>V5</th>\n",
              "      <th>V6</th>\n",
              "      <th>V7</th>\n",
              "      <th>V8</th>\n",
              "      <th>V9</th>\n",
              "      <th>...</th>\n",
              "      <th>V20</th>\n",
              "      <th>V21</th>\n",
              "      <th>V22</th>\n",
              "      <th>V23</th>\n",
              "      <th>V24</th>\n",
              "      <th>V25</th>\n",
              "      <th>V26</th>\n",
              "      <th>V27</th>\n",
              "      <th>V28</th>\n",
              "      <th>Class</th>\n",
              "    </tr>\n",
              "  </thead>\n",
              "  <tbody>\n",
              "    <tr>\n",
              "      <th>0</th>\n",
              "      <td>0.244964</td>\n",
              "      <td>-1.359807</td>\n",
              "      <td>-0.072781</td>\n",
              "      <td>2.536347</td>\n",
              "      <td>1.378155</td>\n",
              "      <td>-0.338321</td>\n",
              "      <td>0.462388</td>\n",
              "      <td>0.239599</td>\n",
              "      <td>0.098698</td>\n",
              "      <td>0.363787</td>\n",
              "      <td>...</td>\n",
              "      <td>0.251412</td>\n",
              "      <td>-0.018307</td>\n",
              "      <td>0.277838</td>\n",
              "      <td>-0.110474</td>\n",
              "      <td>0.066928</td>\n",
              "      <td>0.128539</td>\n",
              "      <td>-0.189115</td>\n",
              "      <td>0.133558</td>\n",
              "      <td>-0.021053</td>\n",
              "      <td>0</td>\n",
              "    </tr>\n",
              "    <tr>\n",
              "      <th>1</th>\n",
              "      <td>-0.342475</td>\n",
              "      <td>1.191857</td>\n",
              "      <td>0.266151</td>\n",
              "      <td>0.166480</td>\n",
              "      <td>0.448154</td>\n",
              "      <td>0.060018</td>\n",
              "      <td>-0.082361</td>\n",
              "      <td>-0.078803</td>\n",
              "      <td>0.085102</td>\n",
              "      <td>-0.255425</td>\n",
              "      <td>...</td>\n",
              "      <td>-0.069083</td>\n",
              "      <td>-0.225775</td>\n",
              "      <td>-0.638672</td>\n",
              "      <td>0.101288</td>\n",
              "      <td>-0.339846</td>\n",
              "      <td>0.167170</td>\n",
              "      <td>0.125895</td>\n",
              "      <td>-0.008983</td>\n",
              "      <td>0.014724</td>\n",
              "      <td>0</td>\n",
              "    </tr>\n",
              "    <tr>\n",
              "      <th>2</th>\n",
              "      <td>1.160686</td>\n",
              "      <td>-1.358354</td>\n",
              "      <td>-1.340163</td>\n",
              "      <td>1.773209</td>\n",
              "      <td>0.379780</td>\n",
              "      <td>-0.503198</td>\n",
              "      <td>1.800499</td>\n",
              "      <td>0.791461</td>\n",
              "      <td>0.247676</td>\n",
              "      <td>-1.514654</td>\n",
              "      <td>...</td>\n",
              "      <td>0.524980</td>\n",
              "      <td>0.247998</td>\n",
              "      <td>0.771679</td>\n",
              "      <td>0.909412</td>\n",
              "      <td>-0.689281</td>\n",
              "      <td>-0.327642</td>\n",
              "      <td>-0.139097</td>\n",
              "      <td>-0.055353</td>\n",
              "      <td>-0.059752</td>\n",
              "      <td>0</td>\n",
              "    </tr>\n",
              "    <tr>\n",
              "      <th>3</th>\n",
              "      <td>0.140534</td>\n",
              "      <td>-0.966272</td>\n",
              "      <td>-0.185226</td>\n",
              "      <td>1.792993</td>\n",
              "      <td>-0.863291</td>\n",
              "      <td>-0.010309</td>\n",
              "      <td>1.247203</td>\n",
              "      <td>0.237609</td>\n",
              "      <td>0.377436</td>\n",
              "      <td>-1.387024</td>\n",
              "      <td>...</td>\n",
              "      <td>-0.208038</td>\n",
              "      <td>-0.108300</td>\n",
              "      <td>0.005274</td>\n",
              "      <td>-0.190321</td>\n",
              "      <td>-1.175575</td>\n",
              "      <td>0.647376</td>\n",
              "      <td>-0.221929</td>\n",
              "      <td>0.062723</td>\n",
              "      <td>0.061458</td>\n",
              "      <td>0</td>\n",
              "    </tr>\n",
              "    <tr>\n",
              "      <th>4</th>\n",
              "      <td>-0.073403</td>\n",
              "      <td>-1.158233</td>\n",
              "      <td>0.877737</td>\n",
              "      <td>1.548718</td>\n",
              "      <td>0.403034</td>\n",
              "      <td>-0.407193</td>\n",
              "      <td>0.095921</td>\n",
              "      <td>0.592941</td>\n",
              "      <td>-0.270533</td>\n",
              "      <td>0.817739</td>\n",
              "      <td>...</td>\n",
              "      <td>0.408542</td>\n",
              "      <td>-0.009431</td>\n",
              "      <td>0.798278</td>\n",
              "      <td>-0.137458</td>\n",
              "      <td>0.141267</td>\n",
              "      <td>-0.206010</td>\n",
              "      <td>0.502292</td>\n",
              "      <td>0.219422</td>\n",
              "      <td>0.215153</td>\n",
              "      <td>0</td>\n",
              "    </tr>\n",
              "  </tbody>\n",
              "</table>\n",
              "<p>5 rows × 30 columns</p>\n",
              "</div>\n",
              "      <button class=\"colab-df-convert\" onclick=\"convertToInteractive('df-a6bdc24d-c9b3-4195-8aac-59eb83feec08')\"\n",
              "              title=\"Convert this dataframe to an interactive table.\"\n",
              "              style=\"display:none;\">\n",
              "        \n",
              "  <svg xmlns=\"http://www.w3.org/2000/svg\" height=\"24px\"viewBox=\"0 0 24 24\"\n",
              "       width=\"24px\">\n",
              "    <path d=\"M0 0h24v24H0V0z\" fill=\"none\"/>\n",
              "    <path d=\"M18.56 5.44l.94 2.06.94-2.06 2.06-.94-2.06-.94-.94-2.06-.94 2.06-2.06.94zm-11 1L8.5 8.5l.94-2.06 2.06-.94-2.06-.94L8.5 2.5l-.94 2.06-2.06.94zm10 10l.94 2.06.94-2.06 2.06-.94-2.06-.94-.94-2.06-.94 2.06-2.06.94z\"/><path d=\"M17.41 7.96l-1.37-1.37c-.4-.4-.92-.59-1.43-.59-.52 0-1.04.2-1.43.59L10.3 9.45l-7.72 7.72c-.78.78-.78 2.05 0 2.83L4 21.41c.39.39.9.59 1.41.59.51 0 1.02-.2 1.41-.59l7.78-7.78 2.81-2.81c.8-.78.8-2.07 0-2.86zM5.41 20L4 18.59l7.72-7.72 1.47 1.35L5.41 20z\"/>\n",
              "  </svg>\n",
              "      </button>\n",
              "      \n",
              "  <style>\n",
              "    .colab-df-container {\n",
              "      display:flex;\n",
              "      flex-wrap:wrap;\n",
              "      gap: 12px;\n",
              "    }\n",
              "\n",
              "    .colab-df-convert {\n",
              "      background-color: #E8F0FE;\n",
              "      border: none;\n",
              "      border-radius: 50%;\n",
              "      cursor: pointer;\n",
              "      display: none;\n",
              "      fill: #1967D2;\n",
              "      height: 32px;\n",
              "      padding: 0 0 0 0;\n",
              "      width: 32px;\n",
              "    }\n",
              "\n",
              "    .colab-df-convert:hover {\n",
              "      background-color: #E2EBFA;\n",
              "      box-shadow: 0px 1px 2px rgba(60, 64, 67, 0.3), 0px 1px 3px 1px rgba(60, 64, 67, 0.15);\n",
              "      fill: #174EA6;\n",
              "    }\n",
              "\n",
              "    [theme=dark] .colab-df-convert {\n",
              "      background-color: #3B4455;\n",
              "      fill: #D2E3FC;\n",
              "    }\n",
              "\n",
              "    [theme=dark] .colab-df-convert:hover {\n",
              "      background-color: #434B5C;\n",
              "      box-shadow: 0px 1px 3px 1px rgba(0, 0, 0, 0.15);\n",
              "      filter: drop-shadow(0px 1px 2px rgba(0, 0, 0, 0.3));\n",
              "      fill: #FFFFFF;\n",
              "    }\n",
              "  </style>\n",
              "\n",
              "      <script>\n",
              "        const buttonEl =\n",
              "          document.querySelector('#df-a6bdc24d-c9b3-4195-8aac-59eb83feec08 button.colab-df-convert');\n",
              "        buttonEl.style.display =\n",
              "          google.colab.kernel.accessAllowed ? 'block' : 'none';\n",
              "\n",
              "        async function convertToInteractive(key) {\n",
              "          const element = document.querySelector('#df-a6bdc24d-c9b3-4195-8aac-59eb83feec08');\n",
              "          const dataTable =\n",
              "            await google.colab.kernel.invokeFunction('convertToInteractive',\n",
              "                                                     [key], {});\n",
              "          if (!dataTable) return;\n",
              "\n",
              "          const docLinkHtml = 'Like what you see? Visit the ' +\n",
              "            '<a target=\"_blank\" href=https://colab.research.google.com/notebooks/data_table.ipynb>data table notebook</a>'\n",
              "            + ' to learn more about interactive tables.';\n",
              "          element.innerHTML = '';\n",
              "          dataTable['output_type'] = 'display_data';\n",
              "          await google.colab.output.renderOutput(dataTable, element);\n",
              "          const docLink = document.createElement('div');\n",
              "          docLink.innerHTML = docLinkHtml;\n",
              "          element.appendChild(docLink);\n",
              "        }\n",
              "      </script>\n",
              "    </div>\n",
              "  </div>\n",
              "  "
            ]
          },
          "metadata": {},
          "execution_count": 36
        }
      ]
    },
    {
      "cell_type": "code",
      "metadata": {
        "colab": {
          "base_uri": "https://localhost:8080/",
          "height": 298
        },
        "id": "JcQ1bXBPBTt_",
        "outputId": "eb88b813-7721-4a74-9db9-12e4211f865e"
      },
      "source": [
        "plt.figure(figsize=(8, 4))\n",
        "sns.distplot(standard_card_df_copy['Amount_Scaled'])"
      ],
      "execution_count": null,
      "outputs": [
        {
          "output_type": "execute_result",
          "data": {
            "text/plain": [
              "<matplotlib.axes._subplots.AxesSubplot at 0x7f17d6262210>"
            ]
          },
          "metadata": {},
          "execution_count": 37
        },
        {
          "output_type": "display_data",
          "data": {
            "text/plain": [
              "<Figure size 576x288 with 1 Axes>"
            ],
            "image/png": "[encoded data removed]"
          },
          "metadata": {
            "needs_background": "light"
          }
        }
      ]
    },
    {
      "cell_type": "markdown",
      "metadata": {
        "id": "XZ26ZeeNC9tz"
      },
      "source": [
        "데이터의 분포가 0~25000까지 크게 펼쳐져 있던 것에서 많이 개선되었습니다."
      ]
    },
    {
      "cell_type": "code",
      "metadata": {
        "colab": {
          "base_uri": "https://localhost:8080/"
        },
        "id": "F9fBXTAlsxIy",
        "outputId": "c4acad05-772a-443f-daa8-c0ecaba8a383"
      },
      "source": [
        "# Class 열을 제외한 열만을 뽑아온다.\n",
        "X_data = standard_card_df_copy.iloc[:, :-1]\n",
        "\n",
        "# Class 열만을 뽑아온다.\n",
        "y_data = standard_card_df_copy.iloc[:, -1]\n",
        "\n",
        "# 열의 개수가 1개 감소\n",
        "print(X_data.shape)\n",
        "\n",
        "# 열의 개수가 1개\n",
        "print(y_data.shape)"
      ],
      "execution_count": null,
      "outputs": [
        {
          "output_type": "stream",
          "name": "stdout",
          "text": [
            "(284807, 29)\n",
            "(284807,)\n"
          ]
        }
      ]
    },
    {
      "cell_type": "code",
      "metadata": {
        "id": "2EFkWqSLtBPr"
      },
      "source": [
        "# X_data와 y_data를 7:3 비율로 분할\n",
        "X_train, X_test, y_train, y_test = train_test_split(X_data, y_data, test_size=0.3, random_state=0, stratify=y_data)"
      ],
      "execution_count": null,
      "outputs": []
    },
    {
      "cell_type": "code",
      "metadata": {
        "id": "B791i-xnsmXd"
      },
      "source": [
        "model = LogisticRegression()\n",
        "model.fit(X_train, y_train)\n",
        "y_pred = model.predict(X_test)"
      ],
      "execution_count": null,
      "outputs": []
    },
    {
      "cell_type": "code",
      "metadata": {
        "colab": {
          "base_uri": "https://localhost:8080/"
        },
        "id": "QLNOIh0RtD3k",
        "outputId": "24587da8-3974-4f84-8d72-4ea540aa6557"
      },
      "source": [
        "metrics(y_test, y_pred)"
      ],
      "execution_count": null,
      "outputs": [
        {
          "output_type": "stream",
          "name": "stdout",
          "text": [
            "정확도 : 0.9992, 정밀도 : 0.8654, 재현률 : 0.6081\n",
            "f1-score : 0.7143\n"
          ]
        }
      ]
    },
    {
      "cell_type": "markdown",
      "metadata": {
        "id": "4bD4ld_-Tcer"
      },
      "source": [
        "성능에 변화가 생겼습니다. 어떤 정규화 방법이 더 좋은 성능을 얻을지는 상황과 데이터에 따라서 다릅니다."
      ]
    },
    {
      "cell_type": "markdown",
      "metadata": {
        "id": "X3_DMZJDUHYD"
      },
      "source": [
        "이번에는 데이터 분포도가 심각하게 왜곡되어 있을 경우 사용하는 방법인 로그 변환으로 진행해봅시다."
      ]
    },
    {
      "cell_type": "code",
      "metadata": {
        "id": "_Md-wUOnUJ7q"
      },
      "source": [
        "log_card_df_copy = card_df.copy()\n",
        "amount_n = np.log1p(log_card_df_copy['Amount'])\n",
        "log_card_df_copy.insert(0, 'Amount_Scaled', amount_n) # 추가\n",
        "log_card_df_copy.drop(['Time','Amount'], axis=1, inplace=True) # 제거"
      ],
      "execution_count": null,
      "outputs": []
    },
    {
      "cell_type": "code",
      "metadata": {
        "colab": {
          "base_uri": "https://localhost:8080/",
          "height": 299
        },
        "id": "mFQMLmz1UkzT",
        "outputId": "7b4b6966-8f8a-4dce-8f5b-f4f67be5895c"
      },
      "source": [
        "plt.figure(figsize=(8, 4))\n",
        "sns.distplot(log_card_df_copy['Amount_Scaled'])"
      ],
      "execution_count": null,
      "outputs": [
        {
          "output_type": "execute_result",
          "data": {
            "text/plain": [
              "<matplotlib.axes._subplots.AxesSubplot at 0x7f18c96f1610>"
            ]
          },
          "metadata": {},
          "execution_count": 43
        },
        {
          "output_type": "display_data",
          "data": {
            "text/plain": [
              "<Figure size 576x288 with 1 Axes>"
            ],
            "image/png": "[encoded data removed]"
          },
          "metadata": {
            "needs_background": "light"
          }
        }
      ]
    },
    {
      "cell_type": "markdown",
      "metadata": {
        "id": "d6Mps0tKUpcf"
      },
      "source": [
        "분포도가 확연하게 바뀐 것을 확인할 수 있습니다. 해당 데이터로 로지스틱 회귀를 진행해봅시다."
      ]
    },
    {
      "cell_type": "code",
      "metadata": {
        "colab": {
          "base_uri": "https://localhost:8080/"
        },
        "id": "p9kDsZixUrog",
        "outputId": "dd86d814-5d0f-43ff-ebaf-5ebb2e3be3f6"
      },
      "source": [
        "# Class 열을 제외한 열만을 뽑아온다.\n",
        "X_data = log_card_df_copy.iloc[:, :-1]\n",
        "\n",
        "# Class 열만을 뽑아온다.\n",
        "y_data = log_card_df_copy.iloc[:, -1]\n",
        "\n",
        "# 열의 개수가 1개 감소\n",
        "print(X_data.shape)\n",
        "\n",
        "# 열의 개수가 1개\n",
        "print(y_data.shape)"
      ],
      "execution_count": null,
      "outputs": [
        {
          "output_type": "stream",
          "name": "stdout",
          "text": [
            "(284807, 29)\n",
            "(284807,)\n"
          ]
        }
      ]
    },
    {
      "cell_type": "code",
      "metadata": {
        "id": "PMiCjfAOUyoN"
      },
      "source": [
        "# X_data와 y_data를 7:3 비율로 분할\n",
        "X_train, X_test, y_train, y_test = train_test_split(X_data, y_data, test_size=0.3, random_state=0, stratify=y_data)"
      ],
      "execution_count": null,
      "outputs": []
    },
    {
      "cell_type": "code",
      "metadata": {
        "id": "GzFjXIabU0q7"
      },
      "source": [
        "model = LogisticRegression()\n",
        "model.fit(X_train, y_train)\n",
        "y_pred = model.predict(X_test)"
      ],
      "execution_count": null,
      "outputs": []
    },
    {
      "cell_type": "code",
      "metadata": {
        "colab": {
          "base_uri": "https://localhost:8080/"
        },
        "id": "-5Jc74-TU17Y",
        "outputId": "485ca0b3-dd92-44f8-a732-1b5a848fef72"
      },
      "source": [
        "metrics(y_test, y_pred)"
      ],
      "execution_count": null,
      "outputs": [
        {
          "output_type": "stream",
          "name": "stdout",
          "text": [
            "정확도 : 0.9992, 정밀도 : 0.8812, 재현률 : 0.6014\n",
            "f1-score : 0.7149\n"
          ]
        }
      ]
    },
    {
      "cell_type": "markdown",
      "metadata": {
        "id": "b6SbMzDzU5ij"
      },
      "source": [
        "StandardScaler를 사용했을 때와는 다른 성능을 얻었습니다. "
      ]
    },
    {
      "cell_type": "markdown",
      "metadata": {
        "id": "oGz_vZ6RDwzD"
      },
      "source": [
        "이상치 데이터(Outlier, 아웃라이어)는 전체 데이터의 일반적인 패턴과는 다른 양상을 보이는 데이터입니다. 일반적이지 않은 패턴이기 때문에 머신 러닝 예측 성능에 영향을 줄 수 있는 요소가 됩니다. 여전히 많은 데이터 사이언티스들이 이상치 탐지를 위한 연구를 진행해오고 있습니다.  \n",
        "\n",
        "이상치 탐지 방법 중에서는 IRQ(Inter Qunatile Range) 방법이  있습니다. IRQ는 데이터의 사분위 값(Quantile)의 편차를 이용합니다. 사분위란 무엇일까요?  \n",
        "\n",
        "사분위는 전체 데이터들을 오름차순으로 정렬하고, 정확히 4등분(25%, 50%, 75%, 100%)으로 나눕니다. 여기서 75% 지점의 값과 25% 지점의 값의 차이를 IQR이라고 합니다. 이 IQR에 1.5를 곱해서 75% 지점의 값에 더하면 최댓값, 25% 지점의 값에서 빼면 최솟값으로 결정합니다. 이 때, 결정된 최댓값보다 크거나 최솟값보다 작은 값을 이상치 라고 간주합니다. 이 1.5라는 값은 사용자의 판단에 따라서 다른 값을 사용할 수도 있지만, 일반적으로는 1.5를 사용합니다."
      ]
    },
    {
      "cell_type": "markdown",
      "metadata": {
        "id": "VEnmj1zJNxR1"
      },
      "source": [
        "이제 이상치를 제거할 특성을 골라야 합니다. 모든 특성에 대해서 이상치를 제거하는 것은 시간적으로도 비효율적이고, 결과적으로 효과적이지도 않습니다. 레이블과 상관도가 높은 특성을 위주로 이상치를 제거하는 것이 좋습니다. 이러한 특성을 고르기 위해서 상관 분석을 진행해봅시다."
      ]
    },
    {
      "cell_type": "code",
      "metadata": {
        "colab": {
          "base_uri": "https://localhost:8080/",
          "height": 643
        },
        "id": "xcQjvo8AuRpe",
        "outputId": "3d4fb8b1-e9e2-4a65-e42c-fd5f6dbfeb2e"
      },
      "source": [
        "plt.figure(figsize=(15,10))\n",
        "sns.heatmap(card_df.corr(), annot = True, fmt = '.1f')"
      ],
      "execution_count": null,
      "outputs": [
        {
          "output_type": "execute_result",
          "data": {
            "text/plain": [
              "<matplotlib.axes._subplots.AxesSubplot at 0x7f18c9849550>"
            ]
          },
          "metadata": {},
          "execution_count": 48
        },
        {
          "output_type": "display_data",
          "data": {
            "text/plain": [
              "<Figure size 1080x720 with 2 Axes>"
            ],
            "image/png": "[encoded data removed]"
          },
          "metadata": {
            "needs_background": "light"
          }
        }
      ]
    },
    {
      "cell_type": "markdown",
      "metadata": {
        "id": "yCvi5d16ORZ0"
      },
      "source": [
        "Class와 가장 상관관계가 높은 특성은 무엇인가요? V12, V14, V17이 -0.3으로 가장 음의 상관도가 높습니다. 여기서는 V14를 임의로 고르고 V14에 대한 이상치를 제거하는 방향으로 진행해봅시다."
      ]
    },
    {
      "cell_type": "code",
      "metadata": {
        "id": "NwsxXyQ1uWfO"
      },
      "source": [
        "import numpy as np\n",
        "\n",
        "def remove_outlier(df, column):\n",
        "    fraud = df[df['Class']==1][column]\n",
        "    quantile_25 = np.percentile(fraud.values, 25)\n",
        "    quantile_75 = np.percentile(fraud.values, 75)\n",
        "\n",
        "    # IQR에 1.5를 곱한다.\n",
        "    iqr = quantile_75 - quantile_25\n",
        "    iqr_weight = iqr * 1.5\n",
        "\n",
        "    # 최댓갑과 최솟값 연산.\n",
        "    lowest_val = quantile_25 - iqr_weight\n",
        "    highest_val = quantile_75 + iqr_weight\n",
        "\n",
        "    # 아웃라이어 필터링 후 아웃라이어에 해당되는 인덱스 리턴\n",
        "    outlier_index = fraud[(fraud < lowest_val) | (fraud > highest_val)].index\n",
        "    return outlier_index"
      ],
      "execution_count": null,
      "outputs": []
    },
    {
      "cell_type": "code",
      "metadata": {
        "colab": {
          "base_uri": "https://localhost:8080/"
        },
        "id": "6JX0yaCzukru",
        "outputId": "0745d5c9-6029-48db-8477-42c9b2ab8c43"
      },
      "source": [
        "outlier_index = remove_outlier(df=card_df, column='V14')\n",
        "print('이상치 샘플의 인덱스:', outlier_index)"
      ],
      "execution_count": null,
      "outputs": [
        {
          "output_type": "stream",
          "name": "stdout",
          "text": [
            "이상치 샘플의 인덱스: Int64Index([8296, 8615, 9035, 9252], dtype='int64')\n"
          ]
        }
      ]
    },
    {
      "cell_type": "markdown",
      "metadata": {
        "id": "na7foqmsTg7Z"
      },
      "source": [
        "총 4개의 데이터가 이상치 데이터로 뽑혔습니다. 이번에는 정규화 + 이상치 데이터 검출을 진행한 데이터로 평가해봅시다."
      ]
    },
    {
      "cell_type": "code",
      "metadata": {
        "id": "7YXc9YBKVWJJ"
      },
      "source": [
        "outlier_index = remove_outlier(df=standard_card_df_copy, column='V14')\n",
        "standard_card_df_copy.drop(outlier_index, axis=0, inplace=True)"
      ],
      "execution_count": null,
      "outputs": []
    },
    {
      "cell_type": "code",
      "metadata": {
        "colab": {
          "base_uri": "https://localhost:8080/"
        },
        "id": "VSS41SAAVlwy",
        "outputId": "4c16ac22-2cfd-4ed5-b782-3f418b56a7bb"
      },
      "source": [
        "len(standard_card_df_copy)"
      ],
      "execution_count": null,
      "outputs": [
        {
          "output_type": "execute_result",
          "data": {
            "text/plain": [
              "284803"
            ]
          },
          "metadata": {},
          "execution_count": 52
        }
      ]
    },
    {
      "cell_type": "markdown",
      "metadata": {
        "id": "OmIpeIGLVqDa"
      },
      "source": [
        "기존에는 284807의 샘플수였으나 현재 4개가 감소된 284803의 데이터를 가진다."
      ]
    },
    {
      "cell_type": "code",
      "metadata": {
        "colab": {
          "base_uri": "https://localhost:8080/"
        },
        "id": "yvf7SCj6V6VZ",
        "outputId": "d69f642a-352f-457c-9d92-a4c67ee905d4"
      },
      "source": [
        "# Class 열을 제외한 열만을 뽑아온다.\n",
        "X_data = standard_card_df_copy.iloc[:, :-1]\n",
        "\n",
        "# Class 열만을 뽑아온다.\n",
        "y_data = standard_card_df_copy.iloc[:, -1]\n",
        "\n",
        "# 열의 개수가 1개 감소\n",
        "print(X_data.shape)\n",
        "\n",
        "# 열의 개수가 1개\n",
        "print(y_data.shape)"
      ],
      "execution_count": null,
      "outputs": [
        {
          "output_type": "stream",
          "name": "stdout",
          "text": [
            "(284803, 29)\n",
            "(284803,)\n"
          ]
        }
      ]
    },
    {
      "cell_type": "code",
      "metadata": {
        "id": "i8SXZg4fVt0s"
      },
      "source": [
        "# X_data와 y_data를 7:3 비율로 분할\n",
        "X_train, X_test, y_train, y_test = train_test_split(X_data, y_data, test_size=0.3, random_state=0, stratify=y_data)"
      ],
      "execution_count": null,
      "outputs": []
    },
    {
      "cell_type": "code",
      "metadata": {
        "id": "S5dK2tG-Vw0Y"
      },
      "source": [
        "model = LogisticRegression()\n",
        "model.fit(X_train, y_train)\n",
        "y_pred = model.predict(X_test)"
      ],
      "execution_count": null,
      "outputs": []
    },
    {
      "cell_type": "code",
      "metadata": {
        "colab": {
          "base_uri": "https://localhost:8080/"
        },
        "id": "DHoOc2FnVyTG",
        "outputId": "ab6a4a10-78e8-49ef-aee2-416eac7f53b0"
      },
      "source": [
        "metrics(y_test, y_pred)"
      ],
      "execution_count": null,
      "outputs": [
        {
          "output_type": "stream",
          "name": "stdout",
          "text": [
            "정확도 : 0.9993, 정밀도 : 0.8596, 재현률 : 0.6712\n",
            "f1-score : 0.7538\n"
          ]
        }
      ]
    },
    {
      "cell_type": "markdown",
      "metadata": {
        "id": "CxLwtEaIzzMP"
      },
      "source": [
        "재현률과 f1 score가 상승하였습니다."
      ]
    },
    {
      "cell_type": "code",
      "metadata": {
        "id": "fqi8RMvfZ32n"
      },
      "source": [
        "#모델 구성하기\n",
        "model = Sequential()\n",
        "model.add(Dense(32,input_dim=len(X_train.columns) ,activation=\"relu\"))\n",
        "model.add(Dropout(0.3))\n",
        "for i in range(2):\n",
        "    model.add(Dense(32,activation=\"relu\"))\n",
        "    model.add(Dropout(0.3))\n",
        "model.add(Dense(1, kernel_initializer='uniform', activation='sigmoid'))"
      ],
      "execution_count": null,
      "outputs": []
    },
    {
      "cell_type": "code",
      "metadata": {
        "id": "N96QWce3Z6dx"
      },
      "source": [
        "model.compile(loss='binary_crossentropy', optimizer='adam',  metrics=['acc'])"
      ],
      "execution_count": null,
      "outputs": []
    },
    {
      "cell_type": "code",
      "metadata": {
        "id": "hWQgd3Q3Z80W"
      },
      "source": [
        "mc = ModelCheckpoint('best_model.h5', monitor='val_acc', mode='max', verbose=1, save_best_only=True)"
      ],
      "execution_count": null,
      "outputs": []
    },
    {
      "cell_type": "code",
      "metadata": {
        "colab": {
          "base_uri": "https://localhost:8080/"
        },
        "id": "BLRUWGvyZ-7e",
        "outputId": "29ca08c3-0dbb-45e5-ef76-25d78bd39910"
      },
      "source": [
        "hist = model.fit(X_train, y_train, epochs=10, callbacks=[mc], batch_size=64, validation_data=(X_test, y_test))"
      ],
      "execution_count": null,
      "outputs": [
        {
          "output_type": "stream",
          "name": "stdout",
          "text": [
            "Epoch 1/10\n",
            "3106/3116 [============================>.] - ETA: 0s - loss: 0.0176 - acc: 0.9975\n",
            "Epoch 1: val_acc improved from -inf to 0.99945, saving model to best_model.h5\n",
            "3116/3116 [==============================] - 17s 5ms/step - loss: 0.0175 - acc: 0.9975 - val_loss: 0.0036 - val_acc: 0.9994\n",
            "Epoch 2/10\n",
            "3108/3116 [============================>.] - ETA: 0s - loss: 0.0047 - acc: 0.9990\n",
            "Epoch 2: val_acc did not improve from 0.99945\n",
            "3116/3116 [==============================] - 18s 6ms/step - loss: 0.0047 - acc: 0.9990 - val_loss: 0.0033 - val_acc: 0.9994\n",
            "Epoch 3/10\n",
            "3116/3116 [==============================] - ETA: 0s - loss: 0.0042 - acc: 0.9993\n",
            "Epoch 3: val_acc did not improve from 0.99945\n",
            "3116/3116 [==============================] - 18s 6ms/step - loss: 0.0042 - acc: 0.9993 - val_loss: 0.0031 - val_acc: 0.9994\n",
            "Epoch 4/10\n",
            "3111/3116 [============================>.] - ETA: 0s - loss: 0.0038 - acc: 0.9993\n",
            "Epoch 4: val_acc improved from 0.99945 to 0.99950, saving model to best_model.h5\n",
            "3116/3116 [==============================] - 16s 5ms/step - loss: 0.0038 - acc: 0.9993 - val_loss: 0.0030 - val_acc: 0.9995\n",
            "Epoch 5/10\n",
            "3116/3116 [==============================] - ETA: 0s - loss: 0.0035 - acc: 0.9994\n",
            "Epoch 5: val_acc did not improve from 0.99950\n",
            "3116/3116 [==============================] - 17s 5ms/step - loss: 0.0035 - acc: 0.9994 - val_loss: 0.0029 - val_acc: 0.9995\n",
            "Epoch 6/10\n",
            "3116/3116 [==============================] - ETA: 0s - loss: 0.0032 - acc: 0.9994\n",
            "Epoch 6: val_acc did not improve from 0.99950\n",
            "3116/3116 [==============================] - 18s 6ms/step - loss: 0.0032 - acc: 0.9994 - val_loss: 0.0033 - val_acc: 0.9994\n",
            "Epoch 7/10\n",
            "3113/3116 [============================>.] - ETA: 0s - loss: 0.0034 - acc: 0.9994\n",
            "Epoch 7: val_acc did not improve from 0.99950\n",
            "3116/3116 [==============================] - 16s 5ms/step - loss: 0.0034 - acc: 0.9994 - val_loss: 0.0029 - val_acc: 0.9994\n",
            "Epoch 8/10\n",
            "3107/3116 [============================>.] - ETA: 0s - loss: 0.0033 - acc: 0.9994\n",
            "Epoch 8: val_acc did not improve from 0.99950\n",
            "3116/3116 [==============================] - 18s 6ms/step - loss: 0.0032 - acc: 0.9994 - val_loss: 0.0032 - val_acc: 0.9995\n",
            "Epoch 9/10\n",
            "3114/3116 [============================>.] - ETA: 0s - loss: 0.0030 - acc: 0.9994\n",
            "Epoch 9: val_acc did not improve from 0.99950\n",
            "3116/3116 [==============================] - 16s 5ms/step - loss: 0.0030 - acc: 0.9994 - val_loss: 0.0037 - val_acc: 0.9995\n",
            "Epoch 10/10\n",
            "3115/3116 [============================>.] - ETA: 0s - loss: 0.0032 - acc: 0.9994\n",
            "Epoch 10: val_acc did not improve from 0.99950\n",
            "3116/3116 [==============================] - 18s 6ms/step - loss: 0.0032 - acc: 0.9994 - val_loss: 0.0034 - val_acc: 0.9994\n"
          ]
        }
      ]
    },
    {
      "cell_type": "code",
      "metadata": {
        "id": "SnA2mRkMaBNu"
      },
      "source": [
        "model = load_model('best_model.h5')"
      ],
      "execution_count": null,
      "outputs": []
    },
    {
      "cell_type": "code",
      "metadata": {
        "id": "Uy-O9H6laEE8"
      },
      "source": [
        "y_pred = model.predict(X_test)"
      ],
      "execution_count": null,
      "outputs": []
    },
    {
      "cell_type": "code",
      "source": [
        "y_pred[y_pred >= 0.5] = 1\n",
        "y_pred[y_pred < 0.5] = 0"
      ],
      "metadata": {
        "id": "Vm5uqI_0OwU6"
      },
      "execution_count": null,
      "outputs": []
    },
    {
      "cell_type": "code",
      "metadata": {
        "colab": {
          "base_uri": "https://localhost:8080/"
        },
        "id": "2RNcgVQDaGVP",
        "outputId": "47bd15db-0d4e-4cd4-f8f5-eac878f1af14"
      },
      "source": [
        "y_pred"
      ],
      "execution_count": null,
      "outputs": [
        {
          "output_type": "execute_result",
          "data": {
            "text/plain": [
              "array([[0.],\n",
              "       [0.],\n",
              "       [0.],\n",
              "       ...,\n",
              "       [0.],\n",
              "       [0.],\n",
              "       [0.]], dtype=float32)"
            ]
          },
          "metadata": {},
          "execution_count": 64
        }
      ]
    },
    {
      "cell_type": "code",
      "metadata": {
        "colab": {
          "base_uri": "https://localhost:8080/"
        },
        "id": "bkj1c-j8aHGr",
        "outputId": "a3d85ef9-932f-44fe-9efe-a1621b341a91"
      },
      "source": [
        "metrics(y_test, y_pred)"
      ],
      "execution_count": null,
      "outputs": [
        {
          "output_type": "stream",
          "name": "stdout",
          "text": [
            "정확도 : 0.9995, 정밀도 : 0.8931, 재현률 : 0.8014\n",
            "f1-score : 0.8448\n"
          ]
        }
      ]
    }
  ]
}